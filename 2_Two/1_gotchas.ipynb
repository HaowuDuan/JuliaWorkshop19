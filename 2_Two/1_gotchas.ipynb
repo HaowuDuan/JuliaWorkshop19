{
 "cells": [
  {
   "cell_type": "markdown",
   "metadata": {},
   "source": [
    "# Julia *gotchas* and how to handle them\n",
    "(Inspired by http://www.stochasticlifestyle.com/7-julia-gotchas-handle/ by Chris Rackauckas.)"
   ]
  },
  {
   "cell_type": "markdown",
   "metadata": {},
   "source": [
    "**One can write terribly slow code in any language, including Julia.**\n",
    "\n",
    "Below we address common performance *gotchas* in Julia code."
   ]
  },
  {
   "cell_type": "markdown",
   "metadata": {},
   "source": [
    "# Gotcha 1: Global scope"
   ]
  },
  {
   "cell_type": "code",
   "execution_count": 15,
   "metadata": {},
   "outputs": [
    {
     "name": "stdout",
     "output_type": "stream",
     "text": [
      "answer = 7.0\n"
     ]
    }
   ],
   "source": [
    "a=2.0\n",
    "b=3.0\n",
    "function linearcombo()\n",
    "  return 2a+b\n",
    "end\n",
    "answer = linearcombo()\n",
    "\n",
    "@show answer;"
   ]
  },
  {
   "cell_type": "markdown",
   "metadata": {},
   "source": [
    "The issue here is that the REPL/global scope does not guarantee that `a` and `b` are of a certain type."
   ]
  },
  {
   "cell_type": "code",
   "execution_count": 28,
   "metadata": {},
   "outputs": [
    {
     "name": "stdout",
     "output_type": "stream",
     "text": [
      "\n",
      ";  @ In[15]:4 within `linearcombo'\n",
      "; Function Attrs: uwtable\n",
      "define nonnull %jl_value_t addrspace(10)* @japi1_linearcombo_14063(%jl_value_t addrspace(10)*, %jl_value_t addrspace(10)**, i32) #0 {\n",
      "top:\n",
      "  %3 = alloca %jl_value_t addrspace(10)*, i32 3\n",
      "  %gcframe = alloca %jl_value_t addrspace(10)*, i32 4\n",
      "  %4 = bitcast %jl_value_t addrspace(10)** %gcframe to i8*\n",
      "  call void @llvm.memset.p0i8.i32(i8* %4, i8 0, i32 32, i32 0, i1 false)\n",
      "  %5 = alloca %jl_value_t addrspace(10)**, align 8\n",
      "  store volatile %jl_value_t addrspace(10)** %1, %jl_value_t addrspace(10)*** %5, align 8\n",
      "  %6 = call %jl_value_t*** inttoptr (i64 18155952000 to %jl_value_t*** ()*)() #3\n",
      "  %7 = getelementptr %jl_value_t addrspace(10)*, %jl_value_t addrspace(10)** %gcframe, i32 0\n",
      "  %8 = bitcast %jl_value_t addrspace(10)** %7 to i64*\n",
      "  store i64 4, i64* %8\n",
      "  %9 = getelementptr %jl_value_t**, %jl_value_t*** %6, i32 0\n",
      "  %10 = getelementptr %jl_value_t addrspace(10)*, %jl_value_t addrspace(10)** %gcframe, i32 1\n",
      "  %11 = bitcast %jl_value_t addrspace(10)** %10 to %jl_value_t***\n",
      "  %12 = load %jl_value_t**, %jl_value_t*** %9\n",
      "  store %jl_value_t** %12, %jl_value_t*** %11\n",
      "  %13 = bitcast %jl_value_t*** %9 to %jl_value_t addrspace(10)***\n",
      "  store %jl_value_t addrspace(10)** %gcframe, %jl_value_t addrspace(10)*** %13\n",
      "  %14 = load %jl_value_t addrspace(10)*, %jl_value_t addrspace(10)** inttoptr (i64 127750296 to %jl_value_t addrspace(10)**), align 8\n",
      "  %15 = getelementptr %jl_value_t addrspace(10)*, %jl_value_t addrspace(10)** %gcframe, i32 2\n",
      "  store %jl_value_t addrspace(10)* %14, %jl_value_t addrspace(10)** %15\n",
      "  %16 = getelementptr %jl_value_t addrspace(10)*, %jl_value_t addrspace(10)** %3, i32 0\n",
      "  store %jl_value_t addrspace(10)* addrspacecast (%jl_value_t* inttoptr (i64 21697944384 to %jl_value_t*) to %jl_value_t addrspace(10)*), %jl_value_t addrspace(10)** %16\n",
      "  %17 = getelementptr %jl_value_t addrspace(10)*, %jl_value_t addrspace(10)** %3, i32 1\n",
      "  store %jl_value_t addrspace(10)* addrspacecast (%jl_value_t* inttoptr (i64 72584816 to %jl_value_t*) to %jl_value_t addrspace(10)*), %jl_value_t addrspace(10)** %17\n",
      "  %18 = getelementptr %jl_value_t addrspace(10)*, %jl_value_t addrspace(10)** %3, i32 2\n",
      "  store %jl_value_t addrspace(10)* %14, %jl_value_t addrspace(10)** %18\n",
      "  %19 = call nonnull %jl_value_t addrspace(10)* @jl_apply_generic(%jl_value_t addrspace(10)** %3, i32 3)\n",
      "  %20 = load %jl_value_t addrspace(10)*, %jl_value_t addrspace(10)** inttoptr (i64 127750440 to %jl_value_t addrspace(10)**), align 8\n",
      "  %21 = getelementptr %jl_value_t addrspace(10)*, %jl_value_t addrspace(10)** %gcframe, i32 3\n",
      "  store %jl_value_t addrspace(10)* %19, %jl_value_t addrspace(10)** %21\n",
      "  %22 = getelementptr %jl_value_t addrspace(10)*, %jl_value_t addrspace(10)** %gcframe, i32 2\n",
      "  store %jl_value_t addrspace(10)* %20, %jl_value_t addrspace(10)** %22\n",
      "  %23 = getelementptr %jl_value_t addrspace(10)*, %jl_value_t addrspace(10)** %3, i32 0\n",
      "  store %jl_value_t addrspace(10)* addrspacecast (%jl_value_t* inttoptr (i64 21697839088 to %jl_value_t*) to %jl_value_t addrspace(10)*), %jl_value_t addrspace(10)** %23\n",
      "  %24 = getelementptr %jl_value_t addrspace(10)*, %jl_value_t addrspace(10)** %3, i32 1\n",
      "  store %jl_value_t addrspace(10)* %19, %jl_value_t addrspace(10)** %24\n",
      "  %25 = getelementptr %jl_value_t addrspace(10)*, %jl_value_t addrspace(10)** %3, i32 2\n",
      "  store %jl_value_t addrspace(10)* %20, %jl_value_t addrspace(10)** %25\n",
      "  %26 = call nonnull %jl_value_t addrspace(10)* @jl_apply_generic(%jl_value_t addrspace(10)** %3, i32 3)\n",
      "  %27 = getelementptr %jl_value_t addrspace(10)*, %jl_value_t addrspace(10)** %gcframe, i32 1\n",
      "  %28 = load %jl_value_t addrspace(10)*, %jl_value_t addrspace(10)** %27\n",
      "  %29 = getelementptr %jl_value_t**, %jl_value_t*** %6, i32 0\n",
      "  %30 = bitcast %jl_value_t*** %29 to %jl_value_t addrspace(10)**\n",
      "  store %jl_value_t addrspace(10)* %28, %jl_value_t addrspace(10)** %30\n",
      "  ret %jl_value_t addrspace(10)* %26\n",
      "}\n"
     ]
    }
   ],
   "source": [
    "@code_llvm linearcombo()"
   ]
  },
  {
   "cell_type": "markdown",
   "metadata": {},
   "source": [
    "### How to identify and avoid this issue?"
   ]
  },
  {
   "cell_type": "markdown",
   "metadata": {},
   "source": [
    "One way to identify the issue is [Traceur.jl](https://github.com/MikeInnes/Traceur.jl). It is basically a codified version of the [performance tips](https://docs.julialang.org/en/v0.6.4/manual/performance-tips/#man-performance-tips-1) in the Julia documentation."
   ]
  },
  {
   "cell_type": "code",
   "execution_count": 18,
   "metadata": {},
   "outputs": [
    {
     "name": "stderr",
     "output_type": "stream",
     "text": [
      "┌ Warning: uses global variable Main.a\n",
      "└ @ In[15]:4\n",
      "┌ Warning: uses global variable Main.b\n",
      "└ @ In[15]:4\n",
      "┌ Warning: dynamic dispatch to 2 * Main.a\n",
      "└ @ In[15]:4\n",
      "┌ Warning: dynamic dispatch to 2 * Main.a + Main.b\n",
      "└ @ In[15]:4\n",
      "┌ Warning: linearcombo returns Any\n",
      "└ @ In[15]:4\n"
     ]
    },
    {
     "data": {
      "text/plain": [
       "7.0"
      ]
     },
     "execution_count": 18,
     "metadata": {},
     "output_type": "execute_result"
    }
   ],
   "source": [
    "using Traceur\n",
    "@trace linearcombo()"
   ]
  },
  {
   "cell_type": "markdown",
   "metadata": {},
   "source": [
    "#### 1) Wrap code in functions."
   ]
  },
  {
   "cell_type": "code",
   "execution_count": 19,
   "metadata": {},
   "outputs": [
    {
     "name": "stdout",
     "output_type": "stream",
     "text": [
      "answer = 7.0\n"
     ]
    }
   ],
   "source": [
    "function outer()\n",
    "    a=2.0; b=3.0\n",
    "    function linearcombo()\n",
    "      return 2a+b\n",
    "    end\n",
    "    return linearcombo() \n",
    "end\n",
    "\n",
    "answer = outer()\n",
    "\n",
    "@show answer;"
   ]
  },
  {
   "cell_type": "code",
   "execution_count": 27,
   "metadata": {},
   "outputs": [
    {
     "name": "stdout",
     "output_type": "stream",
     "text": [
      "\n",
      ";  @ In[19]:2 within `outer'\n",
      "; Function Attrs: uwtable\n",
      "define double @julia_outer_14072() #0 {\n",
      "top:\n",
      "  ret double 7.000000e+00\n",
      "}\n"
     ]
    }
   ],
   "source": [
    "@code_llvm outer()"
   ]
  },
  {
   "cell_type": "markdown",
   "metadata": {},
   "source": [
    "This is fast.\n",
    "\n",
    "In fact, it's not just fast, but as fast as it can be! Julia has figured out the result of the calculation at compile-time and returns **just the result (a literal)!**\n",
    "\n",
    "(Effectively, `outer() = 7` at run-time.)"
   ]
  },
  {
   "cell_type": "code",
   "execution_count": 21,
   "metadata": {},
   "outputs": [
    {
     "data": {
      "text/plain": [
       "7.0"
      ]
     },
     "execution_count": 21,
     "metadata": {},
     "output_type": "execute_result"
    }
   ],
   "source": [
    "@trace outer()"
   ]
  },
  {
   "cell_type": "markdown",
   "metadata": {},
   "source": [
    "#### 2) Declare globals as (compile-time) constants."
   ]
  },
  {
   "cell_type": "code",
   "execution_count": 29,
   "metadata": {},
   "outputs": [
    {
     "name": "stdout",
     "output_type": "stream",
     "text": [
      "answer = 7.0\n"
     ]
    }
   ],
   "source": [
    "const A=2.0\n",
    "const B=3.0\n",
    "\n",
    "function Linearcombo()\n",
    "  return 2A+B\n",
    "end\n",
    "answer = Linearcombo()\n",
    "\n",
    "@show answer;"
   ]
  },
  {
   "cell_type": "code",
   "execution_count": 30,
   "metadata": {},
   "outputs": [
    {
     "name": "stdout",
     "output_type": "stream",
     "text": [
      "\n",
      ";  @ In[29]:5 within `Linearcombo'\n",
      "; Function Attrs: uwtable\n",
      "define double @julia_Linearcombo_14171() #0 {\n",
      "top:\n",
      "  ret double 7.000000e+00\n",
      "}\n"
     ]
    }
   ],
   "source": [
    "@code_llvm Linearcombo()"
   ]
  },
  {
   "cell_type": "code",
   "execution_count": 31,
   "metadata": {},
   "outputs": [
    {
     "data": {
      "text/plain": [
       "7.0"
      ]
     },
     "execution_count": 31,
     "metadata": {},
     "output_type": "execute_result"
    }
   ],
   "source": [
    "@trace Linearcombo()"
   ]
  },
  {
   "cell_type": "markdown",
   "metadata": {},
   "source": [
    "Note that the constants above are only compile-time constants, which can be modified:"
   ]
  },
  {
   "cell_type": "code",
   "execution_count": 33,
   "metadata": {},
   "outputs": [
    {
     "name": "stderr",
     "output_type": "stream",
     "text": [
      "WARNING: redefining constant A\n"
     ]
    },
    {
     "data": {
      "text/plain": [
       "1.0"
      ]
     },
     "execution_count": 33,
     "metadata": {},
     "output_type": "execute_result"
    }
   ],
   "source": [
    "const A=1.0"
   ]
  },
  {
   "cell_type": "code",
   "execution_count": 35,
   "metadata": {},
   "outputs": [
    {
     "data": {
      "text/plain": [
       "7.0"
      ]
     },
     "execution_count": 35,
     "metadata": {},
     "output_type": "execute_result"
    }
   ],
   "source": [
    "Linearcombo() # still returns 7, not 5"
   ]
  },
  {
   "cell_type": "markdown",
   "metadata": {},
   "source": [
    "#### Take home message: Always wrap a performance critical piece of code in a self-contained function."
   ]
  },
  {
   "cell_type": "markdown",
   "metadata": {},
   "source": [
    "# Gotcha 2: Type-instabilities"
   ]
  },
  {
   "cell_type": "markdown",
   "metadata": {},
   "source": [
    "What's bad for performance about the following function?"
   ]
  },
  {
   "cell_type": "code",
   "execution_count": 48,
   "metadata": {},
   "outputs": [
    {
     "data": {
      "text/plain": [
       "g (generic function with 1 method)"
      ]
     },
     "execution_count": 48,
     "metadata": {},
     "output_type": "execute_result"
    }
   ],
   "source": [
    "function g()\n",
    "  x=1\n",
    "  for i = 1:10\n",
    "    x = x/2\n",
    "  end\n",
    "  return x\n",
    "end"
   ]
  },
  {
   "cell_type": "code",
   "execution_count": 49,
   "metadata": {},
   "outputs": [
    {
     "name": "stdout",
     "output_type": "stream",
     "text": [
      "\n",
      ";  @ In[48]:2 within `g'\n",
      "; Function Attrs: uwtable\n",
      "define double @julia_g_14541() #0 {\n",
      "top:\n",
      ";  @ In[48]:3 within `g'\n",
      "  br label %L2\n",
      "\n",
      "L2:                                               ; preds = %top, %L29\n",
      "  %0 = phi double [ 4.940660e-324, %top ], [ %value_phi1, %L29 ]\n",
      "  %.sroa.012.0 = phi i64 [ 1, %top ], [ %4, %L29 ]\n",
      "  %tindex_phi = phi i2 [ -2, %top ], [ 1, %L29 ]\n",
      "  %value_phi = phi i64 [ 1, %top ], [ %3, %L29 ]\n",
      ";  @ In[48]:4 within `g'\n",
      "  switch i2 %tindex_phi, label %L17 [\n",
      "    i2 -2, label %L6\n",
      "    i2 1, label %L19\n",
      "  ]\n",
      "\n",
      "L6:                                               ; preds = %L2\n",
      "; ┌ @ int.jl:59 within `/'\n",
      "; │┌ @ float.jl:271 within `float'\n",
      "; ││┌ @ float.jl:256 within `Type' @ float.jl:60\n",
      "     %1 = sitofp i64 %.sroa.012.0 to double\n",
      "; └└└\n",
      "  br label %L19\n",
      "\n",
      "L17:                                              ; preds = %L2\n",
      "  call void @jl_throw(%jl_value_t addrspace(12)* addrspacecast (%jl_value_t* inttoptr (i64 21670182432 to %jl_value_t*) to %jl_value_t addrspace(12)*))\n",
      "  unreachable\n",
      "\n",
      "L19:                                              ; preds = %L2, %L6\n",
      "  %value_phi1.in = phi double [ %1, %L6 ], [ %0, %L2 ]\n",
      "; ┌ @ int.jl:59 within `/' @ float.jl:401\n",
      "   %value_phi1 = fmul double %value_phi1.in, 5.000000e-01\n",
      "; └\n",
      "; ┌ @ range.jl:594 within `iterate'\n",
      "; │┌ @ promotion.jl:403 within `=='\n",
      "    %2 = icmp eq i64 %value_phi, 10\n",
      "; └└\n",
      "  br i1 %2, label %L25.L30_crit_edge, label %L29\n",
      "\n",
      "L25.L30_crit_edge:                                ; preds = %L19\n",
      ";  @ In[48]:6 within `g'\n",
      "  ret double %value_phi1\n",
      "\n",
      "L29:                                              ; preds = %L19\n",
      ";  @ In[48]:4 within `g'\n",
      "; ┌ @ range.jl:595 within `iterate'\n",
      "; │┌ @ int.jl:53 within `+'\n",
      "    %3 = add i64 %value_phi, 1\n",
      "; └└\n",
      "  %4 = bitcast double %value_phi1 to i64\n",
      "  br label %L2\n",
      "}\n"
     ]
    }
   ],
   "source": [
    "@code_llvm g()"
   ]
  },
  {
   "cell_type": "markdown",
   "metadata": {},
   "source": [
    "A more drastic example"
   ]
  },
  {
   "cell_type": "code",
   "execution_count": 61,
   "metadata": {},
   "outputs": [
    {
     "data": {
      "text/plain": [
       "f (generic function with 1 method)"
      ]
     },
     "execution_count": 61,
     "metadata": {},
     "output_type": "execute_result"
    }
   ],
   "source": [
    "f() = rand([1.0, 2, \"3\"])"
   ]
  },
  {
   "cell_type": "code",
   "execution_count": 62,
   "metadata": {},
   "outputs": [
    {
     "name": "stdout",
     "output_type": "stream",
     "text": [
      "\n",
      ";  @ In[61]:1 within `f'\n",
      "; Function Attrs: uwtable\n",
      "define nonnull %jl_value_t addrspace(10)* @japi1_f_15308(%jl_value_t addrspace(10)*, %jl_value_t addrspace(10)**, i32) #0 {\n",
      "top:\n",
      "  %3 = alloca %jl_value_t addrspace(10)*, i32 2\n",
      "  %gcframe = alloca %jl_value_t addrspace(10)*, i32 4\n",
      "  %4 = bitcast %jl_value_t addrspace(10)** %gcframe to i8*\n",
      "  call void @llvm.memset.p0i8.i32(i8* %4, i8 0, i32 32, i32 0, i1 false)\n",
      "  %5 = alloca %jl_value_t addrspace(10)**, align 8\n",
      "  store volatile %jl_value_t addrspace(10)** %1, %jl_value_t addrspace(10)*** %5, align 8\n",
      "  %6 = alloca { i64, i64, i64, i64 }, align 8\n",
      "  %7 = call %jl_value_t*** inttoptr (i64 18155952000 to %jl_value_t*** ()*)() #7\n",
      "  %8 = getelementptr %jl_value_t addrspace(10)*, %jl_value_t addrspace(10)** %gcframe, i32 0\n",
      "  %9 = bitcast %jl_value_t addrspace(10)** %8 to i64*\n",
      "  store i64 4, i64* %9\n",
      "  %10 = getelementptr %jl_value_t**, %jl_value_t*** %7, i32 0\n",
      "  %11 = getelementptr %jl_value_t addrspace(10)*, %jl_value_t addrspace(10)** %gcframe, i32 1\n",
      "  %12 = bitcast %jl_value_t addrspace(10)** %11 to %jl_value_t***\n",
      "  %13 = load %jl_value_t**, %jl_value_t*** %10\n",
      "  store %jl_value_t** %13, %jl_value_t*** %12\n",
      "  %14 = bitcast %jl_value_t*** %10 to %jl_value_t addrspace(10)***\n",
      "  store %jl_value_t addrspace(10)** %gcframe, %jl_value_t addrspace(10)*** %14\n",
      "  %15 = bitcast %jl_value_t*** %7 to i8*\n",
      "  %16 = call noalias nonnull %jl_value_t addrspace(10)* @jl_gc_pool_alloc(i8* %15, i32 1760, i32 32) #1\n",
      "  %17 = bitcast %jl_value_t addrspace(10)* %16 to %jl_value_t addrspace(10)* addrspace(10)*\n",
      "  %18 = getelementptr %jl_value_t addrspace(10)*, %jl_value_t addrspace(10)* addrspace(10)* %17, i64 -1\n",
      "  store %jl_value_t addrspace(10)* addrspacecast (%jl_value_t* inttoptr (i64 98642672 to %jl_value_t*) to %jl_value_t addrspace(10)*), %jl_value_t addrspace(10)* addrspace(10)* %18\n",
      "  %19 = addrspacecast %jl_value_t addrspace(10)* %16 to %jl_value_t addrspace(11)*\n",
      "  %20 = bitcast %jl_value_t addrspace(10)* %16 to double addrspace(10)*\n",
      "  store double 1.000000e+00, double addrspace(10)* %20, align 8\n",
      "  %21 = bitcast %jl_value_t addrspace(11)* %19 to i8 addrspace(11)*\n",
      "  %22 = getelementptr inbounds i8, i8 addrspace(11)* %21, i64 8\n",
      "  %23 = bitcast i8 addrspace(11)* %22 to i64 addrspace(11)*\n",
      "  store i64 2, i64 addrspace(11)* %23, align 8\n",
      "  %24 = getelementptr inbounds i8, i8 addrspace(11)* %21, i64 16\n",
      "  %25 = bitcast i8 addrspace(11)* %24 to %jl_value_t addrspace(10)* addrspace(11)*\n",
      "  store %jl_value_t addrspace(10)* addrspacecast (%jl_value_t* inttoptr (i64 139587312 to %jl_value_t*) to %jl_value_t addrspace(10)*), %jl_value_t addrspace(10)* addrspace(11)* %25, align 8\n",
      "  %26 = getelementptr %jl_value_t addrspace(10)*, %jl_value_t addrspace(10)** %gcframe, i32 2\n",
      "  store %jl_value_t addrspace(10)* %16, %jl_value_t addrspace(10)** %26\n",
      "; ┌ @ array.jl:151 within `vect'\n",
      "; │┌ @ boot.jl:402 within `Type'\n",
      "    %27 = call %jl_value_t addrspace(10)* inttoptr (i64 18155770656 to %jl_value_t addrspace(10)* (%jl_value_t addrspace(10)*, i64)*)(%jl_value_t addrspace(10)* addrspacecast (%jl_value_t* inttoptr (i64 96669760 to %jl_value_t*) to %jl_value_t addrspace(10)*), i64 3)\n",
      "    %28 = getelementptr %jl_value_t addrspace(10)*, %jl_value_t addrspace(10)** %gcframe, i32 3\n",
      "    store %jl_value_t addrspace(10)* %27, %jl_value_t addrspace(10)** %28\n",
      "; │└\n",
      "   %29 = getelementptr %jl_value_t addrspace(10)*, %jl_value_t addrspace(10)** %3, i32 0\n",
      "   store %jl_value_t addrspace(10)* %27, %jl_value_t addrspace(10)** %29\n",
      "   %30 = getelementptr %jl_value_t addrspace(10)*, %jl_value_t addrspace(10)** %3, i32 1\n",
      "   store %jl_value_t addrspace(10)* %16, %jl_value_t addrspace(10)** %30\n",
      "   %31 = call nonnull %jl_value_t addrspace(10)* @\"japi1_copyto!_15303\"(%jl_value_t addrspace(10)* addrspacecast (%jl_value_t* inttoptr (i64 21716427872 to %jl_value_t*) to %jl_value_t addrspace(10)*), %jl_value_t addrspace(10)** %3, i32 2)\n",
      "; └\n",
      "; ┌ @ C:\\cygwin\\home\\Administrator\\buildbot\\worker\\package_win64\\build\\usr\\share\\julia\\stdlib\\v1.1\\Random\\src\\Random.jl:224 within `rand' @ C:\\cygwin\\home\\Administrator\\buildbot\\worker\\package_win64\\build\\usr\\share\\julia\\stdlib\\v1.1\\Random\\src\\Random.jl:219\n",
      "; │┌ @ C:\\cygwin\\home\\Administrator\\buildbot\\worker\\package_win64\\build\\usr\\share\\julia\\stdlib\\v1.1\\Random\\src\\Random.jl:129 within `Type' @ C:\\cygwin\\home\\Administrator\\buildbot\\worker\\package_win64\\build\\usr\\share\\julia\\stdlib\\v1.1\\Random\\src\\generation.jl:342\n",
      "; ││┌ @ abstractarray.jl:249 within `lastindex'\n",
      "; │││┌ @ abstractarray.jl:214 within `eachindex'\n",
      "; ││││┌ @ abstractarray.jl:93 within `axes1'\n",
      "; │││││┌ @ abstractarray.jl:75 within `axes'\n",
      "; ││││││┌ @ array.jl:155 within `size'\n",
      "         %32 = addrspacecast %jl_value_t addrspace(10)* %31 to %jl_value_t addrspace(11)*\n",
      "         %33 = bitcast %jl_value_t addrspace(11)* %32 to %jl_value_t addrspace(10)* addrspace(11)*\n",
      "         %34 = getelementptr inbounds %jl_value_t addrspace(10)*, %jl_value_t addrspace(10)* addrspace(11)* %33, i64 3\n",
      "         %35 = bitcast %jl_value_t addrspace(10)* addrspace(11)* %34 to i64 addrspace(11)*\n",
      "         %36 = load i64, i64 addrspace(11)* %35, align 8\n",
      "; ││││││└\n",
      "; ││││││┌ @ tuple.jl:165 within `map'\n",
      "; │││││││┌ @ range.jl:317 within `Type' @ range.jl:308\n",
      "; ││││││││┌ @ promotion.jl:414 within `max'\n",
      "           %37 = icmp sgt i64 %36, 0\n",
      "; ││└└└└└└└\n",
      "; ││ @ C:\\cygwin\\home\\Administrator\\buildbot\\worker\\package_win64\\build\\usr\\share\\julia\\stdlib\\v1.1\\Random\\src\\Random.jl:129 within `Type' @ C:\\cygwin\\home\\Administrator\\buildbot\\worker\\package_win64\\build\\usr\\share\\julia\\stdlib\\v1.1\\Random\\src\\generation.jl:342 @ C:\\cygwin\\home\\Administrator\\buildbot\\worker\\package_win64\\build\\usr\\share\\julia\\stdlib\\v1.1\\Random\\src\\RNGs.jl:551 @ C:\\cygwin\\home\\Administrator\\buildbot\\worker\\package_win64\\build\\usr\\share\\julia\\stdlib\\v1.1\\Random\\src\\generation.jl:192 @ C:\\cygwin\\home\\Administrator\\buildbot\\worker\\package_win64\\build\\usr\\share\\julia\\stdlib\\v1.1\\Random\\src\\generation.jl:196\n",
      "    br i1 %37, label %L16, label %L13\n",
      "\n",
      "L13:                                              ; preds = %top\n",
      "; ││ @ C:\\cygwin\\home\\Administrator\\buildbot\\worker\\package_win64\\build\\usr\\share\\julia\\stdlib\\v1.1\\Random\\src\\Random.jl:129 within `Type' @ C:\\cygwin\\home\\Administrator\\buildbot\\worker\\package_win64\\build\\usr\\share\\julia\\stdlib\\v1.1\\Random\\src\\generation.jl:342 @ C:\\cygwin\\home\\Administrator\\buildbot\\worker\\package_win64\\build\\usr\\share\\julia\\stdlib\\v1.1\\Random\\src\\RNGs.jl:551 @ C:\\cygwin\\home\\Administrator\\buildbot\\worker\\package_win64\\build\\usr\\share\\julia\\stdlib\\v1.1\\Random\\src\\generation.jl:192 @ C:\\cygwin\\home\\Administrator\\buildbot\\worker\\package_win64\\build\\usr\\share\\julia\\stdlib\\v1.1\\Random\\src\\generation.jl:196 @ boot.jl:285\n",
      "    %38 = call noalias nonnull %jl_value_t addrspace(10)* @jl_gc_pool_alloc(i8* %15, i32 1736, i32 16) #1\n",
      "    %39 = bitcast %jl_value_t addrspace(10)* %38 to %jl_value_t addrspace(10)* addrspace(10)*\n",
      "    %40 = getelementptr %jl_value_t addrspace(10)*, %jl_value_t addrspace(10)* addrspace(10)* %39, i64 -1\n",
      "    store %jl_value_t addrspace(10)* addrspacecast (%jl_value_t* inttoptr (i64 21670506000 to %jl_value_t*) to %jl_value_t addrspace(10)*), %jl_value_t addrspace(10)* addrspace(10)* %40\n",
      "    %41 = bitcast %jl_value_t addrspace(10)* %38 to %jl_value_t addrspace(10)* addrspace(10)*\n",
      "    store %jl_value_t addrspace(10)* addrspacecast (%jl_value_t* inttoptr (i64 21683042208 to %jl_value_t*) to %jl_value_t addrspace(10)*), %jl_value_t addrspace(10)* addrspace(10)* %41, align 8\n",
      "; ││ @ C:\\cygwin\\home\\Administrator\\buildbot\\worker\\package_win64\\build\\usr\\share\\julia\\stdlib\\v1.1\\Random\\src\\Random.jl:129 within `Type' @ C:\\cygwin\\home\\Administrator\\buildbot\\worker\\package_win64\\build\\usr\\share\\julia\\stdlib\\v1.1\\Random\\src\\generation.jl:342 @ C:\\cygwin\\home\\Administrator\\buildbot\\worker\\package_win64\\build\\usr\\share\\julia\\stdlib\\v1.1\\Random\\src\\RNGs.jl:551 @ C:\\cygwin\\home\\Administrator\\buildbot\\worker\\package_win64\\build\\usr\\share\\julia\\stdlib\\v1.1\\Random\\src\\generation.jl:192 @ C:\\cygwin\\home\\Administrator\\buildbot\\worker\\package_win64\\build\\usr\\share\\julia\\stdlib\\v1.1\\Random\\src\\generation.jl:196\n",
      "    %42 = addrspacecast %jl_value_t addrspace(10)* %38 to %jl_value_t addrspace(12)*\n",
      "    %43 = getelementptr %jl_value_t addrspace(10)*, %jl_value_t addrspace(10)** %gcframe, i32 2\n",
      "    store %jl_value_t addrspace(10)* %38, %jl_value_t addrspace(10)** %43\n",
      "    call void @jl_throw(%jl_value_t addrspace(12)* %42)\n",
      "    unreachable\n",
      "\n",
      "L16:                                              ; preds = %top\n",
      "; ││ @ C:\\cygwin\\home\\Administrator\\buildbot\\worker\\package_win64\\build\\usr\\share\\julia\\stdlib\\v1.1\\Random\\src\\Random.jl:129 within `Type' @ C:\\cygwin\\home\\Administrator\\buildbot\\worker\\package_win64\\build\\usr\\share\\julia\\stdlib\\v1.1\\Random\\src\\generation.jl:342 @ C:\\cygwin\\home\\Administrator\\buildbot\\worker\\package_win64\\build\\usr\\share\\julia\\stdlib\\v1.1\\Random\\src\\RNGs.jl:551 @ C:\\cygwin\\home\\Administrator\\buildbot\\worker\\package_win64\\build\\usr\\share\\julia\\stdlib\\v1.1\\Random\\src\\generation.jl:192 @ C:\\cygwin\\home\\Administrator\\buildbot\\worker\\package_win64\\build\\usr\\share\\julia\\stdlib\\v1.1\\Random\\src\\generation.jl:197\n",
      "; ││┌ @ int.jl:52 within `-'\n",
      "     %44 = add i64 %36, -1\n",
      "; ││└\n",
      "; ││ @ C:\\cygwin\\home\\Administrator\\buildbot\\worker\\package_win64\\build\\usr\\share\\julia\\stdlib\\v1.1\\Random\\src\\Random.jl:129 within `Type' @ C:\\cygwin\\home\\Administrator\\buildbot\\worker\\package_win64\\build\\usr\\share\\julia\\stdlib\\v1.1\\Random\\src\\generation.jl:342 @ C:\\cygwin\\home\\Administrator\\buildbot\\worker\\package_win64\\build\\usr\\share\\julia\\stdlib\\v1.1\\Random\\src\\RNGs.jl:551 @ C:\\cygwin\\home\\Administrator\\buildbot\\worker\\package_win64\\build\\usr\\share\\julia\\stdlib\\v1.1\\Random\\src\\generation.jl:192 @ C:\\cygwin\\home\\Administrator\\buildbot\\worker\\package_win64\\build\\usr\\share\\julia\\stdlib\\v1.1\\Random\\src\\generation.jl:198\n",
      "; ││┌ @ int.jl:371 within `leading_zeros'\n",
      "     %45 = call i64 @llvm.ctlz.i64(i64 %44, i1 false)\n",
      "; ││└\n",
      "; ││┌ @ int.jl:52 within `-'\n",
      "     %46 = sub nsw i64 64, %45\n",
      "; ││└\n",
      "; ││ @ C:\\cygwin\\home\\Administrator\\buildbot\\worker\\package_win64\\build\\usr\\share\\julia\\stdlib\\v1.1\\Random\\src\\Random.jl:129 within `Type' @ C:\\cygwin\\home\\Administrator\\buildbot\\worker\\package_win64\\build\\usr\\share\\julia\\stdlib\\v1.1\\Random\\src\\generation.jl:342 @ C:\\cygwin\\home\\Administrator\\buildbot\\worker\\package_win64\\build\\usr\\share\\julia\\stdlib\\v1.1\\Random\\src\\RNGs.jl:551 @ C:\\cygwin\\home\\Administrator\\buildbot\\worker\\package_win64\\build\\usr\\share\\julia\\stdlib\\v1.1\\Random\\src\\generation.jl:192 @ C:\\cygwin\\home\\Administrator\\buildbot\\worker\\package_win64\\build\\usr\\share\\julia\\stdlib\\v1.1\\Random\\src\\generation.jl:199\n",
      "; ││┌ @ int.jl:443 within `<<'\n",
      "     %47 = shl i64 1, %46\n",
      "     %48 = icmp ugt i64 %46, 63\n",
      "; ││└\n",
      "; ││┌ @ int.jl:52 within `-'\n",
      "     %.op = add i64 %47, -1\n",
      "     %49 = select i1 %48, i64 -1, i64 %.op\n",
      "; ││└\n",
      "; ││ @ C:\\cygwin\\home\\Administrator\\buildbot\\worker\\package_win64\\build\\usr\\share\\julia\\stdlib\\v1.1\\Random\\src\\Random.jl:129 within `Type' @ C:\\cygwin\\home\\Administrator\\buildbot\\worker\\package_win64\\build\\usr\\share\\julia\\stdlib\\v1.1\\Random\\src\\generation.jl:342 @ C:\\cygwin\\home\\Administrator\\buildbot\\worker\\package_win64\\build\\usr\\share\\julia\\stdlib\\v1.1\\Random\\src\\RNGs.jl:551 @ C:\\cygwin\\home\\Administrator\\buildbot\\worker\\package_win64\\build\\usr\\share\\julia\\stdlib\\v1.1\\Random\\src\\generation.jl:192 @ C:\\cygwin\\home\\Administrator\\buildbot\\worker\\package_win64\\build\\usr\\share\\julia\\stdlib\\v1.1\\Random\\src\\generation.jl:200 @ C:\\cygwin\\home\\Administrator\\buildbot\\worker\\package_win64\\build\\usr\\share\\julia\\stdlib\\v1.1\\Random\\src\\generation.jl:186\n",
      "    %50 = getelementptr inbounds { i64, i64, i64, i64 }, { i64, i64, i64, i64 }* %6, i64 0, i32 0\n",
      "    store i64 1, i64* %50, align 8\n",
      "    %51 = getelementptr inbounds { i64, i64, i64, i64 }, { i64, i64, i64, i64 }* %6, i64 0, i32 1\n",
      "    store i64 %46, i64* %51, align 8\n",
      "    %52 = getelementptr inbounds { i64, i64, i64, i64 }, { i64, i64, i64, i64 }* %6, i64 0, i32 2\n",
      "    store i64 %44, i64* %52, align 8\n",
      "    %53 = getelementptr inbounds { i64, i64, i64, i64 }, { i64, i64, i64, i64 }* %6, i64 0, i32 3\n",
      "    store i64 %49, i64* %53, align 8\n",
      "; │└\n",
      "; │ @ C:\\cygwin\\home\\Administrator\\buildbot\\worker\\package_win64\\build\\usr\\share\\julia\\stdlib\\v1.1\\Random\\src\\Random.jl:224 within `rand' @ C:\\cygwin\\home\\Administrator\\buildbot\\worker\\package_win64\\build\\usr\\share\\julia\\stdlib\\v1.1\\Random\\src\\Random.jl:219 @ C:\\cygwin\\home\\Administrator\\buildbot\\worker\\package_win64\\build\\usr\\share\\julia\\stdlib\\v1.1\\Random\\src\\generation.jl:345\n",
      "   %54 = addrspacecast { i64, i64, i64, i64 }* %6 to { i64, i64, i64, i64 } addrspace(11)*\n",
      "   %55 = getelementptr %jl_value_t addrspace(10)*, %jl_value_t addrspace(10)** %gcframe, i32 2\n",
      "   store %jl_value_t addrspace(10)* %31, %jl_value_t addrspace(10)** %55\n",
      "   %56 = call i64 @julia_rand_5442(%jl_value_t addrspace(10)* addrspacecast (%jl_value_t* inttoptr (i64 21714207408 to %jl_value_t*) to %jl_value_t addrspace(10)*), { i64, i64, i64, i64 } addrspace(11)* nocapture readonly %54)\n",
      "; │┌ @ array.jl:729 within `getindex'\n",
      "    %57 = add i64 %56, -1\n",
      "    %58 = bitcast %jl_value_t addrspace(11)* %32 to %jl_value_t addrspace(10)* addrspace(13)* addrspace(11)*\n",
      "    %59 = load %jl_value_t addrspace(10)* addrspace(13)*, %jl_value_t addrspace(10)* addrspace(13)* addrspace(11)* %58, align 8\n",
      "    %60 = getelementptr inbounds %jl_value_t addrspace(10)*, %jl_value_t addrspace(10)* addrspace(13)* %59, i64 %57\n",
      "    %61 = load %jl_value_t addrspace(10)*, %jl_value_t addrspace(10)* addrspace(13)* %60, align 8\n",
      "    %62 = icmp eq %jl_value_t addrspace(10)* %61, null\n",
      "    br i1 %62, label %fail, label %pass\n",
      "\n",
      "fail:                                             ; preds = %L16\n",
      "    call void @jl_throw(%jl_value_t addrspace(12)* addrspacecast (%jl_value_t* inttoptr (i64 21671617296 to %jl_value_t*) to %jl_value_t addrspace(12)*))\n",
      "    unreachable\n",
      "\n",
      "pass:                                             ; preds = %L16\n",
      "; └└\n",
      "  %63 = getelementptr %jl_value_t addrspace(10)*, %jl_value_t addrspace(10)** %gcframe, i32 1\n",
      "  %64 = load %jl_value_t addrspace(10)*, %jl_value_t addrspace(10)** %63\n",
      "  %65 = getelementptr %jl_value_t**, %jl_value_t*** %7, i32 0\n",
      "  %66 = bitcast %jl_value_t*** %65 to %jl_value_t addrspace(10)**\n",
      "  store %jl_value_t addrspace(10)* %64, %jl_value_t addrspace(10)** %66\n",
      "  ret %jl_value_t addrspace(10)* %61\n",
      "}\n"
     ]
    }
   ],
   "source": [
    "@code_llvm f()"
   ]
  },
  {
   "cell_type": "markdown",
   "metadata": {},
   "source": [
    "### How to find and deal with type-instabilities"
   ]
  },
  {
   "cell_type": "markdown",
   "metadata": {},
   "source": [
    "#### 1) Avoid type changes"
   ]
  },
  {
   "cell_type": "markdown",
   "metadata": {},
   "source": [
    "Initialize `x` as `Float64` and it's fast."
   ]
  },
  {
   "cell_type": "code",
   "execution_count": 50,
   "metadata": {},
   "outputs": [
    {
     "data": {
      "text/plain": [
       "h (generic function with 1 method)"
      ]
     },
     "execution_count": 50,
     "metadata": {},
     "output_type": "execute_result"
    }
   ],
   "source": [
    "function h()\n",
    "  x=1.0\n",
    "  for i = 1:10\n",
    "    x = x/2\n",
    "  end\n",
    "  return x\n",
    "end"
   ]
  },
  {
   "cell_type": "code",
   "execution_count": 51,
   "metadata": {},
   "outputs": [
    {
     "name": "stdout",
     "output_type": "stream",
     "text": [
      "\n",
      ";  @ In[50]:2 within `h'\n",
      "; Function Attrs: uwtable\n",
      "define double @julia_h_14546() #0 {\n",
      "top:\n",
      ";  @ In[50]:6 within `h'\n",
      "  ret double 0x3F50000000000000\n",
      "}\n"
     ]
    }
   ],
   "source": [
    "@code_llvm h()"
   ]
  },
  {
   "cell_type": "markdown",
   "metadata": {},
   "source": [
    "#### 2) Detect issues with `@code_warntype` (or `@trace`)"
   ]
  },
  {
   "cell_type": "code",
   "execution_count": 53,
   "metadata": {},
   "outputs": [
    {
     "name": "stdout",
     "output_type": "stream",
     "text": [
      "Body\u001b[36m::Float64\u001b[39m\n",
      "\u001b[90m1 ──\u001b[39m       goto #12 if not true\n",
      "\u001b[90m2 ┄─\u001b[39m %2  = φ (#1 => 1, #11 => %19)\u001b[91m\u001b[1m::Union{Float64, Int64}\u001b[22m\u001b[39m\n",
      "\u001b[90m│   \u001b[39m %3  = φ (#1 => 1, #11 => %25)\u001b[36m::Int64\u001b[39m\n",
      "\u001b[90m│   \u001b[39m %4  = (isa)(%2, Int64)\u001b[36m::Bool\u001b[39m\n",
      "\u001b[90m└───\u001b[39m       goto #4 if not %4\n",
      "\u001b[90m3 ──\u001b[39m %6  = π (%2, \u001b[36mInt64\u001b[39m)\n",
      "\u001b[90m│   \u001b[39m %7  = (Base.sitofp)(Float64, %6)\u001b[36m::Float64\u001b[39m\n",
      "\u001b[90m│   \u001b[39m %8  = (Base.sitofp)(Float64, 2)\u001b[36m::Float64\u001b[39m\n",
      "\u001b[90m│   \u001b[39m %9  = (Base.div_float)(%7, %8)\u001b[36m::Float64\u001b[39m\n",
      "\u001b[90m└───\u001b[39m       goto #7\n",
      "\u001b[90m4 ──\u001b[39m %11 = (isa)(%2, Float64)\u001b[36m::Bool\u001b[39m\n",
      "\u001b[90m└───\u001b[39m       goto #6 if not %11\n",
      "\u001b[90m5 ──\u001b[39m %13 = π (%2, \u001b[36mFloat64\u001b[39m)\n",
      "\u001b[90m│   \u001b[39m %14 = (Base.sitofp)(Float64, 2)\u001b[36m::Float64\u001b[39m\n",
      "\u001b[90m│   \u001b[39m %15 = (Base.div_float)(%13, %14)\u001b[36m::Float64\u001b[39m\n",
      "\u001b[90m└───\u001b[39m       goto #7\n",
      "\u001b[90m6 ──\u001b[39m       (Core.throw)(ErrorException(\"fatal error in type inference (type bound)\"))\n",
      "\u001b[90m└───\u001b[39m       $(Expr(:unreachable))\n",
      "\u001b[90m7 ┄─\u001b[39m %19 = φ (#3 => %9, #5 => %15)\u001b[36m::Float64\u001b[39m\n",
      "\u001b[90m│   \u001b[39m %20 = (%3 === 10)\u001b[36m::Bool\u001b[39m\n",
      "\u001b[90m└───\u001b[39m       goto #9 if not %20\n",
      "\u001b[90m8 ──\u001b[39m       goto #10\n",
      "\u001b[90m9 ──\u001b[39m %23 = (Base.add_int)(%3, 1)\u001b[36m::Int64\u001b[39m\n",
      "\u001b[90m└───\u001b[39m       goto #10\n",
      "\u001b[90m10 ┄\u001b[39m %25 = φ (#9 => %23)\u001b[36m::Int64\u001b[39m\n",
      "\u001b[90m│   \u001b[39m %26 = φ (#8 => true, #9 => false)\u001b[36m::Bool\u001b[39m\n",
      "\u001b[90m│   \u001b[39m %27 = (Base.not_int)(%26)\u001b[36m::Bool\u001b[39m\n",
      "\u001b[90m└───\u001b[39m       goto #12 if not %27\n",
      "\u001b[90m11 ─\u001b[39m       goto #2\n",
      "\u001b[90m12 ┄\u001b[39m %30 = φ (#10 => %19, #1 => 1)\u001b[91m\u001b[1m::Union{Float64, Int64}\u001b[22m\u001b[39m\n",
      "\u001b[90m│   \u001b[39m %31 = π (%30, \u001b[36mFloat64\u001b[39m)\n",
      "\u001b[90m└───\u001b[39m       return %31\n"
     ]
    }
   ],
   "source": [
    "@code_warntype g()"
   ]
  },
  {
   "cell_type": "markdown",
   "metadata": {},
   "source": [
    "(On a side note: since the type can only vary between `Float64` and `Int64`, Julia can still produce reasonable code by *union splitting*. See the blog post by Tim Holy: https://julialang.org/blog/2018/08/union-splitting)"
   ]
  },
  {
   "cell_type": "code",
   "execution_count": 63,
   "metadata": {},
   "outputs": [
    {
     "name": "stdout",
     "output_type": "stream",
     "text": [
      "Body\u001b[36m::Float64\u001b[39m\n",
      "\u001b[90m1 ─\u001b[39m       goto #7 if not true\n",
      "\u001b[90m2 ┄\u001b[39m %2  = φ (#1 => 1.0, #6 => %4)\u001b[36m::Float64\u001b[39m\n",
      "\u001b[90m│  \u001b[39m %3  = φ (#1 => 1, #6 => %10)\u001b[36m::Int64\u001b[39m\n",
      "\u001b[90m│  \u001b[39m %4  = (Base.div_float)(%2, 2.0)\u001b[36m::Float64\u001b[39m\n",
      "\u001b[90m│  \u001b[39m %5  = (%3 === 10)\u001b[36m::Bool\u001b[39m\n",
      "\u001b[90m└──\u001b[39m       goto #4 if not %5\n",
      "\u001b[90m3 ─\u001b[39m       goto #5\n",
      "\u001b[90m4 ─\u001b[39m %8  = (Base.add_int)(%3, 1)\u001b[36m::Int64\u001b[39m\n",
      "\u001b[90m└──\u001b[39m       goto #5\n",
      "\u001b[90m5 ┄\u001b[39m %10 = φ (#4 => %8)\u001b[36m::Int64\u001b[39m\n",
      "\u001b[90m│  \u001b[39m %11 = φ (#3 => true, #4 => false)\u001b[36m::Bool\u001b[39m\n",
      "\u001b[90m│  \u001b[39m %12 = (Base.not_int)(%11)\u001b[36m::Bool\u001b[39m\n",
      "\u001b[90m└──\u001b[39m       goto #7 if not %12\n",
      "\u001b[90m6 ─\u001b[39m       goto #2\n",
      "\u001b[90m7 ┄\u001b[39m %15 = φ (#5 => %4, #1 => 1.0)\u001b[36m::Float64\u001b[39m\n",
      "\u001b[90m└──\u001b[39m       return %15\n"
     ]
    }
   ],
   "source": [
    "@code_warntype h()"
   ]
  },
  {
   "cell_type": "markdown",
   "metadata": {},
   "source": [
    "#### 3) The C/Fortran way: specify types (to get errors or to heal the problem by conversion)"
   ]
  },
  {
   "cell_type": "code",
   "execution_count": 76,
   "metadata": {},
   "outputs": [
    {
     "data": {
      "text/plain": [
       "g2 (generic function with 1 method)"
      ]
     },
     "execution_count": 76,
     "metadata": {},
     "output_type": "execute_result"
    }
   ],
   "source": [
    "function g2()\n",
    "  x::Int64 = 1\n",
    "  for i = 1:10\n",
    "    x = x/2\n",
    "  end\n",
    "  return x\n",
    "end"
   ]
  },
  {
   "cell_type": "code",
   "execution_count": 77,
   "metadata": {},
   "outputs": [
    {
     "ename": "InexactError",
     "evalue": "InexactError: Int64(0.5)",
     "output_type": "error",
     "traceback": [
      "InexactError: Int64(0.5)",
      "",
      "Stacktrace:",
      " [1] Type at .\\float.jl:703 [inlined]",
      " [2] convert(::Type{Int64}, ::Float64) at .\\number.jl:7",
      " [3] g2() at .\\In[76]:4",
      " [4] top-level scope at In[77]:1"
     ]
    }
   ],
   "source": [
    "g2()"
   ]
  },
  {
   "cell_type": "code",
   "execution_count": 82,
   "metadata": {},
   "outputs": [
    {
     "data": {
      "text/plain": [
       "g3 (generic function with 1 method)"
      ]
     },
     "execution_count": 82,
     "metadata": {},
     "output_type": "execute_result"
    }
   ],
   "source": [
    "function g3()\n",
    "  x::Float64 = 1 # triggers an implicit conversion to Float64\n",
    "  for i = 1:10\n",
    "    x = x/2\n",
    "  end\n",
    "  return x\n",
    "end"
   ]
  },
  {
   "cell_type": "code",
   "execution_count": 83,
   "metadata": {},
   "outputs": [
    {
     "name": "stdout",
     "output_type": "stream",
     "text": [
      "\n",
      ";  @ In[82]:2 within `g3'\n",
      "; Function Attrs: uwtable\n",
      "define double @julia_g3_15393() #0 {\n",
      "top:\n",
      ";  @ In[82]:6 within `g3'\n",
      "  ret double 0x3F50000000000000\n",
      "}\n"
     ]
    }
   ],
   "source": [
    "@code_llvm g3()"
   ]
  },
  {
   "cell_type": "markdown",
   "metadata": {},
   "source": [
    "#### 4) Function barriers"
   ]
  },
  {
   "cell_type": "code",
   "execution_count": 84,
   "metadata": {},
   "outputs": [
    {
     "data": {
      "text/plain": [
       "4-element Array{Union{Float64, Int64},1}:\n",
       " 4  \n",
       " 2.0\n",
       " 3.2\n",
       " 1  "
      ]
     },
     "execution_count": 84,
     "metadata": {},
     "output_type": "execute_result"
    }
   ],
   "source": [
    "arr = Vector{Union{Int64,Float64}}(undef, 4)\n",
    "arr[1]=4\n",
    "arr[2]=2.0\n",
    "arr[3]=3.2\n",
    "arr[4]=1\n",
    "arr"
   ]
  },
  {
   "cell_type": "code",
   "execution_count": 86,
   "metadata": {},
   "outputs": [
    {
     "data": {
      "text/plain": [
       "foo (generic function with 1 method)"
      ]
     },
     "execution_count": 86,
     "metadata": {},
     "output_type": "execute_result"
    }
   ],
   "source": [
    "function foo(array)\n",
    "  for i in eachindex(array)\n",
    "    val = array[i]\n",
    "    val^2\n",
    "  end\n",
    "end"
   ]
  },
  {
   "cell_type": "code",
   "execution_count": 87,
   "metadata": {},
   "outputs": [
    {
     "name": "stdout",
     "output_type": "stream",
     "text": [
      "Body\u001b[36m::Nothing\u001b[39m\n",
      "\u001b[90m1 ──\u001b[39m %1  = (Base.arraysize)(array, 1)\u001b[36m::Int64\u001b[39m\n",
      "\u001b[90m│   \u001b[39m %2  = (Base.slt_int)(%1, 0)\u001b[36m::Bool\u001b[39m\n",
      "\u001b[90m│   \u001b[39m %3  = (Base.ifelse)(%2, 0, %1)\u001b[36m::Int64\u001b[39m\n",
      "\u001b[90m│   \u001b[39m %4  = (Base.slt_int)(%3, 1)\u001b[36m::Bool\u001b[39m\n",
      "\u001b[90m└───\u001b[39m       goto #3 if not %4\n",
      "\u001b[90m2 ──\u001b[39m       goto #4\n",
      "\u001b[90m3 ──\u001b[39m       goto #4\n",
      "\u001b[90m4 ┄─\u001b[39m %8  = φ (#2 => true, #3 => false)\u001b[36m::Bool\u001b[39m\n",
      "\u001b[90m│   \u001b[39m %9  = φ (#3 => 1)\u001b[36m::Int64\u001b[39m\n",
      "\u001b[90m│   \u001b[39m %10 = φ (#3 => 1)\u001b[36m::Int64\u001b[39m\n",
      "\u001b[90m│   \u001b[39m %11 = (Base.not_int)(%8)\u001b[36m::Bool\u001b[39m\n",
      "\u001b[90m└───\u001b[39m       goto #15 if not %11\n",
      "\u001b[90m5 ┄─\u001b[39m %13 = φ (#4 => %9, #14 => %29)\u001b[36m::Int64\u001b[39m\n",
      "\u001b[90m│   \u001b[39m %14 = φ (#4 => %10, #14 => %30)\u001b[36m::Int64\u001b[39m\n",
      "\u001b[90m│   \u001b[39m %15 = (Base.arrayref)(true, array, %13)\u001b[91m\u001b[1m::Union{Float64, Int64}\u001b[22m\u001b[39m\n",
      "\u001b[90m│   \u001b[39m %16 = (isa)(%15, Float64)\u001b[36m::Bool\u001b[39m\n",
      "\u001b[90m└───\u001b[39m       goto #7 if not %16\n",
      "\u001b[90m6 ──\u001b[39m       goto #10\n",
      "\u001b[90m7 ──\u001b[39m %19 = (isa)(%15, Int64)\u001b[36m::Bool\u001b[39m\n",
      "\u001b[90m└───\u001b[39m       goto #9 if not %19\n",
      "\u001b[90m8 ──\u001b[39m       goto #10\n",
      "\u001b[90m9 ──\u001b[39m       (Core.throw)(ErrorException(\"fatal error in type inference (type bound)\"))\n",
      "\u001b[90m└───\u001b[39m       $(Expr(:unreachable))\n",
      "\u001b[90m10 ┄\u001b[39m %24 = (%14 === %3)\u001b[36m::Bool\u001b[39m\n",
      "\u001b[90m└───\u001b[39m       goto #12 if not %24\n",
      "\u001b[90m11 ─\u001b[39m       goto #13\n",
      "\u001b[90m12 ─\u001b[39m %27 = (Base.add_int)(%14, 1)\u001b[36m::Int64\u001b[39m\n",
      "\u001b[90m└───\u001b[39m       goto #13\n",
      "\u001b[90m13 ┄\u001b[39m %29 = φ (#12 => %27)\u001b[36m::Int64\u001b[39m\n",
      "\u001b[90m│   \u001b[39m %30 = φ (#12 => %27)\u001b[36m::Int64\u001b[39m\n",
      "\u001b[90m│   \u001b[39m %31 = φ (#11 => true, #12 => false)\u001b[36m::Bool\u001b[39m\n",
      "\u001b[90m│   \u001b[39m %32 = (Base.not_int)(%31)\u001b[36m::Bool\u001b[39m\n",
      "\u001b[90m└───\u001b[39m       goto #15 if not %32\n",
      "\u001b[90m14 ─\u001b[39m       goto #5\n",
      "\u001b[90m15 ┄\u001b[39m       return\n"
     ]
    }
   ],
   "source": [
    "@code_warntype foo(arr)"
   ]
  },
  {
   "cell_type": "code",
   "execution_count": 88,
   "metadata": {},
   "outputs": [
    {
     "data": {
      "text/plain": [
       "foo2 (generic function with 1 method)"
      ]
     },
     "execution_count": 88,
     "metadata": {},
     "output_type": "execute_result"
    }
   ],
   "source": [
    "function inner_foo(val)\n",
    "  # Do algorithm X on val\n",
    "  val^2\n",
    "end\n",
    " \n",
    "function foo2(array)\n",
    "  for i in eachindex(array)\n",
    "    inner_foo(array[i])\n",
    "  end\n",
    "end"
   ]
  },
  {
   "cell_type": "code",
   "execution_count": 89,
   "metadata": {},
   "outputs": [
    {
     "name": "stdout",
     "output_type": "stream",
     "text": [
      "Body\u001b[36m::Int64\u001b[39m\n",
      "\u001b[90m1 ─\u001b[39m %1 = (Base.mul_int)(val, val)\u001b[36m::Int64\u001b[39m\n",
      "\u001b[90m└──\u001b[39m      return %1\n"
     ]
    }
   ],
   "source": [
    "@code_warntype inner_foo(arr[1])"
   ]
  },
  {
   "cell_type": "markdown",
   "metadata": {},
   "source": [
    "#### Comments:"
   ]
  },
  {
   "cell_type": "markdown",
   "metadata": {},
   "source": [
    "Why Allow Type-Instabilities in the first place? Convenience vs performance tradeoff."
   ]
  },
  {
   "cell_type": "markdown",
   "metadata": {},
   "source": [
    "Note that type instabilities can naturally occur (reading files, user input etc.) so not any red marker is bad/avoidable."
   ]
  },
  {
   "cell_type": "markdown",
   "metadata": {},
   "source": [
    "Note that Julia is smart and a changing type isn't *per se* an issue:"
   ]
  },
  {
   "cell_type": "code",
   "execution_count": 90,
   "metadata": {},
   "outputs": [
    {
     "data": {
      "text/plain": [
       "g4 (generic function with 1 method)"
      ]
     },
     "execution_count": 90,
     "metadata": {},
     "output_type": "execute_result"
    }
   ],
   "source": [
    "function g4()\n",
    "  x=1\n",
    "  x=1.0\n",
    "  for i = 1:10\n",
    "    x = x/2\n",
    "  end\n",
    "  return x\n",
    "end"
   ]
  },
  {
   "cell_type": "code",
   "execution_count": 91,
   "metadata": {},
   "outputs": [
    {
     "name": "stdout",
     "output_type": "stream",
     "text": [
      "Body\u001b[36m::Float64\u001b[39m\n",
      "\u001b[90m1 ─\u001b[39m       goto #7 if not true\n",
      "\u001b[90m2 ┄\u001b[39m %2  = φ (#1 => 1.0, #6 => %4)\u001b[36m::Float64\u001b[39m\n",
      "\u001b[90m│  \u001b[39m %3  = φ (#1 => 1, #6 => %10)\u001b[36m::Int64\u001b[39m\n",
      "\u001b[90m│  \u001b[39m %4  = (Base.div_float)(%2, 2.0)\u001b[36m::Float64\u001b[39m\n",
      "\u001b[90m│  \u001b[39m %5  = (%3 === 10)\u001b[36m::Bool\u001b[39m\n",
      "\u001b[90m└──\u001b[39m       goto #4 if not %5\n",
      "\u001b[90m3 ─\u001b[39m       goto #5\n",
      "\u001b[90m4 ─\u001b[39m %8  = (Base.add_int)(%3, 1)\u001b[36m::Int64\u001b[39m\n",
      "\u001b[90m└──\u001b[39m       goto #5\n",
      "\u001b[90m5 ┄\u001b[39m %10 = φ (#4 => %8)\u001b[36m::Int64\u001b[39m\n",
      "\u001b[90m│  \u001b[39m %11 = φ (#3 => true, #4 => false)\u001b[36m::Bool\u001b[39m\n",
      "\u001b[90m│  \u001b[39m %12 = (Base.not_int)(%11)\u001b[36m::Bool\u001b[39m\n",
      "\u001b[90m└──\u001b[39m       goto #7 if not %12\n",
      "\u001b[90m6 ─\u001b[39m       goto #2\n",
      "\u001b[90m7 ┄\u001b[39m %15 = φ (#5 => %4, #1 => 1.0)\u001b[36m::Float64\u001b[39m\n",
      "\u001b[90m└──\u001b[39m       return %15\n"
     ]
    }
   ],
   "source": [
    "@code_warntype g4()"
   ]
  },
  {
   "cell_type": "code",
   "execution_count": 92,
   "metadata": {},
   "outputs": [
    {
     "name": "stdout",
     "output_type": "stream",
     "text": [
      "\n",
      ";  @ In[90]:2 within `g4'\n",
      "; Function Attrs: uwtable\n",
      "define double @julia_g4_15481() #0 {\n",
      "top:\n",
      ";  @ In[90]:7 within `g4'\n",
      "  ret double 0x3F50000000000000\n",
      "}\n"
     ]
    }
   ],
   "source": [
    "@code_llvm g4()"
   ]
  },
  {
   "cell_type": "markdown",
   "metadata": {},
   "source": [
    "#### Take home message: watch out for type-instabilities in performance critical parts of your code."
   ]
  },
  {
   "cell_type": "markdown",
   "metadata": {},
   "source": [
    "# Gotcha 3: Views and copies"
   ]
  },
  {
   "cell_type": "code",
   "execution_count": 36,
   "metadata": {},
   "outputs": [
    {
     "data": {
      "text/plain": [
       "3-element Array{Int64,1}:\n",
       " 1\n",
       " 4\n",
       " 5"
      ]
     },
     "execution_count": 36,
     "metadata": {},
     "output_type": "execute_result"
    }
   ],
   "source": [
    "a = [3;4;5]\n",
    "b = a\n",
    "b[1] = 1\n",
    "a"
   ]
  },
  {
   "cell_type": "code",
   "execution_count": 37,
   "metadata": {},
   "outputs": [
    {
     "data": {
      "text/plain": [
       "4-element Array{Float64,1}:\n",
       " 0.17009853418490595\n",
       " 0.18209894916531377\n",
       " 0.5021657186167827 \n",
       " 0.5753132627067366 "
      ]
     },
     "execution_count": 37,
     "metadata": {},
     "output_type": "execute_result"
    }
   ],
   "source": [
    "a = rand(2,2)\n",
    "b = vec(a) # Makes a view to the 2x2 matrix which is a 1-dimensional array"
   ]
  },
  {
   "cell_type": "code",
   "execution_count": 38,
   "metadata": {},
   "outputs": [
    {
     "data": {
      "text/plain": [
       "2-element Array{Float64,1}:\n",
       " 0.17009853418490595\n",
       " 0.18209894916531377"
      ]
     },
     "execution_count": 38,
     "metadata": {},
     "output_type": "execute_result"
    }
   ],
   "source": [
    "c = a[1:2,1] # Creates a copy (slice on rhs of assignment)"
   ]
  },
  {
   "cell_type": "code",
   "execution_count": 39,
   "metadata": {},
   "outputs": [
    {
     "data": {
      "text/plain": [
       "2-element view(::Array{Float64,2}, 1:2, 1) with eltype Float64:\n",
       " 0.17009853418490595\n",
       " 0.18209894916531377"
      ]
     },
     "execution_count": 39,
     "metadata": {},
     "output_type": "execute_result"
    }
   ],
   "source": [
    "# Create a view into array a.\n",
    "d = @view a[1:2,1]\n",
    "e = view(a,1:2,1)\n",
    "@views p = a[1:2,1]"
   ]
  },
  {
   "cell_type": "code",
   "execution_count": 40,
   "metadata": {},
   "outputs": [
    {
     "data": {
      "text/plain": [
       "2-element Array{Int64,1}:\n",
       " 1\n",
       " 2"
      ]
     },
     "execution_count": 40,
     "metadata": {},
     "output_type": "execute_result"
    }
   ],
   "source": [
    "a[1:2,1] = [1;2] # Modifies a in-place (slice on lhs of assignment)"
   ]
  },
  {
   "cell_type": "code",
   "execution_count": 41,
   "metadata": {},
   "outputs": [
    {
     "data": {
      "text/plain": [
       "2-element Array{Array{Float64,1},1}:\n",
       " [10.0, 2.0, 3.0]\n",
       " [4.0, 5.0, 6.0] "
      ]
     },
     "execution_count": 41,
     "metadata": {},
     "output_type": "execute_result"
    }
   ],
   "source": [
    "a = Vector{Vector{Float64}}(undef, 2)\n",
    "a[1] = [1;2;3]\n",
    "a[2] = [4;5;6]\n",
    "\n",
    "b = copy(a)\n",
    "b[1][1] = 10 # will alter a!\n",
    "\n",
    "b = deepcopy(a) # \"recursive copy\""
   ]
  },
  {
   "cell_type": "markdown",
   "metadata": {},
   "source": [
    "# Gotcha 4: Temporary allocations and vectorized code"
   ]
  },
  {
   "cell_type": "code",
   "execution_count": 93,
   "metadata": {},
   "outputs": [],
   "source": [
    "using BenchmarkTools"
   ]
  },
  {
   "cell_type": "code",
   "execution_count": 94,
   "metadata": {},
   "outputs": [
    {
     "data": {
      "text/plain": [
       "f (generic function with 1 method)"
      ]
     },
     "execution_count": 94,
     "metadata": {},
     "output_type": "execute_result"
    }
   ],
   "source": [
    "function f()\n",
    "  x = [1;5;6]\n",
    "  for i in 1:100_000\n",
    "    x = x + 2*x\n",
    "  end\n",
    "  return x\n",
    "end"
   ]
  },
  {
   "cell_type": "code",
   "execution_count": 95,
   "metadata": {},
   "outputs": [
    {
     "name": "stdout",
     "output_type": "stream",
     "text": [
      "  7.237 ms (200001 allocations: 21.36 MiB)\n"
     ]
    }
   ],
   "source": [
    "@btime f();"
   ]
  },
  {
   "cell_type": "markdown",
   "metadata": {},
   "source": [
    "### How to handle it? -> More dots or more explicity"
   ]
  },
  {
   "cell_type": "markdown",
   "metadata": {},
   "source": [
    "Great blog post by Steven G. Johnson: https://julialang.org/blog/2017/01/moredots ([related notebook](https://github.com/JuliaLang/www.julialang.org/blob/master/blog/_posts/moredots/More-Dots.ipynb))"
   ]
  },
  {
   "cell_type": "code",
   "execution_count": 96,
   "metadata": {},
   "outputs": [
    {
     "name": "stdout",
     "output_type": "stream",
     "text": [
      "  154.200 μs (1 allocation: 112 bytes)\n"
     ]
    }
   ],
   "source": [
    "function f()\n",
    "    x = [1;5;6]\n",
    "    for i in 1:100_000    \n",
    "        for k in 1:3\n",
    "            x[k] = x[k] + 2 * x[k]\n",
    "        end\n",
    "    end\n",
    "    return x\n",
    "end\n",
    "@btime f();"
   ]
  },
  {
   "cell_type": "code",
   "execution_count": 97,
   "metadata": {},
   "outputs": [
    {
     "name": "stdout",
     "output_type": "stream",
     "text": [
      "  2.891 ms (100001 allocations: 10.68 MiB)\n"
     ]
    }
   ],
   "source": [
    "function f()\n",
    "    x = [1;5;6]\n",
    "    for i in 1:100_000\n",
    "        x = x .+ 2 .* x\n",
    "    end\n",
    "    return x\n",
    "end\n",
    "@btime f();"
   ]
  },
  {
   "cell_type": "code",
   "execution_count": 98,
   "metadata": {},
   "outputs": [
    {
     "name": "stdout",
     "output_type": "stream",
     "text": [
      "  282.799 μs (1 allocation: 112 bytes)\n"
     ]
    }
   ],
   "source": [
    "function f()\n",
    "    x = [1;5;6]\n",
    "    for i in 1:100_000\n",
    "        x .= x .+ 2 .* x\n",
    "    end\n",
    "    return x\n",
    "end\n",
    "@btime f();"
   ]
  },
  {
   "cell_type": "code",
   "execution_count": 99,
   "metadata": {},
   "outputs": [
    {
     "name": "stdout",
     "output_type": "stream",
     "text": [
      "  283.199 μs (1 allocation: 112 bytes)\n"
     ]
    }
   ],
   "source": [
    "function f()\n",
    "    x = [1;5;6]\n",
    "    for i in 1:100_000\n",
    "        @. x = x + 2*x\n",
    "        # or @. x = x + 2*x\n",
    "    end\n",
    "    return x\n",
    "end\n",
    "@btime f();"
   ]
  },
  {
   "cell_type": "markdown",
   "metadata": {},
   "source": [
    "### Extra trick: `@inbounds`"
   ]
  },
  {
   "cell_type": "code",
   "execution_count": 100,
   "metadata": {},
   "outputs": [
    {
     "name": "stdout",
     "output_type": "stream",
     "text": [
      "  77.100 μs (1 allocation: 112 bytes)\n"
     ]
    }
   ],
   "source": [
    "function f()\n",
    "    x = [1;5;6]\n",
    "    @inbounds for i in 1:100_000    \n",
    "        for k in 1:3\n",
    "            x[k] = x[k] + 2*x[k]\n",
    "        end\n",
    "    end\n",
    "    return x\n",
    "end\n",
    "@btime f();"
   ]
  },
  {
   "cell_type": "markdown",
   "metadata": {},
   "source": [
    "# Gotcha 5: Abstract fields"
   ]
  },
  {
   "cell_type": "code",
   "execution_count": 107,
   "metadata": {},
   "outputs": [],
   "source": [
    "using BenchmarkTools"
   ]
  },
  {
   "cell_type": "code",
   "execution_count": 112,
   "metadata": {},
   "outputs": [
    {
     "data": {
      "text/plain": [
       "f (generic function with 3 methods)"
      ]
     },
     "execution_count": 112,
     "metadata": {},
     "output_type": "execute_result"
    }
   ],
   "source": [
    "struct MyType\n",
    "    x::AbstractFloat\n",
    "    y::AbstractString\n",
    "end\n",
    "\n",
    "f(a::MyType) = a.x^2 + sqrt(a.x)"
   ]
  },
  {
   "cell_type": "code",
   "execution_count": 120,
   "metadata": {},
   "outputs": [
    {
     "name": "stdout",
     "output_type": "stream",
     "text": [
      "  51.367 ns (3 allocations: 48 bytes)\n"
     ]
    }
   ],
   "source": [
    "a = MyType(3.0, \"test\")\n",
    "\n",
    "@btime f($a);"
   ]
  },
  {
   "cell_type": "code",
   "execution_count": 121,
   "metadata": {},
   "outputs": [
    {
     "data": {
      "text/plain": [
       "f (generic function with 3 methods)"
      ]
     },
     "execution_count": 121,
     "metadata": {},
     "output_type": "execute_result"
    }
   ],
   "source": [
    "struct MyTypeConcrete\n",
    "    x::Float64\n",
    "    y::String\n",
    "end\n",
    "\n",
    "f(b::MyTypeConcrete) = b.x^2 + sqrt(b.x)"
   ]
  },
  {
   "cell_type": "code",
   "execution_count": 122,
   "metadata": {},
   "outputs": [
    {
     "name": "stdout",
     "output_type": "stream",
     "text": [
      "  1.500 ns (0 allocations: 0 bytes)\n"
     ]
    }
   ],
   "source": [
    "b = MyTypeConcrete(3.0, \"test\")\n",
    "\n",
    "@btime f($b);"
   ]
  },
  {
   "cell_type": "markdown",
   "metadata": {},
   "source": [
    "Note that the latter implementation is **more than 30x faster**!"
   ]
  },
  {
   "cell_type": "markdown",
   "metadata": {},
   "source": [
    "### How to handle it?"
   ]
  },
  {
   "cell_type": "markdown",
   "metadata": {},
   "source": [
    "But what if I want to accept any kind of `AbstractFloat` and `AbstractString` in my type?\n",
    "\n",
    "Use type parameters!"
   ]
  },
  {
   "cell_type": "code",
   "execution_count": 125,
   "metadata": {},
   "outputs": [
    {
     "data": {
      "text/plain": [
       "f (generic function with 5 methods)"
      ]
     },
     "execution_count": 125,
     "metadata": {},
     "output_type": "execute_result"
    }
   ],
   "source": [
    "struct MyTypeParametric{A<:AbstractFloat, B<:AbstractString}\n",
    "    x::A\n",
    "    y::B\n",
    "end\n",
    "\n",
    "f(c::MyTypeParametric) = c.x^2 + sqrt(c.x)"
   ]
  },
  {
   "cell_type": "code",
   "execution_count": 126,
   "metadata": {},
   "outputs": [
    {
     "data": {
      "text/plain": [
       "MyTypeParametric{Float64,String}(3.0, \"test\")"
      ]
     },
     "execution_count": 126,
     "metadata": {},
     "output_type": "execute_result"
    }
   ],
   "source": [
    "c = MyTypeParametric(3.0, \"test\")"
   ]
  },
  {
   "cell_type": "markdown",
   "metadata": {},
   "source": [
    "From the type alone the compiler knows what the structure contains and can produce optimal code:"
   ]
  },
  {
   "cell_type": "code",
   "execution_count": 130,
   "metadata": {},
   "outputs": [
    {
     "name": "stdout",
     "output_type": "stream",
     "text": [
      "  1.299 ns (0 allocations: 0 bytes)\n"
     ]
    }
   ],
   "source": [
    "@btime f($c);"
   ]
  },
  {
   "cell_type": "code",
   "execution_count": 131,
   "metadata": {},
   "outputs": [
    {
     "data": {
      "text/plain": [
       "MyTypeParametric{Float32,SubString{String}}(3.0f0, \"test\")"
      ]
     },
     "execution_count": 131,
     "metadata": {},
     "output_type": "execute_result"
    }
   ],
   "source": [
    "c = MyTypeParametric(Float32(3.0), SubString(\"test\"))"
   ]
  },
  {
   "cell_type": "code",
   "execution_count": 132,
   "metadata": {},
   "outputs": [
    {
     "name": "stdout",
     "output_type": "stream",
     "text": [
      "  1.299 ns (0 allocations: 0 bytes)\n"
     ]
    }
   ],
   "source": [
    "@btime f($c);"
   ]
  },
  {
   "cell_type": "markdown",
   "metadata": {},
   "source": [
    "# Gotcha 6: Writing to global scope"
   ]
  },
  {
   "cell_type": "code",
   "execution_count": 8,
   "metadata": {},
   "outputs": [],
   "source": [
    "# Try this in the Julia REPL\n",
    "a = 0\n",
    "for i in 1:10\n",
    "    a += i\n",
    "end"
   ]
  },
  {
   "cell_type": "markdown",
   "metadata": {},
   "source": [
    "(For more information, see the \"official\" discussion here: https://github.com/JuliaLang/julia/issues/28789)"
   ]
  },
  {
   "cell_type": "markdown",
   "metadata": {},
   "source": [
    "#### Take home message: again, just wrap things into functions."
   ]
  },
  {
   "cell_type": "markdown",
   "metadata": {},
   "source": [
    "# Gotcha 7: Column major order"
   ]
  },
  {
   "cell_type": "code",
   "execution_count": 133,
   "metadata": {},
   "outputs": [
    {
     "data": {
      "text/plain": [
       "frow (generic function with 1 method)"
      ]
     },
     "execution_count": 133,
     "metadata": {},
     "output_type": "execute_result"
    }
   ],
   "source": [
    "M = rand(1000,1000);\n",
    "\n",
    "function fcol(M)\n",
    "    for col in 1:size(M, 2)\n",
    "        for row in 1:size(M, 1)\n",
    "            M[row, col] = 42\n",
    "        end\n",
    "    end\n",
    "    nothing\n",
    "end\n",
    "\n",
    "function frow(M)\n",
    "    for row in 1:size(M, 1)\n",
    "        for col in 1:size(M, 2)\n",
    "            M[row, col] = 42\n",
    "        end\n",
    "    end\n",
    "    nothing\n",
    "end"
   ]
  },
  {
   "cell_type": "code",
   "execution_count": 134,
   "metadata": {},
   "outputs": [
    {
     "name": "stdout",
     "output_type": "stream",
     "text": [
      "  398.301 μs (0 allocations: 0 bytes)\n"
     ]
    }
   ],
   "source": [
    "@btime fcol($M)"
   ]
  },
  {
   "cell_type": "code",
   "execution_count": 135,
   "metadata": {},
   "outputs": [
    {
     "name": "stdout",
     "output_type": "stream",
     "text": [
      "  1.647 ms (0 allocations: 0 bytes)\n"
     ]
    }
   ],
   "source": [
    "@btime frow($M)"
   ]
  },
  {
   "cell_type": "markdown",
   "metadata": {},
   "source": [
    "#### Take home message: fastest varying index goes first!"
   ]
  },
  {
   "cell_type": "markdown",
   "metadata": {},
   "source": [
    "# Gotcha 8: Lazy operations"
   ]
  },
  {
   "cell_type": "markdown",
   "metadata": {},
   "source": [
    "Let's say we want to calculate `X = M + (M' + 2*I)`."
   ]
  },
  {
   "cell_type": "code",
   "execution_count": 137,
   "metadata": {},
   "outputs": [],
   "source": [
    "using LinearAlgebra"
   ]
  },
  {
   "cell_type": "code",
   "execution_count": 139,
   "metadata": {},
   "outputs": [
    {
     "data": {
      "text/plain": [
       "2×2 Array{Int64,2}:\n",
       " 4   5\n",
       " 5  10"
      ]
     },
     "execution_count": 139,
     "metadata": {},
     "output_type": "execute_result"
    }
   ],
   "source": [
    "M = [1 2; 3 4]\n",
    "M + (M' + 2*I)"
   ]
  },
  {
   "cell_type": "markdown",
   "metadata": {},
   "source": [
    "Now let's assume that, for some reason, we want to implement it more explicitly. Something along the lines of"
   ]
  },
  {
   "cell_type": "code",
   "execution_count": 142,
   "metadata": {},
   "outputs": [
    {
     "data": {
      "text/plain": [
       "calc (generic function with 1 method)"
      ]
     },
     "execution_count": 142,
     "metadata": {},
     "output_type": "execute_result"
    }
   ],
   "source": [
    "function calc(M)\n",
    "    X = M'\n",
    "    X[1,1] += 2\n",
    "    X[2,2] += 2\n",
    "    M + X\n",
    "end"
   ]
  },
  {
   "cell_type": "markdown",
   "metadata": {},
   "source": [
    "Let's check for correctness."
   ]
  },
  {
   "cell_type": "code",
   "execution_count": 144,
   "metadata": {},
   "outputs": [
    {
     "data": {
      "text/plain": [
       "false"
      ]
     },
     "execution_count": 144,
     "metadata": {},
     "output_type": "execute_result"
    }
   ],
   "source": [
    "calc([1 2; 3 4]) == M + (M' + 2*I)"
   ]
  },
  {
   "cell_type": "markdown",
   "metadata": {},
   "source": [
    "Somehow it's not correct!"
   ]
  },
  {
   "cell_type": "markdown",
   "metadata": {},
   "source": [
    "### How to solve this?"
   ]
  },
  {
   "cell_type": "markdown",
   "metadata": {},
   "source": [
    "The \"issue\" is that `M'` makes a lazy adjoint of `M`. It is just another way of looking at the same piece of memory. Hence, when we do `X[1,1] += 1` we are actually changing `M`, leading to a wrong result. We can heal this by enforcing a `copy`:"
   ]
  },
  {
   "cell_type": "code",
   "execution_count": 147,
   "metadata": {},
   "outputs": [
    {
     "data": {
      "text/plain": [
       "calc_corrected (generic function with 1 method)"
      ]
     },
     "execution_count": 147,
     "metadata": {},
     "output_type": "execute_result"
    }
   ],
   "source": [
    "function calc_corrected(M)\n",
    "    X = copy(M')\n",
    "    X[diagind(X)] .+= 2\n",
    "    M + X\n",
    "end"
   ]
  },
  {
   "cell_type": "code",
   "execution_count": 148,
   "metadata": {},
   "outputs": [
    {
     "data": {
      "text/plain": [
       "true"
      ]
     },
     "execution_count": 148,
     "metadata": {},
     "output_type": "execute_result"
    }
   ],
   "source": [
    "calc_corrected([1 2; 3 4]) == M + (M' + 2*I)"
   ]
  },
  {
   "cell_type": "markdown",
   "metadata": {},
   "source": [
    "This isn't really an issue. In fact, this lazyness (+ allocation free identity matrix) is precisley the reason why the straightforward solution is fast!"
   ]
  },
  {
   "cell_type": "code",
   "execution_count": 149,
   "metadata": {},
   "outputs": [
    {
     "name": "stdout",
     "output_type": "stream",
     "text": [
      "  50.557 ns (2 allocations: 128 bytes)\n",
      "  165.564 ns (5 allocations: 400 bytes)\n",
      "  90.996 ns (3 allocations: 240 bytes)\n"
     ]
    }
   ],
   "source": [
    "function calc_straightforward(A)\n",
    "    A + (A' + 2*I)\n",
    "end\n",
    "\n",
    "@btime calc($[1 2; 3 4]);\n",
    "@btime calc_corrected($[1 2; 3 4]);\n",
    "@btime calc_straightforward($[1 2; 3 4]);"
   ]
  },
  {
   "cell_type": "markdown",
   "metadata": {},
   "source": [
    "### Extra tip: Comprehensions and generators"
   ]
  },
  {
   "cell_type": "code",
   "execution_count": 158,
   "metadata": {},
   "outputs": [
    {
     "data": {
      "text/plain": [
       "10-element Array{Int64,1}:\n",
       "  1\n",
       "  2\n",
       "  3\n",
       "  4\n",
       "  5\n",
       "  6\n",
       "  7\n",
       "  8\n",
       "  9\n",
       " 10"
      ]
     },
     "execution_count": 158,
     "metadata": {},
     "output_type": "execute_result"
    }
   ],
   "source": [
    "[k for k in 1:10]"
   ]
  },
  {
   "cell_type": "markdown",
   "metadata": {},
   "source": [
    "The construct is known as a [comprehension](https://docs.julialang.org/en/v1/manual/arrays/#Comprehensions-1)."
   ]
  },
  {
   "cell_type": "code",
   "execution_count": 159,
   "metadata": {},
   "outputs": [
    {
     "data": {
      "text/plain": [
       "55"
      ]
     },
     "execution_count": 159,
     "metadata": {},
     "output_type": "execute_result"
    }
   ],
   "source": [
    "sum([k for k in 1:10])"
   ]
  },
  {
   "cell_type": "markdown",
   "metadata": {},
   "source": [
    "To avoid the temporary array that the comprehension creates, we can also write the comprehension withouth square brackets. This creates a so-called [generator expression](https://docs.julialang.org/en/v1/manual/arrays/#Generator-Expressions-1)."
   ]
  },
  {
   "cell_type": "code",
   "execution_count": 161,
   "metadata": {},
   "outputs": [
    {
     "data": {
      "text/plain": [
       "55"
      ]
     },
     "execution_count": 161,
     "metadata": {},
     "output_type": "execute_result"
    }
   ],
   "source": [
    "sum(k for k in 1:10)"
   ]
  },
  {
   "cell_type": "code",
   "execution_count": 168,
   "metadata": {},
   "outputs": [
    {
     "data": {
      "text/plain": [
       "Base.Generator{UnitRange{Int64},getfield(Main, Symbol(\"##86#87\"))}(getfield(Main, Symbol(\"##86#87\"))(), 1:10)"
      ]
     },
     "execution_count": 168,
     "metadata": {},
     "output_type": "execute_result"
    }
   ],
   "source": [
    "gen = (k for k in 1:10)"
   ]
  },
  {
   "cell_type": "code",
   "execution_count": 169,
   "metadata": {},
   "outputs": [
    {
     "data": {
      "text/plain": [
       "10-element Array{Int64,1}:\n",
       "  1\n",
       "  2\n",
       "  3\n",
       "  4\n",
       "  5\n",
       "  6\n",
       "  7\n",
       "  8\n",
       "  9\n",
       " 10"
      ]
     },
     "execution_count": 169,
     "metadata": {},
     "output_type": "execute_result"
    }
   ],
   "source": [
    "collect(gen)"
   ]
  },
  {
   "cell_type": "code",
   "execution_count": 170,
   "metadata": {},
   "outputs": [
    {
     "name": "stdout",
     "output_type": "stream",
     "text": [
      "  36.822 ns (1 allocation: 160 bytes)\n",
      "  2.599 ns (0 allocations: 0 bytes)\n"
     ]
    }
   ],
   "source": [
    "using BenchmarkTools\n",
    "\n",
    "@btime sum([k for k in 1:10]);\n",
    "@btime sum(k for k in 1:10);"
   ]
  },
  {
   "cell_type": "markdown",
   "metadata": {},
   "source": [
    "# Core messages of this Notebook\n",
    "\n",
    "* Gotcha 1: **Wrap code in self-contained functions** in performance critical applications, i.e. avoid global scope.\n",
    "* Gotcha 2: Write **type-stable code** (check with `@code_warntype`).\n",
    "* Gotcha 3: Use **views** instead of copies to avoid unnecessary allocations.\n",
    "* Gotcha 4: Use **broadcasting (more dots)** to avoid temporary allocations in vectorized code (or write out loops).\n",
    "* Gotcha 5: **Types should always have concrete fields.** If you don't know them in advance, use type parameters.\n",
    "\n",
    "\n",
    "* Gotcha 6: Be aware of the **scoping rules** in non-Jupyter-notebook environments.\n",
    "* Gotcha 7: Be aware of **column major order** when looping over arrays.\n",
    "* Gotcha 8: Be aware of **lazy operations** like, for example, transpose."
   ]
  }
 ],
 "metadata": {
  "kernelspec": {
   "display_name": "Julia 1.2.0",
   "language": "julia",
   "name": "julia-1.2"
  },
  "language_info": {
   "file_extension": ".jl",
   "mimetype": "application/julia",
   "name": "julia",
   "version": "1.2.0"
  }
 },
 "nbformat": 4,
 "nbformat_minor": 4
}
