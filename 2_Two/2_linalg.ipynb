{
 "cells": [
  {
   "cell_type": "markdown",
   "metadata": {},
   "source": [
    "# Linear Algebra ([docs](https://docs.julialang.org/en/v1.0.0/stdlib/LinearAlgebra/))"
   ]
  },
  {
   "cell_type": "markdown",
   "metadata": {},
   "source": [
    "Since **quantum mechanics is linear algebra in disguise**, most quantum algorithms involve matrix operations."
   ]
  },
  {
   "cell_type": "markdown",
   "metadata": {},
   "source": [
    "After `using LinearAlgebra`, **Julia speaks linear algebra fluently**.\n",
    "\n",
    "Performing linear algebra operations on a computer is, of course, an old problem. Lots of amazing libraries have been written - mostly in Fortran - which have been optimized over decades.\n",
    "\n",
    "Basically all high-level programming languages use these libraries, including R, Python, and Julia.\n",
    "\n",
    "Linear algebra in Julia is largely implemented by calling [BLAS](http://www.netlib.org/blas/)/[LAPACK](http://www.netlib.org/lapack/) functions. Sparse operations utilize functionality in [SuiteSparse](http://faculty.cse.tamu.edu/davis/suitesparse.html).\n",
    "\n",
    "As per default, Julia uses the [OpenBLAS](https://github.com/xianyi/OpenBLAS) implementation (BLAS, LAPACK, LIBM), which can be replaced by [Intel's MKL](https://software.intel.com/en-us/mkl) (BLAS, LAPACK) and [Intel's Math Library](https://software.intel.com/en-us/node/522653) (LIBM).\n",
    "\n",
    "**What is all this stuff?!?**\n",
    "\n",
    "* **BLAS**: a collection of low-level matrix and vector arithmetic operations (\"multiply two matrices\", \"multiply a matrix by vector\").\n",
    "* **LAPACK**:  a collection of higher-level linear algebra operations. Things like matrix factorizations (LU, LLt, QR, SVD, Schur, etc) that are used to do things like “find the eigenvalues of a matrix”, or “find the singular values of a matrix”, or “solve a linear system”.\n",
    "* **LIBM**: basic math functions like `sin`, `cos`, `sinh`, etcetera\n",
    "\n",
    "Sparse matrices are more difficult and there exist different collections of routines, one of which is **SuiteSparse**.\n",
    "\n",
    "**Why do I have to care?**\n",
    "\n",
    "* Switching from OpenBLAS to MKL can give you large speedups!\n",
    "* Since you might be leaving the world of Julia code, you loose easy inspectability and type genericity. The latter can be an issue for machine learning, as we'll discuss later in more detail."
   ]
  },
  {
   "cell_type": "markdown",
   "metadata": {},
   "source": [
    "# Taking linear algebra seriously"
   ]
  },
  {
   "cell_type": "code",
   "execution_count": 1,
   "metadata": {},
   "outputs": [],
   "source": [
    "using LinearAlgebra"
   ]
  },
  {
   "cell_type": "code",
   "execution_count": 3,
   "metadata": {},
   "outputs": [
    {
     "data": {
      "text/plain": [
       "4×4 Array{Float64,2}:\n",
       " 0.655846   0.42398   0.945025  0.0825272\n",
       " 0.254999   0.836135  0.378179  0.683137 \n",
       " 0.539871   0.187674  0.482166  0.0289349\n",
       " 0.0863307  0.571019  0.560131  0.459718 "
      ]
     },
     "execution_count": 3,
     "metadata": {},
     "output_type": "execute_result"
    }
   ],
   "source": [
    "A = rand(4,4)"
   ]
  },
  {
   "cell_type": "code",
   "execution_count": 4,
   "metadata": {},
   "outputs": [
    {
     "data": {
      "text/plain": [
       "Array{Float64,2}"
      ]
     },
     "execution_count": 4,
     "metadata": {},
     "output_type": "execute_result"
    }
   ],
   "source": [
    "typeof(A)"
   ]
  },
  {
   "cell_type": "code",
   "execution_count": 5,
   "metadata": {},
   "outputs": [
    {
     "data": {
      "text/plain": [
       "true"
      ]
     },
     "execution_count": 5,
     "metadata": {},
     "output_type": "execute_result"
    }
   ],
   "source": [
    "Array{Float64, 2} === Matrix{Float64} # equivalent not just equal"
   ]
  },
  {
   "cell_type": "code",
   "execution_count": 13,
   "metadata": {},
   "outputs": [
    {
     "data": {
      "text/plain": [
       "-0.01554909789427472"
      ]
     },
     "execution_count": 13,
     "metadata": {},
     "output_type": "execute_result"
    }
   ],
   "source": [
    "det(A)"
   ]
  },
  {
   "cell_type": "code",
   "execution_count": 14,
   "metadata": {},
   "outputs": [
    {
     "data": {
      "text/plain": [
       "4×4 Array{Float64,2}:\n",
       " -1.87369    0.459296    4.00724  -0.598368\n",
       "  8.85059    4.88241   -11.7621   -8.10373 \n",
       " -0.764268  -2.20691     1.43897   3.32607 \n",
       " -9.71031   -3.46178    12.104     8.30075 "
      ]
     },
     "execution_count": 14,
     "metadata": {},
     "output_type": "execute_result"
    }
   ],
   "source": [
    "inv(A)"
   ]
  },
  {
   "cell_type": "code",
   "execution_count": 15,
   "metadata": {},
   "outputs": [
    {
     "data": {
      "text/plain": [
       "4"
      ]
     },
     "execution_count": 15,
     "metadata": {},
     "output_type": "execute_result"
    }
   ],
   "source": [
    "rank(A)"
   ]
  },
  {
   "cell_type": "code",
   "execution_count": 16,
   "metadata": {},
   "outputs": [
    {
     "ename": "MethodError",
     "evalue": "MethodError: no method matching +(::Array{Float64,2}, ::Int64)\nClosest candidates are:\n  +(::Any, ::Any, !Matched::Any, !Matched::Any...) at operators.jl:502\n  +(!Matched::Complex{Bool}, ::Real) at complex.jl:292\n  +(!Matched::Missing, ::Number) at missing.jl:97\n  ...",
     "output_type": "error",
     "traceback": [
      "MethodError: no method matching +(::Array{Float64,2}, ::Int64)\nClosest candidates are:\n  +(::Any, ::Any, !Matched::Any, !Matched::Any...) at operators.jl:502\n  +(!Matched::Complex{Bool}, ::Real) at complex.jl:292\n  +(!Matched::Missing, ::Number) at missing.jl:97\n  ...",
      "",
      "Stacktrace:",
      " [1] top-level scope at In[16]:1"
     ]
    }
   ],
   "source": [
    "A + 3"
   ]
  },
  {
   "cell_type": "markdown",
   "metadata": {},
   "source": [
    "Julia is [taking linear algebra seriously](https://www.youtube.com/watch?v=C2RO34b_oPM)! (see [here](https://github.com/JuliaLang/julia/issues/4774), and [here](https://github.com/JuliaLang/julia/issues/20978))."
   ]
  },
  {
   "cell_type": "code",
   "execution_count": 17,
   "metadata": {},
   "outputs": [
    {
     "data": {
      "text/plain": [
       "4×4 Array{Float64,2}:\n",
       " 3.65585    0.42398   0.945025  0.0825272\n",
       " 0.254999   3.83614   0.378179  0.683137 \n",
       " 0.539871   0.187674  3.48217   0.0289349\n",
       " 0.0863307  0.571019  0.560131  3.45972  "
      ]
     },
     "execution_count": 17,
     "metadata": {},
     "output_type": "execute_result"
    }
   ],
   "source": [
    "A + 3I"
   ]
  },
  {
   "cell_type": "code",
   "execution_count": 18,
   "metadata": {},
   "outputs": [
    {
     "data": {
      "text/plain": [
       "4×4 Array{Float64,2}:\n",
       " 3.65585  3.42398  3.94502  3.08253\n",
       " 3.255    3.83614  3.37818  3.68314\n",
       " 3.53987  3.18767  3.48217  3.02893\n",
       " 3.08633  3.57102  3.56013  3.45972"
      ]
     },
     "execution_count": 18,
     "metadata": {},
     "output_type": "execute_result"
    }
   ],
   "source": [
    "A .+ 3"
   ]
  },
  {
   "cell_type": "markdown",
   "metadata": {},
   "source": [
    "Let's get a vector as well"
   ]
  },
  {
   "cell_type": "code",
   "execution_count": 19,
   "metadata": {},
   "outputs": [
    {
     "data": {
      "text/plain": [
       "4-element Array{Float64,1}:\n",
       " 0.5719801313775803 \n",
       " 0.4284641720171052 \n",
       " 0.30225331357765683\n",
       " 0.18088970377804214"
      ]
     },
     "execution_count": 19,
     "metadata": {},
     "output_type": "execute_result"
    }
   ],
   "source": [
    "v = rand(4)"
   ]
  },
  {
   "cell_type": "code",
   "execution_count": 20,
   "metadata": {},
   "outputs": [
    {
     "data": {
      "text/plain": [
       "Array{Float64,1}"
      ]
     },
     "execution_count": 20,
     "metadata": {},
     "output_type": "execute_result"
    }
   ],
   "source": [
    "typeof(v)"
   ]
  },
  {
   "cell_type": "code",
   "execution_count": 21,
   "metadata": {},
   "outputs": [
    {
     "data": {
      "text/plain": [
       "true"
      ]
     },
     "execution_count": 21,
     "metadata": {},
     "output_type": "execute_result"
    }
   ],
   "source": [
    "Array{Float64,1} === Vector{Float64}"
   ]
  },
  {
   "cell_type": "code",
   "execution_count": 22,
   "metadata": {},
   "outputs": [
    {
     "data": {
      "text/plain": [
       "0.796756529872582"
      ]
     },
     "execution_count": 22,
     "metadata": {},
     "output_type": "execute_result"
    }
   ],
   "source": [
    "norm(v)"
   ]
  },
  {
   "cell_type": "code",
   "execution_count": 24,
   "metadata": {},
   "outputs": [
    {
     "ename": "MethodError",
     "evalue": "MethodError: no method matching ^(::Array{Float64,1}, ::Int64)\nClosest candidates are:\n  ^(!Matched::Float16, ::Integer) at math.jl:795\n  ^(!Matched::Missing, ::Integer) at missing.jl:124\n  ^(!Matched::Missing, ::Number) at missing.jl:97\n  ...",
     "output_type": "error",
     "traceback": [
      "MethodError: no method matching ^(::Array{Float64,1}, ::Int64)\nClosest candidates are:\n  ^(!Matched::Float16, ::Integer) at math.jl:795\n  ^(!Matched::Missing, ::Integer) at missing.jl:124\n  ^(!Matched::Missing, ::Number) at missing.jl:97\n  ...",
      "",
      "Stacktrace:",
      " [1] macro expansion at .\\none:0 [inlined]",
      " [2] literal_pow(::typeof(^), ::Array{Float64,1}, ::Val{2}) at .\\none:0",
      " [3] top-level scope at In[24]:1"
     ]
    }
   ],
   "source": [
    "v^2 # can't square a vector"
   ]
  },
  {
   "cell_type": "code",
   "execution_count": 25,
   "metadata": {},
   "outputs": [
    {
     "data": {
      "text/plain": [
       "4-element Array{Float64,1}:\n",
       " 0.32716127069071405\n",
       " 0.1835815467023035 \n",
       " 0.09135706556867336\n",
       " 0.03272108493290783"
      ]
     },
     "execution_count": 25,
     "metadata": {},
     "output_type": "execute_result"
    }
   ],
   "source": [
    "v.^2"
   ]
  },
  {
   "cell_type": "markdown",
   "metadata": {},
   "source": [
    "Some things might be suprising"
   ]
  },
  {
   "cell_type": "code",
   "execution_count": 26,
   "metadata": {},
   "outputs": [
    {
     "data": {
      "text/plain": [
       "1×4 Transpose{Float64,Array{Float64,1}}:\n",
       " 0.90101  0.674937  0.476124  0.284946"
      ]
     },
     "execution_count": 26,
     "metadata": {},
     "output_type": "execute_result"
    }
   ],
   "source": [
    "1/v"
   ]
  },
  {
   "cell_type": "markdown",
   "metadata": {},
   "source": [
    "But if it works, there is typically meaning to it. In this case it is calculating the [Moore-Penrose-Pseudoinverse](https://en.wikipedia.org/wiki/Moore%E2%80%93Penrose_inverse#Vectors) (`transpose(v)/sum(abs2,v)`)."
   ]
  },
  {
   "cell_type": "markdown",
   "metadata": {},
   "source": [
    "# Matrix factorizations"
   ]
  },
  {
   "cell_type": "markdown",
   "metadata": {},
   "source": [
    "[Matrix factorizations (a.k.a. matrix decompositions)](https://en.wikipedia.org/wiki/Matrix_decomposition)\n",
    "compute the factorization of a matrix into a product of matrices, and are one of the central concepts\n",
    "in linear algebra.\n",
    "\n",
    "Example: `Ax = b`"
   ]
  },
  {
   "cell_type": "code",
   "execution_count": 52,
   "metadata": {},
   "outputs": [
    {
     "data": {
      "text/plain": [
       "5×5 Array{Int64,2}:\n",
       "  6  9  7  3  10\n",
       " 10  9  7  9   3\n",
       "  3  3  8  8   6\n",
       " 10  7  7  8   9\n",
       "  3  8  4  2   5"
      ]
     },
     "execution_count": 52,
     "metadata": {},
     "output_type": "execute_result"
    }
   ],
   "source": [
    "A = rand(1:10, 5, 5)"
   ]
  },
  {
   "cell_type": "code",
   "execution_count": 53,
   "metadata": {},
   "outputs": [
    {
     "data": {
      "text/plain": [
       "5-element Array{Float64,1}:\n",
       " 0.5230913150502627 \n",
       " 0.8594090644973507 \n",
       " 0.04716642482810518\n",
       " 0.11956426866373504\n",
       " 0.694194406137143  "
      ]
     },
     "execution_count": 53,
     "metadata": {},
     "output_type": "execute_result"
    }
   ],
   "source": [
    "b = rand(5)"
   ]
  },
  {
   "cell_type": "markdown",
   "metadata": {},
   "source": [
    "Solve explicitly"
   ]
  },
  {
   "cell_type": "code",
   "execution_count": 54,
   "metadata": {},
   "outputs": [
    {
     "data": {
      "text/plain": [
       "5-element Array{Float64,1}:\n",
       " -0.007419566758833651\n",
       "  0.11897423493298578 \n",
       "  0.07790192796481138 \n",
       " -0.045424075271688735\n",
       " -0.0912200668732221  "
      ]
     },
     "execution_count": 54,
     "metadata": {},
     "output_type": "execute_result"
    }
   ],
   "source": [
    "inv(A)*b"
   ]
  },
  {
   "cell_type": "markdown",
   "metadata": {},
   "source": [
    "Solve by left division `\\`"
   ]
  },
  {
   "cell_type": "code",
   "execution_count": 55,
   "metadata": {},
   "outputs": [
    {
     "data": {
      "text/plain": [
       "5-element Array{Float64,1}:\n",
       " -0.007419566758833633\n",
       "  0.11897423493298583 \n",
       "  0.07790192796481131 \n",
       " -0.04542407527168865 \n",
       " -0.0912200668732221  "
      ]
     },
     "execution_count": 55,
     "metadata": {},
     "output_type": "execute_result"
    }
   ],
   "source": [
    "A\\b"
   ]
  },
  {
   "cell_type": "code",
   "execution_count": 56,
   "metadata": {},
   "outputs": [
    {
     "name": "stdout",
     "output_type": "stream",
     "text": [
      "  1.040 μs (7 allocations: 3.50 KiB)\n",
      "  314.348 ns (4 allocations: 576 bytes)\n"
     ]
    }
   ],
   "source": [
    "using BenchmarkTools\n",
    "@btime inv($A)*$b; # it is almost never necessary to calculate the dense inverse\n",
    "@btime $A\\$b;"
   ]
  },
  {
   "cell_type": "markdown",
   "metadata": {},
   "source": [
    "What does Julia do to make this so much faster?\n",
    "\n",
    "It knows that it can perform the division much faster if it [LU decomposes](https://en.wikipedia.org/wiki/LU_decomposition) `A`."
   ]
  },
  {
   "cell_type": "code",
   "execution_count": 57,
   "metadata": {},
   "outputs": [
    {
     "data": {
      "text/plain": [
       "5-element Array{Float64,1}:\n",
       " -0.007419566758833633\n",
       "  0.11897423493298583 \n",
       "  0.07790192796481131 \n",
       " -0.04542407527168865 \n",
       " -0.0912200668732221  "
      ]
     },
     "execution_count": 57,
     "metadata": {},
     "output_type": "execute_result"
    }
   ],
   "source": [
    "lu(A)\\b"
   ]
  },
  {
   "cell_type": "code",
   "execution_count": 58,
   "metadata": {},
   "outputs": [
    {
     "name": "stdout",
     "output_type": "stream",
     "text": [
      "  295.371 ns (4 allocations: 576 bytes)\n"
     ]
    },
    {
     "data": {
      "text/plain": [
       "5-element Array{Float64,1}:\n",
       " -0.007419566758833633\n",
       "  0.11897423493298583 \n",
       "  0.07790192796481131 \n",
       " -0.04542407527168865 \n",
       " -0.0912200668732221  "
      ]
     },
     "execution_count": 58,
     "metadata": {},
     "output_type": "execute_result"
    }
   ],
   "source": [
    "@btime lu($A)\\$b"
   ]
  },
  {
   "cell_type": "markdown",
   "metadata": {},
   "source": [
    "Let's inspect the output of `lu(A)`"
   ]
  },
  {
   "cell_type": "code",
   "execution_count": 59,
   "metadata": {},
   "outputs": [
    {
     "data": {
      "text/plain": [
       "LU{Float64,Array{Float64,2}}\n",
       "L factor:\n",
       "5×5 Array{Float64,2}:\n",
       " 1.0       0.0        0.0        0.0      0.0\n",
       " 1.66667   1.0        0.0        0.0      0.0\n",
       " 0.5       0.25       1.0        0.0      0.0\n",
       " 1.66667   1.33333    0.27451    1.0      0.0\n",
       " 0.5      -0.583333  -0.392157  -1.29847  1.0\n",
       "U factor:\n",
       "5×5 Array{Float64,2}:\n",
       " 6.0   9.0   7.0       3.0       10.0    \n",
       " 0.0  -6.0  -4.66667   4.0      -13.6667 \n",
       " 0.0   0.0   5.66667   5.5        4.41667\n",
       " 0.0   0.0   0.0      -3.84314    9.34314\n",
       " 0.0   0.0   0.0       0.0        5.89158"
      ]
     },
     "execution_count": 59,
     "metadata": {},
     "output_type": "execute_result"
    }
   ],
   "source": [
    "lu(A)"
   ]
  },
  {
   "cell_type": "code",
   "execution_count": 60,
   "metadata": {},
   "outputs": [
    {
     "data": {
      "text/plain": [
       "LU{Float64,Array{Float64,2}}"
      ]
     },
     "execution_count": 60,
     "metadata": {},
     "output_type": "execute_result"
    }
   ],
   "source": [
    "typeof(lu(A))"
   ]
  },
  {
   "cell_type": "code",
   "execution_count": 61,
   "metadata": {},
   "outputs": [
    {
     "data": {
      "text/plain": [
       "Factorization"
      ]
     },
     "execution_count": 61,
     "metadata": {},
     "output_type": "execute_result"
    }
   ],
   "source": [
    "supertype(LU)"
   ]
  },
  {
   "cell_type": "markdown",
   "metadata": {},
   "source": [
    "### List of factorizations\n",
    "\n",
    "The following table summarizes the types of matrix factorizations that have been implemented in\n",
    "Julia. Details of their associated methods can be found in the [Standard Functions](https://docs.julialang.org/en/latest/stdlib/LinearAlgebra/#Standard-Functions-1) section\n",
    "of the Linear Algebra documentation.\n",
    "\n",
    "| Type              | Description                                                                                                    |\n",
    "|:----------------- |:-------------------------------------------------------------------------------------------------------------- |\n",
    "| `Cholesky`        | [Cholesky factorization](https://en.wikipedia.org/wiki/Cholesky_decomposition)                                 |\n",
    "| `CholeskyPivoted` | [Pivoted](https://en.wikipedia.org/wiki/Pivot_element) Cholesky factorization                                  |\n",
    "| `LU`              | [LU factorization](https://en.wikipedia.org/wiki/LU_decomposition)                                             |\n",
    "| `LUTridiagonal`   | LU factorization for [`Tridiagonal`](@ref) matrices                                                            |\n",
    "| `QR`              | [QR factorization](https://en.wikipedia.org/wiki/QR_decomposition)                                             |\n",
    "| `QRCompactWY`     | Compact WY form of the QR factorization                                                                        |\n",
    "| `QRPivoted`       | Pivoted [QR factorization](https://en.wikipedia.org/wiki/QR_decomposition)                                     |\n",
    "| `Hessenberg`      | [Hessenberg decomposition](http://mathworld.wolfram.com/HessenbergDecomposition.html)                          |\n",
    "| `Eigen`           | [Spectral decomposition](https://en.wikipedia.org/wiki/Eigendecomposition_(matrix))                            |\n",
    "| `SVD`             | [Singular value decomposition](https://en.wikipedia.org/wiki/Singular_value_decomposition)                     |\n",
    "| `GeneralizedSVD`  | [Generalized SVD](https://en.wikipedia.org/wiki/Generalized_singular_value_decomposition#Higher_order_version) |\n",
    "\n",
    "(Taken from the Julia docs)"
   ]
  },
  {
   "cell_type": "code",
   "execution_count": 62,
   "metadata": {},
   "outputs": [
    {
     "name": "stdout",
     "output_type": "stream",
     "text": [
      "  297.207 ns (4 allocations: 576 bytes)\n",
      "  4.057 μs (9 allocations: 1.48 KiB)\n",
      "  8.633 μs (18 allocations: 4.91 KiB)\n"
     ]
    }
   ],
   "source": [
    "@btime lu($A)\\$b\n",
    "@btime qr($A)\\$b\n",
    "@btime svd($A)\\$b;"
   ]
  },
  {
   "cell_type": "markdown",
   "metadata": {
    "scrolled": true
   },
   "source": [
    "From the documentation (`?\\`) of the left division operator:\n",
    "\n",
    ">Matrix division using a polyalgorithm. For input matrices A and B, the result X is such that A*X == B when A is square. The solver that is used depends upon the structure of A. If A is upper or lower triangular (or diagonal), no factorization of A is required and the system is solved with either forward or backward substitution."
   ]
  },
  {
   "cell_type": "markdown",
   "metadata": {},
   "source": [
    "This is what the actual heuristic looks like (`@which`/`@edit` are your friends!)\n",
    "\n",
    "```julia\n",
    "function (\\)(A::AbstractMatrix, B::AbstractVecOrMat)\n",
    "    @assert !has_offset_axes(A, B)\n",
    "    m, n = size(A)\n",
    "    if m == n\n",
    "        if istril(A)\n",
    "            if istriu(A)\n",
    "                return Diagonal(A) \\ B\n",
    "            else\n",
    "                return LowerTriangular(A) \\ B\n",
    "            end\n",
    "        end\n",
    "        if istriu(A)\n",
    "            return UpperTriangular(A) \\ B\n",
    "        end\n",
    "        return lu(A) \\ B\n",
    "    end\n",
    "    return qr(A,Val(true)) \\ B\n",
    "end\n",
    "```"
   ]
  },
  {
   "cell_type": "markdown",
   "metadata": {},
   "source": [
    "Generically, a heuristic is implemented in `factorize`:"
   ]
  },
  {
   "cell_type": "code",
   "execution_count": 65,
   "metadata": {},
   "outputs": [
    {
     "data": {
      "text/plain": [
       "LU{Float64,Array{Float64,2}}"
      ]
     },
     "execution_count": 65,
     "metadata": {},
     "output_type": "execute_result"
    }
   ],
   "source": [
    "typeof(factorize(A))"
   ]
  },
  {
   "cell_type": "code",
   "execution_count": 66,
   "metadata": {},
   "outputs": [
    {
     "data": {
      "text/plain": [
       "BunchKaufman{Float64,Array{Float64,2}}"
      ]
     },
     "execution_count": 66,
     "metadata": {},
     "output_type": "execute_result"
    }
   ],
   "source": [
    "typeof(factorize(A+A'))"
   ]
  },
  {
   "cell_type": "markdown",
   "metadata": {},
   "source": [
    "# Fast linear algebra with multiple dispatch"
   ]
  },
  {
   "cell_type": "markdown",
   "metadata": {},
   "source": [
    "Ok, we've seen that Julia analyses the input matrix using some heuristic, factorizes it appropriately to then perform the calculation efficiently. \n",
    "\n",
    "But we can (and probably should) also be more explicit about our input to avoid this heuristic. We can encode the special structure of our matrix in a type such that we directly dispatch to the efficient method. Remember, the types decide which method is actually being run!\n",
    "\n",
    "There are many reasons to indicate what kind of matrix we have.\n",
    "\n",
    "* Don't rely on a heuristic. Not all methods have one!\n",
    "* The heurisitc comes with a small performance penalty.\n",
    "* The heurisitc isn't perfect and might fail to notice our matrix's special structure. Maybe because it's not known to base Julia. As we'll see later on, many external packages define additional special matrix types and efficient procedures for them.\n",
    "\n",
    "The following special matrix types are available out-of-the-box."
   ]
  },
  {
   "cell_type": "markdown",
   "metadata": {},
   "source": [
    "### Standard matrix types\n",
    "\n",
    ">[Matrices with special symmetries and structures](http://www2.imm.dtu.dk/pubdb/views/publication_details.php?id=3274)\n",
    "arise often in linear algebra and are frequently associated with various matrix factorizations.\n",
    "Julia features a rich collection of special matrix types, which allow for fast computation with\n",
    "specialized routines that are specially developed for particular matrix types.\n",
    ">\n",
    ">The following tables summarize the types of special matrices that have been implemented in Julia,\n",
    "as well as whether hooks to various optimized methods for them in LAPACK are available.\n",
    "\n",
    "| Type                      | Description                                                                      |\n",
    "|:------------------------- |:-------------------------------------------------------------------------------- |\n",
    "| [`Symmetric`](@ref)       | [Symmetric matrix](https://en.wikipedia.org/wiki/Symmetric_matrix)               |\n",
    "| [`Hermitian`](@ref)       | [Hermitian matrix](https://en.wikipedia.org/wiki/Hermitian_matrix)               |\n",
    "| [`UpperTriangular`](@ref) | Upper [triangular matrix](https://en.wikipedia.org/wiki/Triangular_matrix)       |\n",
    "| [`LowerTriangular`](@ref) | Lower [triangular matrix](https://en.wikipedia.org/wiki/Triangular_matrix)       |\n",
    "| [`Tridiagonal`](@ref)     | [Tridiagonal matrix](https://en.wikipedia.org/wiki/Tridiagonal_matrix)           |\n",
    "| [`SymTridiagonal`](@ref)  | Symmetric tridiagonal matrix                                                     |\n",
    "| [`Bidiagonal`](@ref)      | Upper/lower [bidiagonal matrix](https://en.wikipedia.org/wiki/Bidiagonal_matrix) |\n",
    "| [`Diagonal`](@ref)        | [Diagonal matrix](https://en.wikipedia.org/wiki/Diagonal_matrix)                 |\n",
    "| [`UniformScaling`](@ref)  | [Uniform scaling operator](https://en.wikipedia.org/wiki/Uniform_scaling)        |\n",
    "\n",
    "(Taken from the Julia docs)"
   ]
  },
  {
   "cell_type": "code",
   "execution_count": 67,
   "metadata": {},
   "outputs": [
    {
     "data": {
      "text/plain": [
       "5×5 Diagonal{Int64,UnitRange{Int64}}:\n",
       " 1  ⋅  ⋅  ⋅  ⋅\n",
       " ⋅  2  ⋅  ⋅  ⋅\n",
       " ⋅  ⋅  3  ⋅  ⋅\n",
       " ⋅  ⋅  ⋅  4  ⋅\n",
       " ⋅  ⋅  ⋅  ⋅  5"
      ]
     },
     "execution_count": 67,
     "metadata": {},
     "output_type": "execute_result"
    }
   ],
   "source": [
    "D = Diagonal(1:5)"
   ]
  },
  {
   "cell_type": "code",
   "execution_count": 68,
   "metadata": {},
   "outputs": [
    {
     "data": {
      "text/plain": [
       "5×5 Array{Int64,2}:\n",
       " 1  0  0  0  0\n",
       " 0  2  0  0  0\n",
       " 0  0  3  0  0\n",
       " 0  0  0  4  0\n",
       " 0  0  0  0  5"
      ]
     },
     "execution_count": 68,
     "metadata": {},
     "output_type": "execute_result"
    }
   ],
   "source": [
    "Ddense = Matrix(D) # same matrix but type doesn't indicate diagonal structure"
   ]
  },
  {
   "cell_type": "code",
   "execution_count": 69,
   "metadata": {},
   "outputs": [
    {
     "name": "stdout",
     "output_type": "stream",
     "text": [
      "  34.038 ns (1 allocation: 128 bytes)\n",
      "  55.793 ns (1 allocation: 128 bytes)\n"
     ]
    },
    {
     "data": {
      "text/plain": [
       "5-element Array{Float64,1}:\n",
       " 0.5230913150502627 \n",
       " 1.7188181289947013 \n",
       " 0.14149927448431554\n",
       " 0.47825707465494016\n",
       " 3.470972030685715  "
      ]
     },
     "execution_count": 69,
     "metadata": {},
     "output_type": "execute_result"
    }
   ],
   "source": [
    "@btime $D*$b\n",
    "@btime $Ddense*$b"
   ]
  },
  {
   "cell_type": "markdown",
   "metadata": {},
   "source": [
    "What method does it dispatch to?"
   ]
  },
  {
   "cell_type": "code",
   "execution_count": 70,
   "metadata": {},
   "outputs": [
    {
     "data": {
      "text/html": [
       "*(D::<b>Diagonal</b>, V::<b>AbstractArray{T,1} where T</b>) in LinearAlgebra at <a href=\"file://C:/cygwin/home/Administrator/buildbot/worker/package_win64/build/usr/share/julia/stdlib/v1.1/LinearAlgebra/src/diagonal.jl\" target=\"_blank\">C:\\cygwin\\home\\Administrator\\buildbot\\worker\\package_win64\\build\\usr\\share\\julia\\stdlib\\v1.1\\LinearAlgebra\\src\\diagonal.jl:163</a>"
      ],
      "text/plain": [
       "*(D::Diagonal, V::AbstractArray{T,1} where T) in LinearAlgebra at C:\\cygwin\\home\\Administrator\\buildbot\\worker\\package_win64\\build\\usr\\share\\julia\\stdlib\\v1.1\\LinearAlgebra\\src\\diagonal.jl:163"
      ]
     },
     "execution_count": 70,
     "metadata": {},
     "output_type": "execute_result"
    }
   ],
   "source": [
    "@which D*b"
   ]
  },
  {
   "cell_type": "code",
   "execution_count": 71,
   "metadata": {},
   "outputs": [
    {
     "data": {
      "text/html": [
       "*<i>{T, S}</i>(A::<b>AbstractArray{T,2}</b>, x::<b>AbstractArray{S,1}</b>) in LinearAlgebra at <a href=\"file://C:/cygwin/home/Administrator/buildbot/worker/package_win64/build/usr/share/julia/stdlib/v1.1/LinearAlgebra/src/matmul.jl\" target=\"_blank\">C:\\cygwin\\home\\Administrator\\buildbot\\worker\\package_win64\\build\\usr\\share\\julia\\stdlib\\v1.1\\LinearAlgebra\\src\\matmul.jl:49</a>"
      ],
      "text/plain": [
       "*(A::AbstractArray{T,2}, x::AbstractArray{S,1}) where {T, S} in LinearAlgebra at C:\\cygwin\\home\\Administrator\\buildbot\\worker\\package_win64\\build\\usr\\share\\julia\\stdlib\\v1.1\\LinearAlgebra\\src\\matmul.jl:49"
      ]
     },
     "execution_count": 71,
     "metadata": {},
     "output_type": "execute_result"
    }
   ],
   "source": [
    "@which Ddense*b"
   ]
  },
  {
   "cell_type": "markdown",
   "metadata": {},
   "source": [
    "**Dense Diagonal** (`Ddense*b`)\n",
    "\n",
    "```julia\n",
    "function (*)(A::AbstractMatrix{T}, x::AbstractVector{S}) where {T,S}\n",
    "    TS = promote_op(matprod, T, S)\n",
    "    mul!(similar(x,TS,axes(A,1)),A,x)\n",
    "end\n",
    "```\n",
    "\n",
    "**Diagonal** (`D*b`)\n",
    "```julia\n",
    "(*)(D::Diagonal, V::AbstractVector) = D.diag .* V\n",
    "```"
   ]
  },
  {
   "cell_type": "markdown",
   "metadata": {},
   "source": [
    "# Operating with Hamiltonian-like matrices"
   ]
  },
  {
   "cell_type": "markdown",
   "metadata": {},
   "source": [
    "Let's build a simple Hamiltonian-like matrix"
   ]
  },
  {
   "cell_type": "code",
   "execution_count": 3,
   "metadata": {},
   "outputs": [],
   "source": [
    "N = 100\n",
    "μ = fill(-0.5, N)\n",
    "t = fill(1, N-1);"
   ]
  },
  {
   "cell_type": "code",
   "execution_count": 4,
   "metadata": {},
   "outputs": [
    {
     "data": {
      "text/plain": [
       "100×100 Array{Float64,2}:\n",
       " -0.5   1.0   0.0   0.0   0.0   0.0  …   0.0   0.0   0.0   0.0   0.0   0.0\n",
       "  1.0  -0.5   1.0   0.0   0.0   0.0      0.0   0.0   0.0   0.0   0.0   0.0\n",
       "  0.0   1.0  -0.5   1.0   0.0   0.0      0.0   0.0   0.0   0.0   0.0   0.0\n",
       "  0.0   0.0   1.0  -0.5   1.0   0.0      0.0   0.0   0.0   0.0   0.0   0.0\n",
       "  0.0   0.0   0.0   1.0  -0.5   1.0      0.0   0.0   0.0   0.0   0.0   0.0\n",
       "  0.0   0.0   0.0   0.0   1.0  -0.5  …   0.0   0.0   0.0   0.0   0.0   0.0\n",
       "  0.0   0.0   0.0   0.0   0.0   1.0      0.0   0.0   0.0   0.0   0.0   0.0\n",
       "  0.0   0.0   0.0   0.0   0.0   0.0      0.0   0.0   0.0   0.0   0.0   0.0\n",
       "  0.0   0.0   0.0   0.0   0.0   0.0      0.0   0.0   0.0   0.0   0.0   0.0\n",
       "  0.0   0.0   0.0   0.0   0.0   0.0      0.0   0.0   0.0   0.0   0.0   0.0\n",
       "  0.0   0.0   0.0   0.0   0.0   0.0  …   0.0   0.0   0.0   0.0   0.0   0.0\n",
       "  0.0   0.0   0.0   0.0   0.0   0.0      0.0   0.0   0.0   0.0   0.0   0.0\n",
       "  0.0   0.0   0.0   0.0   0.0   0.0      0.0   0.0   0.0   0.0   0.0   0.0\n",
       "  ⋮                             ⋮    ⋱         ⋮                          \n",
       "  0.0   0.0   0.0   0.0   0.0   0.0      0.0   0.0   0.0   0.0   0.0   0.0\n",
       "  0.0   0.0   0.0   0.0   0.0   0.0      0.0   0.0   0.0   0.0   0.0   0.0\n",
       "  0.0   0.0   0.0   0.0   0.0   0.0  …   0.0   0.0   0.0   0.0   0.0   0.0\n",
       "  0.0   0.0   0.0   0.0   0.0   0.0      0.0   0.0   0.0   0.0   0.0   0.0\n",
       "  0.0   0.0   0.0   0.0   0.0   0.0      0.0   0.0   0.0   0.0   0.0   0.0\n",
       "  0.0   0.0   0.0   0.0   0.0   0.0      1.0   0.0   0.0   0.0   0.0   0.0\n",
       "  0.0   0.0   0.0   0.0   0.0   0.0     -0.5   1.0   0.0   0.0   0.0   0.0\n",
       "  0.0   0.0   0.0   0.0   0.0   0.0  …   1.0  -0.5   1.0   0.0   0.0   0.0\n",
       "  0.0   0.0   0.0   0.0   0.0   0.0      0.0   1.0  -0.5   1.0   0.0   0.0\n",
       "  0.0   0.0   0.0   0.0   0.0   0.0      0.0   0.0   1.0  -0.5   1.0   0.0\n",
       "  0.0   0.0   0.0   0.0   0.0   0.0      0.0   0.0   0.0   1.0  -0.5   1.0\n",
       "  0.0   0.0   0.0   0.0   0.0   0.0      0.0   0.0   0.0   0.0   1.0  -0.5"
      ]
     },
     "execution_count": 4,
     "metadata": {},
     "output_type": "execute_result"
    }
   ],
   "source": [
    "H = diagm(0 => μ, 1 => t, -1 => t)"
   ]
  },
  {
   "cell_type": "code",
   "execution_count": 5,
   "metadata": {},
   "outputs": [],
   "source": [
    "const ϕ = rand(N); # compile-time constant => no performance drop"
   ]
  },
  {
   "cell_type": "code",
   "execution_count": 6,
   "metadata": {},
   "outputs": [
    {
     "data": {
      "text/plain": [
       "ev (generic function with 1 method)"
      ]
     },
     "execution_count": 6,
     "metadata": {},
     "output_type": "execute_result"
    }
   ],
   "source": [
    "ev(H) = ϕ'*H*ϕ # <φ|H|φ>"
   ]
  },
  {
   "cell_type": "code",
   "execution_count": 7,
   "metadata": {},
   "outputs": [
    {
     "name": "stdout",
     "output_type": "stream",
     "text": [
      "  10.201 μs (1 allocation: 896 bytes)\n"
     ]
    }
   ],
   "source": [
    "@btime ev($H);"
   ]
  },
  {
   "cell_type": "code",
   "execution_count": 8,
   "metadata": {},
   "outputs": [
    {
     "data": {
      "text/plain": [
       "Array{Float64,2}"
      ]
     },
     "execution_count": 8,
     "metadata": {},
     "output_type": "execute_result"
    }
   ],
   "source": [
    "typeof(H)"
   ]
  },
  {
   "cell_type": "markdown",
   "metadata": {},
   "source": [
    "As long as the code is generic (respects the informal `AbstractArray` interface), we can use the same piece of code for completely different array types.\n",
    "\n",
    "Let's utilize the sparsity of `H` by indicating it through a type."
   ]
  },
  {
   "cell_type": "code",
   "execution_count": 9,
   "metadata": {},
   "outputs": [
    {
     "data": {
      "text/plain": [
       "100×100 SparseMatrixCSC{Float64,Int64} with 298 stored entries:\n",
       "  [1  ,   1]  =  -0.5\n",
       "  [2  ,   1]  =  1.0\n",
       "  [1  ,   2]  =  1.0\n",
       "  [2  ,   2]  =  -0.5\n",
       "  [3  ,   2]  =  1.0\n",
       "  [2  ,   3]  =  1.0\n",
       "  [3  ,   3]  =  -0.5\n",
       "  [4  ,   3]  =  1.0\n",
       "  [3  ,   4]  =  1.0\n",
       "  [4  ,   4]  =  -0.5\n",
       "  [5  ,   4]  =  1.0\n",
       "  [4  ,   5]  =  1.0\n",
       "  ⋮\n",
       "  [97 ,  96]  =  1.0\n",
       "  [96 ,  97]  =  1.0\n",
       "  [97 ,  97]  =  -0.5\n",
       "  [98 ,  97]  =  1.0\n",
       "  [97 ,  98]  =  1.0\n",
       "  [98 ,  98]  =  -0.5\n",
       "  [99 ,  98]  =  1.0\n",
       "  [98 ,  99]  =  1.0\n",
       "  [99 ,  99]  =  -0.5\n",
       "  [100,  99]  =  1.0\n",
       "  [99 , 100]  =  1.0\n",
       "  [100, 100]  =  -0.5"
      ]
     },
     "execution_count": 9,
     "metadata": {},
     "output_type": "execute_result"
    }
   ],
   "source": [
    "using SparseArrays\n",
    "Hsparse = sparse(H)"
   ]
  },
  {
   "cell_type": "code",
   "execution_count": 10,
   "metadata": {},
   "outputs": [
    {
     "name": "stdout",
     "output_type": "stream",
     "text": [
      "  338.313 ns (2 allocations: 912 bytes)\n"
     ]
    }
   ],
   "source": [
    "@btime ev($Hsparse);"
   ]
  },
  {
   "cell_type": "markdown",
   "metadata": {},
   "source": [
    "That's a solid **30x speedup**!"
   ]
  },
  {
   "cell_type": "markdown",
   "metadata": {},
   "source": [
    "Our `H` isn't just sparse, but actually tridiagonal. Let's try to exploit that."
   ]
  },
  {
   "cell_type": "code",
   "execution_count": 11,
   "metadata": {},
   "outputs": [
    {
     "data": {
      "text/plain": [
       "100×100 Tridiagonal{Float64,Array{Float64,1}}:\n",
       " -0.5   1.0    ⋅     ⋅     ⋅     ⋅   …    ⋅     ⋅     ⋅     ⋅     ⋅     ⋅ \n",
       "  1.0  -0.5   1.0    ⋅     ⋅     ⋅        ⋅     ⋅     ⋅     ⋅     ⋅     ⋅ \n",
       "   ⋅    1.0  -0.5   1.0    ⋅     ⋅        ⋅     ⋅     ⋅     ⋅     ⋅     ⋅ \n",
       "   ⋅     ⋅    1.0  -0.5   1.0    ⋅        ⋅     ⋅     ⋅     ⋅     ⋅     ⋅ \n",
       "   ⋅     ⋅     ⋅    1.0  -0.5   1.0       ⋅     ⋅     ⋅     ⋅     ⋅     ⋅ \n",
       "   ⋅     ⋅     ⋅     ⋅    1.0  -0.5  …    ⋅     ⋅     ⋅     ⋅     ⋅     ⋅ \n",
       "   ⋅     ⋅     ⋅     ⋅     ⋅    1.0       ⋅     ⋅     ⋅     ⋅     ⋅     ⋅ \n",
       "   ⋅     ⋅     ⋅     ⋅     ⋅     ⋅        ⋅     ⋅     ⋅     ⋅     ⋅     ⋅ \n",
       "   ⋅     ⋅     ⋅     ⋅     ⋅     ⋅        ⋅     ⋅     ⋅     ⋅     ⋅     ⋅ \n",
       "   ⋅     ⋅     ⋅     ⋅     ⋅     ⋅        ⋅     ⋅     ⋅     ⋅     ⋅     ⋅ \n",
       "   ⋅     ⋅     ⋅     ⋅     ⋅     ⋅   …    ⋅     ⋅     ⋅     ⋅     ⋅     ⋅ \n",
       "   ⋅     ⋅     ⋅     ⋅     ⋅     ⋅        ⋅     ⋅     ⋅     ⋅     ⋅     ⋅ \n",
       "   ⋅     ⋅     ⋅     ⋅     ⋅     ⋅        ⋅     ⋅     ⋅     ⋅     ⋅     ⋅ \n",
       "  ⋮                             ⋮    ⋱         ⋮                          \n",
       "   ⋅     ⋅     ⋅     ⋅     ⋅     ⋅        ⋅     ⋅     ⋅     ⋅     ⋅     ⋅ \n",
       "   ⋅     ⋅     ⋅     ⋅     ⋅     ⋅        ⋅     ⋅     ⋅     ⋅     ⋅     ⋅ \n",
       "   ⋅     ⋅     ⋅     ⋅     ⋅     ⋅   …    ⋅     ⋅     ⋅     ⋅     ⋅     ⋅ \n",
       "   ⋅     ⋅     ⋅     ⋅     ⋅     ⋅        ⋅     ⋅     ⋅     ⋅     ⋅     ⋅ \n",
       "   ⋅     ⋅     ⋅     ⋅     ⋅     ⋅        ⋅     ⋅     ⋅     ⋅     ⋅     ⋅ \n",
       "   ⋅     ⋅     ⋅     ⋅     ⋅     ⋅       1.0    ⋅     ⋅     ⋅     ⋅     ⋅ \n",
       "   ⋅     ⋅     ⋅     ⋅     ⋅     ⋅      -0.5   1.0    ⋅     ⋅     ⋅     ⋅ \n",
       "   ⋅     ⋅     ⋅     ⋅     ⋅     ⋅   …   1.0  -0.5   1.0    ⋅     ⋅     ⋅ \n",
       "   ⋅     ⋅     ⋅     ⋅     ⋅     ⋅        ⋅    1.0  -0.5   1.0    ⋅     ⋅ \n",
       "   ⋅     ⋅     ⋅     ⋅     ⋅     ⋅        ⋅     ⋅    1.0  -0.5   1.0    ⋅ \n",
       "   ⋅     ⋅     ⋅     ⋅     ⋅     ⋅        ⋅     ⋅     ⋅    1.0  -0.5   1.0\n",
       "   ⋅     ⋅     ⋅     ⋅     ⋅     ⋅        ⋅     ⋅     ⋅     ⋅    1.0  -0.5"
      ]
     },
     "execution_count": 11,
     "metadata": {},
     "output_type": "execute_result"
    }
   ],
   "source": [
    "Htri = Tridiagonal(H)"
   ]
  },
  {
   "cell_type": "code",
   "execution_count": 12,
   "metadata": {},
   "outputs": [
    {
     "name": "stdout",
     "output_type": "stream",
     "text": [
      "  173.496 ns (4 allocations: 976 bytes)\n"
     ]
    }
   ],
   "source": [
    "@btime ev($Htri);"
   ]
  },
  {
   "cell_type": "markdown",
   "metadata": {},
   "source": [
    "Choosing the best type (and therewith an algorithm) can be tricky and one has to play around a bit. The good thing is that it's very easy to try out different types!\n",
    "\n",
    "Note that there are also great matrix types available in the ecosystem, see [JuliaMatrices](https://github.com/JuliaMatrices), for example."
   ]
  },
  {
   "cell_type": "markdown",
   "metadata": {},
   "source": [
    "# Extra: Calculate on the GPU"
   ]
  },
  {
   "cell_type": "markdown",
   "metadata": {},
   "source": [
    "To make another case for *generic programming*, if you want to move the calculation to a GPU, chances are you only have to change the type of your matrix!\n",
    "\n",
    " Of course, this is only true if you have one :)"
   ]
  },
  {
   "cell_type": "code",
   "execution_count": 118,
   "metadata": {},
   "outputs": [
    {
     "name": "stderr",
     "output_type": "stream",
     "text": [
      "┌ Info: Precompiling GPUArrays [0c68f7d7-f131-5f86-a1c3-88cf8149b2d7]\n",
      "└ @ Base loading.jl:1186\n"
     ]
    }
   ],
   "source": [
    "using GPUArrays"
   ]
  },
  {
   "cell_type": "code",
   "execution_count": 122,
   "metadata": {},
   "outputs": [
    {
     "data": {
      "text/plain": [
       "100×100 JLArray{Float64,2}:\n",
       " -0.5   1.0   0.0   0.0   0.0   0.0  …   0.0   0.0   0.0   0.0   0.0   0.0\n",
       "  1.0  -0.5   1.0   0.0   0.0   0.0      0.0   0.0   0.0   0.0   0.0   0.0\n",
       "  0.0   1.0  -0.5   1.0   0.0   0.0      0.0   0.0   0.0   0.0   0.0   0.0\n",
       "  0.0   0.0   1.0  -0.5   1.0   0.0      0.0   0.0   0.0   0.0   0.0   0.0\n",
       "  0.0   0.0   0.0   1.0  -0.5   1.0      0.0   0.0   0.0   0.0   0.0   0.0\n",
       "  0.0   0.0   0.0   0.0   1.0  -0.5  …   0.0   0.0   0.0   0.0   0.0   0.0\n",
       "  0.0   0.0   0.0   0.0   0.0   1.0      0.0   0.0   0.0   0.0   0.0   0.0\n",
       "  0.0   0.0   0.0   0.0   0.0   0.0      0.0   0.0   0.0   0.0   0.0   0.0\n",
       "  0.0   0.0   0.0   0.0   0.0   0.0      0.0   0.0   0.0   0.0   0.0   0.0\n",
       "  0.0   0.0   0.0   0.0   0.0   0.0      0.0   0.0   0.0   0.0   0.0   0.0\n",
       "  0.0   0.0   0.0   0.0   0.0   0.0  …   0.0   0.0   0.0   0.0   0.0   0.0\n",
       "  0.0   0.0   0.0   0.0   0.0   0.0      0.0   0.0   0.0   0.0   0.0   0.0\n",
       "  0.0   0.0   0.0   0.0   0.0   0.0      0.0   0.0   0.0   0.0   0.0   0.0\n",
       "  ⋮                             ⋮    ⋱         ⋮                          \n",
       "  0.0   0.0   0.0   0.0   0.0   0.0      0.0   0.0   0.0   0.0   0.0   0.0\n",
       "  0.0   0.0   0.0   0.0   0.0   0.0      0.0   0.0   0.0   0.0   0.0   0.0\n",
       "  0.0   0.0   0.0   0.0   0.0   0.0  …   0.0   0.0   0.0   0.0   0.0   0.0\n",
       "  0.0   0.0   0.0   0.0   0.0   0.0      0.0   0.0   0.0   0.0   0.0   0.0\n",
       "  0.0   0.0   0.0   0.0   0.0   0.0      0.0   0.0   0.0   0.0   0.0   0.0\n",
       "  0.0   0.0   0.0   0.0   0.0   0.0      1.0   0.0   0.0   0.0   0.0   0.0\n",
       "  0.0   0.0   0.0   0.0   0.0   0.0     -0.5   1.0   0.0   0.0   0.0   0.0\n",
       "  0.0   0.0   0.0   0.0   0.0   0.0  …   1.0  -0.5   1.0   0.0   0.0   0.0\n",
       "  0.0   0.0   0.0   0.0   0.0   0.0      0.0   1.0  -0.5   1.0   0.0   0.0\n",
       "  0.0   0.0   0.0   0.0   0.0   0.0      0.0   0.0   1.0  -0.5   1.0   0.0\n",
       "  0.0   0.0   0.0   0.0   0.0   0.0      0.0   0.0   0.0   1.0  -0.5   1.0\n",
       "  0.0   0.0   0.0   0.0   0.0   0.0      0.0   0.0   0.0   0.0   1.0  -0.5"
      ]
     },
     "execution_count": 122,
     "metadata": {},
     "output_type": "execute_result"
    }
   ],
   "source": [
    "# Hgpu = CuArray(H) # CUDA, CuArrays.jl\n",
    "# Hgpu = CLArray(H) # Open-CL, CLArrays.jl\n",
    "Hgpu = JLArray(H) # I don't have a GPU so I'll take a fake GPU Array on the CPU :)"
   ]
  },
  {
   "cell_type": "code",
   "execution_count": 123,
   "metadata": {},
   "outputs": [
    {
     "ename": "ErrorException",
     "evalue": "conversion to pointer not defined for JLArray{Float64,2}",
     "output_type": "error",
     "traceback": [
      "conversion to pointer not defined for JLArray{Float64,2}",
      "",
      "Stacktrace:",
      " [1] error(::String) at .\\error.jl:33",
      " [2] unsafe_convert(::Type{Ptr{Float64}}, ::JLArray{Float64,2}) at .\\pointer.jl:67",
      " [3] gemv!(::Char, ::Float64, ::JLArray{Float64,2}, ::Array{Float64,1}, ::Float64, ::Array{Float64,1}) at C:\\cygwin\\home\\Administrator\\buildbot\\worker\\package_win64\\build\\usr\\share\\julia\\stdlib\\v1.1\\LinearAlgebra\\src\\blas.jl:577",
      " [4] gemv!(::Array{Float64,1}, ::Char, ::JLArray{Float64,2}, ::Array{Float64,1}) at C:\\cygwin\\home\\Administrator\\buildbot\\worker\\package_win64\\build\\usr\\share\\julia\\stdlib\\v1.1\\LinearAlgebra\\src\\matmul.jl:360",
      " [5] * at C:\\cygwin\\home\\Administrator\\buildbot\\worker\\package_win64\\build\\usr\\share\\julia\\stdlib\\v1.1\\LinearAlgebra\\src\\matmul.jl:90 [inlined]",
      " [6] * at C:\\cygwin\\home\\Administrator\\buildbot\\worker\\package_win64\\build\\usr\\share\\julia\\stdlib\\v1.1\\LinearAlgebra\\src\\matmul.jl:122 [inlined]",
      " [7] * at .\\operators.jl:502 [inlined]",
      " [8] ev at .\\In[105]:1 [inlined]",
      " [9] ##core#700(::JLArray{Float64,2}) at C:\\Users\\carsten\\.julia\\packages\\BenchmarkTools\\mVOqg\\src\\execution.jl:297",
      " [10] ##sample#701(::BenchmarkTools.Parameters) at C:\\Users\\carsten\\.julia\\packages\\BenchmarkTools\\mVOqg\\src\\execution.jl:303",
      " [11] #_run#32(::Bool, ::String, ::Base.Iterators.Pairs{Symbol,Integer,NTuple{4,Symbol},NamedTuple{(:samples, :evals, :gctrial, :gcsample),Tuple{Int64,Int64,Bool,Bool}}}, ::Function, ::BenchmarkTools.Benchmark{Symbol(\"##benchmark#699\")}, ::BenchmarkTools.Parameters) at C:\\Users\\carsten\\.julia\\packages\\BenchmarkTools\\mVOqg\\src\\execution.jl:331",
      " [12] (::getfield(Base, Symbol(\"#inner#2\")){Base.Iterators.Pairs{Symbol,Integer,NTuple{5,Symbol},NamedTuple{(:verbose, :samples, :evals, :gctrial, :gcsample),Tuple{Bool,Int64,Int64,Bool,Bool}}},typeof(BenchmarkTools._run),Tuple{BenchmarkTools.Benchmark{Symbol(\"##benchmark#699\")},BenchmarkTools.Parameters}})() at .\\none:0",
      " [13] #invokelatest#1 at .\\essentials.jl:746 [inlined]",
      " [14] #invokelatest at .\\none:0 [inlined]",
      " [15] #run_result#19 at C:\\Users\\carsten\\.julia\\packages\\BenchmarkTools\\mVOqg\\src\\execution.jl:32 [inlined]",
      " [16] #run_result at .\\none:0 [inlined]",
      " [17] #run#21(::Base.Iterators.Pairs{Symbol,Integer,NTuple{5,Symbol},NamedTuple{(:verbose, :samples, :evals, :gctrial, :gcsample),Tuple{Bool,Int64,Int64,Bool,Bool}}}, ::Function, ::BenchmarkTools.Benchmark{Symbol(\"##benchmark#699\")}, ::BenchmarkTools.Parameters) at C:\\Users\\carsten\\.julia\\packages\\BenchmarkTools\\mVOqg\\src\\execution.jl:46",
      " [18] #run at .\\none:0 [inlined] (repeats 2 times)",
      " [19] #warmup#24 at C:\\Users\\carsten\\.julia\\packages\\BenchmarkTools\\mVOqg\\src\\execution.jl:79 [inlined]",
      " [20] warmup(::BenchmarkTools.Benchmark{Symbol(\"##benchmark#699\")}) at C:\\Users\\carsten\\.julia\\packages\\BenchmarkTools\\mVOqg\\src\\execution.jl:79",
      " [21] top-level scope at C:\\Users\\carsten\\.julia\\packages\\BenchmarkTools\\mVOqg\\src\\execution.jl:390",
      " [22] top-level scope at In[123]:1"
     ]
    }
   ],
   "source": [
    "@btime ev($Hgpu); # of course it's no faster without a real GPU :)"
   ]
  },
  {
   "cell_type": "markdown",
   "metadata": {},
   "source": [
    "With `DistributedArray`, which is similar in spirit, we'll learn about another type that affects *where* a computation is happening in the parallel computing part of the workshop."
   ]
  },
  {
   "cell_type": "markdown",
   "metadata": {},
   "source": [
    "# Exact diagonalisation a.k.a Eigendecomposition"
   ]
  },
  {
   "cell_type": "markdown",
   "metadata": {},
   "source": [
    "To diagonalize our dense \"Hamiltonian\", we simply call the built-in function `eigen`."
   ]
  },
  {
   "cell_type": "code",
   "execution_count": 124,
   "metadata": {},
   "outputs": [
    {
     "data": {
      "text/plain": [
       "Eigen{Float64,Float64,Array{Float64,2},Array{Float64,1}}\n",
       "eigenvalues:\n",
       "100-element Array{Float64,1}:\n",
       " -2.4990325645839753\n",
       " -2.4961311942671887\n",
       " -2.4912986959380365\n",
       " -2.484539744726553 \n",
       " -2.475860879481513 \n",
       " -2.4652704964445267\n",
       " -2.4527788411272136\n",
       " -2.438397998399332 \n",
       " -2.422141880797449 \n",
       " -2.4040262150654583\n",
       " -2.384068526939977 \n",
       " -2.3622881241953175\n",
       " -2.3387060779644715\n",
       "  ⋮                 \n",
       "  1.362288124195319 \n",
       "  1.3840685269399784\n",
       "  1.4040262150654599\n",
       "  1.422141880797449 \n",
       "  1.4383979983993322\n",
       "  1.452778841127214 \n",
       "  1.4652704964445273\n",
       "  1.4758608794815133\n",
       "  1.484539744726553 \n",
       "  1.4912986959380372\n",
       "  1.4961311942671887\n",
       "  1.4990325645839762\n",
       "eigenvectors:\n",
       "100×100 Array{Float64,2}:\n",
       "  0.00437636   0.00874848  -0.0131121  …  0.0131121   0.00874848  0.00437636\n",
       " -0.00874848  -0.0174631    0.0261102     0.0261102   0.0174631   0.00874848\n",
       "  0.0131121    0.0261102   -0.038881      0.038881    0.0261102   0.0131121 \n",
       " -0.0174631   -0.0346562    0.0513136     0.0513136   0.0346562   0.0174631 \n",
       "  0.0217972    0.0430682   -0.0632996     0.0632996   0.0430682   0.0217972 \n",
       " -0.0261102   -0.0513136    0.0747349  …  0.0747349   0.0513136   0.0261102 \n",
       "  0.0303979    0.0593604   -0.0855198     0.0855198   0.0593604   0.0303979 \n",
       " -0.0346562   -0.0671776    0.0955607     0.0955607   0.0671776   0.0346562 \n",
       "  0.038881     0.0747349   -0.10477       0.10477     0.0747349   0.038881  \n",
       " -0.0430682   -0.082003     0.113068      0.113068    0.082003    0.0430682 \n",
       "  0.0472137    0.0889539   -0.120382   …  0.120382    0.0889539   0.0472137 \n",
       " -0.0513136   -0.0955607    0.126648      0.126648    0.0955607   0.0513136 \n",
       "  0.0553638    0.101798    -0.131812      0.131812    0.101798    0.0553638 \n",
       "  ⋮                                    ⋱                                    \n",
       "  0.0513136   -0.0955607   -0.126648      0.126648   -0.0955607   0.0513136 \n",
       " -0.0472137    0.0889539    0.120382      0.120382   -0.0889539   0.0472137 \n",
       "  0.0430682   -0.082003    -0.113068   …  0.113068   -0.082003    0.0430682 \n",
       " -0.038881     0.0747349    0.10477       0.10477    -0.0747349   0.038881  \n",
       "  0.0346562   -0.0671776   -0.0955607     0.0955607  -0.0671776   0.0346562 \n",
       " -0.0303979    0.0593604    0.0855198     0.0855198  -0.0593604   0.0303979 \n",
       "  0.0261102   -0.0513136   -0.0747349     0.0747349  -0.0513136   0.0261102 \n",
       " -0.0217972    0.0430682    0.0632996  …  0.0632996  -0.0430682   0.0217972 \n",
       "  0.0174631   -0.0346562   -0.0513136     0.0513136  -0.0346562   0.0174631 \n",
       " -0.0131121    0.0261102    0.038881      0.038881   -0.0261102   0.0131121 \n",
       "  0.00874848  -0.0174631   -0.0261102     0.0261102  -0.0174631   0.00874848\n",
       " -0.00437636   0.00874848   0.0131121     0.0131121  -0.00874848  0.00437636"
      ]
     },
     "execution_count": 124,
     "metadata": {},
     "output_type": "execute_result"
    }
   ],
   "source": [
    "eigen(H)"
   ]
  },
  {
   "cell_type": "markdown",
   "metadata": {},
   "source": [
    "Since Julia is using eigenproblem solvers from LAPACK (written in a low-level language) the code is, of course, **not generic**."
   ]
  },
  {
   "cell_type": "markdown",
   "metadata": {},
   "source": [
    "The best Julia can do, without implementing new functionality, is manually dispatch to the best LAPACK routine available.\n",
    "\n",
    "Hence, it won't work with most of our special matrices."
   ]
  },
  {
   "cell_type": "code",
   "execution_count": 13,
   "metadata": {},
   "outputs": [
    {
     "ename": "MethodError",
     "evalue": "MethodError: no method matching eigen(::Tridiagonal{Float64,Array{Float64,1}})\nClosest candidates are:\n  eigen(::AbstractArray{TA,2}, !Matched::AbstractArray{TB,2}) where {TA, TB} at C:\\cygwin\\home\\Administrator\\buildbot\\worker\\package_win64\\build\\usr\\share\\julia\\stdlib\\v1.1\\LinearAlgebra\\src\\eigen.jl:382\n  eigen(!Matched::SymTridiagonal{T,V} where V<:AbstractArray{T,1}) where T at C:\\cygwin\\home\\Administrator\\buildbot\\worker\\package_win64\\build\\usr\\share\\julia\\stdlib\\v1.1\\LinearAlgebra\\src\\tridiag.jl:201\n  eigen(!Matched::SymTridiagonal{T,V} where V<:AbstractArray{T,1}, !Matched::UnitRange) where T at C:\\cygwin\\home\\Administrator\\buildbot\\worker\\package_win64\\build\\usr\\share\\julia\\stdlib\\v1.1\\LinearAlgebra\\src\\tridiag.jl:205\n  ...",
     "output_type": "error",
     "traceback": [
      "MethodError: no method matching eigen(::Tridiagonal{Float64,Array{Float64,1}})\nClosest candidates are:\n  eigen(::AbstractArray{TA,2}, !Matched::AbstractArray{TB,2}) where {TA, TB} at C:\\cygwin\\home\\Administrator\\buildbot\\worker\\package_win64\\build\\usr\\share\\julia\\stdlib\\v1.1\\LinearAlgebra\\src\\eigen.jl:382\n  eigen(!Matched::SymTridiagonal{T,V} where V<:AbstractArray{T,1}) where T at C:\\cygwin\\home\\Administrator\\buildbot\\worker\\package_win64\\build\\usr\\share\\julia\\stdlib\\v1.1\\LinearAlgebra\\src\\tridiag.jl:201\n  eigen(!Matched::SymTridiagonal{T,V} where V<:AbstractArray{T,1}, !Matched::UnitRange) where T at C:\\cygwin\\home\\Administrator\\buildbot\\worker\\package_win64\\build\\usr\\share\\julia\\stdlib\\v1.1\\LinearAlgebra\\src\\tridiag.jl:205\n  ...",
      "",
      "Stacktrace:",
      " [1] top-level scope at In[13]:1"
     ]
    }
   ],
   "source": [
    "eigen(Htri);"
   ]
  },
  {
   "cell_type": "markdown",
   "metadata": {},
   "source": [
    "If we're lucky, someone has implemented a generic solver in Julia that works for a wider range of types. Example:"
   ]
  },
  {
   "cell_type": "code",
   "execution_count": 23,
   "metadata": {},
   "outputs": [],
   "source": [
    "Hbig = big.(H)\n",
    "eigen(Hermitian(Hbig));"
   ]
  },
  {
   "cell_type": "code",
   "execution_count": 24,
   "metadata": {},
   "outputs": [],
   "source": [
    "using GenericLinearAlgebra"
   ]
  },
  {
   "cell_type": "code",
   "execution_count": 25,
   "metadata": {},
   "outputs": [],
   "source": [
    "eigen(Hermitian(Hbig));"
   ]
  },
  {
   "cell_type": "markdown",
   "metadata": {},
   "source": [
    "Arguably the most important matrix type in physics applications is a sparse matrix, i.e. `SparseMatrixCSC`."
   ]
  },
  {
   "cell_type": "code",
   "execution_count": 27,
   "metadata": {},
   "outputs": [
    {
     "ename": "ErrorException",
     "evalue": "eigen(A) not supported for sparse matrices. Use for example eigs(A) from the Arpack package instead.",
     "output_type": "error",
     "traceback": [
      "eigen(A) not supported for sparse matrices. Use for example eigs(A) from the Arpack package instead.",
      "",
      "Stacktrace:",
      " [1] error(::String) at .\\error.jl:33",
      " [2] eigen(::SparseMatrixCSC{Float64,Int64}) at C:\\cygwin\\home\\Administrator\\buildbot\\worker\\package_win64\\build\\usr\\share\\julia\\stdlib\\v1.1\\SparseArrays\\src\\linalg.jl:1365",
      " [3] top-level scope at In[27]:1"
     ]
    }
   ],
   "source": [
    "eigen(Hsparse)"
   ]
  },
  {
   "cell_type": "markdown",
   "metadata": {},
   "source": [
    "Let's follow Julia's advice and take a look at [ARPACK.jl](https://github.com/JuliaLinearAlgebra/Arpack.jl)."
   ]
  },
  {
   "cell_type": "markdown",
   "metadata": {},
   "source": [
    "### Diagonalizing sparse matrices"
   ]
  },
  {
   "cell_type": "markdown",
   "metadata": {},
   "source": [
    "[ARPACK.jl]() -  Wrapper to Fortran library [ARPACK](https://www.caam.rice.edu/software/ARPACK/) which implements **iterative** eigenvalue and singular value solvers. By far the most established sparse eigensolver.\n",
    "\n",
    "Julia implementations:\n",
    "\n",
    "* [ArnoldiMethod.jl](https://github.com/haampie/ArnoldiMethod.jl)\n",
    "* [KrylovKit.jl](https://github.com/Jutho/KrylovKit.jl)\n",
    "* [IterativeSolvers.jl](https://github.com/JuliaMath/IterativeSolvers.jl)\n",
    "* and more\n",
    "\n",
    "\n",
    "A key thing to remember is that while `eigen` is - up to numerical errors - exact, the methods in the packages above are iterative and approximative."
   ]
  },
  {
   "cell_type": "markdown",
   "metadata": {},
   "source": [
    "Arpack uses a different name for the eigenvalue decomposition. They called it `eigs`."
   ]
  },
  {
   "cell_type": "code",
   "execution_count": 49,
   "metadata": {},
   "outputs": [
    {
     "data": {
      "text/plain": [
       "([-2.49903, -2.49613, -2.4913, -2.48454, -2.47586, -2.46527], [0.00437636 0.00874848 … -0.0217972 -0.0261102; -0.00874848 -0.0174631 … 0.0430682 0.0513136; … ; 0.00874848 -0.0174631 … -0.0430682 0.0513136; -0.00437636 0.00874848 … 0.0217972 -0.0261102], 6, 25, 328, [-0.121471, 0.00949129, 0.101141, -0.160788, -0.0368292, 0.218783, 0.139045, 0.246895, 0.18116, -0.0681466  …  -4.82843e-5, 0.0310503, -0.00420781, 0.0121782, -0.0147454, 0.0311968, 0.15576, -0.240861, 0.170909, 0.0737687])"
      ]
     },
     "execution_count": 49,
     "metadata": {},
     "output_type": "execute_result"
    }
   ],
   "source": [
    "using Arpack\n",
    "λ, evs = eigs(Hsparse)"
   ]
  },
  {
   "cell_type": "code",
   "execution_count": 50,
   "metadata": {},
   "outputs": [
    {
     "data": {
      "text/plain": [
       "6-element Array{Float64,1}:\n",
       " -2.4990325645839877\n",
       " -2.4961311942671984\n",
       " -2.491298695938035 \n",
       " -2.4845397447265594\n",
       " -2.475860879481515 \n",
       " -2.4652704964445236"
      ]
     },
     "execution_count": 50,
     "metadata": {},
     "output_type": "execute_result"
    }
   ],
   "source": [
    "λ"
   ]
  },
  {
   "cell_type": "markdown",
   "metadata": {},
   "source": [
    "For ArnoldiMethod, one has to go through a two-step process."
   ]
  },
  {
   "cell_type": "code",
   "execution_count": 51,
   "metadata": {},
   "outputs": [],
   "source": [
    "using ArnoldiMethod\n",
    "decomp, history = partialschur(Hsparse)\n",
    "λ, evs = partialeigen(decomp);"
   ]
  },
  {
   "cell_type": "code",
   "execution_count": 52,
   "metadata": {},
   "outputs": [
    {
     "data": {
      "text/plain": [
       "6-element Array{Float64,1}:\n",
       " -2.4990325645839913\n",
       " -2.4961311942671816\n",
       " -2.4912986959380383\n",
       " -2.484539744726538 \n",
       " -2.4758608794815165\n",
       " -2.4652704964445316"
      ]
     },
     "execution_count": 52,
     "metadata": {},
     "output_type": "execute_result"
    }
   ],
   "source": [
    "λ"
   ]
  },
  {
   "cell_type": "markdown",
   "metadata": {},
   "source": [
    "In KrylovKit, they call the function `eigsolve`."
   ]
  },
  {
   "cell_type": "code",
   "execution_count": 76,
   "metadata": {},
   "outputs": [],
   "source": [
    "using KrylovKit\n",
    "λ, evs = eigsolve(Hsparse);"
   ]
  },
  {
   "cell_type": "code",
   "execution_count": 77,
   "metadata": {},
   "outputs": [
    {
     "data": {
      "text/plain": [
       "5-element Array{Float64,1}:\n",
       " -2.4990325645839753\n",
       " -2.496131194267191 \n",
       " -2.4912986959380388\n",
       " -2.4845397447265523\n",
       " -2.475860879481518 "
      ]
     },
     "execution_count": 77,
     "metadata": {},
     "output_type": "execute_result"
    }
   ],
   "source": [
    "λ"
   ]
  },
  {
   "cell_type": "markdown",
   "metadata": {},
   "source": [
    "# Core messages of this Notebook"
   ]
  },
  {
   "cell_type": "markdown",
   "metadata": {},
   "source": [
    "* The standard libraries `LinearAlgebra` and `SparseArrays` make Julia speak linear algebra.\n",
    "* **Indicate properties and structure of a matrix**, like hermiticity or sparsity, through types. Fallback to generic types only if you run into method errors.\n",
    "* For **sparse matrix exact diagonalization**, ARPACK.jl is sort of a standard but there are great alternatives like ArnoldiMethods.jl."
   ]
  },
  {
   "cell_type": "markdown",
   "metadata": {},
   "source": [
    "# If time permits: Run calculations on the GPU"
   ]
  }
 ],
 "metadata": {
  "@webio": {
   "lastCommId": null,
   "lastKernelId": null
  },
  "kernelspec": {
   "display_name": "Julia 1.1.0",
   "language": "julia",
   "name": "julia-1.1"
  },
  "language_info": {
   "file_extension": ".jl",
   "mimetype": "application/julia",
   "name": "julia",
   "version": "1.1.0"
  }
 },
 "nbformat": 4,
 "nbformat_minor": 2
}
