{
 "cells": [
  {
   "cell_type": "markdown",
   "metadata": {},
   "source": [
    "# Transverse field quantum Ising chain"
   ]
  },
  {
   "cell_type": "markdown",
   "metadata": {},
   "source": [
    "$$ \\mathcal{H} = -\\sum_{\\langle i, j \\rangle} \\hat{\\sigma}_i^z \\otimes \\hat{\\sigma}_j^z - h\\sum_i \\hat{\\sigma}_i^x $$\n",
    "\n",
    "$$ \\hat{\\sigma}^z\\left| \\downarrow \\right\\rangle = \\left| \\downarrow \\right\\rangle $$\n",
    "\n",
    "$$ \\hat{\\sigma}^z\\left| \\uparrow \\right\\rangle = \\left| \\uparrow \\right\\rangle $$\n",
    "\n",
    "$$ \\hat{\\sigma}^x\\left| \\downarrow \\right\\rangle = \\left| \\uparrow \\right\\rangle $$\n",
    "\n",
    "$$ \\hat{\\sigma}^x\\left| \\uparrow \\right\\rangle = \\left| \\downarrow \\right\\rangle $$\n",
    "\n",
    "Here, $\\hat{\\sigma}^z$ and $\\hat{\\sigma}^x$ are two of the three [Pauli matrices](https://en.wikipedia.org/wiki/Pauli_matrices).\n",
    "\n",
    "Due to the $\\sigma^x$ contribution, $\\mathcal{H}$ is clearly *not* diagonal in the simulation basis, at least as long as $h$ is nonzero.\n",
    "\n",
    "This is the reason why we call this a *quantum* Ising model."
   ]
  },
  {
   "cell_type": "code",
   "execution_count": 2,
   "metadata": {},
   "outputs": [
    {
     "data": {
      "text/plain": [
       "2×2 Array{Int64,2}:\n",
       " 1   0\n",
       " 0  -1"
      ]
     },
     "execution_count": 2,
     "metadata": {},
     "output_type": "execute_result"
    }
   ],
   "source": [
    "σᶻ = [1 0; 0 -1] # \\sigma <TAB> followed by \\^z <TAB>"
   ]
  },
  {
   "cell_type": "code",
   "execution_count": 3,
   "metadata": {},
   "outputs": [
    {
     "data": {
      "text/plain": [
       "2×2 Array{Int64,2}:\n",
       " 0  1\n",
       " 1  0"
      ]
     },
     "execution_count": 3,
     "metadata": {},
     "output_type": "execute_result"
    }
   ],
   "source": [
    "σˣ = [0 1; 1 0]"
   ]
  },
  {
   "cell_type": "markdown",
   "metadata": {},
   "source": [
    "While $\\sigma^z$ is diagonal in our basis, $\\sigma^x$ is purely off-diagonal."
   ]
  },
  {
   "cell_type": "code",
   "execution_count": 4,
   "metadata": {},
   "outputs": [
    {
     "data": {
      "text/plain": [
       "2-element Array{Int64,1}:\n",
       " 0\n",
       " 1"
      ]
     },
     "execution_count": 4,
     "metadata": {},
     "output_type": "execute_result"
    }
   ],
   "source": [
    "σˣ * [1,0]"
   ]
  },
  {
   "cell_type": "code",
   "execution_count": 5,
   "metadata": {},
   "outputs": [
    {
     "data": {
      "text/plain": [
       "2-element Array{Int64,1}:\n",
       " 1\n",
       " 0"
      ]
     },
     "execution_count": 5,
     "metadata": {},
     "output_type": "execute_result"
    }
   ],
   "source": [
    "σˣ * [0,1]"
   ]
  },
  {
   "cell_type": "code",
   "execution_count": 6,
   "metadata": {},
   "outputs": [
    {
     "data": {
      "text/plain": [
       "4×4 Array{Int64,2}:\n",
       " 1   0   0  0\n",
       " 0  -1   0  0\n",
       " 0   0  -1  0\n",
       " 0   0   0  1"
      ]
     },
     "execution_count": 6,
     "metadata": {},
     "output_type": "execute_result"
    }
   ],
   "source": [
    "kron(σᶻ,σᶻ) # this is the matrix of the tensor product σᶻᵢ⊗ σᶻⱼ (⊗ = \\otimes <TAB>)"
   ]
  },
  {
   "cell_type": "code",
   "execution_count": 7,
   "metadata": {},
   "outputs": [
    {
     "data": {
      "text/plain": [
       "⊗ (generic function with 1 method)"
      ]
     },
     "execution_count": 7,
     "metadata": {},
     "output_type": "execute_result"
    }
   ],
   "source": [
    "⊗(x,y) = kron(x,y)"
   ]
  },
  {
   "cell_type": "code",
   "execution_count": 8,
   "metadata": {},
   "outputs": [
    {
     "data": {
      "text/plain": [
       "4×4 Array{Int64,2}:\n",
       " 1   0   0  0\n",
       " 0  -1   0  0\n",
       " 0   0  -1  0\n",
       " 0   0   0  1"
      ]
     },
     "execution_count": 8,
     "metadata": {},
     "output_type": "execute_result"
    }
   ],
   "source": [
    "σᶻ ⊗ σᶻ"
   ]
  },
  {
   "cell_type": "markdown",
   "metadata": {},
   "source": [
    "### Example: 4-site Hamiltonian"
   ]
  },
  {
   "cell_type": "markdown",
   "metadata": {},
   "source": [
    "$$ \\mathcal{H}_4 = -\\hat{\\sigma}_1^z \\hat{\\sigma}_2^z \\hat{I}_3 \\hat{I}_4 - \\hat{I}_1 \\hat{\\sigma}_2^z \\hat{\\sigma}_3^z \\hat{I}_4 - \\hat{I}_1 \\hat{I}_2 \\hat{\\sigma}_3^z \\hat{\\sigma}_4^z - \\hat{\\sigma}^z_1 \\hat{I}_2 \\hat{I}_3 \\hat{\\sigma}_4^z - h\\left(\\hat{\\sigma}_1^x\\hat{I}_2 \\hat{I}_3\\hat{I}_4 + \\hat{I}_1 \\hat{\\sigma}_2^x \\hat{I}_3\\hat{I}_4 +\\hat{I}_1 \\hat{I}_2 \\hat{\\sigma}_3^x\\hat{I}_4 + \\hat{I}_1 \\hat{I}_2 \\hat{I}_3 \\hat{\\sigma}_4^x\\right) $$"
   ]
  },
  {
   "cell_type": "code",
   "execution_count": 9,
   "metadata": {},
   "outputs": [
    {
     "data": {
      "text/plain": [
       "16×16 Array{Int64,2}:\n",
       " -3   0  -2   0  -2   0   0   0  -2   0   0   0   0   0   0   0\n",
       "  0  -1   0  -2   0  -2   0   0   0  -2   0   0   0   0   0   0\n",
       " -2   0   1   0   0   0  -2   0   0   0  -2   0   0   0   0   0\n",
       "  0  -2   0  -1   0   0   0  -2   0   0   0  -2   0   0   0   0\n",
       " -2   0   0   0   1   0  -2   0   0   0   0   0  -2   0   0   0\n",
       "  0  -2   0   0   0   3   0  -2   0   0   0   0   0  -2   0   0\n",
       "  0   0  -2   0  -2   0   1   0   0   0   0   0   0   0  -2   0\n",
       "  0   0   0  -2   0  -2   0  -1   0   0   0   0   0   0   0  -2\n",
       " -2   0   0   0   0   0   0   0  -1   0  -2   0  -2   0   0   0\n",
       "  0  -2   0   0   0   0   0   0   0   1   0  -2   0  -2   0   0\n",
       "  0   0  -2   0   0   0   0   0  -2   0   3   0   0   0  -2   0\n",
       "  0   0   0  -2   0   0   0   0   0  -2   0   1   0   0   0  -2\n",
       "  0   0   0   0  -2   0   0   0  -2   0   0   0  -1   0  -2   0\n",
       "  0   0   0   0   0  -2   0   0   0  -2   0   0   0   1   0  -2\n",
       "  0   0   0   0   0   0  -2   0   0   0  -2   0  -2   0  -1   0\n",
       "  0   0   0   0   0   0   0  -2   0   0   0  -2   0  -2   0  -3"
      ]
     },
     "execution_count": 9,
     "metadata": {},
     "output_type": "execute_result"
    }
   ],
   "source": [
    "id = [1 0; 0 1] # identity matrix\n",
    "\n",
    "# Isn't Julia great? :)\n",
    "H = - σᶻ⊗σᶻ⊗id⊗id - id⊗σᶻ⊗σᶻ⊗id - id⊗id⊗σᶻ⊗σᶻ\n",
    "H -= 2*(σˣ⊗id⊗id⊗id + id⊗σˣ⊗id⊗id + id⊗id⊗σˣ⊗id)"
   ]
  },
  {
   "cell_type": "markdown",
   "metadata": {},
   "source": [
    "# Basis representation\n",
    "\n",
    "Going beyond a single spin, we have to think how to encode our basis states.\n",
    "\n",
    "Arbitrary choice:\n",
    "$0 = \\text{false} = \\downarrow$ and $1 = \\text{true} = \\uparrow$\n",
    "\n",
    "Example: $|0010\\rangle = |\\text{false},\\text{false},\\text{true},\\text{false}\\rangle = |\\downarrow\\downarrow\\uparrow\\downarrow>$ is a basis state of a 4-site system"
   ]
  },
  {
   "cell_type": "code",
   "execution_count": 10,
   "metadata": {},
   "outputs": [
    {
     "data": {
      "text/plain": [
       "generate_basis"
      ]
     },
     "execution_count": 10,
     "metadata": {},
     "output_type": "execute_result"
    }
   ],
   "source": [
    "bit_rep(num::Integer, N::Integer) = BitArray(parse(Bool, i) for i in string(num, base=2, pad=N))\n",
    "\n",
    "\n",
    "\"\"\"\n",
    "    generate_basis(N::Integer) -> basis\n",
    "\n",
    "Generates a basis (`Vector{BitArray}`) spanning the Hilbert space of `N` spins.\n",
    "\"\"\"\n",
    "function generate_basis(N::Integer)\n",
    "    nstates = 2^N\n",
    "    basis = Vector{BitArray{1}}(undef, nstates)\n",
    "    for i in 0:nstates-1\n",
    "        basis[i+1] = bit_rep(i, N)\n",
    "    end\n",
    "    return basis\n",
    "end"
   ]
  },
  {
   "cell_type": "code",
   "execution_count": 11,
   "metadata": {},
   "outputs": [
    {
     "name": "stdout",
     "output_type": "stream",
     "text": [
      "search: \u001b[0m\u001b[1mg\u001b[22m\u001b[0m\u001b[1me\u001b[22m\u001b[0m\u001b[1mn\u001b[22m\u001b[0m\u001b[1me\u001b[22m\u001b[0m\u001b[1mr\u001b[22m\u001b[0m\u001b[1ma\u001b[22m\u001b[0m\u001b[1mt\u001b[22m\u001b[0m\u001b[1me\u001b[22m\u001b[0m\u001b[1m_\u001b[22m\u001b[0m\u001b[1mb\u001b[22m\u001b[0m\u001b[1ma\u001b[22m\u001b[0m\u001b[1ms\u001b[22m\u001b[0m\u001b[1mi\u001b[22m\u001b[0m\u001b[1ms\u001b[22m\n",
      "\n"
     ]
    },
    {
     "data": {
      "text/latex": [
       "\\begin{verbatim}\n",
       "generate_basis(N::Integer) -> basis\n",
       "\\end{verbatim}\n",
       "Generates a basis (\\texttt{Vector\\{BitArray\\}}) spanning the Hilbert space of \\texttt{N} spins.\n",
       "\n"
      ],
      "text/markdown": [
       "```\n",
       "generate_basis(N::Integer) -> basis\n",
       "```\n",
       "\n",
       "Generates a basis (`Vector{BitArray}`) spanning the Hilbert space of `N` spins.\n"
      ],
      "text/plain": [
       "\u001b[36m  generate_basis(N::Integer) -> basis\u001b[39m\n",
       "\n",
       "  Generates a basis (\u001b[36mVector{BitArray}\u001b[39m) spanning the Hilbert space of \u001b[36mN\u001b[39m spins."
      ]
     },
     "execution_count": 11,
     "metadata": {},
     "output_type": "execute_result"
    }
   ],
   "source": [
    "?generate_basis"
   ]
  },
  {
   "cell_type": "code",
   "execution_count": 12,
   "metadata": {},
   "outputs": [
    {
     "data": {
      "text/plain": [
       "16-element Array{BitArray{1},1}:\n",
       " [false, false, false, false]\n",
       " [false, false, false, true] \n",
       " [false, false, true, false] \n",
       " [false, false, true, true]  \n",
       " [false, true, false, false] \n",
       " [false, true, false, true]  \n",
       " [false, true, true, false]  \n",
       " [false, true, true, true]   \n",
       " [true, false, false, false] \n",
       " [true, false, false, true]  \n",
       " [true, false, true, false]  \n",
       " [true, false, true, true]   \n",
       " [true, true, false, false]  \n",
       " [true, true, false, true]   \n",
       " [true, true, true, false]   \n",
       " [true, true, true, true]    "
      ]
     },
     "execution_count": 12,
     "metadata": {},
     "output_type": "execute_result"
    }
   ],
   "source": [
    "generate_basis(4)"
   ]
  },
  {
   "cell_type": "code",
   "execution_count": 13,
   "metadata": {},
   "outputs": [
    {
     "data": {
      "text/plain": [
       "\u001b[32m\u001b[1mTest Passed\u001b[22m\u001b[39m"
      ]
     },
     "execution_count": 13,
     "metadata": {},
     "output_type": "execute_result"
    }
   ],
   "source": [
    "using Test\n",
    "@test generate_basis(4) == unique(generate_basis(4)) # no double entries"
   ]
  },
  {
   "cell_type": "code",
   "execution_count": 14,
   "metadata": {},
   "outputs": [
    {
     "data": {
      "text/plain": [
       "TransverseFieldIsing (generic function with 2 methods)"
      ]
     },
     "execution_count": 14,
     "metadata": {},
     "output_type": "execute_result"
    }
   ],
   "source": [
    "function TransverseFieldIsing(N::Integer, h::T=0) where T<:Real\n",
    "    basis = generate_basis(N)\n",
    "    H = zeros(T, 2^N, 2^N)\n",
    "    bonds = zip(collect(1:N-1), collect(2:N))\n",
    "    for (i, bstate) in enumerate(basis)\n",
    "        # diagonal part\n",
    "        diag_term = 0.\n",
    "        for (site_i, site_j) in bonds\n",
    "            diag_term -= !xor(bstate[site_i], bstate[site_j]) # xor = are they different\n",
    "        end\n",
    "        H[i, i] = diag_term\n",
    "        \n",
    "        # off diagonal part\n",
    "        for site in 1:N\n",
    "            new_bstate = copy(bstate)\n",
    "            # flip the bit on the site (that's what σˣ does)\n",
    "            new_bstate[site] ⊻= true\n",
    "            new_i = findfirst(isequal(new_bstate), basis)\n",
    "            H[i, new_i] = -h\n",
    "        end\n",
    "    end\n",
    "    return Hermitian(H), basis\n",
    "end"
   ]
  },
  {
   "cell_type": "code",
   "execution_count": 15,
   "metadata": {},
   "outputs": [
    {
     "ename": "UndefVarError",
     "evalue": "UndefVarError: Hermitian not defined",
     "output_type": "error",
     "traceback": [
      "UndefVarError: Hermitian not defined",
      "",
      "Stacktrace:",
      " [1] TransverseFieldIsing(::Int64, ::Int64) at .\\In[14]:22",
      " [2] top-level scope at In[15]:1"
     ]
    }
   ],
   "source": [
    "H, basis = TransverseFieldIsing(8, 1)\n",
    "H"
   ]
  },
  {
   "cell_type": "code",
   "execution_count": 16,
   "metadata": {},
   "outputs": [],
   "source": [
    "using LinearAlgebra"
   ]
  },
  {
   "cell_type": "code",
   "execution_count": 17,
   "metadata": {},
   "outputs": [
    {
     "data": {
      "text/plain": [
       "Eigen{Float64,Float64,Array{Float64,2},Array{Float64,1}}\n",
       "eigenvalues:\n",
       "16-element Array{Float64,1}:\n",
       " -6.507626387639509 \n",
       " -6.507626387639461 \n",
       " -3.5603748712237007\n",
       " -3.560374871223691 \n",
       " -2.035490432639926 \n",
       " -2.0354904326399152\n",
       " -0.9117610837758807\n",
       " -0.9117610837758757\n",
       "  0.911761083775872 \n",
       "  0.9117610837758764\n",
       "  2.0354904326399264\n",
       "  2.035490432639927 \n",
       "  3.5603748712237016\n",
       "  3.560374871223706 \n",
       "  6.507626387639501 \n",
       "  6.507626387639504 \n",
       "eigenvectors:\n",
       "16×16 Array{Float64,2}:\n",
       " -0.00252845   -0.572097     -0.027729     …  -0.206731   -0.0141641\n",
       "  0.2962       -0.00130909   -0.593784         0.0214975  -0.313765 \n",
       " -0.0011938    -0.270113     -0.00562518       0.417765    0.0286231\n",
       "  0.373823     -0.00165216   -0.426305        -0.0160391   0.234098 \n",
       " -0.00138996   -0.314497      0.000248664      0.29551     0.0202468\n",
       "  0.207213     -0.000915806  -0.126262     …  -0.0391058   0.570764 \n",
       " -0.00103704   -0.234644      0.00926638      -0.372952   -0.0255527\n",
       "  0.41874      -0.00185068    0.053604         0.0184636  -0.269484 \n",
       " -0.00185068   -0.41874      -0.0023928        0.269484    0.0184636\n",
       "  0.234644     -0.00103704   -0.207587        -0.0255527   0.372952 \n",
       " -0.000915806  -0.207213      0.00563615   …  -0.570764   -0.0391058\n",
       "  0.314497     -0.00138996   -0.00557062       0.0202468  -0.29551  \n",
       " -0.00165216   -0.373823      0.0190296       -0.234098   -0.0160391\n",
       "  0.270113     -0.0011938     0.126016         0.0286231  -0.417765 \n",
       " -0.00130909   -0.2962        0.0265056        0.313765    0.0214975\n",
       "  0.572097     -0.00252845    0.62119      …  -0.0141641   0.206731 "
      ]
     },
     "execution_count": 17,
     "metadata": {},
     "output_type": "execute_result"
    }
   ],
   "source": [
    "vals, vecs = eigen(H)"
   ]
  },
  {
   "cell_type": "markdown",
   "metadata": {},
   "source": [
    "# Magnetization"
   ]
  },
  {
   "cell_type": "markdown",
   "metadata": {},
   "source": [
    "Let's vary $h$ and see what happens. Since we're looking at quantum magnets we will compute the overall magnetization. This quantity is:\n",
    "\n",
    "$$ M = \\frac{1}{N}\\sum_{i} \\sigma^z_i $$\n",
    "where $\\sigma^z_i$ is the value of the spin on site $i$ when we measure."
   ]
  },
  {
   "cell_type": "code",
   "execution_count": 18,
   "metadata": {},
   "outputs": [
    {
     "data": {
      "text/plain": [
       "magnetization (generic function with 1 method)"
      ]
     },
     "execution_count": 18,
     "metadata": {},
     "output_type": "execute_result"
    }
   ],
   "source": [
    "function magnetization(state, basis)\n",
    "    M = 0.\n",
    "    for (i, bstate) in enumerate(basis)\n",
    "        bstate_M = 0.\n",
    "        for spin in bstate\n",
    "            bstate_M += (state[i]^2 * (spin ? 1 : -1))/length(bstate)\n",
    "        end\n",
    "        @assert abs(bstate_M) <= 1\n",
    "        M += abs(bstate_M)\n",
    "    end\n",
    "    return M\n",
    "end"
   ]
  },
  {
   "cell_type": "code",
   "execution_count": 28,
   "metadata": {},
   "outputs": [
    {
     "ename": "MethodError",
     "evalue": "MethodError: no method matching getindex(::typeof(vec), ::Colon, ::Int64)",
     "output_type": "error",
     "traceback": [
      "MethodError: no method matching getindex(::typeof(vec), ::Colon, ::Int64)",
      "",
      "Stacktrace:",
      " [1] top-level scope at In[28]:1"
     ]
    }
   ],
   "source": [
    "groundstate = vec[:,1]\n",
    "magnetization(groundstate, basis)"
   ]
  },
  {
   "cell_type": "markdown",
   "metadata": {},
   "source": [
    "Now we would like to examine the effects of $h$. We will:\n",
    "\n",
    "1. Find a variety of $h$ to look at.\n",
    "2. For each, compute the lowest energy eigenvector (groundstate) of the corresponding Hamiltonian.\n",
    "3. For each groundstate, compute the overall magnetization $M$.\n",
    "4. Plot $M(h)$ for a variety of system sizes, and see if anything cool happens."
   ]
  },
  {
   "cell_type": "code",
   "execution_count": 20,
   "metadata": {},
   "outputs": [
    {
     "name": "stdout",
     "output_type": "stream",
     "text": [
      "[0.9996, 0.996931, 0.977618, 0.87876, 0.692449, 0.574108, 0.526891, 0.509676, 0.503478, 0.50125]\n",
      "[0.999845, 0.998738, 0.988945, 0.905212, 0.673904, 0.555449, 0.518677, 0.506546, 0.502331, 0.500835]\n",
      "[0.999875, 0.999023, 0.991945, 0.917586, 0.591575, 0.437996, 0.395981, 0.382355, 0.377621, 0.375939]\n",
      "[0.99989, 0.999146, 0.993221, 0.933149, 0.576326, 0.427273, 0.391981, 0.380908, 0.3771, 0.375752]\n",
      "[0.9999, 0.999224, 0.993893, 0.942106, 0.531264, 0.366666, 0.330129, 0.318646, 0.314686, 0.313283]\n",
      "[0.999907, 0.99928, 0.994341, 0.948502, 0.518565, 0.359841, 0.327708, 0.31778, 0.314375, 0.313171]\n",
      "[0.999912, 0.999321, 0.994672, 0.952577, 0.487899, 0.321452, 0.288917, 0.278821, 0.275351, 0.274123]\n",
      "[0.999917, 0.999354, 0.994927, 0.955496, 0.47711, 0.316678, 0.287257, 0.278231, 0.275139, 0.274047]\n",
      "[0.99992, 0.999379, 0.995132, 0.957622, 0.454014, 0.289611, 0.260052, 0.250942, 0.247816, 0.24671]\n"
     ]
    },
    {
     "data": {
      "image/svg+xml": [
       "<?xml version=\"1.0\" encoding=\"utf-8\"?>\n",
       "<svg xmlns=\"http://www.w3.org/2000/svg\" xmlns:xlink=\"http://www.w3.org/1999/xlink\" width=\"600\" height=\"400\" viewBox=\"0 0 2400 1600\">\n",
       "<defs>\n",
       "  <clipPath id=\"clip4400\">\n",
       "    <rect x=\"0\" y=\"0\" width=\"2400\" height=\"1600\"/>\n",
       "  </clipPath>\n",
       "</defs>\n",
       "<polygon clip-path=\"url(#clip4400)\" points=\"\n",
       "0,1600 2400,1600 2400,0 0,0 \n",
       "  \" fill=\"#ffffff\" fill-rule=\"evenodd\" fill-opacity=\"1\"/>\n",
       "<defs>\n",
       "  <clipPath id=\"clip4401\">\n",
       "    <rect x=\"480\" y=\"0\" width=\"1681\" height=\"1600\"/>\n",
       "  </clipPath>\n",
       "</defs>\n",
       "<polygon clip-path=\"url(#clip4400)\" points=\"\n",
       "215.754,1425.62 2352.76,1425.62 2352.76,47.2441 215.754,47.2441 \n",
       "  \" fill=\"#ffffff\" fill-rule=\"evenodd\" fill-opacity=\"1\"/>\n",
       "<defs>\n",
       "  <clipPath id=\"clip4402\">\n",
       "    <rect x=\"215\" y=\"47\" width=\"2138\" height=\"1379\"/>\n",
       "  </clipPath>\n",
       "</defs>\n",
       "<polyline clip-path=\"url(#clip4402)\" style=\"stroke:#000000; stroke-width:2; stroke-opacity:0.1; fill:none\" points=\"\n",
       "  276.235,1425.62 276.235,47.2441 \n",
       "  \"/>\n",
       "<polyline clip-path=\"url(#clip4402)\" style=\"stroke:#000000; stroke-width:2; stroke-opacity:0.1; fill:none\" points=\"\n",
       "  780.245,1425.62 780.245,47.2441 \n",
       "  \"/>\n",
       "<polyline clip-path=\"url(#clip4402)\" style=\"stroke:#000000; stroke-width:2; stroke-opacity:0.1; fill:none\" points=\"\n",
       "  1284.25,1425.62 1284.25,47.2441 \n",
       "  \"/>\n",
       "<polyline clip-path=\"url(#clip4402)\" style=\"stroke:#000000; stroke-width:2; stroke-opacity:0.1; fill:none\" points=\"\n",
       "  1788.26,1425.62 1788.26,47.2441 \n",
       "  \"/>\n",
       "<polyline clip-path=\"url(#clip4402)\" style=\"stroke:#000000; stroke-width:2; stroke-opacity:0.1; fill:none\" points=\"\n",
       "  2292.27,1425.62 2292.27,47.2441 \n",
       "  \"/>\n",
       "<polyline clip-path=\"url(#clip4402)\" style=\"stroke:#000000; stroke-width:2; stroke-opacity:0.1; fill:none\" points=\"\n",
       "  215.754,1121.97 2352.76,1121.97 \n",
       "  \"/>\n",
       "<polyline clip-path=\"url(#clip4402)\" style=\"stroke:#000000; stroke-width:2; stroke-opacity:0.1; fill:none\" points=\"\n",
       "  215.754,776.683 2352.76,776.683 \n",
       "  \"/>\n",
       "<polyline clip-path=\"url(#clip4402)\" style=\"stroke:#000000; stroke-width:2; stroke-opacity:0.1; fill:none\" points=\"\n",
       "  215.754,431.4 2352.76,431.4 \n",
       "  \"/>\n",
       "<polyline clip-path=\"url(#clip4402)\" style=\"stroke:#000000; stroke-width:2; stroke-opacity:0.1; fill:none\" points=\"\n",
       "  215.754,86.1165 2352.76,86.1165 \n",
       "  \"/>\n",
       "<polyline clip-path=\"url(#clip4400)\" style=\"stroke:#000000; stroke-width:4; stroke-opacity:1; fill:none\" points=\"\n",
       "  215.754,1425.62 2352.76,1425.62 \n",
       "  \"/>\n",
       "<polyline clip-path=\"url(#clip4400)\" style=\"stroke:#000000; stroke-width:4; stroke-opacity:1; fill:none\" points=\"\n",
       "  215.754,1425.62 215.754,47.2441 \n",
       "  \"/>\n",
       "<polyline clip-path=\"url(#clip4400)\" style=\"stroke:#000000; stroke-width:4; stroke-opacity:1; fill:none\" points=\"\n",
       "  276.235,1425.62 276.235,1404.94 \n",
       "  \"/>\n",
       "<polyline clip-path=\"url(#clip4400)\" style=\"stroke:#000000; stroke-width:4; stroke-opacity:1; fill:none\" points=\"\n",
       "  780.245,1425.62 780.245,1404.94 \n",
       "  \"/>\n",
       "<polyline clip-path=\"url(#clip4400)\" style=\"stroke:#000000; stroke-width:4; stroke-opacity:1; fill:none\" points=\"\n",
       "  1284.25,1425.62 1284.25,1404.94 \n",
       "  \"/>\n",
       "<polyline clip-path=\"url(#clip4400)\" style=\"stroke:#000000; stroke-width:4; stroke-opacity:1; fill:none\" points=\"\n",
       "  1788.26,1425.62 1788.26,1404.94 \n",
       "  \"/>\n",
       "<polyline clip-path=\"url(#clip4400)\" style=\"stroke:#000000; stroke-width:4; stroke-opacity:1; fill:none\" points=\"\n",
       "  2292.27,1425.62 2292.27,1404.94 \n",
       "  \"/>\n",
       "<polyline clip-path=\"url(#clip4400)\" style=\"stroke:#000000; stroke-width:4; stroke-opacity:1; fill:none\" points=\"\n",
       "  215.754,1121.97 247.809,1121.97 \n",
       "  \"/>\n",
       "<polyline clip-path=\"url(#clip4400)\" style=\"stroke:#000000; stroke-width:4; stroke-opacity:1; fill:none\" points=\"\n",
       "  215.754,776.683 247.809,776.683 \n",
       "  \"/>\n",
       "<polyline clip-path=\"url(#clip4400)\" style=\"stroke:#000000; stroke-width:4; stroke-opacity:1; fill:none\" points=\"\n",
       "  215.754,431.4 247.809,431.4 \n",
       "  \"/>\n",
       "<polyline clip-path=\"url(#clip4400)\" style=\"stroke:#000000; stroke-width:4; stroke-opacity:1; fill:none\" points=\"\n",
       "  215.754,86.1165 247.809,86.1165 \n",
       "  \"/>\n",
       "<g clip-path=\"url(#clip4400)\">\n",
       "<text style=\"fill:#000000; fill-opacity:1; font-family:Arial,Helvetica Neue,Helvetica,sans-serif; font-size:48px; text-anchor:start;\" transform=\"rotate(0, 221.745, 1500.63)\" x=\"221.745\" y=\"1500.63\">10</text>\n",
       "</g>\n",
       "<g clip-path=\"url(#clip4400)\">\n",
       "<text style=\"fill:#000000; fill-opacity:1; font-family:Arial,Helvetica Neue,Helvetica,sans-serif; font-size:38px; text-anchor:start;\" transform=\"rotate(0, 275.27, 1473.22)\" x=\"275.27\" y=\"1473.22\">-</text>\n",
       "</g>\n",
       "<g clip-path=\"url(#clip4400)\">\n",
       "<text style=\"fill:#000000; fill-opacity:1; font-family:Arial,Helvetica Neue,Helvetica,sans-serif; font-size:38px; text-anchor:start;\" transform=\"rotate(0, 298.109, 1473.22)\" x=\"298.109\" y=\"1473.22\">2 </text>\n",
       "</g>\n",
       "<g clip-path=\"url(#clip4400)\">\n",
       "<text style=\"fill:#000000; fill-opacity:1; font-family:Arial,Helvetica Neue,Helvetica,sans-serif; font-size:48px; text-anchor:start;\" transform=\"rotate(0, 725.755, 1500.63)\" x=\"725.755\" y=\"1500.63\">10</text>\n",
       "</g>\n",
       "<g clip-path=\"url(#clip4400)\">\n",
       "<text style=\"fill:#000000; fill-opacity:1; font-family:Arial,Helvetica Neue,Helvetica,sans-serif; font-size:38px; text-anchor:start;\" transform=\"rotate(0, 779.279, 1473.22)\" x=\"779.279\" y=\"1473.22\">-</text>\n",
       "</g>\n",
       "<g clip-path=\"url(#clip4400)\">\n",
       "<text style=\"fill:#000000; fill-opacity:1; font-family:Arial,Helvetica Neue,Helvetica,sans-serif; font-size:38px; text-anchor:start;\" transform=\"rotate(0, 802.119, 1473.22)\" x=\"802.119\" y=\"1473.22\">1 </text>\n",
       "</g>\n",
       "<g clip-path=\"url(#clip4400)\">\n",
       "<text style=\"fill:#000000; fill-opacity:1; font-family:Arial,Helvetica Neue,Helvetica,sans-serif; font-size:48px; text-anchor:start;\" transform=\"rotate(0, 1241.18, 1500.63)\" x=\"1241.18\" y=\"1500.63\">10</text>\n",
       "</g>\n",
       "<g clip-path=\"url(#clip4400)\">\n",
       "<text style=\"fill:#000000; fill-opacity:1; font-family:Arial,Helvetica Neue,Helvetica,sans-serif; font-size:38px; text-anchor:start;\" transform=\"rotate(0, 1294.71, 1473.22)\" x=\"1294.71\" y=\"1473.22\">0 </text>\n",
       "</g>\n",
       "<g clip-path=\"url(#clip4400)\">\n",
       "<text style=\"fill:#000000; fill-opacity:1; font-family:Arial,Helvetica Neue,Helvetica,sans-serif; font-size:48px; text-anchor:start;\" transform=\"rotate(0, 1745.19, 1500.63)\" x=\"1745.19\" y=\"1500.63\">10</text>\n",
       "</g>\n",
       "<g clip-path=\"url(#clip4400)\">\n",
       "<text style=\"fill:#000000; fill-opacity:1; font-family:Arial,Helvetica Neue,Helvetica,sans-serif; font-size:38px; text-anchor:start;\" transform=\"rotate(0, 1798.72, 1473.22)\" x=\"1798.72\" y=\"1473.22\">1 </text>\n",
       "</g>\n",
       "<g clip-path=\"url(#clip4400)\">\n",
       "<text style=\"fill:#000000; fill-opacity:1; font-family:Arial,Helvetica Neue,Helvetica,sans-serif; font-size:48px; text-anchor:start;\" transform=\"rotate(0, 2249.2, 1500.63)\" x=\"2249.2\" y=\"1500.63\">10</text>\n",
       "</g>\n",
       "<g clip-path=\"url(#clip4400)\">\n",
       "<text style=\"fill:#000000; fill-opacity:1; font-family:Arial,Helvetica Neue,Helvetica,sans-serif; font-size:38px; text-anchor:start;\" transform=\"rotate(0, 2302.73, 1473.22)\" x=\"2302.73\" y=\"1473.22\">2 </text>\n",
       "</g>\n",
       "<g clip-path=\"url(#clip4400)\">\n",
       "<text style=\"fill:#000000; fill-opacity:1; font-family:Arial,Helvetica Neue,Helvetica,sans-serif; font-size:48px; text-anchor:end;\" transform=\"rotate(0, 191.754, 1139.47)\" x=\"191.754\" y=\"1139.47\">0.4</text>\n",
       "</g>\n",
       "<g clip-path=\"url(#clip4400)\">\n",
       "<text style=\"fill:#000000; fill-opacity:1; font-family:Arial,Helvetica Neue,Helvetica,sans-serif; font-size:48px; text-anchor:end;\" transform=\"rotate(0, 191.754, 794.183)\" x=\"191.754\" y=\"794.183\">0.6</text>\n",
       "</g>\n",
       "<g clip-path=\"url(#clip4400)\">\n",
       "<text style=\"fill:#000000; fill-opacity:1; font-family:Arial,Helvetica Neue,Helvetica,sans-serif; font-size:48px; text-anchor:end;\" transform=\"rotate(0, 191.754, 448.9)\" x=\"191.754\" y=\"448.9\">0.8</text>\n",
       "</g>\n",
       "<g clip-path=\"url(#clip4400)\">\n",
       "<text style=\"fill:#000000; fill-opacity:1; font-family:Arial,Helvetica Neue,Helvetica,sans-serif; font-size:48px; text-anchor:end;\" transform=\"rotate(0, 191.754, 103.617)\" x=\"191.754\" y=\"103.617\">1.0</text>\n",
       "</g>\n",
       "<g clip-path=\"url(#clip4400)\">\n",
       "<text style=\"fill:#000000; fill-opacity:1; font-family:Arial,Helvetica Neue,Helvetica,sans-serif; font-size:66px; text-anchor:middle;\" transform=\"rotate(0, 1284.25, 1559.48)\" x=\"1284.25\" y=\"1559.48\">h</text>\n",
       "</g>\n",
       "<g clip-path=\"url(#clip4400)\">\n",
       "<text style=\"fill:#000000; fill-opacity:1; font-family:Arial,Helvetica Neue,Helvetica,sans-serif; font-size:66px; text-anchor:middle;\" transform=\"rotate(-90, 89.2861, 736.431)\" x=\"89.2861\" y=\"736.431\">M(h)</text>\n",
       "</g>\n",
       "<polyline clip-path=\"url(#clip4402)\" style=\"stroke:#009af9; stroke-width:4; stroke-opacity:1; fill:none\" points=\"\n",
       "  276.235,86.8063 500.24,91.4142 724.244,124.756 948.248,295.427 1172.25,617.078 1396.26,821.384 1620.26,902.899 1844.27,932.619 2068.27,943.32 2292.27,947.167 \n",
       "  \n",
       "  \"/>\n",
       "<circle clip-path=\"url(#clip4402)\" style=\"fill:#000000; stroke:none; fill-opacity:1\" cx=\"276.235\" cy=\"86.8063\" r=\"18\"/>\n",
       "<circle clip-path=\"url(#clip4402)\" style=\"fill:#009af9; stroke:none; fill-opacity:1\" cx=\"276.235\" cy=\"86.8063\" r=\"14\"/>\n",
       "<circle clip-path=\"url(#clip4402)\" style=\"fill:#000000; stroke:none; fill-opacity:1\" cx=\"500.24\" cy=\"91.4142\" r=\"18\"/>\n",
       "<circle clip-path=\"url(#clip4402)\" style=\"fill:#009af9; stroke:none; fill-opacity:1\" cx=\"500.24\" cy=\"91.4142\" r=\"14\"/>\n",
       "<circle clip-path=\"url(#clip4402)\" style=\"fill:#000000; stroke:none; fill-opacity:1\" cx=\"724.244\" cy=\"124.756\" r=\"18\"/>\n",
       "<circle clip-path=\"url(#clip4402)\" style=\"fill:#009af9; stroke:none; fill-opacity:1\" cx=\"724.244\" cy=\"124.756\" r=\"14\"/>\n",
       "<circle clip-path=\"url(#clip4402)\" style=\"fill:#000000; stroke:none; fill-opacity:1\" cx=\"948.248\" cy=\"295.427\" r=\"18\"/>\n",
       "<circle clip-path=\"url(#clip4402)\" style=\"fill:#009af9; stroke:none; fill-opacity:1\" cx=\"948.248\" cy=\"295.427\" r=\"14\"/>\n",
       "<circle clip-path=\"url(#clip4402)\" style=\"fill:#000000; stroke:none; fill-opacity:1\" cx=\"1172.25\" cy=\"617.078\" r=\"18\"/>\n",
       "<circle clip-path=\"url(#clip4402)\" style=\"fill:#009af9; stroke:none; fill-opacity:1\" cx=\"1172.25\" cy=\"617.078\" r=\"14\"/>\n",
       "<circle clip-path=\"url(#clip4402)\" style=\"fill:#000000; stroke:none; fill-opacity:1\" cx=\"1396.26\" cy=\"821.384\" r=\"18\"/>\n",
       "<circle clip-path=\"url(#clip4402)\" style=\"fill:#009af9; stroke:none; fill-opacity:1\" cx=\"1396.26\" cy=\"821.384\" r=\"14\"/>\n",
       "<circle clip-path=\"url(#clip4402)\" style=\"fill:#000000; stroke:none; fill-opacity:1\" cx=\"1620.26\" cy=\"902.899\" r=\"18\"/>\n",
       "<circle clip-path=\"url(#clip4402)\" style=\"fill:#009af9; stroke:none; fill-opacity:1\" cx=\"1620.26\" cy=\"902.899\" r=\"14\"/>\n",
       "<circle clip-path=\"url(#clip4402)\" style=\"fill:#000000; stroke:none; fill-opacity:1\" cx=\"1844.27\" cy=\"932.619\" r=\"18\"/>\n",
       "<circle clip-path=\"url(#clip4402)\" style=\"fill:#009af9; stroke:none; fill-opacity:1\" cx=\"1844.27\" cy=\"932.619\" r=\"14\"/>\n",
       "<circle clip-path=\"url(#clip4402)\" style=\"fill:#000000; stroke:none; fill-opacity:1\" cx=\"2068.27\" cy=\"943.32\" r=\"18\"/>\n",
       "<circle clip-path=\"url(#clip4402)\" style=\"fill:#009af9; stroke:none; fill-opacity:1\" cx=\"2068.27\" cy=\"943.32\" r=\"14\"/>\n",
       "<circle clip-path=\"url(#clip4402)\" style=\"fill:#000000; stroke:none; fill-opacity:1\" cx=\"2292.27\" cy=\"947.167\" r=\"18\"/>\n",
       "<circle clip-path=\"url(#clip4402)\" style=\"fill:#009af9; stroke:none; fill-opacity:1\" cx=\"2292.27\" cy=\"947.167\" r=\"14\"/>\n",
       "<polyline clip-path=\"url(#clip4402)\" style=\"stroke:#e26f46; stroke-width:4; stroke-opacity:1; fill:none\" points=\"\n",
       "  276.235,86.3836 500.24,88.2948 724.244,105.202 948.248,249.76 1172.25,649.093 1396.26,853.597 1620.26,917.08 1844.27,938.024 2068.27,945.301 2292.27,947.883 \n",
       "  \n",
       "  \"/>\n",
       "<circle clip-path=\"url(#clip4402)\" style=\"fill:#000000; stroke:none; fill-opacity:1\" cx=\"276.235\" cy=\"86.3836\" r=\"18\"/>\n",
       "<circle clip-path=\"url(#clip4402)\" style=\"fill:#e26f46; stroke:none; fill-opacity:1\" cx=\"276.235\" cy=\"86.3836\" r=\"14\"/>\n",
       "<circle clip-path=\"url(#clip4402)\" style=\"fill:#000000; stroke:none; fill-opacity:1\" cx=\"500.24\" cy=\"88.2948\" r=\"18\"/>\n",
       "<circle clip-path=\"url(#clip4402)\" style=\"fill:#e26f46; stroke:none; fill-opacity:1\" cx=\"500.24\" cy=\"88.2948\" r=\"14\"/>\n",
       "<circle clip-path=\"url(#clip4402)\" style=\"fill:#000000; stroke:none; fill-opacity:1\" cx=\"724.244\" cy=\"105.202\" r=\"18\"/>\n",
       "<circle clip-path=\"url(#clip4402)\" style=\"fill:#e26f46; stroke:none; fill-opacity:1\" cx=\"724.244\" cy=\"105.202\" r=\"14\"/>\n",
       "<circle clip-path=\"url(#clip4402)\" style=\"fill:#000000; stroke:none; fill-opacity:1\" cx=\"948.248\" cy=\"249.76\" r=\"18\"/>\n",
       "<circle clip-path=\"url(#clip4402)\" style=\"fill:#e26f46; stroke:none; fill-opacity:1\" cx=\"948.248\" cy=\"249.76\" r=\"14\"/>\n",
       "<circle clip-path=\"url(#clip4402)\" style=\"fill:#000000; stroke:none; fill-opacity:1\" cx=\"1172.25\" cy=\"649.093\" r=\"18\"/>\n",
       "<circle clip-path=\"url(#clip4402)\" style=\"fill:#e26f46; stroke:none; fill-opacity:1\" cx=\"1172.25\" cy=\"649.093\" r=\"14\"/>\n",
       "<circle clip-path=\"url(#clip4402)\" style=\"fill:#000000; stroke:none; fill-opacity:1\" cx=\"1396.26\" cy=\"853.597\" r=\"18\"/>\n",
       "<circle clip-path=\"url(#clip4402)\" style=\"fill:#e26f46; stroke:none; fill-opacity:1\" cx=\"1396.26\" cy=\"853.597\" r=\"14\"/>\n",
       "<circle clip-path=\"url(#clip4402)\" style=\"fill:#000000; stroke:none; fill-opacity:1\" cx=\"1620.26\" cy=\"917.08\" r=\"18\"/>\n",
       "<circle clip-path=\"url(#clip4402)\" style=\"fill:#e26f46; stroke:none; fill-opacity:1\" cx=\"1620.26\" cy=\"917.08\" r=\"14\"/>\n",
       "<circle clip-path=\"url(#clip4402)\" style=\"fill:#000000; stroke:none; fill-opacity:1\" cx=\"1844.27\" cy=\"938.024\" r=\"18\"/>\n",
       "<circle clip-path=\"url(#clip4402)\" style=\"fill:#e26f46; stroke:none; fill-opacity:1\" cx=\"1844.27\" cy=\"938.024\" r=\"14\"/>\n",
       "<circle clip-path=\"url(#clip4402)\" style=\"fill:#000000; stroke:none; fill-opacity:1\" cx=\"2068.27\" cy=\"945.301\" r=\"18\"/>\n",
       "<circle clip-path=\"url(#clip4402)\" style=\"fill:#e26f46; stroke:none; fill-opacity:1\" cx=\"2068.27\" cy=\"945.301\" r=\"14\"/>\n",
       "<circle clip-path=\"url(#clip4402)\" style=\"fill:#000000; stroke:none; fill-opacity:1\" cx=\"2292.27\" cy=\"947.883\" r=\"18\"/>\n",
       "<circle clip-path=\"url(#clip4402)\" style=\"fill:#e26f46; stroke:none; fill-opacity:1\" cx=\"2292.27\" cy=\"947.883\" r=\"14\"/>\n",
       "<polyline clip-path=\"url(#clip4402)\" style=\"stroke:#3da44d; stroke-width:4; stroke-opacity:1; fill:none\" points=\"\n",
       "  276.235,86.3326 500.24,87.804 724.244,100.023 948.248,228.397 1172.25,791.228 1396.26,1056.37 1620.26,1128.91 1844.27,1152.43 2068.27,1160.6 2292.27,1163.51 \n",
       "  \n",
       "  \"/>\n",
       "<circle clip-path=\"url(#clip4402)\" style=\"fill:#000000; stroke:none; fill-opacity:1\" cx=\"276.235\" cy=\"86.3326\" r=\"18\"/>\n",
       "<circle clip-path=\"url(#clip4402)\" style=\"fill:#3da44d; stroke:none; fill-opacity:1\" cx=\"276.235\" cy=\"86.3326\" r=\"14\"/>\n",
       "<circle clip-path=\"url(#clip4402)\" style=\"fill:#000000; stroke:none; fill-opacity:1\" cx=\"500.24\" cy=\"87.804\" r=\"18\"/>\n",
       "<circle clip-path=\"url(#clip4402)\" style=\"fill:#3da44d; stroke:none; fill-opacity:1\" cx=\"500.24\" cy=\"87.804\" r=\"14\"/>\n",
       "<circle clip-path=\"url(#clip4402)\" style=\"fill:#000000; stroke:none; fill-opacity:1\" cx=\"724.244\" cy=\"100.023\" r=\"18\"/>\n",
       "<circle clip-path=\"url(#clip4402)\" style=\"fill:#3da44d; stroke:none; fill-opacity:1\" cx=\"724.244\" cy=\"100.023\" r=\"14\"/>\n",
       "<circle clip-path=\"url(#clip4402)\" style=\"fill:#000000; stroke:none; fill-opacity:1\" cx=\"948.248\" cy=\"228.397\" r=\"18\"/>\n",
       "<circle clip-path=\"url(#clip4402)\" style=\"fill:#3da44d; stroke:none; fill-opacity:1\" cx=\"948.248\" cy=\"228.397\" r=\"14\"/>\n",
       "<circle clip-path=\"url(#clip4402)\" style=\"fill:#000000; stroke:none; fill-opacity:1\" cx=\"1172.25\" cy=\"791.228\" r=\"18\"/>\n",
       "<circle clip-path=\"url(#clip4402)\" style=\"fill:#3da44d; stroke:none; fill-opacity:1\" cx=\"1172.25\" cy=\"791.228\" r=\"14\"/>\n",
       "<circle clip-path=\"url(#clip4402)\" style=\"fill:#000000; stroke:none; fill-opacity:1\" cx=\"1396.26\" cy=\"1056.37\" r=\"18\"/>\n",
       "<circle clip-path=\"url(#clip4402)\" style=\"fill:#3da44d; stroke:none; fill-opacity:1\" cx=\"1396.26\" cy=\"1056.37\" r=\"14\"/>\n",
       "<circle clip-path=\"url(#clip4402)\" style=\"fill:#000000; stroke:none; fill-opacity:1\" cx=\"1620.26\" cy=\"1128.91\" r=\"18\"/>\n",
       "<circle clip-path=\"url(#clip4402)\" style=\"fill:#3da44d; stroke:none; fill-opacity:1\" cx=\"1620.26\" cy=\"1128.91\" r=\"14\"/>\n",
       "<circle clip-path=\"url(#clip4402)\" style=\"fill:#000000; stroke:none; fill-opacity:1\" cx=\"1844.27\" cy=\"1152.43\" r=\"18\"/>\n",
       "<circle clip-path=\"url(#clip4402)\" style=\"fill:#3da44d; stroke:none; fill-opacity:1\" cx=\"1844.27\" cy=\"1152.43\" r=\"14\"/>\n",
       "<circle clip-path=\"url(#clip4402)\" style=\"fill:#000000; stroke:none; fill-opacity:1\" cx=\"2068.27\" cy=\"1160.6\" r=\"18\"/>\n",
       "<circle clip-path=\"url(#clip4402)\" style=\"fill:#3da44d; stroke:none; fill-opacity:1\" cx=\"2068.27\" cy=\"1160.6\" r=\"14\"/>\n",
       "<circle clip-path=\"url(#clip4402)\" style=\"fill:#000000; stroke:none; fill-opacity:1\" cx=\"2292.27\" cy=\"1163.51\" r=\"18\"/>\n",
       "<circle clip-path=\"url(#clip4402)\" style=\"fill:#3da44d; stroke:none; fill-opacity:1\" cx=\"2292.27\" cy=\"1163.51\" r=\"14\"/>\n",
       "<polyline clip-path=\"url(#clip4402)\" style=\"stroke:#c271d2; stroke-width:4; stroke-opacity:1; fill:none\" points=\"\n",
       "  276.235,86.3065 500.24,87.5909 724.244,97.8207 948.248,201.529 1172.25,817.554 1396.26,1074.88 1620.26,1135.81 1844.27,1154.93 2068.27,1161.5 2292.27,1163.83 \n",
       "  \n",
       "  \"/>\n",
       "<circle clip-path=\"url(#clip4402)\" style=\"fill:#000000; stroke:none; fill-opacity:1\" cx=\"276.235\" cy=\"86.3065\" r=\"18\"/>\n",
       "<circle clip-path=\"url(#clip4402)\" style=\"fill:#c271d2; stroke:none; fill-opacity:1\" cx=\"276.235\" cy=\"86.3065\" r=\"14\"/>\n",
       "<circle clip-path=\"url(#clip4402)\" style=\"fill:#000000; stroke:none; fill-opacity:1\" cx=\"500.24\" cy=\"87.5909\" r=\"18\"/>\n",
       "<circle clip-path=\"url(#clip4402)\" style=\"fill:#c271d2; stroke:none; fill-opacity:1\" cx=\"500.24\" cy=\"87.5909\" r=\"14\"/>\n",
       "<circle clip-path=\"url(#clip4402)\" style=\"fill:#000000; stroke:none; fill-opacity:1\" cx=\"724.244\" cy=\"97.8207\" r=\"18\"/>\n",
       "<circle clip-path=\"url(#clip4402)\" style=\"fill:#c271d2; stroke:none; fill-opacity:1\" cx=\"724.244\" cy=\"97.8207\" r=\"14\"/>\n",
       "<circle clip-path=\"url(#clip4402)\" style=\"fill:#000000; stroke:none; fill-opacity:1\" cx=\"948.248\" cy=\"201.529\" r=\"18\"/>\n",
       "<circle clip-path=\"url(#clip4402)\" style=\"fill:#c271d2; stroke:none; fill-opacity:1\" cx=\"948.248\" cy=\"201.529\" r=\"14\"/>\n",
       "<circle clip-path=\"url(#clip4402)\" style=\"fill:#000000; stroke:none; fill-opacity:1\" cx=\"1172.25\" cy=\"817.554\" r=\"18\"/>\n",
       "<circle clip-path=\"url(#clip4402)\" style=\"fill:#c271d2; stroke:none; fill-opacity:1\" cx=\"1172.25\" cy=\"817.554\" r=\"14\"/>\n",
       "<circle clip-path=\"url(#clip4402)\" style=\"fill:#000000; stroke:none; fill-opacity:1\" cx=\"1396.26\" cy=\"1074.88\" r=\"18\"/>\n",
       "<circle clip-path=\"url(#clip4402)\" style=\"fill:#c271d2; stroke:none; fill-opacity:1\" cx=\"1396.26\" cy=\"1074.88\" r=\"14\"/>\n",
       "<circle clip-path=\"url(#clip4402)\" style=\"fill:#000000; stroke:none; fill-opacity:1\" cx=\"1620.26\" cy=\"1135.81\" r=\"18\"/>\n",
       "<circle clip-path=\"url(#clip4402)\" style=\"fill:#c271d2; stroke:none; fill-opacity:1\" cx=\"1620.26\" cy=\"1135.81\" r=\"14\"/>\n",
       "<circle clip-path=\"url(#clip4402)\" style=\"fill:#000000; stroke:none; fill-opacity:1\" cx=\"1844.27\" cy=\"1154.93\" r=\"18\"/>\n",
       "<circle clip-path=\"url(#clip4402)\" style=\"fill:#c271d2; stroke:none; fill-opacity:1\" cx=\"1844.27\" cy=\"1154.93\" r=\"14\"/>\n",
       "<circle clip-path=\"url(#clip4402)\" style=\"fill:#000000; stroke:none; fill-opacity:1\" cx=\"2068.27\" cy=\"1161.5\" r=\"18\"/>\n",
       "<circle clip-path=\"url(#clip4402)\" style=\"fill:#c271d2; stroke:none; fill-opacity:1\" cx=\"2068.27\" cy=\"1161.5\" r=\"14\"/>\n",
       "<circle clip-path=\"url(#clip4402)\" style=\"fill:#000000; stroke:none; fill-opacity:1\" cx=\"2292.27\" cy=\"1163.83\" r=\"18\"/>\n",
       "<circle clip-path=\"url(#clip4402)\" style=\"fill:#c271d2; stroke:none; fill-opacity:1\" cx=\"2292.27\" cy=\"1163.83\" r=\"14\"/>\n",
       "<polyline clip-path=\"url(#clip4402)\" style=\"stroke:#ac8d18; stroke-width:4; stroke-opacity:1; fill:none\" points=\"\n",
       "  276.235,86.2892 500.24,87.4561 724.244,96.6605 948.248,186.065 1172.25,895.349 1396.26,1179.51 1620.26,1242.59 1844.27,1262.42 2068.27,1269.25 2292.27,1271.68 \n",
       "  \n",
       "  \"/>\n",
       "<circle clip-path=\"url(#clip4402)\" style=\"fill:#000000; stroke:none; fill-opacity:1\" cx=\"276.235\" cy=\"86.2892\" r=\"18\"/>\n",
       "<circle clip-path=\"url(#clip4402)\" style=\"fill:#ac8d18; stroke:none; fill-opacity:1\" cx=\"276.235\" cy=\"86.2892\" r=\"14\"/>\n",
       "<circle clip-path=\"url(#clip4402)\" style=\"fill:#000000; stroke:none; fill-opacity:1\" cx=\"500.24\" cy=\"87.4561\" r=\"18\"/>\n",
       "<circle clip-path=\"url(#clip4402)\" style=\"fill:#ac8d18; stroke:none; fill-opacity:1\" cx=\"500.24\" cy=\"87.4561\" r=\"14\"/>\n",
       "<circle clip-path=\"url(#clip4402)\" style=\"fill:#000000; stroke:none; fill-opacity:1\" cx=\"724.244\" cy=\"96.6605\" r=\"18\"/>\n",
       "<circle clip-path=\"url(#clip4402)\" style=\"fill:#ac8d18; stroke:none; fill-opacity:1\" cx=\"724.244\" cy=\"96.6605\" r=\"14\"/>\n",
       "<circle clip-path=\"url(#clip4402)\" style=\"fill:#000000; stroke:none; fill-opacity:1\" cx=\"948.248\" cy=\"186.065\" r=\"18\"/>\n",
       "<circle clip-path=\"url(#clip4402)\" style=\"fill:#ac8d18; stroke:none; fill-opacity:1\" cx=\"948.248\" cy=\"186.065\" r=\"14\"/>\n",
       "<circle clip-path=\"url(#clip4402)\" style=\"fill:#000000; stroke:none; fill-opacity:1\" cx=\"1172.25\" cy=\"895.349\" r=\"18\"/>\n",
       "<circle clip-path=\"url(#clip4402)\" style=\"fill:#ac8d18; stroke:none; fill-opacity:1\" cx=\"1172.25\" cy=\"895.349\" r=\"14\"/>\n",
       "<circle clip-path=\"url(#clip4402)\" style=\"fill:#000000; stroke:none; fill-opacity:1\" cx=\"1396.26\" cy=\"1179.51\" r=\"18\"/>\n",
       "<circle clip-path=\"url(#clip4402)\" style=\"fill:#ac8d18; stroke:none; fill-opacity:1\" cx=\"1396.26\" cy=\"1179.51\" r=\"14\"/>\n",
       "<circle clip-path=\"url(#clip4402)\" style=\"fill:#000000; stroke:none; fill-opacity:1\" cx=\"1620.26\" cy=\"1242.59\" r=\"18\"/>\n",
       "<circle clip-path=\"url(#clip4402)\" style=\"fill:#ac8d18; stroke:none; fill-opacity:1\" cx=\"1620.26\" cy=\"1242.59\" r=\"14\"/>\n",
       "<circle clip-path=\"url(#clip4402)\" style=\"fill:#000000; stroke:none; fill-opacity:1\" cx=\"1844.27\" cy=\"1262.42\" r=\"18\"/>\n",
       "<circle clip-path=\"url(#clip4402)\" style=\"fill:#ac8d18; stroke:none; fill-opacity:1\" cx=\"1844.27\" cy=\"1262.42\" r=\"14\"/>\n",
       "<circle clip-path=\"url(#clip4402)\" style=\"fill:#000000; stroke:none; fill-opacity:1\" cx=\"2068.27\" cy=\"1269.25\" r=\"18\"/>\n",
       "<circle clip-path=\"url(#clip4402)\" style=\"fill:#ac8d18; stroke:none; fill-opacity:1\" cx=\"2068.27\" cy=\"1269.25\" r=\"14\"/>\n",
       "<circle clip-path=\"url(#clip4402)\" style=\"fill:#000000; stroke:none; fill-opacity:1\" cx=\"2292.27\" cy=\"1271.68\" r=\"18\"/>\n",
       "<circle clip-path=\"url(#clip4402)\" style=\"fill:#ac8d18; stroke:none; fill-opacity:1\" cx=\"2292.27\" cy=\"1271.68\" r=\"14\"/>\n",
       "<polyline clip-path=\"url(#clip4402)\" style=\"stroke:#00a9ad; stroke-width:4; stroke-opacity:1; fill:none\" points=\"\n",
       "  276.235,86.2769 500.24,87.3603 724.244,95.8855 948.248,175.024 1172.25,917.274 1396.26,1191.3 1620.26,1246.77 1844.27,1263.91 2068.27,1269.79 2292.27,1271.87 \n",
       "  \n",
       "  \"/>\n",
       "<circle clip-path=\"url(#clip4402)\" style=\"fill:#000000; stroke:none; fill-opacity:1\" cx=\"276.235\" cy=\"86.2769\" r=\"18\"/>\n",
       "<circle clip-path=\"url(#clip4402)\" style=\"fill:#00a9ad; stroke:none; fill-opacity:1\" cx=\"276.235\" cy=\"86.2769\" r=\"14\"/>\n",
       "<circle clip-path=\"url(#clip4402)\" style=\"fill:#000000; stroke:none; fill-opacity:1\" cx=\"500.24\" cy=\"87.3603\" r=\"18\"/>\n",
       "<circle clip-path=\"url(#clip4402)\" style=\"fill:#00a9ad; stroke:none; fill-opacity:1\" cx=\"500.24\" cy=\"87.3603\" r=\"14\"/>\n",
       "<circle clip-path=\"url(#clip4402)\" style=\"fill:#000000; stroke:none; fill-opacity:1\" cx=\"724.244\" cy=\"95.8855\" r=\"18\"/>\n",
       "<circle clip-path=\"url(#clip4402)\" style=\"fill:#00a9ad; stroke:none; fill-opacity:1\" cx=\"724.244\" cy=\"95.8855\" r=\"14\"/>\n",
       "<circle clip-path=\"url(#clip4402)\" style=\"fill:#000000; stroke:none; fill-opacity:1\" cx=\"948.248\" cy=\"175.024\" r=\"18\"/>\n",
       "<circle clip-path=\"url(#clip4402)\" style=\"fill:#00a9ad; stroke:none; fill-opacity:1\" cx=\"948.248\" cy=\"175.024\" r=\"14\"/>\n",
       "<circle clip-path=\"url(#clip4402)\" style=\"fill:#000000; stroke:none; fill-opacity:1\" cx=\"1172.25\" cy=\"917.274\" r=\"18\"/>\n",
       "<circle clip-path=\"url(#clip4402)\" style=\"fill:#00a9ad; stroke:none; fill-opacity:1\" cx=\"1172.25\" cy=\"917.274\" r=\"14\"/>\n",
       "<circle clip-path=\"url(#clip4402)\" style=\"fill:#000000; stroke:none; fill-opacity:1\" cx=\"1396.26\" cy=\"1191.3\" r=\"18\"/>\n",
       "<circle clip-path=\"url(#clip4402)\" style=\"fill:#00a9ad; stroke:none; fill-opacity:1\" cx=\"1396.26\" cy=\"1191.3\" r=\"14\"/>\n",
       "<circle clip-path=\"url(#clip4402)\" style=\"fill:#000000; stroke:none; fill-opacity:1\" cx=\"1620.26\" cy=\"1246.77\" r=\"18\"/>\n",
       "<circle clip-path=\"url(#clip4402)\" style=\"fill:#00a9ad; stroke:none; fill-opacity:1\" cx=\"1620.26\" cy=\"1246.77\" r=\"14\"/>\n",
       "<circle clip-path=\"url(#clip4402)\" style=\"fill:#000000; stroke:none; fill-opacity:1\" cx=\"1844.27\" cy=\"1263.91\" r=\"18\"/>\n",
       "<circle clip-path=\"url(#clip4402)\" style=\"fill:#00a9ad; stroke:none; fill-opacity:1\" cx=\"1844.27\" cy=\"1263.91\" r=\"14\"/>\n",
       "<circle clip-path=\"url(#clip4402)\" style=\"fill:#000000; stroke:none; fill-opacity:1\" cx=\"2068.27\" cy=\"1269.79\" r=\"18\"/>\n",
       "<circle clip-path=\"url(#clip4402)\" style=\"fill:#00a9ad; stroke:none; fill-opacity:1\" cx=\"2068.27\" cy=\"1269.79\" r=\"14\"/>\n",
       "<circle clip-path=\"url(#clip4402)\" style=\"fill:#000000; stroke:none; fill-opacity:1\" cx=\"2292.27\" cy=\"1271.87\" r=\"18\"/>\n",
       "<circle clip-path=\"url(#clip4402)\" style=\"fill:#00a9ad; stroke:none; fill-opacity:1\" cx=\"2292.27\" cy=\"1271.87\" r=\"14\"/>\n",
       "<polyline clip-path=\"url(#clip4402)\" style=\"stroke:#ed5d92; stroke-width:4; stroke-opacity:1; fill:none\" points=\"\n",
       "  276.235,86.2676 500.24,87.2885 724.244,95.3155 948.248,167.988 1172.25,970.217 1396.26,1257.57 1620.26,1313.74 1844.27,1331.17 2068.27,1337.16 2292.27,1339.28 \n",
       "  \n",
       "  \"/>\n",
       "<circle clip-path=\"url(#clip4402)\" style=\"fill:#000000; stroke:none; fill-opacity:1\" cx=\"276.235\" cy=\"86.2676\" r=\"18\"/>\n",
       "<circle clip-path=\"url(#clip4402)\" style=\"fill:#ed5d92; stroke:none; fill-opacity:1\" cx=\"276.235\" cy=\"86.2676\" r=\"14\"/>\n",
       "<circle clip-path=\"url(#clip4402)\" style=\"fill:#000000; stroke:none; fill-opacity:1\" cx=\"500.24\" cy=\"87.2885\" r=\"18\"/>\n",
       "<circle clip-path=\"url(#clip4402)\" style=\"fill:#ed5d92; stroke:none; fill-opacity:1\" cx=\"500.24\" cy=\"87.2885\" r=\"14\"/>\n",
       "<circle clip-path=\"url(#clip4402)\" style=\"fill:#000000; stroke:none; fill-opacity:1\" cx=\"724.244\" cy=\"95.3155\" r=\"18\"/>\n",
       "<circle clip-path=\"url(#clip4402)\" style=\"fill:#ed5d92; stroke:none; fill-opacity:1\" cx=\"724.244\" cy=\"95.3155\" r=\"14\"/>\n",
       "<circle clip-path=\"url(#clip4402)\" style=\"fill:#000000; stroke:none; fill-opacity:1\" cx=\"948.248\" cy=\"167.988\" r=\"18\"/>\n",
       "<circle clip-path=\"url(#clip4402)\" style=\"fill:#ed5d92; stroke:none; fill-opacity:1\" cx=\"948.248\" cy=\"167.988\" r=\"14\"/>\n",
       "<circle clip-path=\"url(#clip4402)\" style=\"fill:#000000; stroke:none; fill-opacity:1\" cx=\"1172.25\" cy=\"970.217\" r=\"18\"/>\n",
       "<circle clip-path=\"url(#clip4402)\" style=\"fill:#ed5d92; stroke:none; fill-opacity:1\" cx=\"1172.25\" cy=\"970.217\" r=\"14\"/>\n",
       "<circle clip-path=\"url(#clip4402)\" style=\"fill:#000000; stroke:none; fill-opacity:1\" cx=\"1396.26\" cy=\"1257.57\" r=\"18\"/>\n",
       "<circle clip-path=\"url(#clip4402)\" style=\"fill:#ed5d92; stroke:none; fill-opacity:1\" cx=\"1396.26\" cy=\"1257.57\" r=\"14\"/>\n",
       "<circle clip-path=\"url(#clip4402)\" style=\"fill:#000000; stroke:none; fill-opacity:1\" cx=\"1620.26\" cy=\"1313.74\" r=\"18\"/>\n",
       "<circle clip-path=\"url(#clip4402)\" style=\"fill:#ed5d92; stroke:none; fill-opacity:1\" cx=\"1620.26\" cy=\"1313.74\" r=\"14\"/>\n",
       "<circle clip-path=\"url(#clip4402)\" style=\"fill:#000000; stroke:none; fill-opacity:1\" cx=\"1844.27\" cy=\"1331.17\" r=\"18\"/>\n",
       "<circle clip-path=\"url(#clip4402)\" style=\"fill:#ed5d92; stroke:none; fill-opacity:1\" cx=\"1844.27\" cy=\"1331.17\" r=\"14\"/>\n",
       "<circle clip-path=\"url(#clip4402)\" style=\"fill:#000000; stroke:none; fill-opacity:1\" cx=\"2068.27\" cy=\"1337.16\" r=\"18\"/>\n",
       "<circle clip-path=\"url(#clip4402)\" style=\"fill:#ed5d92; stroke:none; fill-opacity:1\" cx=\"2068.27\" cy=\"1337.16\" r=\"14\"/>\n",
       "<circle clip-path=\"url(#clip4402)\" style=\"fill:#000000; stroke:none; fill-opacity:1\" cx=\"2292.27\" cy=\"1339.28\" r=\"18\"/>\n",
       "<circle clip-path=\"url(#clip4402)\" style=\"fill:#ed5d92; stroke:none; fill-opacity:1\" cx=\"2292.27\" cy=\"1339.28\" r=\"14\"/>\n",
       "<polyline clip-path=\"url(#clip4402)\" style=\"stroke:#c68125; stroke-width:4; stroke-opacity:1; fill:none\" points=\"\n",
       "  276.235,86.2605 500.24,87.2326 724.244,94.874 948.248,162.949 1172.25,988.843 1396.26,1265.81 1620.26,1316.61 1844.27,1332.19 2068.27,1337.53 2292.27,1339.41 \n",
       "  \n",
       "  \"/>\n",
       "<circle clip-path=\"url(#clip4402)\" style=\"fill:#000000; stroke:none; fill-opacity:1\" cx=\"276.235\" cy=\"86.2605\" r=\"18\"/>\n",
       "<circle clip-path=\"url(#clip4402)\" style=\"fill:#c68125; stroke:none; fill-opacity:1\" cx=\"276.235\" cy=\"86.2605\" r=\"14\"/>\n",
       "<circle clip-path=\"url(#clip4402)\" style=\"fill:#000000; stroke:none; fill-opacity:1\" cx=\"500.24\" cy=\"87.2326\" r=\"18\"/>\n",
       "<circle clip-path=\"url(#clip4402)\" style=\"fill:#c68125; stroke:none; fill-opacity:1\" cx=\"500.24\" cy=\"87.2326\" r=\"14\"/>\n",
       "<circle clip-path=\"url(#clip4402)\" style=\"fill:#000000; stroke:none; fill-opacity:1\" cx=\"724.244\" cy=\"94.874\" r=\"18\"/>\n",
       "<circle clip-path=\"url(#clip4402)\" style=\"fill:#c68125; stroke:none; fill-opacity:1\" cx=\"724.244\" cy=\"94.874\" r=\"14\"/>\n",
       "<circle clip-path=\"url(#clip4402)\" style=\"fill:#000000; stroke:none; fill-opacity:1\" cx=\"948.248\" cy=\"162.949\" r=\"18\"/>\n",
       "<circle clip-path=\"url(#clip4402)\" style=\"fill:#c68125; stroke:none; fill-opacity:1\" cx=\"948.248\" cy=\"162.949\" r=\"14\"/>\n",
       "<circle clip-path=\"url(#clip4402)\" style=\"fill:#000000; stroke:none; fill-opacity:1\" cx=\"1172.25\" cy=\"988.843\" r=\"18\"/>\n",
       "<circle clip-path=\"url(#clip4402)\" style=\"fill:#c68125; stroke:none; fill-opacity:1\" cx=\"1172.25\" cy=\"988.843\" r=\"14\"/>\n",
       "<circle clip-path=\"url(#clip4402)\" style=\"fill:#000000; stroke:none; fill-opacity:1\" cx=\"1396.26\" cy=\"1265.81\" r=\"18\"/>\n",
       "<circle clip-path=\"url(#clip4402)\" style=\"fill:#c68125; stroke:none; fill-opacity:1\" cx=\"1396.26\" cy=\"1265.81\" r=\"14\"/>\n",
       "<circle clip-path=\"url(#clip4402)\" style=\"fill:#000000; stroke:none; fill-opacity:1\" cx=\"1620.26\" cy=\"1316.61\" r=\"18\"/>\n",
       "<circle clip-path=\"url(#clip4402)\" style=\"fill:#c68125; stroke:none; fill-opacity:1\" cx=\"1620.26\" cy=\"1316.61\" r=\"14\"/>\n",
       "<circle clip-path=\"url(#clip4402)\" style=\"fill:#000000; stroke:none; fill-opacity:1\" cx=\"1844.27\" cy=\"1332.19\" r=\"18\"/>\n",
       "<circle clip-path=\"url(#clip4402)\" style=\"fill:#c68125; stroke:none; fill-opacity:1\" cx=\"1844.27\" cy=\"1332.19\" r=\"14\"/>\n",
       "<circle clip-path=\"url(#clip4402)\" style=\"fill:#000000; stroke:none; fill-opacity:1\" cx=\"2068.27\" cy=\"1337.53\" r=\"18\"/>\n",
       "<circle clip-path=\"url(#clip4402)\" style=\"fill:#c68125; stroke:none; fill-opacity:1\" cx=\"2068.27\" cy=\"1337.53\" r=\"14\"/>\n",
       "<circle clip-path=\"url(#clip4402)\" style=\"fill:#000000; stroke:none; fill-opacity:1\" cx=\"2292.27\" cy=\"1339.41\" r=\"18\"/>\n",
       "<circle clip-path=\"url(#clip4402)\" style=\"fill:#c68125; stroke:none; fill-opacity:1\" cx=\"2292.27\" cy=\"1339.41\" r=\"14\"/>\n",
       "<polyline clip-path=\"url(#clip4402)\" style=\"stroke:#00a98d; stroke-width:4; stroke-opacity:1; fill:none\" points=\"\n",
       "  276.235,86.2547 500.24,87.188 724.244,94.5212 948.248,159.279 1172.25,1028.72 1396.26,1312.54 1620.26,1363.57 1844.27,1379.3 2068.27,1384.7 2292.27,1386.61 \n",
       "  \n",
       "  \"/>\n",
       "<circle clip-path=\"url(#clip4402)\" style=\"fill:#000000; stroke:none; fill-opacity:1\" cx=\"276.235\" cy=\"86.2547\" r=\"18\"/>\n",
       "<circle clip-path=\"url(#clip4402)\" style=\"fill:#00a98d; stroke:none; fill-opacity:1\" cx=\"276.235\" cy=\"86.2547\" r=\"14\"/>\n",
       "<circle clip-path=\"url(#clip4402)\" style=\"fill:#000000; stroke:none; fill-opacity:1\" cx=\"500.24\" cy=\"87.188\" r=\"18\"/>\n",
       "<circle clip-path=\"url(#clip4402)\" style=\"fill:#00a98d; stroke:none; fill-opacity:1\" cx=\"500.24\" cy=\"87.188\" r=\"14\"/>\n",
       "<circle clip-path=\"url(#clip4402)\" style=\"fill:#000000; stroke:none; fill-opacity:1\" cx=\"724.244\" cy=\"94.5212\" r=\"18\"/>\n",
       "<circle clip-path=\"url(#clip4402)\" style=\"fill:#00a98d; stroke:none; fill-opacity:1\" cx=\"724.244\" cy=\"94.5212\" r=\"14\"/>\n",
       "<circle clip-path=\"url(#clip4402)\" style=\"fill:#000000; stroke:none; fill-opacity:1\" cx=\"948.248\" cy=\"159.279\" r=\"18\"/>\n",
       "<circle clip-path=\"url(#clip4402)\" style=\"fill:#00a98d; stroke:none; fill-opacity:1\" cx=\"948.248\" cy=\"159.279\" r=\"14\"/>\n",
       "<circle clip-path=\"url(#clip4402)\" style=\"fill:#000000; stroke:none; fill-opacity:1\" cx=\"1172.25\" cy=\"1028.72\" r=\"18\"/>\n",
       "<circle clip-path=\"url(#clip4402)\" style=\"fill:#00a98d; stroke:none; fill-opacity:1\" cx=\"1172.25\" cy=\"1028.72\" r=\"14\"/>\n",
       "<circle clip-path=\"url(#clip4402)\" style=\"fill:#000000; stroke:none; fill-opacity:1\" cx=\"1396.26\" cy=\"1312.54\" r=\"18\"/>\n",
       "<circle clip-path=\"url(#clip4402)\" style=\"fill:#00a98d; stroke:none; fill-opacity:1\" cx=\"1396.26\" cy=\"1312.54\" r=\"14\"/>\n",
       "<circle clip-path=\"url(#clip4402)\" style=\"fill:#000000; stroke:none; fill-opacity:1\" cx=\"1620.26\" cy=\"1363.57\" r=\"18\"/>\n",
       "<circle clip-path=\"url(#clip4402)\" style=\"fill:#00a98d; stroke:none; fill-opacity:1\" cx=\"1620.26\" cy=\"1363.57\" r=\"14\"/>\n",
       "<circle clip-path=\"url(#clip4402)\" style=\"fill:#000000; stroke:none; fill-opacity:1\" cx=\"1844.27\" cy=\"1379.3\" r=\"18\"/>\n",
       "<circle clip-path=\"url(#clip4402)\" style=\"fill:#00a98d; stroke:none; fill-opacity:1\" cx=\"1844.27\" cy=\"1379.3\" r=\"14\"/>\n",
       "<circle clip-path=\"url(#clip4402)\" style=\"fill:#000000; stroke:none; fill-opacity:1\" cx=\"2068.27\" cy=\"1384.7\" r=\"18\"/>\n",
       "<circle clip-path=\"url(#clip4402)\" style=\"fill:#00a98d; stroke:none; fill-opacity:1\" cx=\"2068.27\" cy=\"1384.7\" r=\"14\"/>\n",
       "<circle clip-path=\"url(#clip4402)\" style=\"fill:#000000; stroke:none; fill-opacity:1\" cx=\"2292.27\" cy=\"1386.61\" r=\"18\"/>\n",
       "<circle clip-path=\"url(#clip4402)\" style=\"fill:#00a98d; stroke:none; fill-opacity:1\" cx=\"2292.27\" cy=\"1386.61\" r=\"14\"/>\n",
       "<polygon clip-path=\"url(#clip4400)\" points=\"\n",
       "1897.61,735.564 2280.76,735.564 2280.76,130.764 1897.61,130.764 \n",
       "  \" fill=\"#ffffff\" fill-rule=\"evenodd\" fill-opacity=\"1\"/>\n",
       "<polyline clip-path=\"url(#clip4400)\" style=\"stroke:#000000; stroke-width:4; stroke-opacity:1; fill:none\" points=\"\n",
       "  1897.61,735.564 2280.76,735.564 2280.76,130.764 1897.61,130.764 1897.61,735.564 \n",
       "  \"/>\n",
       "<polyline clip-path=\"url(#clip4400)\" style=\"stroke:#009af9; stroke-width:4; stroke-opacity:1; fill:none\" points=\"\n",
       "  1921.61,191.244 2065.61,191.244 \n",
       "  \"/>\n",
       "<circle clip-path=\"url(#clip4400)\" style=\"fill:#000000; stroke:none; fill-opacity:1\" cx=\"2005.61\" cy=\"191.244\" r=\"25\"/>\n",
       "<circle clip-path=\"url(#clip4400)\" style=\"fill:#009af9; stroke:none; fill-opacity:1\" cx=\"2005.61\" cy=\"191.244\" r=\"21\"/>\n",
       "<g clip-path=\"url(#clip4400)\">\n",
       "<text style=\"fill:#000000; fill-opacity:1; font-family:Arial,Helvetica Neue,Helvetica,sans-serif; font-size:48px; text-anchor:start;\" transform=\"rotate(0, 2089.61, 208.744)\" x=\"2089.61\" y=\"208.744\">N = 2</text>\n",
       "</g>\n",
       "<polyline clip-path=\"url(#clip4400)\" style=\"stroke:#e26f46; stroke-width:4; stroke-opacity:1; fill:none\" points=\"\n",
       "  1921.61,251.724 2065.61,251.724 \n",
       "  \"/>\n",
       "<circle clip-path=\"url(#clip4400)\" style=\"fill:#000000; stroke:none; fill-opacity:1\" cx=\"2005.61\" cy=\"251.724\" r=\"25\"/>\n",
       "<circle clip-path=\"url(#clip4400)\" style=\"fill:#e26f46; stroke:none; fill-opacity:1\" cx=\"2005.61\" cy=\"251.724\" r=\"21\"/>\n",
       "<g clip-path=\"url(#clip4400)\">\n",
       "<text style=\"fill:#000000; fill-opacity:1; font-family:Arial,Helvetica Neue,Helvetica,sans-serif; font-size:48px; text-anchor:start;\" transform=\"rotate(0, 2089.61, 269.224)\" x=\"2089.61\" y=\"269.224\">N = 3</text>\n",
       "</g>\n",
       "<polyline clip-path=\"url(#clip4400)\" style=\"stroke:#3da44d; stroke-width:4; stroke-opacity:1; fill:none\" points=\"\n",
       "  1921.61,312.204 2065.61,312.204 \n",
       "  \"/>\n",
       "<circle clip-path=\"url(#clip4400)\" style=\"fill:#000000; stroke:none; fill-opacity:1\" cx=\"2005.61\" cy=\"312.204\" r=\"25\"/>\n",
       "<circle clip-path=\"url(#clip4400)\" style=\"fill:#3da44d; stroke:none; fill-opacity:1\" cx=\"2005.61\" cy=\"312.204\" r=\"21\"/>\n",
       "<g clip-path=\"url(#clip4400)\">\n",
       "<text style=\"fill:#000000; fill-opacity:1; font-family:Arial,Helvetica Neue,Helvetica,sans-serif; font-size:48px; text-anchor:start;\" transform=\"rotate(0, 2089.61, 329.704)\" x=\"2089.61\" y=\"329.704\">N = 4</text>\n",
       "</g>\n",
       "<polyline clip-path=\"url(#clip4400)\" style=\"stroke:#c271d2; stroke-width:4; stroke-opacity:1; fill:none\" points=\"\n",
       "  1921.61,372.684 2065.61,372.684 \n",
       "  \"/>\n",
       "<circle clip-path=\"url(#clip4400)\" style=\"fill:#000000; stroke:none; fill-opacity:1\" cx=\"2005.61\" cy=\"372.684\" r=\"25\"/>\n",
       "<circle clip-path=\"url(#clip4400)\" style=\"fill:#c271d2; stroke:none; fill-opacity:1\" cx=\"2005.61\" cy=\"372.684\" r=\"21\"/>\n",
       "<g clip-path=\"url(#clip4400)\">\n",
       "<text style=\"fill:#000000; fill-opacity:1; font-family:Arial,Helvetica Neue,Helvetica,sans-serif; font-size:48px; text-anchor:start;\" transform=\"rotate(0, 2089.61, 390.184)\" x=\"2089.61\" y=\"390.184\">N = 5</text>\n",
       "</g>\n",
       "<polyline clip-path=\"url(#clip4400)\" style=\"stroke:#ac8d18; stroke-width:4; stroke-opacity:1; fill:none\" points=\"\n",
       "  1921.61,433.164 2065.61,433.164 \n",
       "  \"/>\n",
       "<circle clip-path=\"url(#clip4400)\" style=\"fill:#000000; stroke:none; fill-opacity:1\" cx=\"2005.61\" cy=\"433.164\" r=\"25\"/>\n",
       "<circle clip-path=\"url(#clip4400)\" style=\"fill:#ac8d18; stroke:none; fill-opacity:1\" cx=\"2005.61\" cy=\"433.164\" r=\"21\"/>\n",
       "<g clip-path=\"url(#clip4400)\">\n",
       "<text style=\"fill:#000000; fill-opacity:1; font-family:Arial,Helvetica Neue,Helvetica,sans-serif; font-size:48px; text-anchor:start;\" transform=\"rotate(0, 2089.61, 450.664)\" x=\"2089.61\" y=\"450.664\">N = 6</text>\n",
       "</g>\n",
       "<polyline clip-path=\"url(#clip4400)\" style=\"stroke:#00a9ad; stroke-width:4; stroke-opacity:1; fill:none\" points=\"\n",
       "  1921.61,493.644 2065.61,493.644 \n",
       "  \"/>\n",
       "<circle clip-path=\"url(#clip4400)\" style=\"fill:#000000; stroke:none; fill-opacity:1\" cx=\"2005.61\" cy=\"493.644\" r=\"25\"/>\n",
       "<circle clip-path=\"url(#clip4400)\" style=\"fill:#00a9ad; stroke:none; fill-opacity:1\" cx=\"2005.61\" cy=\"493.644\" r=\"21\"/>\n",
       "<g clip-path=\"url(#clip4400)\">\n",
       "<text style=\"fill:#000000; fill-opacity:1; font-family:Arial,Helvetica Neue,Helvetica,sans-serif; font-size:48px; text-anchor:start;\" transform=\"rotate(0, 2089.61, 511.144)\" x=\"2089.61\" y=\"511.144\">N = 7</text>\n",
       "</g>\n",
       "<polyline clip-path=\"url(#clip4400)\" style=\"stroke:#ed5d92; stroke-width:4; stroke-opacity:1; fill:none\" points=\"\n",
       "  1921.61,554.124 2065.61,554.124 \n",
       "  \"/>\n",
       "<circle clip-path=\"url(#clip4400)\" style=\"fill:#000000; stroke:none; fill-opacity:1\" cx=\"2005.61\" cy=\"554.124\" r=\"25\"/>\n",
       "<circle clip-path=\"url(#clip4400)\" style=\"fill:#ed5d92; stroke:none; fill-opacity:1\" cx=\"2005.61\" cy=\"554.124\" r=\"21\"/>\n",
       "<g clip-path=\"url(#clip4400)\">\n",
       "<text style=\"fill:#000000; fill-opacity:1; font-family:Arial,Helvetica Neue,Helvetica,sans-serif; font-size:48px; text-anchor:start;\" transform=\"rotate(0, 2089.61, 571.624)\" x=\"2089.61\" y=\"571.624\">N = 8</text>\n",
       "</g>\n",
       "<polyline clip-path=\"url(#clip4400)\" style=\"stroke:#c68125; stroke-width:4; stroke-opacity:1; fill:none\" points=\"\n",
       "  1921.61,614.604 2065.61,614.604 \n",
       "  \"/>\n",
       "<circle clip-path=\"url(#clip4400)\" style=\"fill:#000000; stroke:none; fill-opacity:1\" cx=\"2005.61\" cy=\"614.604\" r=\"25\"/>\n",
       "<circle clip-path=\"url(#clip4400)\" style=\"fill:#c68125; stroke:none; fill-opacity:1\" cx=\"2005.61\" cy=\"614.604\" r=\"21\"/>\n",
       "<g clip-path=\"url(#clip4400)\">\n",
       "<text style=\"fill:#000000; fill-opacity:1; font-family:Arial,Helvetica Neue,Helvetica,sans-serif; font-size:48px; text-anchor:start;\" transform=\"rotate(0, 2089.61, 632.104)\" x=\"2089.61\" y=\"632.104\">N = 9</text>\n",
       "</g>\n",
       "<polyline clip-path=\"url(#clip4400)\" style=\"stroke:#00a98d; stroke-width:4; stroke-opacity:1; fill:none\" points=\"\n",
       "  1921.61,675.084 2065.61,675.084 \n",
       "  \"/>\n",
       "<circle clip-path=\"url(#clip4400)\" style=\"fill:#000000; stroke:none; fill-opacity:1\" cx=\"2005.61\" cy=\"675.084\" r=\"25\"/>\n",
       "<circle clip-path=\"url(#clip4400)\" style=\"fill:#00a98d; stroke:none; fill-opacity:1\" cx=\"2005.61\" cy=\"675.084\" r=\"21\"/>\n",
       "<g clip-path=\"url(#clip4400)\">\n",
       "<text style=\"fill:#000000; fill-opacity:1; font-family:Arial,Helvetica Neue,Helvetica,sans-serif; font-size:48px; text-anchor:start;\" transform=\"rotate(0, 2089.61, 692.584)\" x=\"2089.61\" y=\"692.584\">N = 10</text>\n",
       "</g>\n",
       "</svg>\n"
      ]
     },
     "execution_count": 20,
     "metadata": {},
     "output_type": "execute_result"
    }
   ],
   "source": [
    "using Plots\n",
    "hs = 10 .^ range(-2., stop=2., length=10)\n",
    "Ns = 2:10\n",
    "p = plot()\n",
    "for N in Ns\n",
    "    M = zeros(length(hs))\n",
    "    for (i,h) in enumerate(hs)\n",
    "        H, basis = TransverseFieldIsing(N, h)\n",
    "        vals, vecs = eigen(H)\n",
    "        groundstate = vecs[:,1]\n",
    "        M[i] = magnetization(groundstate, basis)\n",
    "    end\n",
    "    plot!(p, hs, M, xscale=:log10, marker=:circle, label=\"N = $N\",\n",
    "        xlab=\"h\", ylab=\"M(h)\")\n",
    "    println(M)\n",
    "end\n",
    "p"
   ]
  },
  {
   "cell_type": "markdown",
   "metadata": {},
   "source": [
    "# Optional: Hamiltonian type"
   ]
  },
  {
   "cell_type": "code",
   "execution_count": 21,
   "metadata": {},
   "outputs": [],
   "source": [
    "using SparseArrays"
   ]
  },
  {
   "cell_type": "code",
   "execution_count": 22,
   "metadata": {},
   "outputs": [],
   "source": [
    "abstract type AbstractHamiltonian{T, S<:AbstractMatrix} <: AbstractMatrix{T} end\n",
    "\n",
    "LinearAlgebra.ishermitian(A::AbstractHamiltonian) = true # always hermitian!"
   ]
  },
  {
   "cell_type": "code",
   "execution_count": 23,
   "metadata": {},
   "outputs": [],
   "source": [
    "struct QuantumIsing{T, S<:AbstractMatrix} <: AbstractHamiltonian{T, S}\n",
    "    N::Int\n",
    "    basis::Vector\n",
    "    mat::S\n",
    "    h::T\n",
    "    \n",
    "    function QuantumIsing(N::Integer, h::T=0.) where {T<:Real, S<:Matrix}\n",
    "        basis = generate_basis(N)\n",
    "        H = zeros(T, 2^N, 2^N)\n",
    "        bonds = zip(collect(1:N-1), collect(2:N))\n",
    "        for (i, bstate) in enumerate(basis)\n",
    "            # diagonal part\n",
    "            diag_term = 0.\n",
    "            for (site_i, site_j) in bonds\n",
    "                diag_term -= !xor(bstate[site_i], bstate[site_j]) # xor = are they different\n",
    "            end\n",
    "            H[i, i] = diag_term\n",
    "\n",
    "            # off diagonal part\n",
    "            for site in 1:N\n",
    "                new_bstate = copy(bstate)\n",
    "                # flip the bit on the site (that's what σˣ does)\n",
    "                new_bstate[site] ⊻= true\n",
    "                new_i = findfirst(isequal(new_bstate), basis)\n",
    "                H[i, new_i] = -h\n",
    "            end\n",
    "        end\n",
    "        mat = Hermitian(H)\n",
    "        new{T, typeof(mat)}(N, basis, mat, h)\n",
    "    end\n",
    "end\n",
    "\n",
    "Base.size(H::QuantumIsing)               = size(H.mat)\n",
    "Base.ndims(H::QuantumIsing)              = 2\n",
    "Base.getindex(H::QuantumIsing, args...) = getindex(H.mat, args...)\n",
    "\n",
    "LinearAlgebra.eigen(H::QuantumIsing; kwargs...) = eigen(H.mat; kwargs...)"
   ]
  },
  {
   "cell_type": "code",
   "execution_count": 24,
   "metadata": {},
   "outputs": [
    {
     "data": {
      "text/plain": [
       "16×16 QuantumIsing{Float64,Hermitian{Float64,Array{Float64,2}}}:\n",
       " -3.0  -0.1  -0.1   0.0  -0.1   0.0  …   0.0   0.0   0.0   0.0   0.0   0.0\n",
       " -0.1  -2.0   0.0  -0.1   0.0  -0.1      0.0   0.0   0.0   0.0   0.0   0.0\n",
       " -0.1   0.0  -1.0  -0.1   0.0   0.0     -0.1   0.0   0.0   0.0   0.0   0.0\n",
       "  0.0  -0.1  -0.1  -2.0   0.0   0.0      0.0  -0.1   0.0   0.0   0.0   0.0\n",
       " -0.1   0.0   0.0   0.0  -1.0  -0.1      0.0   0.0  -0.1   0.0   0.0   0.0\n",
       "  0.0  -0.1   0.0   0.0  -0.1   0.0  …   0.0   0.0   0.0  -0.1   0.0   0.0\n",
       "  0.0   0.0  -0.1   0.0  -0.1   0.0      0.0   0.0   0.0   0.0  -0.1   0.0\n",
       "  0.0   0.0   0.0  -0.1   0.0  -0.1      0.0   0.0   0.0   0.0   0.0  -0.1\n",
       " -0.1   0.0   0.0   0.0   0.0   0.0     -0.1   0.0  -0.1   0.0   0.0   0.0\n",
       "  0.0  -0.1   0.0   0.0   0.0   0.0      0.0  -0.1   0.0  -0.1   0.0   0.0\n",
       "  0.0   0.0  -0.1   0.0   0.0   0.0  …   0.0  -0.1   0.0   0.0  -0.1   0.0\n",
       "  0.0   0.0   0.0  -0.1   0.0   0.0     -0.1  -1.0   0.0   0.0   0.0  -0.1\n",
       "  0.0   0.0   0.0   0.0  -0.1   0.0      0.0   0.0  -2.0  -0.1  -0.1   0.0\n",
       "  0.0   0.0   0.0   0.0   0.0  -0.1      0.0   0.0  -0.1  -1.0   0.0  -0.1\n",
       "  0.0   0.0   0.0   0.0   0.0   0.0     -0.1   0.0  -0.1   0.0  -2.0  -0.1\n",
       "  0.0   0.0   0.0   0.0   0.0   0.0  …   0.0  -0.1   0.0  -0.1  -0.1  -3.0"
      ]
     },
     "execution_count": 24,
     "metadata": {},
     "output_type": "execute_result"
    }
   ],
   "source": [
    "H = QuantumIsing(4,0.1)"
   ]
  },
  {
   "cell_type": "code",
   "execution_count": 43,
   "metadata": {},
   "outputs": [
    {
     "data": {
      "text/plain": [
       "Eigen{Float64,Float64,Array{Float64,2},Array{Float64,1}}\n",
       "eigenvalues:\n",
       "16-element Array{Float64,1}:\n",
       " -3.030867401976878   \n",
       " -3.029331387034287   \n",
       " -2.1537509705501763  \n",
       " -2.152214955607583   \n",
       " -2.00153601494259    \n",
       " -1.9999999999999956  \n",
       " -1.8771164314266984  \n",
       " -1.8755804164841061  \n",
       " -1.1244195835158937  \n",
       " -1.1228835685733025  \n",
       " -1.0                 \n",
       " -0.9984639850574086  \n",
       " -0.8477850443924141  \n",
       " -0.8462490294498229  \n",
       "  0.02933138703428223 \n",
       "  0.030867401976872866\n",
       "eigenvectors:\n",
       "16×16 Array{Float64,2}:\n",
       " 0.697549    -0.698809      1.95816e-14  …   4.94396e-16   0.00710408\n",
       " 0.0714099   -0.0682146     0.346932         0.0342706    -0.0362477 \n",
       " 0.0362477   -0.0342706     0.0413132       -0.0682146    -0.0714099 \n",
       " 0.0208868   -4.84899e-14   0.505032         0.00334534    0.0106021 \n",
       " 0.0362477   -0.0342706    -0.0413132        0.0682146    -0.0714099 \n",
       " 0.00710408  -1.65952e-14   0.0283802    …  -0.698809      0.697549  \n",
       " 0.0106021    0.00334534   -1.39819e-14      9.19403e-16   0.0208868 \n",
       " 0.0714099    0.0682146     0.346932         0.0342706    -0.0362477 \n",
       " 0.0714099   -0.0682146    -0.346932        -0.0342706    -0.0362477 \n",
       " 0.0106021   -0.00334534   -1.46567e-14      1.00267e-15   0.0208868 \n",
       " 0.00710408  -1.62205e-14  -0.0283802    …   0.698809      0.697549  \n",
       " 0.0362477    0.0342706     0.0413132       -0.0682146    -0.0714099 \n",
       " 0.0208868   -4.75687e-14  -0.505032        -0.00334534    0.0106021 \n",
       " 0.0362477    0.0342706    -0.0413132        0.0682146    -0.0714099 \n",
       " 0.0714099    0.0682146    -0.346932        -0.0342706    -0.0362477 \n",
       " 0.697549     0.698809      2.00561e-14  …   3.18653e-16   0.00710408"
      ]
     },
     "execution_count": 43,
     "metadata": {},
     "output_type": "execute_result"
    }
   ],
   "source": [
    "eigen(H)"
   ]
  },
  {
   "cell_type": "code",
   "execution_count": 41,
   "metadata": {},
   "outputs": [],
   "source": [
    "function Base.show(io::IO, ::MIME\"text/plain\", H::QuantumIsing)\n",
    "    println(io, \"Quantum Ising Hamiltonian:\");\n",
    "    Base.print_array(io, H.mat)\n",
    "end"
   ]
  },
  {
   "cell_type": "code",
   "execution_count": 42,
   "metadata": {},
   "outputs": [
    {
     "data": {
      "text/plain": [
       "Quantum Ising Hamiltonian:\n",
       " -3.0  -0.1  -0.1   0.0  -0.1   0.0  …   0.0   0.0   0.0   0.0   0.0   0.0\n",
       " -0.1  -2.0   0.0  -0.1   0.0  -0.1      0.0   0.0   0.0   0.0   0.0   0.0\n",
       " -0.1   0.0  -1.0  -0.1   0.0   0.0     -0.1   0.0   0.0   0.0   0.0   0.0\n",
       "  0.0  -0.1  -0.1  -2.0   0.0   0.0      0.0  -0.1   0.0   0.0   0.0   0.0\n",
       " -0.1   0.0   0.0   0.0  -1.0  -0.1      0.0   0.0  -0.1   0.0   0.0   0.0\n",
       "  0.0  -0.1   0.0   0.0  -0.1   0.0  …   0.0   0.0   0.0  -0.1   0.0   0.0\n",
       "  0.0   0.0  -0.1   0.0  -0.1   0.0      0.0   0.0   0.0   0.0  -0.1   0.0\n",
       "  0.0   0.0   0.0  -0.1   0.0  -0.1      0.0   0.0   0.0   0.0   0.0  -0.1\n",
       " -0.1   0.0   0.0   0.0   0.0   0.0     -0.1   0.0  -0.1   0.0   0.0   0.0\n",
       "  0.0  -0.1   0.0   0.0   0.0   0.0      0.0  -0.1   0.0  -0.1   0.0   0.0\n",
       "  0.0   0.0  -0.1   0.0   0.0   0.0  …   0.0  -0.1   0.0   0.0  -0.1   0.0\n",
       "  0.0   0.0   0.0  -0.1   0.0   0.0     -0.1  -1.0   0.0   0.0   0.0  -0.1\n",
       "  0.0   0.0   0.0   0.0  -0.1   0.0      0.0   0.0  -2.0  -0.1  -0.1   0.0\n",
       "  0.0   0.0   0.0   0.0   0.0  -0.1      0.0   0.0  -0.1  -1.0   0.0  -0.1\n",
       "  0.0   0.0   0.0   0.0   0.0   0.0     -0.1   0.0  -0.1   0.0  -2.0  -0.1\n",
       "  0.0   0.0   0.0   0.0   0.0   0.0  …   0.0  -0.1   0.0  -0.1  -0.1  -3.0"
      ]
     },
     "execution_count": 42,
     "metadata": {},
     "output_type": "execute_result"
    }
   ],
   "source": [
    "H"
   ]
  }
 ],
 "metadata": {
  "@webio": {
   "lastCommId": null,
   "lastKernelId": null
  },
  "kernelspec": {
   "display_name": "Julia 1.1.0",
   "language": "julia",
   "name": "julia-1.1"
  },
  "language_info": {
   "file_extension": ".jl",
   "mimetype": "application/julia",
   "name": "julia",
   "version": "1.1.0"
  }
 },
 "nbformat": 4,
 "nbformat_minor": 4
}
