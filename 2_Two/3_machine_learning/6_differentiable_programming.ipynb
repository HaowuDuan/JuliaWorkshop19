{
 "cells": [
  {
   "cell_type": "markdown",
   "metadata": {},
   "source": [
    "# What is differentiable programming?"
   ]
  },
  {
   "cell_type": "markdown",
   "metadata": {},
   "source": [
    "Let's recall what a layer in a neural network *actually* is.\n",
    "\n",
    "A layer is really just a **differentiable function** which takes in a vector of size `n` and spits out a new vector of size `m`.\n",
    "\n",
    "That’s it! It just so often happens that this function is a simple matrix multiply or the application of a sigmoid.\n",
    "\n",
    "With differentiable programming we utilize this generality.\n",
    "\n",
    "> Differentiable programming **applies the techniques of deep learning to complex existing programs**, taking advantage of the huge amount of knowledge embedded within them. Deep learning, statistics, programming and the sciences all have something to say about modelling the world around us [...] .\n",
    "\n",
    "(taken from [What is differentiable programming?](https://fluxml.ai/2019/02/07/what-is-differentiable-programming.html))\n",
    "\n",
    "So, basically,\n",
    "\n",
    "**Differentiable programming = Differentiate through any kind of code.**"
   ]
  },
  {
   "cell_type": "markdown",
   "metadata": {},
   "source": [
    "# Example: Throwing stuff"
   ]
  },
  {
   "cell_type": "markdown",
   "metadata": {},
   "source": [
    "### https://fluxml.ai/2019/03/05/dp-vs-rl.html"
   ]
  }
 ],
 "metadata": {
  "@webio": {
   "lastCommId": "6d19f508d3e24a928a0c401fc242f1a2",
   "lastKernelId": "9d1419c9-4648-4e7e-b8f6-9c3330613bd7"
  },
  "kernelspec": {
   "display_name": "Julia 1.1.0",
   "language": "julia",
   "name": "julia-1.1"
  },
  "language_info": {
   "file_extension": ".jl",
   "mimetype": "application/julia",
   "name": "julia",
   "version": "1.1.0"
  }
 },
 "nbformat": 4,
 "nbformat_minor": 2
}
