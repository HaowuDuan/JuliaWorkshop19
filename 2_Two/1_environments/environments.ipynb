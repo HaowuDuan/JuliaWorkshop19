{
 "cells": [
  {
   "cell_type": "markdown",
   "metadata": {},
   "source": [
    "# Projects"
   ]
  },
  {
   "cell_type": "markdown",
   "metadata": {},
   "source": [
    "When working on a project in Julia we're almost always using external packages.\n",
    "\n",
    "This means that our **project code depends on packages**. It can only be executed when those packages are present on the executing machine.\n",
    "\n",
    "Even then, since packages change over time, executability is only guaranteed if we have the **exact same versions of the packages** that we had when writing the code.\n",
    "\n",
    "Imagine you want to share the code with someone, like a colleague or **your future self**.\n",
    "\n",
    "**Sharing the code alone is often not enough!**\n",
    "\n",
    "Instead you'd want to share your code and a snapshot of your package [environment](https://docs.julialang.org/en/v1/manual/code-loading/#Environments-1).\n",
    "\n",
    "Fortunately, this is pretty straightforward in Julia."
   ]
  },
  {
   "cell_type": "markdown",
   "metadata": {},
   "source": [
    "# The default environment"
   ]
  },
  {
   "cell_type": "code",
   "execution_count": 1,
   "metadata": {},
   "outputs": [
    {
     "name": "stdout",
     "output_type": "stream",
     "text": [
      "\u001b[32m\u001b[1m    Status\u001b[22m\u001b[39m `C:\\Users\\carsten\\Desktop\\julia-workshop-2019\\1 One\\Project.toml`\n",
      " \u001b[90m [6e4b80f9]\u001b[39m\u001b[37m BenchmarkTools v0.4.2\u001b[39m\n",
      " \u001b[90m [91a5bcdd]\u001b[39m\u001b[37m Plots v0.26.0\u001b[39m\n",
      " \u001b[90m [438e738f]\u001b[39m\u001b[37m PyCall v1.91.2\u001b[39m\n",
      " \u001b[90m [37b6cedf]\u001b[39m\u001b[37m Traceur v0.3.0\u001b[39m\n"
     ]
    }
   ],
   "source": [
    "] status"
   ]
  },
  {
   "cell_type": "code",
   "execution_count": 2,
   "metadata": {},
   "outputs": [
    {
     "data": {
      "text/plain": [
       "\"C:\\\\Users\\\\carsten\\\\Desktop\\\\julia-workshop-2019\\\\1 One\\\\Project.toml\""
      ]
     },
     "execution_count": 2,
     "metadata": {},
     "output_type": "execute_result"
    }
   ],
   "source": [
    "Base.current_project()"
   ]
  },
  {
   "cell_type": "code",
   "execution_count": null,
   "metadata": {},
   "outputs": [],
   "source": []
  }
 ],
 "metadata": {
  "@webio": {
   "lastCommId": null,
   "lastKernelId": null
  },
  "kernelspec": {
   "display_name": "Julia 1.1.0",
   "language": "julia",
   "name": "julia-1.1"
  },
  "language_info": {
   "file_extension": ".jl",
   "mimetype": "application/julia",
   "name": "julia",
   "version": "1.1.0"
  }
 },
 "nbformat": 4,
 "nbformat_minor": 2
}
