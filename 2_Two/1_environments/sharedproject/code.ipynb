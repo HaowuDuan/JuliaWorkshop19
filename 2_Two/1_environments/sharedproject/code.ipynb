{
 "cells": [
  {
   "cell_type": "markdown",
   "metadata": {},
   "source": [
    "# Instantiating our colleagues environment"
   ]
  },
  {
   "cell_type": "markdown",
   "metadata": {},
   "source": [
    "**IJulia automatically looks for an environment (a `Project.toml` file) and activates it.**\n",
    "\n",
    "(It traverses the file system from the current directory upwards.)"
   ]
  },
  {
   "cell_type": "code",
   "execution_count": 2,
   "metadata": {},
   "outputs": [
    {
     "name": "stdout",
     "output_type": "stream",
     "text": [
      "\u001b[32m\u001b[1m    Status\u001b[22m\u001b[39m `C:\\Users\\carsten\\Desktop\\julia-workshop-2019\\2_Two\\environments\\sharedproject\\Project.toml`\n",
      "\u001b[31m→\u001b[39m\u001b[90m [844dae10]\u001b[39m\u001b[37m Useless v0.1.0 #master (http://github.com/crstnbr/Useless.jl)\u001b[39m\n"
     ]
    },
    {
     "name": "stderr",
     "output_type": "stream",
     "text": [
      "┌ Warning: Some packages (indicated with a red arrow) are not downloaded, use `instantiate` to instantiate the current environment\n",
      "└ @ Pkg.Display C:\\cygwin\\home\\Administrator\\buildbot\\worker\\package_win64\\build\\usr\\share\\julia\\stdlib\\v1.1\\Pkg\\src\\Display.jl:220\n"
     ]
    }
   ],
   "source": [
    "] status"
   ]
  },
  {
   "cell_type": "markdown",
   "metadata": {},
   "source": [
    "Julia tells us, that we don't have all the necessary package (versions) installed. One command is enough to get them all."
   ]
  },
  {
   "cell_type": "code",
   "execution_count": 3,
   "metadata": {},
   "outputs": [
    {
     "name": "stdout",
     "output_type": "stream",
     "text": [
      "\u001b[32m\u001b[1m  Updating\u001b[22m\u001b[39m registry at `C:\\Users\\carsten\\.julia\\registries\\General`\n",
      "\u001b[32m\u001b[1m  Updating\u001b[22m\u001b[39m git-repo `https://github.com/JuliaRegistries/General.git`\n",
      "\u001b[?25l\u001b[2K\u001b[?25h"
     ]
    }
   ],
   "source": [
    "] instantiate"
   ]
  },
  {
   "cell_type": "code",
   "execution_count": 4,
   "metadata": {},
   "outputs": [
    {
     "name": "stdout",
     "output_type": "stream",
     "text": [
      "\u001b[32m\u001b[1m    Status\u001b[22m\u001b[39m `C:\\Users\\carsten\\Desktop\\julia-workshop-2019\\2_Two\\environments\\sharedproject\\Project.toml`\n",
      " \u001b[90m [844dae10]\u001b[39m\u001b[37m Useless v0.1.0 #master (http://github.com/crstnbr/Useless.jl)\u001b[39m\n"
     ]
    }
   ],
   "source": [
    "] status"
   ]
  },
  {
   "cell_type": "markdown",
   "metadata": {},
   "source": [
    "# Our colleagues file"
   ]
  },
  {
   "cell_type": "code",
   "execution_count": 5,
   "metadata": {},
   "outputs": [
    {
     "name": "stderr",
     "output_type": "stream",
     "text": [
      "┌ Info: Recompiling stale cache file C:\\Users\\carsten\\.julia\\compiled\\v1.1\\Useless\\vwF6A.ji for Useless [844dae10-c0bf-11e8-151a-ff650c5ba20c]\n",
      "└ @ Base loading.jl:1184\n"
     ]
    },
    {
     "name": "stdout",
     "output_type": "stream",
     "text": [
      "This is a completely useless package that you just loaded.\n",
      "42\n"
     ]
    }
   ],
   "source": [
    "# Our colleague's code depends on a useless package\n",
    "# (https://github.com/crstnbr/Useless.jl)\n",
    "using Useless\n",
    "\n",
    "life_universe_everything(question) = 42\n",
    "\n",
    "println(life_universe_everything(\"What is the meaning of life?\"))"
   ]
  }
 ],
 "metadata": {
  "@webio": {
   "lastCommId": null,
   "lastKernelId": null
  },
  "kernelspec": {
   "display_name": "Julia 1.2.0",
   "language": "julia",
   "name": "julia-1.2"
  },
  "language_info": {
   "file_extension": ".jl",
   "mimetype": "application/julia",
   "name": "julia",
   "version": "1.2.0"
  }
 },
 "nbformat": 4,
 "nbformat_minor": 2
}
