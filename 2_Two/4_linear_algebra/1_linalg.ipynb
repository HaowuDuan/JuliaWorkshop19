{
 "cells": [
  {
   "cell_type": "markdown",
   "metadata": {},
   "source": [
    "# Linear Algebra ([docs](https://docs.julialang.org/en/v1.0.0/stdlib/LinearAlgebra/))"
   ]
  },
  {
   "cell_type": "markdown",
   "metadata": {},
   "source": [
    "Since **quantum mechanics is linear algebra in disguise**, most quantum algorithms involve matrix operations."
   ]
  },
  {
   "cell_type": "markdown",
   "metadata": {},
   "source": [
    "After `using LinearAlgebra`, **Julia speaks linear algebra fluently**.\n",
    "\n",
    "Performing linear algebra operations on a computer is, of course, an old problem. Lots of amazing libraries have been written - mostly in Fortran - which have been optimized over decades.\n",
    "\n",
    "Basically all high-level programming languages use these libraries, including R, Python, and Julia.\n",
    "\n",
    "Linear algebra in Julia is largely implemented by calling [BLAS](http://www.netlib.org/blas/)/[LAPACK](http://www.netlib.org/lapack/) functions. Sparse operations utilize functionality in [SuiteSparse](http://faculty.cse.tamu.edu/davis/suitesparse.html).\n",
    "\n",
    "As per default, Julia uses the [OpenBLAS](https://github.com/xianyi/OpenBLAS) implementation (BLAS, LAPACK, LIBM), which can be replaced by [Intel's MKL](https://software.intel.com/en-us/mkl) (BLAS, LAPACK) and [Intel's Math Library](https://software.intel.com/en-us/node/522653) (LIBM).\n",
    "\n",
    "**What is all this stuff?!?**\n",
    "\n",
    "* **BLAS**: a collection of low-level matrix and vector arithmetic operations (\"multiply two matrices\", \"multiply a matrix by vector\").\n",
    "* **LAPACK**:  a collection of higher-level linear algebra operations. Things like matrix factorizations (LU, LLt, QR, SVD, Schur, etc) that are used to do things like “find the eigenvalues of a matrix”, or “find the singular values of a matrix”, or “solve a linear system”.\n",
    "* **LIBM**: basic math functions like `sin`, `cos`, `sinh`, etcetera\n",
    "\n",
    "Sparse matrices are more difficult and there exist different collections of routines, one of which is **SuiteSparse**.\n",
    "\n",
    "**Why do I have to care?**\n",
    "\n",
    "* Switching from OpenBLAS to MKL can give you large speedups!\n",
    "* Since you might be leaving the world of Julia code, you loose easy inspectability and type genericity. The latter can be an issue for machine learning, as we'll discuss later in more detail."
   ]
  },
  {
   "cell_type": "markdown",
   "metadata": {},
   "source": [
    "# Taking linear algebra seriously"
   ]
  },
  {
   "cell_type": "markdown",
   "metadata": {},
   "source": [
    "Julia is [taking linear algebra seriously](https://www.youtube.com/watch?v=C2RO34b_oPM)! (see [here](https://github.com/JuliaLang/julia/issues/4774), and [here](https://github.com/JuliaLang/julia/issues/20978))."
   ]
  },
  {
   "cell_type": "code",
   "execution_count": 1,
   "metadata": {},
   "outputs": [],
   "source": [
    "using LinearAlgebra"
   ]
  },
  {
   "cell_type": "code",
   "execution_count": 2,
   "metadata": {},
   "outputs": [
    {
     "data": {
      "text/plain": [
       "4×4 Array{Float64,2}:\n",
       " 0.0251479  0.569003  0.174507   0.25139 \n",
       " 0.800646   0.920914  0.834187   0.238625\n",
       " 0.165034   0.169273  0.906141   0.738086\n",
       " 0.420825   0.903913  0.0823355  0.746347"
      ]
     },
     "execution_count": 2,
     "metadata": {},
     "output_type": "execute_result"
    }
   ],
   "source": [
    "A = rand(4,4)"
   ]
  },
  {
   "cell_type": "code",
   "execution_count": 3,
   "metadata": {},
   "outputs": [
    {
     "data": {
      "text/plain": [
       "Array{Float64,2}"
      ]
     },
     "execution_count": 3,
     "metadata": {},
     "output_type": "execute_result"
    }
   ],
   "source": [
    "typeof(A)"
   ]
  },
  {
   "cell_type": "code",
   "execution_count": 4,
   "metadata": {},
   "outputs": [
    {
     "data": {
      "text/plain": [
       "true"
      ]
     },
     "execution_count": 4,
     "metadata": {},
     "output_type": "execute_result"
    }
   ],
   "source": [
    "Array{Float64, 2} === Matrix{Float64} # equivalent not just equal"
   ]
  },
  {
   "cell_type": "code",
   "execution_count": 5,
   "metadata": {},
   "outputs": [
    {
     "data": {
      "text/plain": [
       "-0.2803037572497358"
      ]
     },
     "execution_count": 5,
     "metadata": {},
     "output_type": "execute_result"
    }
   ],
   "source": [
    "det(A)"
   ]
  },
  {
   "cell_type": "code",
   "execution_count": 6,
   "metadata": {},
   "outputs": [
    {
     "data": {
      "text/plain": [
       "4×4 Array{Float64,2}:\n",
       " -2.94635    0.864102  -0.322084   1.03466\n",
       "  2.0029     0.157895  -0.511121  -0.21965\n",
       "  0.862652   0.40186    0.665365  -1.07705\n",
       " -0.85962   -0.722782   0.727231   1.14131"
      ]
     },
     "execution_count": 6,
     "metadata": {},
     "output_type": "execute_result"
    }
   ],
   "source": [
    "inv(A)"
   ]
  },
  {
   "cell_type": "code",
   "execution_count": 7,
   "metadata": {},
   "outputs": [
    {
     "data": {
      "text/plain": [
       "4"
      ]
     },
     "execution_count": 7,
     "metadata": {},
     "output_type": "execute_result"
    }
   ],
   "source": [
    "rank(A)"
   ]
  },
  {
   "cell_type": "markdown",
   "metadata": {},
   "source": [
    "Let's get a vector as well"
   ]
  },
  {
   "cell_type": "code",
   "execution_count": 8,
   "metadata": {},
   "outputs": [
    {
     "data": {
      "text/plain": [
       "4-element Array{Float64,1}:\n",
       " 0.35970024321038463\n",
       " 0.7935866200758142 \n",
       " 0.08615588113823969\n",
       " 0.47803743926608067"
      ]
     },
     "execution_count": 8,
     "metadata": {},
     "output_type": "execute_result"
    }
   ],
   "source": [
    "v = rand(4)"
   ]
  },
  {
   "cell_type": "code",
   "execution_count": 9,
   "metadata": {},
   "outputs": [
    {
     "data": {
      "text/plain": [
       "Array{Float64,1}"
      ]
     },
     "execution_count": 9,
     "metadata": {},
     "output_type": "execute_result"
    }
   ],
   "source": [
    "typeof(v)"
   ]
  },
  {
   "cell_type": "code",
   "execution_count": 10,
   "metadata": {},
   "outputs": [
    {
     "data": {
      "text/plain": [
       "true"
      ]
     },
     "execution_count": 10,
     "metadata": {},
     "output_type": "execute_result"
    }
   ],
   "source": [
    "Array{Float64,1} === Vector{Float64}"
   ]
  },
  {
   "cell_type": "code",
   "execution_count": 11,
   "metadata": {},
   "outputs": [
    {
     "data": {
      "text/plain": [
       "0.9975503083673237"
      ]
     },
     "execution_count": 11,
     "metadata": {},
     "output_type": "execute_result"
    }
   ],
   "source": [
    "norm(v)"
   ]
  },
  {
   "cell_type": "code",
   "execution_count": 12,
   "metadata": {},
   "outputs": [
    {
     "ename": "MethodError",
     "evalue": "MethodError: no method matching ^(::Array{Float64,1}, ::Int64)\nClosest candidates are:\n  ^(!Matched::Float16, ::Integer) at math.jl:796\n  ^(!Matched::Missing, ::Integer) at missing.jl:130\n  ^(!Matched::Missing, ::Number) at missing.jl:94\n  ...",
     "output_type": "error",
     "traceback": [
      "MethodError: no method matching ^(::Array{Float64,1}, ::Int64)\nClosest candidates are:\n  ^(!Matched::Float16, ::Integer) at math.jl:796\n  ^(!Matched::Missing, ::Integer) at missing.jl:130\n  ^(!Matched::Missing, ::Number) at missing.jl:94\n  ...",
      "",
      "Stacktrace:",
      " [1] macro expansion at .\\none:0 [inlined]",
      " [2] literal_pow(::typeof(^), ::Array{Float64,1}, ::Val{2}) at .\\none:0",
      " [3] top-level scope at In[12]:1"
     ]
    }
   ],
   "source": [
    "v^2 # can't square a vector"
   ]
  },
  {
   "cell_type": "code",
   "execution_count": 13,
   "metadata": {},
   "outputs": [
    {
     "data": {
      "text/plain": [
       "4-element Array{Float64,1}:\n",
       " 0.12938426496560984 \n",
       " 0.6297797235633545  \n",
       " 0.007422835854706485\n",
       " 0.22851979334007178 "
      ]
     },
     "execution_count": 13,
     "metadata": {},
     "output_type": "execute_result"
    }
   ],
   "source": [
    "v.^2"
   ]
  },
  {
   "cell_type": "markdown",
   "metadata": {},
   "source": [
    "Some things might be suprising"
   ]
  },
  {
   "cell_type": "code",
   "execution_count": 14,
   "metadata": {},
   "outputs": [
    {
     "data": {
      "text/plain": [
       "1×4 Transpose{Float64,Array{Float64,1}}:\n",
       " 0.361469  0.797489  0.0865795  0.480388"
      ]
     },
     "execution_count": 14,
     "metadata": {},
     "output_type": "execute_result"
    }
   ],
   "source": [
    "1/v"
   ]
  },
  {
   "cell_type": "markdown",
   "metadata": {},
   "source": [
    "But if it works, there is typically meaning to it. In this case it is calculating the [Moore-Penrose-Pseudoinverse](https://en.wikipedia.org/wiki/Moore%E2%80%93Penrose_inverse#Vectors) (`transpose(v)/sum(abs2,v)`)."
   ]
  },
  {
   "cell_type": "markdown",
   "metadata": {},
   "source": [
    "### Identity matrix: `UniformScaling` operator"
   ]
  },
  {
   "cell_type": "code",
   "execution_count": 15,
   "metadata": {},
   "outputs": [
    {
     "ename": "MethodError",
     "evalue": "MethodError: no method matching +(::Array{Float64,2}, ::Int64)\nClosest candidates are:\n  +(::Any, ::Any, !Matched::Any, !Matched::Any...) at operators.jl:529\n  +(!Matched::Complex{Bool}, ::Real) at complex.jl:293\n  +(!Matched::Missing, ::Number) at missing.jl:94\n  ...",
     "output_type": "error",
     "traceback": [
      "MethodError: no method matching +(::Array{Float64,2}, ::Int64)\nClosest candidates are:\n  +(::Any, ::Any, !Matched::Any, !Matched::Any...) at operators.jl:529\n  +(!Matched::Complex{Bool}, ::Real) at complex.jl:293\n  +(!Matched::Missing, ::Number) at missing.jl:94\n  ...",
      "",
      "Stacktrace:",
      " [1] top-level scope at In[15]:1"
     ]
    }
   ],
   "source": [
    "A + 3"
   ]
  },
  {
   "cell_type": "code",
   "execution_count": 16,
   "metadata": {},
   "outputs": [
    {
     "data": {
      "text/plain": [
       "4×4 Array{Float64,2}:\n",
       " 3.02515  3.569    3.17451  3.25139\n",
       " 3.80065  3.92091  3.83419  3.23862\n",
       " 3.16503  3.16927  3.90614  3.73809\n",
       " 3.42082  3.90391  3.08234  3.74635"
      ]
     },
     "execution_count": 16,
     "metadata": {},
     "output_type": "execute_result"
    }
   ],
   "source": [
    "A .+ 3"
   ]
  },
  {
   "cell_type": "markdown",
   "metadata": {},
   "source": [
    "The `UniformScaling` operator **represents an identity matrix of any size** and is another great example of **duck typing**. It automatically gets loaded into scope when you do `using LinearAlgebra` and has the name `I`."
   ]
  },
  {
   "cell_type": "code",
   "execution_count": 18,
   "metadata": {},
   "outputs": [
    {
     "data": {
      "text/plain": [
       "UniformScaling{Bool}\n",
       "true*I"
      ]
     },
     "execution_count": 18,
     "metadata": {},
     "output_type": "execute_result"
    }
   ],
   "source": [
    "I"
   ]
  },
  {
   "cell_type": "markdown",
   "metadata": {},
   "source": [
    "Although it never actually materializes a full identity matrix it behaves like one."
   ]
  },
  {
   "cell_type": "code",
   "execution_count": 19,
   "metadata": {},
   "outputs": [
    {
     "data": {
      "text/plain": [
       "4×4 Array{Float64,2}:\n",
       " 3.02515   0.569003  0.174507   0.25139 \n",
       " 0.800646  3.92091   0.834187   0.238625\n",
       " 0.165034  0.169273  3.90614    0.738086\n",
       " 0.420825  0.903913  0.0823355  3.74635 "
      ]
     },
     "execution_count": 19,
     "metadata": {},
     "output_type": "execute_result"
    }
   ],
   "source": [
    "A + 3I"
   ]
  },
  {
   "cell_type": "code",
   "execution_count": 20,
   "metadata": {},
   "outputs": [
    {
     "data": {
      "text/plain": [
       "true"
      ]
     },
     "execution_count": 20,
     "metadata": {},
     "output_type": "execute_result"
    }
   ],
   "source": [
    "I * A == A"
   ]
  },
  {
   "cell_type": "markdown",
   "metadata": {},
   "source": [
    "Hence, we can calculate things like, say, `A-b*I` without ever allocating a dense identity matrix, which would take up $\\mathcal{O}(n^2)$ memory.\n",
    "\n",
    "Let's benchmark the performance difference!"
   ]
  },
  {
   "cell_type": "code",
   "execution_count": 22,
   "metadata": {},
   "outputs": [
    {
     "data": {
      "text/plain": [
       "4×4 Array{Float64,2}:\n",
       " 1.0  0.0  0.0  0.0\n",
       " 0.0  1.0  0.0  0.0\n",
       " 0.0  0.0  1.0  0.0\n",
       " 0.0  0.0  0.0  1.0"
      ]
     },
     "execution_count": 22,
     "metadata": {},
     "output_type": "execute_result"
    }
   ],
   "source": [
    "fullI = Matrix{Float64}(I, 4,4) # alternatively but slower, diagm(ones(4))"
   ]
  },
  {
   "cell_type": "code",
   "execution_count": 23,
   "metadata": {},
   "outputs": [
    {
     "data": {
      "text/plain": [
       "fast (generic function with 1 method)"
      ]
     },
     "execution_count": 23,
     "metadata": {},
     "output_type": "execute_result"
    }
   ],
   "source": [
    "fast(A) = A + 3*I"
   ]
  },
  {
   "cell_type": "code",
   "execution_count": 24,
   "metadata": {},
   "outputs": [
    {
     "data": {
      "text/plain": [
       "slow (generic function with 1 method)"
      ]
     },
     "execution_count": 24,
     "metadata": {},
     "output_type": "execute_result"
    }
   ],
   "source": [
    "slow(A, fullI) = A + 3*fullI"
   ]
  },
  {
   "cell_type": "code",
   "execution_count": 25,
   "metadata": {},
   "outputs": [
    {
     "data": {
      "text/plain": [
       "slower (generic function with 1 method)"
      ]
     },
     "execution_count": 25,
     "metadata": {},
     "output_type": "execute_result"
    }
   ],
   "source": [
    "function slower(A)\n",
    "    fullI = Matrix(1.0I, size(A)...)\n",
    "    A + 3*fullI\n",
    "end"
   ]
  },
  {
   "cell_type": "code",
   "execution_count": 26,
   "metadata": {},
   "outputs": [
    {
     "name": "stdout",
     "output_type": "stream",
     "text": [
      "  34.372 ns (1 allocation: 208 bytes)\n",
      "  106.760 ns (2 allocations: 416 bytes)\n",
      "  144.055 ns (3 allocations: 624 bytes)\n"
     ]
    }
   ],
   "source": [
    "using BenchmarkTools\n",
    "@btime fast($A);\n",
    "@btime slow($A, $fullI);\n",
    "@btime slower($A);"
   ]
  },
  {
   "cell_type": "markdown",
   "metadata": {},
   "source": [
    "# Utilizing matrix factorizations"
   ]
  },
  {
   "cell_type": "markdown",
   "metadata": {},
   "source": [
    "[Matrix factorizations (a.k.a. matrix decompositions)](https://en.wikipedia.org/wiki/Matrix_decomposition)\n",
    "are factorization of a matrix into a product of matrices, and are one of the central concepts\n",
    "in linear algebra.\n",
    "\n",
    "Making good use of matrix factorizations is crucial for efficient linear algebra operations.\n",
    "\n",
    "Example: Solving the linear system `Ax = b`."
   ]
  },
  {
   "cell_type": "code",
   "execution_count": 27,
   "metadata": {},
   "outputs": [
    {
     "data": {
      "text/plain": [
       "5×5 Array{Int64,2}:\n",
       "  8  8  1  10  1\n",
       "  7  6  3  10  5\n",
       "  2  8  3   3  9\n",
       "  8  1  5   8  7\n",
       " 10  2  4  10  3"
      ]
     },
     "execution_count": 27,
     "metadata": {},
     "output_type": "execute_result"
    }
   ],
   "source": [
    "A = rand(1:10, 5, 5)"
   ]
  },
  {
   "cell_type": "code",
   "execution_count": 28,
   "metadata": {},
   "outputs": [
    {
     "data": {
      "text/plain": [
       "5-element Array{Float64,1}:\n",
       " 0.2728082758069206\n",
       " 0.7632722900493893\n",
       " 0.9227293283499092\n",
       " 0.9989828973919723\n",
       " 0.0866752583372008"
      ]
     },
     "execution_count": 28,
     "metadata": {},
     "output_type": "execute_result"
    }
   ],
   "source": [
    "b = rand(5)"
   ]
  },
  {
   "cell_type": "markdown",
   "metadata": {},
   "source": [
    "Solve explicitly"
   ]
  },
  {
   "cell_type": "code",
   "execution_count": 29,
   "metadata": {},
   "outputs": [
    {
     "data": {
      "text/plain": [
       "5-element Array{Float64,1}:\n",
       "  0.2047354867675181 \n",
       " -0.23475037959269082\n",
       " -1.0584778197366018 \n",
       "  0.09857416428204521\n",
       "  0.5856635953244522 "
      ]
     },
     "execution_count": 29,
     "metadata": {},
     "output_type": "execute_result"
    }
   ],
   "source": [
    "inv(A)*b"
   ]
  },
  {
   "cell_type": "markdown",
   "metadata": {},
   "source": [
    "Solve by left division `\\`"
   ]
  },
  {
   "cell_type": "code",
   "execution_count": 31,
   "metadata": {},
   "outputs": [
    {
     "data": {
      "text/plain": [
       "5-element Array{Float64,1}:\n",
       "  0.2047354867675187 \n",
       " -0.23475037959269107\n",
       " -1.058477819736604  \n",
       "  0.09857416428204503\n",
       "  0.5856635953244533 "
      ]
     },
     "execution_count": 31,
     "metadata": {},
     "output_type": "execute_result"
    }
   ],
   "source": [
    "A\\b"
   ]
  },
  {
   "cell_type": "code",
   "execution_count": 32,
   "metadata": {},
   "outputs": [
    {
     "name": "stdout",
     "output_type": "stream",
     "text": [
      "  990.000 ns (7 allocations: 3.50 KiB)\n",
      "  304.449 ns (4 allocations: 576 bytes)\n"
     ]
    }
   ],
   "source": [
    "using BenchmarkTools\n",
    "@btime inv($A)*$b; # it is (almost) never necessary to calculate the dense inverse\n",
    "@btime $A\\$b;"
   ]
  },
  {
   "cell_type": "markdown",
   "metadata": {},
   "source": [
    "What does Julia do to make this so much faster?\n",
    "\n",
    "It knows that it can perform the division much faster if it first [LU decomposes](https://en.wikipedia.org/wiki/LU_decomposition) `A`."
   ]
  },
  {
   "cell_type": "code",
   "execution_count": 33,
   "metadata": {},
   "outputs": [
    {
     "data": {
      "text/plain": [
       "5-element Array{Float64,1}:\n",
       "  0.2047354867675187 \n",
       " -0.23475037959269107\n",
       " -1.058477819736604  \n",
       "  0.09857416428204503\n",
       "  0.5856635953244533 "
      ]
     },
     "execution_count": 33,
     "metadata": {},
     "output_type": "execute_result"
    }
   ],
   "source": [
    "lu(A)\\b"
   ]
  },
  {
   "cell_type": "code",
   "execution_count": 34,
   "metadata": {},
   "outputs": [
    {
     "name": "stdout",
     "output_type": "stream",
     "text": [
      "  293.680 ns (4 allocations: 576 bytes)\n"
     ]
    },
    {
     "data": {
      "text/plain": [
       "5-element Array{Float64,1}:\n",
       "  0.2047354867675187 \n",
       " -0.23475037959269107\n",
       " -1.058477819736604  \n",
       "  0.09857416428204503\n",
       "  0.5856635953244533 "
      ]
     },
     "execution_count": 34,
     "metadata": {},
     "output_type": "execute_result"
    }
   ],
   "source": [
    "@btime lu($A)\\$b"
   ]
  },
  {
   "cell_type": "markdown",
   "metadata": {},
   "source": [
    "Let's inspect the output of `lu(A)`"
   ]
  },
  {
   "cell_type": "code",
   "execution_count": 35,
   "metadata": {},
   "outputs": [
    {
     "data": {
      "text/plain": [
       "LU{Float64,Array{Float64,2}}\n",
       "L factor:\n",
       "5×5 Array{Float64,2}:\n",
       " 1.0     0.0   0.0       0.0      0.0\n",
       " 0.875   1.0   0.0       0.0      0.0\n",
       " 0.25   -6.0   1.0       0.0      0.0\n",
       " 1.0     7.0  -0.701613  1.0      0.0\n",
       " 1.25    8.0  -0.919355  1.00157  1.0\n",
       "U factor:\n",
       "5×5 Array{Float64,2}:\n",
       " 8.0   8.0   1.0    10.0      1.0     \n",
       " 0.0  -1.0   2.125   1.25     4.125   \n",
       " 0.0   0.0  15.5     8.0     33.5     \n",
       " 0.0   0.0   0.0    -5.1371   0.629032\n",
       " 0.0   0.0   0.0     0.0     -1.08163 "
      ]
     },
     "execution_count": 35,
     "metadata": {},
     "output_type": "execute_result"
    }
   ],
   "source": [
    "lu(A)"
   ]
  },
  {
   "cell_type": "code",
   "execution_count": 36,
   "metadata": {},
   "outputs": [
    {
     "data": {
      "text/plain": [
       "LU{Float64,Array{Float64,2}}"
      ]
     },
     "execution_count": 36,
     "metadata": {},
     "output_type": "execute_result"
    }
   ],
   "source": [
    "typeof(lu(A))"
   ]
  },
  {
   "cell_type": "code",
   "execution_count": 37,
   "metadata": {},
   "outputs": [
    {
     "data": {
      "text/plain": [
       "Factorization"
      ]
     },
     "execution_count": 37,
     "metadata": {},
     "output_type": "execute_result"
    }
   ],
   "source": [
    "supertype(LU)"
   ]
  },
  {
   "cell_type": "markdown",
   "metadata": {},
   "source": [
    "### List of factorizations\n",
    "\n",
    "The following table summarizes the types of matrix factorizations that have been implemented in\n",
    "Julia. Details of their associated methods can be found in the [Standard Functions](https://docs.julialang.org/en/latest/stdlib/LinearAlgebra/#Standard-Functions-1) section\n",
    "of the Linear Algebra documentation.\n",
    "\n",
    "| Type               | Description                                                                                                    |\n",
    "|:------------------ |:-------------------------------------------------------------------------------------------------------------- |\n",
    "| `BunchKaufman`     | Bunch-Kaufman factorization                                                                                    |\n",
    "| `Cholesky`         | [Cholesky factorization](https://en.wikipedia.org/wiki/Cholesky_decomposition)                                 |\n",
    "| `CholeskyPivoted`  | [Pivoted](https://en.wikipedia.org/wiki/Pivot_element) Cholesky factorization                                  |\n",
    "| `LDLt`             | [LDL(T) factorization](https://en.wikipedia.org/wiki/Cholesky_decomposition#LDL_decomposition)                 |\n",
    "| `LU`               | [LU factorization](https://en.wikipedia.org/wiki/LU_decomposition)                                             |\n",
    "| `QR`               | [QR factorization](https://en.wikipedia.org/wiki/QR_decomposition)                                             |\n",
    "| `QRCompactWY`      | Compact WY form of the QR factorization                                                                        |\n",
    "| `QRPivoted`        | Pivoted [QR factorization](https://en.wikipedia.org/wiki/QR_decomposition)                                     |\n",
    "| `LQ`               | [QR factorization](https://en.wikipedia.org/wiki/QR_decomposition) of `transpose(A)`                           |\n",
    "| `Hessenberg`       | [Hessenberg decomposition](http://mathworld.wolfram.com/HessenbergDecomposition.html)                          |\n",
    "| `Eigen`            | [Spectral decomposition](https://en.wikipedia.org/wiki/Eigendecomposition_of_a_matrix)                         |\n",
    "| `GeneralizedEigen` | [Generalized spectral decomposition](https://en.wikipedia.org/wiki/Eigendecomposition_of_a_matrix#Generalized_eigenvalue_problem)                            |\n",
    "| `SVD`              | [Singular value decomposition](https://en.wikipedia.org/wiki/Singular_value_decomposition)                     |\n",
    "| `GeneralizedSVD`   | [Generalized SVD](https://en.wikipedia.org/wiki/Generalized_singular_value_decomposition#Higher_order_version) |\n",
    "| `Schur`            | [Schur decomposition](https://en.wikipedia.org/wiki/Schur_decomposition)                                       |\n",
    "| `GeneralizedSchur` | [Generalized Schur decomposition](https://en.wikipedia.org/wiki/Schur_decomposition#Generalized_Schur_decomposition) |\n",
    "\n",
    "(Taken from the Julia docs)"
   ]
  },
  {
   "cell_type": "code",
   "execution_count": 38,
   "metadata": {},
   "outputs": [
    {
     "name": "stdout",
     "output_type": "stream",
     "text": [
      "  294.834 ns (4 allocations: 576 bytes)\n",
      "  4.314 μs (9 allocations: 1.48 KiB)\n",
      "  8.566 μs (18 allocations: 4.91 KiB)\n"
     ]
    }
   ],
   "source": [
    "@btime lu($A)\\$b\n",
    "@btime qr($A)\\$b\n",
    "@btime svd($A)\\$b;"
   ]
  },
  {
   "cell_type": "markdown",
   "metadata": {},
   "source": [
    "From the documentation (`?\\`) of the left division operator:\n",
    "\n",
    ">Matrix division using a polyalgorithm. For input matrices A and B, the result X is such that A*X == B when A is square. The solver that is used depends upon the structure of A. If A is upper or lower triangular (or diagonal), no factorization of A is required and the system is solved with either forward or backward substitution."
   ]
  },
  {
   "cell_type": "markdown",
   "metadata": {},
   "source": [
    "This is what the actual heuristic looks like (`@which`/`@edit` are your friends!)\n",
    "\n",
    "```julia\n",
    "function (\\)(A::AbstractMatrix, B::AbstractVecOrMat)\n",
    "    @assert !has_offset_axes(A, B)\n",
    "    m, n = size(A)\n",
    "    if m == n\n",
    "        if istril(A)\n",
    "            if istriu(A)\n",
    "                return Diagonal(A) \\ B\n",
    "            else\n",
    "                return LowerTriangular(A) \\ B\n",
    "            end\n",
    "        end\n",
    "        if istriu(A)\n",
    "            return UpperTriangular(A) \\ B\n",
    "        end\n",
    "        return lu(A) \\ B\n",
    "    end\n",
    "    return qr(A,Val(true)) \\ B\n",
    "end\n",
    "```"
   ]
  },
  {
   "cell_type": "markdown",
   "metadata": {},
   "source": [
    "Generically, a heuristic is implemented in `factorize`:"
   ]
  },
  {
   "cell_type": "code",
   "execution_count": 39,
   "metadata": {},
   "outputs": [
    {
     "data": {
      "text/plain": [
       "LU{Float64,Array{Float64,2}}"
      ]
     },
     "execution_count": 39,
     "metadata": {},
     "output_type": "execute_result"
    }
   ],
   "source": [
    "typeof(factorize(A))"
   ]
  },
  {
   "cell_type": "code",
   "execution_count": 40,
   "metadata": {},
   "outputs": [
    {
     "data": {
      "text/plain": [
       "BunchKaufman{Float64,Array{Float64,2}}"
      ]
     },
     "execution_count": 40,
     "metadata": {},
     "output_type": "execute_result"
    }
   ],
   "source": [
    "typeof(factorize(A+A'))"
   ]
  },
  {
   "cell_type": "markdown",
   "metadata": {},
   "source": [
    "# Fast linear algebra with multiple dispatch"
   ]
  },
  {
   "cell_type": "markdown",
   "metadata": {},
   "source": [
    "Ok, we've seen that Julia analyses the input matrix using some heuristic, factorizes it appropriately to then perform the calculation efficiently. \n",
    "\n",
    "But we can (and probably should) also be more explicit about our input to avoid this heuristic. We can encode the special structure of our matrix in a type such that we directly dispatch to the efficient method. Remember, the types decide which method is actually being run!\n",
    "\n",
    "There are many reasons to indicate what kind of matrix we have.\n",
    "\n",
    "* Don't rely on a heuristic. Not all methods have one!\n",
    "* The heurisitc comes with a small performance penalty.\n",
    "* The heurisitc isn't perfect and might fail to notice our matrix's special structure. Maybe because it's not known to base Julia. As we'll see later on, many external packages define additional special matrix types and efficient procedures for them.\n",
    "\n",
    "The following special matrix types are available out-of-the-box."
   ]
  },
  {
   "cell_type": "markdown",
   "metadata": {},
   "source": [
    "### Standard matrix types\n",
    "\n",
    ">[Matrices with special symmetries and structures](http://www2.imm.dtu.dk/pubdb/views/publication_details.php?id=3274)\n",
    "arise often in linear algebra and are frequently associated with various matrix factorizations.\n",
    "Julia features a rich collection of special matrix types, which allow for fast computation with\n",
    "specialized routines that are specially developed for particular matrix types.\n",
    ">\n",
    ">The following tables summarize the types of special matrices that have been implemented in Julia,\n",
    "as well as whether hooks to various optimized methods for them in LAPACK are available.\n",
    "\n",
    "| Type                          | Description                                                                                   |\n",
    "|:----------------------------- |:--------------------------------------------------------------------------------------------- |\n",
    "| [`Symmetric`](@ref)           | [Symmetric matrix](https://en.wikipedia.org/wiki/Symmetric_matrix)                            |\n",
    "| [`Hermitian`](@ref)           | [Hermitian matrix](https://en.wikipedia.org/wiki/Hermitian_matrix)                            |\n",
    "| [`UpperTriangular`](@ref)     | Upper [triangular matrix](https://en.wikipedia.org/wiki/Triangular_matrix)                    |\n",
    "| [`UnitUpperTriangular`](@ref) | Upper [triangular matrix](https://en.wikipedia.org/wiki/Triangular_matrix) with unit diagonal |\n",
    "| [`LowerTriangular`](@ref)     | Lower [triangular matrix](https://en.wikipedia.org/wiki/Triangular_matrix)                    |     |\n",
    "| [`UnitLowerTriangular`](@ref) | Lower [triangular matrix](https://en.wikipedia.org/wiki/Triangular_matrix) with unit diagonal |\n",
    "| [`UpperHessenberg`](@ref)     | Upper [Hessenberg matrix](https://en.wikipedia.org/wiki/Hessenberg_matrix)\n",
    "| [`Tridiagonal`](@ref)         | [Tridiagonal matrix](https://en.wikipedia.org/wiki/Tridiagonal_matrix)                        |\n",
    "| [`SymTridiagonal`](@ref)      | Symmetric tridiagonal matrix                                                                  |\n",
    "| [`Bidiagonal`](@ref)          | Upper/lower [bidiagonal matrix](https://en.wikipedia.org/wiki/Bidiagonal_matrix)              |\n",
    "| [`Diagonal`](@ref)            | [Diagonal matrix](https://en.wikipedia.org/wiki/Diagonal_matrix)                              |\n",
    "| [`UniformScaling`](@ref)      | [Uniform scaling operator](https://en.wikipedia.org/wiki/Uniform_scaling)                     |\n",
    "\n",
    "(Taken from the Julia docs)"
   ]
  },
  {
   "cell_type": "code",
   "execution_count": 41,
   "metadata": {},
   "outputs": [
    {
     "data": {
      "text/plain": [
       "5×5 Diagonal{Int64,UnitRange{Int64}}:\n",
       " 1  ⋅  ⋅  ⋅  ⋅\n",
       " ⋅  2  ⋅  ⋅  ⋅\n",
       " ⋅  ⋅  3  ⋅  ⋅\n",
       " ⋅  ⋅  ⋅  4  ⋅\n",
       " ⋅  ⋅  ⋅  ⋅  5"
      ]
     },
     "execution_count": 41,
     "metadata": {},
     "output_type": "execute_result"
    }
   ],
   "source": [
    "D = Diagonal(1:5)"
   ]
  },
  {
   "cell_type": "code",
   "execution_count": 42,
   "metadata": {},
   "outputs": [
    {
     "data": {
      "text/plain": [
       "5×5 Array{Int64,2}:\n",
       " 1  0  0  0  0\n",
       " 0  2  0  0  0\n",
       " 0  0  3  0  0\n",
       " 0  0  0  4  0\n",
       " 0  0  0  0  5"
      ]
     },
     "execution_count": 42,
     "metadata": {},
     "output_type": "execute_result"
    }
   ],
   "source": [
    "Ddense = Matrix(D) # same matrix but type doesn't indicate diagonal structure"
   ]
  },
  {
   "cell_type": "code",
   "execution_count": 43,
   "metadata": {},
   "outputs": [
    {
     "name": "stdout",
     "output_type": "stream",
     "text": [
      "  32.192 ns (1 allocation: 128 bytes)\n",
      "  53.908 ns (1 allocation: 128 bytes)\n"
     ]
    },
    {
     "data": {
      "text/plain": [
       "5-element Array{Float64,1}:\n",
       " 0.2728082758069206\n",
       " 1.5265445800987787\n",
       " 2.7681879850497273\n",
       " 3.9959315895678893\n",
       " 0.433376291686004 "
      ]
     },
     "execution_count": 43,
     "metadata": {},
     "output_type": "execute_result"
    }
   ],
   "source": [
    "@btime $D*$b\n",
    "@btime $Ddense*$b"
   ]
  },
  {
   "cell_type": "markdown",
   "metadata": {},
   "source": [
    "What method does it dispatch to?"
   ]
  },
  {
   "cell_type": "code",
   "execution_count": 44,
   "metadata": {},
   "outputs": [
    {
     "data": {
      "text/html": [
       "*(D::<b>Diagonal</b>, V::<b>AbstractArray{T,1} where T</b>) in LinearAlgebra at <a href=\"file://C:/cygwin/home/Administrator/buildbot/worker/package_win64/build/usr/share/julia/stdlib/v1.2/LinearAlgebra/src/diagonal.jl\" target=\"_blank\">C:\\cygwin\\home\\Administrator\\buildbot\\worker\\package_win64\\build\\usr\\share\\julia\\stdlib\\v1.2\\LinearAlgebra\\src\\diagonal.jl:163</a>"
      ],
      "text/plain": [
       "*(D::Diagonal, V::AbstractArray{T,1} where T) in LinearAlgebra at C:\\cygwin\\home\\Administrator\\buildbot\\worker\\package_win64\\build\\usr\\share\\julia\\stdlib\\v1.2\\LinearAlgebra\\src\\diagonal.jl:163"
      ]
     },
     "execution_count": 44,
     "metadata": {},
     "output_type": "execute_result"
    }
   ],
   "source": [
    "@which D*b"
   ]
  },
  {
   "cell_type": "code",
   "execution_count": 45,
   "metadata": {},
   "outputs": [
    {
     "data": {
      "text/html": [
       "*(A::<b>AbstractArray{T,2}</b>, x::<b>AbstractArray{S,1}</b>)<i> where {T, S}</i> in LinearAlgebra at <a href=\"file://C:/cygwin/home/Administrator/buildbot/worker/package_win64/build/usr/share/julia/stdlib/v1.2/LinearAlgebra/src/matmul.jl\" target=\"_blank\">C:\\cygwin\\home\\Administrator\\buildbot\\worker\\package_win64\\build\\usr\\share\\julia\\stdlib\\v1.2\\LinearAlgebra\\src\\matmul.jl:50</a>"
      ],
      "text/plain": [
       "*(A::AbstractArray{T,2}, x::AbstractArray{S,1}) where {T, S} in LinearAlgebra at C:\\cygwin\\home\\Administrator\\buildbot\\worker\\package_win64\\build\\usr\\share\\julia\\stdlib\\v1.2\\LinearAlgebra\\src\\matmul.jl:50"
      ]
     },
     "execution_count": 45,
     "metadata": {},
     "output_type": "execute_result"
    }
   ],
   "source": [
    "@which Ddense*b"
   ]
  },
  {
   "cell_type": "markdown",
   "metadata": {},
   "source": [
    "**Dense Diagonal** (`Ddense*b`)\n",
    "\n",
    "```julia\n",
    "function (*)(A::AbstractMatrix{T}, x::AbstractVector{S}) where {T,S}\n",
    "    TS = promote_op(matprod, T, S)\n",
    "    mul!(similar(x,TS,axes(A,1)),A,x)\n",
    "end\n",
    "```\n",
    "\n",
    "**Diagonal** (`D*b`)\n",
    "```julia\n",
    "(*)(D::Diagonal, V::AbstractVector) = D.diag .* V\n",
    "```"
   ]
  },
  {
   "cell_type": "markdown",
   "metadata": {},
   "source": [
    "# Fermions hopping on a chain"
   ]
  },
  {
   "cell_type": "markdown",
   "metadata": {},
   "source": [
    "$$\\mathcal{H} = -t\\sum_{\\langle i,j \\rangle} c_i^\\dagger c_j + \\mu \\sum_i n_i$$\n",
    "\n",
    "Here, $t$ is the hopping amplitude, $\\mu$ is the chemical potential, and $c, c^\\dagger$ are creation and annihilation operators.\n",
    "\n",
    "For simplicity, we'll consider **open boundary conditions** (not periodic), in which case the Hamiltonian is tridiagonal.\n",
    "\n",
    "Since the fermions are *not* interacting, we can work in the *single particle basis* and do not have to worry about how to construct a basis for the many-body Fock space.\n",
    "\n",
    "We use the canonical cartesian basis in which one uses $0$s to indicate empty sites and a $1$ for the particle's site, i.e. $|00100\\rangle$ represents the basis state which has the particle exclusively on the 3rd site.\n",
    "\n",
    "If you aren't familiar with second quantization just think of $\\mathcal{H}$ as any quantum mechanical operator that can be represented as a matrix."
   ]
  },
  {
   "cell_type": "code",
   "execution_count": 46,
   "metadata": {},
   "outputs": [
    {
     "data": {
      "text/plain": [
       "100×100 Array{Float64,2}:\n",
       " -0.5  -1.0   0.0   0.0   0.0   0.0  …   0.0   0.0   0.0   0.0   0.0   0.0\n",
       " -1.0  -0.5  -1.0   0.0   0.0   0.0      0.0   0.0   0.0   0.0   0.0   0.0\n",
       "  0.0  -1.0  -0.5  -1.0   0.0   0.0      0.0   0.0   0.0   0.0   0.0   0.0\n",
       "  0.0   0.0  -1.0  -0.5  -1.0   0.0      0.0   0.0   0.0   0.0   0.0   0.0\n",
       "  0.0   0.0   0.0  -1.0  -0.5  -1.0      0.0   0.0   0.0   0.0   0.0   0.0\n",
       "  0.0   0.0   0.0   0.0  -1.0  -0.5  …   0.0   0.0   0.0   0.0   0.0   0.0\n",
       "  0.0   0.0   0.0   0.0   0.0  -1.0      0.0   0.0   0.0   0.0   0.0   0.0\n",
       "  0.0   0.0   0.0   0.0   0.0   0.0      0.0   0.0   0.0   0.0   0.0   0.0\n",
       "  0.0   0.0   0.0   0.0   0.0   0.0      0.0   0.0   0.0   0.0   0.0   0.0\n",
       "  0.0   0.0   0.0   0.0   0.0   0.0      0.0   0.0   0.0   0.0   0.0   0.0\n",
       "  0.0   0.0   0.0   0.0   0.0   0.0  …   0.0   0.0   0.0   0.0   0.0   0.0\n",
       "  0.0   0.0   0.0   0.0   0.0   0.0      0.0   0.0   0.0   0.0   0.0   0.0\n",
       "  0.0   0.0   0.0   0.0   0.0   0.0      0.0   0.0   0.0   0.0   0.0   0.0\n",
       "  ⋮                             ⋮    ⋱         ⋮                          \n",
       "  0.0   0.0   0.0   0.0   0.0   0.0      0.0   0.0   0.0   0.0   0.0   0.0\n",
       "  0.0   0.0   0.0   0.0   0.0   0.0      0.0   0.0   0.0   0.0   0.0   0.0\n",
       "  0.0   0.0   0.0   0.0   0.0   0.0  …   0.0   0.0   0.0   0.0   0.0   0.0\n",
       "  0.0   0.0   0.0   0.0   0.0   0.0      0.0   0.0   0.0   0.0   0.0   0.0\n",
       "  0.0   0.0   0.0   0.0   0.0   0.0      0.0   0.0   0.0   0.0   0.0   0.0\n",
       "  0.0   0.0   0.0   0.0   0.0   0.0     -1.0   0.0   0.0   0.0   0.0   0.0\n",
       "  0.0   0.0   0.0   0.0   0.0   0.0     -0.5  -1.0   0.0   0.0   0.0   0.0\n",
       "  0.0   0.0   0.0   0.0   0.0   0.0  …  -1.0  -0.5  -1.0   0.0   0.0   0.0\n",
       "  0.0   0.0   0.0   0.0   0.0   0.0      0.0  -1.0  -0.5  -1.0   0.0   0.0\n",
       "  0.0   0.0   0.0   0.0   0.0   0.0      0.0   0.0  -1.0  -0.5  -1.0   0.0\n",
       "  0.0   0.0   0.0   0.0   0.0   0.0      0.0   0.0   0.0  -1.0  -0.5  -1.0\n",
       "  0.0   0.0   0.0   0.0   0.0   0.0      0.0   0.0   0.0   0.0  -1.0  -0.5"
      ]
     },
     "execution_count": 46,
     "metadata": {},
     "output_type": "execute_result"
    }
   ],
   "source": [
    "N = 100 # number of sites\n",
    "t = 1\n",
    "μ = -0.5\n",
    "\n",
    "H = diagm(0 => fill(μ, N), 1 => fill(-t, N-1), -1 => fill(-t, N-1))"
   ]
  },
  {
   "cell_type": "code",
   "execution_count": 47,
   "metadata": {},
   "outputs": [],
   "source": [
    "ψ = normalize(rand(N)); # some state"
   ]
  },
  {
   "cell_type": "code",
   "execution_count": 48,
   "metadata": {},
   "outputs": [
    {
     "data": {
      "text/plain": [
       "ev (generic function with 1 method)"
      ]
     },
     "execution_count": 48,
     "metadata": {},
     "output_type": "execute_result"
    }
   ],
   "source": [
    "ev(H, ψ) = ψ'*H*ψ # <φ|H|φ>"
   ]
  },
  {
   "cell_type": "code",
   "execution_count": 49,
   "metadata": {},
   "outputs": [
    {
     "data": {
      "text/plain": [
       "-1.9934291341886468"
      ]
     },
     "execution_count": 49,
     "metadata": {},
     "output_type": "execute_result"
    }
   ],
   "source": [
    "ev(H, ψ)"
   ]
  },
  {
   "cell_type": "code",
   "execution_count": 50,
   "metadata": {},
   "outputs": [
    {
     "name": "stdout",
     "output_type": "stream",
     "text": [
      "  11.000 μs (1 allocation: 896 bytes)\n"
     ]
    }
   ],
   "source": [
    "@btime ev($H, $ψ);"
   ]
  },
  {
   "cell_type": "code",
   "execution_count": 51,
   "metadata": {},
   "outputs": [
    {
     "data": {
      "text/plain": [
       "Array{Float64,2}"
      ]
     },
     "execution_count": 51,
     "metadata": {},
     "output_type": "execute_result"
    }
   ],
   "source": [
    "typeof(H)"
   ]
  },
  {
   "cell_type": "markdown",
   "metadata": {},
   "source": [
    "As long as the code is generic (respects the informal `AbstractArray` interface), we can use the same piece of code for completely different array types.\n",
    "\n",
    "Let's utilize the sparsity of `H` by indicating it through a type."
   ]
  },
  {
   "cell_type": "code",
   "execution_count": 52,
   "metadata": {},
   "outputs": [
    {
     "data": {
      "text/plain": [
       "100×100 SparseMatrixCSC{Float64,Int64} with 298 stored entries:\n",
       "  [1  ,   1]  =  -0.5\n",
       "  [2  ,   1]  =  -1.0\n",
       "  [1  ,   2]  =  -1.0\n",
       "  [2  ,   2]  =  -0.5\n",
       "  [3  ,   2]  =  -1.0\n",
       "  [2  ,   3]  =  -1.0\n",
       "  [3  ,   3]  =  -0.5\n",
       "  [4  ,   3]  =  -1.0\n",
       "  [3  ,   4]  =  -1.0\n",
       "  [4  ,   4]  =  -0.5\n",
       "  [5  ,   4]  =  -1.0\n",
       "  [4  ,   5]  =  -1.0\n",
       "  ⋮\n",
       "  [96 ,  96]  =  -0.5\n",
       "  [97 ,  96]  =  -1.0\n",
       "  [96 ,  97]  =  -1.0\n",
       "  [97 ,  97]  =  -0.5\n",
       "  [98 ,  97]  =  -1.0\n",
       "  [97 ,  98]  =  -1.0\n",
       "  [98 ,  98]  =  -0.5\n",
       "  [99 ,  98]  =  -1.0\n",
       "  [98 ,  99]  =  -1.0\n",
       "  [99 ,  99]  =  -0.5\n",
       "  [100,  99]  =  -1.0\n",
       "  [99 , 100]  =  -1.0\n",
       "  [100, 100]  =  -0.5"
      ]
     },
     "execution_count": 52,
     "metadata": {},
     "output_type": "execute_result"
    }
   ],
   "source": [
    "using SparseArrays\n",
    "Hsparse = sparse(H)"
   ]
  },
  {
   "cell_type": "code",
   "execution_count": 53,
   "metadata": {},
   "outputs": [
    {
     "name": "stdout",
     "output_type": "stream",
     "text": [
      "  337.268 ns (2 allocations: 912 bytes)\n"
     ]
    }
   ],
   "source": [
    "@btime ev($Hsparse, $ψ);"
   ]
  },
  {
   "cell_type": "markdown",
   "metadata": {},
   "source": [
    "That's a solid **30x speedup**!"
   ]
  },
  {
   "cell_type": "markdown",
   "metadata": {},
   "source": [
    "Our `H` isn't just sparse, but actually tridiagonal. Let's try to exploit that."
   ]
  },
  {
   "cell_type": "code",
   "execution_count": 54,
   "metadata": {},
   "outputs": [
    {
     "data": {
      "text/plain": [
       "100×100 Tridiagonal{Float64,Array{Float64,1}}:\n",
       " -0.5  -1.0    ⋅     ⋅     ⋅     ⋅   …    ⋅     ⋅     ⋅     ⋅     ⋅     ⋅ \n",
       " -1.0  -0.5  -1.0    ⋅     ⋅     ⋅        ⋅     ⋅     ⋅     ⋅     ⋅     ⋅ \n",
       "   ⋅   -1.0  -0.5  -1.0    ⋅     ⋅        ⋅     ⋅     ⋅     ⋅     ⋅     ⋅ \n",
       "   ⋅     ⋅   -1.0  -0.5  -1.0    ⋅        ⋅     ⋅     ⋅     ⋅     ⋅     ⋅ \n",
       "   ⋅     ⋅     ⋅   -1.0  -0.5  -1.0       ⋅     ⋅     ⋅     ⋅     ⋅     ⋅ \n",
       "   ⋅     ⋅     ⋅     ⋅   -1.0  -0.5  …    ⋅     ⋅     ⋅     ⋅     ⋅     ⋅ \n",
       "   ⋅     ⋅     ⋅     ⋅     ⋅   -1.0       ⋅     ⋅     ⋅     ⋅     ⋅     ⋅ \n",
       "   ⋅     ⋅     ⋅     ⋅     ⋅     ⋅        ⋅     ⋅     ⋅     ⋅     ⋅     ⋅ \n",
       "   ⋅     ⋅     ⋅     ⋅     ⋅     ⋅        ⋅     ⋅     ⋅     ⋅     ⋅     ⋅ \n",
       "   ⋅     ⋅     ⋅     ⋅     ⋅     ⋅        ⋅     ⋅     ⋅     ⋅     ⋅     ⋅ \n",
       "   ⋅     ⋅     ⋅     ⋅     ⋅     ⋅   …    ⋅     ⋅     ⋅     ⋅     ⋅     ⋅ \n",
       "   ⋅     ⋅     ⋅     ⋅     ⋅     ⋅        ⋅     ⋅     ⋅     ⋅     ⋅     ⋅ \n",
       "   ⋅     ⋅     ⋅     ⋅     ⋅     ⋅        ⋅     ⋅     ⋅     ⋅     ⋅     ⋅ \n",
       "  ⋮                             ⋮    ⋱         ⋮                          \n",
       "   ⋅     ⋅     ⋅     ⋅     ⋅     ⋅        ⋅     ⋅     ⋅     ⋅     ⋅     ⋅ \n",
       "   ⋅     ⋅     ⋅     ⋅     ⋅     ⋅        ⋅     ⋅     ⋅     ⋅     ⋅     ⋅ \n",
       "   ⋅     ⋅     ⋅     ⋅     ⋅     ⋅   …    ⋅     ⋅     ⋅     ⋅     ⋅     ⋅ \n",
       "   ⋅     ⋅     ⋅     ⋅     ⋅     ⋅        ⋅     ⋅     ⋅     ⋅     ⋅     ⋅ \n",
       "   ⋅     ⋅     ⋅     ⋅     ⋅     ⋅        ⋅     ⋅     ⋅     ⋅     ⋅     ⋅ \n",
       "   ⋅     ⋅     ⋅     ⋅     ⋅     ⋅      -1.0    ⋅     ⋅     ⋅     ⋅     ⋅ \n",
       "   ⋅     ⋅     ⋅     ⋅     ⋅     ⋅      -0.5  -1.0    ⋅     ⋅     ⋅     ⋅ \n",
       "   ⋅     ⋅     ⋅     ⋅     ⋅     ⋅   …  -1.0  -0.5  -1.0    ⋅     ⋅     ⋅ \n",
       "   ⋅     ⋅     ⋅     ⋅     ⋅     ⋅        ⋅   -1.0  -0.5  -1.0    ⋅     ⋅ \n",
       "   ⋅     ⋅     ⋅     ⋅     ⋅     ⋅        ⋅     ⋅   -1.0  -0.5  -1.0    ⋅ \n",
       "   ⋅     ⋅     ⋅     ⋅     ⋅     ⋅        ⋅     ⋅     ⋅   -1.0  -0.5  -1.0\n",
       "   ⋅     ⋅     ⋅     ⋅     ⋅     ⋅        ⋅     ⋅     ⋅     ⋅   -1.0  -0.5"
      ]
     },
     "execution_count": 54,
     "metadata": {},
     "output_type": "execute_result"
    }
   ],
   "source": [
    "Htri = Tridiagonal(H)"
   ]
  },
  {
   "cell_type": "code",
   "execution_count": 55,
   "metadata": {},
   "outputs": [
    {
     "name": "stdout",
     "output_type": "stream",
     "text": [
      "  168.365 ns (4 allocations: 976 bytes)\n"
     ]
    }
   ],
   "source": [
    "@btime ev($Htri, $ψ);"
   ]
  },
  {
   "cell_type": "markdown",
   "metadata": {},
   "source": [
    "Choosing the best type (and therewith an algorithm) can be tricky and one has to play around a bit. The good thing is that it's very easy to try out different types!\n",
    "\n",
    "Note that there are also great matrix types available in the ecosystem, see [JuliaMatrices](https://github.com/JuliaMatrices), for example."
   ]
  },
  {
   "cell_type": "markdown",
   "metadata": {},
   "source": [
    "# Exact diagonalisation a.k.a Eigendecomposition"
   ]
  },
  {
   "cell_type": "markdown",
   "metadata": {},
   "source": [
    "To diagonalize our dense \"Hamiltonian\", we simply call the built-in function `eigen`."
   ]
  },
  {
   "cell_type": "code",
   "execution_count": 56,
   "metadata": {},
   "outputs": [
    {
     "data": {
      "text/plain": [
       "Eigen{Float64,Float64,Array{Float64,2},Array{Float64,1}}\n",
       "eigenvalues:\n",
       "100-element Array{Float64,1}:\n",
       " -2.4990325645839753\n",
       " -2.4961311942671887\n",
       " -2.4912986959380365\n",
       " -2.484539744726553 \n",
       " -2.475860879481513 \n",
       " -2.4652704964445267\n",
       " -2.4527788411272136\n",
       " -2.438397998399332 \n",
       " -2.422141880797449 \n",
       " -2.4040262150654583\n",
       " -2.384068526939977 \n",
       " -2.3622881241953175\n",
       " -2.3387060779644715\n",
       "  ⋮                 \n",
       "  1.362288124195319 \n",
       "  1.3840685269399784\n",
       "  1.4040262150654599\n",
       "  1.422141880797449 \n",
       "  1.4383979983993322\n",
       "  1.452778841127214 \n",
       "  1.4652704964445273\n",
       "  1.4758608794815133\n",
       "  1.484539744726553 \n",
       "  1.4912986959380372\n",
       "  1.4961311942671887\n",
       "  1.4990325645839762\n",
       "eigenvectors:\n",
       "100×100 Array{Float64,2}:\n",
       " 0.00437636  -0.00874848  0.0131121  -0.0174631  …   0.00874848  -0.00437636\n",
       " 0.00874848  -0.0174631   0.0261102  -0.0346562     -0.0174631    0.00874848\n",
       " 0.0131121   -0.0261102   0.038881   -0.0513136      0.0261102   -0.0131121 \n",
       " 0.0174631   -0.0346562   0.0513136  -0.0671776     -0.0346562    0.0174631 \n",
       " 0.0217972   -0.0430682   0.0632996  -0.082003       0.0430682   -0.0217972 \n",
       " 0.0261102   -0.0513136   0.0747349  -0.0955607  …  -0.0513136    0.0261102 \n",
       " 0.0303979   -0.0593604   0.0855198  -0.107641       0.0593604   -0.0303979 \n",
       " 0.0346562   -0.0671776   0.0955607  -0.118057      -0.0671776    0.0346562 \n",
       " 0.038881    -0.0747349   0.10477    -0.126648       0.0747349   -0.038881  \n",
       " 0.0430682   -0.082003    0.113068   -0.133281      -0.082003     0.0430682 \n",
       " 0.0472137   -0.0889539   0.120382   -0.137853   …   0.0889539   -0.0472137 \n",
       " 0.0513136   -0.0955607   0.126648   -0.140294      -0.0955607    0.0513136 \n",
       " 0.0553638   -0.101798    0.131812   -0.140566       0.101798    -0.0553638 \n",
       " ⋮                                               ⋱                          \n",
       " 0.0513136    0.0955607   0.126648    0.140294      -0.0955607   -0.0513136 \n",
       " 0.0472137    0.0889539   0.120382    0.137853       0.0889539    0.0472137 \n",
       " 0.0430682    0.082003    0.113068    0.133281   …  -0.082003    -0.0430682 \n",
       " 0.038881     0.0747349   0.10477     0.126648       0.0747349    0.038881  \n",
       " 0.0346562    0.0671776   0.0955607   0.118057      -0.0671776   -0.0346562 \n",
       " 0.0303979    0.0593604   0.0855198   0.107641       0.0593604    0.0303979 \n",
       " 0.0261102    0.0513136   0.0747349   0.0955607     -0.0513136   -0.0261102 \n",
       " 0.0217972    0.0430682   0.0632996   0.082003   …   0.0430682    0.0217972 \n",
       " 0.0174631    0.0346562   0.0513136   0.0671776     -0.0346562   -0.0174631 \n",
       " 0.0131121    0.0261102   0.038881    0.0513136      0.0261102    0.0131121 \n",
       " 0.00874848   0.0174631   0.0261102   0.0346562     -0.0174631   -0.00874848\n",
       " 0.00437636   0.00874848  0.0131121   0.0174631      0.00874848   0.00437636"
      ]
     },
     "execution_count": 56,
     "metadata": {},
     "output_type": "execute_result"
    }
   ],
   "source": [
    "vals, vecs = eigen(H)"
   ]
  },
  {
   "cell_type": "code",
   "execution_count": 57,
   "metadata": {},
   "outputs": [
    {
     "data": {
      "text/plain": [
       "100-element Array{Float64,1}:\n",
       " 0.004376357346900525 \n",
       " 0.008748480850710498 \n",
       " 0.013112140764309128 \n",
       " 0.017463115528552488 \n",
       " 0.02179719585635938  \n",
       " 0.026110188804924692 \n",
       " 0.030397921832121047 \n",
       " 0.03465624683316357  \n",
       " 0.03888104415363324  \n",
       " 0.04306822657497679  \n",
       " 0.04721374326862623  \n",
       " 0.05131358371491453  \n",
       " 0.055363781582994064 \n",
       " ⋮                    \n",
       " 0.05131358371495845  \n",
       " 0.04721374326866721  \n",
       " 0.04306822657501444  \n",
       " 0.03888104415366729  \n",
       " 0.03465624683319377  \n",
       " 0.03039792183214743  \n",
       " 0.026110188804947167 \n",
       " 0.02179719585637802  \n",
       " 0.017463115528567313 \n",
       " 0.013112140764320258 \n",
       " 0.008748480850717935 \n",
       " 0.0043763573469042276"
      ]
     },
     "execution_count": 57,
     "metadata": {},
     "output_type": "execute_result"
    }
   ],
   "source": [
    "ψ0 = vecs[:,1] # single-particle groundstate"
   ]
  },
  {
   "cell_type": "code",
   "execution_count": 58,
   "metadata": {},
   "outputs": [
    {
     "data": {
      "text/plain": [
       "-2.4990325645839753"
      ]
     },
     "execution_count": 58,
     "metadata": {},
     "output_type": "execute_result"
    }
   ],
   "source": [
    "ev(H, ψ0)"
   ]
  },
  {
   "cell_type": "code",
   "execution_count": 59,
   "metadata": {},
   "outputs": [
    {
     "data": {
      "text/plain": [
       "true"
      ]
     },
     "execution_count": 59,
     "metadata": {},
     "output_type": "execute_result"
    }
   ],
   "source": [
    "ev(H, ψ0) <= ev(H, ψ) # groundstate has the lowest energy"
   ]
  },
  {
   "cell_type": "code",
   "execution_count": 60,
   "metadata": {},
   "outputs": [
    {
     "name": "stderr",
     "output_type": "stream",
     "text": [
      "┌ Info: Recompiling stale cache file C:\\Users\\carsten\\.julia\\compiled\\v1.2\\Plots\\ld3vC.ji for Plots [91a5bcdd-55d7-5caf-9e0b-520d859cae80]\n",
      "└ @ Base loading.jl:1240\n"
     ]
    },
    {
     "data": {
      "image/svg+xml": [
       "<?xml version=\"1.0\" encoding=\"utf-8\"?>\n",
       "<svg xmlns=\"http://www.w3.org/2000/svg\" xmlns:xlink=\"http://www.w3.org/1999/xlink\" width=\"600\" height=\"400\" viewBox=\"0 0 2400 1600\">\n",
       "<defs>\n",
       "  <clipPath id=\"clip6000\">\n",
       "    <rect x=\"0\" y=\"0\" width=\"2400\" height=\"1600\"/>\n",
       "  </clipPath>\n",
       "</defs>\n",
       "<polygon clip-path=\"url(#clip6000)\" points=\"\n",
       "0,1600 2400,1600 2400,0 0,0 \n",
       "  \" fill=\"#ffffff\" fill-rule=\"evenodd\" fill-opacity=\"1\"/>\n",
       "<defs>\n",
       "  <clipPath id=\"clip6001\">\n",
       "    <rect x=\"480\" y=\"0\" width=\"1681\" height=\"1600\"/>\n",
       "  </clipPath>\n",
       "</defs>\n",
       "<polygon clip-path=\"url(#clip6000)\" points=\"\n",
       "269.279,1425.62 2352.76,1425.62 2352.76,47.2441 269.279,47.2441 \n",
       "  \" fill=\"#ffffff\" fill-rule=\"evenodd\" fill-opacity=\"1\"/>\n",
       "<defs>\n",
       "  <clipPath id=\"clip6002\">\n",
       "    <rect x=\"269\" y=\"47\" width=\"2084\" height=\"1379\"/>\n",
       "  </clipPath>\n",
       "</defs>\n",
       "<polyline clip-path=\"url(#clip6002)\" style=\"stroke:#000000; stroke-width:2; stroke-opacity:0.1; fill:none\" points=\"\n",
       "  308.391,1425.62 308.391,47.2441 \n",
       "  \"/>\n",
       "<polyline clip-path=\"url(#clip6002)\" style=\"stroke:#000000; stroke-width:2; stroke-opacity:0.1; fill:none\" points=\"\n",
       "  804.741,1425.62 804.741,47.2441 \n",
       "  \"/>\n",
       "<polyline clip-path=\"url(#clip6002)\" style=\"stroke:#000000; stroke-width:2; stroke-opacity:0.1; fill:none\" points=\"\n",
       "  1301.09,1425.62 1301.09,47.2441 \n",
       "  \"/>\n",
       "<polyline clip-path=\"url(#clip6002)\" style=\"stroke:#000000; stroke-width:2; stroke-opacity:0.1; fill:none\" points=\"\n",
       "  1797.44,1425.62 1797.44,47.2441 \n",
       "  \"/>\n",
       "<polyline clip-path=\"url(#clip6002)\" style=\"stroke:#000000; stroke-width:2; stroke-opacity:0.1; fill:none\" points=\"\n",
       "  2293.79,1425.62 2293.79,47.2441 \n",
       "  \"/>\n",
       "<polyline clip-path=\"url(#clip6002)\" style=\"stroke:#000000; stroke-width:2; stroke-opacity:0.1; fill:none\" points=\"\n",
       "  269.279,1387.87 2352.76,1387.87 \n",
       "  \"/>\n",
       "<polyline clip-path=\"url(#clip6002)\" style=\"stroke:#000000; stroke-width:2; stroke-opacity:0.1; fill:none\" points=\"\n",
       "  269.279,1059.13 2352.76,1059.13 \n",
       "  \"/>\n",
       "<polyline clip-path=\"url(#clip6002)\" style=\"stroke:#000000; stroke-width:2; stroke-opacity:0.1; fill:none\" points=\"\n",
       "  269.279,730.394 2352.76,730.394 \n",
       "  \"/>\n",
       "<polyline clip-path=\"url(#clip6002)\" style=\"stroke:#000000; stroke-width:2; stroke-opacity:0.1; fill:none\" points=\"\n",
       "  269.279,401.657 2352.76,401.657 \n",
       "  \"/>\n",
       "<polyline clip-path=\"url(#clip6002)\" style=\"stroke:#000000; stroke-width:2; stroke-opacity:0.1; fill:none\" points=\"\n",
       "  269.279,72.9205 2352.76,72.9205 \n",
       "  \"/>\n",
       "<polyline clip-path=\"url(#clip6000)\" style=\"stroke:#000000; stroke-width:4; stroke-opacity:1; fill:none\" points=\"\n",
       "  269.279,1425.62 2352.76,1425.62 \n",
       "  \"/>\n",
       "<polyline clip-path=\"url(#clip6000)\" style=\"stroke:#000000; stroke-width:4; stroke-opacity:1; fill:none\" points=\"\n",
       "  269.279,1425.62 269.279,47.2441 \n",
       "  \"/>\n",
       "<polyline clip-path=\"url(#clip6000)\" style=\"stroke:#000000; stroke-width:4; stroke-opacity:1; fill:none\" points=\"\n",
       "  308.391,1425.62 308.391,1404.94 \n",
       "  \"/>\n",
       "<polyline clip-path=\"url(#clip6000)\" style=\"stroke:#000000; stroke-width:4; stroke-opacity:1; fill:none\" points=\"\n",
       "  804.741,1425.62 804.741,1404.94 \n",
       "  \"/>\n",
       "<polyline clip-path=\"url(#clip6000)\" style=\"stroke:#000000; stroke-width:4; stroke-opacity:1; fill:none\" points=\"\n",
       "  1301.09,1425.62 1301.09,1404.94 \n",
       "  \"/>\n",
       "<polyline clip-path=\"url(#clip6000)\" style=\"stroke:#000000; stroke-width:4; stroke-opacity:1; fill:none\" points=\"\n",
       "  1797.44,1425.62 1797.44,1404.94 \n",
       "  \"/>\n",
       "<polyline clip-path=\"url(#clip6000)\" style=\"stroke:#000000; stroke-width:4; stroke-opacity:1; fill:none\" points=\"\n",
       "  2293.79,1425.62 2293.79,1404.94 \n",
       "  \"/>\n",
       "<polyline clip-path=\"url(#clip6000)\" style=\"stroke:#000000; stroke-width:4; stroke-opacity:1; fill:none\" points=\"\n",
       "  269.279,1387.87 300.531,1387.87 \n",
       "  \"/>\n",
       "<polyline clip-path=\"url(#clip6000)\" style=\"stroke:#000000; stroke-width:4; stroke-opacity:1; fill:none\" points=\"\n",
       "  269.279,1059.13 300.531,1059.13 \n",
       "  \"/>\n",
       "<polyline clip-path=\"url(#clip6000)\" style=\"stroke:#000000; stroke-width:4; stroke-opacity:1; fill:none\" points=\"\n",
       "  269.279,730.394 300.531,730.394 \n",
       "  \"/>\n",
       "<polyline clip-path=\"url(#clip6000)\" style=\"stroke:#000000; stroke-width:4; stroke-opacity:1; fill:none\" points=\"\n",
       "  269.279,401.657 300.531,401.657 \n",
       "  \"/>\n",
       "<polyline clip-path=\"url(#clip6000)\" style=\"stroke:#000000; stroke-width:4; stroke-opacity:1; fill:none\" points=\"\n",
       "  269.279,72.9205 300.531,72.9205 \n",
       "  \"/>\n",
       "<g clip-path=\"url(#clip6000)\">\n",
       "<text style=\"fill:#000000; fill-opacity:1; font-family:Arial,Helvetica Neue,Helvetica,sans-serif; font-size:48px; text-anchor:middle;\" transform=\"rotate(0, 308.391, 1479.62)\" x=\"308.391\" y=\"1479.62\">0</text>\n",
       "</g>\n",
       "<g clip-path=\"url(#clip6000)\">\n",
       "<text style=\"fill:#000000; fill-opacity:1; font-family:Arial,Helvetica Neue,Helvetica,sans-serif; font-size:48px; text-anchor:middle;\" transform=\"rotate(0, 804.741, 1479.62)\" x=\"804.741\" y=\"1479.62\">25</text>\n",
       "</g>\n",
       "<g clip-path=\"url(#clip6000)\">\n",
       "<text style=\"fill:#000000; fill-opacity:1; font-family:Arial,Helvetica Neue,Helvetica,sans-serif; font-size:48px; text-anchor:middle;\" transform=\"rotate(0, 1301.09, 1479.62)\" x=\"1301.09\" y=\"1479.62\">50</text>\n",
       "</g>\n",
       "<g clip-path=\"url(#clip6000)\">\n",
       "<text style=\"fill:#000000; fill-opacity:1; font-family:Arial,Helvetica Neue,Helvetica,sans-serif; font-size:48px; text-anchor:middle;\" transform=\"rotate(0, 1797.44, 1479.62)\" x=\"1797.44\" y=\"1479.62\">75</text>\n",
       "</g>\n",
       "<g clip-path=\"url(#clip6000)\">\n",
       "<text style=\"fill:#000000; fill-opacity:1; font-family:Arial,Helvetica Neue,Helvetica,sans-serif; font-size:48px; text-anchor:middle;\" transform=\"rotate(0, 2293.79, 1479.62)\" x=\"2293.79\" y=\"1479.62\">100</text>\n",
       "</g>\n",
       "<g clip-path=\"url(#clip6000)\">\n",
       "<text style=\"fill:#000000; fill-opacity:1; font-family:Arial,Helvetica Neue,Helvetica,sans-serif; font-size:48px; text-anchor:end;\" transform=\"rotate(0, 245.279, 1405.37)\" x=\"245.279\" y=\"1405.37\">0.000</text>\n",
       "</g>\n",
       "<g clip-path=\"url(#clip6000)\">\n",
       "<text style=\"fill:#000000; fill-opacity:1; font-family:Arial,Helvetica Neue,Helvetica,sans-serif; font-size:48px; text-anchor:end;\" transform=\"rotate(0, 245.279, 1076.63)\" x=\"245.279\" y=\"1076.63\">0.005</text>\n",
       "</g>\n",
       "<g clip-path=\"url(#clip6000)\">\n",
       "<text style=\"fill:#000000; fill-opacity:1; font-family:Arial,Helvetica Neue,Helvetica,sans-serif; font-size:48px; text-anchor:end;\" transform=\"rotate(0, 245.279, 747.894)\" x=\"245.279\" y=\"747.894\">0.010</text>\n",
       "</g>\n",
       "<g clip-path=\"url(#clip6000)\">\n",
       "<text style=\"fill:#000000; fill-opacity:1; font-family:Arial,Helvetica Neue,Helvetica,sans-serif; font-size:48px; text-anchor:end;\" transform=\"rotate(0, 245.279, 419.157)\" x=\"245.279\" y=\"419.157\">0.015</text>\n",
       "</g>\n",
       "<g clip-path=\"url(#clip6000)\">\n",
       "<text style=\"fill:#000000; fill-opacity:1; font-family:Arial,Helvetica Neue,Helvetica,sans-serif; font-size:48px; text-anchor:end;\" transform=\"rotate(0, 245.279, 90.4205)\" x=\"245.279\" y=\"90.4205\">0.020</text>\n",
       "</g>\n",
       "<g clip-path=\"url(#clip6000)\">\n",
       "<text style=\"fill:#000000; fill-opacity:1; font-family:Arial,Helvetica Neue,Helvetica,sans-serif; font-size:66px; text-anchor:middle;\" transform=\"rotate(0, 1311.02, 1559.48)\" x=\"1311.02\" y=\"1559.48\">site</text>\n",
       "</g>\n",
       "<g clip-path=\"url(#clip6000)\">\n",
       "<text style=\"fill:#000000; fill-opacity:1; font-family:Arial,Helvetica Neue,Helvetica,sans-serif; font-size:66px; text-anchor:middle;\" transform=\"rotate(-90, 89.2861, 736.431)\" x=\"89.2861\" y=\"736.431\">probability</text>\n",
       "</g>\n",
       "<polyline clip-path=\"url(#clip6002)\" style=\"stroke:#009af9; stroke-width:4; stroke-opacity:1; fill:none\" points=\"\n",
       "  328.245,1386.61 348.099,1382.84 367.953,1376.56 387.807,1367.82 407.661,1356.63 427.515,1343.04 447.369,1327.11 467.223,1308.9 487.077,1288.47 506.931,1265.91 \n",
       "  526.785,1241.31 546.639,1214.75 566.493,1186.34 586.347,1156.2 606.201,1124.43 626.055,1091.16 645.909,1056.52 665.763,1020.65 685.617,983.676 705.471,945.749 \n",
       "  725.325,907.015 745.179,867.622 765.033,827.723 784.887,787.473 804.741,747.027 824.595,706.542 844.449,666.175 864.303,626.081 884.157,586.416 904.011,547.333 \n",
       "  923.865,508.984 943.719,471.516 963.573,435.075 983.427,399.802 1003.28,365.833 1023.13,333.3 1042.99,302.328 1062.84,273.037 1082.7,245.541 1102.55,219.946 \n",
       "  1122.4,196.351 1142.26,174.847 1162.11,155.518 1181.97,138.438 1201.82,123.673 1221.67,111.281 1241.53,101.309 1261.38,93.7967 1281.24,88.7719 1301.09,86.2547 \n",
       "  1320.94,86.2547 1340.8,88.7719 1360.65,93.7967 1380.51,101.309 1400.36,111.281 1420.21,123.673 1440.07,138.438 1459.92,155.518 1479.78,174.847 1499.63,196.351 \n",
       "  1519.48,219.946 1539.34,245.541 1559.19,273.037 1579.05,302.328 1598.9,333.3 1618.75,365.833 1638.61,399.802 1658.46,435.075 1678.32,471.516 1698.17,508.984 \n",
       "  1718.02,547.333 1737.88,586.416 1757.73,626.081 1777.59,666.175 1797.44,706.542 1817.29,747.027 1837.15,787.473 1857,827.723 1876.86,867.622 1896.71,907.015 \n",
       "  1916.56,945.749 1936.42,983.676 1956.27,1020.65 1976.13,1056.52 1995.98,1091.16 2015.83,1124.43 2035.69,1156.2 2055.54,1186.34 2075.4,1214.75 2095.25,1241.31 \n",
       "  2115.1,1265.91 2134.96,1288.47 2154.81,1308.9 2174.67,1327.11 2194.52,1343.04 2214.37,1356.63 2234.23,1367.82 2254.08,1376.56 2273.94,1382.84 2293.79,1386.61 \n",
       "  \n",
       "  \"/>\n",
       "<polyline clip-path=\"url(#clip6002)\" style=\"stroke:#e26f46; stroke-width:4; stroke-opacity:1; fill:none\" points=\"\n",
       "  328.245,1382.84 348.099,1367.82 367.953,1343.04 387.807,1308.9 407.661,1265.91 427.515,1214.75 447.369,1156.2 467.223,1091.16 487.077,1020.65 506.931,945.749 \n",
       "  526.785,867.622 546.639,787.473 566.493,706.542 586.347,626.081 606.201,547.333 626.055,471.516 645.909,399.802 665.763,333.3 685.617,273.037 705.471,219.946 \n",
       "  725.325,174.847 745.179,138.438 765.033,111.281 784.887,93.7967 804.741,86.2547 824.595,88.7719 844.449,101.309 864.303,123.673 884.157,155.518 904.011,196.351 \n",
       "  923.865,245.541 943.719,302.328 963.573,365.833 983.427,435.075 1003.28,508.984 1023.13,586.416 1042.99,666.175 1062.84,747.027 1082.7,827.723 1102.55,907.015 \n",
       "  1122.4,983.676 1142.26,1056.52 1162.11,1124.43 1181.97,1186.34 1201.82,1241.31 1221.67,1288.47 1241.53,1327.11 1261.38,1356.63 1281.24,1376.56 1301.09,1386.61 \n",
       "  1320.94,1386.61 1340.8,1376.56 1360.65,1356.63 1380.51,1327.11 1400.36,1288.47 1420.21,1241.31 1440.07,1186.34 1459.92,1124.43 1479.78,1056.52 1499.63,983.676 \n",
       "  1519.48,907.015 1539.34,827.723 1559.19,747.027 1579.05,666.175 1598.9,586.416 1618.75,508.984 1638.61,435.075 1658.46,365.833 1678.32,302.328 1698.17,245.541 \n",
       "  1718.02,196.351 1737.88,155.518 1757.73,123.673 1777.59,101.309 1797.44,88.7719 1817.29,86.2547 1837.15,93.7967 1857,111.281 1876.86,138.438 1896.71,174.847 \n",
       "  1916.56,219.946 1936.42,273.037 1956.27,333.3 1976.13,399.802 1995.98,471.516 2015.83,547.333 2035.69,626.081 2055.54,706.542 2075.4,787.473 2095.25,867.622 \n",
       "  2115.1,945.749 2134.96,1020.65 2154.81,1091.16 2174.67,1156.2 2194.52,1214.75 2214.37,1265.91 2234.23,1308.9 2254.08,1343.04 2273.94,1367.82 2293.79,1382.84 \n",
       "  \n",
       "  \"/>\n",
       "<polyline clip-path=\"url(#clip6002)\" style=\"stroke:#3da44d; stroke-width:4; stroke-opacity:1; fill:none\" points=\"\n",
       "  328.245,1376.56 348.099,1343.04 367.953,1288.47 387.807,1214.75 407.661,1124.43 427.515,1020.65 447.369,907.015 467.223,787.473 487.077,666.175 506.931,547.333 \n",
       "  526.785,435.075 546.639,333.3 566.493,245.541 586.347,174.847 606.201,123.673 626.055,93.7967 645.909,86.2547 665.763,101.309 685.617,138.438 705.471,196.351 \n",
       "  725.325,273.037 745.179,365.833 765.033,471.516 784.887,586.416 804.741,706.542 824.595,827.723 844.449,945.749 864.303,1056.52 884.157,1156.2 904.011,1241.31 \n",
       "  923.865,1308.9 943.719,1356.63 963.573,1382.84 983.427,1386.61 1003.28,1367.82 1023.13,1327.11 1042.99,1265.91 1062.84,1186.34 1082.7,1091.16 1102.55,983.676 \n",
       "  1122.4,867.622 1142.26,747.027 1162.11,626.081 1181.97,508.984 1201.82,399.802 1221.67,302.328 1241.53,219.946 1261.38,155.518 1281.24,111.281 1301.09,88.7719 \n",
       "  1320.94,88.7719 1340.8,111.281 1360.65,155.518 1380.51,219.946 1400.36,302.328 1420.21,399.802 1440.07,508.984 1459.92,626.081 1479.78,747.027 1499.63,867.622 \n",
       "  1519.48,983.676 1539.34,1091.16 1559.19,1186.34 1579.05,1265.91 1598.9,1327.11 1618.75,1367.82 1638.61,1386.61 1658.46,1382.84 1678.32,1356.63 1698.17,1308.9 \n",
       "  1718.02,1241.31 1737.88,1156.2 1757.73,1056.52 1777.59,945.749 1797.44,827.723 1817.29,706.542 1837.15,586.416 1857,471.516 1876.86,365.833 1896.71,273.037 \n",
       "  1916.56,196.351 1936.42,138.438 1956.27,101.309 1976.13,86.2547 1995.98,93.7967 2015.83,123.673 2035.69,174.847 2055.54,245.541 2075.4,333.3 2095.25,435.075 \n",
       "  2115.1,547.333 2134.96,666.175 2154.81,787.473 2174.67,907.015 2194.52,1020.65 2214.37,1124.43 2234.23,1214.75 2254.08,1288.47 2273.94,1343.04 2293.79,1376.56 \n",
       "  \n",
       "  \"/>\n",
       "<polygon clip-path=\"url(#clip6000)\" points=\"\n",
       "1932.36,372.684 2280.76,372.684 2280.76,130.764 1932.36,130.764 \n",
       "  \" fill=\"#ffffff\" fill-rule=\"evenodd\" fill-opacity=\"1\"/>\n",
       "<polyline clip-path=\"url(#clip6000)\" style=\"stroke:#000000; stroke-width:4; stroke-opacity:1; fill:none\" points=\"\n",
       "  1932.36,372.684 2280.76,372.684 2280.76,130.764 1932.36,130.764 1932.36,372.684 \n",
       "  \"/>\n",
       "<polyline clip-path=\"url(#clip6000)\" style=\"stroke:#009af9; stroke-width:4; stroke-opacity:1; fill:none\" points=\"\n",
       "  1956.36,191.244 2100.36,191.244 \n",
       "  \"/>\n",
       "<g clip-path=\"url(#clip6000)\">\n",
       "<text style=\"fill:#000000; fill-opacity:1; font-family:Arial,Helvetica Neue,Helvetica,sans-serif; font-size:48px; text-anchor:start;\" transform=\"rotate(0, 2124.36, 208.744)\" x=\"2124.36\" y=\"208.744\">n = 0</text>\n",
       "</g>\n",
       "<polyline clip-path=\"url(#clip6000)\" style=\"stroke:#e26f46; stroke-width:4; stroke-opacity:1; fill:none\" points=\"\n",
       "  1956.36,251.724 2100.36,251.724 \n",
       "  \"/>\n",
       "<g clip-path=\"url(#clip6000)\">\n",
       "<text style=\"fill:#000000; fill-opacity:1; font-family:Arial,Helvetica Neue,Helvetica,sans-serif; font-size:48px; text-anchor:start;\" transform=\"rotate(0, 2124.36, 269.224)\" x=\"2124.36\" y=\"269.224\">n = 1</text>\n",
       "</g>\n",
       "<polyline clip-path=\"url(#clip6000)\" style=\"stroke:#3da44d; stroke-width:4; stroke-opacity:1; fill:none\" points=\"\n",
       "  1956.36,312.204 2100.36,312.204 \n",
       "  \"/>\n",
       "<g clip-path=\"url(#clip6000)\">\n",
       "<text style=\"fill:#000000; fill-opacity:1; font-family:Arial,Helvetica Neue,Helvetica,sans-serif; font-size:48px; text-anchor:start;\" transform=\"rotate(0, 2124.36, 329.704)\" x=\"2124.36\" y=\"329.704\">n = 2</text>\n",
       "</g>\n",
       "</svg>\n"
      ]
     },
     "execution_count": 60,
     "metadata": {},
     "output_type": "execute_result"
    }
   ],
   "source": [
    "using Plots\n",
    "\n",
    "show_n_states = 3\n",
    "\n",
    "p = plot()\n",
    "for i in 1:show_n_states\n",
    "    plot!(p, abs2.(vecs[:,i]), xlab=\"site\", ylab=\"probability\", lab=\"n = $(i-1)\")\n",
    "end\n",
    "p"
   ]
  },
  {
   "cell_type": "code",
   "execution_count": null,
   "metadata": {},
   "outputs": [],
   "source": [
    "# Periodic boundary conditions\n",
    "# T = copy(H)\n",
    "# T[1,end] = -t\n",
    "# T[end,1] = -t\n",
    "# vals, vecs = eigen(T)"
   ]
  },
  {
   "cell_type": "markdown",
   "metadata": {},
   "source": [
    "Since Julia is using eigenproblem solvers from LAPACK (written in a low-level language) the code is, of course, **not generic**."
   ]
  },
  {
   "cell_type": "markdown",
   "metadata": {},
   "source": [
    "The best Julia can do, without implementing new functionality, is manually dispatch to the best LAPACK routine available.\n",
    "\n",
    "Hence, it won't work with most of our special matrices."
   ]
  },
  {
   "cell_type": "code",
   "execution_count": 61,
   "metadata": {},
   "outputs": [
    {
     "ename": "MethodError",
     "evalue": "MethodError: no method matching eigen(::Tridiagonal{Float64,Array{Float64,1}})\nClosest candidates are:\n  eigen(::AbstractArray{TA,2}, !Matched::AbstractArray{TB,2}; kws...) where {TA, TB} at C:\\cygwin\\home\\Administrator\\buildbot\\worker\\package_win64\\build\\usr\\share\\julia\\stdlib\\v1.2\\LinearAlgebra\\src\\eigen.jl:402\n  eigen(!Matched::SymTridiagonal{T,V} where V<:AbstractArray{T,1}) where T at C:\\cygwin\\home\\Administrator\\buildbot\\worker\\package_win64\\build\\usr\\share\\julia\\stdlib\\v1.2\\LinearAlgebra\\src\\tridiag.jl:201\n  eigen(!Matched::SymTridiagonal{T,V} where V<:AbstractArray{T,1}, !Matched::UnitRange) where T at C:\\cygwin\\home\\Administrator\\buildbot\\worker\\package_win64\\build\\usr\\share\\julia\\stdlib\\v1.2\\LinearAlgebra\\src\\tridiag.jl:205\n  ...",
     "output_type": "error",
     "traceback": [
      "MethodError: no method matching eigen(::Tridiagonal{Float64,Array{Float64,1}})\nClosest candidates are:\n  eigen(::AbstractArray{TA,2}, !Matched::AbstractArray{TB,2}; kws...) where {TA, TB} at C:\\cygwin\\home\\Administrator\\buildbot\\worker\\package_win64\\build\\usr\\share\\julia\\stdlib\\v1.2\\LinearAlgebra\\src\\eigen.jl:402\n  eigen(!Matched::SymTridiagonal{T,V} where V<:AbstractArray{T,1}) where T at C:\\cygwin\\home\\Administrator\\buildbot\\worker\\package_win64\\build\\usr\\share\\julia\\stdlib\\v1.2\\LinearAlgebra\\src\\tridiag.jl:201\n  eigen(!Matched::SymTridiagonal{T,V} where V<:AbstractArray{T,1}, !Matched::UnitRange) where T at C:\\cygwin\\home\\Administrator\\buildbot\\worker\\package_win64\\build\\usr\\share\\julia\\stdlib\\v1.2\\LinearAlgebra\\src\\tridiag.jl:205\n  ...",
      "",
      "Stacktrace:",
      " [1] top-level scope at In[61]:1"
     ]
    }
   ],
   "source": [
    "eigen(Htri);"
   ]
  },
  {
   "cell_type": "markdown",
   "metadata": {},
   "source": [
    "If we're lucky, someone has implemented a generic solver in Julia that works for a wider range of types. Example:"
   ]
  },
  {
   "cell_type": "code",
   "execution_count": 62,
   "metadata": {},
   "outputs": [
    {
     "data": {
      "text/plain": [
       "100×100 Hermitian{BigFloat,Array{BigFloat,2}}:\n",
       " -0.50  -1.0    0.0    0.0    0.0   …   0.0    0.0    0.0    0.0    0.0 \n",
       " -1.0   -0.50  -1.0    0.0    0.0       0.0    0.0    0.0    0.0    0.0 \n",
       "  0.0   -1.0   -0.50  -1.0    0.0       0.0    0.0    0.0    0.0    0.0 \n",
       "  0.0    0.0   -1.0   -0.50  -1.0       0.0    0.0    0.0    0.0    0.0 \n",
       "  0.0    0.0    0.0   -1.0   -0.50      0.0    0.0    0.0    0.0    0.0 \n",
       "  0.0    0.0    0.0    0.0   -1.0   …   0.0    0.0    0.0    0.0    0.0 \n",
       "  0.0    0.0    0.0    0.0    0.0       0.0    0.0    0.0    0.0    0.0 \n",
       "  0.0    0.0    0.0    0.0    0.0       0.0    0.0    0.0    0.0    0.0 \n",
       "  0.0    0.0    0.0    0.0    0.0       0.0    0.0    0.0    0.0    0.0 \n",
       "  0.0    0.0    0.0    0.0    0.0       0.0    0.0    0.0    0.0    0.0 \n",
       "  0.0    0.0    0.0    0.0    0.0   …   0.0    0.0    0.0    0.0    0.0 \n",
       "  0.0    0.0    0.0    0.0    0.0       0.0    0.0    0.0    0.0    0.0 \n",
       "  0.0    0.0    0.0    0.0    0.0       0.0    0.0    0.0    0.0    0.0 \n",
       "  ⋮                                 ⋱   ⋮                               \n",
       "  0.0    0.0    0.0    0.0    0.0       0.0    0.0    0.0    0.0    0.0 \n",
       "  0.0    0.0    0.0    0.0    0.0       0.0    0.0    0.0    0.0    0.0 \n",
       "  0.0    0.0    0.0    0.0    0.0   …   0.0    0.0    0.0    0.0    0.0 \n",
       "  0.0    0.0    0.0    0.0    0.0       0.0    0.0    0.0    0.0    0.0 \n",
       "  0.0    0.0    0.0    0.0    0.0       0.0    0.0    0.0    0.0    0.0 \n",
       "  0.0    0.0    0.0    0.0    0.0       0.0    0.0    0.0    0.0    0.0 \n",
       "  0.0    0.0    0.0    0.0    0.0      -1.0    0.0    0.0    0.0    0.0 \n",
       "  0.0    0.0    0.0    0.0    0.0   …  -0.50  -1.0    0.0    0.0    0.0 \n",
       "  0.0    0.0    0.0    0.0    0.0      -1.0   -0.50  -1.0    0.0    0.0 \n",
       "  0.0    0.0    0.0    0.0    0.0       0.0   -1.0   -0.50  -1.0    0.0 \n",
       "  0.0    0.0    0.0    0.0    0.0       0.0    0.0   -1.0   -0.50  -1.0 \n",
       "  0.0    0.0    0.0    0.0    0.0       0.0    0.0    0.0   -1.0   -0.50"
      ]
     },
     "execution_count": 62,
     "metadata": {},
     "output_type": "execute_result"
    }
   ],
   "source": [
    "Hbig = big.(H)\n",
    "Hh = Hermitian(Hbig)"
   ]
  },
  {
   "cell_type": "code",
   "execution_count": 63,
   "metadata": {},
   "outputs": [
    {
     "ename": "MethodError",
     "evalue": "MethodError: no method matching eigen!(::Hermitian{BigFloat,Array{BigFloat,2}}; sortby=nothing)\nClosest candidates are:\n  eigen!(!Matched::SymTridiagonal{#s617,V} where V<:AbstractArray{#s617,1} where #s617<:Union{Float32, Float64}) at C:\\cygwin\\home\\Administrator\\buildbot\\worker\\package_win64\\build\\usr\\share\\julia\\stdlib\\v1.2\\LinearAlgebra\\src\\tridiag.jl:200 got unsupported keyword argument \"sortby\"\n  eigen!(!Matched::SymTridiagonal{#s617,V} where V<:AbstractArray{#s617,1} where #s617<:Union{Float32, Float64}, !Matched::UnitRange) at C:\\cygwin\\home\\Administrator\\buildbot\\worker\\package_win64\\build\\usr\\share\\julia\\stdlib\\v1.2\\LinearAlgebra\\src\\tridiag.jl:203 got unsupported keyword argument \"sortby\"\n  eigen!(!Matched::SymTridiagonal{#s617,V} where V<:AbstractArray{#s617,1} where #s617<:Union{Float32, Float64}, !Matched::Real, !Matched::Real) at C:\\cygwin\\home\\Administrator\\buildbot\\worker\\package_win64\\build\\usr\\share\\julia\\stdlib\\v1.2\\LinearAlgebra\\src\\tridiag.jl:208 got unsupported keyword argument \"sortby\"\n  ...",
     "output_type": "error",
     "traceback": [
      "MethodError: no method matching eigen!(::Hermitian{BigFloat,Array{BigFloat,2}}; sortby=nothing)\nClosest candidates are:\n  eigen!(!Matched::SymTridiagonal{#s617,V} where V<:AbstractArray{#s617,1} where #s617<:Union{Float32, Float64}) at C:\\cygwin\\home\\Administrator\\buildbot\\worker\\package_win64\\build\\usr\\share\\julia\\stdlib\\v1.2\\LinearAlgebra\\src\\tridiag.jl:200 got unsupported keyword argument \"sortby\"\n  eigen!(!Matched::SymTridiagonal{#s617,V} where V<:AbstractArray{#s617,1} where #s617<:Union{Float32, Float64}, !Matched::UnitRange) at C:\\cygwin\\home\\Administrator\\buildbot\\worker\\package_win64\\build\\usr\\share\\julia\\stdlib\\v1.2\\LinearAlgebra\\src\\tridiag.jl:203 got unsupported keyword argument \"sortby\"\n  eigen!(!Matched::SymTridiagonal{#s617,V} where V<:AbstractArray{#s617,1} where #s617<:Union{Float32, Float64}, !Matched::Real, !Matched::Real) at C:\\cygwin\\home\\Administrator\\buildbot\\worker\\package_win64\\build\\usr\\share\\julia\\stdlib\\v1.2\\LinearAlgebra\\src\\tridiag.jl:208 got unsupported keyword argument \"sortby\"\n  ...",
      "",
      "Stacktrace:",
      " [1] #eigen#84(::Nothing, ::typeof(eigen), ::Hermitian{BigFloat,Array{BigFloat,2}}) at C:\\cygwin\\home\\Administrator\\buildbot\\worker\\package_win64\\build\\usr\\share\\julia\\stdlib\\v1.2\\LinearAlgebra\\src\\symmetric.jl:531",
      " [2] eigen(::Hermitian{BigFloat,Array{BigFloat,2}}) at C:\\cygwin\\home\\Administrator\\buildbot\\worker\\package_win64\\build\\usr\\share\\julia\\stdlib\\v1.2\\LinearAlgebra\\src\\symmetric.jl:529",
      " [3] top-level scope at In[63]:1"
     ]
    }
   ],
   "source": [
    "eigen(Hh);"
   ]
  },
  {
   "cell_type": "code",
   "execution_count": 64,
   "metadata": {},
   "outputs": [],
   "source": [
    "using GenericLinearAlgebra"
   ]
  },
  {
   "cell_type": "code",
   "execution_count": 66,
   "metadata": {},
   "outputs": [
    {
     "data": {
      "text/plain": [
       "Eigen{BigFloat,BigFloat,Array{BigFloat,2},Array{BigFloat,1}}\n",
       "eigenvalues:\n",
       "100-element Array{BigFloat,1}:\n",
       " -2.499032564583976129841491078128552885270844564275068999255406464586997523509518\n",
       " -2.49613119426718869664469376721353683820035347873096011215866399535318914672511 \n",
       " -2.491298695938037160967995737868198811244191747682578616800626006817236297244357\n",
       " -2.484539744726553020184742526239320873977567777619982918612582442507556211531338\n",
       " -2.475860879481513441495886953659483104715504453725995724740209546532748607545501\n",
       " -2.465270496444527374874063414521910296283215789940930200782648270857681647241034\n",
       " -2.452778841127214059072142159451675184893454442233729896962151556967994660818164\n",
       " -2.438397998399332225887590822597361140711942686757388384968109952867283314193059\n",
       " -2.42214188079744909752949054940206867831399022597374035085438522526236180426978 \n",
       " -2.404026215065459784760611736625730055990725724610455570939344743892098437920844\n",
       " -2.384068526939978264030073015883494075933520751374280431745181852496796124683433\n",
       " -2.362288124195319085206261675398282607185828255490867950557052711341830182650257\n",
       " -2.338706077964472695085287250656563836401042117887813422370727756830932722582539\n",
       "  ⋮                                                                               \n",
       "  1.362288124195319085206261675398282607185828255490867950557052711341830182650274\n",
       "  1.384068526939978264030073015883494075933520751374280431745181852496796124683261\n",
       "  1.404026215065459784760611736625730055990725724610455570939344743892098437920723\n",
       "  1.422141880797449097529490549402068678313990225973740350854385225262361804269814\n",
       "  1.438397998399332225887590822597361140711942686757388384968109952867283314193094\n",
       "  1.452778841127214059072142159451675184893454442233729896962151556967994660817801\n",
       "  1.465270496444527374874063414521910296283215789940930200782648270857681647240931\n",
       "  1.475860879481513441495886953659483104715504453725995724740209546532748607545605\n",
       "  1.484539744726553020184742526239320873977567777619982918612582442507556211531355\n",
       "  1.491298695938037160967995737868198811244191747682578616800626006817236297244202\n",
       "  1.496131194267188696644693767213536838200353478730960112158663995353189146725093\n",
       "  1.499032564583976129841491078128552885270844564275068999255406464586997523509466\n",
       "eigenvectors:\n",
       "100×100 Array{BigFloat,2}:\n",
       " -0.00437636   0.00874848  -0.0131121  …   0.00874848   0.00437636\n",
       " -0.00874848   0.0174631   -0.0261102     -0.0174631   -0.00874848\n",
       " -0.0131121    0.0261102   -0.038881       0.0261102    0.0131121 \n",
       " -0.0174631    0.0346562   -0.0513136     -0.0346562   -0.0174631 \n",
       " -0.0217972    0.0430682   -0.0632996      0.0430682    0.0217972 \n",
       " -0.0261102    0.0513136   -0.0747349  …  -0.0513136   -0.0261102 \n",
       " -0.0303979    0.0593604   -0.0855198      0.0593604    0.0303979 \n",
       " -0.0346562    0.0671776   -0.0955607     -0.0671776   -0.0346562 \n",
       " -0.038881     0.0747349   -0.10477        0.0747349    0.038881  \n",
       " -0.0430682    0.082003    -0.113068      -0.082003    -0.0430682 \n",
       " -0.0472137    0.0889539   -0.120382   …   0.0889539    0.0472137 \n",
       " -0.0513136    0.0955607   -0.126648      -0.0955607   -0.0513136 \n",
       " -0.0553638    0.101798    -0.131812       0.101798     0.0553638 \n",
       "  ⋮                                    ⋱                          \n",
       " -0.0513136   -0.0955607   -0.126648      -0.0955607    0.0513136 \n",
       " -0.0472137   -0.0889539   -0.120382       0.0889539   -0.0472137 \n",
       " -0.0430682   -0.082003    -0.113068   …  -0.082003     0.0430682 \n",
       " -0.038881    -0.0747349   -0.10477        0.0747349   -0.038881  \n",
       " -0.0346562   -0.0671776   -0.0955607     -0.0671776    0.0346562 \n",
       " -0.0303979   -0.0593604   -0.0855198      0.0593604   -0.0303979 \n",
       " -0.0261102   -0.0513136   -0.0747349     -0.0513136    0.0261102 \n",
       " -0.0217972   -0.0430682   -0.0632996  …   0.0430682   -0.0217972 \n",
       " -0.0174631   -0.0346562   -0.0513136     -0.0346562    0.0174631 \n",
       " -0.0131121   -0.0261102   -0.038881       0.0261102   -0.0131121 \n",
       " -0.00874848  -0.0174631   -0.0261102     -0.0174631    0.00874848\n",
       " -0.00437636  -0.00874848  -0.0131121      0.00874848  -0.00437636"
      ]
     },
     "execution_count": 66,
     "metadata": {},
     "output_type": "execute_result"
    }
   ],
   "source": [
    "eigen(Hermitian(Hbig))"
   ]
  },
  {
   "cell_type": "markdown",
   "metadata": {},
   "source": [
    "Arguably the most important matrix type in physics applications is a sparse matrix, i.e. `SparseMatrixCSC`."
   ]
  },
  {
   "cell_type": "code",
   "execution_count": 67,
   "metadata": {},
   "outputs": [
    {
     "ename": "ErrorException",
     "evalue": "eigen(A) not supported for sparse matrices. Use for example eigs(A) from the Arpack package instead.",
     "output_type": "error",
     "traceback": [
      "eigen(A) not supported for sparse matrices. Use for example eigs(A) from the Arpack package instead.",
      "",
      "Stacktrace:",
      " [1] error(::String) at .\\error.jl:33",
      " [2] eigen(::SparseMatrixCSC{Float64,Int64}) at C:\\cygwin\\home\\Administrator\\buildbot\\worker\\package_win64\\build\\usr\\share\\julia\\stdlib\\v1.2\\SparseArrays\\src\\linalg.jl:1446",
      " [3] top-level scope at In[67]:1"
     ]
    }
   ],
   "source": [
    "eigen(Hsparse)"
   ]
  },
  {
   "cell_type": "markdown",
   "metadata": {},
   "source": [
    "Let's follow Julia's advice and take a look at [ARPACK.jl](https://github.com/JuliaLinearAlgebra/Arpack.jl)."
   ]
  },
  {
   "cell_type": "markdown",
   "metadata": {},
   "source": [
    "### Diagonalizing sparse matrices"
   ]
  },
  {
   "cell_type": "markdown",
   "metadata": {},
   "source": [
    "[ARPACK.jl]() -  Wrapper to Fortran library [ARPACK](https://www.caam.rice.edu/software/ARPACK/) which implements **iterative** eigenvalue and singular value solvers. By far the most established sparse eigensolver.\n",
    "\n",
    "Julia implementations:\n",
    "\n",
    "* [ArnoldiMethod.jl](https://github.com/haampie/ArnoldiMethod.jl)\n",
    "* [KrylovKit.jl](https://github.com/Jutho/KrylovKit.jl)\n",
    "* [IterativeSolvers.jl](https://github.com/JuliaMath/IterativeSolvers.jl)\n",
    "* and more\n",
    "\n",
    "\n",
    "A key thing to remember is that while `eigen` is - up to numerical errors - exact, the methods in the packages above are iterative and approximative."
   ]
  },
  {
   "cell_type": "markdown",
   "metadata": {},
   "source": [
    "Arpack uses a different name for the eigenvalue decomposition. They called it `eigs`."
   ]
  },
  {
   "cell_type": "code",
   "execution_count": 70,
   "metadata": {},
   "outputs": [
    {
     "data": {
      "text/plain": [
       "(100, 100)"
      ]
     },
     "execution_count": 70,
     "metadata": {},
     "output_type": "execute_result"
    }
   ],
   "source": [
    "size(Hsparse)"
   ]
  },
  {
   "cell_type": "code",
   "execution_count": 68,
   "metadata": {},
   "outputs": [
    {
     "data": {
      "text/plain": [
       "([-2.499032564583997, -2.4961311942671984, -2.491298695938046, -2.484539744726571, -2.4758608794815182, -2.4652704964445267], [-0.004376357346883243 0.00874848085072538 … -0.021797195856378005 -0.02611018880493217; -0.00874848085067608 0.017463115528582138 … -0.043068226575014114 -0.051313583714929265; … ; -0.008748480850739497 -0.017463115528548085 … -0.04306822657496766 0.0513135837149229; -0.004376357346915045 -0.008748480850708366 … -0.021797195856354735 0.026110188804928897], 6, 25, 334, [0.10152886694803813, -0.3073173836518221, -0.13808168248217428, 0.02192795334416142, 0.08647811793848889, -0.023839764809459305, 0.10424291749528851, -0.018245300549338504, -0.010734746198225974, 0.04966409679171471  …  -0.07942884899857107, -0.005011337046649324, 0.02345032480075343, 0.06206826648086016, -0.030976724739930385, 0.062544374665659, -0.0054016722352645125, -0.017326588567613387, -0.22047925445574962, 0.0829956537678384])"
      ]
     },
     "execution_count": 68,
     "metadata": {},
     "output_type": "execute_result"
    }
   ],
   "source": [
    "using Arpack\n",
    "λ, evs = eigs(Hsparse)"
   ]
  },
  {
   "cell_type": "code",
   "execution_count": 69,
   "metadata": {},
   "outputs": [
    {
     "data": {
      "text/plain": [
       "6-element Array{Float64,1}:\n",
       " -2.499032564583997 \n",
       " -2.4961311942671984\n",
       " -2.491298695938046 \n",
       " -2.484539744726571 \n",
       " -2.4758608794815182\n",
       " -2.4652704964445267"
      ]
     },
     "execution_count": 69,
     "metadata": {},
     "output_type": "execute_result"
    }
   ],
   "source": [
    "λ"
   ]
  },
  {
   "cell_type": "markdown",
   "metadata": {},
   "source": [
    "For ArnoldiMethod, one has to go through a two-step process."
   ]
  },
  {
   "cell_type": "code",
   "execution_count": 71,
   "metadata": {},
   "outputs": [],
   "source": [
    "using ArnoldiMethod\n",
    "decomp, history = partialschur(Hsparse)\n",
    "λ, evs = partialeigen(decomp);"
   ]
  },
  {
   "cell_type": "code",
   "execution_count": 72,
   "metadata": {},
   "outputs": [
    {
     "data": {
      "text/plain": [
       "6-element Array{Float64,1}:\n",
       " -2.499032564583973 \n",
       " -2.496131194267173 \n",
       " -2.4912986959380383\n",
       " -2.484539744726562 \n",
       " -2.475860879481497 \n",
       " -2.4652704964445347"
      ]
     },
     "execution_count": 72,
     "metadata": {},
     "output_type": "execute_result"
    }
   ],
   "source": [
    "λ"
   ]
  },
  {
   "cell_type": "markdown",
   "metadata": {},
   "source": [
    "In KrylovKit, they call the function `eigsolve`."
   ]
  },
  {
   "cell_type": "code",
   "execution_count": 73,
   "metadata": {},
   "outputs": [],
   "source": [
    "using KrylovKit\n",
    "λ, evs = eigsolve(Hsparse);"
   ]
  },
  {
   "cell_type": "code",
   "execution_count": 74,
   "metadata": {},
   "outputs": [
    {
     "data": {
      "text/plain": [
       "1-element Array{Float64,1}:\n",
       " -2.4990325645839766"
      ]
     },
     "execution_count": 74,
     "metadata": {},
     "output_type": "execute_result"
    }
   ],
   "source": [
    "λ"
   ]
  },
  {
   "cell_type": "markdown",
   "metadata": {},
   "source": [
    "# Core messages of this Notebook"
   ]
  },
  {
   "cell_type": "markdown",
   "metadata": {},
   "source": [
    "* The standard libraries `LinearAlgebra` and `SparseArrays` make Julia speak linear algebra.\n",
    "* **Indicate properties and structure of a matrix**, like hermiticity or sparsity, through types. Fallback to generic types only if you run into method errors.\n",
    "* For **sparse matrix exact diagonalization**, ARPACK.jl is sort of a standard but there are great alternatives like ArnoldiMethods.jl."
   ]
  },
  {
   "cell_type": "markdown",
   "metadata": {},
   "source": [
    "# If time permits: Dude, I have a GPU!"
   ]
  },
  {
   "cell_type": "markdown",
   "metadata": {},
   "source": [
    "To make another case for *generic programming*, if you want to move the calculation to a GPU, chances are you only have to change the type of your matrix!\n",
    "\n",
    "Of course, this is only true if you have one :)\n",
    "\n",
    "```julia\n",
    "using CuArrays, BenchmarkTools\n",
    "\n",
    "A, B = rand(1000,1000), rand(1000,1000);\n",
    "Agpu, Bgpu = CuArray(A), CuArray(B);\n",
    "println(\"A*B (cpu)\")\n",
    "@btime A*B;\n",
    "# 9.702 ms (2 allocations: 7.63 MiB)\n",
    "\n",
    "println(\"A*B (gpu)\")\n",
    "@btime Agpu*Bgpu\n",
    "# 12.747 μs (19 allocations: 592 bytes)\n",
    "```"
   ]
  }
 ],
 "metadata": {
  "@webio": {
   "lastCommId": null,
   "lastKernelId": null
  },
  "kernelspec": {
   "display_name": "Julia 1.2.0",
   "language": "julia",
   "name": "julia-1.2"
  },
  "language_info": {
   "file_extension": ".jl",
   "mimetype": "application/julia",
   "name": "julia",
   "version": "1.2.0"
  }
 },
 "nbformat": 4,
 "nbformat_minor": 4
}
