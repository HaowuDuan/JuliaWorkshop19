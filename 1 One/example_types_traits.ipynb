{
 "cells": [
  {
   "cell_type": "markdown",
   "metadata": {},
   "source": [
    "# Own type hierarchy: a slightly bigger example"
   ]
  },
  {
   "cell_type": "markdown",
   "metadata": {},
   "source": [
    "This is the key idea to keep in mind when building type hierarchies: things which subtype are inheriting behavior. You should setup your `abstract` types to mean the existance or non-existance of some behavior. For example: "
   ]
  },
  {
   "cell_type": "code",
   "execution_count": 41,
   "metadata": {},
   "outputs": [],
   "source": [
    "abstract type AbstractPerson end\n",
    "abstract type AbstractStudent <: AbstractPerson end\n",
    "abstract type AbstractTeacher <: AbstractPerson end\n",
    "\n",
    "mutable struct Person <: AbstractPerson\n",
    "  name::String    \n",
    "end\n",
    "\n",
    "mutable struct Student <: AbstractStudent\n",
    "  name::String  \n",
    "  grade::Int\n",
    "  hobby::String\n",
    "end\n",
    "\n",
    "mutable struct MusicStudent <: AbstractStudent\n",
    "  grade::Int\n",
    "end\n",
    "\n",
    "mutable struct Teacher <: AbstractTeacher\n",
    "  name::String\n",
    "  grade::Int\n",
    "end"
   ]
  },
  {
   "cell_type": "markdown",
   "metadata": {},
   "source": [
    "This can be interpreted as follows. At the top we have `AbstractPerson`. Our interface here is \"a Person is someone who has a name which can be gotten by `get_name`\". "
   ]
  },
  {
   "cell_type": "code",
   "execution_count": 42,
   "metadata": {},
   "outputs": [
    {
     "data": {
      "text/plain": [
       "get_name (generic function with 1 method)"
      ]
     },
     "execution_count": 42,
     "metadata": {},
     "output_type": "execute_result"
    }
   ],
   "source": [
    "get_name(x::AbstractPerson) = x.name"
   ]
  },
  {
   "cell_type": "markdown",
   "metadata": {},
   "source": [
    "Thus codes which are written for an `AbstractPerson` can \"know\" (by our informal declaration of the interface) that `get_name` will \"just work\" for its subtypes. However, notice that `MusicStudent` doesn't have a `name` field. This is because `MusicStudent`s just want to be named whatever the trendiest band is, so we can just replace the usage of the field by the action:"
   ]
  },
  {
   "cell_type": "code",
   "execution_count": 43,
   "metadata": {},
   "outputs": [
    {
     "data": {
      "text/plain": [
       "get_name (generic function with 2 methods)"
      ]
     },
     "execution_count": 43,
     "metadata": {},
     "output_type": "execute_result"
    }
   ],
   "source": [
    "get_name(x::MusicStudent) = \"Die Höhner\""
   ]
  },
  {
   "cell_type": "markdown",
   "metadata": {},
   "source": [
    "In this way, we can use `get_name` to get the name, and how it was implemented (whether it's pulling something that had to be stored from memory, or if it's something magically known in advance) does not matter. We can keep refining this: an `AbstractStudent` has a `get_hobby`, but a `MusicStudent`'s hobby is always `Music`, so there's not reason to store that data in the type and instead just have its actions implicitly \"know\" this. In non-trivial examples (like the range and `UniformScaling` above), this distinction by action and abstraction away from the actual implementation of the types allows for full optimization of generic codes."
   ]
  },
  {
   "cell_type": "markdown",
   "metadata": {},
   "source": [
    "### Small functions and constant propagation"
   ]
  },
  {
   "cell_type": "markdown",
   "metadata": {},
   "source": [
    "The next question to ask is, does storing information in functions and actions affect performance? The answer is yes, in a good way! To see this, let's see what happens when we use these functions. To make it simpler, let's use a boolean function. Teachers are old and don't like music, while students do like music. But generally people like music. This means that:"
   ]
  },
  {
   "cell_type": "code",
   "execution_count": 36,
   "metadata": {},
   "outputs": [
    {
     "data": {
      "text/plain": [
       "likes_music (generic function with 3 methods)"
      ]
     },
     "execution_count": 36,
     "metadata": {},
     "output_type": "execute_result"
    }
   ],
   "source": [
    "likes_music(x::AbstractTeacher) = false\n",
    "likes_music(x::AbstractStudent) = true\n",
    "likes_music(x::AbstractPerson) = true"
   ]
  },
  {
   "cell_type": "markdown",
   "metadata": {},
   "source": [
    "Now how many records would these people buy at a record store? If they don't like music, they will buy zero records. If they like music, then they will pick up a random number between 1 and 10. If they are a student, they will then double that (impulsive Millenials!)."
   ]
  },
  {
   "cell_type": "code",
   "execution_count": 35,
   "metadata": {},
   "outputs": [
    {
     "data": {
      "text/plain": [
       "number_of_records (generic function with 1 method)"
      ]
     },
     "execution_count": 35,
     "metadata": {},
     "output_type": "execute_result"
    }
   ],
   "source": [
    "function number_of_records(x::AbstractPerson)\n",
    "    if !likes_music(x) \n",
    "      return 0\n",
    "    end\n",
    "    num_records = rand(10)\n",
    "    if typeof(x) <: AbstractStudent\n",
    "      return 2num_records\n",
    "    else \n",
    "      return num_records\n",
    "    end\n",
    "end"
   ]
  },
  {
   "cell_type": "markdown",
   "metadata": {},
   "source": [
    "Let's check the code that is created:"
   ]
  },
  {
   "cell_type": "code",
   "execution_count": 41,
   "metadata": {},
   "outputs": [
    {
     "name": "stdout",
     "output_type": "stream",
     "text": [
      "0\n",
      "\n",
      "; Function number_of_records\n",
      "; Location: In[35]:2\n",
      "; Function Attrs: uwtable\n",
      "define i64 @julia_number_of_records_35125(%jl_value_t addrspace(10)* nonnull align 8 dereferenceable(16)) #0 {\n",
      "top:\n",
      "  ret i64 0\n",
      "}\n"
     ]
    }
   ],
   "source": [
    "x = Teacher(\"Randy\",11)\n",
    "println(number_of_records(x))\n",
    "@code_llvm number_of_records(x)"
   ]
  },
  {
   "cell_type": "markdown",
   "metadata": {},
   "source": [
    "The key thing to see from the typed code is that the \"branches\" (the `if` statements) all compiled away. Since types are known at compile time (remember, functions specialize on types), the dispatch of `likes_music` is known at compile-time. But this means, since the result is directly inferred from the dispatch, the boolean value `true/false` is known at compile time. This means that the compiler can directly infer the answer to all of these checks, and will use this information to skip them at runtime.\n",
    "\n",
    "This is the distinction between compile-time information and runtime information. **At compile-time, what is known is:**\n",
    "\n",
    "**1) The types of the inputs**\n",
    "\n",
    "**2) Any types which can be inferred from the input types (via type-stability)**\n",
    "\n",
    "**3) The function dispatches that will be internally called (from types which have been inferred)**\n",
    "\n",
    "Note that what cannot be inferred by the compiler is the information in fields. Information in fields is strictly runtime information. This is easy to see since there is no way for the compiler to know that person's name was \"Miguel\": it is part of the type instance we just created.\n",
    "\n",
    "Thus by putting our information into our functions and dispatches, we are actually giving the compiler more information to perform more optimizations. Therefore using this \"action-based design\", we are actually giving the compiler leeway to perform many extra optimizations on our code as long as we define our interfaces by the actions that are used. Of course, at the \"very bottom\" our algorithms have to use the fields of the types, but the full interface can then be built up using a simple set of functions which in many cases with replace runtime data with constants."
   ]
  },
  {
   "cell_type": "markdown",
   "metadata": {},
   "source": [
    "# Tim Holy's Trait Trick (advanced)"
   ]
  },
  {
   "cell_type": "markdown",
   "metadata": {},
   "source": [
    "Since traits like \"likes music\" are compile-time information the compiler could in theory dispatch on them. Imagine you'd want to write a function\n",
    "```julia\n",
    "entertain(p::LikesMusic) = \"turning the music on.\"\n",
    "entertain(p::NotLikesMusic) = \"better keep the music off. maybe play a game.\"\n",
    "```\n",
    "A way to do this is Tim Holy's Trait Trick. It's basically a **traits-based alternative to multiple inheritance**.\n",
    "\n",
    "The trick was \"invented\" by Tim Holy in this [github issue](https://github.com/JuliaLang/julia/issues/2345#issuecomment-54537633). See https://github.com/mauro3/Traits.jl#dispatch-on-traits for a detailed explanation and [SimpleTraits.jl](https://github.com/mauro3/SimpleTraits.jl) for a convenience implementation."
   ]
  },
  {
   "cell_type": "markdown",
   "metadata": {},
   "source": [
    "Before we can understand THTT we have to understand what `Type{SomeType}` is and what `f(::Type{SomeType}) = \"some function\"` means. \n",
    "\n",
    "**Find out yourself by playing around with it (`isa` is your friend).**\n",
    "\n",
    "[Solution](https://docs.julialang.org/en/v1/manual/types/#man-singleton-types-1)"
   ]
  },
  {
   "cell_type": "code",
   "execution_count": 57,
   "metadata": {},
   "outputs": [
    {
     "data": {
      "text/plain": [
       "likes_music (generic function with 4 methods)"
      ]
     },
     "execution_count": 57,
     "metadata": {},
     "output_type": "execute_result"
    }
   ],
   "source": [
    "# Music affinity\n",
    "struct LikesMusic end\n",
    "struct NotLikesMusic end\n",
    "\n",
    "# trait function: map, say, person type to music affinity\n",
    "likes_music(x::AbstractTeacher) = NotLikesMusic\n",
    "likes_music(x::AbstractStudent) = LikesMusic\n",
    "likes_music(x::AbstractPerson) = LikesMusic\n",
    "likes_music(x::T) where T = error(\"Unknown music affinity for type $T\")"
   ]
  },
  {
   "cell_type": "markdown",
   "metadata": {},
   "source": [
    "No let's define the function `entertain` which dispatches on the \"likes music\" trait."
   ]
  },
  {
   "cell_type": "code",
   "execution_count": 65,
   "metadata": {},
   "outputs": [
    {
     "data": {
      "text/plain": [
       "entertain (generic function with 2 methods)"
      ]
     },
     "execution_count": 65,
     "metadata": {},
     "output_type": "execute_result"
    }
   ],
   "source": [
    "_entertain(::Type{LikesMusic}) = \"turning the music on.\"\n",
    "_entertain(::Type{NotLikesMusic}) = \"better keep the music off. maybe play a game.\"\n",
    "\n",
    "entertain(p) = _entertain(likes_music(p))"
   ]
  },
  {
   "cell_type": "code",
   "execution_count": 59,
   "metadata": {},
   "outputs": [
    {
     "data": {
      "text/plain": [
       "MusicStudent(9)"
      ]
     },
     "execution_count": 59,
     "metadata": {},
     "output_type": "execute_result"
    }
   ],
   "source": [
    "c = Student(\"Susanne\", 11, \"soccer\")\n",
    "p = Person(\"Peter\")\n",
    "t = Teacher(\"Thomas\", 10)\n",
    "m = MusicStudent(9)"
   ]
  },
  {
   "cell_type": "code",
   "execution_count": 63,
   "metadata": {},
   "outputs": [
    {
     "data": {
      "text/plain": [
       "CodeInfo(\n",
       "\u001b[90m\u001b[77G│\u001b[1G\u001b[39m\u001b[90m4 \u001b[39m1 ─     return \"turning the music on.\"\n",
       ") => String"
      ]
     },
     "execution_count": 63,
     "metadata": {},
     "output_type": "execute_result"
    }
   ],
   "source": [
    "@code_typed entertain(c)"
   ]
  },
  {
   "cell_type": "code",
   "execution_count": 64,
   "metadata": {},
   "outputs": [
    {
     "data": {
      "text/plain": [
       "CodeInfo(\n",
       "\u001b[90m\u001b[77G│\u001b[1G\u001b[39m\u001b[90m4 \u001b[39m1 ─     return \"better keep the music off. maybe play a game.\"\n",
       ") => String"
      ]
     },
     "execution_count": 64,
     "metadata": {},
     "output_type": "execute_result"
    }
   ],
   "source": [
    "@code_typed entertain(t)"
   ]
  },
  {
   "cell_type": "code",
   "execution_count": 68,
   "metadata": {},
   "outputs": [
    {
     "ename": "ErrorException",
     "evalue": "Unknown music affinity for type Float64",
     "output_type": "error",
     "traceback": [
      "Unknown music affinity for type Float64",
      "",
      "Stacktrace:",
      " [1] error(::String) at .\\error.jl:33",
      " [2] likes_music(::Float64) at .\\In[57]:9",
      " [3] entertain(::Float64) at .\\In[65]:4",
      " [4] top-level scope at In[68]:1"
     ]
    }
   ],
   "source": [
    "entertain(123.45)"
   ]
  },
  {
   "cell_type": "markdown",
   "metadata": {},
   "source": [
    "Note that this trait system is general, it works for non boolean traits as well.\n",
    "\n",
    "**The most important thing is however, that it is easily extendable.**\n",
    "\n",
    "As we all know, dogs love music as well! Note that the only thing we have to do to make `entertain` work for them is to define their \"likes music\" trait function:"
   ]
  },
  {
   "cell_type": "code",
   "execution_count": 73,
   "metadata": {},
   "outputs": [
    {
     "ename": "ErrorException",
     "evalue": "invalid redefinition of constant Dog",
     "output_type": "error",
     "traceback": [
      "invalid redefinition of constant Dog",
      "",
      "Stacktrace:",
      " [1] top-level scope at none:0"
     ]
    }
   ],
   "source": [
    "abstract type Animals end\n",
    "\n",
    "mutable struct Dog <: Animals # single inheritance\n",
    "    name::String\n",
    "end\n",
    "\n",
    "likes_music(x::Dog) = LikesMusic # has the \"likes music\" trait defined"
   ]
  },
  {
   "cell_type": "code",
   "execution_count": 74,
   "metadata": {},
   "outputs": [
    {
     "data": {
      "text/plain": [
       "\"turning the music on.\""
      ]
     },
     "execution_count": 74,
     "metadata": {},
     "output_type": "execute_result"
    }
   ],
   "source": [
    "wuff = Dog(\"Wolfgang\")\n",
    "entertain(wuff)"
   ]
  },
  {
   "cell_type": "markdown",
   "metadata": {},
   "source": [
    "Ok, but this is students, teachers, and dogs. What about physics? Where could I possibly need this?\n",
    "\n",
    "Think of \n",
    "\n",
    "* `entertain` as `perform_matrix_operation`\n",
    "* `likes_music` as `select_method`.\n",
    "* `LikesMusic` could be `FastMethod`.\n",
    "* `NoLikesMusic` could be `SlowMethod`."
   ]
  },
  {
   "cell_type": "markdown",
   "metadata": {},
   "source": [
    "# Most important take home messages"
   ]
  },
  {
   "cell_type": "markdown",
   "metadata": {},
   "source": [
    "* **Use types to move runtime information to compile-time.**\n",
    "* **Use types and multiple dispatch to move `if` branches to compile time (and potentially compile them away). In my opinion, this also makes the code more readable.**"
   ]
  }
 ],
 "metadata": {
  "kernelspec": {
   "display_name": "Julia 1.1.0",
   "language": "julia",
   "name": "julia-1.1"
  },
  "language_info": {
   "file_extension": ".jl",
   "mimetype": "application/julia",
   "name": "julia",
   "version": "1.1.0"
  }
 },
 "nbformat": 4,
 "nbformat_minor": 2
}
