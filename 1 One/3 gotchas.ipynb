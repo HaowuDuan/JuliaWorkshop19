{
 "cells": [
  {
   "cell_type": "markdown",
   "metadata": {},
   "source": [
    "# Julia Gotchas and how to handle them"
   ]
  },
  {
   "cell_type": "markdown",
   "metadata": {},
   "source": [
    "Largely inspired by http://www.stochasticlifestyle.com/7-julia-gotchas-handle/ by Chris Rackauckas."
   ]
  },
  {
   "cell_type": "markdown",
   "metadata": {},
   "source": [
    "# Gotcha 1: Global scope"
   ]
  },
  {
   "cell_type": "markdown",
   "metadata": {},
   "source": [
    "The reason is that the REPL/global scope does not allow type specificity."
   ]
  },
  {
   "cell_type": "code",
   "execution_count": null,
   "metadata": {},
   "outputs": [],
   "source": [
    "a=2.0; b=3.0\n",
    "function linearcombo()\n",
    "  return 2a+b\n",
    "end\n",
    "answer = linearcombo()\n",
    "\n",
    "# could also be\n",
    "# a = 2; b = 3\n",
    "# answer = linearcombo()\n",
    "\n",
    "@show answer;"
   ]
  },
  {
   "cell_type": "code",
   "execution_count": null,
   "metadata": {},
   "outputs": [],
   "source": [
    "@code_llvm linearcombo()"
   ]
  },
  {
   "cell_type": "markdown",
   "metadata": {},
   "source": [
    "### How to avoid this issue?"
   ]
  },
  {
   "cell_type": "markdown",
   "metadata": {},
   "source": [
    "One way to identify the issue is [Traceur.jl](https://github.com/MikeInnes/Traceur.jl). It is basically a coded version of the [performance tips](https://docs.julialang.org/en/v0.6.4/manual/performance-tips/#man-performance-tips-1) in the Julia documentation."
   ]
  },
  {
   "cell_type": "code",
   "execution_count": null,
   "metadata": {},
   "outputs": [],
   "source": [
    "using Traceur\n",
    "@trace linearcombo()"
   ]
  },
  {
   "cell_type": "markdown",
   "metadata": {},
   "source": [
    "#### 1) Wrap code in functions."
   ]
  },
  {
   "cell_type": "code",
   "execution_count": null,
   "metadata": {},
   "outputs": [],
   "source": [
    "function outer()\n",
    "    a=2.0; b=3.0\n",
    "    function linearcombo()\n",
    "      return 2a+b\n",
    "    end\n",
    "    return linearcombo() \n",
    "end\n",
    "\n",
    "answer = outer()\n",
    "\n",
    "@show answer;"
   ]
  },
  {
   "cell_type": "code",
   "execution_count": null,
   "metadata": {},
   "outputs": [],
   "source": [
    "@code_llvm outer()"
   ]
  },
  {
   "cell_type": "code",
   "execution_count": null,
   "metadata": {},
   "outputs": [],
   "source": [
    "@trace outer()"
   ]
  },
  {
   "cell_type": "markdown",
   "metadata": {},
   "source": [
    "#### 2) Declare globals as (compile-time) constants."
   ]
  },
  {
   "cell_type": "code",
   "execution_count": null,
   "metadata": {},
   "outputs": [],
   "source": [
    "const A=2.0; const B=3.0\n",
    "function Linearcombo()\n",
    "  return 2A+B\n",
    "end\n",
    "answer = Linearcombo()\n",
    "\n",
    "@show answer;"
   ]
  },
  {
   "cell_type": "code",
   "execution_count": null,
   "metadata": {},
   "outputs": [],
   "source": [
    "@code_llvm Linearcombo()"
   ]
  },
  {
   "cell_type": "code",
   "execution_count": null,
   "metadata": {},
   "outputs": [],
   "source": [
    "@trace Linearcombo()"
   ]
  },
  {
   "cell_type": "markdown",
   "metadata": {},
   "source": [
    "#### Take home message: Don't write performance critical scripts in global scope, always wrap them in a function."
   ]
  },
  {
   "cell_type": "markdown",
   "metadata": {},
   "source": [
    "# Gotcha 2: Views and copies"
   ]
  },
  {
   "cell_type": "code",
   "execution_count": null,
   "metadata": {},
   "outputs": [],
   "source": [
    "a = [3;4;5]\n",
    "b = a\n",
    "b[1] = 1\n",
    "a"
   ]
  },
  {
   "cell_type": "code",
   "execution_count": null,
   "metadata": {},
   "outputs": [],
   "source": [
    "a = rand(2,2)\n",
    "b = vec(a) # Makes a view to the 2x2 matrix which is a 1-dimensional array"
   ]
  },
  {
   "cell_type": "code",
   "execution_count": null,
   "metadata": {},
   "outputs": [],
   "source": [
    "c = a[1:2,1] # Creates a copy (slice on rhs of assignment)"
   ]
  },
  {
   "cell_type": "code",
   "execution_count": null,
   "metadata": {},
   "outputs": [],
   "source": [
    "# Create a view into array a.\n",
    "d = @view a[1:2,1]\n",
    "e = view(a,1:2,1)\n",
    "@views p = a[1:2,1]"
   ]
  },
  {
   "cell_type": "code",
   "execution_count": null,
   "metadata": {},
   "outputs": [],
   "source": [
    "a[1:2,1] = [1;2] # Modifies a in-place (slice on lhs of assignment)"
   ]
  },
  {
   "cell_type": "code",
   "execution_count": null,
   "metadata": {},
   "outputs": [],
   "source": [
    "a = Vector{Vector{Float64}}(undef, 2)\n",
    "a[1] = [1;2;3]\n",
    "a[2] = [4;5;6]\n",
    "\n",
    "b = copy(a)\n",
    "b[1][1] = 10 # will alter a!\n",
    "\n",
    "b = deepcopy(a) # \"recursive copy\""
   ]
  },
  {
   "cell_type": "markdown",
   "metadata": {},
   "source": [
    "# Gotcha 3: Type-instabilities"
   ]
  },
  {
   "cell_type": "markdown",
   "metadata": {},
   "source": [
    "What's bad for performance in the following function?"
   ]
  },
  {
   "cell_type": "code",
   "execution_count": 36,
   "metadata": {},
   "outputs": [
    {
     "data": {
      "text/plain": [
       "g (generic function with 1 method)"
      ]
     },
     "execution_count": 36,
     "metadata": {},
     "output_type": "execute_result"
    }
   ],
   "source": [
    "function g()\n",
    "  x=1\n",
    "  for i = 1:10\n",
    "    x = x/2\n",
    "  end\n",
    "  return x\n",
    "end"
   ]
  },
  {
   "cell_type": "code",
   "execution_count": 37,
   "metadata": {},
   "outputs": [
    {
     "name": "stdout",
     "output_type": "stream",
     "text": [
      "\n",
      "; Function g\n",
      "; Location: In[36]:2\n",
      "; Function Attrs: uwtable\n",
      "define { %jl_value_t addrspace(10)*, i8 } @julia_g_36658([8 x i8]* noalias nocapture align 8 dereferenceable(8)) #0 {\n",
      "top:\n",
      "; Location: In[36]:3\n",
      "  br label %L10\n",
      "\n",
      "L10:                                              ; preds = %top, %L37\n",
      "  %1 = phi double [ 4.940660e-324, %top ], [ %value_phi3, %L37 ]\n",
      "  %.sroa.013.0 = phi i64 [ 1, %top ], [ %5, %L37 ]\n",
      "  %tindex_phi = phi i2 [ -2, %top ], [ 1, %L37 ]\n",
      "  %value_phi2 = phi i64 [ 1, %top ], [ %4, %L37 ]\n",
      "; Location: In[36]:4\n",
      "  switch i2 %tindex_phi, label %L25 [\n",
      "    i2 -2, label %L14\n",
      "    i2 1, label %L27\n",
      "  ]\n",
      "\n",
      "L14:                                              ; preds = %L10\n",
      "; Function /; {\n",
      "; Location: int.jl:59\n",
      "; Function float; {\n",
      "; Location: float.jl:269\n",
      "; Function Type; {\n",
      "; Location: float.jl:254\n",
      "; Function Type; {\n",
      "; Location: float.jl:60\n",
      "  %2 = sitofp i64 %.sroa.013.0 to double\n",
      ";}}}}\n",
      "  br label %L27\n",
      "\n",
      "L25:                                              ; preds = %L10\n",
      "  call void @jl_throw(%jl_value_t addrspace(12)* addrspacecast (%jl_value_t* inttoptr (i64 88877072 to %jl_value_t*) to %jl_value_t addrspace(12)*))\n",
      "  unreachable\n",
      "\n",
      "L27:                                              ; preds = %L10, %L14\n",
      "  %value_phi3.in = phi double [ %2, %L14 ], [ %1, %L10 ]\n",
      "; Function /; {\n",
      "; Location: int.jl:59\n",
      "; Function /; {\n",
      "; Location: float.jl:401\n",
      "  %value_phi3 = fmul double %value_phi3.in, 5.000000e-01\n",
      ";}}\n",
      "; Function iterate; {\n",
      "; Location: range.jl:575\n",
      "; Function ==; {\n",
      "; Location: promotion.jl:425\n",
      "  %3 = icmp eq i64 %value_phi2, 10\n",
      ";}}\n",
      "  br i1 %3, label %post_union_move, label %L37\n",
      "\n",
      "L37:                                              ; preds = %L27\n",
      "; Function iterate; {\n",
      "; Location: range.jl:576\n",
      "; Function +; {\n",
      "; Location: int.jl:53\n",
      "  %4 = add i64 %value_phi2, 1\n",
      ";}}\n",
      "  %5 = bitcast double %value_phi3 to i64\n",
      "  br label %L10\n",
      "\n",
      "post_union_move:                                  ; preds = %L27\n",
      "; Location: In[36]:6\n",
      "  %6 = bitcast [8 x i8]* %0 to double*\n",
      "  store double %value_phi3, double* %6, align 8\n",
      "  ret { %jl_value_t addrspace(10)*, i8 } { %jl_value_t addrspace(10)* addrspacecast (%jl_value_t* null to %jl_value_t addrspace(10)*), i8 1 }\n",
      "}\n"
     ]
    }
   ],
   "source": [
    "@code_llvm g()"
   ]
  },
  {
   "cell_type": "markdown",
   "metadata": {},
   "source": [
    "### How to Find and Deal with Type-Instabilities"
   ]
  },
  {
   "cell_type": "markdown",
   "metadata": {},
   "source": [
    "#### 1) Avoid type changes"
   ]
  },
  {
   "cell_type": "markdown",
   "metadata": {},
   "source": [
    "Initialize `x` as `Float64` and it's fast."
   ]
  },
  {
   "cell_type": "code",
   "execution_count": 38,
   "metadata": {},
   "outputs": [
    {
     "data": {
      "text/plain": [
       "h (generic function with 1 method)"
      ]
     },
     "execution_count": 38,
     "metadata": {},
     "output_type": "execute_result"
    }
   ],
   "source": [
    "function h()\n",
    "  x=1.0\n",
    "  for i = 1:10\n",
    "    x = x/2\n",
    "  end\n",
    "  return x\n",
    "end"
   ]
  },
  {
   "cell_type": "markdown",
   "metadata": {},
   "source": [
    "In fact, it's not just fast, but as fast as it can be! Julia has figured out the result of the calculation at compile-time and returns **just the result (a literal)!**\n",
    "\n",
    "(`h() = 9.765625e-04` at run-time.)"
   ]
  },
  {
   "cell_type": "code",
   "execution_count": 39,
   "metadata": {},
   "outputs": [
    {
     "name": "stdout",
     "output_type": "stream",
     "text": [
      "\n",
      "; Function h\n",
      "; Location: In[38]:2\n",
      "; Function Attrs: uwtable\n",
      "define double @julia_h_36663() #0 {\n",
      "top:\n",
      "; Location: In[38]:6\n",
      "  ret double 0x3F50000000000000\n",
      "}\n"
     ]
    }
   ],
   "source": [
    "@code_llvm h()"
   ]
  },
  {
   "cell_type": "markdown",
   "metadata": {},
   "source": [
    "#### 2) Detect issues with `@code_warntype` (or `@trace`)"
   ]
  },
  {
   "cell_type": "code",
   "execution_count": 40,
   "metadata": {},
   "outputs": [
    {
     "name": "stdout",
     "output_type": "stream",
     "text": [
      "Body\u001b[91m\u001b[1m::Union{Float64, Int64}\u001b[22m\u001b[39m\n",
      "\u001b[90m\u001b[63G│╻╷╷   Colon\u001b[1G\u001b[39m\u001b[90m3 \u001b[39m1 ──       (Base.ifelse)(true, 10, 0)\n",
      "\u001b[90m\u001b[63G││╻╷╷   isempty\u001b[1G\u001b[39m\u001b[90m  \u001b[39m│    %2  = (Base.slt_int)(10, 1)\u001b[36m::Bool\u001b[39m\n",
      "\u001b[90m\u001b[63G││    \u001b[1G\u001b[39m\u001b[90m  \u001b[39m└───       goto #3 if not %2\n",
      "\u001b[90m\u001b[63G││    \u001b[1G\u001b[39m\u001b[90m  \u001b[39m2 ──       goto #4\n",
      "\u001b[90m\u001b[63G││    \u001b[1G\u001b[39m\u001b[90m  \u001b[39m3 ──       goto #4\n",
      "\u001b[90m\u001b[63G│     \u001b[1G\u001b[39m\u001b[90m  \u001b[39m4 ┄─ %6  = φ (#2 => true, #3 => false)\u001b[36m::Bool\u001b[39m\n",
      "\u001b[90m\u001b[63G│     \u001b[1G\u001b[39m\u001b[90m  \u001b[39m│    %7  = φ (#3 => 1)\u001b[36m::Int64\u001b[39m\n",
      "\u001b[90m\u001b[63G│     \u001b[1G\u001b[39m\u001b[90m  \u001b[39m│    %8  = (Base.not_int)(%6)\u001b[36m::Bool\u001b[39m\n",
      "\u001b[90m\u001b[63G│     \u001b[1G\u001b[39m\u001b[90m  \u001b[39m└───       goto #15 if not %8\n",
      "\u001b[90m\u001b[63G│     \u001b[1G\u001b[39m\u001b[90m  \u001b[39m5 ┄─ %10 = φ (#4 => 1, #14 => %27)\u001b[91m\u001b[1m::Union{Float64, Int64}\u001b[22m\u001b[39m\n",
      "\u001b[90m\u001b[63G│     \u001b[1G\u001b[39m\u001b[90m  \u001b[39m│    %11 = φ (#4 => %7, #14 => %33)\u001b[36m::Int64\u001b[39m\n",
      "\u001b[90m\u001b[63G│     \u001b[1G\u001b[39m\u001b[90m4 \u001b[39m│    %12 = (isa)(%10, Int64)\u001b[36m::Bool\u001b[39m\n",
      "\u001b[90m\u001b[63G│     \u001b[1G\u001b[39m\u001b[90m  \u001b[39m└───       goto #7 if not %12\n",
      "\u001b[90m\u001b[63G│     \u001b[1G\u001b[39m\u001b[90m  \u001b[39m6 ── %14 = π (%10, \u001b[36mInt64\u001b[39m)\n",
      "\u001b[90m\u001b[63G││╻╷╷   float\u001b[1G\u001b[39m\u001b[90m  \u001b[39m│    %15 = (Base.sitofp)(Float64, %14)\u001b[36m::Float64\u001b[39m\n",
      "\u001b[90m\u001b[63G│││╻╷    Type\u001b[1G\u001b[39m\u001b[90m  \u001b[39m│    %16 = (Base.sitofp)(Float64, 2)\u001b[36m::Float64\u001b[39m\n",
      "\u001b[90m\u001b[63G││╻     /\u001b[1G\u001b[39m\u001b[90m  \u001b[39m│    %17 = (Base.div_float)(%15, %16)\u001b[36m::Float64\u001b[39m\n",
      "\u001b[90m\u001b[63G│     \u001b[1G\u001b[39m\u001b[90m  \u001b[39m└───       goto #10\n",
      "\u001b[90m\u001b[63G│     \u001b[1G\u001b[39m\u001b[90m  \u001b[39m7 ── %19 = (isa)(%10, Float64)\u001b[36m::Bool\u001b[39m\n",
      "\u001b[90m\u001b[63G│     \u001b[1G\u001b[39m\u001b[90m  \u001b[39m└───       goto #9 if not %19\n",
      "\u001b[90m\u001b[63G│     \u001b[1G\u001b[39m\u001b[90m  \u001b[39m8 ── %21 = π (%10, \u001b[36mFloat64\u001b[39m)\n",
      "\u001b[90m\u001b[63G││╻╷╷╷  promote\u001b[1G\u001b[39m\u001b[90m  \u001b[39m│    %22 = (Base.sitofp)(Float64, 2)\u001b[36m::Float64\u001b[39m\n",
      "\u001b[90m\u001b[63G││╻     /\u001b[1G\u001b[39m\u001b[90m  \u001b[39m│    %23 = (Base.div_float)(%21, %22)\u001b[36m::Float64\u001b[39m\n",
      "\u001b[90m\u001b[63G│     \u001b[1G\u001b[39m\u001b[90m  \u001b[39m└───       goto #10\n",
      "\u001b[90m\u001b[63G│     \u001b[1G\u001b[39m\u001b[90m  \u001b[39m9 ──       (Core.throw)(ErrorException(\"fatal error in type inference (type bound)\"))\n",
      "\u001b[90m\u001b[63G│     \u001b[1G\u001b[39m\u001b[90m  \u001b[39m└───       $(Expr(:unreachable))\n",
      "\u001b[90m\u001b[63G│     \u001b[1G\u001b[39m\u001b[90m  \u001b[39m10 ┄ %27 = φ (#6 => %17, #8 => %23)\u001b[36m::Float64\u001b[39m\n",
      "\u001b[90m\u001b[63G││╻     ==\u001b[1G\u001b[39m\u001b[90m  \u001b[39m│    %28 = (%11 === 10)\u001b[36m::Bool\u001b[39m\n",
      "\u001b[90m\u001b[63G││    \u001b[1G\u001b[39m\u001b[90m  \u001b[39m└───       goto #12 if not %28\n",
      "\u001b[90m\u001b[63G││    \u001b[1G\u001b[39m\u001b[90m  \u001b[39m11 ─       goto #13\n",
      "\u001b[90m\u001b[63G││╻     +\u001b[1G\u001b[39m\u001b[90m  \u001b[39m12 ─ %31 = (Base.add_int)(%11, 1)\u001b[36m::Int64\u001b[39m\n",
      "\u001b[90m\u001b[63G│╻     iterate\u001b[1G\u001b[39m\u001b[90m  \u001b[39m└───       goto #13\n",
      "\u001b[90m\u001b[63G│     \u001b[1G\u001b[39m\u001b[90m  \u001b[39m13 ┄ %33 = φ (#12 => %31)\u001b[36m::Int64\u001b[39m\n",
      "\u001b[90m\u001b[63G│     \u001b[1G\u001b[39m\u001b[90m  \u001b[39m│    %34 = φ (#11 => true, #12 => false)\u001b[36m::Bool\u001b[39m\n",
      "\u001b[90m\u001b[63G│     \u001b[1G\u001b[39m\u001b[90m  \u001b[39m│    %35 = (Base.not_int)(%34)\u001b[36m::Bool\u001b[39m\n",
      "\u001b[90m\u001b[63G│     \u001b[1G\u001b[39m\u001b[90m  \u001b[39m└───       goto #15 if not %35\n",
      "\u001b[90m\u001b[63G│     \u001b[1G\u001b[39m\u001b[90m  \u001b[39m14 ─       goto #5\n",
      "\u001b[90m\u001b[63G│     \u001b[1G\u001b[39m\u001b[90m6 \u001b[39m15 ─ %38 = φ (#13 => %27, #4 => 1)\u001b[91m\u001b[1m::Union{Float64, Int64}\u001b[22m\u001b[39m\n",
      "\u001b[90m\u001b[63G│     \u001b[1G\u001b[39m\u001b[90m  \u001b[39m└───       return %38\n"
     ]
    }
   ],
   "source": [
    "@code_warntype g()"
   ]
  },
  {
   "cell_type": "markdown",
   "metadata": {},
   "source": [
    "(On a side note: Much better handled in Julia 1.0 by \"Union splitting\"! See blog post by Tim Holy: https://julialang.org/blog/2018/08/union-splitting)"
   ]
  },
  {
   "cell_type": "code",
   "execution_count": 41,
   "metadata": {},
   "outputs": [
    {
     "name": "stdout",
     "output_type": "stream",
     "text": [
      "Body\u001b[36m::Float64\u001b[39m\n",
      "\u001b[90m\u001b[64G│╻╷╷  Colon\u001b[1G\u001b[39m\u001b[90m3 \u001b[39m1 ──       (Base.ifelse)(true, 10, 0)\n",
      "\u001b[90m\u001b[64G││╻╷╷  isempty\u001b[1G\u001b[39m\u001b[90m  \u001b[39m│    %2  = (Base.slt_int)(10, 1)\u001b[36m::Bool\u001b[39m\n",
      "\u001b[90m\u001b[64G││   \u001b[1G\u001b[39m\u001b[90m  \u001b[39m└───       goto #3 if not %2\n",
      "\u001b[90m\u001b[64G││   \u001b[1G\u001b[39m\u001b[90m  \u001b[39m2 ──       goto #4\n",
      "\u001b[90m\u001b[64G││   \u001b[1G\u001b[39m\u001b[90m  \u001b[39m3 ──       goto #4\n",
      "\u001b[90m\u001b[64G│    \u001b[1G\u001b[39m\u001b[90m  \u001b[39m4 ┄─ %6  = φ (#2 => true, #3 => false)\u001b[36m::Bool\u001b[39m\n",
      "\u001b[90m\u001b[64G│    \u001b[1G\u001b[39m\u001b[90m  \u001b[39m│    %7  = φ (#3 => 1)\u001b[36m::Int64\u001b[39m\n",
      "\u001b[90m\u001b[64G│    \u001b[1G\u001b[39m\u001b[90m  \u001b[39m│    %8  = (Base.not_int)(%6)\u001b[36m::Bool\u001b[39m\n",
      "\u001b[90m\u001b[64G│    \u001b[1G\u001b[39m\u001b[90m  \u001b[39m└───       goto #10 if not %8\n",
      "\u001b[90m\u001b[64G│    \u001b[1G\u001b[39m\u001b[90m  \u001b[39m5 ┄─ %10 = φ (#4 => 1.0, #9 => %12)\u001b[36m::Float64\u001b[39m\n",
      "\u001b[90m\u001b[64G│    \u001b[1G\u001b[39m\u001b[90m  \u001b[39m│    %11 = φ (#4 => %7, #9 => %18)\u001b[36m::Int64\u001b[39m\n",
      "\u001b[90m\u001b[64G│╻╷   /\u001b[1G\u001b[39m\u001b[90m4 \u001b[39m│    %12 = (Base.div_float)(%10, 2.0)\u001b[36m::Float64\u001b[39m\n",
      "\u001b[90m\u001b[64G││╻    ==\u001b[1G\u001b[39m\u001b[90m  \u001b[39m│    %13 = (%11 === 10)\u001b[36m::Bool\u001b[39m\n",
      "\u001b[90m\u001b[64G││   \u001b[1G\u001b[39m\u001b[90m  \u001b[39m└───       goto #7 if not %13\n",
      "\u001b[90m\u001b[64G││   \u001b[1G\u001b[39m\u001b[90m  \u001b[39m6 ──       goto #8\n",
      "\u001b[90m\u001b[64G││╻    +\u001b[1G\u001b[39m\u001b[90m  \u001b[39m7 ── %16 = (Base.add_int)(%11, 1)\u001b[36m::Int64\u001b[39m\n",
      "\u001b[90m\u001b[64G│╻    iterate\u001b[1G\u001b[39m\u001b[90m  \u001b[39m└───       goto #8\n",
      "\u001b[90m\u001b[64G│    \u001b[1G\u001b[39m\u001b[90m  \u001b[39m8 ┄─ %18 = φ (#7 => %16)\u001b[36m::Int64\u001b[39m\n",
      "\u001b[90m\u001b[64G│    \u001b[1G\u001b[39m\u001b[90m  \u001b[39m│    %19 = φ (#6 => true, #7 => false)\u001b[36m::Bool\u001b[39m\n",
      "\u001b[90m\u001b[64G│    \u001b[1G\u001b[39m\u001b[90m  \u001b[39m│    %20 = (Base.not_int)(%19)\u001b[36m::Bool\u001b[39m\n",
      "\u001b[90m\u001b[64G│    \u001b[1G\u001b[39m\u001b[90m  \u001b[39m└───       goto #10 if not %20\n",
      "\u001b[90m\u001b[64G│    \u001b[1G\u001b[39m\u001b[90m  \u001b[39m9 ──       goto #5\n",
      "\u001b[90m\u001b[64G│    \u001b[1G\u001b[39m\u001b[90m6 \u001b[39m10 ─ %23 = φ (#8 => %12, #4 => 1.0)\u001b[36m::Float64\u001b[39m\n",
      "\u001b[90m\u001b[64G│    \u001b[1G\u001b[39m\u001b[90m  \u001b[39m└───       return %23\n"
     ]
    }
   ],
   "source": [
    "@code_warntype h()"
   ]
  },
  {
   "cell_type": "markdown",
   "metadata": {},
   "source": [
    "A more drastic example:"
   ]
  },
  {
   "cell_type": "code",
   "execution_count": 42,
   "metadata": {},
   "outputs": [
    {
     "name": "stdout",
     "output_type": "stream",
     "text": [
      "Body\u001b[91m\u001b[1m::Any\u001b[22m\u001b[39m\n",
      "\u001b[90m\u001b[41G│            \u001b[1G\u001b[39m\u001b[90m1 \u001b[39m1 ── %1  = (Core.tuple)(1.0, 2, \"3\")\u001b[36m::Tuple{Float64,Int64,String}\u001b[39m\n",
      "\u001b[90m\u001b[41G│╻            vect\u001b[1G\u001b[39m\u001b[90m  \u001b[39m│    %2  = $(Expr(:foreigncall, :(:jl_alloc_array_1d), Array{Any,1}, svec(Any, Int64), :(:ccall), 2, Array{Any,1}, 3, 3))\u001b[36m::Array{Any,1}\u001b[39m\n",
      "\u001b[90m\u001b[41G││           \u001b[1G\u001b[39m\u001b[90m  \u001b[39m│    %3  = invoke Base.copyto!(%2::Array{Any,1}, %1::Tuple{Float64,Int64,String})\u001b[36m::Array{Any,1}\u001b[39m\n",
      "\u001b[90m\u001b[41G│╻            rand\u001b[1G\u001b[39m\u001b[90m  \u001b[39m│    %4  = Random.GLOBAL_RNG\u001b[36m::Random.MersenneTwister\u001b[39m\n",
      "\u001b[90m\u001b[41G││╻╷╷╷╷╷╷      rand\u001b[1G\u001b[39m\u001b[90m  \u001b[39m│    %5  = (Base.arraysize)(%3, 1)\u001b[36m::Int64\u001b[39m\n",
      "\u001b[90m\u001b[41G│││╻╷╷╷         Type\u001b[1G\u001b[39m\u001b[90m  \u001b[39m│    %6  = (Base.slt_int)(%5, 0)\u001b[36m::Bool\u001b[39m\n",
      "\u001b[90m\u001b[41G││││┃││││││││    Type\u001b[1G\u001b[39m\u001b[90m  \u001b[39m│          (Base.ifelse)(%6, 0, %5)\n",
      "\u001b[90m\u001b[41G│││││╻╷╷╷         lastindex\u001b[1G\u001b[39m\u001b[90m  \u001b[39m│    %8  = (Base.arraysize)(%3, 1)\u001b[36m::Int64\u001b[39m\n",
      "\u001b[90m\u001b[41G││││││╻╷╷╷         eachindex\u001b[1G\u001b[39m\u001b[90m  \u001b[39m│    %9  = (Base.slt_int)(%8, 0)\u001b[36m::Bool\u001b[39m\n",
      "\u001b[90m\u001b[41G│││││││┃│││││       axes1\u001b[1G\u001b[39m\u001b[90m  \u001b[39m│    %10 = (Base.ifelse)(%9, 0, %8)\u001b[36m::Int64\u001b[39m\n",
      "\u001b[90m\u001b[41G││││││╻╷╷╷         Type\u001b[1G\u001b[39m\u001b[90m  \u001b[39m│    %11 = (Base.sle_int)(1, %10)\u001b[36m::Bool\u001b[39m\n",
      "\u001b[90m\u001b[41G│││││││╻            unitrange_last\u001b[1G\u001b[39m\u001b[90m  \u001b[39m│          (Base.sub_int)(%10, 1)\n",
      "\u001b[90m\u001b[41G││││││││     \u001b[1G\u001b[39m\u001b[90m  \u001b[39m│    %13 = (Base.ifelse)(%11, %10, 0)\u001b[36m::Int64\u001b[39m\n",
      "\u001b[90m\u001b[41G││││││╻╷╷╷╷        Type\u001b[1G\u001b[39m\u001b[90m  \u001b[39m│    %14 = (Base.slt_int)(%13, 1)\u001b[36m::Bool\u001b[39m\n",
      "\u001b[90m\u001b[41G│││││││┃            Type\u001b[1G\u001b[39m\u001b[90m  \u001b[39m└───       goto #3 if not %14\n",
      "\u001b[90m\u001b[41G││││││││╻            Type\u001b[1G\u001b[39m\u001b[90m  \u001b[39m2 ── %16 = %new(Core.ArgumentError, \"range must be non-empty\")\u001b[36m::ArgumentError\u001b[39m\n",
      "\u001b[90m\u001b[41G││││││││     \u001b[1G\u001b[39m\u001b[90m  \u001b[39m│          (Random.throw)(%16)\n",
      "\u001b[90m\u001b[41G││││││││     \u001b[1G\u001b[39m\u001b[90m  \u001b[39m└───       $(Expr(:unreachable))\n",
      "\u001b[90m\u001b[41G││││││││╻            -\u001b[1G\u001b[39m\u001b[90m  \u001b[39m3 ── %19 = (Base.sub_int)(%13, 1)\u001b[36m::Int64\u001b[39m\n",
      "\u001b[90m\u001b[41G││││││││╻            rem\u001b[1G\u001b[39m\u001b[90m  \u001b[39m│    %20 = (Base.bitcast)(UInt64, %19)\u001b[36m::UInt64\u001b[39m\n",
      "\u001b[90m\u001b[41G││││││││╻            <<\u001b[1G\u001b[39m\u001b[90m  \u001b[39m│    %21 = (Base.ifelse)(true, 64, 0)\u001b[36m::Int64\u001b[39m\n",
      "\u001b[90m\u001b[41G││││││││╻            leading_zeros\u001b[1G\u001b[39m\u001b[90m  \u001b[39m│    %22 = (Base.ctlz_int)(%20)\u001b[36m::UInt64\u001b[39m\n",
      "\u001b[90m\u001b[41G│││││││││╻╷╷          Type\u001b[1G\u001b[39m\u001b[90m  \u001b[39m│    %23 = (Core.lshr_int)(%22, 63)\u001b[36m::UInt64\u001b[39m\n",
      "\u001b[90m\u001b[41G││││││││││┃││          toInt64\u001b[1G\u001b[39m\u001b[90m  \u001b[39m│    %24 = (Core.trunc_int)(Core.UInt8, %23)\u001b[36m::UInt8\u001b[39m\n",
      "\u001b[90m\u001b[41G│││││││││││┃│           check_top_bit\u001b[1G\u001b[39m\u001b[90m  \u001b[39m│    %25 = (Core.eq_int)(%24, 0x01)\u001b[36m::Bool\u001b[39m\n",
      "\u001b[90m\u001b[41G││││││││││││ \u001b[1G\u001b[39m\u001b[90m  \u001b[39m└───       goto #5 if not %25\n",
      "\u001b[90m\u001b[41G││││││││││││ \u001b[1G\u001b[39m\u001b[90m  \u001b[39m4 ──       invoke Core.throw_inexacterror(:check_top_bit::Symbol, UInt64::Any, %22::UInt64)\n",
      "\u001b[90m\u001b[41G││││││││││││ \u001b[1G\u001b[39m\u001b[90m  \u001b[39m└───       $(Expr(:unreachable))\n",
      "\u001b[90m\u001b[41G││││││││││││ \u001b[1G\u001b[39m\u001b[90m  \u001b[39m5 ──       goto #6\n",
      "\u001b[90m\u001b[41G│││││││││││  \u001b[1G\u001b[39m\u001b[90m  \u001b[39m6 ── %30 = (Core.bitcast)(Core.Int64, %22)\u001b[36m::Int64\u001b[39m\n",
      "\u001b[90m\u001b[41G│││││││││││  \u001b[1G\u001b[39m\u001b[90m  \u001b[39m└───       goto #7\n",
      "\u001b[90m\u001b[41G││││││││││   \u001b[1G\u001b[39m\u001b[90m  \u001b[39m7 ──       goto #8\n",
      "\u001b[90m\u001b[41G│││││││││    \u001b[1G\u001b[39m\u001b[90m  \u001b[39m8 ──       goto #9\n",
      "\u001b[90m\u001b[41G││││││││╻            -\u001b[1G\u001b[39m\u001b[90m  \u001b[39m9 ── %34 = (Base.sub_int)(%21, %30)\u001b[36m::Int64\u001b[39m\n",
      "\u001b[90m\u001b[41G││││││││╻            rem\u001b[1G\u001b[39m\u001b[90m  \u001b[39m│    %35 = (Base.bitcast)(UInt64, %34)\u001b[36m::UInt64\u001b[39m\n",
      "\u001b[90m\u001b[41G││││││││╻            <<\u001b[1G\u001b[39m\u001b[90m  \u001b[39m│    %36 = (Base.shl_int)(0x0000000000000001, %35)\u001b[36m::UInt64\u001b[39m\n",
      "\u001b[90m\u001b[41G││││││││╻            -\u001b[1G\u001b[39m\u001b[90m  \u001b[39m│    %37 = (Base.sub_int)(%36, 0x0000000000000001)\u001b[36m::UInt64\u001b[39m\n",
      "\u001b[90m\u001b[41G││││││││╻            Type\u001b[1G\u001b[39m\u001b[90m  \u001b[39m│    %38 = %new(Random.SamplerRangeFast{UInt64,Int64}, 1, %35, %20, %37)\u001b[36m::Random.SamplerRangeFast{UInt64,Int64}\u001b[39m\n",
      "\u001b[90m\u001b[41G││││││││     \u001b[1G\u001b[39m\u001b[90m  \u001b[39m└───       goto #10\n",
      "\u001b[90m\u001b[41G│││││││      \u001b[1G\u001b[39m\u001b[90m  \u001b[39m10 ─       goto #11\n",
      "\u001b[90m\u001b[41G││││││       \u001b[1G\u001b[39m\u001b[90m  \u001b[39m11 ─       goto #12\n",
      "\u001b[90m\u001b[41G│││││        \u001b[1G\u001b[39m\u001b[90m  \u001b[39m12 ─       goto #13\n",
      "\u001b[90m\u001b[41G││││         \u001b[1G\u001b[39m\u001b[90m  \u001b[39m13 ─       goto #14\n",
      "\u001b[90m\u001b[41G│││╻            rand\u001b[1G\u001b[39m\u001b[90m  \u001b[39m14 ─ %44 = invoke Random.rand(%4::Random.MersenneTwister, %38::Random.SamplerRangeFast{UInt64,Int64})\u001b[36m::Int64\u001b[39m\n",
      "\u001b[90m\u001b[41G││││╻            getindex\u001b[1G\u001b[39m\u001b[90m  \u001b[39m│    %45 = (Base.arrayref)(false, %3, %44)\u001b[91m\u001b[1m::Any\u001b[22m\u001b[39m\n",
      "\u001b[90m\u001b[41G││││         \u001b[1G\u001b[39m\u001b[90m  \u001b[39m└───       goto #16\n",
      "\u001b[90m\u001b[41G││││         \u001b[1G\u001b[39m\u001b[90m  \u001b[39m15 ─       $(Expr(:unreachable))\n",
      "\u001b[90m\u001b[41G│││          \u001b[1G\u001b[39m\u001b[90m  \u001b[39m16 ┄       goto #17\n",
      "\u001b[90m\u001b[41G││           \u001b[1G\u001b[39m\u001b[90m  \u001b[39m17 ─       goto #18\n",
      "\u001b[90m\u001b[41G│            \u001b[1G\u001b[39m\u001b[90m  \u001b[39m18 ─       return %45\n"
     ]
    }
   ],
   "source": [
    "f() = rand([1.0, 2, \"3\"])\n",
    "@code_warntype f()"
   ]
  },
  {
   "cell_type": "code",
   "execution_count": 43,
   "metadata": {},
   "outputs": [
    {
     "name": "stderr",
     "output_type": "stream",
     "text": [
      "┌ Warning: x is assigned as Int64\n",
      "└ @ In[36]:2\n",
      "┌ Warning: x is assigned as Float64\n",
      "└ @ In[36]:4\n",
      "┌ Warning: g returns Union{Float64, Int64}\n",
      "└ @ In[36]:2\n"
     ]
    },
    {
     "data": {
      "text/plain": [
       "0.0009765625"
      ]
     },
     "execution_count": 43,
     "metadata": {},
     "output_type": "execute_result"
    }
   ],
   "source": [
    "@trace g()"
   ]
  },
  {
   "cell_type": "markdown",
   "metadata": {},
   "source": [
    "#### 3) The C/Fortran way: specify types (to get errors or heal the problem by conversion)"
   ]
  },
  {
   "cell_type": "code",
   "execution_count": 44,
   "metadata": {},
   "outputs": [
    {
     "data": {
      "text/plain": [
       "g2 (generic function with 1 method)"
      ]
     },
     "execution_count": 44,
     "metadata": {},
     "output_type": "execute_result"
    }
   ],
   "source": [
    "function g2()\n",
    "  x::Float64 = 1\n",
    "  for i = 1:10\n",
    "    x = x/2\n",
    "  end\n",
    "  return x\n",
    "end"
   ]
  },
  {
   "cell_type": "code",
   "execution_count": 45,
   "metadata": {},
   "outputs": [
    {
     "name": "stdout",
     "output_type": "stream",
     "text": [
      "\n",
      "; Function g2\n",
      "; Location: In[44]:2\n",
      "; Function Attrs: uwtable\n",
      "define double @julia_g2_36673() #0 {\n",
      "top:\n",
      "; Location: In[44]:6\n",
      "  ret double 0x3F50000000000000\n",
      "}\n"
     ]
    }
   ],
   "source": [
    "@code_llvm g2()"
   ]
  },
  {
   "cell_type": "markdown",
   "metadata": {},
   "source": [
    "Julia can solve the conflict in `x::Float64 = 1` without further help. If it can't, you'll get an error indicating the type conflict."
   ]
  },
  {
   "cell_type": "code",
   "execution_count": 46,
   "metadata": {},
   "outputs": [
    {
     "data": {
      "text/plain": [
       "g3 (generic function with 1 method)"
      ]
     },
     "execution_count": 46,
     "metadata": {},
     "output_type": "execute_result"
    }
   ],
   "source": [
    "function g3()\n",
    "  x::Float64 = 3+im*2\n",
    "  for i = 1:10\n",
    "    x = x/2\n",
    "  end\n",
    "  return x\n",
    "end"
   ]
  },
  {
   "cell_type": "code",
   "execution_count": 47,
   "metadata": {},
   "outputs": [
    {
     "ename": "InexactError",
     "evalue": "InexactError: Float64(Float64, 3 + 2im)",
     "output_type": "error",
     "traceback": [
      "InexactError: Float64(Float64, 3 + 2im)",
      "",
      "Stacktrace:",
      " [1] g3() at .\\complex.jl:37",
      " [2] top-level scope at In[47]:1"
     ]
    }
   ],
   "source": [
    "g3()"
   ]
  },
  {
   "cell_type": "markdown",
   "metadata": {},
   "source": [
    "#### 4) Function barriers"
   ]
  },
  {
   "cell_type": "code",
   "execution_count": 54,
   "metadata": {},
   "outputs": [
    {
     "data": {
      "text/plain": [
       "4-element Array{Union{Float64, Int64},1}:\n",
       " 4  \n",
       " 2.0\n",
       " 3.2\n",
       " 1  "
      ]
     },
     "execution_count": 54,
     "metadata": {},
     "output_type": "execute_result"
    }
   ],
   "source": [
    "arr = Vector{Union{Int64,Float64}}(undef, 4)\n",
    "arr[1]=4\n",
    "arr[2]=2.0\n",
    "arr[3]=3.2\n",
    "arr[4]=1\n",
    "arr"
   ]
  },
  {
   "cell_type": "code",
   "execution_count": 55,
   "metadata": {},
   "outputs": [
    {
     "data": {
      "text/plain": [
       "foo (generic function with 1 method)"
      ]
     },
     "execution_count": 55,
     "metadata": {},
     "output_type": "execute_result"
    }
   ],
   "source": [
    "function foo(array)\n",
    "  for i in eachindex(array)\n",
    "    val = array[i]\n",
    "    # do algorithm X on val\n",
    "    val^2\n",
    "  end\n",
    "end"
   ]
  },
  {
   "cell_type": "code",
   "execution_count": 56,
   "metadata": {},
   "outputs": [
    {
     "name": "stdout",
     "output_type": "stream",
     "text": [
      "Body\u001b[36m::Nothing\u001b[39m\n",
      "\u001b[90m\u001b[58G│╻╷╷╷    eachindex\u001b[1G\u001b[39m\u001b[90m2 \u001b[39m1 ── %1  = (Base.arraysize)(array, 1)\u001b[36m::Int64\u001b[39m\n",
      "\u001b[90m\u001b[58G││╻╷╷╷    axes1\u001b[1G\u001b[39m\u001b[90m  \u001b[39m│    %2  = (Base.slt_int)(%1, 0)\u001b[36m::Bool\u001b[39m\n",
      "\u001b[90m\u001b[58G│││┃││││   axes\u001b[1G\u001b[39m\u001b[90m  \u001b[39m│    %3  = (Base.ifelse)(%2, 0, %1)\u001b[36m::Int64\u001b[39m\n",
      "\u001b[90m\u001b[58G││╻╷╷     isempty\u001b[1G\u001b[39m\u001b[90m  \u001b[39m│    %4  = (Base.slt_int)(%3, 1)\u001b[36m::Bool\u001b[39m\n",
      "\u001b[90m\u001b[58G││      \u001b[1G\u001b[39m\u001b[90m  \u001b[39m└───       goto #3 if not %4\n",
      "\u001b[90m\u001b[58G││      \u001b[1G\u001b[39m\u001b[90m  \u001b[39m2 ──       goto #4\n",
      "\u001b[90m\u001b[58G││      \u001b[1G\u001b[39m\u001b[90m  \u001b[39m3 ──       goto #4\n",
      "\u001b[90m\u001b[58G│       \u001b[1G\u001b[39m\u001b[90m  \u001b[39m4 ┄─ %8  = φ (#2 => true, #3 => false)\u001b[36m::Bool\u001b[39m\n",
      "\u001b[90m\u001b[58G│       \u001b[1G\u001b[39m\u001b[90m  \u001b[39m│    %9  = φ (#3 => 1)\u001b[36m::Int64\u001b[39m\n",
      "\u001b[90m\u001b[58G│       \u001b[1G\u001b[39m\u001b[90m  \u001b[39m│    %10 = φ (#3 => 1)\u001b[36m::Int64\u001b[39m\n",
      "\u001b[90m\u001b[58G│       \u001b[1G\u001b[39m\u001b[90m  \u001b[39m│    %11 = (Base.not_int)(%8)\u001b[36m::Bool\u001b[39m\n",
      "\u001b[90m\u001b[58G│       \u001b[1G\u001b[39m\u001b[90m  \u001b[39m└───       goto #15 if not %11\n",
      "\u001b[90m\u001b[58G│       \u001b[1G\u001b[39m\u001b[90m  \u001b[39m5 ┄─ %13 = φ (#4 => %9, #14 => %33)\u001b[36m::Int64\u001b[39m\n",
      "\u001b[90m\u001b[58G│       \u001b[1G\u001b[39m\u001b[90m  \u001b[39m│    %14 = φ (#4 => %10, #14 => %34)\u001b[36m::Int64\u001b[39m\n",
      "\u001b[90m\u001b[58G│╻       getindex\u001b[1G\u001b[39m\u001b[90m3 \u001b[39m│    %15 = (Base.arrayref)(true, array, %13)\u001b[91m\u001b[1m::Union{Float64, Int64}\u001b[22m\u001b[39m\n",
      "\u001b[90m\u001b[58G│       \u001b[1G\u001b[39m\u001b[90m5 \u001b[39m│    %16 = (isa)(%15, Float64)\u001b[36m::Bool\u001b[39m\n",
      "\u001b[90m\u001b[58G│       \u001b[1G\u001b[39m\u001b[90m  \u001b[39m└───       goto #7 if not %16\n",
      "\u001b[90m\u001b[58G│       \u001b[1G\u001b[39m\u001b[90m  \u001b[39m6 ── %18 = π (%15, \u001b[36mFloat64\u001b[39m)\n",
      "\u001b[90m\u001b[58G│╻       literal_pow\u001b[1G\u001b[39m\u001b[90m  \u001b[39m│          (Base.mul_float)(%18, %18)\n",
      "\u001b[90m\u001b[58G│       \u001b[1G\u001b[39m\u001b[90m  \u001b[39m└───       goto #10\n",
      "\u001b[90m\u001b[58G│       \u001b[1G\u001b[39m\u001b[90m  \u001b[39m7 ── %21 = (isa)(%15, Int64)\u001b[36m::Bool\u001b[39m\n",
      "\u001b[90m\u001b[58G│       \u001b[1G\u001b[39m\u001b[90m  \u001b[39m└───       goto #9 if not %21\n",
      "\u001b[90m\u001b[58G│       \u001b[1G\u001b[39m\u001b[90m  \u001b[39m8 ── %23 = π (%15, \u001b[36mInt64\u001b[39m)\n",
      "\u001b[90m\u001b[58G││╻       *\u001b[1G\u001b[39m\u001b[90m  \u001b[39m│          (Base.mul_int)(%23, %23)\n",
      "\u001b[90m\u001b[58G│       \u001b[1G\u001b[39m\u001b[90m  \u001b[39m└───       goto #10\n",
      "\u001b[90m\u001b[58G│       \u001b[1G\u001b[39m\u001b[90m  \u001b[39m9 ──       (Core.throw)(ErrorException(\"fatal error in type inference (type bound)\"))\n",
      "\u001b[90m\u001b[58G│       \u001b[1G\u001b[39m\u001b[90m  \u001b[39m└───       $(Expr(:unreachable))\n",
      "\u001b[90m\u001b[58G││╻       ==\u001b[1G\u001b[39m\u001b[90m  \u001b[39m10 ┄ %28 = (%14 === %3)\u001b[36m::Bool\u001b[39m\n",
      "\u001b[90m\u001b[58G││      \u001b[1G\u001b[39m\u001b[90m  \u001b[39m└───       goto #12 if not %28\n",
      "\u001b[90m\u001b[58G││      \u001b[1G\u001b[39m\u001b[90m  \u001b[39m11 ─       goto #13\n",
      "\u001b[90m\u001b[58G││╻       +\u001b[1G\u001b[39m\u001b[90m  \u001b[39m12 ─ %31 = (Base.add_int)(%14, 1)\u001b[36m::Int64\u001b[39m\n",
      "\u001b[90m\u001b[58G│╻       iterate\u001b[1G\u001b[39m\u001b[90m  \u001b[39m└───       goto #13\n",
      "\u001b[90m\u001b[58G│       \u001b[1G\u001b[39m\u001b[90m  \u001b[39m13 ┄ %33 = φ (#12 => %31)\u001b[36m::Int64\u001b[39m\n",
      "\u001b[90m\u001b[58G│       \u001b[1G\u001b[39m\u001b[90m  \u001b[39m│    %34 = φ (#12 => %31)\u001b[36m::Int64\u001b[39m\n",
      "\u001b[90m\u001b[58G│       \u001b[1G\u001b[39m\u001b[90m  \u001b[39m│    %35 = φ (#11 => true, #12 => false)\u001b[36m::Bool\u001b[39m\n",
      "\u001b[90m\u001b[58G│       \u001b[1G\u001b[39m\u001b[90m  \u001b[39m│    %36 = (Base.not_int)(%35)\u001b[36m::Bool\u001b[39m\n",
      "\u001b[90m\u001b[58G│       \u001b[1G\u001b[39m\u001b[90m  \u001b[39m└───       goto #15 if not %36\n",
      "\u001b[90m\u001b[58G│       \u001b[1G\u001b[39m\u001b[90m  \u001b[39m14 ─       goto #5\n",
      "\u001b[90m\u001b[58G│       \u001b[1G\u001b[39m\u001b[90m  \u001b[39m15 ─       return\n"
     ]
    }
   ],
   "source": [
    "@code_warntype foo(arr)"
   ]
  },
  {
   "cell_type": "code",
   "execution_count": 60,
   "metadata": {},
   "outputs": [
    {
     "data": {
      "text/plain": [
       "foo2 (generic function with 1 method)"
      ]
     },
     "execution_count": 60,
     "metadata": {},
     "output_type": "execute_result"
    }
   ],
   "source": [
    "function inner_foo(val)\n",
    "  # Do algorithm X on val\n",
    "  val^2\n",
    "end\n",
    " \n",
    "function foo2(array)\n",
    "  for i in eachindex(array)\n",
    "    inner_foo(array[i])\n",
    "  end\n",
    "end"
   ]
  },
  {
   "cell_type": "code",
   "execution_count": 61,
   "metadata": {},
   "outputs": [
    {
     "name": "stdout",
     "output_type": "stream",
     "text": [
      "Body\u001b[36m::Int64\u001b[39m\n",
      "\u001b[90m\u001b[63G│╻╷ literal_pow\u001b[1G\u001b[39m\u001b[90m3 \u001b[39m1 ─ %1 = (Base.mul_int)(val, val)\u001b[36m::Int64\u001b[39m\n",
      "\u001b[90m\u001b[63G│  \u001b[1G\u001b[39m\u001b[90m  \u001b[39m└──      return %1\n"
     ]
    }
   ],
   "source": [
    "@code_warntype inner_foo(arr[1])"
   ]
  },
  {
   "cell_type": "markdown",
   "metadata": {},
   "source": [
    "#### Comments:"
   ]
  },
  {
   "cell_type": "markdown",
   "metadata": {},
   "source": [
    "Why Allow Type-Instabilities in the first place? Convenience vs performance"
   ]
  },
  {
   "cell_type": "markdown",
   "metadata": {},
   "source": [
    "Note that type instabilities can naturally occur (reading files, user input etc.) so not any red marker is bad."
   ]
  },
  {
   "cell_type": "markdown",
   "metadata": {},
   "source": [
    "Note that Julia is smart and a changing type isn't *per se* an issue:"
   ]
  },
  {
   "cell_type": "code",
   "execution_count": 62,
   "metadata": {},
   "outputs": [
    {
     "data": {
      "text/plain": [
       "g2 (generic function with 1 method)"
      ]
     },
     "execution_count": 62,
     "metadata": {},
     "output_type": "execute_result"
    }
   ],
   "source": [
    "function g2()\n",
    "  x=1\n",
    "  x=1.0\n",
    "  for i = 1:10\n",
    "    x = x/2\n",
    "  end\n",
    "  return x\n",
    "end"
   ]
  },
  {
   "cell_type": "code",
   "execution_count": 63,
   "metadata": {},
   "outputs": [
    {
     "name": "stdout",
     "output_type": "stream",
     "text": [
      "Body\u001b[36m::Float64\u001b[39m\n",
      "\u001b[90m\u001b[64G│╻╷╷  Colon\u001b[1G\u001b[39m\u001b[90m4 \u001b[39m1 ──       (Base.ifelse)(true, 10, 0)\n",
      "\u001b[90m\u001b[64G││╻╷╷  isempty\u001b[1G\u001b[39m\u001b[90m  \u001b[39m│    %2  = (Base.slt_int)(10, 1)\u001b[36m::Bool\u001b[39m\n",
      "\u001b[90m\u001b[64G││   \u001b[1G\u001b[39m\u001b[90m  \u001b[39m└───       goto #3 if not %2\n",
      "\u001b[90m\u001b[64G││   \u001b[1G\u001b[39m\u001b[90m  \u001b[39m2 ──       goto #4\n",
      "\u001b[90m\u001b[64G││   \u001b[1G\u001b[39m\u001b[90m  \u001b[39m3 ──       goto #4\n",
      "\u001b[90m\u001b[64G│    \u001b[1G\u001b[39m\u001b[90m  \u001b[39m4 ┄─ %6  = φ (#2 => true, #3 => false)\u001b[36m::Bool\u001b[39m\n",
      "\u001b[90m\u001b[64G│    \u001b[1G\u001b[39m\u001b[90m  \u001b[39m│    %7  = φ (#3 => 1)\u001b[36m::Int64\u001b[39m\n",
      "\u001b[90m\u001b[64G│    \u001b[1G\u001b[39m\u001b[90m  \u001b[39m│    %8  = (Base.not_int)(%6)\u001b[36m::Bool\u001b[39m\n",
      "\u001b[90m\u001b[64G│    \u001b[1G\u001b[39m\u001b[90m  \u001b[39m└───       goto #10 if not %8\n",
      "\u001b[90m\u001b[64G│    \u001b[1G\u001b[39m\u001b[90m  \u001b[39m5 ┄─ %10 = φ (#4 => 1.0, #9 => %13)\u001b[36m::Float64\u001b[39m\n",
      "\u001b[90m\u001b[64G│    \u001b[1G\u001b[39m\u001b[90m  \u001b[39m│    %11 = φ (#4 => %7, #9 => %19)\u001b[36m::Int64\u001b[39m\n",
      "\u001b[90m\u001b[64G│    \u001b[1G\u001b[39m\u001b[90m5 \u001b[39m│    %12 = π (%10, \u001b[36mFloat64\u001b[39m)\n",
      "\u001b[90m\u001b[64G││╻    /\u001b[1G\u001b[39m\u001b[90m  \u001b[39m│    %13 = (Base.div_float)(%12, 2.0)\u001b[36m::Float64\u001b[39m\n",
      "\u001b[90m\u001b[64G││╻    ==\u001b[1G\u001b[39m\u001b[90m  \u001b[39m│    %14 = (%11 === 10)\u001b[36m::Bool\u001b[39m\n",
      "\u001b[90m\u001b[64G││   \u001b[1G\u001b[39m\u001b[90m  \u001b[39m└───       goto #7 if not %14\n",
      "\u001b[90m\u001b[64G││   \u001b[1G\u001b[39m\u001b[90m  \u001b[39m6 ──       goto #8\n",
      "\u001b[90m\u001b[64G││╻    +\u001b[1G\u001b[39m\u001b[90m  \u001b[39m7 ── %17 = (Base.add_int)(%11, 1)\u001b[36m::Int64\u001b[39m\n",
      "\u001b[90m\u001b[64G│╻    iterate\u001b[1G\u001b[39m\u001b[90m  \u001b[39m└───       goto #8\n",
      "\u001b[90m\u001b[64G│    \u001b[1G\u001b[39m\u001b[90m  \u001b[39m8 ┄─ %19 = φ (#7 => %17)\u001b[36m::Int64\u001b[39m\n",
      "\u001b[90m\u001b[64G│    \u001b[1G\u001b[39m\u001b[90m  \u001b[39m│    %20 = φ (#6 => true, #7 => false)\u001b[36m::Bool\u001b[39m\n",
      "\u001b[90m\u001b[64G│    \u001b[1G\u001b[39m\u001b[90m  \u001b[39m│    %21 = (Base.not_int)(%20)\u001b[36m::Bool\u001b[39m\n",
      "\u001b[90m\u001b[64G│    \u001b[1G\u001b[39m\u001b[90m  \u001b[39m└───       goto #10 if not %21\n",
      "\u001b[90m\u001b[64G│    \u001b[1G\u001b[39m\u001b[90m  \u001b[39m9 ──       goto #5\n",
      "\u001b[90m\u001b[64G│    \u001b[1G\u001b[39m\u001b[90m7 \u001b[39m10 ─ %24 = φ (#8 => %13, #4 => 1.0)\u001b[36m::Float64\u001b[39m\n",
      "\u001b[90m\u001b[64G│    \u001b[1G\u001b[39m\u001b[90m  \u001b[39m│    %25 = π (%24, \u001b[36mFloat64\u001b[39m)\n",
      "\u001b[90m\u001b[64G│    \u001b[1G\u001b[39m\u001b[90m  \u001b[39m└───       return %25\n"
     ]
    }
   ],
   "source": [
    "@code_warntype g2()"
   ]
  },
  {
   "cell_type": "code",
   "execution_count": 64,
   "metadata": {},
   "outputs": [
    {
     "name": "stdout",
     "output_type": "stream",
     "text": [
      "\n",
      "; Function g2\n",
      "; Location: In[62]:2\n",
      "; Function Attrs: uwtable\n",
      "define double @julia_g2_36752() #0 {\n",
      "top:\n",
      "; Location: In[62]:7\n",
      "  ret double 0x3F50000000000000\n",
      "}\n"
     ]
    }
   ],
   "source": [
    "@code_llvm g2()"
   ]
  },
  {
   "cell_type": "markdown",
   "metadata": {},
   "source": [
    "#### Take home message: watch out for type-instabilities in performance critical parts of your code."
   ]
  },
  {
   "cell_type": "markdown",
   "metadata": {},
   "source": [
    "# Gotcha 4: Temporary allocations and vectorized code"
   ]
  },
  {
   "cell_type": "code",
   "execution_count": 1,
   "metadata": {},
   "outputs": [],
   "source": [
    "using BenchmarkTools"
   ]
  },
  {
   "cell_type": "code",
   "execution_count": 2,
   "metadata": {},
   "outputs": [
    {
     "data": {
      "text/plain": [
       "f (generic function with 1 method)"
      ]
     },
     "execution_count": 2,
     "metadata": {},
     "output_type": "execute_result"
    }
   ],
   "source": [
    "function f()\n",
    "  x = [1;5;6]\n",
    "  for i in 1:100_000\n",
    "    x = x + 2*x\n",
    "  end\n",
    "  return x\n",
    "end"
   ]
  },
  {
   "cell_type": "code",
   "execution_count": 3,
   "metadata": {},
   "outputs": [
    {
     "name": "stdout",
     "output_type": "stream",
     "text": [
      "  9.403 ms (200001 allocations: 21.36 MiB)\n"
     ]
    }
   ],
   "source": [
    "@btime f();"
   ]
  },
  {
   "cell_type": "markdown",
   "metadata": {},
   "source": [
    "### How to handle it? More dots or more explicity"
   ]
  },
  {
   "cell_type": "markdown",
   "metadata": {},
   "source": [
    "https://julialang.org/blog/2017/01/moredots\n",
    "\n",
    "https://github.com/JuliaLang/www.julialang.org/blob/master/blog/_posts/moredots/More-Dots.ipynb"
   ]
  },
  {
   "cell_type": "code",
   "execution_count": 4,
   "metadata": {},
   "outputs": [
    {
     "name": "stdout",
     "output_type": "stream",
     "text": [
      "  337.920 μs (1 allocation: 112 bytes)\n"
     ]
    }
   ],
   "source": [
    "function f()\n",
    "    x = [1;5;6]\n",
    "    for i in 1:100_000    \n",
    "        for k in 1:3\n",
    "            x[k] = x[k] + 2 * x[k]\n",
    "        end\n",
    "    end\n",
    "    return x\n",
    "end\n",
    "@btime f();"
   ]
  },
  {
   "cell_type": "code",
   "execution_count": 5,
   "metadata": {},
   "outputs": [
    {
     "name": "stdout",
     "output_type": "stream",
     "text": [
      "  3.740 ms (100001 allocations: 10.68 MiB)\n"
     ]
    }
   ],
   "source": [
    "function f()\n",
    "    x = [1;5;6]\n",
    "    for i in 1:100_000\n",
    "        x = x .+ 2 .* x\n",
    "    end\n",
    "    return x\n",
    "end\n",
    "@btime f();"
   ]
  },
  {
   "cell_type": "code",
   "execution_count": 6,
   "metadata": {},
   "outputs": [
    {
     "name": "stdout",
     "output_type": "stream",
     "text": [
      "  372.054 μs (1 allocation: 112 bytes)\n"
     ]
    }
   ],
   "source": [
    "function f()\n",
    "    x = [1;5;6]\n",
    "    for i in 1:100_000\n",
    "        x .= x .+ 2 .* x\n",
    "    end\n",
    "    return x\n",
    "end\n",
    "@btime f();"
   ]
  },
  {
   "cell_type": "code",
   "execution_count": 7,
   "metadata": {},
   "outputs": [
    {
     "name": "stdout",
     "output_type": "stream",
     "text": [
      "  382.720 μs (1 allocation: 112 bytes)\n"
     ]
    }
   ],
   "source": [
    "function f()\n",
    "    x = [1;5;6]\n",
    "    for i in 1:100_000\n",
    "        @. x = x + 2*x\n",
    "        # or @. x = x + 2*x\n",
    "    end\n",
    "    return x\n",
    "end\n",
    "@btime f();"
   ]
  },
  {
   "cell_type": "code",
   "execution_count": 8,
   "metadata": {},
   "outputs": [
    {
     "name": "stdout",
     "output_type": "stream",
     "text": [
      "  107.093 μs (1 allocation: 112 bytes)\n"
     ]
    }
   ],
   "source": [
    "function f()\n",
    "    x = [1;5;6]\n",
    "    @inbounds for i in 1:100_000    \n",
    "        for k in 1:3 # @simd\n",
    "            x[k] = x[k] + 2*x[k]\n",
    "        end\n",
    "    end\n",
    "    return x\n",
    "end\n",
    "@btime f();"
   ]
  },
  {
   "cell_type": "markdown",
   "metadata": {},
   "source": [
    "# Gotcha 5: Julia + MKL incompatible with PyPlot (numpy)"
   ]
  },
  {
   "cell_type": "markdown",
   "metadata": {},
   "source": [
    "https://github.com/JuliaPy/PyCall.jl/issues/443"
   ]
  },
  {
   "cell_type": "markdown",
   "metadata": {},
   "source": [
    "# Gotcha 6: Writing to global scope"
   ]
  },
  {
   "cell_type": "code",
   "execution_count": 8,
   "metadata": {},
   "outputs": [],
   "source": [
    "# Try this in the Julia REPL\n",
    "a = 0\n",
    "for i in 1:10\n",
    "    a += i\n",
    "end"
   ]
  },
  {
   "cell_type": "markdown",
   "metadata": {},
   "source": [
    "See \"official\" discussion here: https://github.com/JuliaLang/julia/issues/28789"
   ]
  },
  {
   "cell_type": "markdown",
   "metadata": {},
   "source": [
    "# Gotcha 7: Abstract fields"
   ]
  },
  {
   "cell_type": "code",
   "execution_count": 1,
   "metadata": {},
   "outputs": [],
   "source": [
    "using BenchmarkTools"
   ]
  },
  {
   "cell_type": "code",
   "execution_count": 2,
   "metadata": {},
   "outputs": [
    {
     "data": {
      "text/plain": [
       "f (generic function with 1 method)"
      ]
     },
     "execution_count": 2,
     "metadata": {},
     "output_type": "execute_result"
    }
   ],
   "source": [
    "struct A\n",
    "    x::AbstractFloat\n",
    "    y::AbstractString\n",
    "end\n",
    "\n",
    "f(a::A) = a.x * a.x"
   ]
  },
  {
   "cell_type": "code",
   "execution_count": 3,
   "metadata": {},
   "outputs": [
    {
     "name": "stdout",
     "output_type": "stream",
     "text": [
      "  16.386 ns (1 allocation: 16 bytes)\n"
     ]
    }
   ],
   "source": [
    "a = A(3.0, \"test\")\n",
    "\n",
    "@btime f($a);"
   ]
  },
  {
   "cell_type": "code",
   "execution_count": 4,
   "metadata": {},
   "outputs": [
    {
     "data": {
      "text/plain": [
       "f (generic function with 2 methods)"
      ]
     },
     "execution_count": 4,
     "metadata": {},
     "output_type": "execute_result"
    }
   ],
   "source": [
    "struct B\n",
    "    x::Float64\n",
    "    y::String\n",
    "end\n",
    "\n",
    "f(b::B) = b.x * b.x"
   ]
  },
  {
   "cell_type": "code",
   "execution_count": 5,
   "metadata": {},
   "outputs": [
    {
     "name": "stdout",
     "output_type": "stream",
     "text": [
      "  1.236 ns (0 allocations: 0 bytes)\n"
     ]
    }
   ],
   "source": [
    "b = B(3.0, \"test\")\n",
    "\n",
    "@btime f($b);"
   ]
  },
  {
   "cell_type": "markdown",
   "metadata": {},
   "source": [
    "Note that the latter implementation is **about 13x faster**!"
   ]
  },
  {
   "cell_type": "markdown",
   "metadata": {},
   "source": [
    "### How to handle it?"
   ]
  },
  {
   "cell_type": "markdown",
   "metadata": {},
   "source": [
    "But what if I want to accept any kind of `AbstractFloat` and `AbstractString` in my type?\n",
    "\n",
    "Use type parameters!"
   ]
  },
  {
   "cell_type": "code",
   "execution_count": 6,
   "metadata": {},
   "outputs": [
    {
     "data": {
      "text/plain": [
       "f (generic function with 3 methods)"
      ]
     },
     "execution_count": 6,
     "metadata": {},
     "output_type": "execute_result"
    }
   ],
   "source": [
    "struct C{F<:AbstractFloat, S<:AbstractString}\n",
    "    x::F\n",
    "    y::S\n",
    "end\n",
    "\n",
    "f(c::C) = c.x * c.x"
   ]
  },
  {
   "cell_type": "code",
   "execution_count": 7,
   "metadata": {},
   "outputs": [
    {
     "data": {
      "text/plain": [
       "C{Float64,String}(3.0, \"test\")"
      ]
     },
     "execution_count": 7,
     "metadata": {},
     "output_type": "execute_result"
    }
   ],
   "source": [
    "c = C(3.0, \"test\")"
   ]
  },
  {
   "cell_type": "markdown",
   "metadata": {},
   "source": [
    "From the type alone the compiler knows what the structure contains and can produce optimal code:"
   ]
  },
  {
   "cell_type": "code",
   "execution_count": 8,
   "metadata": {},
   "outputs": [
    {
     "name": "stdout",
     "output_type": "stream",
     "text": [
      "  1.236 ns (0 allocations: 0 bytes)\n"
     ]
    }
   ],
   "source": [
    "@btime f($c);"
   ]
  },
  {
   "cell_type": "code",
   "execution_count": 15,
   "metadata": {},
   "outputs": [
    {
     "data": {
      "text/plain": [
       "C{Float32,SubString{String}}(3.0f0, \"test\")"
      ]
     },
     "execution_count": 15,
     "metadata": {},
     "output_type": "execute_result"
    }
   ],
   "source": [
    "c = C(Float32(3.0), SubString(\"test\"))"
   ]
  },
  {
   "cell_type": "code",
   "execution_count": 16,
   "metadata": {},
   "outputs": [
    {
     "name": "stdout",
     "output_type": "stream",
     "text": [
      "  1.236 ns (0 allocations: 0 bytes)\n"
     ]
    }
   ],
   "source": [
    "@btime f($c);"
   ]
  },
  {
   "cell_type": "markdown",
   "metadata": {},
   "source": [
    "# Gotcha 8: Column major order"
   ]
  },
  {
   "cell_type": "code",
   "execution_count": 3,
   "metadata": {},
   "outputs": [
    {
     "data": {
      "text/plain": [
       "frow (generic function with 1 method)"
      ]
     },
     "execution_count": 3,
     "metadata": {},
     "output_type": "execute_result"
    }
   ],
   "source": [
    "M = rand(1000,1000);\n",
    "\n",
    "function fcol(M)\n",
    "    for col in 1:size(M, 2)\n",
    "        for row in 1:size(M, 1)\n",
    "            M[row, col] = 42\n",
    "        end\n",
    "    end\n",
    "    nothing\n",
    "end\n",
    "\n",
    "function frow(M)\n",
    "    for row in 1:size(M, 1)\n",
    "        for col in 1:size(M, 2)\n",
    "            M[row, col] = 42\n",
    "        end\n",
    "    end\n",
    "    nothing\n",
    "end"
   ]
  },
  {
   "cell_type": "code",
   "execution_count": 4,
   "metadata": {},
   "outputs": [
    {
     "name": "stdout",
     "output_type": "stream",
     "text": [
      "  396.700 μs (0 allocations: 0 bytes)\n"
     ]
    }
   ],
   "source": [
    "@btime fcol($M)"
   ]
  },
  {
   "cell_type": "code",
   "execution_count": 5,
   "metadata": {},
   "outputs": [
    {
     "name": "stdout",
     "output_type": "stream",
     "text": [
      "  1.742 ms (0 allocations: 0 bytes)\n"
     ]
    }
   ],
   "source": [
    "@btime frow($M)"
   ]
  },
  {
   "cell_type": "markdown",
   "metadata": {},
   "source": [
    "### How to handle it?"
   ]
  },
  {
   "cell_type": "markdown",
   "metadata": {},
   "source": [
    "Take care and remember: fastest varying index goes first!"
   ]
  },
  {
   "cell_type": "markdown",
   "metadata": {},
   "source": [
    "# Gotcha 9: Lazy operations"
   ]
  },
  {
   "cell_type": "code",
   "execution_count": 19,
   "metadata": {},
   "outputs": [],
   "source": [
    "using LinearAlgebra"
   ]
  },
  {
   "cell_type": "markdown",
   "metadata": {},
   "source": [
    "Let's say we want to calculate `B = A + (A' + 2*I)`."
   ]
  },
  {
   "cell_type": "code",
   "execution_count": 90,
   "metadata": {},
   "outputs": [
    {
     "data": {
      "text/plain": [
       "2×2 Array{Int64,2}:\n",
       " 4   5\n",
       " 5  10"
      ]
     },
     "execution_count": 90,
     "metadata": {},
     "output_type": "execute_result"
    }
   ],
   "source": [
    "A = [1 2; 3 4]\n",
    "A + (A' + 2*I)"
   ]
  },
  {
   "cell_type": "markdown",
   "metadata": {},
   "source": [
    "Now let's assume that, for some reason, we want to implement it more explicitly, something along the lines of"
   ]
  },
  {
   "cell_type": "code",
   "execution_count": 91,
   "metadata": {},
   "outputs": [
    {
     "data": {
      "text/plain": [
       "calc (generic function with 1 method)"
      ]
     },
     "execution_count": 91,
     "metadata": {},
     "output_type": "execute_result"
    }
   ],
   "source": [
    "function calc(A)\n",
    "    B = A'\n",
    "    B[1,1] += 2\n",
    "    B[2,2] += 2\n",
    "    A + B\n",
    "end"
   ]
  },
  {
   "cell_type": "markdown",
   "metadata": {},
   "source": [
    "Let's check for correctness."
   ]
  },
  {
   "cell_type": "code",
   "execution_count": 92,
   "metadata": {},
   "outputs": [
    {
     "data": {
      "text/plain": [
       "false"
      ]
     },
     "execution_count": 92,
     "metadata": {},
     "output_type": "execute_result"
    }
   ],
   "source": [
    "calc([1 2; 3 4]) == A + (A' + 2*I)"
   ]
  },
  {
   "cell_type": "markdown",
   "metadata": {},
   "source": [
    "Somehow it's not correct! **Why?**"
   ]
  },
  {
   "cell_type": "code",
   "execution_count": null,
   "metadata": {},
   "outputs": [],
   "source": []
  },
  {
   "cell_type": "code",
   "execution_count": null,
   "metadata": {},
   "outputs": [],
   "source": []
  },
  {
   "cell_type": "code",
   "execution_count": null,
   "metadata": {},
   "outputs": [],
   "source": []
  },
  {
   "cell_type": "code",
   "execution_count": null,
   "metadata": {},
   "outputs": [],
   "source": []
  },
  {
   "cell_type": "code",
   "execution_count": null,
   "metadata": {},
   "outputs": [],
   "source": []
  },
  {
   "cell_type": "code",
   "execution_count": null,
   "metadata": {},
   "outputs": [],
   "source": []
  },
  {
   "cell_type": "code",
   "execution_count": null,
   "metadata": {},
   "outputs": [],
   "source": []
  },
  {
   "cell_type": "code",
   "execution_count": null,
   "metadata": {},
   "outputs": [],
   "source": []
  },
  {
   "cell_type": "code",
   "execution_count": null,
   "metadata": {},
   "outputs": [],
   "source": []
  },
  {
   "cell_type": "markdown",
   "metadata": {},
   "source": [
    "### How to solve this?"
   ]
  },
  {
   "cell_type": "markdown",
   "metadata": {},
   "source": [
    "The \"issue\" is that `A'` makes a lazy adjoint of `A`. It is just another way of looking at the same piece of memory! Hence, when we do `B[1,1] += 1` we are actually changing `A`, leading to a wrong result. We can heal this by enforcing a `copy`:"
   ]
  },
  {
   "cell_type": "code",
   "execution_count": 93,
   "metadata": {},
   "outputs": [
    {
     "data": {
      "text/plain": [
       "calc_corrected (generic function with 1 method)"
      ]
     },
     "execution_count": 93,
     "metadata": {},
     "output_type": "execute_result"
    }
   ],
   "source": [
    "function calc_corrected(A)\n",
    "    B = copy(A')\n",
    "    B[diagind(B)] .+= 2\n",
    "    A + B\n",
    "end"
   ]
  },
  {
   "cell_type": "code",
   "execution_count": 94,
   "metadata": {},
   "outputs": [
    {
     "data": {
      "text/plain": [
       "true"
      ]
     },
     "execution_count": 94,
     "metadata": {},
     "output_type": "execute_result"
    }
   ],
   "source": [
    "calc_corrected([1 2; 3 4]) == A + (A' + 2*I)"
   ]
  },
  {
   "cell_type": "markdown",
   "metadata": {},
   "source": [
    "This isn't really an issue. In fact, this lazyness (+ allocation free identity matrix) is precisley the reason why the straightforward solution is fast!"
   ]
  },
  {
   "cell_type": "code",
   "execution_count": 96,
   "metadata": {},
   "outputs": [
    {
     "name": "stdout",
     "output_type": "stream",
     "text": [
      "  50.644 ns (2 allocations: 128 bytes)\n",
      "  166.198 ns (5 allocations: 400 bytes)\n",
      "  87.744 ns (3 allocations: 240 bytes)\n"
     ]
    }
   ],
   "source": [
    "using BenchmarkTools\n",
    "\n",
    "function calc_straightforward(A)\n",
    "    A + (A' + 2*I)\n",
    "end\n",
    "\n",
    "@btime calc($[1 2; 3 4]);\n",
    "@btime calc_corrected($[1 2; 3 4]);\n",
    "@btime calc_straightforward($[1 2; 3 4]);"
   ]
  },
  {
   "cell_type": "markdown",
   "metadata": {},
   "source": [
    "Compare this to Julia v0.6:\n",
    "\n",
    "```julia\n",
    "using BenchmarkTools\n",
    "A = [1 2; 3 4]\n",
    "function calc_straightforward(A)\n",
    "    A + (A' + 2*I)\n",
    "end\n",
    "```\n",
    "\n",
    "which gives (on the same machine):\n",
    "\n",
    "```julia\n",
    "julia> @btime calc_straightforward($[1 2; 3 4]);\n",
    "  115.817 ns (3 allocations: 336 bytes)\n",
    "```"
   ]
  },
  {
   "cell_type": "markdown",
   "metadata": {},
   "source": [
    "# Tipp: Comprehensions and Generators"
   ]
  },
  {
   "cell_type": "markdown",
   "metadata": {},
   "source": [
    "Comprehensions: https://docs.julialang.org/en/stable/manual/arrays/#Comprehensions-1\n",
    "\n",
    "Generators: https://docs.julialang.org/en/stable/manual/arrays/#Generator-Expressions-1"
   ]
  },
  {
   "cell_type": "code",
   "execution_count": 6,
   "metadata": {},
   "outputs": [
    {
     "data": {
      "text/plain": [
       "55"
      ]
     },
     "execution_count": 6,
     "metadata": {},
     "output_type": "execute_result"
    }
   ],
   "source": [
    "sum([k for k in 1:10])"
   ]
  },
  {
   "cell_type": "code",
   "execution_count": 7,
   "metadata": {},
   "outputs": [
    {
     "data": {
      "text/plain": [
       "55"
      ]
     },
     "execution_count": 7,
     "metadata": {},
     "output_type": "execute_result"
    }
   ],
   "source": [
    "sum(k for k in 1:10)"
   ]
  },
  {
   "cell_type": "code",
   "execution_count": 19,
   "metadata": {},
   "outputs": [
    {
     "data": {
      "text/plain": [
       "Base.Generator{UnitRange{Int64},getfield(Main, Symbol(\"##27#28\"))}"
      ]
     },
     "execution_count": 19,
     "metadata": {},
     "output_type": "execute_result"
    }
   ],
   "source": [
    "typeof(k for k in 1:10)"
   ]
  },
  {
   "cell_type": "markdown",
   "metadata": {},
   "source": [
    "Does it matter?"
   ]
  },
  {
   "cell_type": "code",
   "execution_count": 9,
   "metadata": {},
   "outputs": [
    {
     "name": "stdout",
     "output_type": "stream",
     "text": [
      "  35.556 ns (1 allocation: 160 bytes)\n",
      "  2.782 ns (0 allocations: 0 bytes)\n"
     ]
    }
   ],
   "source": [
    "using BenchmarkTools\n",
    "\n",
    "@btime sum([k for k in 1:10]);\n",
    "@btime sum(k for k in 1:10);"
   ]
  },
  {
   "cell_type": "code",
   "execution_count": 51,
   "metadata": {},
   "outputs": [
    {
     "data": {
      "text/plain": [
       "36-element Array{Int64,1}:\n",
       "  1\n",
       "  2\n",
       "  3\n",
       "  4\n",
       "  5\n",
       "  6\n",
       "  7\n",
       "  8\n",
       "  2\n",
       "  4\n",
       "  6\n",
       "  8\n",
       " 10\n",
       "  ⋮\n",
       " 16\n",
       " 20\n",
       "  5\n",
       " 10\n",
       " 15\n",
       " 20\n",
       "  6\n",
       " 12\n",
       " 18\n",
       "  7\n",
       " 14\n",
       "  8"
      ]
     },
     "execution_count": 51,
     "metadata": {},
     "output_type": "execute_result"
    }
   ],
   "source": [
    "collect(k*i for k in 1:10 for i in 1:10 if i+k < 10) # collecting values of a generator (iteratable)"
   ]
  },
  {
   "cell_type": "code",
   "execution_count": 62,
   "metadata": {},
   "outputs": [
    {
     "data": {
      "text/plain": [
       "36-element Array{Tuple{Int64,String},1}:\n",
       " (1, \"XXT2WMSO\") \n",
       " (2, \"Pku4fULM\") \n",
       " (3, \"dY64oJWH\") \n",
       " (4, \"JLDAkNaz\") \n",
       " (5, \"X44wColb\") \n",
       " (6, \"A1f4A0Dk\") \n",
       " (7, \"lBMpw86v\") \n",
       " (8, \"wqKGkL5s\") \n",
       " (2, \"7MBmEB7H\") \n",
       " (4, \"X8cfm8wr\") \n",
       " (6, \"NxA9bh5q\") \n",
       " (8, \"0dEmtida\") \n",
       " (10, \"yhw33Hzg\")\n",
       " ⋮               \n",
       " (16, \"cn3EIBo9\")\n",
       " (20, \"KGgxeoyC\")\n",
       " (5, \"bjycWO9J\") \n",
       " (10, \"CQ7pw2Zh\")\n",
       " (15, \"ByYEJY0C\")\n",
       " (20, \"7kIXamKO\")\n",
       " (6, \"DLW4AOhd\") \n",
       " (12, \"Db4WL3vh\")\n",
       " (18, \"M4sLfZbC\")\n",
       " (7, \"BpUbOGkB\") \n",
       " (14, \"6PoD345Z\")\n",
       " (8, \"OVnU9Ov9\") "
      ]
     },
     "execution_count": 62,
     "metadata": {},
     "output_type": "execute_result"
    }
   ],
   "source": [
    "# convoluted example\n",
    "using Random\n",
    "map(tuple, (k*i for k in 1:10 for i in 1:10 if i+k < 10), (randstring() for i in 1:36))"
   ]
  },
  {
   "cell_type": "markdown",
   "metadata": {},
   "source": [
    "# Tipp: Allocation free sum of absolute squared values"
   ]
  },
  {
   "cell_type": "code",
   "execution_count": 72,
   "metadata": {},
   "outputs": [],
   "source": [
    "x = rand(100_000);"
   ]
  },
  {
   "cell_type": "code",
   "execution_count": 85,
   "metadata": {},
   "outputs": [
    {
     "data": {
      "text/plain": [
       "33403.3388731547"
      ]
     },
     "execution_count": 85,
     "metadata": {},
     "output_type": "execute_result"
    }
   ],
   "source": [
    "sum(abs2.(x))"
   ]
  },
  {
   "cell_type": "code",
   "execution_count": 83,
   "metadata": {},
   "outputs": [
    {
     "name": "stdout",
     "output_type": "stream",
     "text": [
      "  64.309 μs (2 allocations: 781.33 KiB)\n",
      "  12.676 μs (0 allocations: 0 bytes)\n"
     ]
    },
    {
     "data": {
      "text/plain": [
       "33403.33887315471"
      ]
     },
     "execution_count": 83,
     "metadata": {},
     "output_type": "execute_result"
    }
   ],
   "source": [
    "using BenchmarkTools\n",
    "\n",
    "@btime sum(abs2.($x))\n",
    "@btime sum(abs2, $x) # avoids temporary allocations"
   ]
  },
  {
   "cell_type": "code",
   "execution_count": 92,
   "metadata": {},
   "outputs": [
    {
     "name": "stdout",
     "output_type": "stream",
     "text": [
      "  11.748 μs (0 allocations: 0 bytes)\n"
     ]
    },
    {
     "data": {
      "text/plain": [
       "33403.33887315469"
      ]
     },
     "execution_count": 92,
     "metadata": {},
     "output_type": "execute_result"
    }
   ],
   "source": [
    "# But we are working in Julia, so explicit implementations are fast!\n",
    "function sumabs2(x)\n",
    "    r = zero(eltype(x))\n",
    "    @simd for i in 1:length(x)\n",
    "        @inbounds r += x[i]^2\n",
    "    end\n",
    "    r\n",
    "end\n",
    "\n",
    "@btime sumabs2($x)"
   ]
  }
 ],
 "metadata": {
  "kernelspec": {
   "display_name": "Julia 1.1.0",
   "language": "julia",
   "name": "julia-1.1"
  },
  "language_info": {
   "file_extension": ".jl",
   "mimetype": "application/julia",
   "name": "julia",
   "version": "1.1.0"
  }
 },
 "nbformat": 4,
 "nbformat_minor": 2
}
