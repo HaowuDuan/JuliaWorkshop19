{
 "cells": [
  {
   "cell_type": "markdown",
   "metadata": {},
   "source": [
    "# Generic programming"
   ]
  },
  {
   "cell_type": "markdown",
   "metadata": {},
   "source": [
    "From [Wikipedia](https://en.wikipedia.org/wiki/Generic_programming):\n",
    "> **Generic programming** is a style of computer programming in which algorithms are written in terms of types *to-be-specified-later* that are then *instantiated* when needed for specific types provided as parameters."
   ]
  },
  {
   "cell_type": "markdown",
   "metadata": {},
   "source": [
    "# Example: Vandermonde matrix (revisited)"
   ]
  },
  {
   "cell_type": "markdown",
   "metadata": {},
   "source": [
    "[Vandermonde matrix:](https://en.wikipedia.org/wiki/Vandermonde_matrix)\n",
    "\\begin{align}V=\\begin{bmatrix}1&\\alpha _{1}&\\alpha _{1}^{2}&\\dots &\\alpha _{1}^{n-1}\\\\1&\\alpha _{2}&\\alpha _{2}^{2}&\\dots &\\alpha _{2}^{n-1}\\\\1&\\alpha _{3}&\\alpha _{3}^{2}&\\dots &\\alpha _{3}^{n-1}\\\\\\vdots &\\vdots &\\vdots &\\ddots &\\vdots \\\\1&\\alpha _{m}&\\alpha _{m}^{2}&\\dots &\\alpha _{m}^{n-1}\\end{bmatrix}\\end{align}"
   ]
  },
  {
   "cell_type": "markdown",
   "metadata": {},
   "source": [
    "### Keep function argument types generic if possible"
   ]
  },
  {
   "cell_type": "code",
   "execution_count": 1,
   "metadata": {},
   "outputs": [
    {
     "data": {
      "text/plain": [
       "vander_naive (generic function with 1 method)"
      ]
     },
     "execution_count": 1,
     "metadata": {},
     "output_type": "execute_result"
    }
   ],
   "source": [
    "function vander_naive(x::Vector)\n",
    "    m = length(x)\n",
    "    V = Matrix{Float64}(undef, m, m)\n",
    "    for j = 1:m\n",
    "        V[j,1] = 1.0\n",
    "    end\n",
    "    for i= 2:m\n",
    "        for j = 1:m\n",
    "            V[j,i] = x[j] * V[j,i-1]\n",
    "            end\n",
    "        end\n",
    "    return V\n",
    "end"
   ]
  },
  {
   "cell_type": "code",
   "execution_count": 2,
   "metadata": {},
   "outputs": [
    {
     "data": {
      "text/plain": [
       "3×3 Array{Float64,2}:\n",
       " 1.0  0.466747  0.217853 \n",
       " 1.0  0.238828  0.0570387\n",
       " 1.0  0.548007  0.300311 "
      ]
     },
     "execution_count": 2,
     "metadata": {},
     "output_type": "execute_result"
    }
   ],
   "source": [
    "x = rand(3)\n",
    "vander_naive(x)"
   ]
  },
  {
   "cell_type": "code",
   "execution_count": 3,
   "metadata": {},
   "outputs": [
    {
     "ename": "MethodError",
     "evalue": "MethodError: no method matching vander_naive(::UnitRange{Int64})\nClosest candidates are:\n  vander_naive(!Matched::Array{T,1} where T) at In[1]:2",
     "output_type": "error",
     "traceback": [
      "MethodError: no method matching vander_naive(::UnitRange{Int64})\nClosest candidates are:\n  vander_naive(!Matched::Array{T,1} where T) at In[1]:2",
      "",
      "Stacktrace:",
      " [1] top-level scope at In[3]:1"
     ]
    }
   ],
   "source": [
    "vander_naive(1:3)"
   ]
  },
  {
   "cell_type": "code",
   "execution_count": 4,
   "metadata": {},
   "outputs": [
    {
     "ename": "MethodError",
     "evalue": "MethodError: no method matching vander_naive(::SubArray{Float64,1,Array{Float64,1},Tuple{UnitRange{Int64}},true})\nClosest candidates are:\n  vander_naive(!Matched::Array{T,1} where T) at In[1]:2",
     "output_type": "error",
     "traceback": [
      "MethodError: no method matching vander_naive(::SubArray{Float64,1,Array{Float64,1},Tuple{UnitRange{Int64}},true})\nClosest candidates are:\n  vander_naive(!Matched::Array{T,1} where T) at In[1]:2",
      "",
      "Stacktrace:",
      " [1] top-level scope at In[4]:1"
     ]
    }
   ],
   "source": [
    "vander_naive(@view x[1:3])"
   ]
  },
  {
   "cell_type": "markdown",
   "metadata": {},
   "source": [
    "The annotation `::Vector` in the the function signature is unnecessarily specific."
   ]
  },
  {
   "cell_type": "code",
   "execution_count": 5,
   "metadata": {},
   "outputs": [
    {
     "data": {
      "text/plain": [
       "vander_naive (generic function with 2 methods)"
      ]
     },
     "execution_count": 5,
     "metadata": {},
     "output_type": "execute_result"
    }
   ],
   "source": [
    "function vander_naive(x::AbstractVector)\n",
    "    m = length(x)\n",
    "    V = Matrix{Float64}(undef, m, m)\n",
    "    for j = 1:m\n",
    "        V[j,1] = 1.0\n",
    "    end\n",
    "    for i= 2:m\n",
    "        for j = 1:m\n",
    "            V[j,i] = x[j] * V[j,i-1]\n",
    "            end\n",
    "        end\n",
    "    return V\n",
    "end"
   ]
  },
  {
   "cell_type": "code",
   "execution_count": 6,
   "metadata": {},
   "outputs": [
    {
     "data": {
      "text/plain": [
       "3×3 Array{Float64,2}:\n",
       " 1.0  1.0  1.0\n",
       " 1.0  2.0  4.0\n",
       " 1.0  3.0  9.0"
      ]
     },
     "execution_count": 6,
     "metadata": {},
     "output_type": "execute_result"
    }
   ],
   "source": [
    "vander_naive(1:3)"
   ]
  },
  {
   "cell_type": "code",
   "execution_count": 7,
   "metadata": {},
   "outputs": [
    {
     "data": {
      "text/plain": [
       "3×3 Array{Float64,2}:\n",
       " 1.0  0.466747  0.217853 \n",
       " 1.0  0.238828  0.0570387\n",
       " 1.0  0.548007  0.300311 "
      ]
     },
     "execution_count": 7,
     "metadata": {},
     "output_type": "execute_result"
    }
   ],
   "source": [
    "vander_naive(@view x[1:3])"
   ]
  },
  {
   "cell_type": "markdown",
   "metadata": {},
   "source": [
    "### Avoid explicit typing if possible"
   ]
  },
  {
   "cell_type": "code",
   "execution_count": 8,
   "metadata": {},
   "outputs": [
    {
     "data": {
      "text/plain": [
       "3×3 Array{Float64,2}:\n",
       " 1.0  1.0  1.0\n",
       " 1.0  2.0  4.0\n",
       " 1.0  3.0  9.0"
      ]
     },
     "execution_count": 8,
     "metadata": {},
     "output_type": "execute_result"
    }
   ],
   "source": [
    "vander_naive([1,2,3])"
   ]
  },
  {
   "cell_type": "markdown",
   "metadata": {},
   "source": [
    "Why is the result a matrix of floating point numbers....?\n",
    "\n",
    "Even worse:"
   ]
  },
  {
   "cell_type": "code",
   "execution_count": 9,
   "metadata": {},
   "outputs": [
    {
     "ename": "InexactError",
     "evalue": "InexactError: Float64(0.8522210587496153 + 0.4291379124171282im)",
     "output_type": "error",
     "traceback": [
      "InexactError: Float64(0.8522210587496153 + 0.4291379124171282im)",
      "",
      "Stacktrace:",
      " [1] vander_naive(::Array{Complex{Float64},1}) at .\\complex.jl:37",
      " [2] top-level scope at In[9]:1"
     ]
    }
   ],
   "source": [
    "vander_naive(rand(ComplexF64, 3))"
   ]
  },
  {
   "cell_type": "markdown",
   "metadata": {},
   "source": [
    "We can easily cover those cases as well by only slightly modifying our code."
   ]
  },
  {
   "cell_type": "code",
   "execution_count": 10,
   "metadata": {},
   "outputs": [
    {
     "data": {
      "text/plain": [
       "vander_almost_generic (generic function with 1 method)"
      ]
     },
     "execution_count": 10,
     "metadata": {},
     "output_type": "execute_result"
    }
   ],
   "source": [
    "function vander_almost_generic(x::AbstractVector)\n",
    "    T = eltype(x)\n",
    "    m = length(x)\n",
    "    V = Matrix{T}(undef, m, m)\n",
    "    for j = 1:m\n",
    "        V[j,1] = 1.0\n",
    "    end\n",
    "    for i= 2:m\n",
    "        for j = 1:m\n",
    "            V[j,i] = x[j] * V[j,i-1]\n",
    "            end\n",
    "        end\n",
    "    return V\n",
    "end"
   ]
  },
  {
   "cell_type": "code",
   "execution_count": 11,
   "metadata": {},
   "outputs": [
    {
     "data": {
      "text/plain": [
       "3×3 Array{Int64,2}:\n",
       " 1  1  1\n",
       " 1  2  4\n",
       " 1  3  9"
      ]
     },
     "execution_count": 11,
     "metadata": {},
     "output_type": "execute_result"
    }
   ],
   "source": [
    "vander_almost_generic([1,2,3])"
   ]
  },
  {
   "cell_type": "code",
   "execution_count": 12,
   "metadata": {},
   "outputs": [
    {
     "data": {
      "text/plain": [
       "3×3 Array{Complex{Float64},2}:\n",
       " 1.0+0.0im   0.818239+0.453931im      0.46346+0.742848im  \n",
       " 1.0+0.0im   0.265932+0.00817598im  0.0706529+0.00434851im\n",
       " 1.0+0.0im  0.0404592+0.954156im    -0.908777+0.0772088im "
      ]
     },
     "execution_count": 12,
     "metadata": {},
     "output_type": "execute_result"
    }
   ],
   "source": [
    "vander_almost_generic(rand(ComplexF64, 3))"
   ]
  },
  {
   "cell_type": "code",
   "execution_count": 13,
   "metadata": {},
   "outputs": [
    {
     "ename": "MethodError",
     "evalue": "MethodError: Cannot `convert` an object of type Float64 to an object of type String\nClosest candidates are:\n  convert(::Type{T<:AbstractString}, !Matched::T<:AbstractString) where T<:AbstractString at strings/basic.jl:207\n  convert(::Type{T<:AbstractString}, !Matched::AbstractString) where T<:AbstractString at strings/basic.jl:208\n  convert(::Type{T}, !Matched::T) where T at essentials.jl:154",
     "output_type": "error",
     "traceback": [
      "MethodError: Cannot `convert` an object of type Float64 to an object of type String\nClosest candidates are:\n  convert(::Type{T<:AbstractString}, !Matched::T<:AbstractString) where T<:AbstractString at strings/basic.jl:207\n  convert(::Type{T<:AbstractString}, !Matched::AbstractString) where T<:AbstractString at strings/basic.jl:208\n  convert(::Type{T}, !Matched::T) where T at essentials.jl:154",
      "",
      "Stacktrace:",
      " [1] setindex! at .\\array.jl:769 [inlined]",
      " [2] vander_almost_generic(::Array{String,1}) at .\\In[10]:6",
      " [3] top-level scope at In[13]:1"
     ]
    }
   ],
   "source": [
    "vander_almost_generic([\"Stadt\", \"Land\", \"Fluss\"])"
   ]
  },
  {
   "cell_type": "code",
   "execution_count": 14,
   "metadata": {},
   "outputs": [
    {
     "data": {
      "text/plain": [
       "vander_generic (generic function with 1 method)"
      ]
     },
     "execution_count": 14,
     "metadata": {},
     "output_type": "execute_result"
    }
   ],
   "source": [
    "function vander_generic(x::AbstractVector{T}) where T\n",
    "    m = length(x)\n",
    "    V = Matrix{T}(undef, m, m)\n",
    "    for j = 1:m\n",
    "        V[j,1] = one(T)\n",
    "    end\n",
    "    for i= 2:m\n",
    "        for j = 1:m\n",
    "            V[j,i] = x[j] * V[j,i-1]\n",
    "            end\n",
    "        end\n",
    "    return V\n",
    "end"
   ]
  },
  {
   "cell_type": "code",
   "execution_count": 15,
   "metadata": {},
   "outputs": [
    {
     "data": {
      "text/plain": [
       "3×3 Array{String,2}:\n",
       " \"\"  \"Stadt\"  \"StadtStadt\"\n",
       " \"\"  \"Land\"   \"LandLand\"  \n",
       " \"\"  \"Fluss\"  \"FlussFluss\""
      ]
     },
     "execution_count": 15,
     "metadata": {},
     "output_type": "execute_result"
    }
   ],
   "source": [
    "vander_generic([\"Stadt\", \"Land\", \"Fluss\"])"
   ]
  },
  {
   "cell_type": "markdown",
   "metadata": {},
   "source": [
    "One more level of generality, just because we can. :)"
   ]
  },
  {
   "cell_type": "code",
   "execution_count": 16,
   "metadata": {},
   "outputs": [
    {
     "ename": "MethodError",
     "evalue": "MethodError: no method matching one(::Type{Any})\nClosest candidates are:\n  one(::Type{Union{Missing, T}}) where T at missing.jl:87\n  one(!Matched::Missing) at missing.jl:83\n  one(!Matched::BitArray{2}) at bitarray.jl:400\n  ...",
     "output_type": "error",
     "traceback": [
      "MethodError: no method matching one(::Type{Any})\nClosest candidates are:\n  one(::Type{Union{Missing, T}}) where T at missing.jl:87\n  one(!Matched::Missing) at missing.jl:83\n  one(!Matched::BitArray{2}) at bitarray.jl:400\n  ...",
      "",
      "Stacktrace:",
      " [1] one(::Type{Any}) at .\\missing.jl:87",
      " [2] vander_generic(::Array{Any,1}) at .\\In[14]:5",
      " [3] top-level scope at In[16]:1"
     ]
    }
   ],
   "source": [
    "vander_generic([3, \"Stadt\", 4 + 5im])"
   ]
  },
  {
   "cell_type": "code",
   "execution_count": 17,
   "metadata": {},
   "outputs": [
    {
     "data": {
      "text/plain": [
       "vander_supergeneric (generic function with 1 method)"
      ]
     },
     "execution_count": 17,
     "metadata": {},
     "output_type": "execute_result"
    }
   ],
   "source": [
    "function vander_supergeneric(x::AbstractVector{T}) where T\n",
    "    m = length(x)\n",
    "    V = Matrix{T}(undef, m, m)\n",
    "    for j = 1:m\n",
    "        V[j,1] = one(x[j])\n",
    "    end\n",
    "    for i= 2:m\n",
    "        for j = 1:m\n",
    "            V[j,i] = x[j] * V[j,i-1]\n",
    "            end\n",
    "        end\n",
    "    return V\n",
    "end"
   ]
  },
  {
   "cell_type": "code",
   "execution_count": 18,
   "metadata": {},
   "outputs": [
    {
     "data": {
      "text/plain": [
       "3×3 Array{Any,2}:\n",
       "  1      3           9            \n",
       "   \"\"     \"Stadt\"     \"StadtStadt\"\n",
       " 1+0im  4+5im      -9+40im        "
      ]
     },
     "execution_count": 18,
     "metadata": {},
     "output_type": "execute_result"
    }
   ],
   "source": [
    "vander_supergeneric([3, \"Stadt\", 4 + 5im])"
   ]
  },
  {
   "cell_type": "markdown",
   "metadata": {},
   "source": [
    "### And all of this comes at no performance penality"
   ]
  },
  {
   "cell_type": "code",
   "execution_count": 68,
   "metadata": {},
   "outputs": [],
   "source": [
    "using BenchmarkTools"
   ]
  },
  {
   "cell_type": "code",
   "execution_count": 126,
   "metadata": {},
   "outputs": [
    {
     "name": "stdout",
     "output_type": "stream",
     "text": [
      "  7.375 μs (2 allocations: 78.20 KiB)\n",
      "  7.175 μs (2 allocations: 78.20 KiB)\n"
     ]
    }
   ],
   "source": [
    "x = rand(Float64, 100);\n",
    "@btime vander_naive($x);\n",
    "@btime vander_supergeneric($x);"
   ]
  },
  {
   "cell_type": "markdown",
   "metadata": {},
   "source": [
    "Actually, for this specific example **our generic code is faster** in a few cases inasmuch as type conversions are unnecessary."
   ]
  },
  {
   "cell_type": "code",
   "execution_count": 85,
   "metadata": {},
   "outputs": [
    {
     "name": "stdout",
     "output_type": "stream",
     "text": [
      "  7.799 μs (2 allocations: 78.20 KiB)\n",
      "  7.025 μs (2 allocations: 78.20 KiB)\n"
     ]
    }
   ],
   "source": [
    "x = rand(Int, 100);\n",
    "@btime vander_naive($x);\n",
    "@btime vander_supergeneric($x);"
   ]
  },
  {
   "cell_type": "code",
   "execution_count": 87,
   "metadata": {},
   "outputs": [
    {
     "name": "stdout",
     "output_type": "stream",
     "text": [
      "  8.800 μs (2 allocations: 78.20 KiB)\n",
      "  6.420 μs (1 allocation: 9.94 KiB)\n"
     ]
    }
   ],
   "source": [
    "x = rand(Bool, 100);\n",
    "@btime vander_naive($x);\n",
    "@btime vander_supergeneric($x);"
   ]
  },
  {
   "cell_type": "markdown",
   "metadata": {},
   "source": [
    "On the other hand, sometimes it is worth converting to a different type to dispatch to a faster method or to utilize magic like compiler optimizations."
   ]
  },
  {
   "cell_type": "code",
   "execution_count": 90,
   "metadata": {},
   "outputs": [
    {
     "name": "stdout",
     "output_type": "stream",
     "text": [
      "  7.833 μs (2 allocations: 78.20 KiB)\n",
      "  22.000 μs (2 allocations: 39.14 KiB)\n"
     ]
    }
   ],
   "source": [
    "x = rand(Float32, 100);\n",
    "@btime vander_naive($x);\n",
    "@btime vander_supergeneric($x);"
   ]
  },
  {
   "cell_type": "markdown",
   "metadata": {},
   "source": [
    "# Arbitrary precision computations"
   ]
  },
  {
   "cell_type": "markdown",
   "metadata": {},
   "source": [
    "Let's say you have implemented the following crazily complex physics code as part of your thesis project which takes in a number and spits out the answer to life, the universe, and everything."
   ]
  },
  {
   "cell_type": "code",
   "execution_count": 13,
   "metadata": {},
   "outputs": [
    {
     "data": {
      "text/plain": [
       "answer_to_life_universe_and_everything (generic function with 1 method)"
      ]
     },
     "execution_count": 13,
     "metadata": {},
     "output_type": "execute_result"
    }
   ],
   "source": [
    "function answer_to_life_universe_and_everything(x::Integer)\n",
    "    m = sin((2*x)^100)\n",
    "    c = 42\n",
    "    E = m*c^2\n",
    "    a = sqrt(abs(E))\n",
    "    b = atan(m)\n",
    "    c = a^2 + b^2\n",
    "    answer = sqrt(1764)/(1+exp(-c))\n",
    "end"
   ]
  },
  {
   "cell_type": "code",
   "execution_count": 16,
   "metadata": {},
   "outputs": [
    {
     "data": {
      "text/plain": [
       "21.0"
      ]
     },
     "execution_count": 16,
     "metadata": {},
     "output_type": "execute_result"
    }
   ],
   "source": [
    "answer_to_life_universe_and_everything(2)"
   ]
  },
  {
   "cell_type": "markdown",
   "metadata": {},
   "source": [
    "Alright, apparently the answer is 21!\n",
    "\n",
    "The author: \"I checked the code multiple times, it is correct. So let's publish.\""
   ]
  },
  {
   "cell_type": "markdown",
   "metadata": {},
   "source": [
    "Without changing a line of code we can check the *correctness* (in the numerical sense) of our result using [arbitrary precision arithmetics](https://docs.julialang.org/en/latest/manual/integers-and-floating-point-numbers/#Arbitrary-Precision-Arithmetic-1)."
   ]
  },
  {
   "cell_type": "code",
   "execution_count": 20,
   "metadata": {},
   "outputs": [
    {
     "data": {
      "text/plain": [
       "2"
      ]
     },
     "execution_count": 20,
     "metadata": {},
     "output_type": "execute_result"
    }
   ],
   "source": [
    "big(2)"
   ]
  },
  {
   "cell_type": "code",
   "execution_count": 21,
   "metadata": {},
   "outputs": [
    {
     "data": {
      "text/plain": [
       "BigInt"
      ]
     },
     "execution_count": 21,
     "metadata": {},
     "output_type": "execute_result"
    }
   ],
   "source": [
    "typeof(big(2))"
   ]
  },
  {
   "cell_type": "code",
   "execution_count": 22,
   "metadata": {},
   "outputs": [
    {
     "data": {
      "text/plain": [
       "42.0"
      ]
     },
     "execution_count": 22,
     "metadata": {},
     "output_type": "execute_result"
    }
   ],
   "source": [
    "answer_to_life_universe_and_everything(big(2))"
   ]
  },
  {
   "cell_type": "markdown",
   "metadata": {},
   "source": [
    "# Let's get a bit more fancy!"
   ]
  },
  {
   "cell_type": "code",
   "execution_count": 7,
   "metadata": {},
   "outputs": [],
   "source": [
    "using Interact"
   ]
  },
  {
   "cell_type": "code",
   "execution_count": 8,
   "metadata": {},
   "outputs": [
    {
     "data": {
      "application/vnd.webio.node+json": {
       "children": [
        {
         "children": [
          {
           "children": [
            {
             "children": [
              {
               "children": [
                {
                 "children": [
                  "n"
                 ],
                 "instanceArgs": {
                  "namespace": "html",
                  "tag": "label"
                 },
                 "nodeType": "DOM",
                 "props": {
                  "className": "interact ",
                  "style": {
                   "padding": "5px 10px 0px 10px"
                  }
                 },
                 "type": "node"
                }
               ],
               "instanceArgs": {
                "namespace": "html",
                "tag": "div"
               },
               "nodeType": "DOM",
               "props": {
                "className": "interact-flex-row-left"
               },
               "type": "node"
              },
              {
               "children": [
                {
                 "children": [],
                 "instanceArgs": {
                  "namespace": "html",
                  "tag": "input"
                 },
                 "nodeType": "DOM",
                 "props": {
                  "attributes": {
                   "data-bind": "numericValue: index, valueUpdate: 'input', event: {change: function (){this.changes(this.changes()+1)}}",
                   "orient": "horizontal",
                   "type": "range"
                  },
                  "className": "slider slider is-fullwidth",
                  "max": 20,
                  "min": 1,
                  "step": 1,
                  "style": {}
                 },
                 "type": "node"
                }
               ],
               "instanceArgs": {
                "namespace": "html",
                "tag": "div"
               },
               "nodeType": "DOM",
               "props": {
                "className": "interact-flex-row-center"
               },
               "type": "node"
              },
              {
               "children": [
                {
                 "children": [],
                 "instanceArgs": {
                  "namespace": "html",
                  "tag": "p"
                 },
                 "nodeType": "DOM",
                 "props": {
                  "attributes": {
                   "data-bind": "text: formatted_val"
                  }
                 },
                 "type": "node"
                }
               ],
               "instanceArgs": {
                "namespace": "html",
                "tag": "div"
               },
               "nodeType": "DOM",
               "props": {
                "className": "interact-flex-row-right"
               },
               "type": "node"
              }
             ],
             "instanceArgs": {
              "namespace": "html",
              "tag": "div"
             },
             "nodeType": "DOM",
             "props": {
              "className": "interact-flex-row interact-widget"
             },
             "type": "node"
            }
           ],
           "instanceArgs": {
            "handlers": {
             "changes": [
              "(function (val){return (val!=this.model[\"changes\"]()) ? (this.valueFromJulia[\"changes\"]=true, this.model[\"changes\"](val)) : undefined})"
             ],
             "index": [
              "(function (val){return (val!=this.model[\"index\"]()) ? (this.valueFromJulia[\"index\"]=true, this.model[\"index\"](val)) : undefined})"
             ]
            },
            "id": "16046535947080228328",
            "imports": {
             "data": [
              {
               "name": "knockout",
               "type": "js",
               "url": "/assetserver/06b5713f7394e9c781d3d3143d6fd532e7f814ce-knockout.js"
              },
              {
               "name": "knockout_punches",
               "type": "js",
               "url": "/assetserver/695de4db56dde9805b672fe778fb2fc752e9b632-knockout_punches.js"
              },
              {
               "name": null,
               "type": "js",
               "url": "/assetserver/cd9cf93729ff320de8d59972e501bc7581ce199e-all.js"
              },
              {
               "name": null,
               "type": "css",
               "url": "/assetserver/2dd5b4483a1ad2cfea2512179b895d21de762858-style.css"
              },
              {
               "name": null,
               "type": "css",
               "url": "/assetserver/4a166f7fd21f97b78604bf0dafec2fdf4c488adb-bulma_confined.min.css"
              }
             ],
             "type": "async_block"
            },
            "mount_callbacks": [
             "function () {\n    var handler = (function (ko, koPunches) {\n    ko.punches.enableAll();\n    ko.bindingHandlers.numericValue = {\n        init: function(element, valueAccessor, allBindings, data, context) {\n            var stringified = ko.observable(ko.unwrap(valueAccessor()));\n            stringified.subscribe(function(value) {\n                var val = parseFloat(value);\n                if (!isNaN(val)) {\n                    valueAccessor()(val);\n                }\n            });\n            valueAccessor().subscribe(function(value) {\n                var str = JSON.stringify(value);\n                if ((str == \"0\") && ([\"-0\", \"-0.\"].indexOf(stringified()) >= 0))\n                     return;\n                 if ([\"null\", \"\"].indexOf(str) >= 0)\n                     return;\n                stringified(str);\n            });\n            ko.applyBindingsToNode(\n                element,\n                {\n                    value: stringified,\n                    valueUpdate: allBindings.get('valueUpdate'),\n                },\n                context,\n            );\n        }\n    };\n    var json_data = {\"formatted_vals\":[\"1\",\"2\",\"3\",\"4\",\"5\",\"6\",\"7\",\"8\",\"9\",\"10\",\"11\",\"12\",\"13\",\"14\",\"15\",\"16\",\"17\",\"18\",\"19\",\"20\"],\"changes\":WebIO.getval({\"name\":\"changes\",\"scope\":\"16046535947080228328\",\"id\":\"ob_10\",\"type\":\"observable\"}),\"index\":WebIO.getval({\"name\":\"index\",\"scope\":\"16046535947080228328\",\"id\":\"ob_09\",\"type\":\"observable\"})};\n    var self = this;\n    function AppViewModel() {\n        for (var key in json_data) {\n            var el = json_data[key];\n            this[key] = Array.isArray(el) ? ko.observableArray(el) : ko.observable(el);\n        }\n        \n        [this[\"formatted_val\"]=ko.computed(    function(){\n        return this.formatted_vals()[parseInt(this.index())-(1)];\n    }\n,this)]\n        [this[\"changes\"].subscribe((function (val){!(this.valueFromJulia[\"changes\"]) ? (WebIO.setval({\"name\":\"changes\",\"scope\":\"16046535947080228328\",\"id\":\"ob_10\",\"type\":\"observable\"},val)) : undefined; return this.valueFromJulia[\"changes\"]=false}),self),this[\"index\"].subscribe((function (val){!(this.valueFromJulia[\"index\"]) ? (WebIO.setval({\"name\":\"index\",\"scope\":\"16046535947080228328\",\"id\":\"ob_09\",\"type\":\"observable\"},val)) : undefined; return this.valueFromJulia[\"index\"]=false}),self)]\n        \n    }\n    self.model = new AppViewModel();\n    self.valueFromJulia = {};\n    for (var key in json_data) {\n        self.valueFromJulia[key] = false;\n    }\n    ko.applyBindings(self.model, self.dom);\n}\n);\n    (WebIO.importBlock({\"data\":[{\"name\":\"knockout\",\"type\":\"js\",\"url\":\"/assetserver/06b5713f7394e9c781d3d3143d6fd532e7f814ce-knockout.js\"},{\"name\":\"knockout_punches\",\"type\":\"js\",\"url\":\"/assetserver/695de4db56dde9805b672fe778fb2fc752e9b632-knockout_punches.js\"}],\"type\":\"async_block\"})).then((imports) => handler.apply(this, imports));\n}\n"
            ],
            "observables": {
             "changes": {
              "id": "ob_10",
              "sync": false,
              "value": 0
             },
             "index": {
              "id": "ob_09",
              "sync": true,
              "value": 10
             }
            },
            "systemjs_options": null
           },
           "nodeType": "Scope",
           "props": {},
           "type": "node"
          }
         ],
         "instanceArgs": {
          "namespace": "html",
          "tag": "div"
         },
         "nodeType": "DOM",
         "props": {
          "className": "field interact-widget"
         },
         "type": "node"
        },
        {
         "children": [
          {
           "children": [],
           "instanceArgs": {
            "id": "ob_16",
            "name": "obs-node"
           },
           "nodeType": "ObservableNode",
           "props": {},
           "type": "node"
          }
         ],
         "instanceArgs": {
          "handlers": {},
          "id": "4681511059900423994",
          "imports": {
           "data": [],
           "type": "async_block"
          },
          "mount_callbacks": [],
          "observables": {
           "obs-node": {
            "id": "ob_16",
            "sync": false,
            "value": {
             "children": [
              {
               "children": [],
               "instanceArgs": {
                "namespace": "html",
                "tag": "div"
               },
               "nodeType": "DOM",
               "props": {
                "setInnerHtml": "<pre>10×10 Array{Int64,2}:\n  1   2   3   4   5   6   7   8   9   10\n  2   4   6   8  10  12  14  16  18   20\n  3   6   9  12  15  18  21  24  27   30\n  4   8  12  16  20  24  28  32  36   40\n  5  10  15  20  25  30  35  40  45   50\n  6  12  18  24  30  36  42  48  54   60\n  7  14  21  28  35  42  49  56  63   70\n  8  16  24  32  40  48  56  64  72   80\n  9  18  27  36  45  54  63  72  81   90\n 10  20  30  40  50  60  70  80  90  100</pre>"
               },
               "type": "node"
              }
             ],
             "instanceArgs": {
              "namespace": "html",
              "tag": "div"
             },
             "nodeType": "DOM",
             "props": {
              "className": "interact-flex-row interact-widget"
             },
             "type": "node"
            }
           }
          },
          "systemjs_options": null
         },
         "nodeType": "Scope",
         "props": {},
         "type": "node"
        }
       ],
       "instanceArgs": {
        "namespace": "html",
        "tag": "div"
       },
       "nodeType": "DOM",
       "props": {},
       "type": "node"
      },
      "text/html": [
       "<div\n",
       "    class=\"webio-mountpoint\"\n",
       "    data-webio-mountpoint=\"7871593467182334654\"\n",
       ">\n",
       "    <script>\n",
       "    if (window.require && require.defined && require.defined(\"nbextensions/webio/main\")) {\n",
       "        console.log(\"Jupyter WebIO extension detected, not mounting.\");\n",
       "    } else if (window.WebIO) {\n",
       "        WebIO.mount(\n",
       "            document.querySelector('[data-webio-mountpoint=\"7871593467182334654\"]'),\n",
       "            {\"props\":{},\"nodeType\":\"DOM\",\"type\":\"node\",\"instanceArgs\":{\"namespace\":\"html\",\"tag\":\"div\"},\"children\":[{\"props\":{\"className\":\"field interact-widget\"},\"nodeType\":\"DOM\",\"type\":\"node\",\"instanceArgs\":{\"namespace\":\"html\",\"tag\":\"div\"},\"children\":[{\"props\":{},\"nodeType\":\"Scope\",\"type\":\"node\",\"instanceArgs\":{\"imports\":{\"data\":[{\"name\":\"knockout\",\"type\":\"js\",\"url\":\"\\/assetserver\\/06b5713f7394e9c781d3d3143d6fd532e7f814ce-knockout.js\"},{\"name\":\"knockout_punches\",\"type\":\"js\",\"url\":\"\\/assetserver\\/695de4db56dde9805b672fe778fb2fc752e9b632-knockout_punches.js\"},{\"name\":null,\"type\":\"js\",\"url\":\"\\/assetserver\\/cd9cf93729ff320de8d59972e501bc7581ce199e-all.js\"},{\"name\":null,\"type\":\"css\",\"url\":\"\\/assetserver\\/2dd5b4483a1ad2cfea2512179b895d21de762858-style.css\"},{\"name\":null,\"type\":\"css\",\"url\":\"\\/assetserver\\/4a166f7fd21f97b78604bf0dafec2fdf4c488adb-bulma_confined.min.css\"}],\"type\":\"async_block\"},\"id\":\"16046535947080228328\",\"handlers\":{\"changes\":[\"(function (val){return (val!=this.model[\\\"changes\\\"]()) ? (this.valueFromJulia[\\\"changes\\\"]=true, this.model[\\\"changes\\\"](val)) : undefined})\"],\"index\":[\"(function (val){return (val!=this.model[\\\"index\\\"]()) ? (this.valueFromJulia[\\\"index\\\"]=true, this.model[\\\"index\\\"](val)) : undefined})\"]},\"systemjs_options\":null,\"mount_callbacks\":[\"function () {\\n    var handler = (function (ko, koPunches) {\\n    ko.punches.enableAll();\\n    ko.bindingHandlers.numericValue = {\\n        init: function(element, valueAccessor, allBindings, data, context) {\\n            var stringified = ko.observable(ko.unwrap(valueAccessor()));\\n            stringified.subscribe(function(value) {\\n                var val = parseFloat(value);\\n                if (!isNaN(val)) {\\n                    valueAccessor()(val);\\n                }\\n            });\\n            valueAccessor().subscribe(function(value) {\\n                var str = JSON.stringify(value);\\n                if ((str == \\\"0\\\") && ([\\\"-0\\\", \\\"-0.\\\"].indexOf(stringified()) >= 0))\\n                     return;\\n                 if ([\\\"null\\\", \\\"\\\"].indexOf(str) >= 0)\\n                     return;\\n                stringified(str);\\n            });\\n            ko.applyBindingsToNode(\\n                element,\\n                {\\n                    value: stringified,\\n                    valueUpdate: allBindings.get('valueUpdate'),\\n                },\\n                context,\\n            );\\n        }\\n    };\\n    var json_data = {\\\"formatted_vals\\\":[\\\"1\\\",\\\"2\\\",\\\"3\\\",\\\"4\\\",\\\"5\\\",\\\"6\\\",\\\"7\\\",\\\"8\\\",\\\"9\\\",\\\"10\\\",\\\"11\\\",\\\"12\\\",\\\"13\\\",\\\"14\\\",\\\"15\\\",\\\"16\\\",\\\"17\\\",\\\"18\\\",\\\"19\\\",\\\"20\\\"],\\\"changes\\\":WebIO.getval({\\\"name\\\":\\\"changes\\\",\\\"scope\\\":\\\"16046535947080228328\\\",\\\"id\\\":\\\"ob_10\\\",\\\"type\\\":\\\"observable\\\"}),\\\"index\\\":WebIO.getval({\\\"name\\\":\\\"index\\\",\\\"scope\\\":\\\"16046535947080228328\\\",\\\"id\\\":\\\"ob_09\\\",\\\"type\\\":\\\"observable\\\"})};\\n    var self = this;\\n    function AppViewModel() {\\n        for (var key in json_data) {\\n            var el = json_data[key];\\n            this[key] = Array.isArray(el) ? ko.observableArray(el) : ko.observable(el);\\n        }\\n        \\n        [this[\\\"formatted_val\\\"]=ko.computed(    function(){\\n        return this.formatted_vals()[parseInt(this.index())-(1)];\\n    }\\n,this)]\\n        [this[\\\"changes\\\"].subscribe((function (val){!(this.valueFromJulia[\\\"changes\\\"]) ? (WebIO.setval({\\\"name\\\":\\\"changes\\\",\\\"scope\\\":\\\"16046535947080228328\\\",\\\"id\\\":\\\"ob_10\\\",\\\"type\\\":\\\"observable\\\"},val)) : undefined; return this.valueFromJulia[\\\"changes\\\"]=false}),self),this[\\\"index\\\"].subscribe((function (val){!(this.valueFromJulia[\\\"index\\\"]) ? (WebIO.setval({\\\"name\\\":\\\"index\\\",\\\"scope\\\":\\\"16046535947080228328\\\",\\\"id\\\":\\\"ob_09\\\",\\\"type\\\":\\\"observable\\\"},val)) : undefined; return this.valueFromJulia[\\\"index\\\"]=false}),self)]\\n        \\n    }\\n    self.model = new AppViewModel();\\n    self.valueFromJulia = {};\\n    for (var key in json_data) {\\n        self.valueFromJulia[key] = false;\\n    }\\n    ko.applyBindings(self.model, self.dom);\\n}\\n);\\n    (WebIO.importBlock({\\\"data\\\":[{\\\"name\\\":\\\"knockout\\\",\\\"type\\\":\\\"js\\\",\\\"url\\\":\\\"\\/assetserver\\/06b5713f7394e9c781d3d3143d6fd532e7f814ce-knockout.js\\\"},{\\\"name\\\":\\\"knockout_punches\\\",\\\"type\\\":\\\"js\\\",\\\"url\\\":\\\"\\/assetserver\\/695de4db56dde9805b672fe778fb2fc752e9b632-knockout_punches.js\\\"}],\\\"type\\\":\\\"async_block\\\"})).then((imports) => handler.apply(this, imports));\\n}\\n\"],\"observables\":{\"changes\":{\"sync\":false,\"id\":\"ob_10\",\"value\":0},\"index\":{\"sync\":true,\"id\":\"ob_09\",\"value\":10}}},\"children\":[{\"props\":{\"className\":\"interact-flex-row interact-widget\"},\"nodeType\":\"DOM\",\"type\":\"node\",\"instanceArgs\":{\"namespace\":\"html\",\"tag\":\"div\"},\"children\":[{\"props\":{\"className\":\"interact-flex-row-left\"},\"nodeType\":\"DOM\",\"type\":\"node\",\"instanceArgs\":{\"namespace\":\"html\",\"tag\":\"div\"},\"children\":[{\"props\":{\"className\":\"interact \",\"style\":{\"padding\":\"5px 10px 0px 10px\"}},\"nodeType\":\"DOM\",\"type\":\"node\",\"instanceArgs\":{\"namespace\":\"html\",\"tag\":\"label\"},\"children\":[\"n\"]}]},{\"props\":{\"className\":\"interact-flex-row-center\"},\"nodeType\":\"DOM\",\"type\":\"node\",\"instanceArgs\":{\"namespace\":\"html\",\"tag\":\"div\"},\"children\":[{\"props\":{\"max\":20,\"min\":1,\"attributes\":{\"type\":\"range\",\"data-bind\":\"numericValue: index, valueUpdate: 'input', event: {change: function (){this.changes(this.changes()+1)}}\",\"orient\":\"horizontal\"},\"step\":1,\"className\":\"slider slider is-fullwidth\",\"style\":{}},\"nodeType\":\"DOM\",\"type\":\"node\",\"instanceArgs\":{\"namespace\":\"html\",\"tag\":\"input\"},\"children\":[]}]},{\"props\":{\"className\":\"interact-flex-row-right\"},\"nodeType\":\"DOM\",\"type\":\"node\",\"instanceArgs\":{\"namespace\":\"html\",\"tag\":\"div\"},\"children\":[{\"props\":{\"attributes\":{\"data-bind\":\"text: formatted_val\"}},\"nodeType\":\"DOM\",\"type\":\"node\",\"instanceArgs\":{\"namespace\":\"html\",\"tag\":\"p\"},\"children\":[]}]}]}]}]},{\"props\":{},\"nodeType\":\"Scope\",\"type\":\"node\",\"instanceArgs\":{\"imports\":{\"data\":[],\"type\":\"async_block\"},\"id\":\"13390999448634387627\",\"handlers\":{},\"systemjs_options\":null,\"mount_callbacks\":[],\"observables\":{\"obs-node\":{\"sync\":false,\"id\":\"ob_14\",\"value\":{\"props\":{\"className\":\"interact-flex-row interact-widget\"},\"nodeType\":\"DOM\",\"type\":\"node\",\"instanceArgs\":{\"namespace\":\"html\",\"tag\":\"div\"},\"children\":[{\"props\":{\"setInnerHtml\":\"<pre>10×10 Array{Int64,2}:\\n  1   2   3   4   5   6   7   8   9   10\\n  2   4   6   8  10  12  14  16  18   20\\n  3   6   9  12  15  18  21  24  27   30\\n  4   8  12  16  20  24  28  32  36   40\\n  5  10  15  20  25  30  35  40  45   50\\n  6  12  18  24  30  36  42  48  54   60\\n  7  14  21  28  35  42  49  56  63   70\\n  8  16  24  32  40  48  56  64  72   80\\n  9  18  27  36  45  54  63  72  81   90\\n 10  20  30  40  50  60  70  80  90  100<\\/pre>\"},\"nodeType\":\"DOM\",\"type\":\"node\",\"instanceArgs\":{\"namespace\":\"html\",\"tag\":\"div\"},\"children\":[]}]}}}},\"children\":[{\"props\":{},\"nodeType\":\"ObservableNode\",\"type\":\"node\",\"instanceArgs\":{\"id\":\"ob_14\",\"name\":\"obs-node\"},\"children\":[]}]}]},\n",
       "            window,\n",
       "        );\n",
       "    } else {\n",
       "        document\n",
       "            .querySelector('[data-webio-mountpoint=\"7871593467182334654\"]')\n",
       "            .innerHTML = '<strong>WebIO not detected.</strong>';\n",
       "    }\n",
       "    </script>\n",
       "</div>\n"
      ],
      "text/plain": [
       "Node{WebIO.DOM}(WebIO.DOM(:html, :div), Any[Node{DOM}(DOM(:html, :div), Any[Scope(Node{DOM}(DOM(:html, :div), Any[Node{DOM}(DOM(:html, :div), Any[Node{DOM}(DOM(:html, :label), Any[\"n\"], Dict{Symbol,Any}(:className=>\"interact \",:style=>Dict{Any,Any}(:padding=>\"5px 10px 0px 10px\")))], Dict{Symbol,Any}(:className=>\"interact-flex-row-left\")), Node{DOM}(DOM(:html, :div), Any[Node{DOM}(DOM(:html, :input), Any[], Dict{Symbol,Any}(:max=>20,:min=>1,:attributes=>Dict{Any,Any}(:type=>\"range\",Symbol(\"data-bind\")=>\"numericValue: index, valueUpdate: 'input', event: {change: function (){this.changes(this.changes()+1)}}\",\"orient\"=>\"horizontal\"),:step=>1,:className=>\"slider slider is-fullwidth\",:style=>Dict{Any,Any}()))], Dict{Symbol,Any}(:className=>\"interact-flex-row-center\")), Node{DOM}(DOM(:html, :div), Any[Node{DOM}(DOM(:html, :p), Any[], Dict{Symbol,Any}(:attributes=>Dict(\"data-bind\"=>\"text: formatted_val\")))], Dict{Symbol,Any}(:className=>\"interact-flex-row-right\"))], Dict{Symbol,Any}(:className=>\"interact-flex-row interact-widget\")), Dict{String,Tuple{Observables.AbstractObservable,Union{Nothing, Bool}}}(\"changes\"=>(Observable{Int64} with 1 listeners. Value:\n",
       "0, nothing),\"index\"=>(Observable{Int64} with 2 listeners. Value:\n",
       "10, nothing)), Set(String[]), nothing, Asset[Asset(\"js\", \"knockout\", \"C:\\\\Users\\\\carsten\\\\.julia\\\\packages\\\\Knockout\\\\1sDlc\\\\src\\\\..\\\\assets\\\\knockout.js\"), Asset(\"js\", \"knockout_punches\", \"C:\\\\Users\\\\carsten\\\\.julia\\\\packages\\\\Knockout\\\\1sDlc\\\\src\\\\..\\\\assets\\\\knockout_punches.js\"), Asset(\"js\", nothing, \"C:\\\\Users\\\\carsten\\\\.julia\\\\packages\\\\InteractBase\\\\l8cEC\\\\src\\\\..\\\\assets\\\\all.js\"), Asset(\"css\", nothing, \"C:\\\\Users\\\\carsten\\\\.julia\\\\packages\\\\InteractBase\\\\l8cEC\\\\src\\\\..\\\\assets\\\\style.css\"), Asset(\"css\", nothing, \"C:\\\\Users\\\\carsten\\\\.julia\\\\packages\\\\Interact\\\\0klKX\\\\src\\\\..\\\\assets\\\\bulma_confined.min.css\")], Dict{Any,Any}(\"changes\"=>Any[JSString(\"(function (val){return (val!=this.model[\\\"changes\\\"]()) ? (this.valueFromJulia[\\\"changes\\\"]=true, this.model[\\\"changes\\\"](val)) : undefined})\")],\"index\"=>Any[JSString(\"(function (val){return (val!=this.model[\\\"index\\\"]()) ? (this.valueFromJulia[\\\"index\\\"]=true, this.model[\\\"index\\\"](val)) : undefined})\")]), ConnectionPool(Channel{Any}(sz_max:9223372036854775807,sz_curr:0), Set(AbstractConnection[]), Channel{AbstractConnection}(sz_max:32,sz_curr:0)), WebIO.JSString[JSString(\"function () {\\n    var handler = (function (ko, koPunches) {\\n    ko.punches.enableAll();\\n    ko.bindingHandlers.numericValue = {\\n        init: function(element, valueAccessor, allBindings, data, context) {\\n            var stringified = ko.observable(ko.unwrap(valueAccessor()));\\n            stringified.subscribe(function(value) {\\n                var val = parseFloat(value);\\n                if (!isNaN(val)) {\\n                    valueAccessor()(val);\\n                }\\n            });\\n            valueAccessor().subscribe(function(value) {\\n                var str = JSON.stringify(value);\\n                if ((str == \\\"0\\\") && ([\\\"-0\\\", \\\"-0.\\\"].indexOf(stringified()) >= 0))\\n                     return;\\n                 if ([\\\"null\\\", \\\"\\\"].indexOf(str) >= 0)\\n                     return;\\n                stringified(str);\\n            });\\n            ko.applyBindingsToNode(\\n                element,\\n                {\\n                    value: stringified,\\n                    valueUpdate: allBindings.get('valueUpdate'),\\n                },\\n                context,\\n            );\\n        }\\n    };\\n    var json_data = {\\\"formatted_vals\\\":[\\\"1\\\",\\\"2\\\",\\\"3\\\",\\\"4\\\",\\\"5\\\",\\\"6\\\",\\\"7\\\",\\\"8\\\",\\\"9\\\",\\\"10\\\",\\\"11\\\",\\\"12\\\",\\\"13\\\",\\\"14\\\",\\\"15\\\",\\\"16\\\",\\\"17\\\",\\\"18\\\",\\\"19\\\",\\\"20\\\"],\\\"changes\\\":WebIO.getval({\\\"name\\\":\\\"changes\\\",\\\"scope\\\":\\\"16046535947080228328\\\",\\\"id\\\":\\\"ob_10\\\",\\\"type\\\":\\\"observable\\\"}),\\\"index\\\":WebIO.getval({\\\"name\\\":\\\"index\\\",\\\"scope\\\":\\\"16046535947080228328\\\",\\\"id\\\":\\\"ob_09\\\",\\\"type\\\":\\\"observable\\\"})};\\n    var self = this;\\n    function AppViewModel() {\\n        for (var key in json_data) {\\n            var el = json_data[key];\\n            this[key] = Array.isArray(el) ? ko.observableArray(el) : ko.observable(el);\\n        }\\n        \\n        [this[\\\"formatted_val\\\"]=ko.computed(    function(){\\n        return this.formatted_vals()[parseInt(this.index())-(1)];\\n    }\\n,this)]\\n        [this[\\\"changes\\\"].subscribe((function (val){!(this.valueFromJulia[\\\"changes\\\"]) ? (WebIO.setval({\\\"name\\\":\\\"changes\\\",\\\"scope\\\":\\\"16046535947080228328\\\",\\\"id\\\":\\\"ob_10\\\",\\\"type\\\":\\\"observable\\\"},val)) : undefined; return this.valueFromJulia[\\\"changes\\\"]=false}),self),this[\\\"index\\\"].subscribe((function (val){!(this.valueFromJulia[\\\"index\\\"]) ? (WebIO.setval({\\\"name\\\":\\\"index\\\",\\\"scope\\\":\\\"16046535947080228328\\\",\\\"id\\\":\\\"ob_09\\\",\\\"type\\\":\\\"observable\\\"},val)) : undefined; return this.valueFromJulia[\\\"index\\\"]=false}),self)]\\n        \\n    }\\n    self.model = new AppViewModel();\\n    self.valueFromJulia = {};\\n    for (var key in json_data) {\\n        self.valueFromJulia[key] = false;\\n    }\\n    ko.applyBindings(self.model, self.dom);\\n}\\n);\\n    (WebIO.importBlock({\\\"data\\\":[{\\\"name\\\":\\\"knockout\\\",\\\"type\\\":\\\"js\\\",\\\"url\\\":\\\"/assetserver/06b5713f7394e9c781d3d3143d6fd532e7f814ce-knockout.js\\\"},{\\\"name\\\":\\\"knockout_punches\\\",\\\"type\\\":\\\"js\\\",\\\"url\\\":\\\"/assetserver/695de4db56dde9805b672fe778fb2fc752e9b632-knockout_punches.js\\\"}],\\\"type\\\":\\\"async_block\\\"})).then((imports) => handler.apply(this, imports));\\n}\\n\")])], Dict{Symbol,Any}(:className=>\"field interact-widget\")), Observable{Any} with 0 listeners. Value:\n",
       "Node{DOM}(DOM(:html, :div), Any[[1 2 … 9 10; 2 4 … 18 20; … ; 9 18 … 81 90; 10 20 … 90 100]], Dict{Symbol,Any}(:className=>\"interact-flex-row interact-widget\"))], Dict{Symbol,Any}())"
      ]
     },
     "execution_count": 8,
     "metadata": {
      "application/vnd.webio.node+json": {
       "kernelId": null
      }
     },
     "output_type": "execute_result"
    }
   ],
   "source": [
    "@manipulate for n in 1:20\n",
    "    [i*j for i in 1:n, j in 1:n]\n",
    "end"
   ]
  },
  {
   "cell_type": "code",
   "execution_count": 16,
   "metadata": {},
   "outputs": [
    {
     "data": {
      "text/plain": [
       "insert_block (generic function with 4 methods)"
      ]
     },
     "execution_count": 16,
     "metadata": {},
     "output_type": "execute_result"
    }
   ],
   "source": [
    "function insert_block(A::AbstractMatrix, i, j, what=7)\n",
    "    B = copy(A)\n",
    "    B[i:i+2, j:j+2] .= what\n",
    "    B\n",
    "end"
   ]
  },
  {
   "cell_type": "code",
   "execution_count": 17,
   "metadata": {},
   "outputs": [
    {
     "data": {
      "text/plain": [
       "9×9 Array{Int64,2}:\n",
       " 0  0  0  0  0  0  0  0  0\n",
       " 0  0  0  0  0  0  0  0  0\n",
       " 0  0  0  0  7  7  7  0  0\n",
       " 0  0  0  0  7  7  7  0  0\n",
       " 0  0  0  0  7  7  7  0  0\n",
       " 0  0  0  0  0  0  0  0  0\n",
       " 0  0  0  0  0  0  0  0  0\n",
       " 0  0  0  0  0  0  0  0  0\n",
       " 0  0  0  0  0  0  0  0  0"
      ]
     },
     "execution_count": 17,
     "metadata": {},
     "output_type": "execute_result"
    }
   ],
   "source": [
    "A = fill(0, 9, 9)\n",
    "insert_block(A, 3, 5)  # this returns the new matrix"
   ]
  },
  {
   "cell_type": "code",
   "execution_count": 18,
   "metadata": {},
   "outputs": [
    {
     "data": {
      "application/vnd.webio.node+json": {
       "children": [
        {
         "children": [
          {
           "children": [
            {
             "children": [
              {
               "children": [
                {
                 "children": [
                  "i"
                 ],
                 "instanceArgs": {
                  "namespace": "html",
                  "tag": "label"
                 },
                 "nodeType": "DOM",
                 "props": {
                  "className": "interact ",
                  "style": {
                   "padding": "5px 10px 0px 10px"
                  }
                 },
                 "type": "node"
                }
               ],
               "instanceArgs": {
                "namespace": "html",
                "tag": "div"
               },
               "nodeType": "DOM",
               "props": {
                "className": "interact-flex-row-left"
               },
               "type": "node"
              },
              {
               "children": [
                {
                 "children": [],
                 "instanceArgs": {
                  "namespace": "html",
                  "tag": "input"
                 },
                 "nodeType": "DOM",
                 "props": {
                  "attributes": {
                   "data-bind": "numericValue: index, valueUpdate: 'input', event: {change: function (){this.changes(this.changes()+1)}}",
                   "orient": "horizontal",
                   "type": "range"
                  },
                  "className": "slider slider is-fullwidth",
                  "max": 8,
                  "min": 1,
                  "step": 1,
                  "style": {}
                 },
                 "type": "node"
                }
               ],
               "instanceArgs": {
                "namespace": "html",
                "tag": "div"
               },
               "nodeType": "DOM",
               "props": {
                "className": "interact-flex-row-center"
               },
               "type": "node"
              },
              {
               "children": [
                {
                 "children": [],
                 "instanceArgs": {
                  "namespace": "html",
                  "tag": "p"
                 },
                 "nodeType": "DOM",
                 "props": {
                  "attributes": {
                   "data-bind": "text: formatted_val"
                  }
                 },
                 "type": "node"
                }
               ],
               "instanceArgs": {
                "namespace": "html",
                "tag": "div"
               },
               "nodeType": "DOM",
               "props": {
                "className": "interact-flex-row-right"
               },
               "type": "node"
              }
             ],
             "instanceArgs": {
              "namespace": "html",
              "tag": "div"
             },
             "nodeType": "DOM",
             "props": {
              "className": "interact-flex-row interact-widget"
             },
             "type": "node"
            }
           ],
           "instanceArgs": {
            "handlers": {
             "changes": [
              "(function (val){return (val!=this.model[\"changes\"]()) ? (this.valueFromJulia[\"changes\"]=true, this.model[\"changes\"](val)) : undefined})"
             ],
             "index": [
              "(function (val){return (val!=this.model[\"index\"]()) ? (this.valueFromJulia[\"index\"]=true, this.model[\"index\"](val)) : undefined})"
             ]
            },
            "id": "15878240801716997274",
            "imports": {
             "data": [
              {
               "name": "knockout",
               "type": "js",
               "url": "/assetserver/06b5713f7394e9c781d3d3143d6fd532e7f814ce-knockout.js"
              },
              {
               "name": "knockout_punches",
               "type": "js",
               "url": "/assetserver/695de4db56dde9805b672fe778fb2fc752e9b632-knockout_punches.js"
              },
              {
               "name": null,
               "type": "js",
               "url": "/assetserver/cd9cf93729ff320de8d59972e501bc7581ce199e-all.js"
              },
              {
               "name": null,
               "type": "css",
               "url": "/assetserver/2dd5b4483a1ad2cfea2512179b895d21de762858-style.css"
              },
              {
               "name": null,
               "type": "css",
               "url": "/assetserver/4a166f7fd21f97b78604bf0dafec2fdf4c488adb-bulma_confined.min.css"
              }
             ],
             "type": "async_block"
            },
            "mount_callbacks": [
             "function () {\n    var handler = (function (ko, koPunches) {\n    ko.punches.enableAll();\n    ko.bindingHandlers.numericValue = {\n        init: function(element, valueAccessor, allBindings, data, context) {\n            var stringified = ko.observable(ko.unwrap(valueAccessor()));\n            stringified.subscribe(function(value) {\n                var val = parseFloat(value);\n                if (!isNaN(val)) {\n                    valueAccessor()(val);\n                }\n            });\n            valueAccessor().subscribe(function(value) {\n                var str = JSON.stringify(value);\n                if ((str == \"0\") && ([\"-0\", \"-0.\"].indexOf(stringified()) >= 0))\n                     return;\n                 if ([\"null\", \"\"].indexOf(str) >= 0)\n                     return;\n                stringified(str);\n            });\n            ko.applyBindingsToNode(\n                element,\n                {\n                    value: stringified,\n                    valueUpdate: allBindings.get('valueUpdate'),\n                },\n                context,\n            );\n        }\n    };\n    var json_data = {\"formatted_vals\":[\"1\",\"2\",\"3\",\"4\",\"5\",\"6\",\"7\",\"8\"],\"changes\":WebIO.getval({\"name\":\"changes\",\"scope\":\"15878240801716997274\",\"id\":\"ob_38\",\"type\":\"observable\"}),\"index\":WebIO.getval({\"name\":\"index\",\"scope\":\"15878240801716997274\",\"id\":\"ob_37\",\"type\":\"observable\"})};\n    var self = this;\n    function AppViewModel() {\n        for (var key in json_data) {\n            var el = json_data[key];\n            this[key] = Array.isArray(el) ? ko.observableArray(el) : ko.observable(el);\n        }\n        \n        [this[\"formatted_val\"]=ko.computed(    function(){\n        return this.formatted_vals()[parseInt(this.index())-(1)];\n    }\n,this)]\n        [this[\"changes\"].subscribe((function (val){!(this.valueFromJulia[\"changes\"]) ? (WebIO.setval({\"name\":\"changes\",\"scope\":\"15878240801716997274\",\"id\":\"ob_38\",\"type\":\"observable\"},val)) : undefined; return this.valueFromJulia[\"changes\"]=false}),self),this[\"index\"].subscribe((function (val){!(this.valueFromJulia[\"index\"]) ? (WebIO.setval({\"name\":\"index\",\"scope\":\"15878240801716997274\",\"id\":\"ob_37\",\"type\":\"observable\"},val)) : undefined; return this.valueFromJulia[\"index\"]=false}),self)]\n        \n    }\n    self.model = new AppViewModel();\n    self.valueFromJulia = {};\n    for (var key in json_data) {\n        self.valueFromJulia[key] = false;\n    }\n    ko.applyBindings(self.model, self.dom);\n}\n);\n    (WebIO.importBlock({\"data\":[{\"name\":\"knockout\",\"type\":\"js\",\"url\":\"/assetserver/06b5713f7394e9c781d3d3143d6fd532e7f814ce-knockout.js\"},{\"name\":\"knockout_punches\",\"type\":\"js\",\"url\":\"/assetserver/695de4db56dde9805b672fe778fb2fc752e9b632-knockout_punches.js\"}],\"type\":\"async_block\"})).then((imports) => handler.apply(this, imports));\n}\n"
            ],
            "observables": {
             "changes": {
              "id": "ob_38",
              "sync": false,
              "value": 0
             },
             "index": {
              "id": "ob_37",
              "sync": true,
              "value": 4
             }
            },
            "systemjs_options": null
           },
           "nodeType": "Scope",
           "props": {},
           "type": "node"
          }
         ],
         "instanceArgs": {
          "namespace": "html",
          "tag": "div"
         },
         "nodeType": "DOM",
         "props": {
          "className": "field interact-widget"
         },
         "type": "node"
        },
        {
         "children": [
          {
           "children": [
            {
             "children": [
              {
               "children": [
                {
                 "children": [
                  "j"
                 ],
                 "instanceArgs": {
                  "namespace": "html",
                  "tag": "label"
                 },
                 "nodeType": "DOM",
                 "props": {
                  "className": "interact ",
                  "style": {
                   "padding": "5px 10px 0px 10px"
                  }
                 },
                 "type": "node"
                }
               ],
               "instanceArgs": {
                "namespace": "html",
                "tag": "div"
               },
               "nodeType": "DOM",
               "props": {
                "className": "interact-flex-row-left"
               },
               "type": "node"
              },
              {
               "children": [
                {
                 "children": [],
                 "instanceArgs": {
                  "namespace": "html",
                  "tag": "input"
                 },
                 "nodeType": "DOM",
                 "props": {
                  "attributes": {
                   "data-bind": "numericValue: index, valueUpdate: 'input', event: {change: function (){this.changes(this.changes()+1)}}",
                   "orient": "horizontal",
                   "type": "range"
                  },
                  "className": "slider slider is-fullwidth",
                  "max": 8,
                  "min": 1,
                  "step": 1,
                  "style": {}
                 },
                 "type": "node"
                }
               ],
               "instanceArgs": {
                "namespace": "html",
                "tag": "div"
               },
               "nodeType": "DOM",
               "props": {
                "className": "interact-flex-row-center"
               },
               "type": "node"
              },
              {
               "children": [
                {
                 "children": [],
                 "instanceArgs": {
                  "namespace": "html",
                  "tag": "p"
                 },
                 "nodeType": "DOM",
                 "props": {
                  "attributes": {
                   "data-bind": "text: formatted_val"
                  }
                 },
                 "type": "node"
                }
               ],
               "instanceArgs": {
                "namespace": "html",
                "tag": "div"
               },
               "nodeType": "DOM",
               "props": {
                "className": "interact-flex-row-right"
               },
               "type": "node"
              }
             ],
             "instanceArgs": {
              "namespace": "html",
              "tag": "div"
             },
             "nodeType": "DOM",
             "props": {
              "className": "interact-flex-row interact-widget"
             },
             "type": "node"
            }
           ],
           "instanceArgs": {
            "handlers": {
             "changes": [
              "(function (val){return (val!=this.model[\"changes\"]()) ? (this.valueFromJulia[\"changes\"]=true, this.model[\"changes\"](val)) : undefined})"
             ],
             "index": [
              "(function (val){return (val!=this.model[\"index\"]()) ? (this.valueFromJulia[\"index\"]=true, this.model[\"index\"](val)) : undefined})"
             ]
            },
            "id": "8870688392999602960",
            "imports": {
             "data": [
              {
               "name": "knockout",
               "type": "js",
               "url": "/assetserver/06b5713f7394e9c781d3d3143d6fd532e7f814ce-knockout.js"
              },
              {
               "name": "knockout_punches",
               "type": "js",
               "url": "/assetserver/695de4db56dde9805b672fe778fb2fc752e9b632-knockout_punches.js"
              },
              {
               "name": null,
               "type": "js",
               "url": "/assetserver/cd9cf93729ff320de8d59972e501bc7581ce199e-all.js"
              },
              {
               "name": null,
               "type": "css",
               "url": "/assetserver/2dd5b4483a1ad2cfea2512179b895d21de762858-style.css"
              },
              {
               "name": null,
               "type": "css",
               "url": "/assetserver/4a166f7fd21f97b78604bf0dafec2fdf4c488adb-bulma_confined.min.css"
              }
             ],
             "type": "async_block"
            },
            "mount_callbacks": [
             "function () {\n    var handler = (function (ko, koPunches) {\n    ko.punches.enableAll();\n    ko.bindingHandlers.numericValue = {\n        init: function(element, valueAccessor, allBindings, data, context) {\n            var stringified = ko.observable(ko.unwrap(valueAccessor()));\n            stringified.subscribe(function(value) {\n                var val = parseFloat(value);\n                if (!isNaN(val)) {\n                    valueAccessor()(val);\n                }\n            });\n            valueAccessor().subscribe(function(value) {\n                var str = JSON.stringify(value);\n                if ((str == \"0\") && ([\"-0\", \"-0.\"].indexOf(stringified()) >= 0))\n                     return;\n                 if ([\"null\", \"\"].indexOf(str) >= 0)\n                     return;\n                stringified(str);\n            });\n            ko.applyBindingsToNode(\n                element,\n                {\n                    value: stringified,\n                    valueUpdate: allBindings.get('valueUpdate'),\n                },\n                context,\n            );\n        }\n    };\n    var json_data = {\"formatted_vals\":[\"1\",\"2\",\"3\",\"4\",\"5\",\"6\",\"7\",\"8\"],\"changes\":WebIO.getval({\"name\":\"changes\",\"scope\":\"8870688392999602960\",\"id\":\"ob_40\",\"type\":\"observable\"}),\"index\":WebIO.getval({\"name\":\"index\",\"scope\":\"8870688392999602960\",\"id\":\"ob_39\",\"type\":\"observable\"})};\n    var self = this;\n    function AppViewModel() {\n        for (var key in json_data) {\n            var el = json_data[key];\n            this[key] = Array.isArray(el) ? ko.observableArray(el) : ko.observable(el);\n        }\n        \n        [this[\"formatted_val\"]=ko.computed(    function(){\n        return this.formatted_vals()[parseInt(this.index())-(1)];\n    }\n,this)]\n        [this[\"changes\"].subscribe((function (val){!(this.valueFromJulia[\"changes\"]) ? (WebIO.setval({\"name\":\"changes\",\"scope\":\"8870688392999602960\",\"id\":\"ob_40\",\"type\":\"observable\"},val)) : undefined; return this.valueFromJulia[\"changes\"]=false}),self),this[\"index\"].subscribe((function (val){!(this.valueFromJulia[\"index\"]) ? (WebIO.setval({\"name\":\"index\",\"scope\":\"8870688392999602960\",\"id\":\"ob_39\",\"type\":\"observable\"},val)) : undefined; return this.valueFromJulia[\"index\"]=false}),self)]\n        \n    }\n    self.model = new AppViewModel();\n    self.valueFromJulia = {};\n    for (var key in json_data) {\n        self.valueFromJulia[key] = false;\n    }\n    ko.applyBindings(self.model, self.dom);\n}\n);\n    (WebIO.importBlock({\"data\":[{\"name\":\"knockout\",\"type\":\"js\",\"url\":\"/assetserver/06b5713f7394e9c781d3d3143d6fd532e7f814ce-knockout.js\"},{\"name\":\"knockout_punches\",\"type\":\"js\",\"url\":\"/assetserver/695de4db56dde9805b672fe778fb2fc752e9b632-knockout_punches.js\"}],\"type\":\"async_block\"})).then((imports) => handler.apply(this, imports));\n}\n"
            ],
            "observables": {
             "changes": {
              "id": "ob_40",
              "sync": false,
              "value": 0
             },
             "index": {
              "id": "ob_39",
              "sync": true,
              "value": 4
             }
            },
            "systemjs_options": null
           },
           "nodeType": "Scope",
           "props": {},
           "type": "node"
          }
         ],
         "instanceArgs": {
          "namespace": "html",
          "tag": "div"
         },
         "nodeType": "DOM",
         "props": {
          "className": "field interact-widget"
         },
         "type": "node"
        },
        {
         "children": [
          {
           "children": [],
           "instanceArgs": {
            "id": "ob_46",
            "name": "obs-node"
           },
           "nodeType": "ObservableNode",
           "props": {},
           "type": "node"
          }
         ],
         "instanceArgs": {
          "handlers": {},
          "id": "4772181158927679061",
          "imports": {
           "data": [],
           "type": "async_block"
          },
          "mount_callbacks": [],
          "observables": {
           "obs-node": {
            "id": "ob_46",
            "sync": false,
            "value": {
             "children": [
              {
               "children": [],
               "instanceArgs": {
                "namespace": "html",
                "tag": "div"
               },
               "nodeType": "DOM",
               "props": {
                "setInnerHtml": "<pre>10×10 Array{Int64,2}:\n 0  0  0  0  0  0  0  0  0  0\n 0  0  0  0  0  0  0  0  0  0\n 0  0  0  0  0  0  0  0  0  0\n 0  0  0  7  7  7  0  0  0  0\n 0  0  0  7  7  7  0  0  0  0\n 0  0  0  7  7  7  0  0  0  0\n 0  0  0  0  0  0  0  0  0  0\n 0  0  0  0  0  0  0  0  0  0\n 0  0  0  0  0  0  0  0  0  0\n 0  0  0  0  0  0  0  0  0  0</pre>"
               },
               "type": "node"
              }
             ],
             "instanceArgs": {
              "namespace": "html",
              "tag": "div"
             },
             "nodeType": "DOM",
             "props": {
              "className": "interact-flex-row interact-widget"
             },
             "type": "node"
            }
           }
          },
          "systemjs_options": null
         },
         "nodeType": "Scope",
         "props": {},
         "type": "node"
        }
       ],
       "instanceArgs": {
        "namespace": "html",
        "tag": "div"
       },
       "nodeType": "DOM",
       "props": {},
       "type": "node"
      },
      "text/html": [
       "<div\n",
       "    class=\"webio-mountpoint\"\n",
       "    data-webio-mountpoint=\"2841505432647744674\"\n",
       ">\n",
       "    <script>\n",
       "    if (window.require && require.defined && require.defined(\"nbextensions/webio/main\")) {\n",
       "        console.log(\"Jupyter WebIO extension detected, not mounting.\");\n",
       "    } else if (window.WebIO) {\n",
       "        WebIO.mount(\n",
       "            document.querySelector('[data-webio-mountpoint=\"2841505432647744674\"]'),\n",
       "            {\"props\":{},\"nodeType\":\"DOM\",\"type\":\"node\",\"instanceArgs\":{\"namespace\":\"html\",\"tag\":\"div\"},\"children\":[{\"props\":{\"className\":\"field interact-widget\"},\"nodeType\":\"DOM\",\"type\":\"node\",\"instanceArgs\":{\"namespace\":\"html\",\"tag\":\"div\"},\"children\":[{\"props\":{},\"nodeType\":\"Scope\",\"type\":\"node\",\"instanceArgs\":{\"imports\":{\"data\":[{\"name\":\"knockout\",\"type\":\"js\",\"url\":\"\\/assetserver\\/06b5713f7394e9c781d3d3143d6fd532e7f814ce-knockout.js\"},{\"name\":\"knockout_punches\",\"type\":\"js\",\"url\":\"\\/assetserver\\/695de4db56dde9805b672fe778fb2fc752e9b632-knockout_punches.js\"},{\"name\":null,\"type\":\"js\",\"url\":\"\\/assetserver\\/cd9cf93729ff320de8d59972e501bc7581ce199e-all.js\"},{\"name\":null,\"type\":\"css\",\"url\":\"\\/assetserver\\/2dd5b4483a1ad2cfea2512179b895d21de762858-style.css\"},{\"name\":null,\"type\":\"css\",\"url\":\"\\/assetserver\\/4a166f7fd21f97b78604bf0dafec2fdf4c488adb-bulma_confined.min.css\"}],\"type\":\"async_block\"},\"id\":\"15878240801716997274\",\"handlers\":{\"changes\":[\"(function (val){return (val!=this.model[\\\"changes\\\"]()) ? (this.valueFromJulia[\\\"changes\\\"]=true, this.model[\\\"changes\\\"](val)) : undefined})\"],\"index\":[\"(function (val){return (val!=this.model[\\\"index\\\"]()) ? (this.valueFromJulia[\\\"index\\\"]=true, this.model[\\\"index\\\"](val)) : undefined})\"]},\"systemjs_options\":null,\"mount_callbacks\":[\"function () {\\n    var handler = (function (ko, koPunches) {\\n    ko.punches.enableAll();\\n    ko.bindingHandlers.numericValue = {\\n        init: function(element, valueAccessor, allBindings, data, context) {\\n            var stringified = ko.observable(ko.unwrap(valueAccessor()));\\n            stringified.subscribe(function(value) {\\n                var val = parseFloat(value);\\n                if (!isNaN(val)) {\\n                    valueAccessor()(val);\\n                }\\n            });\\n            valueAccessor().subscribe(function(value) {\\n                var str = JSON.stringify(value);\\n                if ((str == \\\"0\\\") && ([\\\"-0\\\", \\\"-0.\\\"].indexOf(stringified()) >= 0))\\n                     return;\\n                 if ([\\\"null\\\", \\\"\\\"].indexOf(str) >= 0)\\n                     return;\\n                stringified(str);\\n            });\\n            ko.applyBindingsToNode(\\n                element,\\n                {\\n                    value: stringified,\\n                    valueUpdate: allBindings.get('valueUpdate'),\\n                },\\n                context,\\n            );\\n        }\\n    };\\n    var json_data = {\\\"formatted_vals\\\":[\\\"1\\\",\\\"2\\\",\\\"3\\\",\\\"4\\\",\\\"5\\\",\\\"6\\\",\\\"7\\\",\\\"8\\\"],\\\"changes\\\":WebIO.getval({\\\"name\\\":\\\"changes\\\",\\\"scope\\\":\\\"15878240801716997274\\\",\\\"id\\\":\\\"ob_38\\\",\\\"type\\\":\\\"observable\\\"}),\\\"index\\\":WebIO.getval({\\\"name\\\":\\\"index\\\",\\\"scope\\\":\\\"15878240801716997274\\\",\\\"id\\\":\\\"ob_37\\\",\\\"type\\\":\\\"observable\\\"})};\\n    var self = this;\\n    function AppViewModel() {\\n        for (var key in json_data) {\\n            var el = json_data[key];\\n            this[key] = Array.isArray(el) ? ko.observableArray(el) : ko.observable(el);\\n        }\\n        \\n        [this[\\\"formatted_val\\\"]=ko.computed(    function(){\\n        return this.formatted_vals()[parseInt(this.index())-(1)];\\n    }\\n,this)]\\n        [this[\\\"changes\\\"].subscribe((function (val){!(this.valueFromJulia[\\\"changes\\\"]) ? (WebIO.setval({\\\"name\\\":\\\"changes\\\",\\\"scope\\\":\\\"15878240801716997274\\\",\\\"id\\\":\\\"ob_38\\\",\\\"type\\\":\\\"observable\\\"},val)) : undefined; return this.valueFromJulia[\\\"changes\\\"]=false}),self),this[\\\"index\\\"].subscribe((function (val){!(this.valueFromJulia[\\\"index\\\"]) ? (WebIO.setval({\\\"name\\\":\\\"index\\\",\\\"scope\\\":\\\"15878240801716997274\\\",\\\"id\\\":\\\"ob_37\\\",\\\"type\\\":\\\"observable\\\"},val)) : undefined; return this.valueFromJulia[\\\"index\\\"]=false}),self)]\\n        \\n    }\\n    self.model = new AppViewModel();\\n    self.valueFromJulia = {};\\n    for (var key in json_data) {\\n        self.valueFromJulia[key] = false;\\n    }\\n    ko.applyBindings(self.model, self.dom);\\n}\\n);\\n    (WebIO.importBlock({\\\"data\\\":[{\\\"name\\\":\\\"knockout\\\",\\\"type\\\":\\\"js\\\",\\\"url\\\":\\\"\\/assetserver\\/06b5713f7394e9c781d3d3143d6fd532e7f814ce-knockout.js\\\"},{\\\"name\\\":\\\"knockout_punches\\\",\\\"type\\\":\\\"js\\\",\\\"url\\\":\\\"\\/assetserver\\/695de4db56dde9805b672fe778fb2fc752e9b632-knockout_punches.js\\\"}],\\\"type\\\":\\\"async_block\\\"})).then((imports) => handler.apply(this, imports));\\n}\\n\"],\"observables\":{\"changes\":{\"sync\":false,\"id\":\"ob_38\",\"value\":0},\"index\":{\"sync\":true,\"id\":\"ob_37\",\"value\":4}}},\"children\":[{\"props\":{\"className\":\"interact-flex-row interact-widget\"},\"nodeType\":\"DOM\",\"type\":\"node\",\"instanceArgs\":{\"namespace\":\"html\",\"tag\":\"div\"},\"children\":[{\"props\":{\"className\":\"interact-flex-row-left\"},\"nodeType\":\"DOM\",\"type\":\"node\",\"instanceArgs\":{\"namespace\":\"html\",\"tag\":\"div\"},\"children\":[{\"props\":{\"className\":\"interact \",\"style\":{\"padding\":\"5px 10px 0px 10px\"}},\"nodeType\":\"DOM\",\"type\":\"node\",\"instanceArgs\":{\"namespace\":\"html\",\"tag\":\"label\"},\"children\":[\"i\"]}]},{\"props\":{\"className\":\"interact-flex-row-center\"},\"nodeType\":\"DOM\",\"type\":\"node\",\"instanceArgs\":{\"namespace\":\"html\",\"tag\":\"div\"},\"children\":[{\"props\":{\"max\":8,\"min\":1,\"attributes\":{\"type\":\"range\",\"data-bind\":\"numericValue: index, valueUpdate: 'input', event: {change: function (){this.changes(this.changes()+1)}}\",\"orient\":\"horizontal\"},\"step\":1,\"className\":\"slider slider is-fullwidth\",\"style\":{}},\"nodeType\":\"DOM\",\"type\":\"node\",\"instanceArgs\":{\"namespace\":\"html\",\"tag\":\"input\"},\"children\":[]}]},{\"props\":{\"className\":\"interact-flex-row-right\"},\"nodeType\":\"DOM\",\"type\":\"node\",\"instanceArgs\":{\"namespace\":\"html\",\"tag\":\"div\"},\"children\":[{\"props\":{\"attributes\":{\"data-bind\":\"text: formatted_val\"}},\"nodeType\":\"DOM\",\"type\":\"node\",\"instanceArgs\":{\"namespace\":\"html\",\"tag\":\"p\"},\"children\":[]}]}]}]}]},{\"props\":{\"className\":\"field interact-widget\"},\"nodeType\":\"DOM\",\"type\":\"node\",\"instanceArgs\":{\"namespace\":\"html\",\"tag\":\"div\"},\"children\":[{\"props\":{},\"nodeType\":\"Scope\",\"type\":\"node\",\"instanceArgs\":{\"imports\":{\"data\":[{\"name\":\"knockout\",\"type\":\"js\",\"url\":\"\\/assetserver\\/06b5713f7394e9c781d3d3143d6fd532e7f814ce-knockout.js\"},{\"name\":\"knockout_punches\",\"type\":\"js\",\"url\":\"\\/assetserver\\/695de4db56dde9805b672fe778fb2fc752e9b632-knockout_punches.js\"},{\"name\":null,\"type\":\"js\",\"url\":\"\\/assetserver\\/cd9cf93729ff320de8d59972e501bc7581ce199e-all.js\"},{\"name\":null,\"type\":\"css\",\"url\":\"\\/assetserver\\/2dd5b4483a1ad2cfea2512179b895d21de762858-style.css\"},{\"name\":null,\"type\":\"css\",\"url\":\"\\/assetserver\\/4a166f7fd21f97b78604bf0dafec2fdf4c488adb-bulma_confined.min.css\"}],\"type\":\"async_block\"},\"id\":\"8870688392999602960\",\"handlers\":{\"changes\":[\"(function (val){return (val!=this.model[\\\"changes\\\"]()) ? (this.valueFromJulia[\\\"changes\\\"]=true, this.model[\\\"changes\\\"](val)) : undefined})\"],\"index\":[\"(function (val){return (val!=this.model[\\\"index\\\"]()) ? (this.valueFromJulia[\\\"index\\\"]=true, this.model[\\\"index\\\"](val)) : undefined})\"]},\"systemjs_options\":null,\"mount_callbacks\":[\"function () {\\n    var handler = (function (ko, koPunches) {\\n    ko.punches.enableAll();\\n    ko.bindingHandlers.numericValue = {\\n        init: function(element, valueAccessor, allBindings, data, context) {\\n            var stringified = ko.observable(ko.unwrap(valueAccessor()));\\n            stringified.subscribe(function(value) {\\n                var val = parseFloat(value);\\n                if (!isNaN(val)) {\\n                    valueAccessor()(val);\\n                }\\n            });\\n            valueAccessor().subscribe(function(value) {\\n                var str = JSON.stringify(value);\\n                if ((str == \\\"0\\\") && ([\\\"-0\\\", \\\"-0.\\\"].indexOf(stringified()) >= 0))\\n                     return;\\n                 if ([\\\"null\\\", \\\"\\\"].indexOf(str) >= 0)\\n                     return;\\n                stringified(str);\\n            });\\n            ko.applyBindingsToNode(\\n                element,\\n                {\\n                    value: stringified,\\n                    valueUpdate: allBindings.get('valueUpdate'),\\n                },\\n                context,\\n            );\\n        }\\n    };\\n    var json_data = {\\\"formatted_vals\\\":[\\\"1\\\",\\\"2\\\",\\\"3\\\",\\\"4\\\",\\\"5\\\",\\\"6\\\",\\\"7\\\",\\\"8\\\"],\\\"changes\\\":WebIO.getval({\\\"name\\\":\\\"changes\\\",\\\"scope\\\":\\\"8870688392999602960\\\",\\\"id\\\":\\\"ob_40\\\",\\\"type\\\":\\\"observable\\\"}),\\\"index\\\":WebIO.getval({\\\"name\\\":\\\"index\\\",\\\"scope\\\":\\\"8870688392999602960\\\",\\\"id\\\":\\\"ob_39\\\",\\\"type\\\":\\\"observable\\\"})};\\n    var self = this;\\n    function AppViewModel() {\\n        for (var key in json_data) {\\n            var el = json_data[key];\\n            this[key] = Array.isArray(el) ? ko.observableArray(el) : ko.observable(el);\\n        }\\n        \\n        [this[\\\"formatted_val\\\"]=ko.computed(    function(){\\n        return this.formatted_vals()[parseInt(this.index())-(1)];\\n    }\\n,this)]\\n        [this[\\\"changes\\\"].subscribe((function (val){!(this.valueFromJulia[\\\"changes\\\"]) ? (WebIO.setval({\\\"name\\\":\\\"changes\\\",\\\"scope\\\":\\\"8870688392999602960\\\",\\\"id\\\":\\\"ob_40\\\",\\\"type\\\":\\\"observable\\\"},val)) : undefined; return this.valueFromJulia[\\\"changes\\\"]=false}),self),this[\\\"index\\\"].subscribe((function (val){!(this.valueFromJulia[\\\"index\\\"]) ? (WebIO.setval({\\\"name\\\":\\\"index\\\",\\\"scope\\\":\\\"8870688392999602960\\\",\\\"id\\\":\\\"ob_39\\\",\\\"type\\\":\\\"observable\\\"},val)) : undefined; return this.valueFromJulia[\\\"index\\\"]=false}),self)]\\n        \\n    }\\n    self.model = new AppViewModel();\\n    self.valueFromJulia = {};\\n    for (var key in json_data) {\\n        self.valueFromJulia[key] = false;\\n    }\\n    ko.applyBindings(self.model, self.dom);\\n}\\n);\\n    (WebIO.importBlock({\\\"data\\\":[{\\\"name\\\":\\\"knockout\\\",\\\"type\\\":\\\"js\\\",\\\"url\\\":\\\"\\/assetserver\\/06b5713f7394e9c781d3d3143d6fd532e7f814ce-knockout.js\\\"},{\\\"name\\\":\\\"knockout_punches\\\",\\\"type\\\":\\\"js\\\",\\\"url\\\":\\\"\\/assetserver\\/695de4db56dde9805b672fe778fb2fc752e9b632-knockout_punches.js\\\"}],\\\"type\\\":\\\"async_block\\\"})).then((imports) => handler.apply(this, imports));\\n}\\n\"],\"observables\":{\"changes\":{\"sync\":false,\"id\":\"ob_40\",\"value\":0},\"index\":{\"sync\":true,\"id\":\"ob_39\",\"value\":4}}},\"children\":[{\"props\":{\"className\":\"interact-flex-row interact-widget\"},\"nodeType\":\"DOM\",\"type\":\"node\",\"instanceArgs\":{\"namespace\":\"html\",\"tag\":\"div\"},\"children\":[{\"props\":{\"className\":\"interact-flex-row-left\"},\"nodeType\":\"DOM\",\"type\":\"node\",\"instanceArgs\":{\"namespace\":\"html\",\"tag\":\"div\"},\"children\":[{\"props\":{\"className\":\"interact \",\"style\":{\"padding\":\"5px 10px 0px 10px\"}},\"nodeType\":\"DOM\",\"type\":\"node\",\"instanceArgs\":{\"namespace\":\"html\",\"tag\":\"label\"},\"children\":[\"j\"]}]},{\"props\":{\"className\":\"interact-flex-row-center\"},\"nodeType\":\"DOM\",\"type\":\"node\",\"instanceArgs\":{\"namespace\":\"html\",\"tag\":\"div\"},\"children\":[{\"props\":{\"max\":8,\"min\":1,\"attributes\":{\"type\":\"range\",\"data-bind\":\"numericValue: index, valueUpdate: 'input', event: {change: function (){this.changes(this.changes()+1)}}\",\"orient\":\"horizontal\"},\"step\":1,\"className\":\"slider slider is-fullwidth\",\"style\":{}},\"nodeType\":\"DOM\",\"type\":\"node\",\"instanceArgs\":{\"namespace\":\"html\",\"tag\":\"input\"},\"children\":[]}]},{\"props\":{\"className\":\"interact-flex-row-right\"},\"nodeType\":\"DOM\",\"type\":\"node\",\"instanceArgs\":{\"namespace\":\"html\",\"tag\":\"div\"},\"children\":[{\"props\":{\"attributes\":{\"data-bind\":\"text: formatted_val\"}},\"nodeType\":\"DOM\",\"type\":\"node\",\"instanceArgs\":{\"namespace\":\"html\",\"tag\":\"p\"},\"children\":[]}]}]}]}]},{\"props\":{},\"nodeType\":\"Scope\",\"type\":\"node\",\"instanceArgs\":{\"imports\":{\"data\":[],\"type\":\"async_block\"},\"id\":\"7626591441356390651\",\"handlers\":{},\"systemjs_options\":null,\"mount_callbacks\":[],\"observables\":{\"obs-node\":{\"sync\":false,\"id\":\"ob_44\",\"value\":{\"props\":{\"className\":\"interact-flex-row interact-widget\"},\"nodeType\":\"DOM\",\"type\":\"node\",\"instanceArgs\":{\"namespace\":\"html\",\"tag\":\"div\"},\"children\":[{\"props\":{\"setInnerHtml\":\"<pre>10×10 Array{Int64,2}:\\n 0  0  0  0  0  0  0  0  0  0\\n 0  0  0  0  0  0  0  0  0  0\\n 0  0  0  0  0  0  0  0  0  0\\n 0  0  0  7  7  7  0  0  0  0\\n 0  0  0  7  7  7  0  0  0  0\\n 0  0  0  7  7  7  0  0  0  0\\n 0  0  0  0  0  0  0  0  0  0\\n 0  0  0  0  0  0  0  0  0  0\\n 0  0  0  0  0  0  0  0  0  0\\n 0  0  0  0  0  0  0  0  0  0<\\/pre>\"},\"nodeType\":\"DOM\",\"type\":\"node\",\"instanceArgs\":{\"namespace\":\"html\",\"tag\":\"div\"},\"children\":[]}]}}}},\"children\":[{\"props\":{},\"nodeType\":\"ObservableNode\",\"type\":\"node\",\"instanceArgs\":{\"id\":\"ob_44\",\"name\":\"obs-node\"},\"children\":[]}]}]},\n",
       "            window,\n",
       "        );\n",
       "    } else {\n",
       "        document\n",
       "            .querySelector('[data-webio-mountpoint=\"2841505432647744674\"]')\n",
       "            .innerHTML = '<strong>WebIO not detected.</strong>';\n",
       "    }\n",
       "    </script>\n",
       "</div>\n"
      ],
      "text/plain": [
       "Node{WebIO.DOM}(WebIO.DOM(:html, :div), Any[Node{DOM}(DOM(:html, :div), Any[Scope(Node{DOM}(DOM(:html, :div), Any[Node{DOM}(DOM(:html, :div), Any[Node{DOM}(DOM(:html, :label), Any[\"i\"], Dict{Symbol,Any}(:className=>\"interact \",:style=>Dict{Any,Any}(:padding=>\"5px 10px 0px 10px\")))], Dict{Symbol,Any}(:className=>\"interact-flex-row-left\")), Node{DOM}(DOM(:html, :div), Any[Node{DOM}(DOM(:html, :input), Any[], Dict{Symbol,Any}(:max=>8,:min=>1,:attributes=>Dict{Any,Any}(:type=>\"range\",Symbol(\"data-bind\")=>\"numericValue: index, valueUpdate: 'input', event: {change: function (){this.changes(this.changes()+1)}}\",\"orient\"=>\"horizontal\"),:step=>1,:className=>\"slider slider is-fullwidth\",:style=>Dict{Any,Any}()))], Dict{Symbol,Any}(:className=>\"interact-flex-row-center\")), Node{DOM}(DOM(:html, :div), Any[Node{DOM}(DOM(:html, :p), Any[], Dict{Symbol,Any}(:attributes=>Dict(\"data-bind\"=>\"text: formatted_val\")))], Dict{Symbol,Any}(:className=>\"interact-flex-row-right\"))], Dict{Symbol,Any}(:className=>\"interact-flex-row interact-widget\")), Dict{String,Tuple{Observables.AbstractObservable,Union{Nothing, Bool}}}(\"changes\"=>(Observable{Int64} with 1 listeners. Value:\n",
       "0, nothing),\"index\"=>(Observable{Int64} with 2 listeners. Value:\n",
       "4, nothing)), Set(String[]), nothing, Asset[Asset(\"js\", \"knockout\", \"C:\\\\Users\\\\carsten\\\\.julia\\\\packages\\\\Knockout\\\\1sDlc\\\\src\\\\..\\\\assets\\\\knockout.js\"), Asset(\"js\", \"knockout_punches\", \"C:\\\\Users\\\\carsten\\\\.julia\\\\packages\\\\Knockout\\\\1sDlc\\\\src\\\\..\\\\assets\\\\knockout_punches.js\"), Asset(\"js\", nothing, \"C:\\\\Users\\\\carsten\\\\.julia\\\\packages\\\\InteractBase\\\\l8cEC\\\\src\\\\..\\\\assets\\\\all.js\"), Asset(\"css\", nothing, \"C:\\\\Users\\\\carsten\\\\.julia\\\\packages\\\\InteractBase\\\\l8cEC\\\\src\\\\..\\\\assets\\\\style.css\"), Asset(\"css\", nothing, \"C:\\\\Users\\\\carsten\\\\.julia\\\\packages\\\\Interact\\\\0klKX\\\\src\\\\..\\\\assets\\\\bulma_confined.min.css\")], Dict{Any,Any}(\"changes\"=>Any[JSString(\"(function (val){return (val!=this.model[\\\"changes\\\"]()) ? (this.valueFromJulia[\\\"changes\\\"]=true, this.model[\\\"changes\\\"](val)) : undefined})\")],\"index\"=>Any[JSString(\"(function (val){return (val!=this.model[\\\"index\\\"]()) ? (this.valueFromJulia[\\\"index\\\"]=true, this.model[\\\"index\\\"](val)) : undefined})\")]), ConnectionPool(Channel{Any}(sz_max:9223372036854775807,sz_curr:0), Set(AbstractConnection[]), Channel{AbstractConnection}(sz_max:32,sz_curr:0)), WebIO.JSString[JSString(\"function () {\\n    var handler = (function (ko, koPunches) {\\n    ko.punches.enableAll();\\n    ko.bindingHandlers.numericValue = {\\n        init: function(element, valueAccessor, allBindings, data, context) {\\n            var stringified = ko.observable(ko.unwrap(valueAccessor()));\\n            stringified.subscribe(function(value) {\\n                var val = parseFloat(value);\\n                if (!isNaN(val)) {\\n                    valueAccessor()(val);\\n                }\\n            });\\n            valueAccessor().subscribe(function(value) {\\n                var str = JSON.stringify(value);\\n                if ((str == \\\"0\\\") && ([\\\"-0\\\", \\\"-0.\\\"].indexOf(stringified()) >= 0))\\n                     return;\\n                 if ([\\\"null\\\", \\\"\\\"].indexOf(str) >= 0)\\n                     return;\\n                stringified(str);\\n            });\\n            ko.applyBindingsToNode(\\n                element,\\n                {\\n                    value: stringified,\\n                    valueUpdate: allBindings.get('valueUpdate'),\\n                },\\n                context,\\n            );\\n        }\\n    };\\n    var json_data = {\\\"formatted_vals\\\":[\\\"1\\\",\\\"2\\\",\\\"3\\\",\\\"4\\\",\\\"5\\\",\\\"6\\\",\\\"7\\\",\\\"8\\\"],\\\"changes\\\":WebIO.getval({\\\"name\\\":\\\"changes\\\",\\\"scope\\\":\\\"15878240801716997274\\\",\\\"id\\\":\\\"ob_38\\\",\\\"type\\\":\\\"observable\\\"}),\\\"index\\\":WebIO.getval({\\\"name\\\":\\\"index\\\",\\\"scope\\\":\\\"15878240801716997274\\\",\\\"id\\\":\\\"ob_37\\\",\\\"type\\\":\\\"observable\\\"})};\\n    var self = this;\\n    function AppViewModel() {\\n        for (var key in json_data) {\\n            var el = json_data[key];\\n            this[key] = Array.isArray(el) ? ko.observableArray(el) : ko.observable(el);\\n        }\\n        \\n        [this[\\\"formatted_val\\\"]=ko.computed(    function(){\\n        return this.formatted_vals()[parseInt(this.index())-(1)];\\n    }\\n,this)]\\n        [this[\\\"changes\\\"].subscribe((function (val){!(this.valueFromJulia[\\\"changes\\\"]) ? (WebIO.setval({\\\"name\\\":\\\"changes\\\",\\\"scope\\\":\\\"15878240801716997274\\\",\\\"id\\\":\\\"ob_38\\\",\\\"type\\\":\\\"observable\\\"},val)) : undefined; return this.valueFromJulia[\\\"changes\\\"]=false}),self),this[\\\"index\\\"].subscribe((function (val){!(this.valueFromJulia[\\\"index\\\"]) ? (WebIO.setval({\\\"name\\\":\\\"index\\\",\\\"scope\\\":\\\"15878240801716997274\\\",\\\"id\\\":\\\"ob_37\\\",\\\"type\\\":\\\"observable\\\"},val)) : undefined; return this.valueFromJulia[\\\"index\\\"]=false}),self)]\\n        \\n    }\\n    self.model = new AppViewModel();\\n    self.valueFromJulia = {};\\n    for (var key in json_data) {\\n        self.valueFromJulia[key] = false;\\n    }\\n    ko.applyBindings(self.model, self.dom);\\n}\\n);\\n    (WebIO.importBlock({\\\"data\\\":[{\\\"name\\\":\\\"knockout\\\",\\\"type\\\":\\\"js\\\",\\\"url\\\":\\\"/assetserver/06b5713f7394e9c781d3d3143d6fd532e7f814ce-knockout.js\\\"},{\\\"name\\\":\\\"knockout_punches\\\",\\\"type\\\":\\\"js\\\",\\\"url\\\":\\\"/assetserver/695de4db56dde9805b672fe778fb2fc752e9b632-knockout_punches.js\\\"}],\\\"type\\\":\\\"async_block\\\"})).then((imports) => handler.apply(this, imports));\\n}\\n\")])], Dict{Symbol,Any}(:className=>\"field interact-widget\")), Node{DOM}(DOM(:html, :div), Any[Scope(Node{DOM}(DOM(:html, :div), Any[Node{DOM}(DOM(:html, :div), Any[Node{DOM}(DOM(:html, :label), Any[\"j\"], Dict{Symbol,Any}(:className=>\"interact \",:style=>Dict{Any,Any}(:padding=>\"5px 10px 0px 10px\")))], Dict{Symbol,Any}(:className=>\"interact-flex-row-left\")), Node{DOM}(DOM(:html, :div), Any[Node{DOM}(DOM(:html, :input), Any[], Dict{Symbol,Any}(:max=>8,:min=>1,:attributes=>Dict{Any,Any}(:type=>\"range\",Symbol(\"data-bind\")=>\"numericValue: index, valueUpdate: 'input', event: {change: function (){this.changes(this.changes()+1)}}\",\"orient\"=>\"horizontal\"),:step=>1,:className=>\"slider slider is-fullwidth\",:style=>Dict{Any,Any}()))], Dict{Symbol,Any}(:className=>\"interact-flex-row-center\")), Node{DOM}(DOM(:html, :div), Any[Node{DOM}(DOM(:html, :p), Any[], Dict{Symbol,Any}(:attributes=>Dict(\"data-bind\"=>\"text: formatted_val\")))], Dict{Symbol,Any}(:className=>\"interact-flex-row-right\"))], Dict{Symbol,Any}(:className=>\"interact-flex-row interact-widget\")), Dict{String,Tuple{Observables.AbstractObservable,Union{Nothing, Bool}}}(\"changes\"=>(Observable{Int64} with 1 listeners. Value:\n",
       "0, nothing),\"index\"=>(Observable{Int64} with 2 listeners. Value:\n",
       "4, nothing)), Set(String[]), nothing, Asset[Asset(\"js\", \"knockout\", \"C:\\\\Users\\\\carsten\\\\.julia\\\\packages\\\\Knockout\\\\1sDlc\\\\src\\\\..\\\\assets\\\\knockout.js\"), Asset(\"js\", \"knockout_punches\", \"C:\\\\Users\\\\carsten\\\\.julia\\\\packages\\\\Knockout\\\\1sDlc\\\\src\\\\..\\\\assets\\\\knockout_punches.js\"), Asset(\"js\", nothing, \"C:\\\\Users\\\\carsten\\\\.julia\\\\packages\\\\InteractBase\\\\l8cEC\\\\src\\\\..\\\\assets\\\\all.js\"), Asset(\"css\", nothing, \"C:\\\\Users\\\\carsten\\\\.julia\\\\packages\\\\InteractBase\\\\l8cEC\\\\src\\\\..\\\\assets\\\\style.css\"), Asset(\"css\", nothing, \"C:\\\\Users\\\\carsten\\\\.julia\\\\packages\\\\Interact\\\\0klKX\\\\src\\\\..\\\\assets\\\\bulma_confined.min.css\")], Dict{Any,Any}(\"changes\"=>Any[JSString(\"(function (val){return (val!=this.model[\\\"changes\\\"]()) ? (this.valueFromJulia[\\\"changes\\\"]=true, this.model[\\\"changes\\\"](val)) : undefined})\")],\"index\"=>Any[JSString(\"(function (val){return (val!=this.model[\\\"index\\\"]()) ? (this.valueFromJulia[\\\"index\\\"]=true, this.model[\\\"index\\\"](val)) : undefined})\")]), ConnectionPool(Channel{Any}(sz_max:9223372036854775807,sz_curr:0), Set(AbstractConnection[]), Channel{AbstractConnection}(sz_max:32,sz_curr:0)), WebIO.JSString[JSString(\"function () {\\n    var handler = (function (ko, koPunches) {\\n    ko.punches.enableAll();\\n    ko.bindingHandlers.numericValue = {\\n        init: function(element, valueAccessor, allBindings, data, context) {\\n            var stringified = ko.observable(ko.unwrap(valueAccessor()));\\n            stringified.subscribe(function(value) {\\n                var val = parseFloat(value);\\n                if (!isNaN(val)) {\\n                    valueAccessor()(val);\\n                }\\n            });\\n            valueAccessor().subscribe(function(value) {\\n                var str = JSON.stringify(value);\\n                if ((str == \\\"0\\\") && ([\\\"-0\\\", \\\"-0.\\\"].indexOf(stringified()) >= 0))\\n                     return;\\n                 if ([\\\"null\\\", \\\"\\\"].indexOf(str) >= 0)\\n                     return;\\n                stringified(str);\\n            });\\n            ko.applyBindingsToNode(\\n                element,\\n                {\\n                    value: stringified,\\n                    valueUpdate: allBindings.get('valueUpdate'),\\n                },\\n                context,\\n            );\\n        }\\n    };\\n    var json_data = {\\\"formatted_vals\\\":[\\\"1\\\",\\\"2\\\",\\\"3\\\",\\\"4\\\",\\\"5\\\",\\\"6\\\",\\\"7\\\",\\\"8\\\"],\\\"changes\\\":WebIO.getval({\\\"name\\\":\\\"changes\\\",\\\"scope\\\":\\\"8870688392999602960\\\",\\\"id\\\":\\\"ob_40\\\",\\\"type\\\":\\\"observable\\\"}),\\\"index\\\":WebIO.getval({\\\"name\\\":\\\"index\\\",\\\"scope\\\":\\\"8870688392999602960\\\",\\\"id\\\":\\\"ob_39\\\",\\\"type\\\":\\\"observable\\\"})};\\n    var self = this;\\n    function AppViewModel() {\\n        for (var key in json_data) {\\n            var el = json_data[key];\\n            this[key] = Array.isArray(el) ? ko.observableArray(el) : ko.observable(el);\\n        }\\n        \\n        [this[\\\"formatted_val\\\"]=ko.computed(    function(){\\n        return this.formatted_vals()[parseInt(this.index())-(1)];\\n    }\\n,this)]\\n        [this[\\\"changes\\\"].subscribe((function (val){!(this.valueFromJulia[\\\"changes\\\"]) ? (WebIO.setval({\\\"name\\\":\\\"changes\\\",\\\"scope\\\":\\\"8870688392999602960\\\",\\\"id\\\":\\\"ob_40\\\",\\\"type\\\":\\\"observable\\\"},val)) : undefined; return this.valueFromJulia[\\\"changes\\\"]=false}),self),this[\\\"index\\\"].subscribe((function (val){!(this.valueFromJulia[\\\"index\\\"]) ? (WebIO.setval({\\\"name\\\":\\\"index\\\",\\\"scope\\\":\\\"8870688392999602960\\\",\\\"id\\\":\\\"ob_39\\\",\\\"type\\\":\\\"observable\\\"},val)) : undefined; return this.valueFromJulia[\\\"index\\\"]=false}),self)]\\n        \\n    }\\n    self.model = new AppViewModel();\\n    self.valueFromJulia = {};\\n    for (var key in json_data) {\\n        self.valueFromJulia[key] = false;\\n    }\\n    ko.applyBindings(self.model, self.dom);\\n}\\n);\\n    (WebIO.importBlock({\\\"data\\\":[{\\\"name\\\":\\\"knockout\\\",\\\"type\\\":\\\"js\\\",\\\"url\\\":\\\"/assetserver/06b5713f7394e9c781d3d3143d6fd532e7f814ce-knockout.js\\\"},{\\\"name\\\":\\\"knockout_punches\\\",\\\"type\\\":\\\"js\\\",\\\"url\\\":\\\"/assetserver/695de4db56dde9805b672fe778fb2fc752e9b632-knockout_punches.js\\\"}],\\\"type\\\":\\\"async_block\\\"})).then((imports) => handler.apply(this, imports));\\n}\\n\")])], Dict{Symbol,Any}(:className=>\"field interact-widget\")), Observable{Any} with 0 listeners. Value:\n",
       "Node{DOM}(DOM(:html, :div), Any[[0 0 … 0 0; 0 0 … 0 0; … ; 0 0 … 0 0; 0 0 … 0 0]], Dict{Symbol,Any}(:className=>\"interact-flex-row interact-widget\"))], Dict{Symbol,Any}())"
      ]
     },
     "execution_count": 18,
     "metadata": {
      "application/vnd.webio.node+json": {
       "kernelId": null
      }
     },
     "output_type": "execute_result"
    }
   ],
   "source": [
    "A = fill(0, 10, 10)\n",
    "n = size(A, 1)\n",
    "\n",
    "@manipulate for i in 1:n-2, j in 1:n-2\n",
    "    insert_block(A, i, j)\n",
    "end"
   ]
  },
  {
   "cell_type": "markdown",
   "metadata": {},
   "source": [
    "### Let's add some color!"
   ]
  },
  {
   "cell_type": "markdown",
   "metadata": {},
   "source": [
    "Our function `insert_block` is generic. Since the first argument `A isa AbstractArray`, we can index into it and set new values. Pretty much every value type is fine!"
   ]
  },
  {
   "cell_type": "code",
   "execution_count": 19,
   "metadata": {},
   "outputs": [],
   "source": [
    "using Colors"
   ]
  },
  {
   "cell_type": "code",
   "execution_count": 23,
   "metadata": {},
   "outputs": [
    {
     "data": {
      "application/vnd.webio.node+json": {
       "children": [
        {
         "children": [
          {
           "children": [
            {
             "children": [
              {
               "children": [
                {
                 "children": [
                  "n"
                 ],
                 "instanceArgs": {
                  "namespace": "html",
                  "tag": "label"
                 },
                 "nodeType": "DOM",
                 "props": {
                  "className": "interact ",
                  "style": {
                   "padding": "5px 10px 0px 10px"
                  }
                 },
                 "type": "node"
                }
               ],
               "instanceArgs": {
                "namespace": "html",
                "tag": "div"
               },
               "nodeType": "DOM",
               "props": {
                "className": "interact-flex-row-left"
               },
               "type": "node"
              },
              {
               "children": [
                {
                 "children": [],
                 "instanceArgs": {
                  "namespace": "html",
                  "tag": "input"
                 },
                 "nodeType": "DOM",
                 "props": {
                  "attributes": {
                   "data-bind": "numericValue: index, valueUpdate: 'input', event: {change: function (){this.changes(this.changes()+1)}}",
                   "orient": "horizontal",
                   "type": "range"
                  },
                  "className": "slider slider is-fullwidth",
                  "max": 80,
                  "min": 1,
                  "step": 1,
                  "style": {}
                 },
                 "type": "node"
                }
               ],
               "instanceArgs": {
                "namespace": "html",
                "tag": "div"
               },
               "nodeType": "DOM",
               "props": {
                "className": "interact-flex-row-center"
               },
               "type": "node"
              },
              {
               "children": [
                {
                 "children": [],
                 "instanceArgs": {
                  "namespace": "html",
                  "tag": "p"
                 },
                 "nodeType": "DOM",
                 "props": {
                  "attributes": {
                   "data-bind": "text: formatted_val"
                  }
                 },
                 "type": "node"
                }
               ],
               "instanceArgs": {
                "namespace": "html",
                "tag": "div"
               },
               "nodeType": "DOM",
               "props": {
                "className": "interact-flex-row-right"
               },
               "type": "node"
              }
             ],
             "instanceArgs": {
              "namespace": "html",
              "tag": "div"
             },
             "nodeType": "DOM",
             "props": {
              "className": "interact-flex-row interact-widget"
             },
             "type": "node"
            }
           ],
           "instanceArgs": {
            "handlers": {
             "changes": [
              "(function (val){return (val!=this.model[\"changes\"]()) ? (this.valueFromJulia[\"changes\"]=true, this.model[\"changes\"](val)) : undefined})"
             ],
             "index": [
              "(function (val){return (val!=this.model[\"index\"]()) ? (this.valueFromJulia[\"index\"]=true, this.model[\"index\"](val)) : undefined})"
             ]
            },
            "id": "6935929107675904645",
            "imports": {
             "data": [
              {
               "name": "knockout",
               "type": "js",
               "url": "/assetserver/06b5713f7394e9c781d3d3143d6fd532e7f814ce-knockout.js"
              },
              {
               "name": "knockout_punches",
               "type": "js",
               "url": "/assetserver/695de4db56dde9805b672fe778fb2fc752e9b632-knockout_punches.js"
              },
              {
               "name": null,
               "type": "js",
               "url": "/assetserver/cd9cf93729ff320de8d59972e501bc7581ce199e-all.js"
              },
              {
               "name": null,
               "type": "css",
               "url": "/assetserver/2dd5b4483a1ad2cfea2512179b895d21de762858-style.css"
              },
              {
               "name": null,
               "type": "css",
               "url": "/assetserver/4a166f7fd21f97b78604bf0dafec2fdf4c488adb-bulma_confined.min.css"
              }
             ],
             "type": "async_block"
            },
            "mount_callbacks": [
             "function () {\n    var handler = (function (ko, koPunches) {\n    ko.punches.enableAll();\n    ko.bindingHandlers.numericValue = {\n        init: function(element, valueAccessor, allBindings, data, context) {\n            var stringified = ko.observable(ko.unwrap(valueAccessor()));\n            stringified.subscribe(function(value) {\n                var val = parseFloat(value);\n                if (!isNaN(val)) {\n                    valueAccessor()(val);\n                }\n            });\n            valueAccessor().subscribe(function(value) {\n                var str = JSON.stringify(value);\n                if ((str == \"0\") && ([\"-0\", \"-0.\"].indexOf(stringified()) >= 0))\n                     return;\n                 if ([\"null\", \"\"].indexOf(str) >= 0)\n                     return;\n                stringified(str);\n            });\n            ko.applyBindingsToNode(\n                element,\n                {\n                    value: stringified,\n                    valueUpdate: allBindings.get('valueUpdate'),\n                },\n                context,\n            );\n        }\n    };\n    var json_data = {\"formatted_vals\":[\"1\",\"2\",\"3\",\"4\",\"5\",\"6\",\"7\",\"8\",\"9\",\"10\",\"11\",\"12\",\"13\",\"14\",\"15\",\"16\",\"17\",\"18\",\"19\",\"20\",\"21\",\"22\",\"23\",\"24\",\"25\",\"26\",\"27\",\"28\",\"29\",\"30\",\"31\",\"32\",\"33\",\"34\",\"35\",\"36\",\"37\",\"38\",\"39\",\"40\",\"41\",\"42\",\"43\",\"44\",\"45\",\"46\",\"47\",\"48\",\"49\",\"50\",\"51\",\"52\",\"53\",\"54\",\"55\",\"56\",\"57\",\"58\",\"59\",\"60\",\"61\",\"62\",\"63\",\"64\",\"65\",\"66\",\"67\",\"68\",\"69\",\"70\",\"71\",\"72\",\"73\",\"74\",\"75\",\"76\",\"77\",\"78\",\"79\",\"80\"],\"changes\":WebIO.getval({\"name\":\"changes\",\"scope\":\"6935929107675904645\",\"id\":\"ob_56\",\"type\":\"observable\"}),\"index\":WebIO.getval({\"name\":\"index\",\"scope\":\"6935929107675904645\",\"id\":\"ob_55\",\"type\":\"observable\"})};\n    var self = this;\n    function AppViewModel() {\n        for (var key in json_data) {\n            var el = json_data[key];\n            this[key] = Array.isArray(el) ? ko.observableArray(el) : ko.observable(el);\n        }\n        \n        [this[\"formatted_val\"]=ko.computed(    function(){\n        return this.formatted_vals()[parseInt(this.index())-(1)];\n    }\n,this)]\n        [this[\"changes\"].subscribe((function (val){!(this.valueFromJulia[\"changes\"]) ? (WebIO.setval({\"name\":\"changes\",\"scope\":\"6935929107675904645\",\"id\":\"ob_56\",\"type\":\"observable\"},val)) : undefined; return this.valueFromJulia[\"changes\"]=false}),self),this[\"index\"].subscribe((function (val){!(this.valueFromJulia[\"index\"]) ? (WebIO.setval({\"name\":\"index\",\"scope\":\"6935929107675904645\",\"id\":\"ob_55\",\"type\":\"observable\"},val)) : undefined; return this.valueFromJulia[\"index\"]=false}),self)]\n        \n    }\n    self.model = new AppViewModel();\n    self.valueFromJulia = {};\n    for (var key in json_data) {\n        self.valueFromJulia[key] = false;\n    }\n    ko.applyBindings(self.model, self.dom);\n}\n);\n    (WebIO.importBlock({\"data\":[{\"name\":\"knockout\",\"type\":\"js\",\"url\":\"/assetserver/06b5713f7394e9c781d3d3143d6fd532e7f814ce-knockout.js\"},{\"name\":\"knockout_punches\",\"type\":\"js\",\"url\":\"/assetserver/695de4db56dde9805b672fe778fb2fc752e9b632-knockout_punches.js\"}],\"type\":\"async_block\"})).then((imports) => handler.apply(this, imports));\n}\n"
            ],
            "observables": {
             "changes": {
              "id": "ob_56",
              "sync": false,
              "value": 0
             },
             "index": {
              "id": "ob_55",
              "sync": true,
              "value": 40
             }
            },
            "systemjs_options": null
           },
           "nodeType": "Scope",
           "props": {},
           "type": "node"
          }
         ],
         "instanceArgs": {
          "namespace": "html",
          "tag": "div"
         },
         "nodeType": "DOM",
         "props": {
          "className": "field interact-widget"
         },
         "type": "node"
        },
        {
         "children": [
          {
           "children": [],
           "instanceArgs": {
            "id": "ob_62",
            "name": "obs-node"
           },
           "nodeType": "ObservableNode",
           "props": {},
           "type": "node"
          }
         ],
         "instanceArgs": {
          "handlers": {},
          "id": "7095512535174438484",
          "imports": {
           "data": [],
           "type": "async_block"
          },
          "mount_callbacks": [],
          "observables": {
           "obs-node": {
            "id": "ob_62",
            "sync": false,
            "value": {
             "children": [
              {
               "children": [],
               "instanceArgs": {
                "namespace": "html",
                "tag": "div"
               },
               "nodeType": "DOM",
               "props": {
                "setInnerHtml": "<?xml version=\"1.0\" encoding=\"UTF-8\"?>\n<!DOCTYPE svg PUBLIC \"-//W3C//DTD SVG 1.1//EN\"\n \"http://www.w3.org/Graphics/SVG/1.1/DTD/svg11.dtd\">\n<svg xmlns=\"http://www.w3.org/2000/svg\" version=\"1.1\"\n     width=\"180.0mm\" height=\"25.0mm\"\n     shape-rendering=\"crispEdges\">\n<rect x=\"0.0mm\" y=\"0.0mm\"\n      width=\"3.5mm\" height=\"24.0mm\"\n      fill=\"#000000\" stroke=\"none\" />\n<rect x=\"4.5mm\" y=\"0.0mm\"\n      width=\"3.5mm\" height=\"24.0mm\"\n      fill=\"#FFFF62\" stroke=\"none\" />\n<rect x=\"9.0mm\" y=\"0.0mm\"\n      width=\"3.5mm\" height=\"24.0mm\"\n      fill=\"#FF9FFF\" stroke=\"none\" />\n<rect x=\"13.5mm\" y=\"0.0mm\"\n      width=\"3.5mm\" height=\"24.0mm\"\n      fill=\"#00D6FF\" stroke=\"none\" />\n<rect x=\"18.0mm\" y=\"0.0mm\"\n      width=\"3.5mm\" height=\"24.0mm\"\n      fill=\"#D74400\" stroke=\"none\" />\n<rect x=\"22.5mm\" y=\"0.0mm\"\n      width=\"3.5mm\" height=\"24.0mm\"\n      fill=\"#008029\" stroke=\"none\" />\n<rect x=\"27.0mm\" y=\"0.0mm\"\n      width=\"3.5mm\" height=\"24.0mm\"\n      fill=\"#005FD5\" stroke=\"none\" />\n<rect x=\"31.5mm\" y=\"0.0mm\"\n      width=\"3.5mm\" height=\"24.0mm\"\n      fill=\"#930068\" stroke=\"none\" />\n<rect x=\"36.0mm\" y=\"0.0mm\"\n      width=\"3.5mm\" height=\"24.0mm\"\n      fill=\"#FFCBB5\" stroke=\"none\" />\n<rect x=\"40.5mm\" y=\"0.0mm\"\n      width=\"3.5mm\" height=\"24.0mm\"\n      fill=\"#A78600\" stroke=\"none\" />\n<rect x=\"45.0mm\" y=\"0.0mm\"\n      width=\"3.5mm\" height=\"24.0mm\"\n      fill=\"#00FFC5\" stroke=\"none\" />\n<rect x=\"49.5mm\" y=\"0.0mm\"\n      width=\"3.5mm\" height=\"24.0mm\"\n      fill=\"#007E86\" stroke=\"none\" />\n<rect x=\"54.0mm\" y=\"0.0mm\"\n      width=\"3.5mm\" height=\"24.0mm\"\n      fill=\"#534200\" stroke=\"none\" />\n<rect x=\"58.5mm\" y=\"0.0mm\"\n      width=\"3.5mm\" height=\"24.0mm\"\n      fill=\"#8C8793\" stroke=\"none\" />\n<rect x=\"63.0mm\" y=\"0.0mm\"\n      width=\"3.5mm\" height=\"24.0mm\"\n      fill=\"#680000\" stroke=\"none\" />\n<rect x=\"67.5mm\" y=\"0.0mm\"\n      width=\"3.5mm\" height=\"24.0mm\"\n      fill=\"#00005A\" stroke=\"none\" />\n<rect x=\"72.0mm\" y=\"0.0mm\"\n      width=\"3.5mm\" height=\"24.0mm\"\n      fill=\"#FF2C6F\" stroke=\"none\" />\n<rect x=\"76.5mm\" y=\"0.0mm\"\n      width=\"3.5mm\" height=\"24.0mm\"\n      fill=\"#F7FFF6\" stroke=\"none\" />\n<rect x=\"81.0mm\" y=\"0.0mm\"\n      width=\"3.5mm\" height=\"24.0mm\"\n      fill=\"#003D25\" stroke=\"none\" />\n<rect x=\"85.5mm\" y=\"0.0mm\"\n      width=\"3.5mm\" height=\"24.0mm\"\n      fill=\"#91ABFF\" stroke=\"none\" />\n<rect x=\"90.0mm\" y=\"0.0mm\"\n      width=\"3.5mm\" height=\"24.0mm\"\n      fill=\"#A1B684\" stroke=\"none\" />\n<rect x=\"94.5mm\" y=\"0.0mm\"\n      width=\"3.5mm\" height=\"24.0mm\"\n      fill=\"#605051\" stroke=\"none\" />\n<rect x=\"99.0mm\" y=\"0.0mm\"\n      width=\"3.5mm\" height=\"24.0mm\"\n      fill=\"#C129E2\" stroke=\"none\" />\n<rect x=\"103.5mm\" y=\"0.0mm\"\n      width=\"3.5mm\" height=\"24.0mm\"\n      fill=\"#FF8E1E\" stroke=\"none\" />\n<rect x=\"108.0mm\" y=\"0.0mm\"\n      width=\"3.5mm\" height=\"24.0mm\"\n      fill=\"#003F51\" stroke=\"none\" />\n<rect x=\"112.5mm\" y=\"0.0mm\"\n      width=\"3.5mm\" height=\"24.0mm\"\n      fill=\"#797860\" stroke=\"none\" />\n<rect x=\"117.0mm\" y=\"0.0mm\"\n      width=\"3.5mm\" height=\"24.0mm\"\n      fill=\"#2E001C\" stroke=\"none\" />\n<rect x=\"121.5mm\" y=\"0.0mm\"\n      width=\"3.5mm\" height=\"24.0mm\"\n      fill=\"#01AF99\" stroke=\"none\" />\n<rect x=\"126.0mm\" y=\"0.0mm\"\n      width=\"3.5mm\" height=\"24.0mm\"\n      fill=\"#FFE6FF\" stroke=\"none\" />\n<rect x=\"130.5mm\" y=\"0.0mm\"\n      width=\"3.5mm\" height=\"24.0mm\"\n      fill=\"#77DA00\" stroke=\"none\" />\n<rect x=\"135.0mm\" y=\"0.0mm\"\n      width=\"3.5mm\" height=\"24.0mm\"\n      fill=\"#5B4B83\" stroke=\"none\" />\n<rect x=\"139.5mm\" y=\"0.0mm\"\n      width=\"3.5mm\" height=\"24.0mm\"\n      fill=\"#0094CF\" stroke=\"none\" />\n<rect x=\"144.0mm\" y=\"0.0mm\"\n      width=\"3.5mm\" height=\"24.0mm\"\n      fill=\"#B8739F\" stroke=\"none\" />\n<rect x=\"148.5mm\" y=\"0.0mm\"\n      width=\"3.5mm\" height=\"24.0mm\"\n      fill=\"#FF8269\" stroke=\"none\" />\n<rect x=\"153.0mm\" y=\"0.0mm\"\n      width=\"3.5mm\" height=\"24.0mm\"\n      fill=\"#FFBE05\" stroke=\"none\" />\n<rect x=\"157.5mm\" y=\"0.0mm\"\n      width=\"3.5mm\" height=\"24.0mm\"\n      fill=\"#C20030\" stroke=\"none\" />\n<rect x=\"162.0mm\" y=\"0.0mm\"\n      width=\"3.5mm\" height=\"24.0mm\"\n      fill=\"#A9806C\" stroke=\"none\" />\n<rect x=\"166.5mm\" y=\"0.0mm\"\n      width=\"3.5mm\" height=\"24.0mm\"\n      fill=\"#955600\" stroke=\"none\" />\n<rect x=\"171.0mm\" y=\"0.0mm\"\n      width=\"3.5mm\" height=\"24.0mm\"\n      fill=\"#9FB3B2\" stroke=\"none\" />\n<rect x=\"175.5mm\" y=\"0.0mm\"\n      width=\"3.5mm\" height=\"24.0mm\"\n      fill=\"#789500\" stroke=\"none\" />\n</svg>"
               },
               "type": "node"
              }
             ],
             "instanceArgs": {
              "namespace": "html",
              "tag": "div"
             },
             "nodeType": "DOM",
             "props": {
              "className": "interact-flex-row interact-widget"
             },
             "type": "node"
            }
           }
          },
          "systemjs_options": null
         },
         "nodeType": "Scope",
         "props": {},
         "type": "node"
        }
       ],
       "instanceArgs": {
        "namespace": "html",
        "tag": "div"
       },
       "nodeType": "DOM",
       "props": {},
       "type": "node"
      },
      "text/html": [
       "<div\n",
       "    class=\"webio-mountpoint\"\n",
       "    data-webio-mountpoint=\"12515099736659585065\"\n",
       ">\n",
       "    <script>\n",
       "    if (window.require && require.defined && require.defined(\"nbextensions/webio/main\")) {\n",
       "        console.log(\"Jupyter WebIO extension detected, not mounting.\");\n",
       "    } else if (window.WebIO) {\n",
       "        WebIO.mount(\n",
       "            document.querySelector('[data-webio-mountpoint=\"12515099736659585065\"]'),\n",
       "            {\"props\":{},\"nodeType\":\"DOM\",\"type\":\"node\",\"instanceArgs\":{\"namespace\":\"html\",\"tag\":\"div\"},\"children\":[{\"props\":{\"className\":\"field interact-widget\"},\"nodeType\":\"DOM\",\"type\":\"node\",\"instanceArgs\":{\"namespace\":\"html\",\"tag\":\"div\"},\"children\":[{\"props\":{},\"nodeType\":\"Scope\",\"type\":\"node\",\"instanceArgs\":{\"imports\":{\"data\":[{\"name\":\"knockout\",\"type\":\"js\",\"url\":\"\\/assetserver\\/06b5713f7394e9c781d3d3143d6fd532e7f814ce-knockout.js\"},{\"name\":\"knockout_punches\",\"type\":\"js\",\"url\":\"\\/assetserver\\/695de4db56dde9805b672fe778fb2fc752e9b632-knockout_punches.js\"},{\"name\":null,\"type\":\"js\",\"url\":\"\\/assetserver\\/cd9cf93729ff320de8d59972e501bc7581ce199e-all.js\"},{\"name\":null,\"type\":\"css\",\"url\":\"\\/assetserver\\/2dd5b4483a1ad2cfea2512179b895d21de762858-style.css\"},{\"name\":null,\"type\":\"css\",\"url\":\"\\/assetserver\\/4a166f7fd21f97b78604bf0dafec2fdf4c488adb-bulma_confined.min.css\"}],\"type\":\"async_block\"},\"id\":\"6935929107675904645\",\"handlers\":{\"changes\":[\"(function (val){return (val!=this.model[\\\"changes\\\"]()) ? (this.valueFromJulia[\\\"changes\\\"]=true, this.model[\\\"changes\\\"](val)) : undefined})\"],\"index\":[\"(function (val){return (val!=this.model[\\\"index\\\"]()) ? (this.valueFromJulia[\\\"index\\\"]=true, this.model[\\\"index\\\"](val)) : undefined})\"]},\"systemjs_options\":null,\"mount_callbacks\":[\"function () {\\n    var handler = (function (ko, koPunches) {\\n    ko.punches.enableAll();\\n    ko.bindingHandlers.numericValue = {\\n        init: function(element, valueAccessor, allBindings, data, context) {\\n            var stringified = ko.observable(ko.unwrap(valueAccessor()));\\n            stringified.subscribe(function(value) {\\n                var val = parseFloat(value);\\n                if (!isNaN(val)) {\\n                    valueAccessor()(val);\\n                }\\n            });\\n            valueAccessor().subscribe(function(value) {\\n                var str = JSON.stringify(value);\\n                if ((str == \\\"0\\\") && ([\\\"-0\\\", \\\"-0.\\\"].indexOf(stringified()) >= 0))\\n                     return;\\n                 if ([\\\"null\\\", \\\"\\\"].indexOf(str) >= 0)\\n                     return;\\n                stringified(str);\\n            });\\n            ko.applyBindingsToNode(\\n                element,\\n                {\\n                    value: stringified,\\n                    valueUpdate: allBindings.get('valueUpdate'),\\n                },\\n                context,\\n            );\\n        }\\n    };\\n    var json_data = {\\\"formatted_vals\\\":[\\\"1\\\",\\\"2\\\",\\\"3\\\",\\\"4\\\",\\\"5\\\",\\\"6\\\",\\\"7\\\",\\\"8\\\",\\\"9\\\",\\\"10\\\",\\\"11\\\",\\\"12\\\",\\\"13\\\",\\\"14\\\",\\\"15\\\",\\\"16\\\",\\\"17\\\",\\\"18\\\",\\\"19\\\",\\\"20\\\",\\\"21\\\",\\\"22\\\",\\\"23\\\",\\\"24\\\",\\\"25\\\",\\\"26\\\",\\\"27\\\",\\\"28\\\",\\\"29\\\",\\\"30\\\",\\\"31\\\",\\\"32\\\",\\\"33\\\",\\\"34\\\",\\\"35\\\",\\\"36\\\",\\\"37\\\",\\\"38\\\",\\\"39\\\",\\\"40\\\",\\\"41\\\",\\\"42\\\",\\\"43\\\",\\\"44\\\",\\\"45\\\",\\\"46\\\",\\\"47\\\",\\\"48\\\",\\\"49\\\",\\\"50\\\",\\\"51\\\",\\\"52\\\",\\\"53\\\",\\\"54\\\",\\\"55\\\",\\\"56\\\",\\\"57\\\",\\\"58\\\",\\\"59\\\",\\\"60\\\",\\\"61\\\",\\\"62\\\",\\\"63\\\",\\\"64\\\",\\\"65\\\",\\\"66\\\",\\\"67\\\",\\\"68\\\",\\\"69\\\",\\\"70\\\",\\\"71\\\",\\\"72\\\",\\\"73\\\",\\\"74\\\",\\\"75\\\",\\\"76\\\",\\\"77\\\",\\\"78\\\",\\\"79\\\",\\\"80\\\"],\\\"changes\\\":WebIO.getval({\\\"name\\\":\\\"changes\\\",\\\"scope\\\":\\\"6935929107675904645\\\",\\\"id\\\":\\\"ob_56\\\",\\\"type\\\":\\\"observable\\\"}),\\\"index\\\":WebIO.getval({\\\"name\\\":\\\"index\\\",\\\"scope\\\":\\\"6935929107675904645\\\",\\\"id\\\":\\\"ob_55\\\",\\\"type\\\":\\\"observable\\\"})};\\n    var self = this;\\n    function AppViewModel() {\\n        for (var key in json_data) {\\n            var el = json_data[key];\\n            this[key] = Array.isArray(el) ? ko.observableArray(el) : ko.observable(el);\\n        }\\n        \\n        [this[\\\"formatted_val\\\"]=ko.computed(    function(){\\n        return this.formatted_vals()[parseInt(this.index())-(1)];\\n    }\\n,this)]\\n        [this[\\\"changes\\\"].subscribe((function (val){!(this.valueFromJulia[\\\"changes\\\"]) ? (WebIO.setval({\\\"name\\\":\\\"changes\\\",\\\"scope\\\":\\\"6935929107675904645\\\",\\\"id\\\":\\\"ob_56\\\",\\\"type\\\":\\\"observable\\\"},val)) : undefined; return this.valueFromJulia[\\\"changes\\\"]=false}),self),this[\\\"index\\\"].subscribe((function (val){!(this.valueFromJulia[\\\"index\\\"]) ? (WebIO.setval({\\\"name\\\":\\\"index\\\",\\\"scope\\\":\\\"6935929107675904645\\\",\\\"id\\\":\\\"ob_55\\\",\\\"type\\\":\\\"observable\\\"},val)) : undefined; return this.valueFromJulia[\\\"index\\\"]=false}),self)]\\n        \\n    }\\n    self.model = new AppViewModel();\\n    self.valueFromJulia = {};\\n    for (var key in json_data) {\\n        self.valueFromJulia[key] = false;\\n    }\\n    ko.applyBindings(self.model, self.dom);\\n}\\n);\\n    (WebIO.importBlock({\\\"data\\\":[{\\\"name\\\":\\\"knockout\\\",\\\"type\\\":\\\"js\\\",\\\"url\\\":\\\"\\/assetserver\\/06b5713f7394e9c781d3d3143d6fd532e7f814ce-knockout.js\\\"},{\\\"name\\\":\\\"knockout_punches\\\",\\\"type\\\":\\\"js\\\",\\\"url\\\":\\\"\\/assetserver\\/695de4db56dde9805b672fe778fb2fc752e9b632-knockout_punches.js\\\"}],\\\"type\\\":\\\"async_block\\\"})).then((imports) => handler.apply(this, imports));\\n}\\n\"],\"observables\":{\"changes\":{\"sync\":false,\"id\":\"ob_56\",\"value\":0},\"index\":{\"sync\":true,\"id\":\"ob_55\",\"value\":40}}},\"children\":[{\"props\":{\"className\":\"interact-flex-row interact-widget\"},\"nodeType\":\"DOM\",\"type\":\"node\",\"instanceArgs\":{\"namespace\":\"html\",\"tag\":\"div\"},\"children\":[{\"props\":{\"className\":\"interact-flex-row-left\"},\"nodeType\":\"DOM\",\"type\":\"node\",\"instanceArgs\":{\"namespace\":\"html\",\"tag\":\"div\"},\"children\":[{\"props\":{\"className\":\"interact \",\"style\":{\"padding\":\"5px 10px 0px 10px\"}},\"nodeType\":\"DOM\",\"type\":\"node\",\"instanceArgs\":{\"namespace\":\"html\",\"tag\":\"label\"},\"children\":[\"n\"]}]},{\"props\":{\"className\":\"interact-flex-row-center\"},\"nodeType\":\"DOM\",\"type\":\"node\",\"instanceArgs\":{\"namespace\":\"html\",\"tag\":\"div\"},\"children\":[{\"props\":{\"max\":80,\"min\":1,\"attributes\":{\"type\":\"range\",\"data-bind\":\"numericValue: index, valueUpdate: 'input', event: {change: function (){this.changes(this.changes()+1)}}\",\"orient\":\"horizontal\"},\"step\":1,\"className\":\"slider slider is-fullwidth\",\"style\":{}},\"nodeType\":\"DOM\",\"type\":\"node\",\"instanceArgs\":{\"namespace\":\"html\",\"tag\":\"input\"},\"children\":[]}]},{\"props\":{\"className\":\"interact-flex-row-right\"},\"nodeType\":\"DOM\",\"type\":\"node\",\"instanceArgs\":{\"namespace\":\"html\",\"tag\":\"div\"},\"children\":[{\"props\":{\"attributes\":{\"data-bind\":\"text: formatted_val\"}},\"nodeType\":\"DOM\",\"type\":\"node\",\"instanceArgs\":{\"namespace\":\"html\",\"tag\":\"p\"},\"children\":[]}]}]}]}]},{\"props\":{},\"nodeType\":\"Scope\",\"type\":\"node\",\"instanceArgs\":{\"imports\":{\"data\":[],\"type\":\"async_block\"},\"id\":\"9704738297940884183\",\"handlers\":{},\"systemjs_options\":null,\"mount_callbacks\":[],\"observables\":{\"obs-node\":{\"sync\":false,\"id\":\"ob_60\",\"value\":{\"props\":{\"className\":\"interact-flex-row interact-widget\"},\"nodeType\":\"DOM\",\"type\":\"node\",\"instanceArgs\":{\"namespace\":\"html\",\"tag\":\"div\"},\"children\":[{\"props\":{\"setInnerHtml\":\"<?xml version=\\\"1.0\\\" encoding=\\\"UTF-8\\\"?>\\n<!DOCTYPE svg PUBLIC \\\"-\\/\\/W3C\\/\\/DTD SVG 1.1\\/\\/EN\\\"\\n \\\"http:\\/\\/www.w3.org\\/Graphics\\/SVG\\/1.1\\/DTD\\/svg11.dtd\\\">\\n<svg xmlns=\\\"http:\\/\\/www.w3.org\\/2000\\/svg\\\" version=\\\"1.1\\\"\\n     width=\\\"180.0mm\\\" height=\\\"25.0mm\\\"\\n     shape-rendering=\\\"crispEdges\\\">\\n<rect x=\\\"0.0mm\\\" y=\\\"0.0mm\\\"\\n      width=\\\"3.5mm\\\" height=\\\"24.0mm\\\"\\n      fill=\\\"#000000\\\" stroke=\\\"none\\\" \\/>\\n<rect x=\\\"4.5mm\\\" y=\\\"0.0mm\\\"\\n      width=\\\"3.5mm\\\" height=\\\"24.0mm\\\"\\n      fill=\\\"#FFFF62\\\" stroke=\\\"none\\\" \\/>\\n<rect x=\\\"9.0mm\\\" y=\\\"0.0mm\\\"\\n      width=\\\"3.5mm\\\" height=\\\"24.0mm\\\"\\n      fill=\\\"#FF9FFF\\\" stroke=\\\"none\\\" \\/>\\n<rect x=\\\"13.5mm\\\" y=\\\"0.0mm\\\"\\n      width=\\\"3.5mm\\\" height=\\\"24.0mm\\\"\\n      fill=\\\"#00D6FF\\\" stroke=\\\"none\\\" \\/>\\n<rect x=\\\"18.0mm\\\" y=\\\"0.0mm\\\"\\n      width=\\\"3.5mm\\\" height=\\\"24.0mm\\\"\\n      fill=\\\"#D74400\\\" stroke=\\\"none\\\" \\/>\\n<rect x=\\\"22.5mm\\\" y=\\\"0.0mm\\\"\\n      width=\\\"3.5mm\\\" height=\\\"24.0mm\\\"\\n      fill=\\\"#008029\\\" stroke=\\\"none\\\" \\/>\\n<rect x=\\\"27.0mm\\\" y=\\\"0.0mm\\\"\\n      width=\\\"3.5mm\\\" height=\\\"24.0mm\\\"\\n      fill=\\\"#005FD5\\\" stroke=\\\"none\\\" \\/>\\n<rect x=\\\"31.5mm\\\" y=\\\"0.0mm\\\"\\n      width=\\\"3.5mm\\\" height=\\\"24.0mm\\\"\\n      fill=\\\"#930068\\\" stroke=\\\"none\\\" \\/>\\n<rect x=\\\"36.0mm\\\" y=\\\"0.0mm\\\"\\n      width=\\\"3.5mm\\\" height=\\\"24.0mm\\\"\\n      fill=\\\"#FFCBB5\\\" stroke=\\\"none\\\" \\/>\\n<rect x=\\\"40.5mm\\\" y=\\\"0.0mm\\\"\\n      width=\\\"3.5mm\\\" height=\\\"24.0mm\\\"\\n      fill=\\\"#A78600\\\" stroke=\\\"none\\\" \\/>\\n<rect x=\\\"45.0mm\\\" y=\\\"0.0mm\\\"\\n      width=\\\"3.5mm\\\" height=\\\"24.0mm\\\"\\n      fill=\\\"#00FFC5\\\" stroke=\\\"none\\\" \\/>\\n<rect x=\\\"49.5mm\\\" y=\\\"0.0mm\\\"\\n      width=\\\"3.5mm\\\" height=\\\"24.0mm\\\"\\n      fill=\\\"#007E86\\\" stroke=\\\"none\\\" \\/>\\n<rect x=\\\"54.0mm\\\" y=\\\"0.0mm\\\"\\n      width=\\\"3.5mm\\\" height=\\\"24.0mm\\\"\\n      fill=\\\"#534200\\\" stroke=\\\"none\\\" \\/>\\n<rect x=\\\"58.5mm\\\" y=\\\"0.0mm\\\"\\n      width=\\\"3.5mm\\\" height=\\\"24.0mm\\\"\\n      fill=\\\"#8C8793\\\" stroke=\\\"none\\\" \\/>\\n<rect x=\\\"63.0mm\\\" y=\\\"0.0mm\\\"\\n      width=\\\"3.5mm\\\" height=\\\"24.0mm\\\"\\n      fill=\\\"#680000\\\" stroke=\\\"none\\\" \\/>\\n<rect x=\\\"67.5mm\\\" y=\\\"0.0mm\\\"\\n      width=\\\"3.5mm\\\" height=\\\"24.0mm\\\"\\n      fill=\\\"#00005A\\\" stroke=\\\"none\\\" \\/>\\n<rect x=\\\"72.0mm\\\" y=\\\"0.0mm\\\"\\n      width=\\\"3.5mm\\\" height=\\\"24.0mm\\\"\\n      fill=\\\"#FF2C6F\\\" stroke=\\\"none\\\" \\/>\\n<rect x=\\\"76.5mm\\\" y=\\\"0.0mm\\\"\\n      width=\\\"3.5mm\\\" height=\\\"24.0mm\\\"\\n      fill=\\\"#F7FFF6\\\" stroke=\\\"none\\\" \\/>\\n<rect x=\\\"81.0mm\\\" y=\\\"0.0mm\\\"\\n      width=\\\"3.5mm\\\" height=\\\"24.0mm\\\"\\n      fill=\\\"#003D25\\\" stroke=\\\"none\\\" \\/>\\n<rect x=\\\"85.5mm\\\" y=\\\"0.0mm\\\"\\n      width=\\\"3.5mm\\\" height=\\\"24.0mm\\\"\\n      fill=\\\"#91ABFF\\\" stroke=\\\"none\\\" \\/>\\n<rect x=\\\"90.0mm\\\" y=\\\"0.0mm\\\"\\n      width=\\\"3.5mm\\\" height=\\\"24.0mm\\\"\\n      fill=\\\"#A1B684\\\" stroke=\\\"none\\\" \\/>\\n<rect x=\\\"94.5mm\\\" y=\\\"0.0mm\\\"\\n      width=\\\"3.5mm\\\" height=\\\"24.0mm\\\"\\n      fill=\\\"#605051\\\" stroke=\\\"none\\\" \\/>\\n<rect x=\\\"99.0mm\\\" y=\\\"0.0mm\\\"\\n      width=\\\"3.5mm\\\" height=\\\"24.0mm\\\"\\n      fill=\\\"#C129E2\\\" stroke=\\\"none\\\" \\/>\\n<rect x=\\\"103.5mm\\\" y=\\\"0.0mm\\\"\\n      width=\\\"3.5mm\\\" height=\\\"24.0mm\\\"\\n      fill=\\\"#FF8E1E\\\" stroke=\\\"none\\\" \\/>\\n<rect x=\\\"108.0mm\\\" y=\\\"0.0mm\\\"\\n      width=\\\"3.5mm\\\" height=\\\"24.0mm\\\"\\n      fill=\\\"#003F51\\\" stroke=\\\"none\\\" \\/>\\n<rect x=\\\"112.5mm\\\" y=\\\"0.0mm\\\"\\n      width=\\\"3.5mm\\\" height=\\\"24.0mm\\\"\\n      fill=\\\"#797860\\\" stroke=\\\"none\\\" \\/>\\n<rect x=\\\"117.0mm\\\" y=\\\"0.0mm\\\"\\n      width=\\\"3.5mm\\\" height=\\\"24.0mm\\\"\\n      fill=\\\"#2E001C\\\" stroke=\\\"none\\\" \\/>\\n<rect x=\\\"121.5mm\\\" y=\\\"0.0mm\\\"\\n      width=\\\"3.5mm\\\" height=\\\"24.0mm\\\"\\n      fill=\\\"#01AF99\\\" stroke=\\\"none\\\" \\/>\\n<rect x=\\\"126.0mm\\\" y=\\\"0.0mm\\\"\\n      width=\\\"3.5mm\\\" height=\\\"24.0mm\\\"\\n      fill=\\\"#FFE6FF\\\" stroke=\\\"none\\\" \\/>\\n<rect x=\\\"130.5mm\\\" y=\\\"0.0mm\\\"\\n      width=\\\"3.5mm\\\" height=\\\"24.0mm\\\"\\n      fill=\\\"#77DA00\\\" stroke=\\\"none\\\" \\/>\\n<rect x=\\\"135.0mm\\\" y=\\\"0.0mm\\\"\\n      width=\\\"3.5mm\\\" height=\\\"24.0mm\\\"\\n      fill=\\\"#5B4B83\\\" stroke=\\\"none\\\" \\/>\\n<rect x=\\\"139.5mm\\\" y=\\\"0.0mm\\\"\\n      width=\\\"3.5mm\\\" height=\\\"24.0mm\\\"\\n      fill=\\\"#0094CF\\\" stroke=\\\"none\\\" \\/>\\n<rect x=\\\"144.0mm\\\" y=\\\"0.0mm\\\"\\n      width=\\\"3.5mm\\\" height=\\\"24.0mm\\\"\\n      fill=\\\"#B8739F\\\" stroke=\\\"none\\\" \\/>\\n<rect x=\\\"148.5mm\\\" y=\\\"0.0mm\\\"\\n      width=\\\"3.5mm\\\" height=\\\"24.0mm\\\"\\n      fill=\\\"#FF8269\\\" stroke=\\\"none\\\" \\/>\\n<rect x=\\\"153.0mm\\\" y=\\\"0.0mm\\\"\\n      width=\\\"3.5mm\\\" height=\\\"24.0mm\\\"\\n      fill=\\\"#FFBE05\\\" stroke=\\\"none\\\" \\/>\\n<rect x=\\\"157.5mm\\\" y=\\\"0.0mm\\\"\\n      width=\\\"3.5mm\\\" height=\\\"24.0mm\\\"\\n      fill=\\\"#C20030\\\" stroke=\\\"none\\\" \\/>\\n<rect x=\\\"162.0mm\\\" y=\\\"0.0mm\\\"\\n      width=\\\"3.5mm\\\" height=\\\"24.0mm\\\"\\n      fill=\\\"#A9806C\\\" stroke=\\\"none\\\" \\/>\\n<rect x=\\\"166.5mm\\\" y=\\\"0.0mm\\\"\\n      width=\\\"3.5mm\\\" height=\\\"24.0mm\\\"\\n      fill=\\\"#955600\\\" stroke=\\\"none\\\" \\/>\\n<rect x=\\\"171.0mm\\\" y=\\\"0.0mm\\\"\\n      width=\\\"3.5mm\\\" height=\\\"24.0mm\\\"\\n      fill=\\\"#9FB3B2\\\" stroke=\\\"none\\\" \\/>\\n<rect x=\\\"175.5mm\\\" y=\\\"0.0mm\\\"\\n      width=\\\"3.5mm\\\" height=\\\"24.0mm\\\"\\n      fill=\\\"#789500\\\" stroke=\\\"none\\\" \\/>\\n<\\/svg>\"},\"nodeType\":\"DOM\",\"type\":\"node\",\"instanceArgs\":{\"namespace\":\"html\",\"tag\":\"div\"},\"children\":[]}]}}}},\"children\":[{\"props\":{},\"nodeType\":\"ObservableNode\",\"type\":\"node\",\"instanceArgs\":{\"id\":\"ob_60\",\"name\":\"obs-node\"},\"children\":[]}]}]},\n",
       "            window,\n",
       "        );\n",
       "    } else {\n",
       "        document\n",
       "            .querySelector('[data-webio-mountpoint=\"12515099736659585065\"]')\n",
       "            .innerHTML = '<strong>WebIO not detected.</strong>';\n",
       "    }\n",
       "    </script>\n",
       "</div>\n"
      ],
      "text/plain": [
       "Node{WebIO.DOM}(WebIO.DOM(:html, :div), Any[Node{DOM}(DOM(:html, :div), Any[Scope(Node{DOM}(DOM(:html, :div), Any[Node{DOM}(DOM(:html, :div), Any[Node{DOM}(DOM(:html, :label), Any[\"n\"], Dict{Symbol,Any}(:className=>\"interact \",:style=>Dict{Any,Any}(:padding=>\"5px 10px 0px 10px\")))], Dict{Symbol,Any}(:className=>\"interact-flex-row-left\")), Node{DOM}(DOM(:html, :div), Any[Node{DOM}(DOM(:html, :input), Any[], Dict{Symbol,Any}(:max=>80,:min=>1,:attributes=>Dict{Any,Any}(:type=>\"range\",Symbol(\"data-bind\")=>\"numericValue: index, valueUpdate: 'input', event: {change: function (){this.changes(this.changes()+1)}}\",\"orient\"=>\"horizontal\"),:step=>1,:className=>\"slider slider is-fullwidth\",:style=>Dict{Any,Any}()))], Dict{Symbol,Any}(:className=>\"interact-flex-row-center\")), Node{DOM}(DOM(:html, :div), Any[Node{DOM}(DOM(:html, :p), Any[], Dict{Symbol,Any}(:attributes=>Dict(\"data-bind\"=>\"text: formatted_val\")))], Dict{Symbol,Any}(:className=>\"interact-flex-row-right\"))], Dict{Symbol,Any}(:className=>\"interact-flex-row interact-widget\")), Dict{String,Tuple{Observables.AbstractObservable,Union{Nothing, Bool}}}(\"changes\"=>(Observable{Int64} with 1 listeners. Value:\n",
       "0, nothing),\"index\"=>(Observable{Int64} with 2 listeners. Value:\n",
       "40, nothing)), Set(String[]), nothing, Asset[Asset(\"js\", \"knockout\", \"C:\\\\Users\\\\carsten\\\\.julia\\\\packages\\\\Knockout\\\\1sDlc\\\\src\\\\..\\\\assets\\\\knockout.js\"), Asset(\"js\", \"knockout_punches\", \"C:\\\\Users\\\\carsten\\\\.julia\\\\packages\\\\Knockout\\\\1sDlc\\\\src\\\\..\\\\assets\\\\knockout_punches.js\"), Asset(\"js\", nothing, \"C:\\\\Users\\\\carsten\\\\.julia\\\\packages\\\\InteractBase\\\\l8cEC\\\\src\\\\..\\\\assets\\\\all.js\"), Asset(\"css\", nothing, \"C:\\\\Users\\\\carsten\\\\.julia\\\\packages\\\\InteractBase\\\\l8cEC\\\\src\\\\..\\\\assets\\\\style.css\"), Asset(\"css\", nothing, \"C:\\\\Users\\\\carsten\\\\.julia\\\\packages\\\\Interact\\\\0klKX\\\\src\\\\..\\\\assets\\\\bulma_confined.min.css\")], Dict{Any,Any}(\"changes\"=>Any[JSString(\"(function (val){return (val!=this.model[\\\"changes\\\"]()) ? (this.valueFromJulia[\\\"changes\\\"]=true, this.model[\\\"changes\\\"](val)) : undefined})\")],\"index\"=>Any[JSString(\"(function (val){return (val!=this.model[\\\"index\\\"]()) ? (this.valueFromJulia[\\\"index\\\"]=true, this.model[\\\"index\\\"](val)) : undefined})\")]), ConnectionPool(Channel{Any}(sz_max:9223372036854775807,sz_curr:0), Set(AbstractConnection[]), Channel{AbstractConnection}(sz_max:32,sz_curr:0)), WebIO.JSString[JSString(\"function () {\\n    var handler = (function (ko, koPunches) {\\n    ko.punches.enableAll();\\n    ko.bindingHandlers.numericValue = {\\n        init: function(element, valueAccessor, allBindings, data, context) {\\n            var stringified = ko.observable(ko.unwrap(valueAccessor()));\\n            stringified.subscribe(function(value) {\\n                var val = parseFloat(value);\\n                if (!isNaN(val)) {\\n                    valueAccessor()(val);\\n                }\\n            });\\n            valueAccessor().subscribe(function(value) {\\n                var str = JSON.stringify(value);\\n                if ((str == \\\"0\\\") && ([\\\"-0\\\", \\\"-0.\\\"].indexOf(stringified()) >= 0))\\n                     return;\\n                 if ([\\\"null\\\", \\\"\\\"].indexOf(str) >= 0)\\n                     return;\\n                stringified(str);\\n            });\\n            ko.applyBindingsToNode(\\n                element,\\n                {\\n                    value: stringified,\\n                    valueUpdate: allBindings.get('valueUpdate'),\\n                },\\n                context,\\n            );\\n        }\\n    };\\n    var json_data = {\\\"formatted_vals\\\":[\\\"1\\\",\\\"2\\\",\\\"3\\\",\\\"4\\\",\\\"5\\\",\\\"6\\\",\\\"7\\\",\\\"8\\\",\\\"9\\\",\\\"10\\\",\\\"11\\\",\\\"12\\\",\\\"13\\\",\\\"14\\\",\\\"15\\\",\\\"16\\\",\\\"17\\\",\\\"18\\\",\\\"19\\\",\\\"20\\\",\\\"21\\\",\\\"22\\\",\\\"23\\\",\\\"24\\\",\\\"25\\\",\\\"26\\\",\\\"27\\\",\\\"28\\\",\\\"29\\\",\\\"30\\\",\\\"31\\\",\\\"32\\\",\\\"33\\\",\\\"34\\\",\\\"35\\\",\\\"36\\\",\\\"37\\\",\\\"38\\\",\\\"39\\\",\\\"40\\\",\\\"41\\\",\\\"42\\\",\\\"43\\\",\\\"44\\\",\\\"45\\\",\\\"46\\\",\\\"47\\\",\\\"48\\\",\\\"49\\\",\\\"50\\\",\\\"51\\\",\\\"52\\\",\\\"53\\\",\\\"54\\\",\\\"55\\\",\\\"56\\\",\\\"57\\\",\\\"58\\\",\\\"59\\\",\\\"60\\\",\\\"61\\\",\\\"62\\\",\\\"63\\\",\\\"64\\\",\\\"65\\\",\\\"66\\\",\\\"67\\\",\\\"68\\\",\\\"69\\\",\\\"70\\\",\\\"71\\\",\\\"72\\\",\\\"73\\\",\\\"74\\\",\\\"75\\\",\\\"76\\\",\\\"77\\\",\\\"78\\\",\\\"79\\\",\\\"80\\\"],\\\"changes\\\":WebIO.getval({\\\"name\\\":\\\"changes\\\",\\\"scope\\\":\\\"6935929107675904645\\\",\\\"id\\\":\\\"ob_56\\\",\\\"type\\\":\\\"observable\\\"}),\\\"index\\\":WebIO.getval({\\\"name\\\":\\\"index\\\",\\\"scope\\\":\\\"6935929107675904645\\\",\\\"id\\\":\\\"ob_55\\\",\\\"type\\\":\\\"observable\\\"})};\\n    var self = this;\\n    function AppViewModel() {\\n        for (var key in json_data) {\\n            var el = json_data[key];\\n            this[key] = Array.isArray(el) ? ko.observableArray(el) : ko.observable(el);\\n        }\\n        \\n        [this[\\\"formatted_val\\\"]=ko.computed(    function(){\\n        return this.formatted_vals()[parseInt(this.index())-(1)];\\n    }\\n,this)]\\n        [this[\\\"changes\\\"].subscribe((function (val){!(this.valueFromJulia[\\\"changes\\\"]) ? (WebIO.setval({\\\"name\\\":\\\"changes\\\",\\\"scope\\\":\\\"6935929107675904645\\\",\\\"id\\\":\\\"ob_56\\\",\\\"type\\\":\\\"observable\\\"},val)) : undefined; return this.valueFromJulia[\\\"changes\\\"]=false}),self),this[\\\"index\\\"].subscribe((function (val){!(this.valueFromJulia[\\\"index\\\"]) ? (WebIO.setval({\\\"name\\\":\\\"index\\\",\\\"scope\\\":\\\"6935929107675904645\\\",\\\"id\\\":\\\"ob_55\\\",\\\"type\\\":\\\"observable\\\"},val)) : undefined; return this.valueFromJulia[\\\"index\\\"]=false}),self)]\\n        \\n    }\\n    self.model = new AppViewModel();\\n    self.valueFromJulia = {};\\n    for (var key in json_data) {\\n        self.valueFromJulia[key] = false;\\n    }\\n    ko.applyBindings(self.model, self.dom);\\n}\\n);\\n    (WebIO.importBlock({\\\"data\\\":[{\\\"name\\\":\\\"knockout\\\",\\\"type\\\":\\\"js\\\",\\\"url\\\":\\\"/assetserver/06b5713f7394e9c781d3d3143d6fd532e7f814ce-knockout.js\\\"},{\\\"name\\\":\\\"knockout_punches\\\",\\\"type\\\":\\\"js\\\",\\\"url\\\":\\\"/assetserver/695de4db56dde9805b672fe778fb2fc752e9b632-knockout_punches.js\\\"}],\\\"type\\\":\\\"async_block\\\"})).then((imports) => handler.apply(this, imports));\\n}\\n\")])], Dict{Symbol,Any}(:className=>\"field interact-widget\")), Observable{Any} with 0 listeners. Value:\n",
       "Node{DOM}(DOM(:html, :div), Any[RGB{FixedPointNumbers.Normed{UInt8,8}}[RGB{N0f8}(0.0,0.0,0.0), RGB{N0f8}(1.0,1.0,0.384), RGB{N0f8}(1.0,0.624,1.0), RGB{N0f8}(0.0,0.839,1.0), RGB{N0f8}(0.843,0.267,0.0), RGB{N0f8}(0.0,0.502,0.161), RGB{N0f8}(0.0,0.373,0.835), RGB{N0f8}(0.576,0.0,0.408), RGB{N0f8}(1.0,0.796,0.71), RGB{N0f8}(0.655,0.525,0.0)  …  RGB{N0f8}(0.357,0.294,0.514), RGB{N0f8}(0.0,0.58,0.812), RGB{N0f8}(0.722,0.451,0.624), RGB{N0f8}(1.0,0.51,0.412), RGB{N0f8}(1.0,0.745,0.02), RGB{N0f8}(0.761,0.0,0.188), RGB{N0f8}(0.663,0.502,0.424), RGB{N0f8}(0.584,0.337,0.0), RGB{N0f8}(0.624,0.702,0.698), RGB{N0f8}(0.471,0.584,0.0)]], Dict{Symbol,Any}(:className=>\"interact-flex-row interact-widget\"))], Dict{Symbol,Any}())"
      ]
     },
     "execution_count": 23,
     "metadata": {
      "application/vnd.webio.node+json": {
       "kernelId": null
      }
     },
     "output_type": "execute_result"
    }
   ],
   "source": [
    "@manipulate for n in 1:80\n",
    "    distinguishable_colors(n)\n",
    "end"
   ]
  },
  {
   "cell_type": "code",
   "execution_count": 26,
   "metadata": {},
   "outputs": [
    {
     "data": {
      "image/svg+xml": [
       "<?xml version=\"1.0\" encoding=\"UTF-8\"?>\n",
       "<!DOCTYPE svg PUBLIC \"-//W3C//DTD SVG 1.1//EN\"\n",
       " \"http://www.w3.org/Graphics/SVG/1.1/DTD/svg11.dtd\">\n",
       "<svg xmlns=\"http://www.w3.org/2000/svg\" version=\"1.1\"\n",
       "     width=\"180.0mm\" height=\"25.0mm\"\n",
       "     shape-rendering=\"crispEdges\">\n",
       "<rect x=\"0.0mm\" y=\"0.0mm\"\n",
       "      width=\"17.0mm\" height=\"24.0mm\"\n",
       "      fill=\"#000000\" stroke=\"none\" />\n",
       "<rect x=\"18.0mm\" y=\"0.0mm\"\n",
       "      width=\"17.0mm\" height=\"24.0mm\"\n",
       "      fill=\"#FFFF62\" stroke=\"none\" />\n",
       "<rect x=\"36.0mm\" y=\"0.0mm\"\n",
       "      width=\"17.0mm\" height=\"24.0mm\"\n",
       "      fill=\"#FF9FFF\" stroke=\"none\" />\n",
       "<rect x=\"54.0mm\" y=\"0.0mm\"\n",
       "      width=\"17.0mm\" height=\"24.0mm\"\n",
       "      fill=\"#00D6FF\" stroke=\"none\" />\n",
       "<rect x=\"72.0mm\" y=\"0.0mm\"\n",
       "      width=\"17.0mm\" height=\"24.0mm\"\n",
       "      fill=\"#D74400\" stroke=\"none\" />\n",
       "<rect x=\"90.0mm\" y=\"0.0mm\"\n",
       "      width=\"17.0mm\" height=\"24.0mm\"\n",
       "      fill=\"#008029\" stroke=\"none\" />\n",
       "<rect x=\"108.0mm\" y=\"0.0mm\"\n",
       "      width=\"17.0mm\" height=\"24.0mm\"\n",
       "      fill=\"#005FD5\" stroke=\"none\" />\n",
       "<rect x=\"126.0mm\" y=\"0.0mm\"\n",
       "      width=\"17.0mm\" height=\"24.0mm\"\n",
       "      fill=\"#930068\" stroke=\"none\" />\n",
       "<rect x=\"144.0mm\" y=\"0.0mm\"\n",
       "      width=\"17.0mm\" height=\"24.0mm\"\n",
       "      fill=\"#FFCBB5\" stroke=\"none\" />\n",
       "<rect x=\"162.0mm\" y=\"0.0mm\"\n",
       "      width=\"17.0mm\" height=\"24.0mm\"\n",
       "      fill=\"#A78600\" stroke=\"none\" />\n",
       "</svg>"
      ],
      "text/plain": [
       "10-element Array{RGB{N0f8},1} with eltype RGB{FixedPointNumbers.Normed{UInt8,8}}:\n",
       " RGB{N0f8}(0.0,0.0,0.0)    \n",
       " RGB{N0f8}(1.0,1.0,0.384)  \n",
       " RGB{N0f8}(1.0,0.624,1.0)  \n",
       " RGB{N0f8}(0.0,0.839,1.0)  \n",
       " RGB{N0f8}(0.843,0.267,0.0)\n",
       " RGB{N0f8}(0.0,0.502,0.161)\n",
       " RGB{N0f8}(0.0,0.373,0.835)\n",
       " RGB{N0f8}(0.576,0.0,0.408)\n",
       " RGB{N0f8}(1.0,0.796,0.71) \n",
       " RGB{N0f8}(0.655,0.525,0.0)"
      ]
     },
     "execution_count": 26,
     "metadata": {},
     "output_type": "execute_result"
    }
   ],
   "source": [
    "colors = distinguishable_colors(10)"
   ]
  },
  {
   "cell_type": "code",
   "execution_count": 38,
   "metadata": {},
   "outputs": [
    {
     "data": {
      "image/svg+xml": [
       "<?xml version=\"1.0\" encoding=\"UTF-8\"?>\n",
       "<!DOCTYPE svg PUBLIC \"-//W3C//DTD SVG 1.1//EN\"\n",
       " \"http://www.w3.org/Graphics/SVG/1.1/DTD/svg11.dtd\">\n",
       "<svg xmlns=\"http://www.w3.org/2000/svg\" version=\"1.1\"\n",
       "     width=\"25mm\" height=\"25mm\" viewBox=\"0 0 1 1\">\n",
       "     <rect width=\"1\" height=\"1\"\n",
       "           fill=\"#000000\" stroke=\"none\"/>\n",
       "</svg>\n"
      ],
      "text/plain": [
       "RGB{N0f8}(0.0,0.0,0.0)"
      ]
     },
     "execution_count": 38,
     "metadata": {},
     "output_type": "execute_result"
    }
   ],
   "source": [
    "colors[1]"
   ]
  },
  {
   "cell_type": "code",
   "execution_count": 36,
   "metadata": {},
   "outputs": [
    {
     "data": {
      "application/vnd.webio.node+json": {
       "children": [
        {
         "children": [
          {
           "children": [
            {
             "children": [
              {
               "children": [
                {
                 "children": [
                  "i"
                 ],
                 "instanceArgs": {
                  "namespace": "html",
                  "tag": "label"
                 },
                 "nodeType": "DOM",
                 "props": {
                  "className": "interact ",
                  "style": {
                   "padding": "5px 10px 0px 10px"
                  }
                 },
                 "type": "node"
                }
               ],
               "instanceArgs": {
                "namespace": "html",
                "tag": "div"
               },
               "nodeType": "DOM",
               "props": {
                "className": "interact-flex-row-left"
               },
               "type": "node"
              },
              {
               "children": [
                {
                 "children": [],
                 "instanceArgs": {
                  "namespace": "html",
                  "tag": "input"
                 },
                 "nodeType": "DOM",
                 "props": {
                  "attributes": {
                   "data-bind": "numericValue: index, valueUpdate: 'input', event: {change: function (){this.changes(this.changes()+1)}}",
                   "orient": "horizontal",
                   "type": "range"
                  },
                  "className": "slider slider is-fullwidth",
                  "max": 8,
                  "min": 1,
                  "step": 1,
                  "style": {}
                 },
                 "type": "node"
                }
               ],
               "instanceArgs": {
                "namespace": "html",
                "tag": "div"
               },
               "nodeType": "DOM",
               "props": {
                "className": "interact-flex-row-center"
               },
               "type": "node"
              },
              {
               "children": [
                {
                 "children": [],
                 "instanceArgs": {
                  "namespace": "html",
                  "tag": "p"
                 },
                 "nodeType": "DOM",
                 "props": {
                  "attributes": {
                   "data-bind": "text: formatted_val"
                  }
                 },
                 "type": "node"
                }
               ],
               "instanceArgs": {
                "namespace": "html",
                "tag": "div"
               },
               "nodeType": "DOM",
               "props": {
                "className": "interact-flex-row-right"
               },
               "type": "node"
              }
             ],
             "instanceArgs": {
              "namespace": "html",
              "tag": "div"
             },
             "nodeType": "DOM",
             "props": {
              "className": "interact-flex-row interact-widget"
             },
             "type": "node"
            }
           ],
           "instanceArgs": {
            "handlers": {
             "changes": [
              "(function (val){return (val!=this.model[\"changes\"]()) ? (this.valueFromJulia[\"changes\"]=true, this.model[\"changes\"](val)) : undefined})"
             ],
             "index": [
              "(function (val){return (val!=this.model[\"index\"]()) ? (this.valueFromJulia[\"index\"]=true, this.model[\"index\"](val)) : undefined})"
             ]
            },
            "id": "12593632412734895716",
            "imports": {
             "data": [
              {
               "name": "knockout",
               "type": "js",
               "url": "/assetserver/06b5713f7394e9c781d3d3143d6fd532e7f814ce-knockout.js"
              },
              {
               "name": "knockout_punches",
               "type": "js",
               "url": "/assetserver/695de4db56dde9805b672fe778fb2fc752e9b632-knockout_punches.js"
              },
              {
               "name": null,
               "type": "js",
               "url": "/assetserver/cd9cf93729ff320de8d59972e501bc7581ce199e-all.js"
              },
              {
               "name": null,
               "type": "css",
               "url": "/assetserver/2dd5b4483a1ad2cfea2512179b895d21de762858-style.css"
              },
              {
               "name": null,
               "type": "css",
               "url": "/assetserver/4a166f7fd21f97b78604bf0dafec2fdf4c488adb-bulma_confined.min.css"
              }
             ],
             "type": "async_block"
            },
            "mount_callbacks": [
             "function () {\n    var handler = (function (ko, koPunches) {\n    ko.punches.enableAll();\n    ko.bindingHandlers.numericValue = {\n        init: function(element, valueAccessor, allBindings, data, context) {\n            var stringified = ko.observable(ko.unwrap(valueAccessor()));\n            stringified.subscribe(function(value) {\n                var val = parseFloat(value);\n                if (!isNaN(val)) {\n                    valueAccessor()(val);\n                }\n            });\n            valueAccessor().subscribe(function(value) {\n                var str = JSON.stringify(value);\n                if ((str == \"0\") && ([\"-0\", \"-0.\"].indexOf(stringified()) >= 0))\n                     return;\n                 if ([\"null\", \"\"].indexOf(str) >= 0)\n                     return;\n                stringified(str);\n            });\n            ko.applyBindingsToNode(\n                element,\n                {\n                    value: stringified,\n                    valueUpdate: allBindings.get('valueUpdate'),\n                },\n                context,\n            );\n        }\n    };\n    var json_data = {\"formatted_vals\":[\"1\",\"2\",\"3\",\"4\",\"5\",\"6\",\"7\",\"8\"],\"changes\":WebIO.getval({\"name\":\"changes\",\"scope\":\"12593632412734895716\",\"id\":\"ob_104\",\"type\":\"observable\"}),\"index\":WebIO.getval({\"name\":\"index\",\"scope\":\"12593632412734895716\",\"id\":\"ob_103\",\"type\":\"observable\"})};\n    var self = this;\n    function AppViewModel() {\n        for (var key in json_data) {\n            var el = json_data[key];\n            this[key] = Array.isArray(el) ? ko.observableArray(el) : ko.observable(el);\n        }\n        \n        [this[\"formatted_val\"]=ko.computed(    function(){\n        return this.formatted_vals()[parseInt(this.index())-(1)];\n    }\n,this)]\n        [this[\"changes\"].subscribe((function (val){!(this.valueFromJulia[\"changes\"]) ? (WebIO.setval({\"name\":\"changes\",\"scope\":\"12593632412734895716\",\"id\":\"ob_104\",\"type\":\"observable\"},val)) : undefined; return this.valueFromJulia[\"changes\"]=false}),self),this[\"index\"].subscribe((function (val){!(this.valueFromJulia[\"index\"]) ? (WebIO.setval({\"name\":\"index\",\"scope\":\"12593632412734895716\",\"id\":\"ob_103\",\"type\":\"observable\"},val)) : undefined; return this.valueFromJulia[\"index\"]=false}),self)]\n        \n    }\n    self.model = new AppViewModel();\n    self.valueFromJulia = {};\n    for (var key in json_data) {\n        self.valueFromJulia[key] = false;\n    }\n    ko.applyBindings(self.model, self.dom);\n}\n);\n    (WebIO.importBlock({\"data\":[{\"name\":\"knockout\",\"type\":\"js\",\"url\":\"/assetserver/06b5713f7394e9c781d3d3143d6fd532e7f814ce-knockout.js\"},{\"name\":\"knockout_punches\",\"type\":\"js\",\"url\":\"/assetserver/695de4db56dde9805b672fe778fb2fc752e9b632-knockout_punches.js\"}],\"type\":\"async_block\"})).then((imports) => handler.apply(this, imports));\n}\n"
            ],
            "observables": {
             "changes": {
              "id": "ob_104",
              "sync": false,
              "value": 0
             },
             "index": {
              "id": "ob_103",
              "sync": true,
              "value": 4
             }
            },
            "systemjs_options": null
           },
           "nodeType": "Scope",
           "props": {},
           "type": "node"
          }
         ],
         "instanceArgs": {
          "namespace": "html",
          "tag": "div"
         },
         "nodeType": "DOM",
         "props": {
          "className": "field interact-widget"
         },
         "type": "node"
        },
        {
         "children": [
          {
           "children": [
            {
             "children": [
              {
               "children": [
                {
                 "children": [
                  "j"
                 ],
                 "instanceArgs": {
                  "namespace": "html",
                  "tag": "label"
                 },
                 "nodeType": "DOM",
                 "props": {
                  "className": "interact ",
                  "style": {
                   "padding": "5px 10px 0px 10px"
                  }
                 },
                 "type": "node"
                }
               ],
               "instanceArgs": {
                "namespace": "html",
                "tag": "div"
               },
               "nodeType": "DOM",
               "props": {
                "className": "interact-flex-row-left"
               },
               "type": "node"
              },
              {
               "children": [
                {
                 "children": [],
                 "instanceArgs": {
                  "namespace": "html",
                  "tag": "input"
                 },
                 "nodeType": "DOM",
                 "props": {
                  "attributes": {
                   "data-bind": "numericValue: index, valueUpdate: 'input', event: {change: function (){this.changes(this.changes()+1)}}",
                   "orient": "horizontal",
                   "type": "range"
                  },
                  "className": "slider slider is-fullwidth",
                  "max": 8,
                  "min": 1,
                  "step": 1,
                  "style": {}
                 },
                 "type": "node"
                }
               ],
               "instanceArgs": {
                "namespace": "html",
                "tag": "div"
               },
               "nodeType": "DOM",
               "props": {
                "className": "interact-flex-row-center"
               },
               "type": "node"
              },
              {
               "children": [
                {
                 "children": [],
                 "instanceArgs": {
                  "namespace": "html",
                  "tag": "p"
                 },
                 "nodeType": "DOM",
                 "props": {
                  "attributes": {
                   "data-bind": "text: formatted_val"
                  }
                 },
                 "type": "node"
                }
               ],
               "instanceArgs": {
                "namespace": "html",
                "tag": "div"
               },
               "nodeType": "DOM",
               "props": {
                "className": "interact-flex-row-right"
               },
               "type": "node"
              }
             ],
             "instanceArgs": {
              "namespace": "html",
              "tag": "div"
             },
             "nodeType": "DOM",
             "props": {
              "className": "interact-flex-row interact-widget"
             },
             "type": "node"
            }
           ],
           "instanceArgs": {
            "handlers": {
             "changes": [
              "(function (val){return (val!=this.model[\"changes\"]()) ? (this.valueFromJulia[\"changes\"]=true, this.model[\"changes\"](val)) : undefined})"
             ],
             "index": [
              "(function (val){return (val!=this.model[\"index\"]()) ? (this.valueFromJulia[\"index\"]=true, this.model[\"index\"](val)) : undefined})"
             ]
            },
            "id": "9298649931829046425",
            "imports": {
             "data": [
              {
               "name": "knockout",
               "type": "js",
               "url": "/assetserver/06b5713f7394e9c781d3d3143d6fd532e7f814ce-knockout.js"
              },
              {
               "name": "knockout_punches",
               "type": "js",
               "url": "/assetserver/695de4db56dde9805b672fe778fb2fc752e9b632-knockout_punches.js"
              },
              {
               "name": null,
               "type": "js",
               "url": "/assetserver/cd9cf93729ff320de8d59972e501bc7581ce199e-all.js"
              },
              {
               "name": null,
               "type": "css",
               "url": "/assetserver/2dd5b4483a1ad2cfea2512179b895d21de762858-style.css"
              },
              {
               "name": null,
               "type": "css",
               "url": "/assetserver/4a166f7fd21f97b78604bf0dafec2fdf4c488adb-bulma_confined.min.css"
              }
             ],
             "type": "async_block"
            },
            "mount_callbacks": [
             "function () {\n    var handler = (function (ko, koPunches) {\n    ko.punches.enableAll();\n    ko.bindingHandlers.numericValue = {\n        init: function(element, valueAccessor, allBindings, data, context) {\n            var stringified = ko.observable(ko.unwrap(valueAccessor()));\n            stringified.subscribe(function(value) {\n                var val = parseFloat(value);\n                if (!isNaN(val)) {\n                    valueAccessor()(val);\n                }\n            });\n            valueAccessor().subscribe(function(value) {\n                var str = JSON.stringify(value);\n                if ((str == \"0\") && ([\"-0\", \"-0.\"].indexOf(stringified()) >= 0))\n                     return;\n                 if ([\"null\", \"\"].indexOf(str) >= 0)\n                     return;\n                stringified(str);\n            });\n            ko.applyBindingsToNode(\n                element,\n                {\n                    value: stringified,\n                    valueUpdate: allBindings.get('valueUpdate'),\n                },\n                context,\n            );\n        }\n    };\n    var json_data = {\"formatted_vals\":[\"1\",\"2\",\"3\",\"4\",\"5\",\"6\",\"7\",\"8\"],\"changes\":WebIO.getval({\"name\":\"changes\",\"scope\":\"9298649931829046425\",\"id\":\"ob_106\",\"type\":\"observable\"}),\"index\":WebIO.getval({\"name\":\"index\",\"scope\":\"9298649931829046425\",\"id\":\"ob_105\",\"type\":\"observable\"})};\n    var self = this;\n    function AppViewModel() {\n        for (var key in json_data) {\n            var el = json_data[key];\n            this[key] = Array.isArray(el) ? ko.observableArray(el) : ko.observable(el);\n        }\n        \n        [this[\"formatted_val\"]=ko.computed(    function(){\n        return this.formatted_vals()[parseInt(this.index())-(1)];\n    }\n,this)]\n        [this[\"changes\"].subscribe((function (val){!(this.valueFromJulia[\"changes\"]) ? (WebIO.setval({\"name\":\"changes\",\"scope\":\"9298649931829046425\",\"id\":\"ob_106\",\"type\":\"observable\"},val)) : undefined; return this.valueFromJulia[\"changes\"]=false}),self),this[\"index\"].subscribe((function (val){!(this.valueFromJulia[\"index\"]) ? (WebIO.setval({\"name\":\"index\",\"scope\":\"9298649931829046425\",\"id\":\"ob_105\",\"type\":\"observable\"},val)) : undefined; return this.valueFromJulia[\"index\"]=false}),self)]\n        \n    }\n    self.model = new AppViewModel();\n    self.valueFromJulia = {};\n    for (var key in json_data) {\n        self.valueFromJulia[key] = false;\n    }\n    ko.applyBindings(self.model, self.dom);\n}\n);\n    (WebIO.importBlock({\"data\":[{\"name\":\"knockout\",\"type\":\"js\",\"url\":\"/assetserver/06b5713f7394e9c781d3d3143d6fd532e7f814ce-knockout.js\"},{\"name\":\"knockout_punches\",\"type\":\"js\",\"url\":\"/assetserver/695de4db56dde9805b672fe778fb2fc752e9b632-knockout_punches.js\"}],\"type\":\"async_block\"})).then((imports) => handler.apply(this, imports));\n}\n"
            ],
            "observables": {
             "changes": {
              "id": "ob_106",
              "sync": false,
              "value": 0
             },
             "index": {
              "id": "ob_105",
              "sync": true,
              "value": 4
             }
            },
            "systemjs_options": null
           },
           "nodeType": "Scope",
           "props": {},
           "type": "node"
          }
         ],
         "instanceArgs": {
          "namespace": "html",
          "tag": "div"
         },
         "nodeType": "DOM",
         "props": {
          "className": "field interact-widget"
         },
         "type": "node"
        },
        {
         "children": [
          {
           "children": [],
           "instanceArgs": {
            "id": "ob_112",
            "name": "obs-node"
           },
           "nodeType": "ObservableNode",
           "props": {},
           "type": "node"
          }
         ],
         "instanceArgs": {
          "handlers": {},
          "id": "13355783044663700407",
          "imports": {
           "data": [],
           "type": "async_block"
          },
          "mount_callbacks": [],
          "observables": {
           "obs-node": {
            "id": "ob_112",
            "sync": false,
            "value": {
             "children": [
              {
               "children": [],
               "instanceArgs": {
                "namespace": "html",
                "tag": "div"
               },
               "nodeType": "DOM",
               "props": {
                "setInnerHtml": "<?xml version=\"1.0\" encoding=\"UTF-8\"?>\n<!DOCTYPE svg PUBLIC \"-//W3C//DTD SVG 1.1//EN\"\n \"http://www.w3.org/Graphics/SVG/1.1/DTD/svg11.dtd\">\n<svg xmlns=\"http://www.w3.org/2000/svg\" version=\"1.1\"\n     width=\"150.0mm\" height=\"150.0mm\"\n     shape-rendering=\"crispEdges\">\n<rect x=\"0.0mm\" y=\"0.0mm\"\n      width=\"14.0mm\" height=\"14.0mm\"\n      fill=\"#000000\" stroke=\"none\" />\n<rect x=\"15.0mm\" y=\"0.0mm\"\n      width=\"14.0mm\" height=\"14.0mm\"\n      fill=\"#000000\" stroke=\"none\" />\n<rect x=\"30.0mm\" y=\"0.0mm\"\n      width=\"14.0mm\" height=\"14.0mm\"\n      fill=\"#000000\" stroke=\"none\" />\n<rect x=\"45.0mm\" y=\"0.0mm\"\n      width=\"14.0mm\" height=\"14.0mm\"\n      fill=\"#000000\" stroke=\"none\" />\n<rect x=\"60.0mm\" y=\"0.0mm\"\n      width=\"14.0mm\" height=\"14.0mm\"\n      fill=\"#000000\" stroke=\"none\" />\n<rect x=\"75.0mm\" y=\"0.0mm\"\n      width=\"14.0mm\" height=\"14.0mm\"\n      fill=\"#000000\" stroke=\"none\" />\n<rect x=\"90.0mm\" y=\"0.0mm\"\n      width=\"14.0mm\" height=\"14.0mm\"\n      fill=\"#000000\" stroke=\"none\" />\n<rect x=\"105.0mm\" y=\"0.0mm\"\n      width=\"14.0mm\" height=\"14.0mm\"\n      fill=\"#000000\" stroke=\"none\" />\n<rect x=\"120.0mm\" y=\"0.0mm\"\n      width=\"14.0mm\" height=\"14.0mm\"\n      fill=\"#000000\" stroke=\"none\" />\n<rect x=\"135.0mm\" y=\"0.0mm\"\n      width=\"14.0mm\" height=\"14.0mm\"\n      fill=\"#000000\" stroke=\"none\" />\n<rect x=\"0.0mm\" y=\"15.0mm\"\n      width=\"14.0mm\" height=\"14.0mm\"\n      fill=\"#000000\" stroke=\"none\" />\n<rect x=\"15.0mm\" y=\"15.0mm\"\n      width=\"14.0mm\" height=\"14.0mm\"\n      fill=\"#000000\" stroke=\"none\" />\n<rect x=\"30.0mm\" y=\"15.0mm\"\n      width=\"14.0mm\" height=\"14.0mm\"\n      fill=\"#000000\" stroke=\"none\" />\n<rect x=\"45.0mm\" y=\"15.0mm\"\n      width=\"14.0mm\" height=\"14.0mm\"\n      fill=\"#000000\" stroke=\"none\" />\n<rect x=\"60.0mm\" y=\"15.0mm\"\n      width=\"14.0mm\" height=\"14.0mm\"\n      fill=\"#000000\" stroke=\"none\" />\n<rect x=\"75.0mm\" y=\"15.0mm\"\n      width=\"14.0mm\" height=\"14.0mm\"\n      fill=\"#000000\" stroke=\"none\" />\n<rect x=\"90.0mm\" y=\"15.0mm\"\n      width=\"14.0mm\" height=\"14.0mm\"\n      fill=\"#000000\" stroke=\"none\" />\n<rect x=\"105.0mm\" y=\"15.0mm\"\n      width=\"14.0mm\" height=\"14.0mm\"\n      fill=\"#000000\" stroke=\"none\" />\n<rect x=\"120.0mm\" y=\"15.0mm\"\n      width=\"14.0mm\" height=\"14.0mm\"\n      fill=\"#000000\" stroke=\"none\" />\n<rect x=\"135.0mm\" y=\"15.0mm\"\n      width=\"14.0mm\" height=\"14.0mm\"\n      fill=\"#000000\" stroke=\"none\" />\n<rect x=\"0.0mm\" y=\"30.0mm\"\n      width=\"14.0mm\" height=\"14.0mm\"\n      fill=\"#000000\" stroke=\"none\" />\n<rect x=\"15.0mm\" y=\"30.0mm\"\n      width=\"14.0mm\" height=\"14.0mm\"\n      fill=\"#000000\" stroke=\"none\" />\n<rect x=\"30.0mm\" y=\"30.0mm\"\n      width=\"14.0mm\" height=\"14.0mm\"\n      fill=\"#000000\" stroke=\"none\" />\n<rect x=\"45.0mm\" y=\"30.0mm\"\n      width=\"14.0mm\" height=\"14.0mm\"\n      fill=\"#000000\" stroke=\"none\" />\n<rect x=\"60.0mm\" y=\"30.0mm\"\n      width=\"14.0mm\" height=\"14.0mm\"\n      fill=\"#000000\" stroke=\"none\" />\n<rect x=\"75.0mm\" y=\"30.0mm\"\n      width=\"14.0mm\" height=\"14.0mm\"\n      fill=\"#000000\" stroke=\"none\" />\n<rect x=\"90.0mm\" y=\"30.0mm\"\n      width=\"14.0mm\" height=\"14.0mm\"\n      fill=\"#000000\" stroke=\"none\" />\n<rect x=\"105.0mm\" y=\"30.0mm\"\n      width=\"14.0mm\" height=\"14.0mm\"\n      fill=\"#000000\" stroke=\"none\" />\n<rect x=\"120.0mm\" y=\"30.0mm\"\n      width=\"14.0mm\" height=\"14.0mm\"\n      fill=\"#000000\" stroke=\"none\" />\n<rect x=\"135.0mm\" y=\"30.0mm\"\n      width=\"14.0mm\" height=\"14.0mm\"\n      fill=\"#000000\" stroke=\"none\" />\n<rect x=\"0.0mm\" y=\"45.0mm\"\n      width=\"14.0mm\" height=\"14.0mm\"\n      fill=\"#000000\" stroke=\"none\" />\n<rect x=\"15.0mm\" y=\"45.0mm\"\n      width=\"14.0mm\" height=\"14.0mm\"\n      fill=\"#000000\" stroke=\"none\" />\n<rect x=\"30.0mm\" y=\"45.0mm\"\n      width=\"14.0mm\" height=\"14.0mm\"\n      fill=\"#000000\" stroke=\"none\" />\n<rect x=\"45.0mm\" y=\"45.0mm\"\n      width=\"14.0mm\" height=\"14.0mm\"\n      fill=\"#00D6FF\" stroke=\"none\" />\n<rect x=\"60.0mm\" y=\"45.0mm\"\n      width=\"14.0mm\" height=\"14.0mm\"\n      fill=\"#00D6FF\" stroke=\"none\" />\n<rect x=\"75.0mm\" y=\"45.0mm\"\n      width=\"14.0mm\" height=\"14.0mm\"\n      fill=\"#00D6FF\" stroke=\"none\" />\n<rect x=\"90.0mm\" y=\"45.0mm\"\n      width=\"14.0mm\" height=\"14.0mm\"\n      fill=\"#000000\" stroke=\"none\" />\n<rect x=\"105.0mm\" y=\"45.0mm\"\n      width=\"14.0mm\" height=\"14.0mm\"\n      fill=\"#000000\" stroke=\"none\" />\n<rect x=\"120.0mm\" y=\"45.0mm\"\n      width=\"14.0mm\" height=\"14.0mm\"\n      fill=\"#000000\" stroke=\"none\" />\n<rect x=\"135.0mm\" y=\"45.0mm\"\n      width=\"14.0mm\" height=\"14.0mm\"\n      fill=\"#000000\" stroke=\"none\" />\n<rect x=\"0.0mm\" y=\"60.0mm\"\n      width=\"14.0mm\" height=\"14.0mm\"\n      fill=\"#000000\" stroke=\"none\" />\n<rect x=\"15.0mm\" y=\"60.0mm\"\n      width=\"14.0mm\" height=\"14.0mm\"\n      fill=\"#000000\" stroke=\"none\" />\n<rect x=\"30.0mm\" y=\"60.0mm\"\n      width=\"14.0mm\" height=\"14.0mm\"\n      fill=\"#000000\" stroke=\"none\" />\n<rect x=\"45.0mm\" y=\"60.0mm\"\n      width=\"14.0mm\" height=\"14.0mm\"\n      fill=\"#00D6FF\" stroke=\"none\" />\n<rect x=\"60.0mm\" y=\"60.0mm\"\n      width=\"14.0mm\" height=\"14.0mm\"\n      fill=\"#00D6FF\" stroke=\"none\" />\n<rect x=\"75.0mm\" y=\"60.0mm\"\n      width=\"14.0mm\" height=\"14.0mm\"\n      fill=\"#00D6FF\" stroke=\"none\" />\n<rect x=\"90.0mm\" y=\"60.0mm\"\n      width=\"14.0mm\" height=\"14.0mm\"\n      fill=\"#000000\" stroke=\"none\" />\n<rect x=\"105.0mm\" y=\"60.0mm\"\n      width=\"14.0mm\" height=\"14.0mm\"\n      fill=\"#000000\" stroke=\"none\" />\n<rect x=\"120.0mm\" y=\"60.0mm\"\n      width=\"14.0mm\" height=\"14.0mm\"\n      fill=\"#000000\" stroke=\"none\" />\n<rect x=\"135.0mm\" y=\"60.0mm\"\n      width=\"14.0mm\" height=\"14.0mm\"\n      fill=\"#000000\" stroke=\"none\" />\n<rect x=\"0.0mm\" y=\"75.0mm\"\n      width=\"14.0mm\" height=\"14.0mm\"\n      fill=\"#000000\" stroke=\"none\" />\n<rect x=\"15.0mm\" y=\"75.0mm\"\n      width=\"14.0mm\" height=\"14.0mm\"\n      fill=\"#000000\" stroke=\"none\" />\n<rect x=\"30.0mm\" y=\"75.0mm\"\n      width=\"14.0mm\" height=\"14.0mm\"\n      fill=\"#000000\" stroke=\"none\" />\n<rect x=\"45.0mm\" y=\"75.0mm\"\n      width=\"14.0mm\" height=\"14.0mm\"\n      fill=\"#00D6FF\" stroke=\"none\" />\n<rect x=\"60.0mm\" y=\"75.0mm\"\n      width=\"14.0mm\" height=\"14.0mm\"\n      fill=\"#00D6FF\" stroke=\"none\" />\n<rect x=\"75.0mm\" y=\"75.0mm\"\n      width=\"14.0mm\" height=\"14.0mm\"\n      fill=\"#00D6FF\" stroke=\"none\" />\n<rect x=\"90.0mm\" y=\"75.0mm\"\n      width=\"14.0mm\" height=\"14.0mm\"\n      fill=\"#000000\" stroke=\"none\" />\n<rect x=\"105.0mm\" y=\"75.0mm\"\n      width=\"14.0mm\" height=\"14.0mm\"\n      fill=\"#000000\" stroke=\"none\" />\n<rect x=\"120.0mm\" y=\"75.0mm\"\n      width=\"14.0mm\" height=\"14.0mm\"\n      fill=\"#000000\" stroke=\"none\" />\n<rect x=\"135.0mm\" y=\"75.0mm\"\n      width=\"14.0mm\" height=\"14.0mm\"\n      fill=\"#000000\" stroke=\"none\" />\n<rect x=\"0.0mm\" y=\"90.0mm\"\n      width=\"14.0mm\" height=\"14.0mm\"\n      fill=\"#000000\" stroke=\"none\" />\n<rect x=\"15.0mm\" y=\"90.0mm\"\n      width=\"14.0mm\" height=\"14.0mm\"\n      fill=\"#000000\" stroke=\"none\" />\n<rect x=\"30.0mm\" y=\"90.0mm\"\n      width=\"14.0mm\" height=\"14.0mm\"\n      fill=\"#000000\" stroke=\"none\" />\n<rect x=\"45.0mm\" y=\"90.0mm\"\n      width=\"14.0mm\" height=\"14.0mm\"\n      fill=\"#000000\" stroke=\"none\" />\n<rect x=\"60.0mm\" y=\"90.0mm\"\n      width=\"14.0mm\" height=\"14.0mm\"\n      fill=\"#000000\" stroke=\"none\" />\n<rect x=\"75.0mm\" y=\"90.0mm\"\n      width=\"14.0mm\" height=\"14.0mm\"\n      fill=\"#000000\" stroke=\"none\" />\n<rect x=\"90.0mm\" y=\"90.0mm\"\n      width=\"14.0mm\" height=\"14.0mm\"\n      fill=\"#000000\" stroke=\"none\" />\n<rect x=\"105.0mm\" y=\"90.0mm\"\n      width=\"14.0mm\" height=\"14.0mm\"\n      fill=\"#000000\" stroke=\"none\" />\n<rect x=\"120.0mm\" y=\"90.0mm\"\n      width=\"14.0mm\" height=\"14.0mm\"\n      fill=\"#000000\" stroke=\"none\" />\n<rect x=\"135.0mm\" y=\"90.0mm\"\n      width=\"14.0mm\" height=\"14.0mm\"\n      fill=\"#000000\" stroke=\"none\" />\n<rect x=\"0.0mm\" y=\"105.0mm\"\n      width=\"14.0mm\" height=\"14.0mm\"\n      fill=\"#000000\" stroke=\"none\" />\n<rect x=\"15.0mm\" y=\"105.0mm\"\n      width=\"14.0mm\" height=\"14.0mm\"\n      fill=\"#000000\" stroke=\"none\" />\n<rect x=\"30.0mm\" y=\"105.0mm\"\n      width=\"14.0mm\" height=\"14.0mm\"\n      fill=\"#000000\" stroke=\"none\" />\n<rect x=\"45.0mm\" y=\"105.0mm\"\n      width=\"14.0mm\" height=\"14.0mm\"\n      fill=\"#000000\" stroke=\"none\" />\n<rect x=\"60.0mm\" y=\"105.0mm\"\n      width=\"14.0mm\" height=\"14.0mm\"\n      fill=\"#000000\" stroke=\"none\" />\n<rect x=\"75.0mm\" y=\"105.0mm\"\n      width=\"14.0mm\" height=\"14.0mm\"\n      fill=\"#000000\" stroke=\"none\" />\n<rect x=\"90.0mm\" y=\"105.0mm\"\n      width=\"14.0mm\" height=\"14.0mm\"\n      fill=\"#000000\" stroke=\"none\" />\n<rect x=\"105.0mm\" y=\"105.0mm\"\n      width=\"14.0mm\" height=\"14.0mm\"\n      fill=\"#000000\" stroke=\"none\" />\n<rect x=\"120.0mm\" y=\"105.0mm\"\n      width=\"14.0mm\" height=\"14.0mm\"\n      fill=\"#000000\" stroke=\"none\" />\n<rect x=\"135.0mm\" y=\"105.0mm\"\n      width=\"14.0mm\" height=\"14.0mm\"\n      fill=\"#000000\" stroke=\"none\" />\n<rect x=\"0.0mm\" y=\"120.0mm\"\n      width=\"14.0mm\" height=\"14.0mm\"\n      fill=\"#000000\" stroke=\"none\" />\n<rect x=\"15.0mm\" y=\"120.0mm\"\n      width=\"14.0mm\" height=\"14.0mm\"\n      fill=\"#000000\" stroke=\"none\" />\n<rect x=\"30.0mm\" y=\"120.0mm\"\n      width=\"14.0mm\" height=\"14.0mm\"\n      fill=\"#000000\" stroke=\"none\" />\n<rect x=\"45.0mm\" y=\"120.0mm\"\n      width=\"14.0mm\" height=\"14.0mm\"\n      fill=\"#000000\" stroke=\"none\" />\n<rect x=\"60.0mm\" y=\"120.0mm\"\n      width=\"14.0mm\" height=\"14.0mm\"\n      fill=\"#000000\" stroke=\"none\" />\n<rect x=\"75.0mm\" y=\"120.0mm\"\n      width=\"14.0mm\" height=\"14.0mm\"\n      fill=\"#000000\" stroke=\"none\" />\n<rect x=\"90.0mm\" y=\"120.0mm\"\n      width=\"14.0mm\" height=\"14.0mm\"\n      fill=\"#000000\" stroke=\"none\" />\n<rect x=\"105.0mm\" y=\"120.0mm\"\n      width=\"14.0mm\" height=\"14.0mm\"\n      fill=\"#000000\" stroke=\"none\" />\n<rect x=\"120.0mm\" y=\"120.0mm\"\n      width=\"14.0mm\" height=\"14.0mm\"\n      fill=\"#000000\" stroke=\"none\" />\n<rect x=\"135.0mm\" y=\"120.0mm\"\n      width=\"14.0mm\" height=\"14.0mm\"\n      fill=\"#000000\" stroke=\"none\" />\n<rect x=\"0.0mm\" y=\"135.0mm\"\n      width=\"14.0mm\" height=\"14.0mm\"\n      fill=\"#000000\" stroke=\"none\" />\n<rect x=\"15.0mm\" y=\"135.0mm\"\n      width=\"14.0mm\" height=\"14.0mm\"\n      fill=\"#000000\" stroke=\"none\" />\n<rect x=\"30.0mm\" y=\"135.0mm\"\n      width=\"14.0mm\" height=\"14.0mm\"\n      fill=\"#000000\" stroke=\"none\" />\n<rect x=\"45.0mm\" y=\"135.0mm\"\n      width=\"14.0mm\" height=\"14.0mm\"\n      fill=\"#000000\" stroke=\"none\" />\n<rect x=\"60.0mm\" y=\"135.0mm\"\n      width=\"14.0mm\" height=\"14.0mm\"\n      fill=\"#000000\" stroke=\"none\" />\n<rect x=\"75.0mm\" y=\"135.0mm\"\n      width=\"14.0mm\" height=\"14.0mm\"\n      fill=\"#000000\" stroke=\"none\" />\n<rect x=\"90.0mm\" y=\"135.0mm\"\n      width=\"14.0mm\" height=\"14.0mm\"\n      fill=\"#000000\" stroke=\"none\" />\n<rect x=\"105.0mm\" y=\"135.0mm\"\n      width=\"14.0mm\" height=\"14.0mm\"\n      fill=\"#000000\" stroke=\"none\" />\n<rect x=\"120.0mm\" y=\"135.0mm\"\n      width=\"14.0mm\" height=\"14.0mm\"\n      fill=\"#000000\" stroke=\"none\" />\n<rect x=\"135.0mm\" y=\"135.0mm\"\n      width=\"14.0mm\" height=\"14.0mm\"\n      fill=\"#000000\" stroke=\"none\" />\n</svg>"
               },
               "type": "node"
              }
             ],
             "instanceArgs": {
              "namespace": "html",
              "tag": "div"
             },
             "nodeType": "DOM",
             "props": {
              "className": "interact-flex-row interact-widget"
             },
             "type": "node"
            }
           }
          },
          "systemjs_options": null
         },
         "nodeType": "Scope",
         "props": {},
         "type": "node"
        }
       ],
       "instanceArgs": {
        "namespace": "html",
        "tag": "div"
       },
       "nodeType": "DOM",
       "props": {},
       "type": "node"
      },
      "text/html": [
       "<div\n",
       "    class=\"webio-mountpoint\"\n",
       "    data-webio-mountpoint=\"11249678909403747182\"\n",
       ">\n",
       "    <script>\n",
       "    if (window.require && require.defined && require.defined(\"nbextensions/webio/main\")) {\n",
       "        console.log(\"Jupyter WebIO extension detected, not mounting.\");\n",
       "    } else if (window.WebIO) {\n",
       "        WebIO.mount(\n",
       "            document.querySelector('[data-webio-mountpoint=\"11249678909403747182\"]'),\n",
       "            {\"props\":{},\"nodeType\":\"DOM\",\"type\":\"node\",\"instanceArgs\":{\"namespace\":\"html\",\"tag\":\"div\"},\"children\":[{\"props\":{\"className\":\"field interact-widget\"},\"nodeType\":\"DOM\",\"type\":\"node\",\"instanceArgs\":{\"namespace\":\"html\",\"tag\":\"div\"},\"children\":[{\"props\":{},\"nodeType\":\"Scope\",\"type\":\"node\",\"instanceArgs\":{\"imports\":{\"data\":[{\"name\":\"knockout\",\"type\":\"js\",\"url\":\"\\/assetserver\\/06b5713f7394e9c781d3d3143d6fd532e7f814ce-knockout.js\"},{\"name\":\"knockout_punches\",\"type\":\"js\",\"url\":\"\\/assetserver\\/695de4db56dde9805b672fe778fb2fc752e9b632-knockout_punches.js\"},{\"name\":null,\"type\":\"js\",\"url\":\"\\/assetserver\\/cd9cf93729ff320de8d59972e501bc7581ce199e-all.js\"},{\"name\":null,\"type\":\"css\",\"url\":\"\\/assetserver\\/2dd5b4483a1ad2cfea2512179b895d21de762858-style.css\"},{\"name\":null,\"type\":\"css\",\"url\":\"\\/assetserver\\/4a166f7fd21f97b78604bf0dafec2fdf4c488adb-bulma_confined.min.css\"}],\"type\":\"async_block\"},\"id\":\"12593632412734895716\",\"handlers\":{\"changes\":[\"(function (val){return (val!=this.model[\\\"changes\\\"]()) ? (this.valueFromJulia[\\\"changes\\\"]=true, this.model[\\\"changes\\\"](val)) : undefined})\"],\"index\":[\"(function (val){return (val!=this.model[\\\"index\\\"]()) ? (this.valueFromJulia[\\\"index\\\"]=true, this.model[\\\"index\\\"](val)) : undefined})\"]},\"systemjs_options\":null,\"mount_callbacks\":[\"function () {\\n    var handler = (function (ko, koPunches) {\\n    ko.punches.enableAll();\\n    ko.bindingHandlers.numericValue = {\\n        init: function(element, valueAccessor, allBindings, data, context) {\\n            var stringified = ko.observable(ko.unwrap(valueAccessor()));\\n            stringified.subscribe(function(value) {\\n                var val = parseFloat(value);\\n                if (!isNaN(val)) {\\n                    valueAccessor()(val);\\n                }\\n            });\\n            valueAccessor().subscribe(function(value) {\\n                var str = JSON.stringify(value);\\n                if ((str == \\\"0\\\") && ([\\\"-0\\\", \\\"-0.\\\"].indexOf(stringified()) >= 0))\\n                     return;\\n                 if ([\\\"null\\\", \\\"\\\"].indexOf(str) >= 0)\\n                     return;\\n                stringified(str);\\n            });\\n            ko.applyBindingsToNode(\\n                element,\\n                {\\n                    value: stringified,\\n                    valueUpdate: allBindings.get('valueUpdate'),\\n                },\\n                context,\\n            );\\n        }\\n    };\\n    var json_data = {\\\"formatted_vals\\\":[\\\"1\\\",\\\"2\\\",\\\"3\\\",\\\"4\\\",\\\"5\\\",\\\"6\\\",\\\"7\\\",\\\"8\\\"],\\\"changes\\\":WebIO.getval({\\\"name\\\":\\\"changes\\\",\\\"scope\\\":\\\"12593632412734895716\\\",\\\"id\\\":\\\"ob_104\\\",\\\"type\\\":\\\"observable\\\"}),\\\"index\\\":WebIO.getval({\\\"name\\\":\\\"index\\\",\\\"scope\\\":\\\"12593632412734895716\\\",\\\"id\\\":\\\"ob_103\\\",\\\"type\\\":\\\"observable\\\"})};\\n    var self = this;\\n    function AppViewModel() {\\n        for (var key in json_data) {\\n            var el = json_data[key];\\n            this[key] = Array.isArray(el) ? ko.observableArray(el) : ko.observable(el);\\n        }\\n        \\n        [this[\\\"formatted_val\\\"]=ko.computed(    function(){\\n        return this.formatted_vals()[parseInt(this.index())-(1)];\\n    }\\n,this)]\\n        [this[\\\"changes\\\"].subscribe((function (val){!(this.valueFromJulia[\\\"changes\\\"]) ? (WebIO.setval({\\\"name\\\":\\\"changes\\\",\\\"scope\\\":\\\"12593632412734895716\\\",\\\"id\\\":\\\"ob_104\\\",\\\"type\\\":\\\"observable\\\"},val)) : undefined; return this.valueFromJulia[\\\"changes\\\"]=false}),self),this[\\\"index\\\"].subscribe((function (val){!(this.valueFromJulia[\\\"index\\\"]) ? (WebIO.setval({\\\"name\\\":\\\"index\\\",\\\"scope\\\":\\\"12593632412734895716\\\",\\\"id\\\":\\\"ob_103\\\",\\\"type\\\":\\\"observable\\\"},val)) : undefined; return this.valueFromJulia[\\\"index\\\"]=false}),self)]\\n        \\n    }\\n    self.model = new AppViewModel();\\n    self.valueFromJulia = {};\\n    for (var key in json_data) {\\n        self.valueFromJulia[key] = false;\\n    }\\n    ko.applyBindings(self.model, self.dom);\\n}\\n);\\n    (WebIO.importBlock({\\\"data\\\":[{\\\"name\\\":\\\"knockout\\\",\\\"type\\\":\\\"js\\\",\\\"url\\\":\\\"\\/assetserver\\/06b5713f7394e9c781d3d3143d6fd532e7f814ce-knockout.js\\\"},{\\\"name\\\":\\\"knockout_punches\\\",\\\"type\\\":\\\"js\\\",\\\"url\\\":\\\"\\/assetserver\\/695de4db56dde9805b672fe778fb2fc752e9b632-knockout_punches.js\\\"}],\\\"type\\\":\\\"async_block\\\"})).then((imports) => handler.apply(this, imports));\\n}\\n\"],\"observables\":{\"changes\":{\"sync\":false,\"id\":\"ob_104\",\"value\":0},\"index\":{\"sync\":true,\"id\":\"ob_103\",\"value\":4}}},\"children\":[{\"props\":{\"className\":\"interact-flex-row interact-widget\"},\"nodeType\":\"DOM\",\"type\":\"node\",\"instanceArgs\":{\"namespace\":\"html\",\"tag\":\"div\"},\"children\":[{\"props\":{\"className\":\"interact-flex-row-left\"},\"nodeType\":\"DOM\",\"type\":\"node\",\"instanceArgs\":{\"namespace\":\"html\",\"tag\":\"div\"},\"children\":[{\"props\":{\"className\":\"interact \",\"style\":{\"padding\":\"5px 10px 0px 10px\"}},\"nodeType\":\"DOM\",\"type\":\"node\",\"instanceArgs\":{\"namespace\":\"html\",\"tag\":\"label\"},\"children\":[\"i\"]}]},{\"props\":{\"className\":\"interact-flex-row-center\"},\"nodeType\":\"DOM\",\"type\":\"node\",\"instanceArgs\":{\"namespace\":\"html\",\"tag\":\"div\"},\"children\":[{\"props\":{\"max\":8,\"min\":1,\"attributes\":{\"type\":\"range\",\"data-bind\":\"numericValue: index, valueUpdate: 'input', event: {change: function (){this.changes(this.changes()+1)}}\",\"orient\":\"horizontal\"},\"step\":1,\"className\":\"slider slider is-fullwidth\",\"style\":{}},\"nodeType\":\"DOM\",\"type\":\"node\",\"instanceArgs\":{\"namespace\":\"html\",\"tag\":\"input\"},\"children\":[]}]},{\"props\":{\"className\":\"interact-flex-row-right\"},\"nodeType\":\"DOM\",\"type\":\"node\",\"instanceArgs\":{\"namespace\":\"html\",\"tag\":\"div\"},\"children\":[{\"props\":{\"attributes\":{\"data-bind\":\"text: formatted_val\"}},\"nodeType\":\"DOM\",\"type\":\"node\",\"instanceArgs\":{\"namespace\":\"html\",\"tag\":\"p\"},\"children\":[]}]}]}]}]},{\"props\":{\"className\":\"field interact-widget\"},\"nodeType\":\"DOM\",\"type\":\"node\",\"instanceArgs\":{\"namespace\":\"html\",\"tag\":\"div\"},\"children\":[{\"props\":{},\"nodeType\":\"Scope\",\"type\":\"node\",\"instanceArgs\":{\"imports\":{\"data\":[{\"name\":\"knockout\",\"type\":\"js\",\"url\":\"\\/assetserver\\/06b5713f7394e9c781d3d3143d6fd532e7f814ce-knockout.js\"},{\"name\":\"knockout_punches\",\"type\":\"js\",\"url\":\"\\/assetserver\\/695de4db56dde9805b672fe778fb2fc752e9b632-knockout_punches.js\"},{\"name\":null,\"type\":\"js\",\"url\":\"\\/assetserver\\/cd9cf93729ff320de8d59972e501bc7581ce199e-all.js\"},{\"name\":null,\"type\":\"css\",\"url\":\"\\/assetserver\\/2dd5b4483a1ad2cfea2512179b895d21de762858-style.css\"},{\"name\":null,\"type\":\"css\",\"url\":\"\\/assetserver\\/4a166f7fd21f97b78604bf0dafec2fdf4c488adb-bulma_confined.min.css\"}],\"type\":\"async_block\"},\"id\":\"9298649931829046425\",\"handlers\":{\"changes\":[\"(function (val){return (val!=this.model[\\\"changes\\\"]()) ? (this.valueFromJulia[\\\"changes\\\"]=true, this.model[\\\"changes\\\"](val)) : undefined})\"],\"index\":[\"(function (val){return (val!=this.model[\\\"index\\\"]()) ? (this.valueFromJulia[\\\"index\\\"]=true, this.model[\\\"index\\\"](val)) : undefined})\"]},\"systemjs_options\":null,\"mount_callbacks\":[\"function () {\\n    var handler = (function (ko, koPunches) {\\n    ko.punches.enableAll();\\n    ko.bindingHandlers.numericValue = {\\n        init: function(element, valueAccessor, allBindings, data, context) {\\n            var stringified = ko.observable(ko.unwrap(valueAccessor()));\\n            stringified.subscribe(function(value) {\\n                var val = parseFloat(value);\\n                if (!isNaN(val)) {\\n                    valueAccessor()(val);\\n                }\\n            });\\n            valueAccessor().subscribe(function(value) {\\n                var str = JSON.stringify(value);\\n                if ((str == \\\"0\\\") && ([\\\"-0\\\", \\\"-0.\\\"].indexOf(stringified()) >= 0))\\n                     return;\\n                 if ([\\\"null\\\", \\\"\\\"].indexOf(str) >= 0)\\n                     return;\\n                stringified(str);\\n            });\\n            ko.applyBindingsToNode(\\n                element,\\n                {\\n                    value: stringified,\\n                    valueUpdate: allBindings.get('valueUpdate'),\\n                },\\n                context,\\n            );\\n        }\\n    };\\n    var json_data = {\\\"formatted_vals\\\":[\\\"1\\\",\\\"2\\\",\\\"3\\\",\\\"4\\\",\\\"5\\\",\\\"6\\\",\\\"7\\\",\\\"8\\\"],\\\"changes\\\":WebIO.getval({\\\"name\\\":\\\"changes\\\",\\\"scope\\\":\\\"9298649931829046425\\\",\\\"id\\\":\\\"ob_106\\\",\\\"type\\\":\\\"observable\\\"}),\\\"index\\\":WebIO.getval({\\\"name\\\":\\\"index\\\",\\\"scope\\\":\\\"9298649931829046425\\\",\\\"id\\\":\\\"ob_105\\\",\\\"type\\\":\\\"observable\\\"})};\\n    var self = this;\\n    function AppViewModel() {\\n        for (var key in json_data) {\\n            var el = json_data[key];\\n            this[key] = Array.isArray(el) ? ko.observableArray(el) : ko.observable(el);\\n        }\\n        \\n        [this[\\\"formatted_val\\\"]=ko.computed(    function(){\\n        return this.formatted_vals()[parseInt(this.index())-(1)];\\n    }\\n,this)]\\n        [this[\\\"changes\\\"].subscribe((function (val){!(this.valueFromJulia[\\\"changes\\\"]) ? (WebIO.setval({\\\"name\\\":\\\"changes\\\",\\\"scope\\\":\\\"9298649931829046425\\\",\\\"id\\\":\\\"ob_106\\\",\\\"type\\\":\\\"observable\\\"},val)) : undefined; return this.valueFromJulia[\\\"changes\\\"]=false}),self),this[\\\"index\\\"].subscribe((function (val){!(this.valueFromJulia[\\\"index\\\"]) ? (WebIO.setval({\\\"name\\\":\\\"index\\\",\\\"scope\\\":\\\"9298649931829046425\\\",\\\"id\\\":\\\"ob_105\\\",\\\"type\\\":\\\"observable\\\"},val)) : undefined; return this.valueFromJulia[\\\"index\\\"]=false}),self)]\\n        \\n    }\\n    self.model = new AppViewModel();\\n    self.valueFromJulia = {};\\n    for (var key in json_data) {\\n        self.valueFromJulia[key] = false;\\n    }\\n    ko.applyBindings(self.model, self.dom);\\n}\\n);\\n    (WebIO.importBlock({\\\"data\\\":[{\\\"name\\\":\\\"knockout\\\",\\\"type\\\":\\\"js\\\",\\\"url\\\":\\\"\\/assetserver\\/06b5713f7394e9c781d3d3143d6fd532e7f814ce-knockout.js\\\"},{\\\"name\\\":\\\"knockout_punches\\\",\\\"type\\\":\\\"js\\\",\\\"url\\\":\\\"\\/assetserver\\/695de4db56dde9805b672fe778fb2fc752e9b632-knockout_punches.js\\\"}],\\\"type\\\":\\\"async_block\\\"})).then((imports) => handler.apply(this, imports));\\n}\\n\"],\"observables\":{\"changes\":{\"sync\":false,\"id\":\"ob_106\",\"value\":0},\"index\":{\"sync\":true,\"id\":\"ob_105\",\"value\":4}}},\"children\":[{\"props\":{\"className\":\"interact-flex-row interact-widget\"},\"nodeType\":\"DOM\",\"type\":\"node\",\"instanceArgs\":{\"namespace\":\"html\",\"tag\":\"div\"},\"children\":[{\"props\":{\"className\":\"interact-flex-row-left\"},\"nodeType\":\"DOM\",\"type\":\"node\",\"instanceArgs\":{\"namespace\":\"html\",\"tag\":\"div\"},\"children\":[{\"props\":{\"className\":\"interact \",\"style\":{\"padding\":\"5px 10px 0px 10px\"}},\"nodeType\":\"DOM\",\"type\":\"node\",\"instanceArgs\":{\"namespace\":\"html\",\"tag\":\"label\"},\"children\":[\"j\"]}]},{\"props\":{\"className\":\"interact-flex-row-center\"},\"nodeType\":\"DOM\",\"type\":\"node\",\"instanceArgs\":{\"namespace\":\"html\",\"tag\":\"div\"},\"children\":[{\"props\":{\"max\":8,\"min\":1,\"attributes\":{\"type\":\"range\",\"data-bind\":\"numericValue: index, valueUpdate: 'input', event: {change: function (){this.changes(this.changes()+1)}}\",\"orient\":\"horizontal\"},\"step\":1,\"className\":\"slider slider is-fullwidth\",\"style\":{}},\"nodeType\":\"DOM\",\"type\":\"node\",\"instanceArgs\":{\"namespace\":\"html\",\"tag\":\"input\"},\"children\":[]}]},{\"props\":{\"className\":\"interact-flex-row-right\"},\"nodeType\":\"DOM\",\"type\":\"node\",\"instanceArgs\":{\"namespace\":\"html\",\"tag\":\"div\"},\"children\":[{\"props\":{\"attributes\":{\"data-bind\":\"text: formatted_val\"}},\"nodeType\":\"DOM\",\"type\":\"node\",\"instanceArgs\":{\"namespace\":\"html\",\"tag\":\"p\"},\"children\":[]}]}]}]}]},{\"props\":{},\"nodeType\":\"Scope\",\"type\":\"node\",\"instanceArgs\":{\"imports\":{\"data\":[],\"type\":\"async_block\"},\"id\":\"8742836601519495481\",\"handlers\":{},\"systemjs_options\":null,\"mount_callbacks\":[],\"observables\":{\"obs-node\":{\"sync\":false,\"id\":\"ob_110\",\"value\":{\"props\":{\"className\":\"interact-flex-row interact-widget\"},\"nodeType\":\"DOM\",\"type\":\"node\",\"instanceArgs\":{\"namespace\":\"html\",\"tag\":\"div\"},\"children\":[{\"props\":{\"setInnerHtml\":\"<?xml version=\\\"1.0\\\" encoding=\\\"UTF-8\\\"?>\\n<!DOCTYPE svg PUBLIC \\\"-\\/\\/W3C\\/\\/DTD SVG 1.1\\/\\/EN\\\"\\n \\\"http:\\/\\/www.w3.org\\/Graphics\\/SVG\\/1.1\\/DTD\\/svg11.dtd\\\">\\n<svg xmlns=\\\"http:\\/\\/www.w3.org\\/2000\\/svg\\\" version=\\\"1.1\\\"\\n     width=\\\"150.0mm\\\" height=\\\"150.0mm\\\"\\n     shape-rendering=\\\"crispEdges\\\">\\n<rect x=\\\"0.0mm\\\" y=\\\"0.0mm\\\"\\n      width=\\\"14.0mm\\\" height=\\\"14.0mm\\\"\\n      fill=\\\"#000000\\\" stroke=\\\"none\\\" \\/>\\n<rect x=\\\"15.0mm\\\" y=\\\"0.0mm\\\"\\n      width=\\\"14.0mm\\\" height=\\\"14.0mm\\\"\\n      fill=\\\"#000000\\\" stroke=\\\"none\\\" \\/>\\n<rect x=\\\"30.0mm\\\" y=\\\"0.0mm\\\"\\n      width=\\\"14.0mm\\\" height=\\\"14.0mm\\\"\\n      fill=\\\"#000000\\\" stroke=\\\"none\\\" \\/>\\n<rect x=\\\"45.0mm\\\" y=\\\"0.0mm\\\"\\n      width=\\\"14.0mm\\\" height=\\\"14.0mm\\\"\\n      fill=\\\"#000000\\\" stroke=\\\"none\\\" \\/>\\n<rect x=\\\"60.0mm\\\" y=\\\"0.0mm\\\"\\n      width=\\\"14.0mm\\\" height=\\\"14.0mm\\\"\\n      fill=\\\"#000000\\\" stroke=\\\"none\\\" \\/>\\n<rect x=\\\"75.0mm\\\" y=\\\"0.0mm\\\"\\n      width=\\\"14.0mm\\\" height=\\\"14.0mm\\\"\\n      fill=\\\"#000000\\\" stroke=\\\"none\\\" \\/>\\n<rect x=\\\"90.0mm\\\" y=\\\"0.0mm\\\"\\n      width=\\\"14.0mm\\\" height=\\\"14.0mm\\\"\\n      fill=\\\"#000000\\\" stroke=\\\"none\\\" \\/>\\n<rect x=\\\"105.0mm\\\" y=\\\"0.0mm\\\"\\n      width=\\\"14.0mm\\\" height=\\\"14.0mm\\\"\\n      fill=\\\"#000000\\\" stroke=\\\"none\\\" \\/>\\n<rect x=\\\"120.0mm\\\" y=\\\"0.0mm\\\"\\n      width=\\\"14.0mm\\\" height=\\\"14.0mm\\\"\\n      fill=\\\"#000000\\\" stroke=\\\"none\\\" \\/>\\n<rect x=\\\"135.0mm\\\" y=\\\"0.0mm\\\"\\n      width=\\\"14.0mm\\\" height=\\\"14.0mm\\\"\\n      fill=\\\"#000000\\\" stroke=\\\"none\\\" \\/>\\n<rect x=\\\"0.0mm\\\" y=\\\"15.0mm\\\"\\n      width=\\\"14.0mm\\\" height=\\\"14.0mm\\\"\\n      fill=\\\"#000000\\\" stroke=\\\"none\\\" \\/>\\n<rect x=\\\"15.0mm\\\" y=\\\"15.0mm\\\"\\n      width=\\\"14.0mm\\\" height=\\\"14.0mm\\\"\\n      fill=\\\"#000000\\\" stroke=\\\"none\\\" \\/>\\n<rect x=\\\"30.0mm\\\" y=\\\"15.0mm\\\"\\n      width=\\\"14.0mm\\\" height=\\\"14.0mm\\\"\\n      fill=\\\"#000000\\\" stroke=\\\"none\\\" \\/>\\n<rect x=\\\"45.0mm\\\" y=\\\"15.0mm\\\"\\n      width=\\\"14.0mm\\\" height=\\\"14.0mm\\\"\\n      fill=\\\"#000000\\\" stroke=\\\"none\\\" \\/>\\n<rect x=\\\"60.0mm\\\" y=\\\"15.0mm\\\"\\n      width=\\\"14.0mm\\\" height=\\\"14.0mm\\\"\\n      fill=\\\"#000000\\\" stroke=\\\"none\\\" \\/>\\n<rect x=\\\"75.0mm\\\" y=\\\"15.0mm\\\"\\n      width=\\\"14.0mm\\\" height=\\\"14.0mm\\\"\\n      fill=\\\"#000000\\\" stroke=\\\"none\\\" \\/>\\n<rect x=\\\"90.0mm\\\" y=\\\"15.0mm\\\"\\n      width=\\\"14.0mm\\\" height=\\\"14.0mm\\\"\\n      fill=\\\"#000000\\\" stroke=\\\"none\\\" \\/>\\n<rect x=\\\"105.0mm\\\" y=\\\"15.0mm\\\"\\n      width=\\\"14.0mm\\\" height=\\\"14.0mm\\\"\\n      fill=\\\"#000000\\\" stroke=\\\"none\\\" \\/>\\n<rect x=\\\"120.0mm\\\" y=\\\"15.0mm\\\"\\n      width=\\\"14.0mm\\\" height=\\\"14.0mm\\\"\\n      fill=\\\"#000000\\\" stroke=\\\"none\\\" \\/>\\n<rect x=\\\"135.0mm\\\" y=\\\"15.0mm\\\"\\n      width=\\\"14.0mm\\\" height=\\\"14.0mm\\\"\\n      fill=\\\"#000000\\\" stroke=\\\"none\\\" \\/>\\n<rect x=\\\"0.0mm\\\" y=\\\"30.0mm\\\"\\n      width=\\\"14.0mm\\\" height=\\\"14.0mm\\\"\\n      fill=\\\"#000000\\\" stroke=\\\"none\\\" \\/>\\n<rect x=\\\"15.0mm\\\" y=\\\"30.0mm\\\"\\n      width=\\\"14.0mm\\\" height=\\\"14.0mm\\\"\\n      fill=\\\"#000000\\\" stroke=\\\"none\\\" \\/>\\n<rect x=\\\"30.0mm\\\" y=\\\"30.0mm\\\"\\n      width=\\\"14.0mm\\\" height=\\\"14.0mm\\\"\\n      fill=\\\"#000000\\\" stroke=\\\"none\\\" \\/>\\n<rect x=\\\"45.0mm\\\" y=\\\"30.0mm\\\"\\n      width=\\\"14.0mm\\\" height=\\\"14.0mm\\\"\\n      fill=\\\"#000000\\\" stroke=\\\"none\\\" \\/>\\n<rect x=\\\"60.0mm\\\" y=\\\"30.0mm\\\"\\n      width=\\\"14.0mm\\\" height=\\\"14.0mm\\\"\\n      fill=\\\"#000000\\\" stroke=\\\"none\\\" \\/>\\n<rect x=\\\"75.0mm\\\" y=\\\"30.0mm\\\"\\n      width=\\\"14.0mm\\\" height=\\\"14.0mm\\\"\\n      fill=\\\"#000000\\\" stroke=\\\"none\\\" \\/>\\n<rect x=\\\"90.0mm\\\" y=\\\"30.0mm\\\"\\n      width=\\\"14.0mm\\\" height=\\\"14.0mm\\\"\\n      fill=\\\"#000000\\\" stroke=\\\"none\\\" \\/>\\n<rect x=\\\"105.0mm\\\" y=\\\"30.0mm\\\"\\n      width=\\\"14.0mm\\\" height=\\\"14.0mm\\\"\\n      fill=\\\"#000000\\\" stroke=\\\"none\\\" \\/>\\n<rect x=\\\"120.0mm\\\" y=\\\"30.0mm\\\"\\n      width=\\\"14.0mm\\\" height=\\\"14.0mm\\\"\\n      fill=\\\"#000000\\\" stroke=\\\"none\\\" \\/>\\n<rect x=\\\"135.0mm\\\" y=\\\"30.0mm\\\"\\n      width=\\\"14.0mm\\\" height=\\\"14.0mm\\\"\\n      fill=\\\"#000000\\\" stroke=\\\"none\\\" \\/>\\n<rect x=\\\"0.0mm\\\" y=\\\"45.0mm\\\"\\n      width=\\\"14.0mm\\\" height=\\\"14.0mm\\\"\\n      fill=\\\"#000000\\\" stroke=\\\"none\\\" \\/>\\n<rect x=\\\"15.0mm\\\" y=\\\"45.0mm\\\"\\n      width=\\\"14.0mm\\\" height=\\\"14.0mm\\\"\\n      fill=\\\"#000000\\\" stroke=\\\"none\\\" \\/>\\n<rect x=\\\"30.0mm\\\" y=\\\"45.0mm\\\"\\n      width=\\\"14.0mm\\\" height=\\\"14.0mm\\\"\\n      fill=\\\"#000000\\\" stroke=\\\"none\\\" \\/>\\n<rect x=\\\"45.0mm\\\" y=\\\"45.0mm\\\"\\n      width=\\\"14.0mm\\\" height=\\\"14.0mm\\\"\\n      fill=\\\"#00D6FF\\\" stroke=\\\"none\\\" \\/>\\n<rect x=\\\"60.0mm\\\" y=\\\"45.0mm\\\"\\n      width=\\\"14.0mm\\\" height=\\\"14.0mm\\\"\\n      fill=\\\"#00D6FF\\\" stroke=\\\"none\\\" \\/>\\n<rect x=\\\"75.0mm\\\" y=\\\"45.0mm\\\"\\n      width=\\\"14.0mm\\\" height=\\\"14.0mm\\\"\\n      fill=\\\"#00D6FF\\\" stroke=\\\"none\\\" \\/>\\n<rect x=\\\"90.0mm\\\" y=\\\"45.0mm\\\"\\n      width=\\\"14.0mm\\\" height=\\\"14.0mm\\\"\\n      fill=\\\"#000000\\\" stroke=\\\"none\\\" \\/>\\n<rect x=\\\"105.0mm\\\" y=\\\"45.0mm\\\"\\n      width=\\\"14.0mm\\\" height=\\\"14.0mm\\\"\\n      fill=\\\"#000000\\\" stroke=\\\"none\\\" \\/>\\n<rect x=\\\"120.0mm\\\" y=\\\"45.0mm\\\"\\n      width=\\\"14.0mm\\\" height=\\\"14.0mm\\\"\\n      fill=\\\"#000000\\\" stroke=\\\"none\\\" \\/>\\n<rect x=\\\"135.0mm\\\" y=\\\"45.0mm\\\"\\n      width=\\\"14.0mm\\\" height=\\\"14.0mm\\\"\\n      fill=\\\"#000000\\\" stroke=\\\"none\\\" \\/>\\n<rect x=\\\"0.0mm\\\" y=\\\"60.0mm\\\"\\n      width=\\\"14.0mm\\\" height=\\\"14.0mm\\\"\\n      fill=\\\"#000000\\\" stroke=\\\"none\\\" \\/>\\n<rect x=\\\"15.0mm\\\" y=\\\"60.0mm\\\"\\n      width=\\\"14.0mm\\\" height=\\\"14.0mm\\\"\\n      fill=\\\"#000000\\\" stroke=\\\"none\\\" \\/>\\n<rect x=\\\"30.0mm\\\" y=\\\"60.0mm\\\"\\n      width=\\\"14.0mm\\\" height=\\\"14.0mm\\\"\\n      fill=\\\"#000000\\\" stroke=\\\"none\\\" \\/>\\n<rect x=\\\"45.0mm\\\" y=\\\"60.0mm\\\"\\n      width=\\\"14.0mm\\\" height=\\\"14.0mm\\\"\\n      fill=\\\"#00D6FF\\\" stroke=\\\"none\\\" \\/>\\n<rect x=\\\"60.0mm\\\" y=\\\"60.0mm\\\"\\n      width=\\\"14.0mm\\\" height=\\\"14.0mm\\\"\\n      fill=\\\"#00D6FF\\\" stroke=\\\"none\\\" \\/>\\n<rect x=\\\"75.0mm\\\" y=\\\"60.0mm\\\"\\n      width=\\\"14.0mm\\\" height=\\\"14.0mm\\\"\\n      fill=\\\"#00D6FF\\\" stroke=\\\"none\\\" \\/>\\n<rect x=\\\"90.0mm\\\" y=\\\"60.0mm\\\"\\n      width=\\\"14.0mm\\\" height=\\\"14.0mm\\\"\\n      fill=\\\"#000000\\\" stroke=\\\"none\\\" \\/>\\n<rect x=\\\"105.0mm\\\" y=\\\"60.0mm\\\"\\n      width=\\\"14.0mm\\\" height=\\\"14.0mm\\\"\\n      fill=\\\"#000000\\\" stroke=\\\"none\\\" \\/>\\n<rect x=\\\"120.0mm\\\" y=\\\"60.0mm\\\"\\n      width=\\\"14.0mm\\\" height=\\\"14.0mm\\\"\\n      fill=\\\"#000000\\\" stroke=\\\"none\\\" \\/>\\n<rect x=\\\"135.0mm\\\" y=\\\"60.0mm\\\"\\n      width=\\\"14.0mm\\\" height=\\\"14.0mm\\\"\\n      fill=\\\"#000000\\\" stroke=\\\"none\\\" \\/>\\n<rect x=\\\"0.0mm\\\" y=\\\"75.0mm\\\"\\n      width=\\\"14.0mm\\\" height=\\\"14.0mm\\\"\\n      fill=\\\"#000000\\\" stroke=\\\"none\\\" \\/>\\n<rect x=\\\"15.0mm\\\" y=\\\"75.0mm\\\"\\n      width=\\\"14.0mm\\\" height=\\\"14.0mm\\\"\\n      fill=\\\"#000000\\\" stroke=\\\"none\\\" \\/>\\n<rect x=\\\"30.0mm\\\" y=\\\"75.0mm\\\"\\n      width=\\\"14.0mm\\\" height=\\\"14.0mm\\\"\\n      fill=\\\"#000000\\\" stroke=\\\"none\\\" \\/>\\n<rect x=\\\"45.0mm\\\" y=\\\"75.0mm\\\"\\n      width=\\\"14.0mm\\\" height=\\\"14.0mm\\\"\\n      fill=\\\"#00D6FF\\\" stroke=\\\"none\\\" \\/>\\n<rect x=\\\"60.0mm\\\" y=\\\"75.0mm\\\"\\n      width=\\\"14.0mm\\\" height=\\\"14.0mm\\\"\\n      fill=\\\"#00D6FF\\\" stroke=\\\"none\\\" \\/>\\n<rect x=\\\"75.0mm\\\" y=\\\"75.0mm\\\"\\n      width=\\\"14.0mm\\\" height=\\\"14.0mm\\\"\\n      fill=\\\"#00D6FF\\\" stroke=\\\"none\\\" \\/>\\n<rect x=\\\"90.0mm\\\" y=\\\"75.0mm\\\"\\n      width=\\\"14.0mm\\\" height=\\\"14.0mm\\\"\\n      fill=\\\"#000000\\\" stroke=\\\"none\\\" \\/>\\n<rect x=\\\"105.0mm\\\" y=\\\"75.0mm\\\"\\n      width=\\\"14.0mm\\\" height=\\\"14.0mm\\\"\\n      fill=\\\"#000000\\\" stroke=\\\"none\\\" \\/>\\n<rect x=\\\"120.0mm\\\" y=\\\"75.0mm\\\"\\n      width=\\\"14.0mm\\\" height=\\\"14.0mm\\\"\\n      fill=\\\"#000000\\\" stroke=\\\"none\\\" \\/>\\n<rect x=\\\"135.0mm\\\" y=\\\"75.0mm\\\"\\n      width=\\\"14.0mm\\\" height=\\\"14.0mm\\\"\\n      fill=\\\"#000000\\\" stroke=\\\"none\\\" \\/>\\n<rect x=\\\"0.0mm\\\" y=\\\"90.0mm\\\"\\n      width=\\\"14.0mm\\\" height=\\\"14.0mm\\\"\\n      fill=\\\"#000000\\\" stroke=\\\"none\\\" \\/>\\n<rect x=\\\"15.0mm\\\" y=\\\"90.0mm\\\"\\n      width=\\\"14.0mm\\\" height=\\\"14.0mm\\\"\\n      fill=\\\"#000000\\\" stroke=\\\"none\\\" \\/>\\n<rect x=\\\"30.0mm\\\" y=\\\"90.0mm\\\"\\n      width=\\\"14.0mm\\\" height=\\\"14.0mm\\\"\\n      fill=\\\"#000000\\\" stroke=\\\"none\\\" \\/>\\n<rect x=\\\"45.0mm\\\" y=\\\"90.0mm\\\"\\n      width=\\\"14.0mm\\\" height=\\\"14.0mm\\\"\\n      fill=\\\"#000000\\\" stroke=\\\"none\\\" \\/>\\n<rect x=\\\"60.0mm\\\" y=\\\"90.0mm\\\"\\n      width=\\\"14.0mm\\\" height=\\\"14.0mm\\\"\\n      fill=\\\"#000000\\\" stroke=\\\"none\\\" \\/>\\n<rect x=\\\"75.0mm\\\" y=\\\"90.0mm\\\"\\n      width=\\\"14.0mm\\\" height=\\\"14.0mm\\\"\\n      fill=\\\"#000000\\\" stroke=\\\"none\\\" \\/>\\n<rect x=\\\"90.0mm\\\" y=\\\"90.0mm\\\"\\n      width=\\\"14.0mm\\\" height=\\\"14.0mm\\\"\\n      fill=\\\"#000000\\\" stroke=\\\"none\\\" \\/>\\n<rect x=\\\"105.0mm\\\" y=\\\"90.0mm\\\"\\n      width=\\\"14.0mm\\\" height=\\\"14.0mm\\\"\\n      fill=\\\"#000000\\\" stroke=\\\"none\\\" \\/>\\n<rect x=\\\"120.0mm\\\" y=\\\"90.0mm\\\"\\n      width=\\\"14.0mm\\\" height=\\\"14.0mm\\\"\\n      fill=\\\"#000000\\\" stroke=\\\"none\\\" \\/>\\n<rect x=\\\"135.0mm\\\" y=\\\"90.0mm\\\"\\n      width=\\\"14.0mm\\\" height=\\\"14.0mm\\\"\\n      fill=\\\"#000000\\\" stroke=\\\"none\\\" \\/>\\n<rect x=\\\"0.0mm\\\" y=\\\"105.0mm\\\"\\n      width=\\\"14.0mm\\\" height=\\\"14.0mm\\\"\\n      fill=\\\"#000000\\\" stroke=\\\"none\\\" \\/>\\n<rect x=\\\"15.0mm\\\" y=\\\"105.0mm\\\"\\n      width=\\\"14.0mm\\\" height=\\\"14.0mm\\\"\\n      fill=\\\"#000000\\\" stroke=\\\"none\\\" \\/>\\n<rect x=\\\"30.0mm\\\" y=\\\"105.0mm\\\"\\n      width=\\\"14.0mm\\\" height=\\\"14.0mm\\\"\\n      fill=\\\"#000000\\\" stroke=\\\"none\\\" \\/>\\n<rect x=\\\"45.0mm\\\" y=\\\"105.0mm\\\"\\n      width=\\\"14.0mm\\\" height=\\\"14.0mm\\\"\\n      fill=\\\"#000000\\\" stroke=\\\"none\\\" \\/>\\n<rect x=\\\"60.0mm\\\" y=\\\"105.0mm\\\"\\n      width=\\\"14.0mm\\\" height=\\\"14.0mm\\\"\\n      fill=\\\"#000000\\\" stroke=\\\"none\\\" \\/>\\n<rect x=\\\"75.0mm\\\" y=\\\"105.0mm\\\"\\n      width=\\\"14.0mm\\\" height=\\\"14.0mm\\\"\\n      fill=\\\"#000000\\\" stroke=\\\"none\\\" \\/>\\n<rect x=\\\"90.0mm\\\" y=\\\"105.0mm\\\"\\n      width=\\\"14.0mm\\\" height=\\\"14.0mm\\\"\\n      fill=\\\"#000000\\\" stroke=\\\"none\\\" \\/>\\n<rect x=\\\"105.0mm\\\" y=\\\"105.0mm\\\"\\n      width=\\\"14.0mm\\\" height=\\\"14.0mm\\\"\\n      fill=\\\"#000000\\\" stroke=\\\"none\\\" \\/>\\n<rect x=\\\"120.0mm\\\" y=\\\"105.0mm\\\"\\n      width=\\\"14.0mm\\\" height=\\\"14.0mm\\\"\\n      fill=\\\"#000000\\\" stroke=\\\"none\\\" \\/>\\n<rect x=\\\"135.0mm\\\" y=\\\"105.0mm\\\"\\n      width=\\\"14.0mm\\\" height=\\\"14.0mm\\\"\\n      fill=\\\"#000000\\\" stroke=\\\"none\\\" \\/>\\n<rect x=\\\"0.0mm\\\" y=\\\"120.0mm\\\"\\n      width=\\\"14.0mm\\\" height=\\\"14.0mm\\\"\\n      fill=\\\"#000000\\\" stroke=\\\"none\\\" \\/>\\n<rect x=\\\"15.0mm\\\" y=\\\"120.0mm\\\"\\n      width=\\\"14.0mm\\\" height=\\\"14.0mm\\\"\\n      fill=\\\"#000000\\\" stroke=\\\"none\\\" \\/>\\n<rect x=\\\"30.0mm\\\" y=\\\"120.0mm\\\"\\n      width=\\\"14.0mm\\\" height=\\\"14.0mm\\\"\\n      fill=\\\"#000000\\\" stroke=\\\"none\\\" \\/>\\n<rect x=\\\"45.0mm\\\" y=\\\"120.0mm\\\"\\n      width=\\\"14.0mm\\\" height=\\\"14.0mm\\\"\\n      fill=\\\"#000000\\\" stroke=\\\"none\\\" \\/>\\n<rect x=\\\"60.0mm\\\" y=\\\"120.0mm\\\"\\n      width=\\\"14.0mm\\\" height=\\\"14.0mm\\\"\\n      fill=\\\"#000000\\\" stroke=\\\"none\\\" \\/>\\n<rect x=\\\"75.0mm\\\" y=\\\"120.0mm\\\"\\n      width=\\\"14.0mm\\\" height=\\\"14.0mm\\\"\\n      fill=\\\"#000000\\\" stroke=\\\"none\\\" \\/>\\n<rect x=\\\"90.0mm\\\" y=\\\"120.0mm\\\"\\n      width=\\\"14.0mm\\\" height=\\\"14.0mm\\\"\\n      fill=\\\"#000000\\\" stroke=\\\"none\\\" \\/>\\n<rect x=\\\"105.0mm\\\" y=\\\"120.0mm\\\"\\n      width=\\\"14.0mm\\\" height=\\\"14.0mm\\\"\\n      fill=\\\"#000000\\\" stroke=\\\"none\\\" \\/>\\n<rect x=\\\"120.0mm\\\" y=\\\"120.0mm\\\"\\n      width=\\\"14.0mm\\\" height=\\\"14.0mm\\\"\\n      fill=\\\"#000000\\\" stroke=\\\"none\\\" \\/>\\n<rect x=\\\"135.0mm\\\" y=\\\"120.0mm\\\"\\n      width=\\\"14.0mm\\\" height=\\\"14.0mm\\\"\\n      fill=\\\"#000000\\\" stroke=\\\"none\\\" \\/>\\n<rect x=\\\"0.0mm\\\" y=\\\"135.0mm\\\"\\n      width=\\\"14.0mm\\\" height=\\\"14.0mm\\\"\\n      fill=\\\"#000000\\\" stroke=\\\"none\\\" \\/>\\n<rect x=\\\"15.0mm\\\" y=\\\"135.0mm\\\"\\n      width=\\\"14.0mm\\\" height=\\\"14.0mm\\\"\\n      fill=\\\"#000000\\\" stroke=\\\"none\\\" \\/>\\n<rect x=\\\"30.0mm\\\" y=\\\"135.0mm\\\"\\n      width=\\\"14.0mm\\\" height=\\\"14.0mm\\\"\\n      fill=\\\"#000000\\\" stroke=\\\"none\\\" \\/>\\n<rect x=\\\"45.0mm\\\" y=\\\"135.0mm\\\"\\n      width=\\\"14.0mm\\\" height=\\\"14.0mm\\\"\\n      fill=\\\"#000000\\\" stroke=\\\"none\\\" \\/>\\n<rect x=\\\"60.0mm\\\" y=\\\"135.0mm\\\"\\n      width=\\\"14.0mm\\\" height=\\\"14.0mm\\\"\\n      fill=\\\"#000000\\\" stroke=\\\"none\\\" \\/>\\n<rect x=\\\"75.0mm\\\" y=\\\"135.0mm\\\"\\n      width=\\\"14.0mm\\\" height=\\\"14.0mm\\\"\\n      fill=\\\"#000000\\\" stroke=\\\"none\\\" \\/>\\n<rect x=\\\"90.0mm\\\" y=\\\"135.0mm\\\"\\n      width=\\\"14.0mm\\\" height=\\\"14.0mm\\\"\\n      fill=\\\"#000000\\\" stroke=\\\"none\\\" \\/>\\n<rect x=\\\"105.0mm\\\" y=\\\"135.0mm\\\"\\n      width=\\\"14.0mm\\\" height=\\\"14.0mm\\\"\\n      fill=\\\"#000000\\\" stroke=\\\"none\\\" \\/>\\n<rect x=\\\"120.0mm\\\" y=\\\"135.0mm\\\"\\n      width=\\\"14.0mm\\\" height=\\\"14.0mm\\\"\\n      fill=\\\"#000000\\\" stroke=\\\"none\\\" \\/>\\n<rect x=\\\"135.0mm\\\" y=\\\"135.0mm\\\"\\n      width=\\\"14.0mm\\\" height=\\\"14.0mm\\\"\\n      fill=\\\"#000000\\\" stroke=\\\"none\\\" \\/>\\n<\\/svg>\"},\"nodeType\":\"DOM\",\"type\":\"node\",\"instanceArgs\":{\"namespace\":\"html\",\"tag\":\"div\"},\"children\":[]}]}}}},\"children\":[{\"props\":{},\"nodeType\":\"ObservableNode\",\"type\":\"node\",\"instanceArgs\":{\"id\":\"ob_110\",\"name\":\"obs-node\"},\"children\":[]}]}]},\n",
       "            window,\n",
       "        );\n",
       "    } else {\n",
       "        document\n",
       "            .querySelector('[data-webio-mountpoint=\"11249678909403747182\"]')\n",
       "            .innerHTML = '<strong>WebIO not detected.</strong>';\n",
       "    }\n",
       "    </script>\n",
       "</div>\n"
      ],
      "text/plain": [
       "Node{WebIO.DOM}(WebIO.DOM(:html, :div), Any[Node{DOM}(DOM(:html, :div), Any[Scope(Node{DOM}(DOM(:html, :div), Any[Node{DOM}(DOM(:html, :div), Any[Node{DOM}(DOM(:html, :label), Any[\"i\"], Dict{Symbol,Any}(:className=>\"interact \",:style=>Dict{Any,Any}(:padding=>\"5px 10px 0px 10px\")))], Dict{Symbol,Any}(:className=>\"interact-flex-row-left\")), Node{DOM}(DOM(:html, :div), Any[Node{DOM}(DOM(:html, :input), Any[], Dict{Symbol,Any}(:max=>8,:min=>1,:attributes=>Dict{Any,Any}(:type=>\"range\",Symbol(\"data-bind\")=>\"numericValue: index, valueUpdate: 'input', event: {change: function (){this.changes(this.changes()+1)}}\",\"orient\"=>\"horizontal\"),:step=>1,:className=>\"slider slider is-fullwidth\",:style=>Dict{Any,Any}()))], Dict{Symbol,Any}(:className=>\"interact-flex-row-center\")), Node{DOM}(DOM(:html, :div), Any[Node{DOM}(DOM(:html, :p), Any[], Dict{Symbol,Any}(:attributes=>Dict(\"data-bind\"=>\"text: formatted_val\")))], Dict{Symbol,Any}(:className=>\"interact-flex-row-right\"))], Dict{Symbol,Any}(:className=>\"interact-flex-row interact-widget\")), Dict{String,Tuple{Observables.AbstractObservable,Union{Nothing, Bool}}}(\"changes\"=>(Observable{Int64} with 1 listeners. Value:\n",
       "0, nothing),\"index\"=>(Observable{Int64} with 2 listeners. Value:\n",
       "4, nothing)), Set(String[]), nothing, Asset[Asset(\"js\", \"knockout\", \"C:\\\\Users\\\\carsten\\\\.julia\\\\packages\\\\Knockout\\\\1sDlc\\\\src\\\\..\\\\assets\\\\knockout.js\"), Asset(\"js\", \"knockout_punches\", \"C:\\\\Users\\\\carsten\\\\.julia\\\\packages\\\\Knockout\\\\1sDlc\\\\src\\\\..\\\\assets\\\\knockout_punches.js\"), Asset(\"js\", nothing, \"C:\\\\Users\\\\carsten\\\\.julia\\\\packages\\\\InteractBase\\\\l8cEC\\\\src\\\\..\\\\assets\\\\all.js\"), Asset(\"css\", nothing, \"C:\\\\Users\\\\carsten\\\\.julia\\\\packages\\\\InteractBase\\\\l8cEC\\\\src\\\\..\\\\assets\\\\style.css\"), Asset(\"css\", nothing, \"C:\\\\Users\\\\carsten\\\\.julia\\\\packages\\\\Interact\\\\0klKX\\\\src\\\\..\\\\assets\\\\bulma_confined.min.css\")], Dict{Any,Any}(\"changes\"=>Any[JSString(\"(function (val){return (val!=this.model[\\\"changes\\\"]()) ? (this.valueFromJulia[\\\"changes\\\"]=true, this.model[\\\"changes\\\"](val)) : undefined})\")],\"index\"=>Any[JSString(\"(function (val){return (val!=this.model[\\\"index\\\"]()) ? (this.valueFromJulia[\\\"index\\\"]=true, this.model[\\\"index\\\"](val)) : undefined})\")]), ConnectionPool(Channel{Any}(sz_max:9223372036854775807,sz_curr:0), Set(AbstractConnection[]), Channel{AbstractConnection}(sz_max:32,sz_curr:0)), WebIO.JSString[JSString(\"function () {\\n    var handler = (function (ko, koPunches) {\\n    ko.punches.enableAll();\\n    ko.bindingHandlers.numericValue = {\\n        init: function(element, valueAccessor, allBindings, data, context) {\\n            var stringified = ko.observable(ko.unwrap(valueAccessor()));\\n            stringified.subscribe(function(value) {\\n                var val = parseFloat(value);\\n                if (!isNaN(val)) {\\n                    valueAccessor()(val);\\n                }\\n            });\\n            valueAccessor().subscribe(function(value) {\\n                var str = JSON.stringify(value);\\n                if ((str == \\\"0\\\") && ([\\\"-0\\\", \\\"-0.\\\"].indexOf(stringified()) >= 0))\\n                     return;\\n                 if ([\\\"null\\\", \\\"\\\"].indexOf(str) >= 0)\\n                     return;\\n                stringified(str);\\n            });\\n            ko.applyBindingsToNode(\\n                element,\\n                {\\n                    value: stringified,\\n                    valueUpdate: allBindings.get('valueUpdate'),\\n                },\\n                context,\\n            );\\n        }\\n    };\\n    var json_data = {\\\"formatted_vals\\\":[\\\"1\\\",\\\"2\\\",\\\"3\\\",\\\"4\\\",\\\"5\\\",\\\"6\\\",\\\"7\\\",\\\"8\\\"],\\\"changes\\\":WebIO.getval({\\\"name\\\":\\\"changes\\\",\\\"scope\\\":\\\"12593632412734895716\\\",\\\"id\\\":\\\"ob_104\\\",\\\"type\\\":\\\"observable\\\"}),\\\"index\\\":WebIO.getval({\\\"name\\\":\\\"index\\\",\\\"scope\\\":\\\"12593632412734895716\\\",\\\"id\\\":\\\"ob_103\\\",\\\"type\\\":\\\"observable\\\"})};\\n    var self = this;\\n    function AppViewModel() {\\n        for (var key in json_data) {\\n            var el = json_data[key];\\n            this[key] = Array.isArray(el) ? ko.observableArray(el) : ko.observable(el);\\n        }\\n        \\n        [this[\\\"formatted_val\\\"]=ko.computed(    function(){\\n        return this.formatted_vals()[parseInt(this.index())-(1)];\\n    }\\n,this)]\\n        [this[\\\"changes\\\"].subscribe((function (val){!(this.valueFromJulia[\\\"changes\\\"]) ? (WebIO.setval({\\\"name\\\":\\\"changes\\\",\\\"scope\\\":\\\"12593632412734895716\\\",\\\"id\\\":\\\"ob_104\\\",\\\"type\\\":\\\"observable\\\"},val)) : undefined; return this.valueFromJulia[\\\"changes\\\"]=false}),self),this[\\\"index\\\"].subscribe((function (val){!(this.valueFromJulia[\\\"index\\\"]) ? (WebIO.setval({\\\"name\\\":\\\"index\\\",\\\"scope\\\":\\\"12593632412734895716\\\",\\\"id\\\":\\\"ob_103\\\",\\\"type\\\":\\\"observable\\\"},val)) : undefined; return this.valueFromJulia[\\\"index\\\"]=false}),self)]\\n        \\n    }\\n    self.model = new AppViewModel();\\n    self.valueFromJulia = {};\\n    for (var key in json_data) {\\n        self.valueFromJulia[key] = false;\\n    }\\n    ko.applyBindings(self.model, self.dom);\\n}\\n);\\n    (WebIO.importBlock({\\\"data\\\":[{\\\"name\\\":\\\"knockout\\\",\\\"type\\\":\\\"js\\\",\\\"url\\\":\\\"/assetserver/06b5713f7394e9c781d3d3143d6fd532e7f814ce-knockout.js\\\"},{\\\"name\\\":\\\"knockout_punches\\\",\\\"type\\\":\\\"js\\\",\\\"url\\\":\\\"/assetserver/695de4db56dde9805b672fe778fb2fc752e9b632-knockout_punches.js\\\"}],\\\"type\\\":\\\"async_block\\\"})).then((imports) => handler.apply(this, imports));\\n}\\n\")])], Dict{Symbol,Any}(:className=>\"field interact-widget\")), Node{DOM}(DOM(:html, :div), Any[Scope(Node{DOM}(DOM(:html, :div), Any[Node{DOM}(DOM(:html, :div), Any[Node{DOM}(DOM(:html, :label), Any[\"j\"], Dict{Symbol,Any}(:className=>\"interact \",:style=>Dict{Any,Any}(:padding=>\"5px 10px 0px 10px\")))], Dict{Symbol,Any}(:className=>\"interact-flex-row-left\")), Node{DOM}(DOM(:html, :div), Any[Node{DOM}(DOM(:html, :input), Any[], Dict{Symbol,Any}(:max=>8,:min=>1,:attributes=>Dict{Any,Any}(:type=>\"range\",Symbol(\"data-bind\")=>\"numericValue: index, valueUpdate: 'input', event: {change: function (){this.changes(this.changes()+1)}}\",\"orient\"=>\"horizontal\"),:step=>1,:className=>\"slider slider is-fullwidth\",:style=>Dict{Any,Any}()))], Dict{Symbol,Any}(:className=>\"interact-flex-row-center\")), Node{DOM}(DOM(:html, :div), Any[Node{DOM}(DOM(:html, :p), Any[], Dict{Symbol,Any}(:attributes=>Dict(\"data-bind\"=>\"text: formatted_val\")))], Dict{Symbol,Any}(:className=>\"interact-flex-row-right\"))], Dict{Symbol,Any}(:className=>\"interact-flex-row interact-widget\")), Dict{String,Tuple{Observables.AbstractObservable,Union{Nothing, Bool}}}(\"changes\"=>(Observable{Int64} with 1 listeners. Value:\n",
       "0, nothing),\"index\"=>(Observable{Int64} with 2 listeners. Value:\n",
       "4, nothing)), Set(String[]), nothing, Asset[Asset(\"js\", \"knockout\", \"C:\\\\Users\\\\carsten\\\\.julia\\\\packages\\\\Knockout\\\\1sDlc\\\\src\\\\..\\\\assets\\\\knockout.js\"), Asset(\"js\", \"knockout_punches\", \"C:\\\\Users\\\\carsten\\\\.julia\\\\packages\\\\Knockout\\\\1sDlc\\\\src\\\\..\\\\assets\\\\knockout_punches.js\"), Asset(\"js\", nothing, \"C:\\\\Users\\\\carsten\\\\.julia\\\\packages\\\\InteractBase\\\\l8cEC\\\\src\\\\..\\\\assets\\\\all.js\"), Asset(\"css\", nothing, \"C:\\\\Users\\\\carsten\\\\.julia\\\\packages\\\\InteractBase\\\\l8cEC\\\\src\\\\..\\\\assets\\\\style.css\"), Asset(\"css\", nothing, \"C:\\\\Users\\\\carsten\\\\.julia\\\\packages\\\\Interact\\\\0klKX\\\\src\\\\..\\\\assets\\\\bulma_confined.min.css\")], Dict{Any,Any}(\"changes\"=>Any[JSString(\"(function (val){return (val!=this.model[\\\"changes\\\"]()) ? (this.valueFromJulia[\\\"changes\\\"]=true, this.model[\\\"changes\\\"](val)) : undefined})\")],\"index\"=>Any[JSString(\"(function (val){return (val!=this.model[\\\"index\\\"]()) ? (this.valueFromJulia[\\\"index\\\"]=true, this.model[\\\"index\\\"](val)) : undefined})\")]), ConnectionPool(Channel{Any}(sz_max:9223372036854775807,sz_curr:0), Set(AbstractConnection[]), Channel{AbstractConnection}(sz_max:32,sz_curr:0)), WebIO.JSString[JSString(\"function () {\\n    var handler = (function (ko, koPunches) {\\n    ko.punches.enableAll();\\n    ko.bindingHandlers.numericValue = {\\n        init: function(element, valueAccessor, allBindings, data, context) {\\n            var stringified = ko.observable(ko.unwrap(valueAccessor()));\\n            stringified.subscribe(function(value) {\\n                var val = parseFloat(value);\\n                if (!isNaN(val)) {\\n                    valueAccessor()(val);\\n                }\\n            });\\n            valueAccessor().subscribe(function(value) {\\n                var str = JSON.stringify(value);\\n                if ((str == \\\"0\\\") && ([\\\"-0\\\", \\\"-0.\\\"].indexOf(stringified()) >= 0))\\n                     return;\\n                 if ([\\\"null\\\", \\\"\\\"].indexOf(str) >= 0)\\n                     return;\\n                stringified(str);\\n            });\\n            ko.applyBindingsToNode(\\n                element,\\n                {\\n                    value: stringified,\\n                    valueUpdate: allBindings.get('valueUpdate'),\\n                },\\n                context,\\n            );\\n        }\\n    };\\n    var json_data = {\\\"formatted_vals\\\":[\\\"1\\\",\\\"2\\\",\\\"3\\\",\\\"4\\\",\\\"5\\\",\\\"6\\\",\\\"7\\\",\\\"8\\\"],\\\"changes\\\":WebIO.getval({\\\"name\\\":\\\"changes\\\",\\\"scope\\\":\\\"9298649931829046425\\\",\\\"id\\\":\\\"ob_106\\\",\\\"type\\\":\\\"observable\\\"}),\\\"index\\\":WebIO.getval({\\\"name\\\":\\\"index\\\",\\\"scope\\\":\\\"9298649931829046425\\\",\\\"id\\\":\\\"ob_105\\\",\\\"type\\\":\\\"observable\\\"})};\\n    var self = this;\\n    function AppViewModel() {\\n        for (var key in json_data) {\\n            var el = json_data[key];\\n            this[key] = Array.isArray(el) ? ko.observableArray(el) : ko.observable(el);\\n        }\\n        \\n        [this[\\\"formatted_val\\\"]=ko.computed(    function(){\\n        return this.formatted_vals()[parseInt(this.index())-(1)];\\n    }\\n,this)]\\n        [this[\\\"changes\\\"].subscribe((function (val){!(this.valueFromJulia[\\\"changes\\\"]) ? (WebIO.setval({\\\"name\\\":\\\"changes\\\",\\\"scope\\\":\\\"9298649931829046425\\\",\\\"id\\\":\\\"ob_106\\\",\\\"type\\\":\\\"observable\\\"},val)) : undefined; return this.valueFromJulia[\\\"changes\\\"]=false}),self),this[\\\"index\\\"].subscribe((function (val){!(this.valueFromJulia[\\\"index\\\"]) ? (WebIO.setval({\\\"name\\\":\\\"index\\\",\\\"scope\\\":\\\"9298649931829046425\\\",\\\"id\\\":\\\"ob_105\\\",\\\"type\\\":\\\"observable\\\"},val)) : undefined; return this.valueFromJulia[\\\"index\\\"]=false}),self)]\\n        \\n    }\\n    self.model = new AppViewModel();\\n    self.valueFromJulia = {};\\n    for (var key in json_data) {\\n        self.valueFromJulia[key] = false;\\n    }\\n    ko.applyBindings(self.model, self.dom);\\n}\\n);\\n    (WebIO.importBlock({\\\"data\\\":[{\\\"name\\\":\\\"knockout\\\",\\\"type\\\":\\\"js\\\",\\\"url\\\":\\\"/assetserver/06b5713f7394e9c781d3d3143d6fd532e7f814ce-knockout.js\\\"},{\\\"name\\\":\\\"knockout_punches\\\",\\\"type\\\":\\\"js\\\",\\\"url\\\":\\\"/assetserver/695de4db56dde9805b672fe778fb2fc752e9b632-knockout_punches.js\\\"}],\\\"type\\\":\\\"async_block\\\"})).then((imports) => handler.apply(this, imports));\\n}\\n\")])], Dict{Symbol,Any}(:className=>\"field interact-widget\")), Observable{Any} with 0 listeners. Value:\n",
       "Node{DOM}(DOM(:html, :div), Any[RGB{FixedPointNumbers.Normed{UInt8,8}}[RGB{N0f8}(0.0,0.0,0.0) RGB{N0f8}(0.0,0.0,0.0) … RGB{N0f8}(0.0,0.0,0.0) RGB{N0f8}(0.0,0.0,0.0); RGB{N0f8}(0.0,0.0,0.0) RGB{N0f8}(0.0,0.0,0.0) … RGB{N0f8}(0.0,0.0,0.0) RGB{N0f8}(0.0,0.0,0.0); … ; RGB{N0f8}(0.0,0.0,0.0) RGB{N0f8}(0.0,0.0,0.0) … RGB{N0f8}(0.0,0.0,0.0) RGB{N0f8}(0.0,0.0,0.0); RGB{N0f8}(0.0,0.0,0.0) RGB{N0f8}(0.0,0.0,0.0) … RGB{N0f8}(0.0,0.0,0.0) RGB{N0f8}(0.0,0.0,0.0)]], Dict{Symbol,Any}(:className=>\"interact-flex-row interact-widget\"))], Dict{Symbol,Any}())"
      ]
     },
     "execution_count": 36,
     "metadata": {
      "application/vnd.webio.node+json": {
       "kernelId": null
      }
     },
     "output_type": "execute_result"
    }
   ],
   "source": [
    "A = fill(colors[1], 10, 10)\n",
    "n = size(A, 1)\n",
    "\n",
    "@manipulate for i in 1:n-2, j in 1:n-2\n",
    "    insert_block(A, i, j, colors[4])\n",
    "end"
   ]
  },
  {
   "cell_type": "markdown",
   "metadata": {},
   "source": [
    "# Generic Programming + Multiple Dispatch + JIT"
   ]
  },
  {
   "cell_type": "markdown",
   "metadata": {},
   "source": [
    "The possibility to write generic algorithms that compile to fast machine code in combination with multiple dispatch leads to an ([unreasonable](https://pretalx.com/juliacon2019/talk/BCYWZJ/)) amount of code reuse. This sharing of code comes in two forms:\n",
    "1. **Sharing types** among a wide variety of packages implementing different algorithms;\n",
    "2. **Sharing generic algorithms** that work for different package-defined types implementing common abstractions."
   ]
  },
  {
   "cell_type": "markdown",
   "metadata": {},
   "source": [
    " <img src=\"revdeps.png\" alt=\"drawing\" width=\"800\"/>"
   ]
  },
  {
   "cell_type": "markdown",
   "metadata": {},
   "source": [
    "1. **Sharing types:** DataStructures.jl, OrderedCollections.jl, StaticArrays.jl, Colors.jl, Measurements.jl ..."
   ]
  },
  {
   "cell_type": "markdown",
   "metadata": {},
   "source": [
    "As of the time of this writing, **804 packages** depend on the data types provided in [DataStructures.jl](https://juliacollections.github.io/DataStructures.jl/latest/).\n",
    "\n",
    "**851 packages** reuse type implementations in [OrderedCollections.jl](https://github.com/JuliaCollections/OrderedCollections.jl).\n",
    "\n",
    "**That's about every third package!**"
   ]
  },
  {
   "cell_type": "markdown",
   "metadata": {},
   "source": [
    "2. **Sharing generic algorithms:** StatsBase.jl, SortingAlgorithms.jl, GenericLinearAlgebra.jl, ..."
   ]
  },
  {
   "cell_type": "markdown",
   "metadata": {},
   "source": [
    "# Emergent features"
   ]
  },
  {
   "cell_type": "markdown",
   "metadata": {},
   "source": [
    "`Measurement` type from [Measurements.jl]() and differential equation solver from [OrdinaryDiffEq.jl](https://github.com/JuliaDiffEq/OrdinaryDiffEq.jl) (i.e. [DifferentialEquations.jl](https://github.com/JuliaDiffEq/DifferentialEquations.jl))"
   ]
  },
  {
   "cell_type": "code",
   "execution_count": 53,
   "metadata": {},
   "outputs": [
    {
     "data": {
      "text/plain": [
       "retcode: Success\n",
       "Interpolation: specialized 4th order \"free\" interpolation\n",
       "t: 48-element Array{Measurement{Float64},1}:\n",
       "                  0.0 ± 0.0\n",
       " 0.005714051500552912 ± 0.0\n",
       " 0.012379809003308515 ± 0.0\n",
       "  0.02065099604288468 ± 0.0\n",
       " 0.030046684217787945 ± 0.0\n",
       " 0.040708377467122664 ± 0.0\n",
       "  0.05238329665492844 ± 0.0\n",
       "  0.06503200939958678 ± 0.0\n",
       "  0.07850115459441359 ± 0.0\n",
       "    0.092713509054723 ± 0.0\n",
       "  0.10756943532952833 ± 0.0\n",
       "  0.12300174818945352 ± 0.0\n",
       "   0.1389463310742414 ± 0.0\n",
       "                      ⋮    \n",
       "   0.6453928246528684 ± 0.0\n",
       "   0.6731041750060743 ± 0.0\n",
       "   0.7016023528193726 ± 0.0\n",
       "    0.730934863823967 ± 0.0\n",
       "   0.7611531446487517 ± 0.0\n",
       "   0.7923130154030994 ± 0.0\n",
       "   0.8244752017703953 ± 0.0\n",
       "   0.8577059382711589 ± 0.0\n",
       "    0.892077667098181 ± 0.0\n",
       "   0.9276698500422697 ± 0.0\n",
       "   0.9645699152686523 ± 0.0\n",
       "                  1.0 ± 0.0\n",
       "u: 48-element Array{Measurement{Float64},1}:\n",
       "                   1.0 ± 0.1                  \n",
       "    0.9677886860242481 ± 0.09740879200531775  \n",
       "    0.9315212229339316 ± 0.09596494694134003  \n",
       "    0.8884026471134445 ± 0.09611947846122659  \n",
       "     0.841838152991508 ± 0.09821481852941262  \n",
       "    0.7919484300338517 ± 0.10212354791086732  \n",
       "    0.7407024473811817 ± 0.10727672859778299  \n",
       "    0.6889177342661605 ± 0.11302587035787517  \n",
       "    0.6377482820104855 ± 0.11871324974958913  \n",
       "    0.5878706096983871 ± 0.12384855714412475  \n",
       "    0.5398991779469291 ± 0.12808786112193876  \n",
       "   0.49420739744379666 ± 0.13123762825944993  \n",
       "    0.4510565871694354 ± 0.13321399551601407  \n",
       "                       ⋮                      \n",
       "  0.024770524099775617 ± 0.03206924437644402  \n",
       "  0.021133688228871503 ± 0.0285287324960125   \n",
       "  0.017949707303757095 ± 0.02525099197922055  \n",
       "  0.015172711564481533 ± 0.02223236157919592  \n",
       "  0.012760414681181543 ± 0.01946712540452559  \n",
       "  0.010673902243680458 ± 0.01694778898512016  \n",
       "  0.008877432615729536 ± 0.014665339366577098 \n",
       "  0.007338249157901214 ± 0.012609490336529834 \n",
       "  0.006026402783640305 ± 0.01076891364530542  \n",
       "  0.004914583839364784 ± 0.009131456877636451 \n",
       "  0.003977962342781864 ± 0.0076843484255151775\n",
       " 0.0032470774174258228 ± 0.0065022670365380755"
      ]
     },
     "execution_count": 53,
     "metadata": {},
     "output_type": "execute_result"
    }
   ],
   "source": [
    "using OrdinaryDiffEq, Measurements, PyPlot\n",
    "\n",
    "#Half-life of Carbon-14 is 5730 years.\n",
    "c = 5.730 ± 2\n",
    "\n",
    "#Setup\n",
    "u0 = 1.0 ± 0.1\n",
    "tspan = (0.0 ± 0.0, 1.0 ± 0.0)\n",
    "\n",
    "#Define the problem\n",
    "radioactivedecay(u,p,t) = -c*u\n",
    "\n",
    "#Pass to solver\n",
    "prob = ODEProblem(radioactivedecay,u0,tspan)\n",
    "sol = solve(prob, Tsit5(), reltol=1e-8, abstol=1e-8)"
   ]
  },
  {
   "cell_type": "code",
   "execution_count": 57,
   "metadata": {},
   "outputs": [
    {
     "data": {
      "image/png": "[encoded data removed]",
      "text/plain": [
       "Figure(PyObject <Figure size 640x480 with 1 Axes>)"
      ]
     },
     "metadata": {},
     "output_type": "display_data"
    }
   ],
   "source": [
    "# analytic solution\n",
    "u = u0 .* exp.(-c .* sol.t);\n",
    "\n",
    "# plot solution\n",
    "ts = getfield.(sol.t, :val)\n",
    "solvals = getfield.(sol, :val)\n",
    "solerrs = getfield.(sol, :err);\n",
    "\n",
    "errorbar(ts, solvals, yerr=solerrs)\n",
    "plot(ts, getfield.(u, :val), color=\"red\", lw=2)\n",
    "ylabel(\"u(t)\")\n",
    "xlabel(\"t\");"
   ]
  },
  {
   "cell_type": "markdown",
   "metadata": {},
   "source": [
    "Note that, in some sense, **Julia implemented that feature by itself**.\n",
    "\n",
    "The authors of Measurements.jl and DifferentialEquations.jl never had any collabration on this.\n",
    "\n",
    "It **just works**."
   ]
  },
  {
   "cell_type": "markdown",
   "metadata": {},
   "source": [
    "# Core messages of this Notebook\n",
    "\n",
    "* It is simple to write **type-generic code** in Julia and you should do it.\n",
    "* Generally, **generic code is just as fast as specific code**.\n",
    "* Generic Programming + Multiple Dispatch + JIT = **lots of code sharing and emergent features**"
   ]
  }
 ],
 "metadata": {
  "@webio": {
   "lastCommId": "86de8e97521a4a06a40bb25dc12b6a36",
   "lastKernelId": "937a6efa-95f5-4385-9034-dc33aae6aeee"
  },
  "kernelspec": {
   "display_name": "Julia 1.1.0",
   "language": "julia",
   "name": "julia-1.1"
  },
  "language_info": {
   "file_extension": ".jl",
   "mimetype": "application/julia",
   "name": "julia",
   "version": "1.1.0"
  }
 },
 "nbformat": 4,
 "nbformat_minor": 4
}
