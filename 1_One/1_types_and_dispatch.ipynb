{
 "cells": [
  {
   "cell_type": "markdown",
   "metadata": {},
   "source": [
    "# Types and Dispatch in Julia"
   ]
  },
  {
   "cell_type": "markdown",
   "metadata": {},
   "source": [
    "Julia is built around types.\n",
    "\n",
    "Software architectures in Julia are built around good use of the type system."
   ]
  },
  {
   "cell_type": "markdown",
   "metadata": {},
   "source": [
    "# Abstract vs concrete types"
   ]
  },
  {
   "cell_type": "markdown",
   "metadata": {},
   "source": [
    "*Concrete types* are the types of objects. They specify the data structure of an object.\n",
    "\n",
    "*Abstract types* cannot be instantiated. They define sets of related concrete types (their descendants) by their behavior."
   ]
  },
  {
   "cell_type": "code",
   "execution_count": 1,
   "metadata": {},
   "outputs": [
    {
     "data": {
      "text/plain": [
       "Int64"
      ]
     },
     "execution_count": 1,
     "metadata": {},
     "output_type": "execute_result"
    }
   ],
   "source": [
    "typeof(3)"
   ]
  },
  {
   "cell_type": "code",
   "execution_count": 2,
   "metadata": {},
   "outputs": [
    {
     "data": {
      "text/plain": [
       "Float64"
      ]
     },
     "execution_count": 2,
     "metadata": {},
     "output_type": "execute_result"
    }
   ],
   "source": [
    "typeof(3.0)"
   ]
  },
  {
   "cell_type": "code",
   "execution_count": 3,
   "metadata": {},
   "outputs": [
    {
     "data": {
      "text/plain": [
       "true"
      ]
     },
     "execution_count": 3,
     "metadata": {},
     "output_type": "execute_result"
    }
   ],
   "source": [
    "isconcretetype(Float64)"
   ]
  },
  {
   "cell_type": "code",
   "execution_count": 4,
   "metadata": {},
   "outputs": [
    {
     "data": {
      "text/plain": [
       "true"
      ]
     },
     "execution_count": 4,
     "metadata": {},
     "output_type": "execute_result"
    }
   ],
   "source": [
    "isabstracttype(Number)"
   ]
  },
  {
   "cell_type": "code",
   "execution_count": 5,
   "metadata": {},
   "outputs": [
    {
     "data": {
      "text/plain": [
       "true"
      ]
     },
     "execution_count": 5,
     "metadata": {},
     "output_type": "execute_result"
    }
   ],
   "source": [
    "isabstracttype(Real)"
   ]
  },
  {
   "cell_type": "markdown",
   "metadata": {},
   "source": [
    "### Duck typing\n",
    "\n",
    "A `Number` is some type that can do things like `+`,`-`,`*`, and `/`. In this category we have things like `Float64` and `Int32`.\n",
    "\n",
    "An `AbstractArray` is a type that can be indexed like `A[i]`. An `AbstractArray` may be mutable, meaning it can be set: `A[i]=v`."
   ]
  },
  {
   "cell_type": "markdown",
   "metadata": {},
   "source": [
    "### Inspecting the type tree"
   ]
  },
  {
   "cell_type": "code",
   "execution_count": 18,
   "metadata": {},
   "outputs": [
    {
     "data": {
      "text/plain": [
       "AbstractFloat"
      ]
     },
     "execution_count": 18,
     "metadata": {},
     "output_type": "execute_result"
    }
   ],
   "source": [
    "supertype(Float64)"
   ]
  },
  {
   "cell_type": "code",
   "execution_count": 19,
   "metadata": {},
   "outputs": [
    {
     "data": {
      "text/plain": [
       "Real"
      ]
     },
     "execution_count": 19,
     "metadata": {},
     "output_type": "execute_result"
    }
   ],
   "source": [
    "supertype(AbstractFloat)"
   ]
  },
  {
   "cell_type": "code",
   "execution_count": 20,
   "metadata": {},
   "outputs": [
    {
     "data": {
      "text/plain": [
       "4-element Array{Any,1}:\n",
       " BigFloat\n",
       " Float16 \n",
       " Float32 \n",
       " Float64 "
      ]
     },
     "execution_count": 20,
     "metadata": {},
     "output_type": "execute_result"
    }
   ],
   "source": [
    "subtypes(AbstractFloat)"
   ]
  },
  {
   "cell_type": "code",
   "execution_count": 4,
   "metadata": {},
   "outputs": [
    {
     "data": {
      "text/plain": [
       "Number"
      ]
     },
     "execution_count": 4,
     "metadata": {},
     "output_type": "execute_result"
    }
   ],
   "source": [
    "supertype(Real)"
   ]
  },
  {
   "cell_type": "code",
   "execution_count": 5,
   "metadata": {},
   "outputs": [
    {
     "data": {
      "text/plain": [
       "Any"
      ]
     },
     "execution_count": 5,
     "metadata": {},
     "output_type": "execute_result"
    }
   ],
   "source": [
    "supertype(Number)"
   ]
  },
  {
   "cell_type": "markdown",
   "metadata": {},
   "source": [
    "Everything is a subtype of Any"
   ]
  },
  {
   "cell_type": "code",
   "execution_count": 6,
   "metadata": {},
   "outputs": [
    {
     "data": {
      "text/plain": [
       "true"
      ]
     },
     "execution_count": 6,
     "metadata": {},
     "output_type": "execute_result"
    }
   ],
   "source": [
    "Number <: Any"
   ]
  },
  {
   "cell_type": "code",
   "execution_count": 7,
   "metadata": {},
   "outputs": [
    {
     "data": {
      "text/plain": [
       "true"
      ]
     },
     "execution_count": 7,
     "metadata": {},
     "output_type": "execute_result"
    }
   ],
   "source": [
    "Float64 <: Any"
   ]
  },
  {
   "cell_type": "code",
   "execution_count": 8,
   "metadata": {},
   "outputs": [
    {
     "data": {
      "text/plain": [
       "true"
      ]
     },
     "execution_count": 8,
     "metadata": {},
     "output_type": "execute_result"
    }
   ],
   "source": [
    "Int32 <: Any"
   ]
  },
  {
   "cell_type": "code",
   "execution_count": 9,
   "metadata": {},
   "outputs": [
    {
     "data": {
      "text/plain": [
       "false"
      ]
     },
     "execution_count": 9,
     "metadata": {},
     "output_type": "execute_result"
    }
   ],
   "source": [
    "Int32 <: String"
   ]
  },
  {
   "cell_type": "markdown",
   "metadata": {},
   "source": [
    "There is also `isa` for objects:"
   ]
  },
  {
   "cell_type": "code",
   "execution_count": 10,
   "metadata": {},
   "outputs": [
    {
     "data": {
      "text/plain": [
       "true"
      ]
     },
     "execution_count": 10,
     "metadata": {},
     "output_type": "execute_result"
    }
   ],
   "source": [
    "3.0 isa Float64"
   ]
  },
  {
   "cell_type": "code",
   "execution_count": 11,
   "metadata": {},
   "outputs": [
    {
     "data": {
      "text/plain": [
       "false"
      ]
     },
     "execution_count": 11,
     "metadata": {},
     "output_type": "execute_result"
    }
   ],
   "source": [
    "3 isa Float64"
   ]
  },
  {
   "cell_type": "markdown",
   "metadata": {},
   "source": [
    "We define a function that, given a concrete type `T`, prints the single branch of the type tree that leads from the top node `Any` to the leave `T`."
   ]
  },
  {
   "cell_type": "code",
   "execution_count": 22,
   "metadata": {},
   "outputs": [
    {
     "data": {
      "text/plain": [
       "show_supertypes (generic function with 1 method)"
      ]
     },
     "execution_count": 22,
     "metadata": {},
     "output_type": "execute_result"
    }
   ],
   "source": [
    "function show_supertypes(T) \n",
    " print(T)\n",
    " while T != Any \n",
    "     T = supertype(T) \n",
    "     print(\" <: \", T) \n",
    " end \n",
    "end"
   ]
  },
  {
   "cell_type": "code",
   "execution_count": 23,
   "metadata": {},
   "outputs": [
    {
     "name": "stdout",
     "output_type": "stream",
     "text": [
      "Float64 <: AbstractFloat <: Real <: Number <: Any"
     ]
    }
   ],
   "source": [
    "show_supertypes(Float64)"
   ]
  },
  {
   "cell_type": "code",
   "execution_count": 24,
   "metadata": {},
   "outputs": [
    {
     "name": "stdout",
     "output_type": "stream",
     "text": [
      "String <: AbstractString <: Any"
     ]
    }
   ],
   "source": [
    "show_supertypes(String)"
   ]
  },
  {
   "cell_type": "markdown",
   "metadata": {},
   "source": [
    "Let's extract a bunch of branches"
   ]
  },
  {
   "cell_type": "code",
   "execution_count": 26,
   "metadata": {},
   "outputs": [
    {
     "data": {
      "text/plain": [
       "show_subtypetree (generic function with 3 methods)"
      ]
     },
     "execution_count": 26,
     "metadata": {},
     "output_type": "execute_result"
    }
   ],
   "source": [
    "function show_subtypetree(T, level=1, indent=4)\n",
    "   level == 1 && println(T)\n",
    "   for s in subtypes(T)\n",
    "     println(join(fill(\" \", level * indent)) * string(s))\n",
    "     show_subtypetree(s, level+1, indent)\n",
    "   end\n",
    "end"
   ]
  },
  {
   "cell_type": "code",
   "execution_count": 27,
   "metadata": {},
   "outputs": [
    {
     "name": "stdout",
     "output_type": "stream",
     "text": [
      "Number\n",
      "    Complex\n",
      "    Real\n",
      "        AbstractFloat\n",
      "            BigFloat\n",
      "            Float16\n",
      "            Float32\n",
      "            Float64\n",
      "        AbstractIrrational\n",
      "            Irrational\n",
      "        Integer\n",
      "            Bool\n",
      "            Signed\n",
      "                BigInt\n",
      "                Int128\n",
      "                Int16\n",
      "                Int32\n",
      "                Int64\n",
      "                Int8\n",
      "            Unsigned\n",
      "                UInt128\n",
      "                UInt16\n",
      "                UInt32\n",
      "                UInt64\n",
      "                UInt8\n",
      "        Rational\n"
     ]
    }
   ],
   "source": [
    "show_subtypetree(Number)"
   ]
  },
  {
   "cell_type": "markdown",
   "metadata": {},
   "source": [
    "Note that concrete types are the leaves of the type tree.\n",
    "\n",
    "Abstract types are nodes in the type graph."
   ]
  },
  {
   "cell_type": "markdown",
   "metadata": {},
   "source": [
    "# Functions, Methods, and Dispatch"
   ]
  },
  {
   "cell_type": "markdown",
   "metadata": {},
   "source": [
    "Let's define a *function* that calculates the absolute value of a number (like Julias `abs` already does).\n",
    "\n",
    "How would we practically calculate the absolute values of the numbers $-4.32$ and $1.0 + 1.0i$?\n",
    "\n",
    "Presumably:\n",
    "* Real number: \"Drop the sign.\" => `myabs(-4.32) = 4.32`\n",
    "* Complex number: \"Square root of z times the complex conjugate of z.\" => `myabs(1.0 + 1.0im) = sqrt(2) ≈ 1.414`\n",
    "\n",
    "We see that the *methods* that we use depend on the type of the number.\n",
    "\n",
    "While the single **function** represents the *what* (\"calculate the absolute value\"), there might be different **methods** describing the *how*."
   ]
  },
  {
   "cell_type": "markdown",
   "metadata": {},
   "source": [
    "We can use the `::` operator to annotate function arguments with types and define different methods."
   ]
  },
  {
   "cell_type": "code",
   "execution_count": 1,
   "metadata": {},
   "outputs": [
    {
     "data": {
      "text/plain": [
       "myabs (generic function with 1 method)"
      ]
     },
     "execution_count": 1,
     "metadata": {},
     "output_type": "execute_result"
    }
   ],
   "source": [
    "myabs(x::Float64) = sign(x) * x"
   ]
  },
  {
   "cell_type": "code",
   "execution_count": 2,
   "metadata": {},
   "outputs": [
    {
     "data": {
      "text/plain": [
       "4.32"
      ]
     },
     "execution_count": 2,
     "metadata": {},
     "output_type": "execute_result"
    }
   ],
   "source": [
    "myabs(-4.32)"
   ]
  },
  {
   "cell_type": "code",
   "execution_count": 3,
   "metadata": {},
   "outputs": [
    {
     "ename": "MethodError",
     "evalue": "MethodError: no method matching myabs(::Complex{Float64})\nClosest candidates are:\n  myabs(!Matched::Float64) at In[1]:1",
     "output_type": "error",
     "traceback": [
      "MethodError: no method matching myabs(::Complex{Float64})\nClosest candidates are:\n  myabs(!Matched::Float64) at In[1]:1",
      "",
      "Stacktrace:",
      " [1] top-level scope at In[3]:1"
     ]
    }
   ],
   "source": [
    "myabs(1.0 + 1.0im)"
   ]
  },
  {
   "cell_type": "code",
   "execution_count": 4,
   "metadata": {},
   "outputs": [
    {
     "data": {
      "text/plain": [
       "myabs (generic function with 2 methods)"
      ]
     },
     "execution_count": 4,
     "metadata": {},
     "output_type": "execute_result"
    }
   ],
   "source": [
    "myabs(z::ComplexF64) = sqrt(real(z * conj(z)))"
   ]
  },
  {
   "cell_type": "code",
   "execution_count": 5,
   "metadata": {},
   "outputs": [
    {
     "data": {
      "text/plain": [
       "1.4142135623730951"
      ]
     },
     "execution_count": 5,
     "metadata": {},
     "output_type": "execute_result"
    }
   ],
   "source": [
    "myabs(1.0 + 1.0im)"
   ]
  },
  {
   "cell_type": "code",
   "execution_count": 6,
   "metadata": {},
   "outputs": [
    {
     "data": {
      "text/html": [
       "2 methods for generic function <b>myabs</b>:<ul><li> myabs(z::<b>Complex{Float64}</b>) in Main at In[4]:1</li> <li> myabs(x::<b>Float64</b>) in Main at In[1]:1</li> </ul>"
      ],
      "text/plain": [
       "# 2 methods for generic function \"myabs\":\n",
       "[1] myabs(z::Complex{Float64}) in Main at In[4]:1\n",
       "[2] myabs(x::Float64) in Main at In[1]:1"
      ]
     },
     "execution_count": 6,
     "metadata": {},
     "output_type": "execute_result"
    }
   ],
   "source": [
    "methods(myabs)"
   ]
  },
  {
   "cell_type": "markdown",
   "metadata": {},
   "source": [
    "One can check which particular method is being used through the `@which` macro."
   ]
  },
  {
   "cell_type": "code",
   "execution_count": 7,
   "metadata": {},
   "outputs": [
    {
     "data": {
      "text/html": [
       "myabs(x::<b>Float64</b>) in Main at In[1]:1"
      ],
      "text/plain": [
       "myabs(x::Float64) in Main at In[1]:1"
      ]
     },
     "execution_count": 7,
     "metadata": {},
     "output_type": "execute_result"
    }
   ],
   "source": [
    "@which myabs(-4.32)"
   ]
  },
  {
   "cell_type": "code",
   "execution_count": 8,
   "metadata": {},
   "outputs": [
    {
     "data": {
      "text/html": [
       "myabs(z::<b>Complex{Float64}</b>) in Main at In[4]:1"
      ],
      "text/plain": [
       "myabs(z::Complex{Float64}) in Main at In[4]:1"
      ]
     },
     "execution_count": 8,
     "metadata": {},
     "output_type": "execute_result"
    }
   ],
   "source": [
    "@which myabs(1.0 + 1.0im)"
   ]
  },
  {
   "cell_type": "markdown",
   "metadata": {},
   "source": [
    "Note that we should better loosen our type restrictions:"
   ]
  },
  {
   "cell_type": "code",
   "execution_count": 9,
   "metadata": {},
   "outputs": [
    {
     "ename": "MethodError",
     "evalue": "MethodError: no method matching myabs(::Int64)\nClosest candidates are:\n  myabs(!Matched::Complex{Float64}) at In[4]:1\n  myabs(!Matched::Float64) at In[1]:1",
     "output_type": "error",
     "traceback": [
      "MethodError: no method matching myabs(::Int64)\nClosest candidates are:\n  myabs(!Matched::Complex{Float64}) at In[4]:1\n  myabs(!Matched::Float64) at In[1]:1",
      "",
      "Stacktrace:",
      " [1] top-level scope at In[9]:1"
     ]
    }
   ],
   "source": [
    "myabs(-3)"
   ]
  },
  {
   "cell_type": "code",
   "execution_count": 10,
   "metadata": {},
   "outputs": [
    {
     "ename": "MethodError",
     "evalue": "MethodError: no method matching myabs(::Complex{Int64})\nClosest candidates are:\n  myabs(!Matched::Complex{Float64}) at In[4]:1\n  myabs(!Matched::Float64) at In[1]:1",
     "output_type": "error",
     "traceback": [
      "MethodError: no method matching myabs(::Complex{Int64})\nClosest candidates are:\n  myabs(!Matched::Complex{Float64}) at In[4]:1\n  myabs(!Matched::Float64) at In[1]:1",
      "",
      "Stacktrace:",
      " [1] top-level scope at In[10]:1"
     ]
    }
   ],
   "source": [
    "myabs(1 + 1im)"
   ]
  },
  {
   "cell_type": "code",
   "execution_count": 11,
   "metadata": {},
   "outputs": [
    {
     "data": {
      "text/plain": [
       "myabs (generic function with 4 methods)"
      ]
     },
     "execution_count": 11,
     "metadata": {},
     "output_type": "execute_result"
    }
   ],
   "source": [
    "myabs(x::Real) = sign(x) * x\n",
    "myabs(z::Complex) = sqrt(real(z * conj(z)))"
   ]
  },
  {
   "cell_type": "code",
   "execution_count": 12,
   "metadata": {},
   "outputs": [
    {
     "data": {
      "text/plain": [
       "3"
      ]
     },
     "execution_count": 12,
     "metadata": {},
     "output_type": "execute_result"
    }
   ],
   "source": [
    "myabs(-3)"
   ]
  },
  {
   "cell_type": "markdown",
   "metadata": {},
   "source": [
    "# Multiple Dispatch"
   ]
  },
  {
   "cell_type": "markdown",
   "metadata": {},
   "source": [
    "Julia's dispatch mechanism always chooses the *most specific method* for the given input types."
   ]
  },
  {
   "cell_type": "code",
   "execution_count": 13,
   "metadata": {},
   "outputs": [
    {
     "data": {
      "text/plain": [
       "f (generic function with 5 methods)"
      ]
     },
     "execution_count": 13,
     "metadata": {},
     "output_type": "execute_result"
    }
   ],
   "source": [
    "f(a, b::Any)              = \"fallback\"\n",
    "f(a::Number, b::Number)   = \"a and b are both numbers\"\n",
    "f(a::Number, b)           = \"a is a number\"\n",
    "f(a, b::Number)           = \"b is a number\"\n",
    "f(a::Integer, b::Integer) = \"a and b are both integers\""
   ]
  },
  {
   "cell_type": "code",
   "execution_count": 14,
   "metadata": {},
   "outputs": [
    {
     "data": {
      "text/html": [
       "5 methods for generic function <b>f</b>:<ul><li> f(a::<b>Integer</b>, b::<b>Integer</b>) in Main at In[13]:5</li> <li> f(a::<b>Number</b>, b::<b>Number</b>) in Main at In[13]:2</li> <li> f(a::<b>Number</b>, b) in Main at In[13]:3</li> <li> f(a, b::<b>Number</b>) in Main at In[13]:4</li> <li> f(a, b) in Main at In[13]:1</li> </ul>"
      ],
      "text/plain": [
       "# 5 methods for generic function \"f\":\n",
       "[1] f(a::Integer, b::Integer) in Main at In[13]:5\n",
       "[2] f(a::Number, b::Number) in Main at In[13]:2\n",
       "[3] f(a::Number, b) in Main at In[13]:3\n",
       "[4] f(a, b::Number) in Main at In[13]:4\n",
       "[5] f(a, b) in Main at In[13]:1"
      ]
     },
     "execution_count": 14,
     "metadata": {},
     "output_type": "execute_result"
    }
   ],
   "source": [
    "methods(f)"
   ]
  },
  {
   "cell_type": "code",
   "execution_count": 15,
   "metadata": {},
   "outputs": [
    {
     "data": {
      "text/plain": [
       "\"a and b are both numbers\""
      ]
     },
     "execution_count": 15,
     "metadata": {},
     "output_type": "execute_result"
    }
   ],
   "source": [
    "f(1.5, 2)"
   ]
  },
  {
   "cell_type": "code",
   "execution_count": 16,
   "metadata": {},
   "outputs": [
    {
     "data": {
      "text/plain": [
       "\"a is a number\""
      ]
     },
     "execution_count": 16,
     "metadata": {},
     "output_type": "execute_result"
    }
   ],
   "source": [
    "f(1, \"Köln!\")"
   ]
  },
  {
   "cell_type": "code",
   "execution_count": 17,
   "metadata": {},
   "outputs": [
    {
     "data": {
      "text/plain": [
       "\"a and b are both integers\""
      ]
     },
     "execution_count": 17,
     "metadata": {},
     "output_type": "execute_result"
    }
   ],
   "source": [
    "f(1, 2)"
   ]
  },
  {
   "cell_type": "code",
   "execution_count": 18,
   "metadata": {},
   "outputs": [
    {
     "data": {
      "text/plain": [
       "\"fallback\""
      ]
     },
     "execution_count": 18,
     "metadata": {},
     "output_type": "execute_result"
    }
   ],
   "source": [
    "f(\"Hello\", \"World!\")"
   ]
  },
  {
   "cell_type": "code",
   "execution_count": 19,
   "metadata": {},
   "outputs": [
    {
     "data": {
      "text/html": [
       "f(a::<b>Integer</b>, b::<b>Integer</b>) in Main at In[13]:5"
      ],
      "text/plain": [
       "f(a::Integer, b::Integer) in Main at In[13]:5"
      ]
     },
     "execution_count": 19,
     "metadata": {},
     "output_type": "execute_result"
    }
   ],
   "source": [
    "@which f(1, 2)"
   ]
  },
  {
   "cell_type": "code",
   "execution_count": 20,
   "metadata": {},
   "outputs": [
    {
     "data": {
      "text/html": [
       "f(a::<b>Number</b>, b) in Main at In[13]:3"
      ],
      "text/plain": [
       "f(a::Number, b) in Main at In[13]:3"
      ]
     },
     "execution_count": 20,
     "metadata": {},
     "output_type": "execute_result"
    }
   ],
   "source": [
    "@which f(1, \"Köln!\")"
   ]
  },
  {
   "cell_type": "code",
   "execution_count": 21,
   "metadata": {},
   "outputs": [
    {
     "data": {
      "text/html": [
       "163 methods for generic function <b>+</b>:<ul><li> +(x::<b>Bool</b>, z::<b>Complex{Bool}</b>) in Base at <a href=\"https://github.com/JuliaLang/julia/tree/80516ca20297a67b996caa08c38786332379b6a5/base/complex.jl#L277\" target=\"_blank\">complex.jl:277</a></li> <li> +(x::<b>Bool</b>, y::<b>Bool</b>) in Base at <a href=\"https://github.com/JuliaLang/julia/tree/80516ca20297a67b996caa08c38786332379b6a5/base/bool.jl#L104\" target=\"_blank\">bool.jl:104</a></li> <li> +(x::<b>Bool</b>) in Base at <a href=\"https://github.com/JuliaLang/julia/tree/80516ca20297a67b996caa08c38786332379b6a5/base/bool.jl#L101\" target=\"_blank\">bool.jl:101</a></li> <li> +<i>{T<:AbstractFloat}</i>(x::<b>Bool</b>, y::<b>T</b>) in Base at <a href=\"https://github.com/JuliaLang/julia/tree/80516ca20297a67b996caa08c38786332379b6a5/base/bool.jl#L112\" target=\"_blank\">bool.jl:112</a></li> <li> +(x::<b>Bool</b>, z::<b>Complex</b>) in Base at <a href=\"https://github.com/JuliaLang/julia/tree/80516ca20297a67b996caa08c38786332379b6a5/base/complex.jl#L284\" target=\"_blank\">complex.jl:284</a></li> <li> +(a::<b>Float16</b>, b::<b>Float16</b>) in Base at <a href=\"https://github.com/JuliaLang/julia/tree/80516ca20297a67b996caa08c38786332379b6a5/base/float.jl#L392\" target=\"_blank\">float.jl:392</a></li> <li> +(x::<b>Float32</b>, y::<b>Float32</b>) in Base at <a href=\"https://github.com/JuliaLang/julia/tree/80516ca20297a67b996caa08c38786332379b6a5/base/float.jl#L394\" target=\"_blank\">float.jl:394</a></li> <li> +(x::<b>Float64</b>, y::<b>Float64</b>) in Base at <a href=\"https://github.com/JuliaLang/julia/tree/80516ca20297a67b996caa08c38786332379b6a5/base/float.jl#L395\" target=\"_blank\">float.jl:395</a></li> <li> +(z::<b>Complex{Bool}</b>, x::<b>Bool</b>) in Base at <a href=\"https://github.com/JuliaLang/julia/tree/80516ca20297a67b996caa08c38786332379b6a5/base/complex.jl#L278\" target=\"_blank\">complex.jl:278</a></li> <li> +(z::<b>Complex{Bool}</b>, x::<b>Real</b>) in Base at <a href=\"https://github.com/JuliaLang/julia/tree/80516ca20297a67b996caa08c38786332379b6a5/base/complex.jl#L292\" target=\"_blank\">complex.jl:292</a></li> <li> +(::<b>Missing</b>, ::<b>Missing</b>) in Base at <a href=\"https://github.com/JuliaLang/julia/tree/80516ca20297a67b996caa08c38786332379b6a5/base/missing.jl#L96\" target=\"_blank\">missing.jl:96</a></li> <li> +(::<b>Missing</b>) in Base at <a href=\"https://github.com/JuliaLang/julia/tree/80516ca20297a67b996caa08c38786332379b6a5/base/missing.jl#L83\" target=\"_blank\">missing.jl:83</a></li> <li> +(::<b>Missing</b>, ::<b>Number</b>) in Base at <a href=\"https://github.com/JuliaLang/julia/tree/80516ca20297a67b996caa08c38786332379b6a5/base/missing.jl#L97\" target=\"_blank\">missing.jl:97</a></li> <li> +(level::<b>Base.CoreLogging.LogLevel</b>, inc::<b>Integer</b>) in Base.CoreLogging at <a href=\"https://github.com/JuliaLang/julia/tree/80516ca20297a67b996caa08c38786332379b6a5/base/logging.jl#L106\" target=\"_blank\">logging.jl:106</a></li> <li> +(c::<b>BigInt</b>, x::<b>BigFloat</b>) in Base.MPFR at <a href=\"https://github.com/JuliaLang/julia/tree/80516ca20297a67b996caa08c38786332379b6a5/base/mpfr.jl#L406\" target=\"_blank\">mpfr.jl:406</a></li> <li> +(a::<b>BigInt</b>, b::<b>BigInt</b>, c::<b>BigInt</b>, d::<b>BigInt</b>, e::<b>BigInt</b>) in Base.GMP at <a href=\"https://github.com/JuliaLang/julia/tree/80516ca20297a67b996caa08c38786332379b6a5/base/gmp.jl#L434\" target=\"_blank\">gmp.jl:434</a></li> <li> +(a::<b>BigInt</b>, b::<b>BigInt</b>, c::<b>BigInt</b>, d::<b>BigInt</b>) in Base.GMP at <a href=\"https://github.com/JuliaLang/julia/tree/80516ca20297a67b996caa08c38786332379b6a5/base/gmp.jl#L433\" target=\"_blank\">gmp.jl:433</a></li> <li> +(a::<b>BigInt</b>, b::<b>BigInt</b>, c::<b>BigInt</b>) in Base.GMP at <a href=\"https://github.com/JuliaLang/julia/tree/80516ca20297a67b996caa08c38786332379b6a5/base/gmp.jl#L432\" target=\"_blank\">gmp.jl:432</a></li> <li> +(x::<b>BigInt</b>, y::<b>BigInt</b>) in Base.GMP at <a href=\"https://github.com/JuliaLang/julia/tree/80516ca20297a67b996caa08c38786332379b6a5/base/gmp.jl#L403\" target=\"_blank\">gmp.jl:403</a></li> <li> +(x::<b>BigInt</b>, c::<b>Union{UInt16, UInt32, UInt8}</b>) in Base.GMP at <a href=\"https://github.com/JuliaLang/julia/tree/80516ca20297a67b996caa08c38786332379b6a5/base/gmp.jl#L440\" target=\"_blank\">gmp.jl:440</a></li> <li> +(x::<b>BigInt</b>, c::<b>Union{Int16, Int32, Int8}</b>) in Base.GMP at <a href=\"https://github.com/JuliaLang/julia/tree/80516ca20297a67b996caa08c38786332379b6a5/base/gmp.jl#L446\" target=\"_blank\">gmp.jl:446</a></li> <li> +(a::<b>BigFloat</b>, b::<b>BigFloat</b>, c::<b>BigFloat</b>, d::<b>BigFloat</b>, e::<b>BigFloat</b>) in Base.MPFR at <a href=\"https://github.com/JuliaLang/julia/tree/80516ca20297a67b996caa08c38786332379b6a5/base/mpfr.jl#L556\" target=\"_blank\">mpfr.jl:556</a></li> <li> +(a::<b>BigFloat</b>, b::<b>BigFloat</b>, c::<b>BigFloat</b>, d::<b>BigFloat</b>) in Base.MPFR at <a href=\"https://github.com/JuliaLang/julia/tree/80516ca20297a67b996caa08c38786332379b6a5/base/mpfr.jl#L549\" target=\"_blank\">mpfr.jl:549</a></li> <li> +(a::<b>BigFloat</b>, b::<b>BigFloat</b>, c::<b>BigFloat</b>) in Base.MPFR at <a href=\"https://github.com/JuliaLang/julia/tree/80516ca20297a67b996caa08c38786332379b6a5/base/mpfr.jl#L543\" target=\"_blank\">mpfr.jl:543</a></li> <li> +(x::<b>BigFloat</b>, c::<b>BigInt</b>) in Base.MPFR at <a href=\"https://github.com/JuliaLang/julia/tree/80516ca20297a67b996caa08c38786332379b6a5/base/mpfr.jl#L402\" target=\"_blank\">mpfr.jl:402</a></li> <li> +(x::<b>BigFloat</b>, y::<b>BigFloat</b>) in Base.MPFR at <a href=\"https://github.com/JuliaLang/julia/tree/80516ca20297a67b996caa08c38786332379b6a5/base/mpfr.jl#L371\" target=\"_blank\">mpfr.jl:371</a></li> <li> +(x::<b>BigFloat</b>, c::<b>Union{UInt16, UInt32, UInt8}</b>) in Base.MPFR at <a href=\"https://github.com/JuliaLang/julia/tree/80516ca20297a67b996caa08c38786332379b6a5/base/mpfr.jl#L378\" target=\"_blank\">mpfr.jl:378</a></li> <li> +(x::<b>BigFloat</b>, c::<b>Union{Int16, Int32, Int8}</b>) in Base.MPFR at <a href=\"https://github.com/JuliaLang/julia/tree/80516ca20297a67b996caa08c38786332379b6a5/base/mpfr.jl#L386\" target=\"_blank\">mpfr.jl:386</a></li> <li> +(x::<b>BigFloat</b>, c::<b>Union{Float16, Float32, Float64}</b>) in Base.MPFR at <a href=\"https://github.com/JuliaLang/julia/tree/80516ca20297a67b996caa08c38786332379b6a5/base/mpfr.jl#L394\" target=\"_blank\">mpfr.jl:394</a></li> <li> +(x::<b>Dates.CompoundPeriod</b>, y::<b>Dates.CompoundPeriod</b>) in Dates at <a href=\"file://C:/cygwin/home/Administrator/buildbot/worker/package_win64/build/usr/share/julia/stdlib/v1.1/Dates/src/periods.jl\" target=\"_blank\">C:\\cygwin\\home\\Administrator\\buildbot\\worker\\package_win64\\build\\usr\\share\\julia\\stdlib\\v1.1\\Dates\\src\\periods.jl:343</a></li> <li> +(x::<b>Dates.CompoundPeriod</b>, y::<b>Dates.Period</b>) in Dates at <a href=\"file://C:/cygwin/home/Administrator/buildbot/worker/package_win64/build/usr/share/julia/stdlib/v1.1/Dates/src/periods.jl\" target=\"_blank\">C:\\cygwin\\home\\Administrator\\buildbot\\worker\\package_win64\\build\\usr\\share\\julia\\stdlib\\v1.1\\Dates\\src\\periods.jl:341</a></li> <li> +(x::<b>Dates.CompoundPeriod</b>, y::<b>Dates.TimeType</b>) in Dates at <a href=\"file://C:/cygwin/home/Administrator/buildbot/worker/package_win64/build/usr/share/julia/stdlib/v1.1/Dates/src/periods.jl\" target=\"_blank\">C:\\cygwin\\home\\Administrator\\buildbot\\worker\\package_win64\\build\\usr\\share\\julia\\stdlib\\v1.1\\Dates\\src\\periods.jl:371</a></li> <li> +(x::<b>Dates.Date</b>, y::<b>Dates.Day</b>) in Dates at <a href=\"file://C:/cygwin/home/Administrator/buildbot/worker/package_win64/build/usr/share/julia/stdlib/v1.1/Dates/src/arithmetic.jl\" target=\"_blank\">C:\\cygwin\\home\\Administrator\\buildbot\\worker\\package_win64\\build\\usr\\share\\julia\\stdlib\\v1.1\\Dates\\src\\arithmetic.jl:74</a></li> <li> +(x::<b>Dates.Date</b>, y::<b>Dates.Week</b>) in Dates at <a href=\"file://C:/cygwin/home/Administrator/buildbot/worker/package_win64/build/usr/share/julia/stdlib/v1.1/Dates/src/arithmetic.jl\" target=\"_blank\">C:\\cygwin\\home\\Administrator\\buildbot\\worker\\package_win64\\build\\usr\\share\\julia\\stdlib\\v1.1\\Dates\\src\\arithmetic.jl:72</a></li> <li> +(dt::<b>Dates.Date</b>, z::<b>Dates.Month</b>) in Dates at <a href=\"file://C:/cygwin/home/Administrator/buildbot/worker/package_win64/build/usr/share/julia/stdlib/v1.1/Dates/src/arithmetic.jl\" target=\"_blank\">C:\\cygwin\\home\\Administrator\\buildbot\\worker\\package_win64\\build\\usr\\share\\julia\\stdlib\\v1.1\\Dates\\src\\arithmetic.jl:55</a></li> <li> +(dt::<b>Dates.Date</b>, y::<b>Dates.Year</b>) in Dates at <a href=\"file://C:/cygwin/home/Administrator/buildbot/worker/package_win64/build/usr/share/julia/stdlib/v1.1/Dates/src/arithmetic.jl\" target=\"_blank\">C:\\cygwin\\home\\Administrator\\buildbot\\worker\\package_win64\\build\\usr\\share\\julia\\stdlib\\v1.1\\Dates\\src\\arithmetic.jl:28</a></li> <li> +(dt::<b>Dates.Date</b>, t::<b>Dates.Time</b>) in Dates at <a href=\"file://C:/cygwin/home/Administrator/buildbot/worker/package_win64/build/usr/share/julia/stdlib/v1.1/Dates/src/arithmetic.jl\" target=\"_blank\">C:\\cygwin\\home\\Administrator\\buildbot\\worker\\package_win64\\build\\usr\\share\\julia\\stdlib\\v1.1\\Dates\\src\\arithmetic.jl:19</a></li> <li> +(t::<b>Dates.Time</b>, dt::<b>Dates.Date</b>) in Dates at <a href=\"file://C:/cygwin/home/Administrator/buildbot/worker/package_win64/build/usr/share/julia/stdlib/v1.1/Dates/src/arithmetic.jl\" target=\"_blank\">C:\\cygwin\\home\\Administrator\\buildbot\\worker\\package_win64\\build\\usr\\share\\julia\\stdlib\\v1.1\\Dates\\src\\arithmetic.jl:20</a></li> <li> +(x::<b>Dates.Time</b>, y::<b>Dates.TimePeriod</b>) in Dates at <a href=\"file://C:/cygwin/home/Administrator/buildbot/worker/package_win64/build/usr/share/julia/stdlib/v1.1/Dates/src/arithmetic.jl\" target=\"_blank\">C:\\cygwin\\home\\Administrator\\buildbot\\worker\\package_win64\\build\\usr\\share\\julia\\stdlib\\v1.1\\Dates\\src\\arithmetic.jl:78</a></li> <li> +(dt::<b>Dates.DateTime</b>, z::<b>Dates.Month</b>) in Dates at <a href=\"file://C:/cygwin/home/Administrator/buildbot/worker/package_win64/build/usr/share/julia/stdlib/v1.1/Dates/src/arithmetic.jl\" target=\"_blank\">C:\\cygwin\\home\\Administrator\\buildbot\\worker\\package_win64\\build\\usr\\share\\julia\\stdlib\\v1.1\\Dates\\src\\arithmetic.jl:48</a></li> <li> +(dt::<b>Dates.DateTime</b>, y::<b>Dates.Year</b>) in Dates at <a href=\"file://C:/cygwin/home/Administrator/buildbot/worker/package_win64/build/usr/share/julia/stdlib/v1.1/Dates/src/arithmetic.jl\" target=\"_blank\">C:\\cygwin\\home\\Administrator\\buildbot\\worker\\package_win64\\build\\usr\\share\\julia\\stdlib\\v1.1\\Dates\\src\\arithmetic.jl:24</a></li> <li> +(x::<b>Dates.DateTime</b>, y::<b>Dates.Period</b>) in Dates at <a href=\"file://C:/cygwin/home/Administrator/buildbot/worker/package_win64/build/usr/share/julia/stdlib/v1.1/Dates/src/arithmetic.jl\" target=\"_blank\">C:\\cygwin\\home\\Administrator\\buildbot\\worker\\package_win64\\build\\usr\\share\\julia\\stdlib\\v1.1\\Dates\\src\\arithmetic.jl:76</a></li> <li> +(B::<b>BitArray{2}</b>, J::<b>LinearAlgebra.UniformScaling</b>) in LinearAlgebra at <a href=\"file://C:/cygwin/home/Administrator/buildbot/worker/package_win64/build/usr/share/julia/stdlib/v1.1/LinearAlgebra/src/uniformscaling.jl\" target=\"_blank\">C:\\cygwin\\home\\Administrator\\buildbot\\worker\\package_win64\\build\\usr\\share\\julia\\stdlib\\v1.1\\LinearAlgebra\\src\\uniformscaling.jl:90</a></li> <li> +(a::<b>Pkg.Resolve.VersionWeights.VersionWeight</b>, b::<b>Pkg.Resolve.VersionWeights.VersionWeight</b>) in Pkg.Resolve.VersionWeights at <a href=\"file://C:/cygwin/home/Administrator/buildbot/worker/package_win64/build/usr/share/julia/stdlib/v1.1/Pkg/src/resolve/VersionWeights.jl\" target=\"_blank\">C:\\cygwin\\home\\Administrator\\buildbot\\worker\\package_win64\\build\\usr\\share\\julia\\stdlib\\v1.1\\Pkg\\src\\resolve\\VersionWeights.jl:26</a></li> <li> +(a::<b>Pkg.Resolve.MaxSum.FieldValues.FieldValue</b>, b::<b>Pkg.Resolve.MaxSum.FieldValues.FieldValue</b>) in Pkg.Resolve.MaxSum.FieldValues at <a href=\"file://C:/cygwin/home/Administrator/buildbot/worker/package_win64/build/usr/share/julia/stdlib/v1.1/Pkg/src/resolve/FieldValues.jl\" target=\"_blank\">C:\\cygwin\\home\\Administrator\\buildbot\\worker\\package_win64\\build\\usr\\share\\julia\\stdlib\\v1.1\\Pkg\\src\\resolve\\FieldValues.jl:49</a></li> <li> +(y::<b>AbstractFloat</b>, x::<b>Bool</b>) in Base at <a href=\"https://github.com/JuliaLang/julia/tree/80516ca20297a67b996caa08c38786332379b6a5/base/bool.jl#L114\" target=\"_blank\">bool.jl:114</a></li> <li> +<i>{T<:Union{Int128, Int16, Int32, Int64, Int8, UInt128, UInt16, UInt32, UInt64, UInt8}}</i>(x::<b>T</b>, y::<b>T</b>) in Base at <a href=\"https://github.com/JuliaLang/julia/tree/80516ca20297a67b996caa08c38786332379b6a5/base/int.jl#L53\" target=\"_blank\">int.jl:53</a></li> <li> +(c::<b>Union{UInt16, UInt32, UInt8}</b>, x::<b>BigInt</b>) in Base.GMP at <a href=\"https://github.com/JuliaLang/julia/tree/80516ca20297a67b996caa08c38786332379b6a5/base/gmp.jl#L441\" target=\"_blank\">gmp.jl:441</a></li> <li> +(c::<b>Union{Int16, Int32, Int8}</b>, x::<b>BigInt</b>) in Base.GMP at <a href=\"https://github.com/JuliaLang/julia/tree/80516ca20297a67b996caa08c38786332379b6a5/base/gmp.jl#L447\" target=\"_blank\">gmp.jl:447</a></li> <li> +(a::<b>Integer</b>, b::<b>Integer</b>) in Base at <a href=\"https://github.com/JuliaLang/julia/tree/80516ca20297a67b996caa08c38786332379b6a5/base/int.jl#L797\" target=\"_blank\">int.jl:797</a></li> <li> +(x::<b>Integer</b>, y::<b>Ptr</b>) in Base at <a href=\"https://github.com/JuliaLang/julia/tree/80516ca20297a67b996caa08c38786332379b6a5/base/pointer.jl#L157\" target=\"_blank\">pointer.jl:157</a></li> <li> +(z::<b>Complex</b>, w::<b>Complex</b>) in Base at <a href=\"https://github.com/JuliaLang/julia/tree/80516ca20297a67b996caa08c38786332379b6a5/base/complex.jl#L266\" target=\"_blank\">complex.jl:266</a></li> <li> +(z::<b>Complex</b>, x::<b>Bool</b>) in Base at <a href=\"https://github.com/JuliaLang/julia/tree/80516ca20297a67b996caa08c38786332379b6a5/base/complex.jl#L285\" target=\"_blank\">complex.jl:285</a></li> <li> +(x::<b>Real</b>, z::<b>Complex{Bool}</b>) in Base at <a href=\"https://github.com/JuliaLang/julia/tree/80516ca20297a67b996caa08c38786332379b6a5/base/complex.jl#L291\" target=\"_blank\">complex.jl:291</a></li> <li> +(x::<b>Real</b>, z::<b>Complex</b>) in Base at <a href=\"https://github.com/JuliaLang/julia/tree/80516ca20297a67b996caa08c38786332379b6a5/base/complex.jl#L303\" target=\"_blank\">complex.jl:303</a></li> <li> +(z::<b>Complex</b>, x::<b>Real</b>) in Base at <a href=\"https://github.com/JuliaLang/julia/tree/80516ca20297a67b996caa08c38786332379b6a5/base/complex.jl#L304\" target=\"_blank\">complex.jl:304</a></li> <li> +(x::<b>Rational</b>, y::<b>Rational</b>) in Base at <a href=\"https://github.com/JuliaLang/julia/tree/80516ca20297a67b996caa08c38786332379b6a5/base/rational.jl#L252\" target=\"_blank\">rational.jl:252</a></li> <li> +(x::<b>Integer</b>, y::<b>AbstractChar</b>) in Base at <a href=\"https://github.com/JuliaLang/julia/tree/80516ca20297a67b996caa08c38786332379b6a5/base/char.jl#L224\" target=\"_blank\">char.jl:224</a></li> <li> +(c::<b>Union{UInt16, UInt32, UInt8}</b>, x::<b>BigFloat</b>) in Base.MPFR at <a href=\"https://github.com/JuliaLang/julia/tree/80516ca20297a67b996caa08c38786332379b6a5/base/mpfr.jl#L382\" target=\"_blank\">mpfr.jl:382</a></li> <li> +(c::<b>Union{Int16, Int32, Int8}</b>, x::<b>BigFloat</b>) in Base.MPFR at <a href=\"https://github.com/JuliaLang/julia/tree/80516ca20297a67b996caa08c38786332379b6a5/base/mpfr.jl#L390\" target=\"_blank\">mpfr.jl:390</a></li> <li> +(c::<b>Union{Float16, Float32, Float64}</b>, x::<b>BigFloat</b>) in Base.MPFR at <a href=\"https://github.com/JuliaLang/julia/tree/80516ca20297a67b996caa08c38786332379b6a5/base/mpfr.jl#L398\" target=\"_blank\">mpfr.jl:398</a></li> <li> +(x::<b>AbstractIrrational</b>, y::<b>AbstractIrrational</b>) in Base at <a href=\"https://github.com/JuliaLang/julia/tree/80516ca20297a67b996caa08c38786332379b6a5/base/irrationals.jl#L133\" target=\"_blank\">irrationals.jl:133</a></li> <li> +(x::<b>Number</b>) in Base at <a href=\"https://github.com/JuliaLang/julia/tree/80516ca20297a67b996caa08c38786332379b6a5/base/operators.jl#L477\" target=\"_blank\">operators.jl:477</a></li> <li> +<i>{T<:Number}</i>(x::<b>T</b>, y::<b>T</b>) in Base at <a href=\"https://github.com/JuliaLang/julia/tree/80516ca20297a67b996caa08c38786332379b6a5/base/promotion.jl#L389\" target=\"_blank\">promotion.jl:389</a></li> <li> +(x::<b>Number</b>, y::<b>Number</b>) in Base at <a href=\"https://github.com/JuliaLang/julia/tree/80516ca20297a67b996caa08c38786332379b6a5/base/promotion.jl#L313\" target=\"_blank\">promotion.jl:313</a></li> <li> +(r1::<b>OrdinalRange</b>, r2::<b>OrdinalRange</b>) in Base at <a href=\"https://github.com/JuliaLang/julia/tree/80516ca20297a67b996caa08c38786332379b6a5/base/range.jl#L1003\" target=\"_blank\">range.jl:1003</a></li> <li> +<i>{T}</i>(r1::<b>LinRange{T}</b>, r2::<b>LinRange{T}</b>) in Base at <a href=\"https://github.com/JuliaLang/julia/tree/80516ca20297a67b996caa08c38786332379b6a5/base/range.jl#L1010\" target=\"_blank\">range.jl:1010</a></li> <li> +<i>{R<:TwicePrecision, T}</i>(r1::<b>StepRangeLen{T,R,S} where S</b>, r2::<b>StepRangeLen{T,R,S} where S</b>) in Base at <a href=\"https://github.com/JuliaLang/julia/tree/80516ca20297a67b996caa08c38786332379b6a5/base/twiceprecision.jl#L557\" target=\"_blank\">twiceprecision.jl:557</a></li> <li> +<i>{T, S}</i>(r1::<b>StepRangeLen{T,S,S1} where S1</b>, r2::<b>StepRangeLen{T,S,S1} where S1</b>) in Base at <a href=\"https://github.com/JuliaLang/julia/tree/80516ca20297a67b996caa08c38786332379b6a5/base/range.jl#L1026\" target=\"_blank\">range.jl:1026</a></li> <li> +(r1::<b>Union{LinRange, OrdinalRange, StepRangeLen}</b>, r2::<b>Union{LinRange, OrdinalRange, StepRangeLen}</b>) in Base at <a href=\"https://github.com/JuliaLang/julia/tree/80516ca20297a67b996caa08c38786332379b6a5/base/range.jl#L1018\" target=\"_blank\">range.jl:1018</a></li> <li> +(x::<b>Ptr</b>, y::<b>Integer</b>) in Base at <a href=\"https://github.com/JuliaLang/julia/tree/80516ca20297a67b996caa08c38786332379b6a5/base/pointer.jl#L155\" target=\"_blank\">pointer.jl:155</a></li> <li> +(x::<b>Base.TwicePrecision</b>, y::<b>Number</b>) in Base at <a href=\"https://github.com/JuliaLang/julia/tree/80516ca20297a67b996caa08c38786332379b6a5/base/twiceprecision.jl#L265\" target=\"_blank\">twiceprecision.jl:265</a></li> <li> +(x::<b>Number</b>, y::<b>Base.TwicePrecision</b>) in Base at <a href=\"https://github.com/JuliaLang/julia/tree/80516ca20297a67b996caa08c38786332379b6a5/base/twiceprecision.jl#L268\" target=\"_blank\">twiceprecision.jl:268</a></li> <li> +<i>{T}</i>(x::<b>Base.TwicePrecision{T}</b>, y::<b>Base.TwicePrecision{T}</b>) in Base at <a href=\"https://github.com/JuliaLang/julia/tree/80516ca20297a67b996caa08c38786332379b6a5/base/twiceprecision.jl#L271\" target=\"_blank\">twiceprecision.jl:271</a></li> <li> +(x::<b>Base.TwicePrecision</b>, y::<b>Base.TwicePrecision</b>) in Base at <a href=\"https://github.com/JuliaLang/julia/tree/80516ca20297a67b996caa08c38786332379b6a5/base/twiceprecision.jl#L275\" target=\"_blank\">twiceprecision.jl:275</a></li> <li> +(A::<b>Array</b>, Bs::<b>Array...</b>) in Base at <a href=\"https://github.com/JuliaLang/julia/tree/80516ca20297a67b996caa08c38786332379b6a5/base/arraymath.jl#L44\" target=\"_blank\">arraymath.jl:44</a></li> <li> +(A::<b>BitArray</b>, B::<b>BitArray</b>) in Base at <a href=\"https://github.com/JuliaLang/julia/tree/80516ca20297a67b996caa08c38786332379b6a5/base/bitarray.jl#L1084\" target=\"_blank\">bitarray.jl:1084</a></li> <li> +(r::<b>AbstractRange{#s623} where #s623<:Dates.TimeType</b>, x::<b>Dates.Period</b>) in Dates at <a href=\"file://C:/cygwin/home/Administrator/buildbot/worker/package_win64/build/usr/share/julia/stdlib/v1.1/Dates/src/ranges.jl\" target=\"_blank\">C:\\cygwin\\home\\Administrator\\buildbot\\worker\\package_win64\\build\\usr\\share\\julia\\stdlib\\v1.1\\Dates\\src\\ranges.jl:59</a></li> <li> +(A::<b>Array{T,2} where T</b>, B::<b>LinearAlgebra.Diagonal</b>) in LinearAlgebra at <a href=\"file://C:/cygwin/home/Administrator/buildbot/worker/package_win64/build/usr/share/julia/stdlib/v1.1/LinearAlgebra/src/special.jl\" target=\"_blank\">C:\\cygwin\\home\\Administrator\\buildbot\\worker\\package_win64\\build\\usr\\share\\julia\\stdlib\\v1.1\\LinearAlgebra\\src\\special.jl:88</a></li> <li> +(A::<b>Array{T,2} where T</b>, B::<b>LinearAlgebra.Bidiagonal</b>) in LinearAlgebra at <a href=\"file://C:/cygwin/home/Administrator/buildbot/worker/package_win64/build/usr/share/julia/stdlib/v1.1/LinearAlgebra/src/special.jl\" target=\"_blank\">C:\\cygwin\\home\\Administrator\\buildbot\\worker\\package_win64\\build\\usr\\share\\julia\\stdlib\\v1.1\\LinearAlgebra\\src\\special.jl:88</a></li> <li> +(A::<b>Array{T,2} where T</b>, B::<b>LinearAlgebra.Tridiagonal</b>) in LinearAlgebra at <a href=\"file://C:/cygwin/home/Administrator/buildbot/worker/package_win64/build/usr/share/julia/stdlib/v1.1/LinearAlgebra/src/special.jl\" target=\"_blank\">C:\\cygwin\\home\\Administrator\\buildbot\\worker\\package_win64\\build\\usr\\share\\julia\\stdlib\\v1.1\\LinearAlgebra\\src\\special.jl:88</a></li> <li> +(A::<b>Array{T,2} where T</b>, B::<b>LinearAlgebra.SymTridiagonal</b>) in LinearAlgebra at <a href=\"file://C:/cygwin/home/Administrator/buildbot/worker/package_win64/build/usr/share/julia/stdlib/v1.1/LinearAlgebra/src/special.jl\" target=\"_blank\">C:\\cygwin\\home\\Administrator\\buildbot\\worker\\package_win64\\build\\usr\\share\\julia\\stdlib\\v1.1\\LinearAlgebra\\src\\special.jl:97</a></li> <li> +(A::<b>Array{T,2} where T</b>, B::<b>LinearAlgebra.AbstractTriangular</b>) in LinearAlgebra at <a href=\"file://C:/cygwin/home/Administrator/buildbot/worker/package_win64/build/usr/share/julia/stdlib/v1.1/LinearAlgebra/src/special.jl\" target=\"_blank\">C:\\cygwin\\home\\Administrator\\buildbot\\worker\\package_win64\\build\\usr\\share\\julia\\stdlib\\v1.1\\LinearAlgebra\\src\\special.jl:125</a></li> <li> +(A::<b>Array</b>, B::<b>SparseArrays.SparseMatrixCSC</b>) in SparseArrays at <a href=\"file://C:/cygwin/home/Administrator/buildbot/worker/package_win64/build/usr/share/julia/stdlib/v1.1/SparseArrays/src/sparsematrix.jl\" target=\"_blank\">C:\\cygwin\\home\\Administrator\\buildbot\\worker\\package_win64\\build\\usr\\share\\julia\\stdlib\\v1.1\\SparseArrays\\src\\sparsematrix.jl:1580</a></li> <li> +(x::<b>Union{DenseArray{#s623,N}, ReinterpretArray{#s623,N,S,A} where S where A<:Union{SubArray{T,N,A,I,true} where I<:Union{Tuple{Vararg{Real,N} where N}, Tuple{AbstractUnitRange,Vararg{Any,N} where N}} where A<:DenseArray where N where T, DenseArray}, ReshapedArray{#s623,N,A,MI} where MI<:Tuple{Vararg{SignedMultiplicativeInverse{Int64},N} where N} where A<:Union{ReinterpretArray{T,N,S,A} where S where A<:Union{SubArray{T,N,A,I,true} where I<:Union{Tuple{Vararg{Real,N} where N}, Tuple{AbstractUnitRange,Vararg{Any,N} where N}} where A<:DenseArray where N where T, DenseArray} where N where T, SubArray{T,N,A,I,true} where I<:Union{Tuple{Vararg{Real,N} where N}, Tuple{AbstractUnitRange,Vararg{Any,N} where N}} where A<:DenseArray where N where T, DenseArray}, SubArray{#s623,N,A,I,L} where L where I<:Tuple{Vararg{Union{Int64, AbstractRange{Int64}, AbstractCartesianIndex},N} where N} where A<:Union{ReinterpretArray{T,N,S,A} where S where A<:Union{SubArray{T,N,A,I,true} where I<:Union{Tuple{Vararg{Real,N} where N}, Tuple{AbstractUnitRange,Vararg{Any,N} where N}} where A<:DenseArray where N where T, DenseArray} where N where T, ReshapedArray{T,N,A,MI} where MI<:Tuple{Vararg{SignedMultiplicativeInverse{Int64},N} where N} where A<:Union{ReinterpretArray{T,N,S,A} where S where A<:Union{SubArray{T,N,A,I,true} where I<:Union{Tuple{Vararg{Real,N} where N}, Tuple{AbstractUnitRange,Vararg{Any,N} where N}} where A<:DenseArray where N where T, DenseArray} where N where T, SubArray{T,N,A,I,true} where I<:Union{Tuple{Vararg{Real,N} where N}, Tuple{AbstractUnitRange,Vararg{Any,N} where N}} where A<:DenseArray where N where T, DenseArray} where N where T, DenseArray}} where N where #s623<:Union{CompoundPeriod, Period}</b>) in Dates at <a href=\"file://C:/cygwin/home/Administrator/buildbot/worker/package_win64/build/usr/share/julia/stdlib/v1.1/Dates/src/deprecated.jl\" target=\"_blank\">C:\\cygwin\\home\\Administrator\\buildbot\\worker\\package_win64\\build\\usr\\share\\julia\\stdlib\\v1.1\\Dates\\src\\deprecated.jl:57</a></li> <li> +(x::<b>Union{DenseArray{#s623,N}, ReinterpretArray{#s623,N,S,A} where S where A<:Union{SubArray{T,N,A,I,true} where I<:Union{Tuple{Vararg{Real,N} where N}, Tuple{AbstractUnitRange,Vararg{Any,N} where N}} where A<:DenseArray where N where T, DenseArray}, ReshapedArray{#s623,N,A,MI} where MI<:Tuple{Vararg{SignedMultiplicativeInverse{Int64},N} where N} where A<:Union{ReinterpretArray{T,N,S,A} where S where A<:Union{SubArray{T,N,A,I,true} where I<:Union{Tuple{Vararg{Real,N} where N}, Tuple{AbstractUnitRange,Vararg{Any,N} where N}} where A<:DenseArray where N where T, DenseArray} where N where T, SubArray{T,N,A,I,true} where I<:Union{Tuple{Vararg{Real,N} where N}, Tuple{AbstractUnitRange,Vararg{Any,N} where N}} where A<:DenseArray where N where T, DenseArray}, SubArray{#s623,N,A,I,L} where L where I<:Tuple{Vararg{Union{Int64, AbstractRange{Int64}, AbstractCartesianIndex},N} where N} where A<:Union{ReinterpretArray{T,N,S,A} where S where A<:Union{SubArray{T,N,A,I,true} where I<:Union{Tuple{Vararg{Real,N} where N}, Tuple{AbstractUnitRange,Vararg{Any,N} where N}} where A<:DenseArray where N where T, DenseArray} where N where T, ReshapedArray{T,N,A,MI} where MI<:Tuple{Vararg{SignedMultiplicativeInverse{Int64},N} where N} where A<:Union{ReinterpretArray{T,N,S,A} where S where A<:Union{SubArray{T,N,A,I,true} where I<:Union{Tuple{Vararg{Real,N} where N}, Tuple{AbstractUnitRange,Vararg{Any,N} where N}} where A<:DenseArray where N where T, DenseArray} where N where T, SubArray{T,N,A,I,true} where I<:Union{Tuple{Vararg{Real,N} where N}, Tuple{AbstractUnitRange,Vararg{Any,N} where N}} where A<:DenseArray where N where T, DenseArray} where N where T, DenseArray}} where N where #s623<:Union{CompoundPeriod, Period}</b>, y::<b>Dates.TimeType</b>) in Dates at <a href=\"file://C:/cygwin/home/Administrator/buildbot/worker/package_win64/build/usr/share/julia/stdlib/v1.1/Dates/src/deprecated.jl\" target=\"_blank\">C:\\cygwin\\home\\Administrator\\buildbot\\worker\\package_win64\\build\\usr\\share\\julia\\stdlib\\v1.1\\Dates\\src\\deprecated.jl:12</a></li> <li> +(X::<b>Union{DenseArray{#s623,N}, ReinterpretArray{#s623,N,S,A} where S where A<:Union{SubArray{T,N,A,I,true} where I<:Union{Tuple{Vararg{Real,N} where N}, Tuple{AbstractUnitRange,Vararg{Any,N} where N}} where A<:DenseArray where N where T, DenseArray}, ReshapedArray{#s623,N,A,MI} where MI<:Tuple{Vararg{SignedMultiplicativeInverse{Int64},N} where N} where A<:Union{ReinterpretArray{T,N,S,A} where S where A<:Union{SubArray{T,N,A,I,true} where I<:Union{Tuple{Vararg{Real,N} where N}, Tuple{AbstractUnitRange,Vararg{Any,N} where N}} where A<:DenseArray where N where T, DenseArray} where N where T, SubArray{T,N,A,I,true} where I<:Union{Tuple{Vararg{Real,N} where N}, Tuple{AbstractUnitRange,Vararg{Any,N} where N}} where A<:DenseArray where N where T, DenseArray}, SubArray{#s623,N,A,I,L} where L where I<:Tuple{Vararg{Union{Int64, AbstractRange{Int64}, AbstractCartesianIndex},N} where N} where A<:Union{ReinterpretArray{T,N,S,A} where S where A<:Union{SubArray{T,N,A,I,true} where I<:Union{Tuple{Vararg{Real,N} where N}, Tuple{AbstractUnitRange,Vararg{Any,N} where N}} where A<:DenseArray where N where T, DenseArray} where N where T, ReshapedArray{T,N,A,MI} where MI<:Tuple{Vararg{SignedMultiplicativeInverse{Int64},N} where N} where A<:Union{ReinterpretArray{T,N,S,A} where S where A<:Union{SubArray{T,N,A,I,true} where I<:Union{Tuple{Vararg{Real,N} where N}, Tuple{AbstractUnitRange,Vararg{Any,N} where N}} where A<:DenseArray where N where T, DenseArray} where N where T, SubArray{T,N,A,I,true} where I<:Union{Tuple{Vararg{Real,N} where N}, Tuple{AbstractUnitRange,Vararg{Any,N} where N}} where A<:DenseArray where N where T, DenseArray} where N where T, DenseArray}} where N where #s623<:Union{CompoundPeriod, Period}</b>, Y::<b>Union{DenseArray{#s622,N}, ReinterpretArray{#s622,N,S,A} where S where A<:Union{SubArray{T,N,A,I,true} where I<:Union{Tuple{Vararg{Real,N} where N}, Tuple{AbstractUnitRange,Vararg{Any,N} where N}} where A<:DenseArray where N where T, DenseArray}, ReshapedArray{#s622,N,A,MI} where MI<:Tuple{Vararg{SignedMultiplicativeInverse{Int64},N} where N} where A<:Union{ReinterpretArray{T,N,S,A} where S where A<:Union{SubArray{T,N,A,I,true} where I<:Union{Tuple{Vararg{Real,N} where N}, Tuple{AbstractUnitRange,Vararg{Any,N} where N}} where A<:DenseArray where N where T, DenseArray} where N where T, SubArray{T,N,A,I,true} where I<:Union{Tuple{Vararg{Real,N} where N}, Tuple{AbstractUnitRange,Vararg{Any,N} where N}} where A<:DenseArray where N where T, DenseArray}, SubArray{#s622,N,A,I,L} where L where I<:Tuple{Vararg{Union{Int64, AbstractRange{Int64}, AbstractCartesianIndex},N} where N} where A<:Union{ReinterpretArray{T,N,S,A} where S where A<:Union{SubArray{T,N,A,I,true} where I<:Union{Tuple{Vararg{Real,N} where N}, Tuple{AbstractUnitRange,Vararg{Any,N} where N}} where A<:DenseArray where N where T, DenseArray} where N where T, ReshapedArray{T,N,A,MI} where MI<:Tuple{Vararg{SignedMultiplicativeInverse{Int64},N} where N} where A<:Union{ReinterpretArray{T,N,S,A} where S where A<:Union{SubArray{T,N,A,I,true} where I<:Union{Tuple{Vararg{Real,N} where N}, Tuple{AbstractUnitRange,Vararg{Any,N} where N}} where A<:DenseArray where N where T, DenseArray} where N where T, SubArray{T,N,A,I,true} where I<:Union{Tuple{Vararg{Real,N} where N}, Tuple{AbstractUnitRange,Vararg{Any,N} where N}} where A<:DenseArray where N where T, DenseArray} where N where T, DenseArray}} where N where #s622<:Union{CompoundPeriod, Period}</b>) in Dates at <a href=\"file://C:/cygwin/home/Administrator/buildbot/worker/package_win64/build/usr/share/julia/stdlib/v1.1/Dates/src/deprecated.jl\" target=\"_blank\">C:\\cygwin\\home\\Administrator\\buildbot\\worker\\package_win64\\build\\usr\\share\\julia\\stdlib\\v1.1\\Dates\\src\\deprecated.jl:64</a></li> <li> +(A::<b>LinearAlgebra.SymTridiagonal</b>, B::<b>LinearAlgebra.SymTridiagonal</b>) in LinearAlgebra at <a href=\"file://C:/cygwin/home/Administrator/buildbot/worker/package_win64/build/usr/share/julia/stdlib/v1.1/LinearAlgebra/src/tridiag.jl\" target=\"_blank\">C:\\cygwin\\home\\Administrator\\buildbot\\worker\\package_win64\\build\\usr\\share\\julia\\stdlib\\v1.1\\LinearAlgebra\\src\\tridiag.jl:158</a></li> <li> +(A::<b>LinearAlgebra.Tridiagonal</b>, B::<b>LinearAlgebra.Tridiagonal</b>) in LinearAlgebra at <a href=\"file://C:/cygwin/home/Administrator/buildbot/worker/package_win64/build/usr/share/julia/stdlib/v1.1/LinearAlgebra/src/tridiag.jl\" target=\"_blank\">C:\\cygwin\\home\\Administrator\\buildbot\\worker\\package_win64\\build\\usr\\share\\julia\\stdlib\\v1.1\\LinearAlgebra\\src\\tridiag.jl:617</a></li> <li> +(A::<b>LinearAlgebra.UpperTriangular</b>, B::<b>LinearAlgebra.UpperTriangular</b>) in LinearAlgebra at <a href=\"file://C:/cygwin/home/Administrator/buildbot/worker/package_win64/build/usr/share/julia/stdlib/v1.1/LinearAlgebra/src/triangular.jl\" target=\"_blank\">C:\\cygwin\\home\\Administrator\\buildbot\\worker\\package_win64\\build\\usr\\share\\julia\\stdlib\\v1.1\\LinearAlgebra\\src\\triangular.jl:487</a></li> <li> +(A::<b>LinearAlgebra.LowerTriangular</b>, B::<b>LinearAlgebra.LowerTriangular</b>) in LinearAlgebra at <a href=\"file://C:/cygwin/home/Administrator/buildbot/worker/package_win64/build/usr/share/julia/stdlib/v1.1/LinearAlgebra/src/triangular.jl\" target=\"_blank\">C:\\cygwin\\home\\Administrator\\buildbot\\worker\\package_win64\\build\\usr\\share\\julia\\stdlib\\v1.1\\LinearAlgebra\\src\\triangular.jl:488</a></li> <li> +(A::<b>LinearAlgebra.UpperTriangular</b>, B::<b>LinearAlgebra.UnitUpperTriangular</b>) in LinearAlgebra at <a href=\"file://C:/cygwin/home/Administrator/buildbot/worker/package_win64/build/usr/share/julia/stdlib/v1.1/LinearAlgebra/src/triangular.jl\" target=\"_blank\">C:\\cygwin\\home\\Administrator\\buildbot\\worker\\package_win64\\build\\usr\\share\\julia\\stdlib\\v1.1\\LinearAlgebra\\src\\triangular.jl:489</a></li> <li> +(A::<b>LinearAlgebra.LowerTriangular</b>, B::<b>LinearAlgebra.UnitLowerTriangular</b>) in LinearAlgebra at <a href=\"file://C:/cygwin/home/Administrator/buildbot/worker/package_win64/build/usr/share/julia/stdlib/v1.1/LinearAlgebra/src/triangular.jl\" target=\"_blank\">C:\\cygwin\\home\\Administrator\\buildbot\\worker\\package_win64\\build\\usr\\share\\julia\\stdlib\\v1.1\\LinearAlgebra\\src\\triangular.jl:490</a></li> <li> +(A::<b>LinearAlgebra.UnitUpperTriangular</b>, B::<b>LinearAlgebra.UpperTriangular</b>) in LinearAlgebra at <a href=\"file://C:/cygwin/home/Administrator/buildbot/worker/package_win64/build/usr/share/julia/stdlib/v1.1/LinearAlgebra/src/triangular.jl\" target=\"_blank\">C:\\cygwin\\home\\Administrator\\buildbot\\worker\\package_win64\\build\\usr\\share\\julia\\stdlib\\v1.1\\LinearAlgebra\\src\\triangular.jl:491</a></li> <li> +(A::<b>LinearAlgebra.UnitLowerTriangular</b>, B::<b>LinearAlgebra.LowerTriangular</b>) in LinearAlgebra at <a href=\"file://C:/cygwin/home/Administrator/buildbot/worker/package_win64/build/usr/share/julia/stdlib/v1.1/LinearAlgebra/src/triangular.jl\" target=\"_blank\">C:\\cygwin\\home\\Administrator\\buildbot\\worker\\package_win64\\build\\usr\\share\\julia\\stdlib\\v1.1\\LinearAlgebra\\src\\triangular.jl:492</a></li> <li> +(A::<b>LinearAlgebra.UnitUpperTriangular</b>, B::<b>LinearAlgebra.UnitUpperTriangular</b>) in LinearAlgebra at <a href=\"file://C:/cygwin/home/Administrator/buildbot/worker/package_win64/build/usr/share/julia/stdlib/v1.1/LinearAlgebra/src/triangular.jl\" target=\"_blank\">C:\\cygwin\\home\\Administrator\\buildbot\\worker\\package_win64\\build\\usr\\share\\julia\\stdlib\\v1.1\\LinearAlgebra\\src\\triangular.jl:493</a></li> <li> +(A::<b>LinearAlgebra.UnitLowerTriangular</b>, B::<b>LinearAlgebra.UnitLowerTriangular</b>) in LinearAlgebra at <a href=\"file://C:/cygwin/home/Administrator/buildbot/worker/package_win64/build/usr/share/julia/stdlib/v1.1/LinearAlgebra/src/triangular.jl\" target=\"_blank\">C:\\cygwin\\home\\Administrator\\buildbot\\worker\\package_win64\\build\\usr\\share\\julia\\stdlib\\v1.1\\LinearAlgebra\\src\\triangular.jl:494</a></li> <li> +(A::<b>LinearAlgebra.AbstractTriangular</b>, B::<b>LinearAlgebra.AbstractTriangular</b>) in LinearAlgebra at <a href=\"file://C:/cygwin/home/Administrator/buildbot/worker/package_win64/build/usr/share/julia/stdlib/v1.1/LinearAlgebra/src/triangular.jl\" target=\"_blank\">C:\\cygwin\\home\\Administrator\\buildbot\\worker\\package_win64\\build\\usr\\share\\julia\\stdlib\\v1.1\\LinearAlgebra\\src\\triangular.jl:495</a></li> <li> +(Da::<b>LinearAlgebra.Diagonal</b>, Db::<b>LinearAlgebra.Diagonal</b>) in LinearAlgebra at <a href=\"file://C:/cygwin/home/Administrator/buildbot/worker/package_win64/build/usr/share/julia/stdlib/v1.1/LinearAlgebra/src/diagonal.jl\" target=\"_blank\">C:\\cygwin\\home\\Administrator\\buildbot\\worker\\package_win64\\build\\usr\\share\\julia\\stdlib\\v1.1\\LinearAlgebra\\src\\diagonal.jl:156</a></li> <li> +(A::<b>LinearAlgebra.Bidiagonal</b>, B::<b>LinearAlgebra.Bidiagonal</b>) in LinearAlgebra at <a href=\"file://C:/cygwin/home/Administrator/buildbot/worker/package_win64/build/usr/share/julia/stdlib/v1.1/LinearAlgebra/src/bidiag.jl\" target=\"_blank\">C:\\cygwin\\home\\Administrator\\buildbot\\worker\\package_win64\\build\\usr\\share\\julia\\stdlib\\v1.1\\LinearAlgebra\\src\\bidiag.jl:306</a></li> <li> +(UL::<b>LinearAlgebra.UnitUpperTriangular</b>, J::<b>LinearAlgebra.UniformScaling</b>) in LinearAlgebra at <a href=\"file://C:/cygwin/home/Administrator/buildbot/worker/package_win64/build/usr/share/julia/stdlib/v1.1/LinearAlgebra/src/uniformscaling.jl\" target=\"_blank\">C:\\cygwin\\home\\Administrator\\buildbot\\worker\\package_win64\\build\\usr\\share\\julia\\stdlib\\v1.1\\LinearAlgebra\\src\\uniformscaling.jl:106</a></li> <li> +(UL::<b>LinearAlgebra.UnitLowerTriangular</b>, J::<b>LinearAlgebra.UniformScaling</b>) in LinearAlgebra at <a href=\"file://C:/cygwin/home/Administrator/buildbot/worker/package_win64/build/usr/share/julia/stdlib/v1.1/LinearAlgebra/src/uniformscaling.jl\" target=\"_blank\">C:\\cygwin\\home\\Administrator\\buildbot\\worker\\package_win64\\build\\usr\\share\\julia\\stdlib\\v1.1\\LinearAlgebra\\src\\uniformscaling.jl:106</a></li> <li> +(A::<b>SparseArrays.SparseMatrixCSC</b>, J::<b>LinearAlgebra.UniformScaling</b>) in SparseArrays at <a href=\"file://C:/cygwin/home/Administrator/buildbot/worker/package_win64/build/usr/share/julia/stdlib/v1.1/SparseArrays/src/sparsematrix.jl\" target=\"_blank\">C:\\cygwin\\home\\Administrator\\buildbot\\worker\\package_win64\\build\\usr\\share\\julia\\stdlib\\v1.1\\SparseArrays\\src\\sparsematrix.jl:3506</a></li> <li> +(A::<b>AbstractArray{T,2} where T</b>, J::<b>LinearAlgebra.UniformScaling</b>) in LinearAlgebra at <a href=\"file://C:/cygwin/home/Administrator/buildbot/worker/package_win64/build/usr/share/julia/stdlib/v1.1/LinearAlgebra/src/uniformscaling.jl\" target=\"_blank\">C:\\cygwin\\home\\Administrator\\buildbot\\worker\\package_win64\\build\\usr\\share\\julia\\stdlib\\v1.1\\LinearAlgebra\\src\\uniformscaling.jl:116</a></li> <li> +(A::<b>LinearAlgebra.Diagonal</b>, B::<b>LinearAlgebra.Bidiagonal</b>) in LinearAlgebra at <a href=\"file://C:/cygwin/home/Administrator/buildbot/worker/package_win64/build/usr/share/julia/stdlib/v1.1/LinearAlgebra/src/special.jl\" target=\"_blank\">C:\\cygwin\\home\\Administrator\\buildbot\\worker\\package_win64\\build\\usr\\share\\julia\\stdlib\\v1.1\\LinearAlgebra\\src\\special.jl:87</a></li> <li> +(A::<b>LinearAlgebra.Bidiagonal</b>, B::<b>LinearAlgebra.Diagonal</b>) in LinearAlgebra at <a href=\"file://C:/cygwin/home/Administrator/buildbot/worker/package_win64/build/usr/share/julia/stdlib/v1.1/LinearAlgebra/src/special.jl\" target=\"_blank\">C:\\cygwin\\home\\Administrator\\buildbot\\worker\\package_win64\\build\\usr\\share\\julia\\stdlib\\v1.1\\LinearAlgebra\\src\\special.jl:88</a></li> <li> +(A::<b>LinearAlgebra.Diagonal</b>, B::<b>LinearAlgebra.Tridiagonal</b>) in LinearAlgebra at <a href=\"file://C:/cygwin/home/Administrator/buildbot/worker/package_win64/build/usr/share/julia/stdlib/v1.1/LinearAlgebra/src/special.jl\" target=\"_blank\">C:\\cygwin\\home\\Administrator\\buildbot\\worker\\package_win64\\build\\usr\\share\\julia\\stdlib\\v1.1\\LinearAlgebra\\src\\special.jl:87</a></li> <li> +(A::<b>LinearAlgebra.Tridiagonal</b>, B::<b>LinearAlgebra.Diagonal</b>) in LinearAlgebra at <a href=\"file://C:/cygwin/home/Administrator/buildbot/worker/package_win64/build/usr/share/julia/stdlib/v1.1/LinearAlgebra/src/special.jl\" target=\"_blank\">C:\\cygwin\\home\\Administrator\\buildbot\\worker\\package_win64\\build\\usr\\share\\julia\\stdlib\\v1.1\\LinearAlgebra\\src\\special.jl:88</a></li> <li> +(A::<b>LinearAlgebra.Diagonal</b>, B::<b>Array{T,2} where T</b>) in LinearAlgebra at <a href=\"file://C:/cygwin/home/Administrator/buildbot/worker/package_win64/build/usr/share/julia/stdlib/v1.1/LinearAlgebra/src/special.jl\" target=\"_blank\">C:\\cygwin\\home\\Administrator\\buildbot\\worker\\package_win64\\build\\usr\\share\\julia\\stdlib\\v1.1\\LinearAlgebra\\src\\special.jl:87</a></li> <li> +(A::<b>LinearAlgebra.Bidiagonal</b>, B::<b>LinearAlgebra.Tridiagonal</b>) in LinearAlgebra at <a href=\"file://C:/cygwin/home/Administrator/buildbot/worker/package_win64/build/usr/share/julia/stdlib/v1.1/LinearAlgebra/src/special.jl\" target=\"_blank\">C:\\cygwin\\home\\Administrator\\buildbot\\worker\\package_win64\\build\\usr\\share\\julia\\stdlib\\v1.1\\LinearAlgebra\\src\\special.jl:87</a></li> <li> +(A::<b>LinearAlgebra.Tridiagonal</b>, B::<b>LinearAlgebra.Bidiagonal</b>) in LinearAlgebra at <a href=\"file://C:/cygwin/home/Administrator/buildbot/worker/package_win64/build/usr/share/julia/stdlib/v1.1/LinearAlgebra/src/special.jl\" target=\"_blank\">C:\\cygwin\\home\\Administrator\\buildbot\\worker\\package_win64\\build\\usr\\share\\julia\\stdlib\\v1.1\\LinearAlgebra\\src\\special.jl:88</a></li> <li> +(A::<b>LinearAlgebra.Bidiagonal</b>, B::<b>Array{T,2} where T</b>) in LinearAlgebra at <a href=\"file://C:/cygwin/home/Administrator/buildbot/worker/package_win64/build/usr/share/julia/stdlib/v1.1/LinearAlgebra/src/special.jl\" target=\"_blank\">C:\\cygwin\\home\\Administrator\\buildbot\\worker\\package_win64\\build\\usr\\share\\julia\\stdlib\\v1.1\\LinearAlgebra\\src\\special.jl:87</a></li> <li> +(A::<b>LinearAlgebra.Tridiagonal</b>, B::<b>Array{T,2} where T</b>) in LinearAlgebra at <a href=\"file://C:/cygwin/home/Administrator/buildbot/worker/package_win64/build/usr/share/julia/stdlib/v1.1/LinearAlgebra/src/special.jl\" target=\"_blank\">C:\\cygwin\\home\\Administrator\\buildbot\\worker\\package_win64\\build\\usr\\share\\julia\\stdlib\\v1.1\\LinearAlgebra\\src\\special.jl:87</a></li> <li> +(A::<b>LinearAlgebra.SymTridiagonal</b>, B::<b>LinearAlgebra.Tridiagonal</b>) in LinearAlgebra at <a href=\"file://C:/cygwin/home/Administrator/buildbot/worker/package_win64/build/usr/share/julia/stdlib/v1.1/LinearAlgebra/src/special.jl\" target=\"_blank\">C:\\cygwin\\home\\Administrator\\buildbot\\worker\\package_win64\\build\\usr\\share\\julia\\stdlib\\v1.1\\LinearAlgebra\\src\\special.jl:96</a></li> <li> +(A::<b>LinearAlgebra.Tridiagonal</b>, B::<b>LinearAlgebra.SymTridiagonal</b>) in LinearAlgebra at <a href=\"file://C:/cygwin/home/Administrator/buildbot/worker/package_win64/build/usr/share/julia/stdlib/v1.1/LinearAlgebra/src/special.jl\" target=\"_blank\">C:\\cygwin\\home\\Administrator\\buildbot\\worker\\package_win64\\build\\usr\\share\\julia\\stdlib\\v1.1\\LinearAlgebra\\src\\special.jl:97</a></li> <li> +(A::<b>LinearAlgebra.SymTridiagonal</b>, B::<b>Array{T,2} where T</b>) in LinearAlgebra at <a href=\"file://C:/cygwin/home/Administrator/buildbot/worker/package_win64/build/usr/share/julia/stdlib/v1.1/LinearAlgebra/src/special.jl\" target=\"_blank\">C:\\cygwin\\home\\Administrator\\buildbot\\worker\\package_win64\\build\\usr\\share\\julia\\stdlib\\v1.1\\LinearAlgebra\\src\\special.jl:96</a></li> <li> +(A::<b>LinearAlgebra.Diagonal</b>, B::<b>LinearAlgebra.SymTridiagonal</b>) in LinearAlgebra at <a href=\"file://C:/cygwin/home/Administrator/buildbot/worker/package_win64/build/usr/share/julia/stdlib/v1.1/LinearAlgebra/src/special.jl\" target=\"_blank\">C:\\cygwin\\home\\Administrator\\buildbot\\worker\\package_win64\\build\\usr\\share\\julia\\stdlib\\v1.1\\LinearAlgebra\\src\\special.jl:105</a></li> <li> +(A::<b>LinearAlgebra.SymTridiagonal</b>, B::<b>LinearAlgebra.Diagonal</b>) in LinearAlgebra at <a href=\"file://C:/cygwin/home/Administrator/buildbot/worker/package_win64/build/usr/share/julia/stdlib/v1.1/LinearAlgebra/src/special.jl\" target=\"_blank\">C:\\cygwin\\home\\Administrator\\buildbot\\worker\\package_win64\\build\\usr\\share\\julia\\stdlib\\v1.1\\LinearAlgebra\\src\\special.jl:106</a></li> <li> +(A::<b>LinearAlgebra.Bidiagonal</b>, B::<b>LinearAlgebra.SymTridiagonal</b>) in LinearAlgebra at <a href=\"file://C:/cygwin/home/Administrator/buildbot/worker/package_win64/build/usr/share/julia/stdlib/v1.1/LinearAlgebra/src/special.jl\" target=\"_blank\">C:\\cygwin\\home\\Administrator\\buildbot\\worker\\package_win64\\build\\usr\\share\\julia\\stdlib\\v1.1\\LinearAlgebra\\src\\special.jl:105</a></li> <li> +(A::<b>LinearAlgebra.SymTridiagonal</b>, B::<b>LinearAlgebra.Bidiagonal</b>) in LinearAlgebra at <a href=\"file://C:/cygwin/home/Administrator/buildbot/worker/package_win64/build/usr/share/julia/stdlib/v1.1/LinearAlgebra/src/special.jl\" target=\"_blank\">C:\\cygwin\\home\\Administrator\\buildbot\\worker\\package_win64\\build\\usr\\share\\julia\\stdlib\\v1.1\\LinearAlgebra\\src\\special.jl:106</a></li> <li> +(A::<b>LinearAlgebra.Diagonal</b>, B::<b>LinearAlgebra.UpperTriangular</b>) in LinearAlgebra at <a href=\"file://C:/cygwin/home/Administrator/buildbot/worker/package_win64/build/usr/share/julia/stdlib/v1.1/LinearAlgebra/src/special.jl\" target=\"_blank\">C:\\cygwin\\home\\Administrator\\buildbot\\worker\\package_win64\\build\\usr\\share\\julia\\stdlib\\v1.1\\LinearAlgebra\\src\\special.jl:117</a></li> <li> +(A::<b>LinearAlgebra.UpperTriangular</b>, B::<b>LinearAlgebra.Diagonal</b>) in LinearAlgebra at <a href=\"file://C:/cygwin/home/Administrator/buildbot/worker/package_win64/build/usr/share/julia/stdlib/v1.1/LinearAlgebra/src/special.jl\" target=\"_blank\">C:\\cygwin\\home\\Administrator\\buildbot\\worker\\package_win64\\build\\usr\\share\\julia\\stdlib\\v1.1\\LinearAlgebra\\src\\special.jl:118</a></li> <li> +(A::<b>LinearAlgebra.Diagonal</b>, B::<b>LinearAlgebra.UnitUpperTriangular</b>) in LinearAlgebra at <a href=\"file://C:/cygwin/home/Administrator/buildbot/worker/package_win64/build/usr/share/julia/stdlib/v1.1/LinearAlgebra/src/special.jl\" target=\"_blank\">C:\\cygwin\\home\\Administrator\\buildbot\\worker\\package_win64\\build\\usr\\share\\julia\\stdlib\\v1.1\\LinearAlgebra\\src\\special.jl:117</a></li> <li> +(A::<b>LinearAlgebra.UnitUpperTriangular</b>, B::<b>LinearAlgebra.Diagonal</b>) in LinearAlgebra at <a href=\"file://C:/cygwin/home/Administrator/buildbot/worker/package_win64/build/usr/share/julia/stdlib/v1.1/LinearAlgebra/src/special.jl\" target=\"_blank\">C:\\cygwin\\home\\Administrator\\buildbot\\worker\\package_win64\\build\\usr\\share\\julia\\stdlib\\v1.1\\LinearAlgebra\\src\\special.jl:118</a></li> <li> +(A::<b>LinearAlgebra.Diagonal</b>, B::<b>LinearAlgebra.LowerTriangular</b>) in LinearAlgebra at <a href=\"file://C:/cygwin/home/Administrator/buildbot/worker/package_win64/build/usr/share/julia/stdlib/v1.1/LinearAlgebra/src/special.jl\" target=\"_blank\">C:\\cygwin\\home\\Administrator\\buildbot\\worker\\package_win64\\build\\usr\\share\\julia\\stdlib\\v1.1\\LinearAlgebra\\src\\special.jl:117</a></li> <li> +(A::<b>LinearAlgebra.LowerTriangular</b>, B::<b>LinearAlgebra.Diagonal</b>) in LinearAlgebra at <a href=\"file://C:/cygwin/home/Administrator/buildbot/worker/package_win64/build/usr/share/julia/stdlib/v1.1/LinearAlgebra/src/special.jl\" target=\"_blank\">C:\\cygwin\\home\\Administrator\\buildbot\\worker\\package_win64\\build\\usr\\share\\julia\\stdlib\\v1.1\\LinearAlgebra\\src\\special.jl:118</a></li> <li> +(A::<b>LinearAlgebra.Diagonal</b>, B::<b>LinearAlgebra.UnitLowerTriangular</b>) in LinearAlgebra at <a href=\"file://C:/cygwin/home/Administrator/buildbot/worker/package_win64/build/usr/share/julia/stdlib/v1.1/LinearAlgebra/src/special.jl\" target=\"_blank\">C:\\cygwin\\home\\Administrator\\buildbot\\worker\\package_win64\\build\\usr\\share\\julia\\stdlib\\v1.1\\LinearAlgebra\\src\\special.jl:117</a></li> <li> +(A::<b>LinearAlgebra.UnitLowerTriangular</b>, B::<b>LinearAlgebra.Diagonal</b>) in LinearAlgebra at <a href=\"file://C:/cygwin/home/Administrator/buildbot/worker/package_win64/build/usr/share/julia/stdlib/v1.1/LinearAlgebra/src/special.jl\" target=\"_blank\">C:\\cygwin\\home\\Administrator\\buildbot\\worker\\package_win64\\build\\usr\\share\\julia\\stdlib\\v1.1\\LinearAlgebra\\src\\special.jl:118</a></li> <li> +(A::<b>LinearAlgebra.AbstractTriangular</b>, B::<b>LinearAlgebra.SymTridiagonal</b>) in LinearAlgebra at <a href=\"file://C:/cygwin/home/Administrator/buildbot/worker/package_win64/build/usr/share/julia/stdlib/v1.1/LinearAlgebra/src/special.jl\" target=\"_blank\">C:\\cygwin\\home\\Administrator\\buildbot\\worker\\package_win64\\build\\usr\\share\\julia\\stdlib\\v1.1\\LinearAlgebra\\src\\special.jl:124</a></li> <li> +(A::<b>LinearAlgebra.SymTridiagonal</b>, B::<b>LinearAlgebra.AbstractTriangular</b>) in LinearAlgebra at <a href=\"file://C:/cygwin/home/Administrator/buildbot/worker/package_win64/build/usr/share/julia/stdlib/v1.1/LinearAlgebra/src/special.jl\" target=\"_blank\">C:\\cygwin\\home\\Administrator\\buildbot\\worker\\package_win64\\build\\usr\\share\\julia\\stdlib\\v1.1\\LinearAlgebra\\src\\special.jl:125</a></li> <li> +(A::<b>LinearAlgebra.AbstractTriangular</b>, B::<b>LinearAlgebra.Tridiagonal</b>) in LinearAlgebra at <a href=\"file://C:/cygwin/home/Administrator/buildbot/worker/package_win64/build/usr/share/julia/stdlib/v1.1/LinearAlgebra/src/special.jl\" target=\"_blank\">C:\\cygwin\\home\\Administrator\\buildbot\\worker\\package_win64\\build\\usr\\share\\julia\\stdlib\\v1.1\\LinearAlgebra\\src\\special.jl:124</a></li> <li> +(A::<b>LinearAlgebra.Tridiagonal</b>, B::<b>LinearAlgebra.AbstractTriangular</b>) in LinearAlgebra at <a href=\"file://C:/cygwin/home/Administrator/buildbot/worker/package_win64/build/usr/share/julia/stdlib/v1.1/LinearAlgebra/src/special.jl\" target=\"_blank\">C:\\cygwin\\home\\Administrator\\buildbot\\worker\\package_win64\\build\\usr\\share\\julia\\stdlib\\v1.1\\LinearAlgebra\\src\\special.jl:125</a></li> <li> +(A::<b>LinearAlgebra.AbstractTriangular</b>, B::<b>LinearAlgebra.Bidiagonal</b>) in LinearAlgebra at <a href=\"file://C:/cygwin/home/Administrator/buildbot/worker/package_win64/build/usr/share/julia/stdlib/v1.1/LinearAlgebra/src/special.jl\" target=\"_blank\">C:\\cygwin\\home\\Administrator\\buildbot\\worker\\package_win64\\build\\usr\\share\\julia\\stdlib\\v1.1\\LinearAlgebra\\src\\special.jl:124</a></li> <li> +(A::<b>LinearAlgebra.Bidiagonal</b>, B::<b>LinearAlgebra.AbstractTriangular</b>) in LinearAlgebra at <a href=\"file://C:/cygwin/home/Administrator/buildbot/worker/package_win64/build/usr/share/julia/stdlib/v1.1/LinearAlgebra/src/special.jl\" target=\"_blank\">C:\\cygwin\\home\\Administrator\\buildbot\\worker\\package_win64\\build\\usr\\share\\julia\\stdlib\\v1.1\\LinearAlgebra\\src\\special.jl:125</a></li> <li> +(A::<b>LinearAlgebra.AbstractTriangular</b>, B::<b>Array{T,2} where T</b>) in LinearAlgebra at <a href=\"file://C:/cygwin/home/Administrator/buildbot/worker/package_win64/build/usr/share/julia/stdlib/v1.1/LinearAlgebra/src/special.jl\" target=\"_blank\">C:\\cygwin\\home\\Administrator\\buildbot\\worker\\package_win64\\build\\usr\\share\\julia\\stdlib\\v1.1\\LinearAlgebra\\src\\special.jl:124</a></li> <li> +(A::<b>SparseArrays.SparseMatrixCSC</b>, B::<b>SparseArrays.SparseMatrixCSC</b>) in SparseArrays at <a href=\"file://C:/cygwin/home/Administrator/buildbot/worker/package_win64/build/usr/share/julia/stdlib/v1.1/SparseArrays/src/sparsematrix.jl\" target=\"_blank\">C:\\cygwin\\home\\Administrator\\buildbot\\worker\\package_win64\\build\\usr\\share\\julia\\stdlib\\v1.1\\SparseArrays\\src\\sparsematrix.jl:1576</a></li> <li> +(A::<b>SparseArrays.SparseMatrixCSC</b>, B::<b>Array</b>) in SparseArrays at <a href=\"file://C:/cygwin/home/Administrator/buildbot/worker/package_win64/build/usr/share/julia/stdlib/v1.1/SparseArrays/src/sparsematrix.jl\" target=\"_blank\">C:\\cygwin\\home\\Administrator\\buildbot\\worker\\package_win64\\build\\usr\\share\\julia\\stdlib\\v1.1\\SparseArrays\\src\\sparsematrix.jl:1579</a></li> <li> +(x::<b>SparseArrays.AbstractSparseArray{Tv,Ti,1} where Ti where Tv</b>, y::<b>SparseArrays.AbstractSparseArray{Tv,Ti,1} where Ti where Tv</b>) in SparseArrays at <a href=\"file://C:/cygwin/home/Administrator/buildbot/worker/package_win64/build/usr/share/julia/stdlib/v1.1/SparseArrays/src/sparsevector.jl\" target=\"_blank\">C:\\cygwin\\home\\Administrator\\buildbot\\worker\\package_win64\\build\\usr\\share\\julia\\stdlib\\v1.1\\SparseArrays\\src\\sparsevector.jl:1292</a></li> <li> +(x::<b>AbstractArray{#s72,N} where N where #s72<:Number</b>) in Base at <a href=\"https://github.com/JuliaLang/julia/tree/80516ca20297a67b996caa08c38786332379b6a5/base/abstractarraymath.jl#L98\" target=\"_blank\">abstractarraymath.jl:98</a></li> <li> +(A::<b>AbstractArray</b>, B::<b>AbstractArray</b>) in Base at <a href=\"https://github.com/JuliaLang/julia/tree/80516ca20297a67b996caa08c38786332379b6a5/base/arraymath.jl#L38\" target=\"_blank\">arraymath.jl:38</a></li> <li> +<i>{T<:AbstractChar}</i>(x::<b>T</b>, y::<b>Integer</b>) in Base at <a href=\"https://github.com/JuliaLang/julia/tree/80516ca20297a67b996caa08c38786332379b6a5/base/char.jl#L223\" target=\"_blank\">char.jl:223</a></li> <li> +<i>{N}</i>(index1::<b>CartesianIndex{N}</b>, index2::<b>CartesianIndex{N}</b>) in Base.IteratorsMD at <a href=\"https://github.com/JuliaLang/julia/tree/80516ca20297a67b996caa08c38786332379b6a5/base/multidimensional.jl#L107\" target=\"_blank\">multidimensional.jl:107</a></li> <li> +(::<b>Number</b>, ::<b>Missing</b>) in Base at <a href=\"https://github.com/JuliaLang/julia/tree/80516ca20297a67b996caa08c38786332379b6a5/base/missing.jl#L98\" target=\"_blank\">missing.jl:98</a></li> <li> +<i>{P<:Period}</i>(x::<b>P</b>, y::<b>P</b>) in Dates at <a href=\"file://C:/cygwin/home/Administrator/buildbot/worker/package_win64/build/usr/share/julia/stdlib/v1.1/Dates/src/periods.jl\" target=\"_blank\">C:\\cygwin\\home\\Administrator\\buildbot\\worker\\package_win64\\build\\usr\\share\\julia\\stdlib\\v1.1\\Dates\\src\\periods.jl:75</a></li> <li> +(x::<b>Dates.Period</b>, y::<b>Dates.Period</b>) in Dates at <a href=\"file://C:/cygwin/home/Administrator/buildbot/worker/package_win64/build/usr/share/julia/stdlib/v1.1/Dates/src/periods.jl\" target=\"_blank\">C:\\cygwin\\home\\Administrator\\buildbot\\worker\\package_win64\\build\\usr\\share\\julia\\stdlib\\v1.1\\Dates\\src\\periods.jl:340</a></li> <li> +(y::<b>Dates.Period</b>, x::<b>Dates.CompoundPeriod</b>) in Dates at <a href=\"file://C:/cygwin/home/Administrator/buildbot/worker/package_win64/build/usr/share/julia/stdlib/v1.1/Dates/src/periods.jl\" target=\"_blank\">C:\\cygwin\\home\\Administrator\\buildbot\\worker\\package_win64\\build\\usr\\share\\julia\\stdlib\\v1.1\\Dates\\src\\periods.jl:342</a></li> <li> +(x::<b>Union{CompoundPeriod, Period}</b>) in Dates at <a href=\"file://C:/cygwin/home/Administrator/buildbot/worker/package_win64/build/usr/share/julia/stdlib/v1.1/Dates/src/periods.jl\" target=\"_blank\">C:\\cygwin\\home\\Administrator\\buildbot\\worker\\package_win64\\build\\usr\\share\\julia\\stdlib\\v1.1\\Dates\\src\\periods.jl:351</a></li> <li> +(x::<b>Dates.TimeType</b>) in Dates at <a href=\"file://C:/cygwin/home/Administrator/buildbot/worker/package_win64/build/usr/share/julia/stdlib/v1.1/Dates/src/arithmetic.jl\" target=\"_blank\">C:\\cygwin\\home\\Administrator\\buildbot\\worker\\package_win64\\build\\usr\\share\\julia\\stdlib\\v1.1\\Dates\\src\\arithmetic.jl:8</a></li> <li> +(a::<b>Dates.TimeType</b>, b::<b>Dates.Period</b>, c::<b>Dates.Period</b>) in Dates at <a href=\"file://C:/cygwin/home/Administrator/buildbot/worker/package_win64/build/usr/share/julia/stdlib/v1.1/Dates/src/periods.jl\" target=\"_blank\">C:\\cygwin\\home\\Administrator\\buildbot\\worker\\package_win64\\build\\usr\\share\\julia\\stdlib\\v1.1\\Dates\\src\\periods.jl:362</a></li> <li> +(a::<b>Dates.TimeType</b>, b::<b>Dates.Period</b>, c::<b>Dates.Period</b>, d::<b>Dates.Period...</b>) in Dates at <a href=\"file://C:/cygwin/home/Administrator/buildbot/worker/package_win64/build/usr/share/julia/stdlib/v1.1/Dates/src/periods.jl\" target=\"_blank\">C:\\cygwin\\home\\Administrator\\buildbot\\worker\\package_win64\\build\\usr\\share\\julia\\stdlib\\v1.1\\Dates\\src\\periods.jl:363</a></li> <li> +(x::<b>Dates.TimeType</b>, y::<b>Dates.CompoundPeriod</b>) in Dates at <a href=\"file://C:/cygwin/home/Administrator/buildbot/worker/package_win64/build/usr/share/julia/stdlib/v1.1/Dates/src/periods.jl\" target=\"_blank\">C:\\cygwin\\home\\Administrator\\buildbot\\worker\\package_win64\\build\\usr\\share\\julia\\stdlib\\v1.1\\Dates\\src\\periods.jl:366</a></li> <li> +(x::<b>Dates.Instant</b>) in Dates at <a href=\"file://C:/cygwin/home/Administrator/buildbot/worker/package_win64/build/usr/share/julia/stdlib/v1.1/Dates/src/arithmetic.jl\" target=\"_blank\">C:\\cygwin\\home\\Administrator\\buildbot\\worker\\package_win64\\build\\usr\\share\\julia\\stdlib\\v1.1\\Dates\\src\\arithmetic.jl:4</a></li> <li> +(y::<b>Dates.Period</b>, x::<b>Dates.TimeType</b>) in Dates at <a href=\"file://C:/cygwin/home/Administrator/buildbot/worker/package_win64/build/usr/share/julia/stdlib/v1.1/Dates/src/arithmetic.jl\" target=\"_blank\">C:\\cygwin\\home\\Administrator\\buildbot\\worker\\package_win64\\build\\usr\\share\\julia\\stdlib\\v1.1\\Dates\\src\\arithmetic.jl:80</a></li> <li> +(x::<b>Dates.Period</b>, r::<b>AbstractRange{#s623} where #s623<:Dates.TimeType</b>) in Dates at <a href=\"file://C:/cygwin/home/Administrator/buildbot/worker/package_win64/build/usr/share/julia/stdlib/v1.1/Dates/src/ranges.jl\" target=\"_blank\">C:\\cygwin\\home\\Administrator\\buildbot\\worker\\package_win64\\build\\usr\\share\\julia\\stdlib\\v1.1\\Dates\\src\\ranges.jl:58</a></li> <li> +(x::<b>AbstractArray{#s623,N} where N where #s623<:Dates.TimeType</b>, y::<b>Union{CompoundPeriod, Period}</b>) in Dates at <a href=\"file://C:/cygwin/home/Administrator/buildbot/worker/package_win64/build/usr/share/julia/stdlib/v1.1/Dates/src/deprecated.jl\" target=\"_blank\">C:\\cygwin\\home\\Administrator\\buildbot\\worker\\package_win64\\build\\usr\\share\\julia\\stdlib\\v1.1\\Dates\\src\\deprecated.jl:8</a></li> <li> +(y::<b>Union{CompoundPeriod, Period}</b>, x::<b>AbstractArray{#s623,N} where N where #s623<:Dates.TimeType</b>) in Dates at <a href=\"file://C:/cygwin/home/Administrator/buildbot/worker/package_win64/build/usr/share/julia/stdlib/v1.1/Dates/src/deprecated.jl\" target=\"_blank\">C:\\cygwin\\home\\Administrator\\buildbot\\worker\\package_win64\\build\\usr\\share\\julia\\stdlib\\v1.1\\Dates\\src\\deprecated.jl:16</a></li> <li> +(y::<b>Dates.TimeType</b>, x::<b>Union{DenseArray{#s623,N}, ReinterpretArray{#s623,N,S,A} where S where A<:Union{SubArray{T,N,A,I,true} where I<:Union{Tuple{Vararg{Real,N} where N}, Tuple{AbstractUnitRange,Vararg{Any,N} where N}} where A<:DenseArray where N where T, DenseArray}, ReshapedArray{#s623,N,A,MI} where MI<:Tuple{Vararg{SignedMultiplicativeInverse{Int64},N} where N} where A<:Union{ReinterpretArray{T,N,S,A} where S where A<:Union{SubArray{T,N,A,I,true} where I<:Union{Tuple{Vararg{Real,N} where N}, Tuple{AbstractUnitRange,Vararg{Any,N} where N}} where A<:DenseArray where N where T, DenseArray} where N where T, SubArray{T,N,A,I,true} where I<:Union{Tuple{Vararg{Real,N} where N}, Tuple{AbstractUnitRange,Vararg{Any,N} where N}} where A<:DenseArray where N where T, DenseArray}, SubArray{#s623,N,A,I,L} where L where I<:Tuple{Vararg{Union{Int64, AbstractRange{Int64}, AbstractCartesianIndex},N} where N} where A<:Union{ReinterpretArray{T,N,S,A} where S where A<:Union{SubArray{T,N,A,I,true} where I<:Union{Tuple{Vararg{Real,N} where N}, Tuple{AbstractUnitRange,Vararg{Any,N} where N}} where A<:DenseArray where N where T, DenseArray} where N where T, ReshapedArray{T,N,A,MI} where MI<:Tuple{Vararg{SignedMultiplicativeInverse{Int64},N} where N} where A<:Union{ReinterpretArray{T,N,S,A} where S where A<:Union{SubArray{T,N,A,I,true} where I<:Union{Tuple{Vararg{Real,N} where N}, Tuple{AbstractUnitRange,Vararg{Any,N} where N}} where A<:DenseArray where N where T, DenseArray} where N where T, SubArray{T,N,A,I,true} where I<:Union{Tuple{Vararg{Real,N} where N}, Tuple{AbstractUnitRange,Vararg{Any,N} where N}} where A<:DenseArray where N where T, DenseArray} where N where T, DenseArray}} where N where #s623<:Union{CompoundPeriod, Period}</b>) in Dates at <a href=\"file://C:/cygwin/home/Administrator/buildbot/worker/package_win64/build/usr/share/julia/stdlib/v1.1/Dates/src/deprecated.jl\" target=\"_blank\">C:\\cygwin\\home\\Administrator\\buildbot\\worker\\package_win64\\build\\usr\\share\\julia\\stdlib\\v1.1\\Dates\\src\\deprecated.jl:20</a></li> <li> +(J::<b>LinearAlgebra.UniformScaling</b>, x::<b>Number</b>) in LinearAlgebra at <a href=\"file://C:/cygwin/home/Administrator/buildbot/worker/package_win64/build/usr/share/julia/stdlib/v1.1/LinearAlgebra/src/uniformscaling.jl\" target=\"_blank\">C:\\cygwin\\home\\Administrator\\buildbot\\worker\\package_win64\\build\\usr\\share\\julia\\stdlib\\v1.1\\LinearAlgebra\\src\\uniformscaling.jl:84</a></li> <li> +(x::<b>Number</b>, J::<b>LinearAlgebra.UniformScaling</b>) in LinearAlgebra at <a href=\"file://C:/cygwin/home/Administrator/buildbot/worker/package_win64/build/usr/share/julia/stdlib/v1.1/LinearAlgebra/src/uniformscaling.jl\" target=\"_blank\">C:\\cygwin\\home\\Administrator\\buildbot\\worker\\package_win64\\build\\usr\\share\\julia\\stdlib\\v1.1\\LinearAlgebra\\src\\uniformscaling.jl:85</a></li> <li> +(J1::<b>LinearAlgebra.UniformScaling</b>, J2::<b>LinearAlgebra.UniformScaling</b>) in LinearAlgebra at <a href=\"file://C:/cygwin/home/Administrator/buildbot/worker/package_win64/build/usr/share/julia/stdlib/v1.1/LinearAlgebra/src/uniformscaling.jl\" target=\"_blank\">C:\\cygwin\\home\\Administrator\\buildbot\\worker\\package_win64\\build\\usr\\share\\julia\\stdlib\\v1.1\\LinearAlgebra\\src\\uniformscaling.jl:89</a></li> <li> +(J::<b>LinearAlgebra.UniformScaling</b>, B::<b>BitArray{2}</b>) in LinearAlgebra at <a href=\"file://C:/cygwin/home/Administrator/buildbot/worker/package_win64/build/usr/share/julia/stdlib/v1.1/LinearAlgebra/src/uniformscaling.jl\" target=\"_blank\">C:\\cygwin\\home\\Administrator\\buildbot\\worker\\package_win64\\build\\usr\\share\\julia\\stdlib\\v1.1\\LinearAlgebra\\src\\uniformscaling.jl:91</a></li> <li> +(J::<b>LinearAlgebra.UniformScaling</b>, A::<b>AbstractArray{T,2} where T</b>) in LinearAlgebra at <a href=\"file://C:/cygwin/home/Administrator/buildbot/worker/package_win64/build/usr/share/julia/stdlib/v1.1/LinearAlgebra/src/uniformscaling.jl\" target=\"_blank\">C:\\cygwin\\home\\Administrator\\buildbot\\worker\\package_win64\\build\\usr\\share\\julia\\stdlib\\v1.1\\LinearAlgebra\\src\\uniformscaling.jl:92</a></li> <li> +(a, b, c, xs...) in Base at <a href=\"https://github.com/JuliaLang/julia/tree/80516ca20297a67b996caa08c38786332379b6a5/base/operators.jl#L502\" target=\"_blank\">operators.jl:502</a></li> </ul>"
      ],
      "text/plain": [
       "# 163 methods for generic function \"+\":\n",
       "[1] +(x::Bool, z::Complex{Bool}) in Base at complex.jl:277\n",
       "[2] +(x::Bool, y::Bool) in Base at bool.jl:104\n",
       "[3] +(x::Bool) in Base at bool.jl:101\n",
       "[4] +(x::Bool, y::T) where T<:AbstractFloat in Base at bool.jl:112\n",
       "[5] +(x::Bool, z::Complex) in Base at complex.jl:284\n",
       "[6] +(a::Float16, b::Float16) in Base at float.jl:392\n",
       "[7] +(x::Float32, y::Float32) in Base at float.jl:394\n",
       "[8] +(x::Float64, y::Float64) in Base at float.jl:395\n",
       "[9] +(z::Complex{Bool}, x::Bool) in Base at complex.jl:278\n",
       "[10] +(z::Complex{Bool}, x::Real) in Base at complex.jl:292\n",
       "[11] +(::Missing, ::Missing) in Base at missing.jl:96\n",
       "[12] +(::Missing) in Base at missing.jl:83\n",
       "[13] +(::Missing, ::Number) in Base at missing.jl:97\n",
       "[14] +(level::Base.CoreLogging.LogLevel, inc::Integer) in Base.CoreLogging at logging.jl:106\n",
       "[15] +(c::BigInt, x::BigFloat) in Base.MPFR at mpfr.jl:406\n",
       "[16] +(a::BigInt, b::BigInt, c::BigInt, d::BigInt, e::BigInt) in Base.GMP at gmp.jl:434\n",
       "[17] +(a::BigInt, b::BigInt, c::BigInt, d::BigInt) in Base.GMP at gmp.jl:433\n",
       "[18] +(a::BigInt, b::BigInt, c::BigInt) in Base.GMP at gmp.jl:432\n",
       "[19] +(x::BigInt, y::BigInt) in Base.GMP at gmp.jl:403\n",
       "[20] +(x::BigInt, c::Union{UInt16, UInt32, UInt8}) in Base.GMP at gmp.jl:440\n",
       "[21] +(x::BigInt, c::Union{Int16, Int32, Int8}) in Base.GMP at gmp.jl:446\n",
       "[22] +(a::BigFloat, b::BigFloat, c::BigFloat, d::BigFloat, e::BigFloat) in Base.MPFR at mpfr.jl:556\n",
       "[23] +(a::BigFloat, b::BigFloat, c::BigFloat, d::BigFloat) in Base.MPFR at mpfr.jl:549\n",
       "[24] +(a::BigFloat, b::BigFloat, c::BigFloat) in Base.MPFR at mpfr.jl:543\n",
       "[25] +(x::BigFloat, c::BigInt) in Base.MPFR at mpfr.jl:402\n",
       "[26] +(x::BigFloat, y::BigFloat) in Base.MPFR at mpfr.jl:371\n",
       "[27] +(x::BigFloat, c::Union{UInt16, UInt32, UInt8}) in Base.MPFR at mpfr.jl:378\n",
       "[28] +(x::BigFloat, c::Union{Int16, Int32, Int8}) in Base.MPFR at mpfr.jl:386\n",
       "[29] +(x::BigFloat, c::Union{Float16, Float32, Float64}) in Base.MPFR at mpfr.jl:394\n",
       "[30] +(x::Dates.CompoundPeriod, y::Dates.CompoundPeriod) in Dates at C:\\cygwin\\home\\Administrator\\buildbot\\worker\\package_win64\\build\\usr\\share\\julia\\stdlib\\v1.1\\Dates\\src\\periods.jl:343\n",
       "[31] +(x::Dates.CompoundPeriod, y::Dates.Period) in Dates at C:\\cygwin\\home\\Administrator\\buildbot\\worker\\package_win64\\build\\usr\\share\\julia\\stdlib\\v1.1\\Dates\\src\\periods.jl:341\n",
       "[32] +(x::Dates.CompoundPeriod, y::Dates.TimeType) in Dates at C:\\cygwin\\home\\Administrator\\buildbot\\worker\\package_win64\\build\\usr\\share\\julia\\stdlib\\v1.1\\Dates\\src\\periods.jl:371\n",
       "[33] +(x::Dates.Date, y::Dates.Day) in Dates at C:\\cygwin\\home\\Administrator\\buildbot\\worker\\package_win64\\build\\usr\\share\\julia\\stdlib\\v1.1\\Dates\\src\\arithmetic.jl:74\n",
       "[34] +(x::Dates.Date, y::Dates.Week) in Dates at C:\\cygwin\\home\\Administrator\\buildbot\\worker\\package_win64\\build\\usr\\share\\julia\\stdlib\\v1.1\\Dates\\src\\arithmetic.jl:72\n",
       "[35] +(dt::Dates.Date, z::Dates.Month) in Dates at C:\\cygwin\\home\\Administrator\\buildbot\\worker\\package_win64\\build\\usr\\share\\julia\\stdlib\\v1.1\\Dates\\src\\arithmetic.jl:55\n",
       "[36] +(dt::Dates.Date, y::Dates.Year) in Dates at C:\\cygwin\\home\\Administrator\\buildbot\\worker\\package_win64\\build\\usr\\share\\julia\\stdlib\\v1.1\\Dates\\src\\arithmetic.jl:28\n",
       "[37] +(dt::Dates.Date, t::Dates.Time) in Dates at C:\\cygwin\\home\\Administrator\\buildbot\\worker\\package_win64\\build\\usr\\share\\julia\\stdlib\\v1.1\\Dates\\src\\arithmetic.jl:19\n",
       "[38] +(t::Dates.Time, dt::Dates.Date) in Dates at C:\\cygwin\\home\\Administrator\\buildbot\\worker\\package_win64\\build\\usr\\share\\julia\\stdlib\\v1.1\\Dates\\src\\arithmetic.jl:20\n",
       "[39] +(x::Dates.Time, y::Dates.TimePeriod) in Dates at C:\\cygwin\\home\\Administrator\\buildbot\\worker\\package_win64\\build\\usr\\share\\julia\\stdlib\\v1.1\\Dates\\src\\arithmetic.jl:78\n",
       "[40] +(dt::Dates.DateTime, z::Dates.Month) in Dates at C:\\cygwin\\home\\Administrator\\buildbot\\worker\\package_win64\\build\\usr\\share\\julia\\stdlib\\v1.1\\Dates\\src\\arithmetic.jl:48\n",
       "[41] +(dt::Dates.DateTime, y::Dates.Year) in Dates at C:\\cygwin\\home\\Administrator\\buildbot\\worker\\package_win64\\build\\usr\\share\\julia\\stdlib\\v1.1\\Dates\\src\\arithmetic.jl:24\n",
       "[42] +(x::Dates.DateTime, y::Dates.Period) in Dates at C:\\cygwin\\home\\Administrator\\buildbot\\worker\\package_win64\\build\\usr\\share\\julia\\stdlib\\v1.1\\Dates\\src\\arithmetic.jl:76\n",
       "[43] +(B::BitArray{2}, J::LinearAlgebra.UniformScaling) in LinearAlgebra at C:\\cygwin\\home\\Administrator\\buildbot\\worker\\package_win64\\build\\usr\\share\\julia\\stdlib\\v1.1\\LinearAlgebra\\src\\uniformscaling.jl:90\n",
       "[44] +(a::Pkg.Resolve.VersionWeights.VersionWeight, b::Pkg.Resolve.VersionWeights.VersionWeight) in Pkg.Resolve.VersionWeights at C:\\cygwin\\home\\Administrator\\buildbot\\worker\\package_win64\\build\\usr\\share\\julia\\stdlib\\v1.1\\Pkg\\src\\resolve\\VersionWeights.jl:26\n",
       "[45] +(a::Pkg.Resolve.MaxSum.FieldValues.FieldValue, b::Pkg.Resolve.MaxSum.FieldValues.FieldValue) in Pkg.Resolve.MaxSum.FieldValues at C:\\cygwin\\home\\Administrator\\buildbot\\worker\\package_win64\\build\\usr\\share\\julia\\stdlib\\v1.1\\Pkg\\src\\resolve\\FieldValues.jl:49\n",
       "[46] +(y::AbstractFloat, x::Bool) in Base at bool.jl:114\n",
       "[47] +(x::T, y::T) where T<:Union{Int128, Int16, Int32, Int64, Int8, UInt128, UInt16, UInt32, UInt64, UInt8} in Base at int.jl:53\n",
       "[48] +(c::Union{UInt16, UInt32, UInt8}, x::BigInt) in Base.GMP at gmp.jl:441\n",
       "[49] +(c::Union{Int16, Int32, Int8}, x::BigInt) in Base.GMP at gmp.jl:447\n",
       "[50] +(a::Integer, b::Integer) in Base at int.jl:797\n",
       "[51] +(x::Integer, y::Ptr) in Base at pointer.jl:157\n",
       "[52] +(z::Complex, w::Complex) in Base at complex.jl:266\n",
       "[53] +(z::Complex, x::Bool) in Base at complex.jl:285\n",
       "[54] +(x::Real, z::Complex{Bool}) in Base at complex.jl:291\n",
       "[55] +(x::Real, z::Complex) in Base at complex.jl:303\n",
       "[56] +(z::Complex, x::Real) in Base at complex.jl:304\n",
       "[57] +(x::Rational, y::Rational) in Base at rational.jl:252\n",
       "[58] +(x::Integer, y::AbstractChar) in Base at char.jl:224\n",
       "[59] +(c::Union{UInt16, UInt32, UInt8}, x::BigFloat) in Base.MPFR at mpfr.jl:382\n",
       "[60] +(c::Union{Int16, Int32, Int8}, x::BigFloat) in Base.MPFR at mpfr.jl:390\n",
       "[61] +(c::Union{Float16, Float32, Float64}, x::BigFloat) in Base.MPFR at mpfr.jl:398\n",
       "[62] +(x::AbstractIrrational, y::AbstractIrrational) in Base at irrationals.jl:133\n",
       "[63] +(x::Number) in Base at operators.jl:477\n",
       "[64] +(x::T, y::T) where T<:Number in Base at promotion.jl:389\n",
       "[65] +(x::Number, y::Number) in Base at promotion.jl:313\n",
       "[66] +(r1::OrdinalRange, r2::OrdinalRange) in Base at range.jl:1003\n",
       "[67] +(r1::LinRange{T}, r2::LinRange{T}) where T in Base at range.jl:1010\n",
       "[68] +(r1::StepRangeLen{T,R,S} where S, r2::StepRangeLen{T,R,S} where S) where {R<:TwicePrecision, T} in Base at twiceprecision.jl:557\n",
       "[69] +(r1::StepRangeLen{T,S,S1} where S1, r2::StepRangeLen{T,S,S1} where S1) where {T, S} in Base at range.jl:1026\n",
       "[70] +(r1::Union{LinRange, OrdinalRange, StepRangeLen}, r2::Union{LinRange, OrdinalRange, StepRangeLen}) in Base at range.jl:1018\n",
       "[71] +(x::Ptr, y::Integer) in Base at pointer.jl:155\n",
       "[72] +(x::Base.TwicePrecision, y::Number) in Base at twiceprecision.jl:265\n",
       "[73] +(x::Number, y::Base.TwicePrecision) in Base at twiceprecision.jl:268\n",
       "[74] +(x::Base.TwicePrecision{T}, y::Base.TwicePrecision{T}) where T in Base at twiceprecision.jl:271\n",
       "[75] +(x::Base.TwicePrecision, y::Base.TwicePrecision) in Base at twiceprecision.jl:275\n",
       "[76] +(A::Array, Bs::Array...) in Base at arraymath.jl:44\n",
       "[77] +(A::BitArray, B::BitArray) in Base at bitarray.jl:1084\n",
       "[78] +(r::AbstractRange{#s623} where #s623<:Dates.TimeType, x::Dates.Period) in Dates at C:\\cygwin\\home\\Administrator\\buildbot\\worker\\package_win64\\build\\usr\\share\\julia\\stdlib\\v1.1\\Dates\\src\\ranges.jl:59\n",
       "[79] +(A::Array{T,2} where T, B::LinearAlgebra.Diagonal) in LinearAlgebra at C:\\cygwin\\home\\Administrator\\buildbot\\worker\\package_win64\\build\\usr\\share\\julia\\stdlib\\v1.1\\LinearAlgebra\\src\\special.jl:88\n",
       "[80] +(A::Array{T,2} where T, B::LinearAlgebra.Bidiagonal) in LinearAlgebra at C:\\cygwin\\home\\Administrator\\buildbot\\worker\\package_win64\\build\\usr\\share\\julia\\stdlib\\v1.1\\LinearAlgebra\\src\\special.jl:88\n",
       "[81] +(A::Array{T,2} where T, B::LinearAlgebra.Tridiagonal) in LinearAlgebra at C:\\cygwin\\home\\Administrator\\buildbot\\worker\\package_win64\\build\\usr\\share\\julia\\stdlib\\v1.1\\LinearAlgebra\\src\\special.jl:88\n",
       "[82] +(A::Array{T,2} where T, B::LinearAlgebra.SymTridiagonal) in LinearAlgebra at C:\\cygwin\\home\\Administrator\\buildbot\\worker\\package_win64\\build\\usr\\share\\julia\\stdlib\\v1.1\\LinearAlgebra\\src\\special.jl:97\n",
       "[83] +(A::Array{T,2} where T, B::LinearAlgebra.AbstractTriangular) in LinearAlgebra at C:\\cygwin\\home\\Administrator\\buildbot\\worker\\package_win64\\build\\usr\\share\\julia\\stdlib\\v1.1\\LinearAlgebra\\src\\special.jl:125\n",
       "[84] +(A::Array, B::SparseArrays.SparseMatrixCSC) in SparseArrays at C:\\cygwin\\home\\Administrator\\buildbot\\worker\\package_win64\\build\\usr\\share\\julia\\stdlib\\v1.1\\SparseArrays\\src\\sparsematrix.jl:1580\n",
       "[85] +(x::Union{DenseArray{#s623,N}, ReinterpretArray{#s623,N,S,A} where S where A<:Union{SubArray{T,N,A,I,true} where I<:Union{Tuple{Vararg{Real,N} where N}, Tuple{AbstractUnitRange,Vararg{Any,N} where N}} where A<:DenseArray where N where T, DenseArray}, ReshapedArray{#s623,N,A,MI} where MI<:Tuple{Vararg{SignedMultiplicativeInverse{Int64},N} where N} where A<:Union{ReinterpretArray{T,N,S,A} where S where A<:Union{SubArray{T,N,A,I,true} where I<:Union{Tuple{Vararg{Real,N} where N}, Tuple{AbstractUnitRange,Vararg{Any,N} where N}} where A<:DenseArray where N where T, DenseArray} where N where T, SubArray{T,N,A,I,true} where I<:Union{Tuple{Vararg{Real,N} where N}, Tuple{AbstractUnitRange,Vararg{Any,N} where N}} where A<:DenseArray where N where T, DenseArray}, SubArray{#s623,N,A,I,L} where L where I<:Tuple{Vararg{Union{Int64, AbstractRange{Int64}, AbstractCartesianIndex},N} where N} where A<:Union{ReinterpretArray{T,N,S,A} where S where A<:Union{SubArray{T,N,A,I,true} where I<:Union{Tuple{Vararg{Real,N} where N}, Tuple{AbstractUnitRange,Vararg{Any,N} where N}} where A<:DenseArray where N where T, DenseArray} where N where T, ReshapedArray{T,N,A,MI} where MI<:Tuple{Vararg{SignedMultiplicativeInverse{Int64},N} where N} where A<:Union{ReinterpretArray{T,N,S,A} where S where A<:Union{SubArray{T,N,A,I,true} where I<:Union{Tuple{Vararg{Real,N} where N}, Tuple{AbstractUnitRange,Vararg{Any,N} where N}} where A<:DenseArray where N where T, DenseArray} where N where T, SubArray{T,N,A,I,true} where I<:Union{Tuple{Vararg{Real,N} where N}, Tuple{AbstractUnitRange,Vararg{Any,N} where N}} where A<:DenseArray where N where T, DenseArray} where N where T, DenseArray}} where N where #s623<:Union{CompoundPeriod, Period}) in Dates at C:\\cygwin\\home\\Administrator\\buildbot\\worker\\package_win64\\build\\usr\\share\\julia\\stdlib\\v1.1\\Dates\\src\\deprecated.jl:57\n",
       "[86] +(x::Union{DenseArray{#s623,N}, ReinterpretArray{#s623,N,S,A} where S where A<:Union{SubArray{T,N,A,I,true} where I<:Union{Tuple{Vararg{Real,N} where N}, Tuple{AbstractUnitRange,Vararg{Any,N} where N}} where A<:DenseArray where N where T, DenseArray}, ReshapedArray{#s623,N,A,MI} where MI<:Tuple{Vararg{SignedMultiplicativeInverse{Int64},N} where N} where A<:Union{ReinterpretArray{T,N,S,A} where S where A<:Union{SubArray{T,N,A,I,true} where I<:Union{Tuple{Vararg{Real,N} where N}, Tuple{AbstractUnitRange,Vararg{Any,N} where N}} where A<:DenseArray where N where T, DenseArray} where N where T, SubArray{T,N,A,I,true} where I<:Union{Tuple{Vararg{Real,N} where N}, Tuple{AbstractUnitRange,Vararg{Any,N} where N}} where A<:DenseArray where N where T, DenseArray}, SubArray{#s623,N,A,I,L} where L where I<:Tuple{Vararg{Union{Int64, AbstractRange{Int64}, AbstractCartesianIndex},N} where N} where A<:Union{ReinterpretArray{T,N,S,A} where S where A<:Union{SubArray{T,N,A,I,true} where I<:Union{Tuple{Vararg{Real,N} where N}, Tuple{AbstractUnitRange,Vararg{Any,N} where N}} where A<:DenseArray where N where T, DenseArray} where N where T, ReshapedArray{T,N,A,MI} where MI<:Tuple{Vararg{SignedMultiplicativeInverse{Int64},N} where N} where A<:Union{ReinterpretArray{T,N,S,A} where S where A<:Union{SubArray{T,N,A,I,true} where I<:Union{Tuple{Vararg{Real,N} where N}, Tuple{AbstractUnitRange,Vararg{Any,N} where N}} where A<:DenseArray where N where T, DenseArray} where N where T, SubArray{T,N,A,I,true} where I<:Union{Tuple{Vararg{Real,N} where N}, Tuple{AbstractUnitRange,Vararg{Any,N} where N}} where A<:DenseArray where N where T, DenseArray} where N where T, DenseArray}} where N where #s623<:Union{CompoundPeriod, Period}, y::Dates.TimeType) in Dates at C:\\cygwin\\home\\Administrator\\buildbot\\worker\\package_win64\\build\\usr\\share\\julia\\stdlib\\v1.1\\Dates\\src\\deprecated.jl:12\n",
       "[87] +(X::Union{DenseArray{#s623,N}, ReinterpretArray{#s623,N,S,A} where S where A<:Union{SubArray{T,N,A,I,true} where I<:Union{Tuple{Vararg{Real,N} where N}, Tuple{AbstractUnitRange,Vararg{Any,N} where N}} where A<:DenseArray where N where T, DenseArray}, ReshapedArray{#s623,N,A,MI} where MI<:Tuple{Vararg{SignedMultiplicativeInverse{Int64},N} where N} where A<:Union{ReinterpretArray{T,N,S,A} where S where A<:Union{SubArray{T,N,A,I,true} where I<:Union{Tuple{Vararg{Real,N} where N}, Tuple{AbstractUnitRange,Vararg{Any,N} where N}} where A<:DenseArray where N where T, DenseArray} where N where T, SubArray{T,N,A,I,true} where I<:Union{Tuple{Vararg{Real,N} where N}, Tuple{AbstractUnitRange,Vararg{Any,N} where N}} where A<:DenseArray where N where T, DenseArray}, SubArray{#s623,N,A,I,L} where L where I<:Tuple{Vararg{Union{Int64, AbstractRange{Int64}, AbstractCartesianIndex},N} where N} where A<:Union{ReinterpretArray{T,N,S,A} where S where A<:Union{SubArray{T,N,A,I,true} where I<:Union{Tuple{Vararg{Real,N} where N}, Tuple{AbstractUnitRange,Vararg{Any,N} where N}} where A<:DenseArray where N where T, DenseArray} where N where T, ReshapedArray{T,N,A,MI} where MI<:Tuple{Vararg{SignedMultiplicativeInverse{Int64},N} where N} where A<:Union{ReinterpretArray{T,N,S,A} where S where A<:Union{SubArray{T,N,A,I,true} where I<:Union{Tuple{Vararg{Real,N} where N}, Tuple{AbstractUnitRange,Vararg{Any,N} where N}} where A<:DenseArray where N where T, DenseArray} where N where T, SubArray{T,N,A,I,true} where I<:Union{Tuple{Vararg{Real,N} where N}, Tuple{AbstractUnitRange,Vararg{Any,N} where N}} where A<:DenseArray where N where T, DenseArray} where N where T, DenseArray}} where N where #s623<:Union{CompoundPeriod, Period}, Y::Union{DenseArray{#s622,N}, ReinterpretArray{#s622,N,S,A} where S where A<:Union{SubArray{T,N,A,I,true} where I<:Union{Tuple{Vararg{Real,N} where N}, Tuple{AbstractUnitRange,Vararg{Any,N} where N}} where A<:DenseArray where N where T, DenseArray}, ReshapedArray{#s622,N,A,MI} where MI<:Tuple{Vararg{SignedMultiplicativeInverse{Int64},N} where N} where A<:Union{ReinterpretArray{T,N,S,A} where S where A<:Union{SubArray{T,N,A,I,true} where I<:Union{Tuple{Vararg{Real,N} where N}, Tuple{AbstractUnitRange,Vararg{Any,N} where N}} where A<:DenseArray where N where T, DenseArray} where N where T, SubArray{T,N,A,I,true} where I<:Union{Tuple{Vararg{Real,N} where N}, Tuple{AbstractUnitRange,Vararg{Any,N} where N}} where A<:DenseArray where N where T, DenseArray}, SubArray{#s622,N,A,I,L} where L where I<:Tuple{Vararg{Union{Int64, AbstractRange{Int64}, AbstractCartesianIndex},N} where N} where A<:Union{ReinterpretArray{T,N,S,A} where S where A<:Union{SubArray{T,N,A,I,true} where I<:Union{Tuple{Vararg{Real,N} where N}, Tuple{AbstractUnitRange,Vararg{Any,N} where N}} where A<:DenseArray where N where T, DenseArray} where N where T, ReshapedArray{T,N,A,MI} where MI<:Tuple{Vararg{SignedMultiplicativeInverse{Int64},N} where N} where A<:Union{ReinterpretArray{T,N,S,A} where S where A<:Union{SubArray{T,N,A,I,true} where I<:Union{Tuple{Vararg{Real,N} where N}, Tuple{AbstractUnitRange,Vararg{Any,N} where N}} where A<:DenseArray where N where T, DenseArray} where N where T, SubArray{T,N,A,I,true} where I<:Union{Tuple{Vararg{Real,N} where N}, Tuple{AbstractUnitRange,Vararg{Any,N} where N}} where A<:DenseArray where N where T, DenseArray} where N where T, DenseArray}} where N where #s622<:Union{CompoundPeriod, Period}) in Dates at C:\\cygwin\\home\\Administrator\\buildbot\\worker\\package_win64\\build\\usr\\share\\julia\\stdlib\\v1.1\\Dates\\src\\deprecated.jl:64\n",
       "[88] +(A::LinearAlgebra.SymTridiagonal, B::LinearAlgebra.SymTridiagonal) in LinearAlgebra at C:\\cygwin\\home\\Administrator\\buildbot\\worker\\package_win64\\build\\usr\\share\\julia\\stdlib\\v1.1\\LinearAlgebra\\src\\tridiag.jl:158\n",
       "[89] +(A::LinearAlgebra.Tridiagonal, B::LinearAlgebra.Tridiagonal) in LinearAlgebra at C:\\cygwin\\home\\Administrator\\buildbot\\worker\\package_win64\\build\\usr\\share\\julia\\stdlib\\v1.1\\LinearAlgebra\\src\\tridiag.jl:617\n",
       "[90] +(A::LinearAlgebra.UpperTriangular, B::LinearAlgebra.UpperTriangular) in LinearAlgebra at C:\\cygwin\\home\\Administrator\\buildbot\\worker\\package_win64\\build\\usr\\share\\julia\\stdlib\\v1.1\\LinearAlgebra\\src\\triangular.jl:487\n",
       "[91] +(A::LinearAlgebra.LowerTriangular, B::LinearAlgebra.LowerTriangular) in LinearAlgebra at C:\\cygwin\\home\\Administrator\\buildbot\\worker\\package_win64\\build\\usr\\share\\julia\\stdlib\\v1.1\\LinearAlgebra\\src\\triangular.jl:488\n",
       "[92] +(A::LinearAlgebra.UpperTriangular, B::LinearAlgebra.UnitUpperTriangular) in LinearAlgebra at C:\\cygwin\\home\\Administrator\\buildbot\\worker\\package_win64\\build\\usr\\share\\julia\\stdlib\\v1.1\\LinearAlgebra\\src\\triangular.jl:489\n",
       "[93] +(A::LinearAlgebra.LowerTriangular, B::LinearAlgebra.UnitLowerTriangular) in LinearAlgebra at C:\\cygwin\\home\\Administrator\\buildbot\\worker\\package_win64\\build\\usr\\share\\julia\\stdlib\\v1.1\\LinearAlgebra\\src\\triangular.jl:490\n",
       "[94] +(A::LinearAlgebra.UnitUpperTriangular, B::LinearAlgebra.UpperTriangular) in LinearAlgebra at C:\\cygwin\\home\\Administrator\\buildbot\\worker\\package_win64\\build\\usr\\share\\julia\\stdlib\\v1.1\\LinearAlgebra\\src\\triangular.jl:491\n",
       "[95] +(A::LinearAlgebra.UnitLowerTriangular, B::LinearAlgebra.LowerTriangular) in LinearAlgebra at C:\\cygwin\\home\\Administrator\\buildbot\\worker\\package_win64\\build\\usr\\share\\julia\\stdlib\\v1.1\\LinearAlgebra\\src\\triangular.jl:492\n",
       "[96] +(A::LinearAlgebra.UnitUpperTriangular, B::LinearAlgebra.UnitUpperTriangular) in LinearAlgebra at C:\\cygwin\\home\\Administrator\\buildbot\\worker\\package_win64\\build\\usr\\share\\julia\\stdlib\\v1.1\\LinearAlgebra\\src\\triangular.jl:493\n",
       "[97] +(A::LinearAlgebra.UnitLowerTriangular, B::LinearAlgebra.UnitLowerTriangular) in LinearAlgebra at C:\\cygwin\\home\\Administrator\\buildbot\\worker\\package_win64\\build\\usr\\share\\julia\\stdlib\\v1.1\\LinearAlgebra\\src\\triangular.jl:494\n",
       "[98] +(A::LinearAlgebra.AbstractTriangular, B::LinearAlgebra.AbstractTriangular) in LinearAlgebra at C:\\cygwin\\home\\Administrator\\buildbot\\worker\\package_win64\\build\\usr\\share\\julia\\stdlib\\v1.1\\LinearAlgebra\\src\\triangular.jl:495\n",
       "[99] +(Da::LinearAlgebra.Diagonal, Db::LinearAlgebra.Diagonal) in LinearAlgebra at C:\\cygwin\\home\\Administrator\\buildbot\\worker\\package_win64\\build\\usr\\share\\julia\\stdlib\\v1.1\\LinearAlgebra\\src\\diagonal.jl:156\n",
       "[100] +(A::LinearAlgebra.Bidiagonal, B::LinearAlgebra.Bidiagonal) in LinearAlgebra at C:\\cygwin\\home\\Administrator\\buildbot\\worker\\package_win64\\build\\usr\\share\\julia\\stdlib\\v1.1\\LinearAlgebra\\src\\bidiag.jl:306\n",
       "[101] +(UL::LinearAlgebra.UnitUpperTriangular, J::LinearAlgebra.UniformScaling) in LinearAlgebra at C:\\cygwin\\home\\Administrator\\buildbot\\worker\\package_win64\\build\\usr\\share\\julia\\stdlib\\v1.1\\LinearAlgebra\\src\\uniformscaling.jl:106\n",
       "[102] +(UL::LinearAlgebra.UnitLowerTriangular, J::LinearAlgebra.UniformScaling) in LinearAlgebra at C:\\cygwin\\home\\Administrator\\buildbot\\worker\\package_win64\\build\\usr\\share\\julia\\stdlib\\v1.1\\LinearAlgebra\\src\\uniformscaling.jl:106\n",
       "[103] +(A::SparseArrays.SparseMatrixCSC, J::LinearAlgebra.UniformScaling) in SparseArrays at C:\\cygwin\\home\\Administrator\\buildbot\\worker\\package_win64\\build\\usr\\share\\julia\\stdlib\\v1.1\\SparseArrays\\src\\sparsematrix.jl:3506\n",
       "[104] +(A::AbstractArray{T,2} where T, J::LinearAlgebra.UniformScaling) in LinearAlgebra at C:\\cygwin\\home\\Administrator\\buildbot\\worker\\package_win64\\build\\usr\\share\\julia\\stdlib\\v1.1\\LinearAlgebra\\src\\uniformscaling.jl:116\n",
       "[105] +(A::LinearAlgebra.Diagonal, B::LinearAlgebra.Bidiagonal) in LinearAlgebra at C:\\cygwin\\home\\Administrator\\buildbot\\worker\\package_win64\\build\\usr\\share\\julia\\stdlib\\v1.1\\LinearAlgebra\\src\\special.jl:87\n",
       "[106] +(A::LinearAlgebra.Bidiagonal, B::LinearAlgebra.Diagonal) in LinearAlgebra at C:\\cygwin\\home\\Administrator\\buildbot\\worker\\package_win64\\build\\usr\\share\\julia\\stdlib\\v1.1\\LinearAlgebra\\src\\special.jl:88\n",
       "[107] +(A::LinearAlgebra.Diagonal, B::LinearAlgebra.Tridiagonal) in LinearAlgebra at C:\\cygwin\\home\\Administrator\\buildbot\\worker\\package_win64\\build\\usr\\share\\julia\\stdlib\\v1.1\\LinearAlgebra\\src\\special.jl:87\n",
       "[108] +(A::LinearAlgebra.Tridiagonal, B::LinearAlgebra.Diagonal) in LinearAlgebra at C:\\cygwin\\home\\Administrator\\buildbot\\worker\\package_win64\\build\\usr\\share\\julia\\stdlib\\v1.1\\LinearAlgebra\\src\\special.jl:88\n",
       "[109] +(A::LinearAlgebra.Diagonal, B::Array{T,2} where T) in LinearAlgebra at C:\\cygwin\\home\\Administrator\\buildbot\\worker\\package_win64\\build\\usr\\share\\julia\\stdlib\\v1.1\\LinearAlgebra\\src\\special.jl:87\n",
       "[110] +(A::LinearAlgebra.Bidiagonal, B::LinearAlgebra.Tridiagonal) in LinearAlgebra at C:\\cygwin\\home\\Administrator\\buildbot\\worker\\package_win64\\build\\usr\\share\\julia\\stdlib\\v1.1\\LinearAlgebra\\src\\special.jl:87\n",
       "[111] +(A::LinearAlgebra.Tridiagonal, B::LinearAlgebra.Bidiagonal) in LinearAlgebra at C:\\cygwin\\home\\Administrator\\buildbot\\worker\\package_win64\\build\\usr\\share\\julia\\stdlib\\v1.1\\LinearAlgebra\\src\\special.jl:88\n",
       "[112] +(A::LinearAlgebra.Bidiagonal, B::Array{T,2} where T) in LinearAlgebra at C:\\cygwin\\home\\Administrator\\buildbot\\worker\\package_win64\\build\\usr\\share\\julia\\stdlib\\v1.1\\LinearAlgebra\\src\\special.jl:87\n",
       "[113] +(A::LinearAlgebra.Tridiagonal, B::Array{T,2} where T) in LinearAlgebra at C:\\cygwin\\home\\Administrator\\buildbot\\worker\\package_win64\\build\\usr\\share\\julia\\stdlib\\v1.1\\LinearAlgebra\\src\\special.jl:87\n",
       "[114] +(A::LinearAlgebra.SymTridiagonal, B::LinearAlgebra.Tridiagonal) in LinearAlgebra at C:\\cygwin\\home\\Administrator\\buildbot\\worker\\package_win64\\build\\usr\\share\\julia\\stdlib\\v1.1\\LinearAlgebra\\src\\special.jl:96\n",
       "[115] +(A::LinearAlgebra.Tridiagonal, B::LinearAlgebra.SymTridiagonal) in LinearAlgebra at C:\\cygwin\\home\\Administrator\\buildbot\\worker\\package_win64\\build\\usr\\share\\julia\\stdlib\\v1.1\\LinearAlgebra\\src\\special.jl:97\n",
       "[116] +(A::LinearAlgebra.SymTridiagonal, B::Array{T,2} where T) in LinearAlgebra at C:\\cygwin\\home\\Administrator\\buildbot\\worker\\package_win64\\build\\usr\\share\\julia\\stdlib\\v1.1\\LinearAlgebra\\src\\special.jl:96\n",
       "[117] +(A::LinearAlgebra.Diagonal, B::LinearAlgebra.SymTridiagonal) in LinearAlgebra at C:\\cygwin\\home\\Administrator\\buildbot\\worker\\package_win64\\build\\usr\\share\\julia\\stdlib\\v1.1\\LinearAlgebra\\src\\special.jl:105\n",
       "[118] +(A::LinearAlgebra.SymTridiagonal, B::LinearAlgebra.Diagonal) in LinearAlgebra at C:\\cygwin\\home\\Administrator\\buildbot\\worker\\package_win64\\build\\usr\\share\\julia\\stdlib\\v1.1\\LinearAlgebra\\src\\special.jl:106\n",
       "[119] +(A::LinearAlgebra.Bidiagonal, B::LinearAlgebra.SymTridiagonal) in LinearAlgebra at C:\\cygwin\\home\\Administrator\\buildbot\\worker\\package_win64\\build\\usr\\share\\julia\\stdlib\\v1.1\\LinearAlgebra\\src\\special.jl:105\n",
       "[120] +(A::LinearAlgebra.SymTridiagonal, B::LinearAlgebra.Bidiagonal) in LinearAlgebra at C:\\cygwin\\home\\Administrator\\buildbot\\worker\\package_win64\\build\\usr\\share\\julia\\stdlib\\v1.1\\LinearAlgebra\\src\\special.jl:106\n",
       "[121] +(A::LinearAlgebra.Diagonal, B::LinearAlgebra.UpperTriangular) in LinearAlgebra at C:\\cygwin\\home\\Administrator\\buildbot\\worker\\package_win64\\build\\usr\\share\\julia\\stdlib\\v1.1\\LinearAlgebra\\src\\special.jl:117\n",
       "[122] +(A::LinearAlgebra.UpperTriangular, B::LinearAlgebra.Diagonal) in LinearAlgebra at C:\\cygwin\\home\\Administrator\\buildbot\\worker\\package_win64\\build\\usr\\share\\julia\\stdlib\\v1.1\\LinearAlgebra\\src\\special.jl:118\n",
       "[123] +(A::LinearAlgebra.Diagonal, B::LinearAlgebra.UnitUpperTriangular) in LinearAlgebra at C:\\cygwin\\home\\Administrator\\buildbot\\worker\\package_win64\\build\\usr\\share\\julia\\stdlib\\v1.1\\LinearAlgebra\\src\\special.jl:117\n",
       "[124] +(A::LinearAlgebra.UnitUpperTriangular, B::LinearAlgebra.Diagonal) in LinearAlgebra at C:\\cygwin\\home\\Administrator\\buildbot\\worker\\package_win64\\build\\usr\\share\\julia\\stdlib\\v1.1\\LinearAlgebra\\src\\special.jl:118\n",
       "[125] +(A::LinearAlgebra.Diagonal, B::LinearAlgebra.LowerTriangular) in LinearAlgebra at C:\\cygwin\\home\\Administrator\\buildbot\\worker\\package_win64\\build\\usr\\share\\julia\\stdlib\\v1.1\\LinearAlgebra\\src\\special.jl:117\n",
       "[126] +(A::LinearAlgebra.LowerTriangular, B::LinearAlgebra.Diagonal) in LinearAlgebra at C:\\cygwin\\home\\Administrator\\buildbot\\worker\\package_win64\\build\\usr\\share\\julia\\stdlib\\v1.1\\LinearAlgebra\\src\\special.jl:118\n",
       "[127] +(A::LinearAlgebra.Diagonal, B::LinearAlgebra.UnitLowerTriangular) in LinearAlgebra at C:\\cygwin\\home\\Administrator\\buildbot\\worker\\package_win64\\build\\usr\\share\\julia\\stdlib\\v1.1\\LinearAlgebra\\src\\special.jl:117\n",
       "[128] +(A::LinearAlgebra.UnitLowerTriangular, B::LinearAlgebra.Diagonal) in LinearAlgebra at C:\\cygwin\\home\\Administrator\\buildbot\\worker\\package_win64\\build\\usr\\share\\julia\\stdlib\\v1.1\\LinearAlgebra\\src\\special.jl:118\n",
       "[129] +(A::LinearAlgebra.AbstractTriangular, B::LinearAlgebra.SymTridiagonal) in LinearAlgebra at C:\\cygwin\\home\\Administrator\\buildbot\\worker\\package_win64\\build\\usr\\share\\julia\\stdlib\\v1.1\\LinearAlgebra\\src\\special.jl:124\n",
       "[130] +(A::LinearAlgebra.SymTridiagonal, B::LinearAlgebra.AbstractTriangular) in LinearAlgebra at C:\\cygwin\\home\\Administrator\\buildbot\\worker\\package_win64\\build\\usr\\share\\julia\\stdlib\\v1.1\\LinearAlgebra\\src\\special.jl:125\n",
       "[131] +(A::LinearAlgebra.AbstractTriangular, B::LinearAlgebra.Tridiagonal) in LinearAlgebra at C:\\cygwin\\home\\Administrator\\buildbot\\worker\\package_win64\\build\\usr\\share\\julia\\stdlib\\v1.1\\LinearAlgebra\\src\\special.jl:124\n",
       "[132] +(A::LinearAlgebra.Tridiagonal, B::LinearAlgebra.AbstractTriangular) in LinearAlgebra at C:\\cygwin\\home\\Administrator\\buildbot\\worker\\package_win64\\build\\usr\\share\\julia\\stdlib\\v1.1\\LinearAlgebra\\src\\special.jl:125\n",
       "[133] +(A::LinearAlgebra.AbstractTriangular, B::LinearAlgebra.Bidiagonal) in LinearAlgebra at C:\\cygwin\\home\\Administrator\\buildbot\\worker\\package_win64\\build\\usr\\share\\julia\\stdlib\\v1.1\\LinearAlgebra\\src\\special.jl:124\n",
       "[134] +(A::LinearAlgebra.Bidiagonal, B::LinearAlgebra.AbstractTriangular) in LinearAlgebra at C:\\cygwin\\home\\Administrator\\buildbot\\worker\\package_win64\\build\\usr\\share\\julia\\stdlib\\v1.1\\LinearAlgebra\\src\\special.jl:125\n",
       "[135] +(A::LinearAlgebra.AbstractTriangular, B::Array{T,2} where T) in LinearAlgebra at C:\\cygwin\\home\\Administrator\\buildbot\\worker\\package_win64\\build\\usr\\share\\julia\\stdlib\\v1.1\\LinearAlgebra\\src\\special.jl:124\n",
       "[136] +(A::SparseArrays.SparseMatrixCSC, B::SparseArrays.SparseMatrixCSC) in SparseArrays at C:\\cygwin\\home\\Administrator\\buildbot\\worker\\package_win64\\build\\usr\\share\\julia\\stdlib\\v1.1\\SparseArrays\\src\\sparsematrix.jl:1576\n",
       "[137] +(A::SparseArrays.SparseMatrixCSC, B::Array) in SparseArrays at C:\\cygwin\\home\\Administrator\\buildbot\\worker\\package_win64\\build\\usr\\share\\julia\\stdlib\\v1.1\\SparseArrays\\src\\sparsematrix.jl:1579\n",
       "[138] +(x::SparseArrays.AbstractSparseArray{Tv,Ti,1} where Ti where Tv, y::SparseArrays.AbstractSparseArray{Tv,Ti,1} where Ti where Tv) in SparseArrays at C:\\cygwin\\home\\Administrator\\buildbot\\worker\\package_win64\\build\\usr\\share\\julia\\stdlib\\v1.1\\SparseArrays\\src\\sparsevector.jl:1292\n",
       "[139] +(x::AbstractArray{#s72,N} where N where #s72<:Number) in Base at abstractarraymath.jl:98\n",
       "[140] +(A::AbstractArray, B::AbstractArray) in Base at arraymath.jl:38\n",
       "[141] +(x::T, y::Integer) where T<:AbstractChar in Base at char.jl:223\n",
       "[142] +(index1::CartesianIndex{N}, index2::CartesianIndex{N}) where N in Base.IteratorsMD at multidimensional.jl:107\n",
       "[143] +(::Number, ::Missing) in Base at missing.jl:98\n",
       "[144] +(x::P, y::P) where P<:Dates.Period in Dates at C:\\cygwin\\home\\Administrator\\buildbot\\worker\\package_win64\\build\\usr\\share\\julia\\stdlib\\v1.1\\Dates\\src\\periods.jl:75\n",
       "[145] +(x::Dates.Period, y::Dates.Period) in Dates at C:\\cygwin\\home\\Administrator\\buildbot\\worker\\package_win64\\build\\usr\\share\\julia\\stdlib\\v1.1\\Dates\\src\\periods.jl:340\n",
       "[146] +(y::Dates.Period, x::Dates.CompoundPeriod) in Dates at C:\\cygwin\\home\\Administrator\\buildbot\\worker\\package_win64\\build\\usr\\share\\julia\\stdlib\\v1.1\\Dates\\src\\periods.jl:342\n",
       "[147] +(x::Union{CompoundPeriod, Period}) in Dates at C:\\cygwin\\home\\Administrator\\buildbot\\worker\\package_win64\\build\\usr\\share\\julia\\stdlib\\v1.1\\Dates\\src\\periods.jl:351\n",
       "[148] +(x::Dates.TimeType) in Dates at C:\\cygwin\\home\\Administrator\\buildbot\\worker\\package_win64\\build\\usr\\share\\julia\\stdlib\\v1.1\\Dates\\src\\arithmetic.jl:8\n",
       "[149] +(a::Dates.TimeType, b::Dates.Period, c::Dates.Period) in Dates at C:\\cygwin\\home\\Administrator\\buildbot\\worker\\package_win64\\build\\usr\\share\\julia\\stdlib\\v1.1\\Dates\\src\\periods.jl:362\n",
       "[150] +(a::Dates.TimeType, b::Dates.Period, c::Dates.Period, d::Dates.Period...) in Dates at C:\\cygwin\\home\\Administrator\\buildbot\\worker\\package_win64\\build\\usr\\share\\julia\\stdlib\\v1.1\\Dates\\src\\periods.jl:363\n",
       "[151] +(x::Dates.TimeType, y::Dates.CompoundPeriod) in Dates at C:\\cygwin\\home\\Administrator\\buildbot\\worker\\package_win64\\build\\usr\\share\\julia\\stdlib\\v1.1\\Dates\\src\\periods.jl:366\n",
       "[152] +(x::Dates.Instant) in Dates at C:\\cygwin\\home\\Administrator\\buildbot\\worker\\package_win64\\build\\usr\\share\\julia\\stdlib\\v1.1\\Dates\\src\\arithmetic.jl:4\n",
       "[153] +(y::Dates.Period, x::Dates.TimeType) in Dates at C:\\cygwin\\home\\Administrator\\buildbot\\worker\\package_win64\\build\\usr\\share\\julia\\stdlib\\v1.1\\Dates\\src\\arithmetic.jl:80\n",
       "[154] +(x::Dates.Period, r::AbstractRange{#s623} where #s623<:Dates.TimeType) in Dates at C:\\cygwin\\home\\Administrator\\buildbot\\worker\\package_win64\\build\\usr\\share\\julia\\stdlib\\v1.1\\Dates\\src\\ranges.jl:58\n",
       "[155] +(x::AbstractArray{#s623,N} where N where #s623<:Dates.TimeType, y::Union{CompoundPeriod, Period}) in Dates at C:\\cygwin\\home\\Administrator\\buildbot\\worker\\package_win64\\build\\usr\\share\\julia\\stdlib\\v1.1\\Dates\\src\\deprecated.jl:8\n",
       "[156] +(y::Union{CompoundPeriod, Period}, x::AbstractArray{#s623,N} where N where #s623<:Dates.TimeType) in Dates at C:\\cygwin\\home\\Administrator\\buildbot\\worker\\package_win64\\build\\usr\\share\\julia\\stdlib\\v1.1\\Dates\\src\\deprecated.jl:16\n",
       "[157] +(y::Dates.TimeType, x::Union{DenseArray{#s623,N}, ReinterpretArray{#s623,N,S,A} where S where A<:Union{SubArray{T,N,A,I,true} where I<:Union{Tuple{Vararg{Real,N} where N}, Tuple{AbstractUnitRange,Vararg{Any,N} where N}} where A<:DenseArray where N where T, DenseArray}, ReshapedArray{#s623,N,A,MI} where MI<:Tuple{Vararg{SignedMultiplicativeInverse{Int64},N} where N} where A<:Union{ReinterpretArray{T,N,S,A} where S where A<:Union{SubArray{T,N,A,I,true} where I<:Union{Tuple{Vararg{Real,N} where N}, Tuple{AbstractUnitRange,Vararg{Any,N} where N}} where A<:DenseArray where N where T, DenseArray} where N where T, SubArray{T,N,A,I,true} where I<:Union{Tuple{Vararg{Real,N} where N}, Tuple{AbstractUnitRange,Vararg{Any,N} where N}} where A<:DenseArray where N where T, DenseArray}, SubArray{#s623,N,A,I,L} where L where I<:Tuple{Vararg{Union{Int64, AbstractRange{Int64}, AbstractCartesianIndex},N} where N} where A<:Union{ReinterpretArray{T,N,S,A} where S where A<:Union{SubArray{T,N,A,I,true} where I<:Union{Tuple{Vararg{Real,N} where N}, Tuple{AbstractUnitRange,Vararg{Any,N} where N}} where A<:DenseArray where N where T, DenseArray} where N where T, ReshapedArray{T,N,A,MI} where MI<:Tuple{Vararg{SignedMultiplicativeInverse{Int64},N} where N} where A<:Union{ReinterpretArray{T,N,S,A} where S where A<:Union{SubArray{T,N,A,I,true} where I<:Union{Tuple{Vararg{Real,N} where N}, Tuple{AbstractUnitRange,Vararg{Any,N} where N}} where A<:DenseArray where N where T, DenseArray} where N where T, SubArray{T,N,A,I,true} where I<:Union{Tuple{Vararg{Real,N} where N}, Tuple{AbstractUnitRange,Vararg{Any,N} where N}} where A<:DenseArray where N where T, DenseArray} where N where T, DenseArray}} where N where #s623<:Union{CompoundPeriod, Period}) in Dates at C:\\cygwin\\home\\Administrator\\buildbot\\worker\\package_win64\\build\\usr\\share\\julia\\stdlib\\v1.1\\Dates\\src\\deprecated.jl:20\n",
       "[158] +(J::LinearAlgebra.UniformScaling, x::Number) in LinearAlgebra at C:\\cygwin\\home\\Administrator\\buildbot\\worker\\package_win64\\build\\usr\\share\\julia\\stdlib\\v1.1\\LinearAlgebra\\src\\uniformscaling.jl:84\n",
       "[159] +(x::Number, J::LinearAlgebra.UniformScaling) in LinearAlgebra at C:\\cygwin\\home\\Administrator\\buildbot\\worker\\package_win64\\build\\usr\\share\\julia\\stdlib\\v1.1\\LinearAlgebra\\src\\uniformscaling.jl:85\n",
       "[160] +(J1::LinearAlgebra.UniformScaling, J2::LinearAlgebra.UniformScaling) in LinearAlgebra at C:\\cygwin\\home\\Administrator\\buildbot\\worker\\package_win64\\build\\usr\\share\\julia\\stdlib\\v1.1\\LinearAlgebra\\src\\uniformscaling.jl:89\n",
       "[161] +(J::LinearAlgebra.UniformScaling, B::BitArray{2}) in LinearAlgebra at C:\\cygwin\\home\\Administrator\\buildbot\\worker\\package_win64\\build\\usr\\share\\julia\\stdlib\\v1.1\\LinearAlgebra\\src\\uniformscaling.jl:91\n",
       "[162] +(J::LinearAlgebra.UniformScaling, A::AbstractArray{T,2} where T) in LinearAlgebra at C:\\cygwin\\home\\Administrator\\buildbot\\worker\\package_win64\\build\\usr\\share\\julia\\stdlib\\v1.1\\LinearAlgebra\\src\\uniformscaling.jl:92\n",
       "[163] +(a, b, c, xs...) in Base at operators.jl:502"
      ]
     },
     "execution_count": 21,
     "metadata": {},
     "output_type": "execute_result"
    }
   ],
   "source": [
    "methods(+)"
   ]
  },
  {
   "cell_type": "code",
   "execution_count": 22,
   "metadata": {},
   "outputs": [
    {
     "data": {
      "text/html": [
       "+(x::<b>Bool</b>, y::<b>Bool</b>) in Base at <a href=\"https://github.com/JuliaLang/julia/tree/80516ca20297a67b996caa08c38786332379b6a5/base/bool.jl#L104\" target=\"_blank\">bool.jl:104</a>"
      ],
      "text/plain": [
       "+(x::Bool, y::Bool) in Base at bool.jl:104"
      ]
     },
     "execution_count": 22,
     "metadata": {},
     "output_type": "execute_result"
    }
   ],
   "source": [
    "@which true + false"
   ]
  },
  {
   "cell_type": "code",
   "execution_count": 23,
   "metadata": {},
   "outputs": [
    {
     "data": {
      "text/html": [
       "*(s1::<b>Union{AbstractChar, AbstractString}</b>, ss::<b>Union{AbstractChar, AbstractString}...</b>) in Base at <a href=\"https://github.com/JuliaLang/julia/tree/80516ca20297a67b996caa08c38786332379b6a5/base/strings/basic.jl#L229\" target=\"_blank\">strings/basic.jl:229</a>"
      ],
      "text/plain": [
       "*(s1::Union{AbstractChar, AbstractString}, ss::Union{AbstractChar, AbstractString}...) in Base at strings/basic.jl:229"
      ]
     },
     "execution_count": 23,
     "metadata": {},
     "output_type": "execute_result"
    }
   ],
   "source": [
    "@which \"Hello\"*\"World!\""
   ]
  },
  {
   "cell_type": "markdown",
   "metadata": {},
   "source": [
    "Julia's standard functions are not special by any means.\n",
    "\n",
    "We can easily modify or add methods to them as well."
   ]
  },
  {
   "cell_type": "code",
   "execution_count": 2,
   "metadata": {},
   "outputs": [
    {
     "data": {
      "text/plain": [
       "+ (generic function with 164 methods)"
      ]
     },
     "execution_count": 2,
     "metadata": {},
     "output_type": "execute_result"
    }
   ],
   "source": [
    "import Base: + # we have to import functions to override/extend them\n",
    "+(x::String, y::String) = x * \" \" * y"
   ]
  },
  {
   "cell_type": "code",
   "execution_count": 3,
   "metadata": {},
   "outputs": [
    {
     "data": {
      "text/plain": [
       "\"Kölle Alaaf\""
      ]
     },
     "execution_count": 3,
     "metadata": {},
     "output_type": "execute_result"
    }
   ],
   "source": [
    "\"Kölle\" + \"Alaaf\""
   ]
  },
  {
   "cell_type": "markdown",
   "metadata": {},
   "source": [
    "Any function based on the `+` operation can now handle `String`s as well."
   ]
  },
  {
   "cell_type": "code",
   "execution_count": 5,
   "metadata": {},
   "outputs": [
    {
     "data": {
      "text/plain": [
       "\"This works although we never touched sum!\""
      ]
     },
     "execution_count": 5,
     "metadata": {},
     "output_type": "execute_result"
    }
   ],
   "source": [
    "sum([\"This\", \"works\", \"although\", \"we\", \"never\", \"touched\", \"sum!\"])"
   ]
  },
  {
   "cell_type": "markdown",
   "metadata": {},
   "source": [
    "It happens rarely, but it can happen that there is no unique most specific method:"
   ]
  },
  {
   "cell_type": "code",
   "execution_count": 19,
   "metadata": {},
   "outputs": [
    {
     "ename": "MethodError",
     "evalue": "MethodError: f(::Int64, ::String) is ambiguous. Candidates:\n  f(x, y::String) in Main at In[15]:2\n  f(x::Int64, y) in Main at In[19]:1\nPossible fix, define\n  f(::Int64, ::String)",
     "output_type": "error",
     "traceback": [
      "MethodError: f(::Int64, ::String) is ambiguous. Candidates:\n  f(x, y::String) in Main at In[15]:2\n  f(x::Int64, y) in Main at In[19]:1\nPossible fix, define\n  f(::Int64, ::String)",
      "",
      "Stacktrace:",
      " [1] top-level scope at In[19]:3"
     ]
    }
   ],
   "source": [
    "f(x::Int, y::Any) = println(\"int\")\n",
    "f(x::Any, y::String) = println(\"string\")\n",
    "f(3, \"test\")"
   ]
  },
  {
   "cell_type": "markdown",
   "metadata": {},
   "source": [
    "# Parametric types"
   ]
  },
  {
   "cell_type": "markdown",
   "metadata": {},
   "source": [
    "Types can have *type parameters*. The most prominent example is Julia's array type."
   ]
  },
  {
   "cell_type": "code",
   "execution_count": 29,
   "metadata": {},
   "outputs": [
    {
     "data": {
      "text/plain": [
       "2×2 Array{Float64,2}:\n",
       " 0.832619  0.229362\n",
       " 0.830405  0.500011"
      ]
     },
     "execution_count": 29,
     "metadata": {},
     "output_type": "execute_result"
    }
   ],
   "source": [
    "M = rand(2,2)"
   ]
  },
  {
   "cell_type": "code",
   "execution_count": 30,
   "metadata": {},
   "outputs": [
    {
     "data": {
      "text/plain": [
       "Array{Float64,2}"
      ]
     },
     "execution_count": 30,
     "metadata": {},
     "output_type": "execute_result"
    }
   ],
   "source": [
    "typeof(M)"
   ]
  },
  {
   "cell_type": "markdown",
   "metadata": {},
   "source": [
    "Here, `Array` is a parametric array datatype. Its type parameters `Float64` and `2` indicate the type of the element the array can hold and and its dimensionality. Hence, we have a matrix of floating point numbers."
   ]
  },
  {
   "cell_type": "markdown",
   "metadata": {},
   "source": [
    "This generalizes as expected. Here, a matrix of `String`s:"
   ]
  },
  {
   "cell_type": "code",
   "execution_count": 43,
   "metadata": {},
   "outputs": [
    {
     "data": {
      "text/plain": [
       "2×2 Array{String,2}:\n",
       " \"Cologne\"  \"Cologne\"\n",
       " \"Cologne\"  \"Cologne\""
      ]
     },
     "execution_count": 43,
     "metadata": {},
     "output_type": "execute_result"
    }
   ],
   "source": [
    "M = fill(\"Cologne\", 2,2)"
   ]
  },
  {
   "cell_type": "code",
   "execution_count": 45,
   "metadata": {},
   "outputs": [
    {
     "data": {
      "text/plain": [
       "String"
      ]
     },
     "execution_count": 45,
     "metadata": {},
     "output_type": "execute_result"
    }
   ],
   "source": [
    "eltype(M)"
   ]
  },
  {
   "cell_type": "markdown",
   "metadata": {},
   "source": [
    "We can also nest parametric types. This is a vector of matrices of `Float64`s."
   ]
  },
  {
   "cell_type": "code",
   "execution_count": 37,
   "metadata": {},
   "outputs": [
    {
     "data": {
      "text/plain": [
       "3-element Array{Array{Float64,2},1}:\n",
       " [0.341835 0.552818; 0.376563 0.264724]\n",
       " [0.326616 0.857752; 0.564207 0.185871]\n",
       " [0.644797 0.190454; 0.765222 0.907248]"
      ]
     },
     "execution_count": 37,
     "metadata": {},
     "output_type": "execute_result"
    }
   ],
   "source": [
    "v = [rand(2,2) for i in 1:3]"
   ]
  },
  {
   "cell_type": "code",
   "execution_count": 38,
   "metadata": {},
   "outputs": [
    {
     "data": {
      "text/plain": [
       "Array{Float64,2}"
      ]
     },
     "execution_count": 38,
     "metadata": {},
     "output_type": "execute_result"
    }
   ],
   "source": [
    "eltype(v)"
   ]
  },
  {
   "cell_type": "markdown",
   "metadata": {},
   "source": [
    "Since vectors and matrices pop up so frequently, Julia has a nice shortcut type alias for them."
   ]
  },
  {
   "cell_type": "code",
   "execution_count": 46,
   "metadata": {},
   "outputs": [
    {
     "data": {
      "text/plain": [
       "true"
      ]
     },
     "execution_count": 46,
     "metadata": {},
     "output_type": "execute_result"
    }
   ],
   "source": [
    "Vector{Float64} === Array{Float64, 1}"
   ]
  },
  {
   "cell_type": "code",
   "execution_count": 47,
   "metadata": {},
   "outputs": [
    {
     "data": {
      "text/plain": [
       "true"
      ]
     },
     "execution_count": 47,
     "metadata": {},
     "output_type": "execute_result"
    }
   ],
   "source": [
    "Matrix{Float64} === Array{Float64, 2}"
   ]
  },
  {
   "cell_type": "markdown",
   "metadata": {},
   "source": [
    "Another example of a parametric type is the `Tuple`."
   ]
  },
  {
   "cell_type": "code",
   "execution_count": 50,
   "metadata": {},
   "outputs": [
    {
     "data": {
      "text/plain": [
       "(1, 2.0, \"3\")"
      ]
     },
     "execution_count": 50,
     "metadata": {},
     "output_type": "execute_result"
    }
   ],
   "source": [
    "(1,2.0,\"3\")"
   ]
  },
  {
   "cell_type": "code",
   "execution_count": 51,
   "metadata": {},
   "outputs": [
    {
     "data": {
      "text/plain": [
       "Tuple{Int64,Float64,String}"
      ]
     },
     "execution_count": 51,
     "metadata": {},
     "output_type": "execute_result"
    }
   ],
   "source": [
    "typeof((1,2.0,\"3\"))"
   ]
  },
  {
   "cell_type": "markdown",
   "metadata": {},
   "source": [
    "### `UnionAll` types and `where`"
   ]
  },
  {
   "cell_type": "markdown",
   "metadata": {},
   "source": [
    "Note that parametric types have the following (somewhat counterintuitive at first) property"
   ]
  },
  {
   "cell_type": "code",
   "execution_count": 57,
   "metadata": {},
   "outputs": [
    {
     "data": {
      "text/plain": [
       "false"
      ]
     },
     "execution_count": 57,
     "metadata": {},
     "output_type": "execute_result"
    }
   ],
   "source": [
    "Vector{Float64} <: Vector{Real}"
   ]
  },
  {
   "cell_type": "markdown",
   "metadata": {},
   "source": [
    "although we have"
   ]
  },
  {
   "cell_type": "code",
   "execution_count": 58,
   "metadata": {},
   "outputs": [
    {
     "data": {
      "text/plain": [
       "true"
      ]
     },
     "execution_count": 58,
     "metadata": {},
     "output_type": "execute_result"
    }
   ],
   "source": [
    "Float64 <: Real"
   ]
  },
  {
   "cell_type": "markdown",
   "metadata": {},
   "source": [
    "The reason is that `Vector{Real}` is a concrete type - it describes a vector of values that individually have a type `T <: Real`  - and concrete types don't have subtypes."
   ]
  },
  {
   "cell_type": "code",
   "execution_count": 9,
   "metadata": {},
   "outputs": [
    {
     "data": {
      "text/plain": [
       "true"
      ]
     },
     "execution_count": 9,
     "metadata": {},
     "output_type": "execute_result"
    }
   ],
   "source": [
    "isconcretetype(Vector{Real})"
   ]
  },
  {
   "cell_type": "code",
   "execution_count": 10,
   "metadata": {},
   "outputs": [
    {
     "data": {
      "text/plain": [
       "3-element Array{Real,1}:\n",
       "  1    \n",
       "  2.2  \n",
       " 13.0f0"
      ]
     },
     "execution_count": 10,
     "metadata": {},
     "output_type": "execute_result"
    }
   ],
   "source": [
    "Real[1, 2.2, 13f0]"
   ]
  },
  {
   "cell_type": "markdown",
   "metadata": {},
   "source": [
    "What we actually *mean* is"
   ]
  },
  {
   "cell_type": "code",
   "execution_count": 80,
   "metadata": {},
   "outputs": [
    {
     "data": {
      "text/plain": [
       "true"
      ]
     },
     "execution_count": 80,
     "metadata": {},
     "output_type": "execute_result"
    }
   ],
   "source": [
    "Vector{Float64} <: Vector{T} where T<:Real"
   ]
  },
  {
   "cell_type": "markdown",
   "metadata": {},
   "source": [
    "Here, `Vector{T} where T <: Real` describes the *set* of concrete `Vector` types whose elements are of any single type `T` that is a subtype of `Real`."
   ]
  },
  {
   "cell_type": "code",
   "execution_count": 81,
   "metadata": {},
   "outputs": [
    {
     "data": {
      "text/plain": [
       "true"
      ]
     },
     "execution_count": 81,
     "metadata": {},
     "output_type": "execute_result"
    }
   ],
   "source": [
    "Vector{Int64} <: Vector{T} where T<:Real"
   ]
  },
  {
   "cell_type": "code",
   "execution_count": 82,
   "metadata": {},
   "outputs": [
    {
     "data": {
      "text/plain": [
       "true"
      ]
     },
     "execution_count": 82,
     "metadata": {},
     "output_type": "execute_result"
    }
   ],
   "source": [
    "Vector{Real} <: Vector{T} where T<:Real"
   ]
  },
  {
   "cell_type": "markdown",
   "metadata": {},
   "source": [
    "Using this notation, our `Vector{Real}` from above can more explicitly be written as `Vector{T where T<:Real}`"
   ]
  },
  {
   "cell_type": "code",
   "execution_count": 13,
   "metadata": {},
   "outputs": [
    {
     "data": {
      "text/plain": [
       "true"
      ]
     },
     "execution_count": 13,
     "metadata": {},
     "output_type": "execute_result"
    }
   ],
   "source": [
    "Vector{Real} === Vector{T where T<:Real}"
   ]
  },
  {
   "cell_type": "markdown",
   "metadata": {},
   "source": [
    "### Type parameters in function signatures"
   ]
  },
  {
   "cell_type": "code",
   "execution_count": 104,
   "metadata": {},
   "outputs": [
    {
     "data": {
      "text/plain": [
       "h (generic function with 2 methods)"
      ]
     },
     "execution_count": 104,
     "metadata": {},
     "output_type": "execute_result"
    }
   ],
   "source": [
    "h(x::Integer) = typeof(x)"
   ]
  },
  {
   "cell_type": "code",
   "execution_count": 105,
   "metadata": {},
   "outputs": [
    {
     "data": {
      "text/plain": [
       "h (generic function with 3 methods)"
      ]
     },
     "execution_count": 105,
     "metadata": {},
     "output_type": "execute_result"
    }
   ],
   "source": [
    "h(x::T) where T = T"
   ]
  },
  {
   "cell_type": "markdown",
   "metadata": {},
   "source": [
    "**Quick exercise**: Write a single-argument function that takes any real matrix as input and returns the element type of the matrix."
   ]
  },
  {
   "cell_type": "code",
   "execution_count": null,
   "metadata": {},
   "outputs": [],
   "source": []
  },
  {
   "cell_type": "markdown",
   "metadata": {},
   "source": [
    "**Solution:**\n",
    "<details>\n",
    "  <summary>Click to reveal</summary>\n",
    "<br>\n",
    "    \n",
    "```julia\n",
    "g(x::Matrix{T}) where T<:Real = T\n",
    "```\n",
    "\n",
    "or alternatively\n",
    "\n",
    "```julia\n",
    "g(x::Matrix{<:Real}) = eltype(x)\n",
    "```\n",
    "</details>"
   ]
  },
  {
   "cell_type": "markdown",
   "metadata": {},
   "source": [
    "**Test:**"
   ]
  },
  {
   "cell_type": "code",
   "execution_count": 102,
   "metadata": {},
   "outputs": [
    {
     "data": {
      "text/plain": [
       "Float32"
      ]
     },
     "execution_count": 102,
     "metadata": {},
     "output_type": "execute_result"
    }
   ],
   "source": [
    "g(rand(Float32,2,2))"
   ]
  },
  {
   "cell_type": "code",
   "execution_count": 100,
   "metadata": {},
   "outputs": [
    {
     "data": {
      "text/plain": [
       "Int16"
      ]
     },
     "execution_count": 100,
     "metadata": {},
     "output_type": "execute_result"
    }
   ],
   "source": [
    "g(rand(Int16,2,2))"
   ]
  },
  {
   "cell_type": "markdown",
   "metadata": {},
   "source": [
    "# \"Diagonal\" dispatch"
   ]
  },
  {
   "cell_type": "code",
   "execution_count": 133,
   "metadata": {},
   "outputs": [
    {
     "data": {
      "text/plain": [
       "d (generic function with 2 methods)"
      ]
     },
     "execution_count": 133,
     "metadata": {},
     "output_type": "execute_result"
    }
   ],
   "source": [
    "d(x::T, y::T) where T = \"same type\"\n",
    "d(x, y) = \"different types\""
   ]
  },
  {
   "cell_type": "code",
   "execution_count": 134,
   "metadata": {},
   "outputs": [
    {
     "data": {
      "text/plain": [
       "\"same type\""
      ]
     },
     "execution_count": 134,
     "metadata": {},
     "output_type": "execute_result"
    }
   ],
   "source": [
    "d(3, 4)"
   ]
  },
  {
   "cell_type": "code",
   "execution_count": 135,
   "metadata": {},
   "outputs": [
    {
     "data": {
      "text/plain": [
       "\"same type\""
      ]
     },
     "execution_count": 135,
     "metadata": {},
     "output_type": "execute_result"
    }
   ],
   "source": [
    "d(3.0, 1.0)"
   ]
  },
  {
   "cell_type": "code",
   "execution_count": 137,
   "metadata": {},
   "outputs": [
    {
     "data": {
      "text/plain": [
       "\"different types\""
      ]
     },
     "execution_count": 137,
     "metadata": {},
     "output_type": "execute_result"
    }
   ],
   "source": [
    "d(1, 4.2)"
   ]
  },
  {
   "cell_type": "markdown",
   "metadata": {},
   "source": [
    "# `Union` types"
   ]
  },
  {
   "cell_type": "code",
   "execution_count": 12,
   "metadata": {},
   "outputs": [
    {
     "data": {
      "text/plain": [
       "Union{Float64, Int64}"
      ]
     },
     "execution_count": 12,
     "metadata": {},
     "output_type": "execute_result"
    }
   ],
   "source": [
    "mytypes = Union{Float64, Int64}"
   ]
  },
  {
   "cell_type": "code",
   "execution_count": 13,
   "metadata": {},
   "outputs": [
    {
     "data": {
      "text/plain": [
       "true"
      ]
     },
     "execution_count": 13,
     "metadata": {},
     "output_type": "execute_result"
    }
   ],
   "source": [
    "Float64 <: mytypes"
   ]
  },
  {
   "cell_type": "code",
   "execution_count": 14,
   "metadata": {},
   "outputs": [
    {
     "data": {
      "text/plain": [
       "true"
      ]
     },
     "execution_count": 14,
     "metadata": {},
     "output_type": "execute_result"
    }
   ],
   "source": [
    "Int64 <: mytypes"
   ]
  },
  {
   "cell_type": "code",
   "execution_count": 15,
   "metadata": {},
   "outputs": [
    {
     "data": {
      "text/plain": [
       "false"
      ]
     },
     "execution_count": 15,
     "metadata": {},
     "output_type": "execute_result"
    }
   ],
   "source": [
    "Float32 <: mytypes"
   ]
  },
  {
   "cell_type": "markdown",
   "metadata": {},
   "source": [
    "# Duck typing examples"
   ]
  },
  {
   "cell_type": "markdown",
   "metadata": {},
   "source": [
    "### `UnitRange`"
   ]
  },
  {
   "cell_type": "code",
   "execution_count": 171,
   "metadata": {},
   "outputs": [
    {
     "data": {
      "text/plain": [
       "1:30"
      ]
     },
     "execution_count": 171,
     "metadata": {},
     "output_type": "execute_result"
    }
   ],
   "source": [
    "x = 1:30"
   ]
  },
  {
   "cell_type": "code",
   "execution_count": 172,
   "metadata": {},
   "outputs": [
    {
     "data": {
      "text/plain": [
       "UnitRange{Int64}"
      ]
     },
     "execution_count": 172,
     "metadata": {},
     "output_type": "execute_result"
    }
   ],
   "source": [
    "typeof(x)"
   ]
  },
  {
   "cell_type": "code",
   "execution_count": 110,
   "metadata": {},
   "outputs": [
    {
     "data": {
      "text/plain": [
       "true"
      ]
     },
     "execution_count": 110,
     "metadata": {},
     "output_type": "execute_result"
    }
   ],
   "source": [
    "typeof(x) <: AbstractArray"
   ]
  },
  {
   "cell_type": "markdown",
   "metadata": {},
   "source": [
    "Because it is a subtype of `AbstractArray` we can do array-like things with it (it should basically behave like an array!)"
   ]
  },
  {
   "cell_type": "code",
   "execution_count": 174,
   "metadata": {},
   "outputs": [
    {
     "data": {
      "text/plain": [
       "3"
      ]
     },
     "execution_count": 174,
     "metadata": {},
     "output_type": "execute_result"
    }
   ],
   "source": [
    "x[3]"
   ]
  },
  {
   "cell_type": "code",
   "execution_count": 176,
   "metadata": {},
   "outputs": [
    {
     "data": {
      "text/plain": [
       "(30,)"
      ]
     },
     "execution_count": 176,
     "metadata": {},
     "output_type": "execute_result"
    }
   ],
   "source": [
    "size(x)"
   ]
  },
  {
   "cell_type": "code",
   "execution_count": 177,
   "metadata": {},
   "outputs": [
    {
     "data": {
      "text/plain": [
       "Int64"
      ]
     },
     "execution_count": 177,
     "metadata": {},
     "output_type": "execute_result"
    }
   ],
   "source": [
    "eltype(x)"
   ]
  },
  {
   "cell_type": "markdown",
   "metadata": {},
   "source": [
    "However, it's not implemented like a regular `Array` at all.\n",
    "\n",
    "In fact, it's just two numbers! We can see this by looking at it's fields:"
   ]
  },
  {
   "cell_type": "code",
   "execution_count": 93,
   "metadata": {},
   "outputs": [
    {
     "data": {
      "text/plain": [
       "(:start, :stop)"
      ]
     },
     "execution_count": 93,
     "metadata": {},
     "output_type": "execute_result"
    }
   ],
   "source": [
    "fieldnames(typeof(x))"
   ]
  },
  {
   "cell_type": "markdown",
   "metadata": {},
   "source": [
    "or just by inspecting the source code"
   ]
  },
  {
   "cell_type": "code",
   "execution_count": 183,
   "metadata": {},
   "outputs": [
    {
     "data": {
      "text/html": [
       "(::<b>Type{UnitRange}</b>)<i>{T<:Real}</i>(start::<b>T</b>, stop::<b>T</b>) in Base at <a href=\"https://github.com/JuliaLang/julia/tree/80516ca20297a67b996caa08c38786332379b6a5/base/range.jl#L276\" target=\"_blank\">range.jl:276</a>"
      ],
      "text/plain": [
       "(::Type{UnitRange})(start::T, stop::T) where T<:Real in Base at range.jl:276"
      ]
     },
     "execution_count": 183,
     "metadata": {},
     "output_type": "execute_result"
    }
   ],
   "source": [
    "@which UnitRange(1, 30)"
   ]
  },
  {
   "cell_type": "markdown",
   "metadata": {},
   "source": [
    "It is an `immutable` type which just holds the start and stop values.\n",
    "\n",
    "This means that indexing, `A[i]`, is not just a look-up but a (small) function (try `@which getindex(x, 4)`).\n",
    "\n",
    "What's nice about this is that we can use it in calculations and no array, containing the numbers from 1 to 30, is ever created."
   ]
  },
  {
   "cell_type": "markdown",
   "metadata": {},
   "source": [
    "Allocating memory is typically costly."
   ]
  },
  {
   "cell_type": "code",
   "execution_count": 187,
   "metadata": {},
   "outputs": [
    {
     "name": "stdout",
     "output_type": "stream",
     "text": [
      "  0.087493 seconds (7 allocations: 76.294 MiB, 72.13% gc time)\n"
     ]
    }
   ],
   "source": [
    "@time collect(1:10000000);"
   ]
  },
  {
   "cell_type": "markdown",
   "metadata": {},
   "source": [
    "But creating an immutable type of two numbers is essentially free, no matter what those two numbers are:"
   ]
  },
  {
   "cell_type": "code",
   "execution_count": 190,
   "metadata": {},
   "outputs": [
    {
     "name": "stdout",
     "output_type": "stream",
     "text": [
      "  0.000002 seconds (5 allocations: 192 bytes)\n"
     ]
    }
   ],
   "source": [
    "@time 1:10000000;"
   ]
  },
  {
   "cell_type": "markdown",
   "metadata": {},
   "source": [
    "Yet, in code they *act* the same way."
   ]
  },
  {
   "cell_type": "markdown",
   "metadata": {},
   "source": [
    "### `UniformScaling` operator"
   ]
  },
  {
   "cell_type": "markdown",
   "metadata": {},
   "source": [
    "Another great example is the `UniformScaling` operator. It automatically gets loaded into scope when you do `using LinearAlgebra` and has the name `I`."
   ]
  },
  {
   "cell_type": "code",
   "execution_count": 191,
   "metadata": {},
   "outputs": [],
   "source": [
    "using LinearAlgebra"
   ]
  },
  {
   "cell_type": "code",
   "execution_count": 192,
   "metadata": {},
   "outputs": [
    {
     "data": {
      "text/plain": [
       "UniformScaling{Bool}\n",
       "true*I"
      ]
     },
     "execution_count": 192,
     "metadata": {},
     "output_type": "execute_result"
    }
   ],
   "source": [
    "I"
   ]
  },
  {
   "cell_type": "code",
   "execution_count": 193,
   "metadata": {},
   "outputs": [
    {
     "name": "stdout",
     "output_type": "stream",
     "text": [
      "search: \u001b[0m\u001b[1mI\u001b[22m \u001b[0m\u001b[1mI\u001b[22mO \u001b[0m\u001b[1mI\u001b[22mn \u001b[0m\u001b[1mi\u001b[22mf \u001b[0m\u001b[1mI\u001b[22mnt \u001b[0m\u001b[1mi\u001b[22mn \u001b[0m\u001b[1mi\u001b[22mm \u001b[0m\u001b[1mI\u001b[22mnf \u001b[0m\u001b[1mi\u001b[22msa \u001b[0m\u001b[1mI\u001b[22mnt8 \u001b[0m\u001b[1mi\u001b[22mnv \u001b[0m\u001b[1mI\u001b[22mnt64 \u001b[0m\u001b[1mI\u001b[22mnt32 \u001b[0m\u001b[1mI\u001b[22mnt16 \u001b[0m\u001b[1mi\u001b[22mmag \u001b[0m\u001b[1mI\u001b[22mnf64 \u001b[0m\u001b[1mI\u001b[22mnf32\n",
      "\n"
     ]
    },
    {
     "data": {
      "text/latex": [
       "\\begin{verbatim}\n",
       "I\n",
       "\\end{verbatim}\n",
       "An object of type \\href{@ref}{\\texttt{UniformScaling}}, representing an identity matrix of any size.\n",
       "\n",
       "\\section{Examples}\n",
       "\\begin{verbatim}\n",
       "julia> fill(1, (5,6)) * I == fill(1, (5,6))\n",
       "true\n",
       "\n",
       "julia> [1 2im 3; 1im 2 3] * I\n",
       "2×3 Array{Complex{Int64},2}:\n",
       " 1+0im  0+2im  3+0im\n",
       " 0+1im  2+0im  3+0im\n",
       "\\end{verbatim}\n"
      ],
      "text/markdown": [
       "```\n",
       "I\n",
       "```\n",
       "\n",
       "An object of type [`UniformScaling`](@ref), representing an identity matrix of any size.\n",
       "\n",
       "# Examples\n",
       "\n",
       "```jldoctest\n",
       "julia> fill(1, (5,6)) * I == fill(1, (5,6))\n",
       "true\n",
       "\n",
       "julia> [1 2im 3; 1im 2 3] * I\n",
       "2×3 Array{Complex{Int64},2}:\n",
       " 1+0im  0+2im  3+0im\n",
       " 0+1im  2+0im  3+0im\n",
       "```\n"
      ],
      "text/plain": [
       "\u001b[36m  I\u001b[39m\n",
       "\n",
       "  An object of type \u001b[36mUniformScaling\u001b[39m, representing an identity matrix of any\n",
       "  size.\n",
       "\n",
       "\u001b[1m  Examples\u001b[22m\n",
       "\u001b[1m  ≡≡≡≡≡≡≡≡≡≡\u001b[22m\n",
       "\n",
       "\u001b[36m  julia> fill(1, (5,6)) * I == fill(1, (5,6))\u001b[39m\n",
       "\u001b[36m  true\u001b[39m\n",
       "\u001b[36m  \u001b[39m\n",
       "\u001b[36m  julia> [1 2im 3; 1im 2 3] * I\u001b[39m\n",
       "\u001b[36m  2×3 Array{Complex{Int64},2}:\u001b[39m\n",
       "\u001b[36m   1+0im  0+2im  3+0im\u001b[39m\n",
       "\u001b[36m   0+1im  2+0im  3+0im\u001b[39m"
      ]
     },
     "execution_count": 193,
     "metadata": {},
     "output_type": "execute_result"
    }
   ],
   "source": [
    "?I"
   ]
  },
  {
   "cell_type": "markdown",
   "metadata": {},
   "source": [
    "Although it never actually materializes a full identity matrix it behaves like one!"
   ]
  },
  {
   "cell_type": "code",
   "execution_count": 197,
   "metadata": {},
   "outputs": [
    {
     "data": {
      "text/plain": [
       "2×2 Array{Int64,2}:\n",
       " 2  6\n",
       " 9  7"
      ]
     },
     "execution_count": 197,
     "metadata": {},
     "output_type": "execute_result"
    }
   ],
   "source": [
    "M = rand(1:10, 2,2)"
   ]
  },
  {
   "cell_type": "code",
   "execution_count": 198,
   "metadata": {},
   "outputs": [
    {
     "data": {
      "text/plain": [
       "2×2 Array{Int64,2}:\n",
       " 2  6\n",
       " 9  7"
      ]
     },
     "execution_count": 198,
     "metadata": {},
     "output_type": "execute_result"
    }
   ],
   "source": [
    "I * M"
   ]
  },
  {
   "cell_type": "code",
   "execution_count": 199,
   "metadata": {},
   "outputs": [
    {
     "data": {
      "text/plain": [
       "2×2 Array{Int64,2}:\n",
       " 3  6\n",
       " 9  8"
      ]
     },
     "execution_count": 199,
     "metadata": {},
     "output_type": "execute_result"
    }
   ],
   "source": [
    "M + I"
   ]
  },
  {
   "cell_type": "markdown",
   "metadata": {},
   "source": [
    "Hence, we can calculate things, say `A-b*I`, without ever allocating a dense identity matrix, which would take up $\\mathcal{O}(n^2)$ memory.\n",
    "\n",
    "Let's benchmark the performance difference!"
   ]
  },
  {
   "cell_type": "code",
   "execution_count": 260,
   "metadata": {},
   "outputs": [
    {
     "data": {
      "text/plain": [
       "1000×1000 Array{Float64,2}:\n",
       " 1.0  0.0  0.0  0.0  0.0  0.0  0.0  0.0  …  0.0  0.0  0.0  0.0  0.0  0.0  0.0\n",
       " 0.0  1.0  0.0  0.0  0.0  0.0  0.0  0.0     0.0  0.0  0.0  0.0  0.0  0.0  0.0\n",
       " 0.0  0.0  1.0  0.0  0.0  0.0  0.0  0.0     0.0  0.0  0.0  0.0  0.0  0.0  0.0\n",
       " 0.0  0.0  0.0  1.0  0.0  0.0  0.0  0.0     0.0  0.0  0.0  0.0  0.0  0.0  0.0\n",
       " 0.0  0.0  0.0  0.0  1.0  0.0  0.0  0.0     0.0  0.0  0.0  0.0  0.0  0.0  0.0\n",
       " 0.0  0.0  0.0  0.0  0.0  1.0  0.0  0.0  …  0.0  0.0  0.0  0.0  0.0  0.0  0.0\n",
       " 0.0  0.0  0.0  0.0  0.0  0.0  1.0  0.0     0.0  0.0  0.0  0.0  0.0  0.0  0.0\n",
       " 0.0  0.0  0.0  0.0  0.0  0.0  0.0  1.0     0.0  0.0  0.0  0.0  0.0  0.0  0.0\n",
       " 0.0  0.0  0.0  0.0  0.0  0.0  0.0  0.0     0.0  0.0  0.0  0.0  0.0  0.0  0.0\n",
       " 0.0  0.0  0.0  0.0  0.0  0.0  0.0  0.0     0.0  0.0  0.0  0.0  0.0  0.0  0.0\n",
       " 0.0  0.0  0.0  0.0  0.0  0.0  0.0  0.0  …  0.0  0.0  0.0  0.0  0.0  0.0  0.0\n",
       " 0.0  0.0  0.0  0.0  0.0  0.0  0.0  0.0     0.0  0.0  0.0  0.0  0.0  0.0  0.0\n",
       " 0.0  0.0  0.0  0.0  0.0  0.0  0.0  0.0     0.0  0.0  0.0  0.0  0.0  0.0  0.0\n",
       " ⋮                        ⋮              ⋱            ⋮                      \n",
       " 0.0  0.0  0.0  0.0  0.0  0.0  0.0  0.0     0.0  0.0  0.0  0.0  0.0  0.0  0.0\n",
       " 0.0  0.0  0.0  0.0  0.0  0.0  0.0  0.0     0.0  0.0  0.0  0.0  0.0  0.0  0.0\n",
       " 0.0  0.0  0.0  0.0  0.0  0.0  0.0  0.0  …  0.0  0.0  0.0  0.0  0.0  0.0  0.0\n",
       " 0.0  0.0  0.0  0.0  0.0  0.0  0.0  0.0     0.0  0.0  0.0  0.0  0.0  0.0  0.0\n",
       " 0.0  0.0  0.0  0.0  0.0  0.0  0.0  0.0     0.0  0.0  0.0  0.0  0.0  0.0  0.0\n",
       " 0.0  0.0  0.0  0.0  0.0  0.0  0.0  0.0     1.0  0.0  0.0  0.0  0.0  0.0  0.0\n",
       " 0.0  0.0  0.0  0.0  0.0  0.0  0.0  0.0     0.0  1.0  0.0  0.0  0.0  0.0  0.0\n",
       " 0.0  0.0  0.0  0.0  0.0  0.0  0.0  0.0  …  0.0  0.0  1.0  0.0  0.0  0.0  0.0\n",
       " 0.0  0.0  0.0  0.0  0.0  0.0  0.0  0.0     0.0  0.0  0.0  1.0  0.0  0.0  0.0\n",
       " 0.0  0.0  0.0  0.0  0.0  0.0  0.0  0.0     0.0  0.0  0.0  0.0  1.0  0.0  0.0\n",
       " 0.0  0.0  0.0  0.0  0.0  0.0  0.0  0.0     0.0  0.0  0.0  0.0  0.0  1.0  0.0\n",
       " 0.0  0.0  0.0  0.0  0.0  0.0  0.0  0.0     0.0  0.0  0.0  0.0  0.0  0.0  1.0"
      ]
     },
     "execution_count": 260,
     "metadata": {},
     "output_type": "execute_result"
    }
   ],
   "source": [
    "N = 1000\n",
    "M = rand(N,N)\n",
    "fullI = Matrix(1.0I, N,N) # alternatively but slower, diagm(0 => [1.0, 1.0])"
   ]
  },
  {
   "cell_type": "code",
   "execution_count": 270,
   "metadata": {},
   "outputs": [
    {
     "data": {
      "text/plain": [
       "fast (generic function with 1 method)"
      ]
     },
     "execution_count": 270,
     "metadata": {},
     "output_type": "execute_result"
    }
   ],
   "source": [
    "fast(M) = M + 3*I"
   ]
  },
  {
   "cell_type": "code",
   "execution_count": 271,
   "metadata": {},
   "outputs": [
    {
     "data": {
      "text/plain": [
       "slow (generic function with 1 method)"
      ]
     },
     "execution_count": 271,
     "metadata": {},
     "output_type": "execute_result"
    }
   ],
   "source": [
    "slow(M, fullI) = M + 3*fullI"
   ]
  },
  {
   "cell_type": "code",
   "execution_count": 276,
   "metadata": {},
   "outputs": [
    {
     "data": {
      "text/plain": [
       "slower (generic function with 1 method)"
      ]
     },
     "execution_count": 276,
     "metadata": {},
     "output_type": "execute_result"
    }
   ],
   "source": [
    "function slower(M)\n",
    "    fullI = Matrix(1.0I, size(M)...)\n",
    "    M + 3*fullI\n",
    "end"
   ]
  },
  {
   "cell_type": "code",
   "execution_count": 284,
   "metadata": {},
   "outputs": [
    {
     "name": "stdout",
     "output_type": "stream",
     "text": [
      "  0.002416 seconds (6 allocations: 7.630 MiB)\n",
      "  0.010202 seconds (8 allocations: 15.259 MiB, 33.68% gc time)\n",
      "  0.011036 seconds (10 allocations: 22.889 MiB, 21.01% gc time)\n"
     ]
    }
   ],
   "source": [
    "@time fast(M);\n",
    "@time slow(M, fullI);\n",
    "@time slower(M);"
   ]
  },
  {
   "cell_type": "markdown",
   "metadata": {},
   "source": [
    "Note that benchmarks with `@time` are almost always flawed. One should generally use `@btime` from the package `BenchmarkTools` as we will explore later in the workshop."
   ]
  },
  {
   "cell_type": "markdown",
   "metadata": {},
   "source": [
    "# Other types"
   ]
  },
  {
   "cell_type": "markdown",
   "metadata": {},
   "source": [
    "* Union types: `Union{Float64, Int32}`\n",
    "* [Bitstypes](https://docs.julialang.org/en/v1/manual/calling-c-and-fortran-code/#man-bits-types-1) (check with `isbits(x)`, `isbitstype(T)`)\n",
    "* [Value types](https://docs.julialang.org/en/v1/manual/types/#%22Value-types%22-1) (allows dispatch on values)\n",
    "\n",
    "See https://docs.julialang.org/en/latest/manual/types/ for more."
   ]
  },
  {
   "cell_type": "markdown",
   "metadata": {},
   "source": [
    "# Extra: slurping and splatting"
   ]
  },
  {
   "cell_type": "code",
   "execution_count": 291,
   "metadata": {},
   "outputs": [
    {
     "data": {
      "text/plain": [
       "f (generic function with 3 methods)"
      ]
     },
     "execution_count": 291,
     "metadata": {},
     "output_type": "execute_result"
    }
   ],
   "source": [
    "f(x...) = println(x) # slurping"
   ]
  },
  {
   "cell_type": "code",
   "execution_count": 286,
   "metadata": {},
   "outputs": [
    {
     "name": "stdout",
     "output_type": "stream",
     "text": [
      "(3, 1.2, \"Carsten\")\n"
     ]
    }
   ],
   "source": [
    "f(3, 1.2, \"Carsten\")"
   ]
  },
  {
   "cell_type": "code",
   "execution_count": 292,
   "metadata": {},
   "outputs": [
    {
     "data": {
      "text/plain": [
       "g (generic function with 4 methods)"
      ]
     },
     "execution_count": 292,
     "metadata": {},
     "output_type": "execute_result"
    }
   ],
   "source": [
    "g(x::Vector) = +(x...) # splat vector into addition operation"
   ]
  },
  {
   "cell_type": "code",
   "execution_count": 293,
   "metadata": {},
   "outputs": [
    {
     "data": {
      "text/plain": [
       "6"
      ]
     },
     "execution_count": 293,
     "metadata": {},
     "output_type": "execute_result"
    }
   ],
   "source": [
    "g([1,2,3])"
   ]
  },
  {
   "cell_type": "markdown",
   "metadata": {},
   "source": [
    "# Core messages of this Notebook\n",
    "\n",
    "* **Concrete types** describe data structures, i.e. concrete implementations.\n",
    "* **Abstract types** define the kind of a thing (What is it? What can I do with it?), i.e. an informal interface. This is also known as **duck-typing**.\n",
    "* A **function** (the what) can have multiple **methods** (the how).\n",
    "* **Multiple dispatch**: Julia selects the method to run based on the types of all input arguments and chooses the most specialized one.\n",
    "* Types can have parameters, i.e. `Vector{Float64}`. We can use the notation `T where T<:SomeSuperType` to address *sets* of types."
   ]
  }
 ],
 "metadata": {
  "@webio": {
   "lastCommId": null,
   "lastKernelId": null
  },
  "kernelspec": {
   "display_name": "Julia 1.2.0",
   "language": "julia",
   "name": "julia-1.2"
  },
  "language_info": {
   "file_extension": ".jl",
   "mimetype": "application/julia",
   "name": "julia",
   "version": "1.2.0"
  }
 },
 "nbformat": 4,
 "nbformat_minor": 2
}
