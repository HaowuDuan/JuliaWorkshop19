{
 "cells": [
  {
   "cell_type": "markdown",
   "metadata": {},
   "source": [
    "# Defining data types"
   ]
  },
  {
   "cell_type": "markdown",
   "metadata": {},
   "source": [
    "We can define types (i.e. data structures) ourselves using the `struct` keyword.\n",
    "\n",
    "It is a convention that type names are capitalized and [camel cased](https://en.wikipedia.org/wiki/Camel_case).\n",
    "\n",
    "(Note that types can not be redefined - you have to restart your Julia session to change a type definiton.)"
   ]
  },
  {
   "cell_type": "code",
   "execution_count": 2,
   "metadata": {},
   "outputs": [],
   "source": [
    "struct MyType end"
   ]
  },
  {
   "cell_type": "markdown",
   "metadata": {},
   "source": [
    "To create an object of type `MyType` we have to call a [constructor](https://docs.julialang.org/en/latest/manual/constructors/). Loosely speaking, a constructor is a function that create new objects.\n",
    "\n",
    "Julia automatically creates a trivial constructors for us, which has the same name as the type."
   ]
  },
  {
   "cell_type": "code",
   "execution_count": 53,
   "metadata": {},
   "outputs": [
    {
     "data": {
      "text/html": [
       "1 method for generic function <b>Type</b>:<ul><li> MyType() in Main at In[2]:1</li> </ul>"
      ],
      "text/plain": [
       "# 1 method for generic function \"(::Type)\":\n",
       "[1] MyType() in Main at In[2]:1"
      ]
     },
     "execution_count": 53,
     "metadata": {},
     "output_type": "execute_result"
    }
   ],
   "source": [
    "methods(MyType)"
   ]
  },
  {
   "cell_type": "code",
   "execution_count": 3,
   "metadata": {},
   "outputs": [
    {
     "data": {
      "text/plain": [
       "MyType()"
      ]
     },
     "execution_count": 3,
     "metadata": {},
     "output_type": "execute_result"
    }
   ],
   "source": [
    "m = MyType()"
   ]
  },
  {
   "cell_type": "code",
   "execution_count": 4,
   "metadata": {},
   "outputs": [
    {
     "data": {
      "text/plain": [
       "MyType"
      ]
     },
     "execution_count": 4,
     "metadata": {},
     "output_type": "execute_result"
    }
   ],
   "source": [
    "typeof(m)"
   ]
  },
  {
   "cell_type": "code",
   "execution_count": 5,
   "metadata": {},
   "outputs": [
    {
     "data": {
      "text/plain": [
       "true"
      ]
     },
     "execution_count": 5,
     "metadata": {},
     "output_type": "execute_result"
    }
   ],
   "source": [
    "m isa MyType"
   ]
  },
  {
   "cell_type": "markdown",
   "metadata": {},
   "source": [
    "Since no data is contained in our `MyType`  - it is a so-called *singleton type* - we can basically only use it for dispatch."
   ]
  },
  {
   "cell_type": "code",
   "execution_count": 10,
   "metadata": {},
   "outputs": [
    {
     "data": {
      "text/plain": [
       "f (generic function with 1 method)"
      ]
     },
     "execution_count": 10,
     "metadata": {},
     "output_type": "execute_result"
    }
   ],
   "source": [
    "f(x::MyType) = println(\"I'm the only method that works with objects of MyType.\")"
   ]
  },
  {
   "cell_type": "code",
   "execution_count": 11,
   "metadata": {},
   "outputs": [
    {
     "name": "stdout",
     "output_type": "stream",
     "text": [
      "I'm the only method that works with objects of MyType.\n"
     ]
    }
   ],
   "source": [
    "f(m)"
   ]
  },
  {
   "cell_type": "markdown",
   "metadata": {},
   "source": [
    "Most of the time, we'll want a self-defined type to hold some data. For this, we need *fields*."
   ]
  },
  {
   "cell_type": "code",
   "execution_count": 13,
   "metadata": {},
   "outputs": [],
   "source": [
    "struct A\n",
    "    x::Int64\n",
    "end"
   ]
  },
  {
   "cell_type": "code",
   "execution_count": 14,
   "metadata": {},
   "outputs": [
    {
     "ename": "MethodError",
     "evalue": "MethodError: no method matching A()\nClosest candidates are:\n  A(!Matched::Int64) at In[13]:2\n  A(!Matched::Any) at In[13]:2",
     "output_type": "error",
     "traceback": [
      "MethodError: no method matching A()\nClosest candidates are:\n  A(!Matched::Int64) at In[13]:2\n  A(!Matched::Any) at In[13]:2",
      "",
      "Stacktrace:",
      " [1] top-level scope at In[14]:1"
     ]
    }
   ],
   "source": [
    "A()"
   ]
  },
  {
   "cell_type": "markdown",
   "metadata": {},
   "source": [
    "The default constructor always expects values for all fields."
   ]
  },
  {
   "cell_type": "code",
   "execution_count": 15,
   "metadata": {},
   "outputs": [
    {
     "data": {
      "text/plain": [
       "A(3)"
      ]
     },
     "execution_count": 15,
     "metadata": {},
     "output_type": "execute_result"
    }
   ],
   "source": [
    "A(3)"
   ]
  },
  {
   "cell_type": "code",
   "execution_count": 16,
   "metadata": {},
   "outputs": [
    {
     "data": {
      "text/plain": [
       "A(3)"
      ]
     },
     "execution_count": 16,
     "metadata": {},
     "output_type": "execute_result"
    }
   ],
   "source": [
    "a = A(3)"
   ]
  },
  {
   "cell_type": "code",
   "execution_count": 17,
   "metadata": {},
   "outputs": [
    {
     "data": {
      "text/plain": [
       "3"
      ]
     },
     "execution_count": 17,
     "metadata": {},
     "output_type": "execute_result"
    }
   ],
   "source": [
    "# a.<TAB>\n",
    "a.x"
   ]
  },
  {
   "cell_type": "markdown",
   "metadata": {},
   "source": [
    "Note that types defined with `struct` are **immutable**, that is the values of it's fields cannot be changed."
   ]
  },
  {
   "cell_type": "code",
   "execution_count": 21,
   "metadata": {},
   "outputs": [
    {
     "ename": "ErrorException",
     "evalue": "setfield! immutable struct of type A cannot be changed",
     "output_type": "error",
     "traceback": [
      "setfield! immutable struct of type A cannot be changed",
      "",
      "Stacktrace:",
      " [1] setproperty!(::A, ::Symbol, ::Int64) at .\\sysimg.jl:19",
      " [2] top-level scope at In[21]:1"
     ]
    }
   ],
   "source": [
    "a.x = 2"
   ]
  },
  {
   "cell_type": "code",
   "execution_count": 22,
   "metadata": {},
   "outputs": [],
   "source": [
    "mutable struct B\n",
    "    x::Int64\n",
    "end"
   ]
  },
  {
   "cell_type": "code",
   "execution_count": 23,
   "metadata": {},
   "outputs": [
    {
     "data": {
      "text/plain": [
       "B(3)"
      ]
     },
     "execution_count": 23,
     "metadata": {},
     "output_type": "execute_result"
    }
   ],
   "source": [
    "b = B(3)"
   ]
  },
  {
   "cell_type": "code",
   "execution_count": 24,
   "metadata": {},
   "outputs": [
    {
     "data": {
      "text/plain": [
       "3"
      ]
     },
     "execution_count": 24,
     "metadata": {},
     "output_type": "execute_result"
    }
   ],
   "source": [
    "b.x"
   ]
  },
  {
   "cell_type": "code",
   "execution_count": 25,
   "metadata": {},
   "outputs": [
    {
     "data": {
      "text/plain": [
       "4"
      ]
     },
     "execution_count": 25,
     "metadata": {},
     "output_type": "execute_result"
    }
   ],
   "source": [
    "b.x = 4"
   ]
  },
  {
   "cell_type": "code",
   "execution_count": 26,
   "metadata": {},
   "outputs": [
    {
     "data": {
      "text/plain": [
       "4"
      ]
     },
     "execution_count": 26,
     "metadata": {},
     "output_type": "execute_result"
    }
   ],
   "source": [
    "b.x"
   ]
  },
  {
   "cell_type": "markdown",
   "metadata": {},
   "source": [
    "Note, however, that **immutability is not recursive**."
   ]
  },
  {
   "cell_type": "code",
   "execution_count": 159,
   "metadata": {},
   "outputs": [],
   "source": [
    "struct C\n",
    "    x::Vector{Int64}\n",
    "end"
   ]
  },
  {
   "cell_type": "code",
   "execution_count": 160,
   "metadata": {},
   "outputs": [
    {
     "data": {
      "text/plain": [
       "C([1, 2, 3])"
      ]
     },
     "execution_count": 160,
     "metadata": {},
     "output_type": "execute_result"
    }
   ],
   "source": [
    "c = C([1, 2, 3])"
   ]
  },
  {
   "cell_type": "code",
   "execution_count": 161,
   "metadata": {},
   "outputs": [
    {
     "data": {
      "text/plain": [
       "3-element Array{Int64,1}:\n",
       " 1\n",
       " 2\n",
       " 3"
      ]
     },
     "execution_count": 161,
     "metadata": {},
     "output_type": "execute_result"
    }
   ],
   "source": [
    "c.x"
   ]
  },
  {
   "cell_type": "code",
   "execution_count": 162,
   "metadata": {},
   "outputs": [
    {
     "ename": "ErrorException",
     "evalue": "setfield! immutable struct of type C cannot be changed",
     "output_type": "error",
     "traceback": [
      "setfield! immutable struct of type C cannot be changed",
      "",
      "Stacktrace:",
      " [1] setproperty!(::C, ::Symbol, ::Array{Int64,1}) at .\\sysimg.jl:19",
      " [2] top-level scope at In[162]:1"
     ]
    }
   ],
   "source": [
    "c.x = [3,4,5]"
   ]
  },
  {
   "cell_type": "code",
   "execution_count": 163,
   "metadata": {},
   "outputs": [
    {
     "data": {
      "text/plain": [
       "3"
      ]
     },
     "execution_count": 163,
     "metadata": {},
     "output_type": "execute_result"
    }
   ],
   "source": [
    "c.x[1] = 3"
   ]
  },
  {
   "cell_type": "code",
   "execution_count": 164,
   "metadata": {},
   "outputs": [
    {
     "data": {
      "text/plain": [
       "3-element Array{Int64,1}:\n",
       " 3\n",
       " 2\n",
       " 3"
      ]
     },
     "execution_count": 164,
     "metadata": {},
     "output_type": "execute_result"
    }
   ],
   "source": [
    "c.x"
   ]
  },
  {
   "cell_type": "code",
   "execution_count": 165,
   "metadata": {},
   "outputs": [
    {
     "data": {
      "text/plain": [
       "3-element Array{Int64,1}:\n",
       " 3\n",
       " 4\n",
       " 5"
      ]
     },
     "execution_count": 165,
     "metadata": {},
     "output_type": "execute_result"
    }
   ],
   "source": [
    "c.x .= [3,4,5] # dot to perform the assignment element-wise"
   ]
  },
  {
   "cell_type": "markdown",
   "metadata": {},
   "source": [
    "Abstract types are just as easy to define using the keyword `abstract type`."
   ]
  },
  {
   "cell_type": "code",
   "execution_count": 34,
   "metadata": {},
   "outputs": [],
   "source": [
    "abstract type MyAbstractType end"
   ]
  },
  {
   "cell_type": "markdown",
   "metadata": {},
   "source": [
    "Since abstract types don't have fields, they only (informally) define interfaces and can be used for dispatch."
   ]
  },
  {
   "cell_type": "code",
   "execution_count": 35,
   "metadata": {},
   "outputs": [],
   "source": [
    "struct MyConcreteType <: MyAbstractType # subtype\n",
    "    somefield::String\n",
    "end"
   ]
  },
  {
   "cell_type": "code",
   "execution_count": 38,
   "metadata": {},
   "outputs": [
    {
     "data": {
      "text/plain": [
       "MyConcreteType(\"test\")"
      ]
     },
     "execution_count": 38,
     "metadata": {},
     "output_type": "execute_result"
    }
   ],
   "source": [
    "c = MyConcreteType(\"test\")"
   ]
  },
  {
   "cell_type": "code",
   "execution_count": 39,
   "metadata": {},
   "outputs": [
    {
     "data": {
      "text/plain": [
       "true"
      ]
     },
     "execution_count": 39,
     "metadata": {},
     "output_type": "execute_result"
    }
   ],
   "source": [
    "c isa MyAbstractType"
   ]
  },
  {
   "cell_type": "code",
   "execution_count": 42,
   "metadata": {},
   "outputs": [
    {
     "data": {
      "text/plain": [
       "MyAbstractType"
      ]
     },
     "execution_count": 42,
     "metadata": {},
     "output_type": "execute_result"
    }
   ],
   "source": [
    "supertype(MyConcreteType)"
   ]
  },
  {
   "cell_type": "code",
   "execution_count": 44,
   "metadata": {},
   "outputs": [
    {
     "data": {
      "text/plain": [
       "1-element Array{Any,1}:\n",
       " MyConcreteType"
      ]
     },
     "execution_count": 44,
     "metadata": {},
     "output_type": "execute_result"
    }
   ],
   "source": [
    "subtypes(MyAbstractType)"
   ]
  },
  {
   "cell_type": "markdown",
   "metadata": {},
   "source": [
    "# Custom constructor"
   ]
  },
  {
   "cell_type": "code",
   "execution_count": 55,
   "metadata": {},
   "outputs": [],
   "source": [
    "struct VolNaive\n",
    "    value::Float64\n",
    "end"
   ]
  },
  {
   "cell_type": "code",
   "execution_count": 56,
   "metadata": {},
   "outputs": [
    {
     "data": {
      "text/plain": [
       "VolNaive(3.0)"
      ]
     },
     "execution_count": 56,
     "metadata": {},
     "output_type": "execute_result"
    }
   ],
   "source": [
    "VolNaive(3.0)"
   ]
  },
  {
   "cell_type": "code",
   "execution_count": 57,
   "metadata": {},
   "outputs": [
    {
     "data": {
      "text/plain": [
       "VolNaive(-3.0)"
      ]
     },
     "execution_count": 57,
     "metadata": {},
     "output_type": "execute_result"
    }
   ],
   "source": [
    "VolNaive(-3.0)"
   ]
  },
  {
   "cell_type": "code",
   "execution_count": 65,
   "metadata": {},
   "outputs": [],
   "source": [
    "struct VolSimple\n",
    "    value::Float64\n",
    "    \n",
    "    function VolSimple(x) # inner constructor. function name must match the type.\n",
    "        if !(x isa Real)\n",
    "            throw(ArgumentError(\"Must be real\"))\n",
    "        end\n",
    "        if x < 0\n",
    "            throw(ArgumentError(\"Negative volume not allowed.\"))\n",
    "        end\n",
    "        new(x) # within an inner constructor, the `new` function can be used to create an object.\n",
    "    end\n",
    "end"
   ]
  },
  {
   "cell_type": "markdown",
   "metadata": {},
   "source": [
    "---\n",
    "\n",
    "**Side note:**\n",
    "\n",
    "```julia\n",
    "if !(x isa Real)\n",
    "    throw(ArgumentError(\"Must be real\"))\n",
    "end\n",
    "if x < 0\n",
    "    throw(ArgumentError(\"Negative volume not allowed.\"))\n",
    "end\n",
    "```\n",
    "\n",
    "This can be written more compactly as\n",
    "```julia\n",
    "x isa Real || throw(ArgumentError(\"Must be real\"))\n",
    "x < 0 && throw(ArgumentError(\"Negative volume not allowed.\"))\n",
    "```\n",
    "\n",
    "See [\"short-circuit evaluation\"](https://docs.julialang.org/en/latest/manual/control-flow/#Short-Circuit-Evaluation-1) for more information.\n",
    "\n",
    "---"
   ]
  },
  {
   "cell_type": "code",
   "execution_count": 70,
   "metadata": {},
   "outputs": [
    {
     "data": {
      "text/plain": [
       "VolSimple(3.0)"
      ]
     },
     "execution_count": 70,
     "metadata": {},
     "output_type": "execute_result"
    }
   ],
   "source": [
    "VolSimple(3.0)"
   ]
  },
  {
   "cell_type": "code",
   "execution_count": 71,
   "metadata": {},
   "outputs": [
    {
     "ename": "ArgumentError",
     "evalue": "ArgumentError: Negative volume not allowed.",
     "output_type": "error",
     "traceback": [
      "ArgumentError: Negative volume not allowed.",
      "",
      "Stacktrace:",
      " [1] VolSimple(::Float64) at .\\In[65]:9",
      " [2] top-level scope at In[71]:1"
     ]
    }
   ],
   "source": [
    "VolSimple(-3.0)"
   ]
  },
  {
   "cell_type": "code",
   "execution_count": 72,
   "metadata": {},
   "outputs": [
    {
     "ename": "ArgumentError",
     "evalue": "ArgumentError: Must be real",
     "output_type": "error",
     "traceback": [
      "ArgumentError: Must be real",
      "",
      "Stacktrace:",
      " [1] VolSimple(::String) at .\\In[65]:6",
      " [2] top-level scope at In[72]:1"
     ]
    }
   ],
   "source": [
    "VolSimple(\"test\")"
   ]
  },
  {
   "cell_type": "code",
   "execution_count": 69,
   "metadata": {},
   "outputs": [
    {
     "data": {
      "text/plain": [
       "VolSimple(3.0)"
      ]
     },
     "execution_count": 69,
     "metadata": {},
     "output_type": "execute_result"
    }
   ],
   "source": [
    "VolSimple(3) # implicit conversion from Int64 -> Float64"
   ]
  },
  {
   "cell_type": "markdown",
   "metadata": {},
   "source": [
    "# Parametric types"
   ]
  },
  {
   "cell_type": "markdown",
   "metadata": {},
   "source": [
    "Volumes don't have to be `Float64` values. We can easily relax our type definition to allow all sorts of internal value types."
   ]
  },
  {
   "cell_type": "code",
   "execution_count": 77,
   "metadata": {},
   "outputs": [],
   "source": [
    "struct VolParam{T}\n",
    "    value::T\n",
    "    \n",
    "    function VolParam(x::T) where T # x can be of any type T\n",
    "        if !(x isa Real)\n",
    "            throw(ArgumentError(\"Must be real\"))\n",
    "        end\n",
    "        if x < 0\n",
    "            throw(ArgumentError(\"Negative volume not allowed.\"))\n",
    "        end\n",
    "        new{T}(x) # Note that we need an extra {T} here\n",
    "    end\n",
    "end"
   ]
  },
  {
   "cell_type": "code",
   "execution_count": 79,
   "metadata": {},
   "outputs": [
    {
     "data": {
      "text/plain": [
       "VolParam{Float64}(3.0)"
      ]
     },
     "execution_count": 79,
     "metadata": {},
     "output_type": "execute_result"
    }
   ],
   "source": [
    "VolParam(3.0)"
   ]
  },
  {
   "cell_type": "code",
   "execution_count": 80,
   "metadata": {},
   "outputs": [
    {
     "data": {
      "text/plain": [
       "VolParam{Int64}(3)"
      ]
     },
     "execution_count": 80,
     "metadata": {},
     "output_type": "execute_result"
    }
   ],
   "source": [
    "VolParam(3)"
   ]
  },
  {
   "cell_type": "markdown",
   "metadata": {},
   "source": [
    "Instead of checking the realness of the input `x` explicitly in the inner constructor, we can impose type constraints in the type and function signatures."
   ]
  },
  {
   "cell_type": "code",
   "execution_count": 1,
   "metadata": {},
   "outputs": [],
   "source": [
    "struct Vol{T<:Real} <: Real # the last <: Real tells Julia that a Vol is a subtype of Real, i.e. basically a real number\n",
    "    value::T\n",
    "    \n",
    "    function Vol(x::T) where T<:Real # x can be of any type T<:Real\n",
    "        x < 0 && throw(ArgumentError(\"Negative volume not allowed.\"))\n",
    "        new{T}(x)\n",
    "    end\n",
    "end"
   ]
  },
  {
   "cell_type": "code",
   "execution_count": 2,
   "metadata": {},
   "outputs": [
    {
     "data": {
      "text/plain": [
       "Vol{Int64}(3)"
      ]
     },
     "execution_count": 2,
     "metadata": {},
     "output_type": "execute_result"
    }
   ],
   "source": [
    "Vol(3)"
   ]
  },
  {
   "cell_type": "code",
   "execution_count": 3,
   "metadata": {},
   "outputs": [
    {
     "data": {
      "text/plain": [
       "Vol{Float64}(3.0)"
      ]
     },
     "execution_count": 3,
     "metadata": {},
     "output_type": "execute_result"
    }
   ],
   "source": [
    "Vol(3.0)"
   ]
  },
  {
   "cell_type": "code",
   "execution_count": 4,
   "metadata": {},
   "outputs": [
    {
     "ename": "MethodError",
     "evalue": "MethodError: no method matching Vol(::String)\nClosest candidates are:\n  Vol(!Matched::Complex) where T<:Real at complex.jl:37\n  Vol(!Matched::T<:Real) where T<:Real at In[1]:5\n  Vol(!Matched::T<:Number) where T<:Number at boot.jl:741\n  ...",
     "output_type": "error",
     "traceback": [
      "MethodError: no method matching Vol(::String)\nClosest candidates are:\n  Vol(!Matched::Complex) where T<:Real at complex.jl:37\n  Vol(!Matched::T<:Real) where T<:Real at In[1]:5\n  Vol(!Matched::T<:Number) where T<:Number at boot.jl:741\n  ...",
      "",
      "Stacktrace:",
      " [1] top-level scope at In[4]:1"
     ]
    }
   ],
   "source": [
    "Vol(\"1.23\")"
   ]
  },
  {
   "cell_type": "code",
   "execution_count": 5,
   "metadata": {},
   "outputs": [
    {
     "ename": "ArgumentError",
     "evalue": "ArgumentError: Negative volume not allowed.",
     "output_type": "error",
     "traceback": [
      "ArgumentError: Negative volume not allowed.",
      "",
      "Stacktrace:",
      " [1] Vol(::Int64) at .\\In[1]:5",
      " [2] top-level scope at In[5]:1"
     ]
    }
   ],
   "source": [
    "Vol(-2)"
   ]
  },
  {
   "cell_type": "markdown",
   "metadata": {},
   "source": [
    "# Arithmetic"
   ]
  },
  {
   "cell_type": "code",
   "execution_count": 6,
   "metadata": {},
   "outputs": [
    {
     "ename": "ErrorException",
     "evalue": "+ not defined for Vol{Int64}",
     "output_type": "error",
     "traceback": [
      "+ not defined for Vol{Int64}",
      "",
      "Stacktrace:",
      " [1] error(::String, ::String, ::Type) at .\\error.jl:42",
      " [2] no_op_err(::String, ::Type) at .\\promotion.jl:388",
      " [3] +(::Vol{Int64}, ::Vol{Int64}) at .\\promotion.jl:389",
      " [4] top-level scope at In[6]:1"
     ]
    }
   ],
   "source": [
    "Vol(3) + Vol(4)"
   ]
  },
  {
   "cell_type": "code",
   "execution_count": 7,
   "metadata": {},
   "outputs": [
    {
     "ename": "ErrorException",
     "evalue": "error in method definition: function Base.+ must be explicitly imported to be extended",
     "output_type": "error",
     "traceback": [
      "error in method definition: function Base.+ must be explicitly imported to be extended",
      "",
      "Stacktrace:",
      " [1] top-level scope at In[7]:1"
     ]
    }
   ],
   "source": [
    "+(x::Vol, y::Vol) = Vol(x.value + y.value)"
   ]
  },
  {
   "cell_type": "markdown",
   "metadata": {},
   "source": [
    "If we want to extend or override functions that already exit, we need to `import` them first."
   ]
  },
  {
   "cell_type": "code",
   "execution_count": 8,
   "metadata": {},
   "outputs": [
    {
     "data": {
      "text/plain": [
       "+ (generic function with 164 methods)"
      ]
     },
     "execution_count": 8,
     "metadata": {},
     "output_type": "execute_result"
    }
   ],
   "source": [
    "import Base: +\n",
    "\n",
    "+(x::Vol, y::Vol) = Vol(x.value + y.value)"
   ]
  },
  {
   "cell_type": "code",
   "execution_count": 9,
   "metadata": {},
   "outputs": [
    {
     "data": {
      "text/plain": [
       "Vol{Int64}(7)"
      ]
     },
     "execution_count": 9,
     "metadata": {},
     "output_type": "execute_result"
    }
   ],
   "source": [
    "Vol(3) + Vol(4)"
   ]
  },
  {
   "cell_type": "code",
   "execution_count": 10,
   "metadata": {},
   "outputs": [
    {
     "data": {
      "text/plain": [
       "Vol{Float64}(10.3)"
      ]
     },
     "execution_count": 10,
     "metadata": {},
     "output_type": "execute_result"
    }
   ],
   "source": [
    "Vol(2) + Vol(8.3) # implicit conversion!"
   ]
  },
  {
   "cell_type": "code",
   "execution_count": 11,
   "metadata": {},
   "outputs": [
    {
     "data": {
      "text/html": [
       "1-element Array{Method,1}:<ul><li> +(x::<b>Vol</b>, y::<b>Vol</b>) in Main at In[8]:3</ul>"
      ],
      "text/plain": [
       "[1] +(x::Vol, y::Vol) in Main at In[8]:3"
      ]
     },
     "execution_count": 11,
     "metadata": {},
     "output_type": "execute_result"
    }
   ],
   "source": [
    "methodswith(Vol)"
   ]
  },
  {
   "cell_type": "code",
   "execution_count": 12,
   "metadata": {},
   "outputs": [
    {
     "data": {
      "text/plain": [
       "* (generic function with 347 methods)"
      ]
     },
     "execution_count": 12,
     "metadata": {},
     "output_type": "execute_result"
    }
   ],
   "source": [
    "import Base: -, *\n",
    "\n",
    "-(x::Vol, y::Vol) = Vol(x.value - y.value)\n",
    "*(x::Vol, y::Vol) = Vol(x.value * y.value)"
   ]
  },
  {
   "cell_type": "markdown",
   "metadata": {},
   "source": [
    "Now that we have addition defined for our volume type, some functions already **just work**."
   ]
  },
  {
   "cell_type": "code",
   "execution_count": 13,
   "metadata": {},
   "outputs": [
    {
     "data": {
      "text/plain": [
       "Vol{Float64}(8.8)"
      ]
     },
     "execution_count": 13,
     "metadata": {},
     "output_type": "execute_result"
    }
   ],
   "source": [
    "sum([Vol(3), Vol(4.8), Vol(1)])"
   ]
  },
  {
   "cell_type": "code",
   "execution_count": 14,
   "metadata": {},
   "outputs": [
    {
     "data": {
      "text/plain": [
       "3×3 Array{Vol{Float64},2}:\n",
       " Vol{Float64}(0.433303)  Vol{Float64}(0.644252)  Vol{Float64}(0.73798) \n",
       " Vol{Float64}(0.730542)  Vol{Float64}(0.052614)  Vol{Float64}(0.285831)\n",
       " Vol{Float64}(0.70091)   Vol{Float64}(0.394457)  Vol{Float64}(0.261248)"
      ]
     },
     "execution_count": 14,
     "metadata": {},
     "output_type": "execute_result"
    }
   ],
   "source": [
    "M = Vol.(rand(3,3))"
   ]
  },
  {
   "cell_type": "code",
   "execution_count": 15,
   "metadata": {},
   "outputs": [
    {
     "data": {
      "text/plain": [
       "3×3 Array{Vol{Float64},2}:\n",
       " Vol{Float64}(0.375645)  Vol{Float64}(0.0342596)  Vol{Float64}(0.614994)\n",
       " Vol{Float64}(0.897213)  Vol{Float64}(0.776969)   Vol{Float64}(0.979462)\n",
       " Vol{Float64}(0.270326)  Vol{Float64}(0.788167)   Vol{Float64}(0.193124)"
      ]
     },
     "execution_count": 15,
     "metadata": {},
     "output_type": "execute_result"
    }
   ],
   "source": [
    "N = Vol.(rand(3,3))"
   ]
  },
  {
   "cell_type": "code",
   "execution_count": 16,
   "metadata": {},
   "outputs": [
    {
     "data": {
      "text/plain": [
       "3×3 Array{Vol{Float64},2}:\n",
       " Vol{Float64}(0.808948)  Vol{Float64}(0.678511)  Vol{Float64}(1.35297) \n",
       " Vol{Float64}(1.62775)   Vol{Float64}(0.829583)  Vol{Float64}(1.26529) \n",
       " Vol{Float64}(0.971236)  Vol{Float64}(1.18262)   Vol{Float64}(0.454372)"
      ]
     },
     "execution_count": 16,
     "metadata": {},
     "output_type": "execute_result"
    }
   ],
   "source": [
    "M + N"
   ]
  },
  {
   "cell_type": "markdown",
   "metadata": {},
   "source": [
    "Whenever something doesn't work, we implement the necessary functions."
   ]
  },
  {
   "cell_type": "code",
   "execution_count": 17,
   "metadata": {},
   "outputs": [
    {
     "ename": "MethodError",
     "evalue": "MethodError: no method matching AbstractFloat(::Vol{Int64})\nClosest candidates are:\n  AbstractFloat(::Real, !Matched::RoundingMode) where T<:AbstractFloat at rounding.jl:194\n  AbstractFloat(::T<:Number) where T<:Number at boot.jl:741\n  AbstractFloat(!Matched::Bool) at float.jl:252\n  ...",
     "output_type": "error",
     "traceback": [
      "MethodError: no method matching AbstractFloat(::Vol{Int64})\nClosest candidates are:\n  AbstractFloat(::Real, !Matched::RoundingMode) where T<:AbstractFloat at rounding.jl:194\n  AbstractFloat(::T<:Number) where T<:Number at boot.jl:741\n  AbstractFloat(!Matched::Bool) at float.jl:252\n  ...",
      "",
      "Stacktrace:",
      " [1] float(::Vol{Int64}) at .\\float.jl:271",
      " [2] sin(::Vol{Int64}) at .\\special\\trig.jl:53",
      " [3] top-level scope at In[17]:1"
     ]
    }
   ],
   "source": [
    "sin(Vol(3))"
   ]
  },
  {
   "cell_type": "code",
   "execution_count": 19,
   "metadata": {},
   "outputs": [
    {
     "data": {
      "text/plain": [
       "AbstractFloat"
      ]
     },
     "execution_count": 19,
     "metadata": {},
     "output_type": "execute_result"
    }
   ],
   "source": [
    "import Base: AbstractFloat\n",
    "AbstractFloat(x::Vol{T}) where T = AbstractFloat(x.value)"
   ]
  },
  {
   "cell_type": "code",
   "execution_count": 20,
   "metadata": {},
   "outputs": [
    {
     "data": {
      "text/plain": [
       "0.1411200080598672"
      ]
     },
     "execution_count": 20,
     "metadata": {},
     "output_type": "execute_result"
    }
   ],
   "source": [
    "sin(Vol(3))"
   ]
  },
  {
   "cell_type": "code",
   "execution_count": 21,
   "metadata": {},
   "outputs": [
    {
     "data": {
      "text/plain": [
       "1.7320508075688772"
      ]
     },
     "execution_count": 21,
     "metadata": {},
     "output_type": "execute_result"
    }
   ],
   "source": [
    "sqrt(Vol(3))"
   ]
  },
  {
   "cell_type": "markdown",
   "metadata": {},
   "source": [
    "If we really wanted to have `Vol{T}` objects behave like real numbers in all operations, we'd have to do a bit more work like specifying [promotion and conversion rules](https://docs.julialang.org/en/latest/manual/conversion-and-promotion/)."
   ]
  },
  {
   "cell_type": "markdown",
   "metadata": {},
   "source": [
    "An important thing to note is that **user defined types are just as good as built-in types**!\n",
    "\n",
    "There is nothing special about built-in types. In fact, [they are implemented in the same way](https://github.com/JuliaLang/julia/blob/master/stdlib/LinearAlgebra/src/diagonal.jl#L5)!"
   ]
  },
  {
   "cell_type": "markdown",
   "metadata": {},
   "source": [
    "Let us quickly confirm that our volume \"wrapper\" type does not come with any performance overhead by benchmarking it in a simple function."
   ]
  },
  {
   "cell_type": "markdown",
   "metadata": {},
   "source": [
    "# Benchmarking with `BenchmarkTools.jl`"
   ]
  },
  {
   "cell_type": "code",
   "execution_count": 34,
   "metadata": {},
   "outputs": [],
   "source": [
    "using BenchmarkTools"
   ]
  },
  {
   "cell_type": "code",
   "execution_count": 35,
   "metadata": {},
   "outputs": [
    {
     "data": {
      "text/plain": [
       "operation (generic function with 1 method)"
      ]
     },
     "execution_count": 35,
     "metadata": {},
     "output_type": "execute_result"
    }
   ],
   "source": [
    "operation(x) = x^2 + sqrt(x)"
   ]
  },
  {
   "cell_type": "code",
   "execution_count": 36,
   "metadata": {},
   "outputs": [
    {
     "name": "stdout",
     "output_type": "stream",
     "text": [
      "  0.055194 seconds (174.03 k allocations: 8.518 MiB)\n"
     ]
    },
    {
     "data": {
      "text/plain": [
       "2×2 Array{Float64,2}:\n",
       " 1.24786   0.497051\n",
       " 0.306763  0.163774"
      ]
     },
     "execution_count": 36,
     "metadata": {},
     "output_type": "execute_result"
    }
   ],
   "source": [
    "x = rand(2,2)\n",
    "@time operation.(x)"
   ]
  },
  {
   "cell_type": "code",
   "execution_count": 37,
   "metadata": {},
   "outputs": [
    {
     "data": {
      "text/plain": [
       "f (generic function with 1 method)"
      ]
     },
     "execution_count": 37,
     "metadata": {},
     "output_type": "execute_result"
    }
   ],
   "source": [
    "function f()\n",
    "    x = rand(2,2)\n",
    "    @time operation.(x)\n",
    "end"
   ]
  },
  {
   "cell_type": "code",
   "execution_count": 38,
   "metadata": {},
   "outputs": [
    {
     "name": "stdout",
     "output_type": "stream",
     "text": [
      "  0.000000 seconds (1 allocation: 112 bytes)\n"
     ]
    },
    {
     "data": {
      "text/plain": [
       "2×2 Array{Float64,2}:\n",
       " 0.903038  0.81437\n",
       " 1.41182   1.26867"
      ]
     },
     "execution_count": 38,
     "metadata": {},
     "output_type": "execute_result"
    }
   ],
   "source": [
    "f()"
   ]
  },
  {
   "cell_type": "markdown",
   "metadata": {},
   "source": [
    "We should wrap benchmarks into functions!\n",
    "\n",
    "Fortunately, there are tools that do this for us. In addition, they also collect some statistics by running the benchmark multiple times."
   ]
  },
  {
   "cell_type": "code",
   "execution_count": 39,
   "metadata": {},
   "outputs": [
    {
     "data": {
      "text/plain": [
       "BenchmarkTools.Trial: \n",
       "  memory estimate:  144 bytes\n",
       "  allocs estimate:  3\n",
       "  --------------\n",
       "  minimum time:     317.035 ns (0.00% GC)\n",
       "  median time:      337.559 ns (0.00% GC)\n",
       "  mean time:        414.877 ns (7.50% GC)\n",
       "  maximum time:     209.241 μs (99.80% GC)\n",
       "  --------------\n",
       "  samples:          10000\n",
       "  evals/sample:     229"
      ]
     },
     "execution_count": 39,
     "metadata": {},
     "output_type": "execute_result"
    }
   ],
   "source": [
    "@benchmark operation.(x)"
   ]
  },
  {
   "cell_type": "markdown",
   "metadata": {},
   "source": [
    "Typically we don't need all this information. Just use `@btime` instead of `@time`!"
   ]
  },
  {
   "cell_type": "code",
   "execution_count": 40,
   "metadata": {},
   "outputs": [
    {
     "name": "stdout",
     "output_type": "stream",
     "text": [
      "  316.522 ns (3 allocations: 144 bytes)\n"
     ]
    }
   ],
   "source": [
    "@btime operation.(x);"
   ]
  },
  {
   "cell_type": "markdown",
   "metadata": {},
   "source": [
    "However, we still have to take some care to avoid accessing global variables."
   ]
  },
  {
   "cell_type": "code",
   "execution_count": 41,
   "metadata": {},
   "outputs": [
    {
     "name": "stdout",
     "output_type": "stream",
     "text": [
      "  31.590 ns (1 allocation: 112 bytes)\n"
     ]
    }
   ],
   "source": [
    "@btime operation.($x); # interpolate the value of x into the expression to avoid overhead of globals"
   ]
  },
  {
   "cell_type": "markdown",
   "metadata": {},
   "source": [
    "More information: [BenchmarkTools.jl](https://github.com/JuliaCI/BenchmarkTools.jl/blob/master/doc/manual.md)."
   ]
  },
  {
   "cell_type": "markdown",
   "metadata": {},
   "source": [
    "Finally, we can check the performance of our custom volume type."
   ]
  },
  {
   "cell_type": "code",
   "execution_count": 50,
   "metadata": {},
   "outputs": [
    {
     "name": "stdout",
     "output_type": "stream",
     "text": [
      "  1.299 ns (0 allocations: 0 bytes)\n",
      "  1.299 ns (0 allocations: 0 bytes)\n"
     ]
    }
   ],
   "source": [
    "@btime sqrt(Vol(3));\n",
    "@btime sqrt(3);"
   ]
  },
  {
   "cell_type": "markdown",
   "metadata": {},
   "source": [
    "# Core messages of this Notebook\n",
    "\n",
    "* There are `mutable struct`s and immutable `struct`s and immutability is not recursive.\n",
    "* **Contructors** are functions that create objects. In an inner constructor we can use the function `new` to generate objects.\n",
    "* We can easily **extend `Base` functions** for our types to implement arithmetics and such.\n",
    "* We should always benchmark our code with **BenchmarkTools.jl's @btime and @benchmark**."
   ]
  },
  {
   "cell_type": "markdown",
   "metadata": {},
   "source": [
    "# Exercise: One-hot vector\n",
    "\n",
    "[One-hot encoding](https://en.wikipedia.org/wiki/One-hot) is useful in machine learning, as we'll see later.\n",
    "\n",
    "It simply means that among a group of bits (all either 0 or 1) only one is hot (1) while all others are cold (0),\n",
    "\n",
    "`v = [0, 0, 0, 0, 0, 1, 0, 0, 0]`\n",
    "\n",
    "### Task\n",
    "\n",
    "1. Think about what information an implementation of a one-hot vector actually has to store.\n",
    "2. Define a `OneHot` type which represents a vector with only a single hot (i.e. `== 1`) bit.\n",
    "3. Extend all the necessary `Base` functions such that the following computation works for a matrix `A` and a vector of `OneHot` vectors `vs` (i.e. `vs isa Vector{OneHot}`).\n",
    "\n",
    "    ```julia\n",
    "    function innersum(A, vs)\n",
    "        t = zero(eltype(A)) # generic!\n",
    "        for v in vs\n",
    "            y = A*v\n",
    "            for i in 1:length(vs[1])\n",
    "                t += v[i] * y[i]\n",
    "            end\n",
    "        end\n",
    "        return t\n",
    "    end\n",
    "\n",
    "    A = rand(3,3)\n",
    "    vs = [rand(3) for _ = 1:10] # This should be replaced by a `Vector{OneHot}`\n",
    "\n",
    "    innersum(A, vs)\n",
    "\n",
    "    ```\n",
    "\n",
    "4. Benchmark the speed of `innersum` when called with a `OneHot` vector or with a `Vector{Float64}`, respectively.\n",
    " * Do you observe a speed up?\n",
    "\n",
    "\n",
    "5. Now, define a `OneHotVector` type which is identical to `OneHot` but is declared to be a subtype of `AbstractVector{Bool}` and extend only the functions `Base.getindex(v::OneHotVector, i::Int)` and `Base.size(v::OneHotVector)`.\n",
    " * Here, the function `size` should return a `Tuple{Int64}` indicating the length of the vector, i.e. `(3,)` for a one-hot vector of length 3 (see the [AbstractArray interface](https://docs.julialang.org/en/latest/manual/interfaces/#man-interface-array-1) for more information)\n",
    " \n",
    "\n",
    "6. Try to create a single `OneHotVector` and try to run the `innersum` function using the new `OneHotVector` type.\n",
    " * What changes do you observe?\n",
    " * Do you have to implement any further methods?"
   ]
  }
 ],
 "metadata": {
  "@webio": {
   "lastCommId": null,
   "lastKernelId": null
  },
  "kernelspec": {
   "display_name": "Julia 1.1.0",
   "language": "julia",
   "name": "julia-1.1"
  },
  "language_info": {
   "file_extension": ".jl",
   "mimetype": "application/julia",
   "name": "julia",
   "version": "1.1.0"
  }
 },
 "nbformat": 4,
 "nbformat_minor": 2
}
