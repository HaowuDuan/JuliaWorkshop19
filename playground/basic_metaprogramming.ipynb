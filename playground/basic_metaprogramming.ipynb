{
 "cells": [
  {
   "cell_type": "markdown",
   "metadata": {},
   "source": [
    "# Programmatically define methods:"
   ]
  },
  {
   "cell_type": "code",
   "execution_count": null,
   "metadata": {},
   "outputs": [],
   "source": [
    "struct MyNumber\n",
    "    x::Float64\n",
    "end\n",
    "\n",
    "for op = (:sin, :cos, :tan, :log, :exp)\n",
    "    eval(quote\n",
    "        Base.$op(a::MyNumber) = MyNumber($op(a.x))\n",
    "    end)\n",
    "end"
   ]
  },
  {
   "cell_type": "markdown",
   "metadata": {},
   "source": [
    "# Custom string literals"
   ]
  },
  {
   "cell_type": "code",
   "execution_count": 1,
   "metadata": {},
   "outputs": [],
   "source": [
    "struct KeepZerosFloat{T<:AbstractFloat}\n",
    "    x::T\n",
    "    n::Int64 # extra tail of n zeros\n",
    "end"
   ]
  },
  {
   "cell_type": "code",
   "execution_count": 2,
   "metadata": {},
   "outputs": [
    {
     "data": {
      "text/plain": [
       "KeepZerosFloat"
      ]
     },
     "execution_count": 2,
     "metadata": {},
     "output_type": "execute_result"
    }
   ],
   "source": [
    "KeepZerosFloat(z::T) where {T<:AbstractFloat} = KeepZerosFloat{T}(z, 0)"
   ]
  },
  {
   "cell_type": "code",
   "execution_count": 3,
   "metadata": {},
   "outputs": [
    {
     "data": {
      "text/plain": [
       "KeepZerosFloat{Float64}(3.0, 0)"
      ]
     },
     "execution_count": 3,
     "metadata": {},
     "output_type": "execute_result"
    }
   ],
   "source": [
    "KeepZerosFloat(3.0)"
   ]
  },
  {
   "cell_type": "code",
   "execution_count": 57,
   "metadata": {},
   "outputs": [],
   "source": [
    "Base.show(io::IO, z::KeepZerosFloat) = print(io, string(z.x) * join(fill('0', z.n)))"
   ]
  },
  {
   "cell_type": "code",
   "execution_count": 58,
   "metadata": {},
   "outputs": [
    {
     "data": {
      "text/plain": [
       "3.0"
      ]
     },
     "execution_count": 58,
     "metadata": {},
     "output_type": "execute_result"
    }
   ],
   "source": [
    "KeepZerosFloat(3.0)"
   ]
  },
  {
   "cell_type": "code",
   "execution_count": 59,
   "metadata": {},
   "outputs": [
    {
     "data": {
      "text/plain": [
       "3.0"
      ]
     },
     "execution_count": 59,
     "metadata": {},
     "output_type": "execute_result"
    }
   ],
   "source": [
    "KeepZerosFloat(3.0000)"
   ]
  },
  {
   "cell_type": "code",
   "execution_count": 77,
   "metadata": {},
   "outputs": [
    {
     "data": {
      "text/plain": [
       "@k_str (macro with 1 method)"
      ]
     },
     "execution_count": 77,
     "metadata": {},
     "output_type": "execute_result"
    }
   ],
   "source": [
    "macro k_str(x)\n",
    "    xF64 = parse(Float64, x)\n",
    "    s = string(xF64)\n",
    "    zeros_str = replace(x, s => \"\")\n",
    "    @assert zeros_str === join(fill('0', length(zeros_str)))\n",
    "    \n",
    "    KeepZerosFloat{Float64}(xF64, length(zeros_str))\n",
    "end"
   ]
  },
  {
   "cell_type": "code",
   "execution_count": 80,
   "metadata": {},
   "outputs": [
    {
     "data": {
      "text/plain": [
       "3.0"
      ]
     },
     "execution_count": 80,
     "metadata": {},
     "output_type": "execute_result"
    }
   ],
   "source": [
    "k\"3.0\""
   ]
  },
  {
   "cell_type": "code",
   "execution_count": 81,
   "metadata": {},
   "outputs": [
    {
     "data": {
      "text/plain": [
       "3.000"
      ]
     },
     "execution_count": 81,
     "metadata": {},
     "output_type": "execute_result"
    }
   ],
   "source": [
    "k\"3.000\""
   ]
  },
  {
   "cell_type": "code",
   "execution_count": 84,
   "metadata": {},
   "outputs": [
    {
     "data": {
      "text/plain": [
       "3.1410000000"
      ]
     },
     "execution_count": 84,
     "metadata": {},
     "output_type": "execute_result"
    }
   ],
   "source": [
    "x = k\"3.1410000000\""
   ]
  },
  {
   "cell_type": "code",
   "execution_count": 85,
   "metadata": {},
   "outputs": [
    {
     "data": {
      "text/plain": [
       "KeepZerosFloat{Float64}"
      ]
     },
     "execution_count": 85,
     "metadata": {},
     "output_type": "execute_result"
    }
   ],
   "source": [
    "typeof(x)"
   ]
  },
  {
   "cell_type": "markdown",
   "metadata": {},
   "source": [
    "# Example: Unroll.jl"
   ]
  },
  {
   "cell_type": "code",
   "execution_count": 182,
   "metadata": {},
   "outputs": [
    {
     "name": "stdout",
     "output_type": "stream",
     "text": [
      "\u001b[32m\u001b[1m   Cloning\u001b[22m\u001b[39m git-repo `https://github.com/StephenVavasis/Unroll.jl`\n",
      "\u001b[2K\u001b[?25h[1mFetching:\u001b[22m\u001b[39m [========================================>]  100.0 %.0 % %\u001b[32m\u001b[1m  Updating\u001b[22m\u001b[39m git-repo `https://github.com/StephenVavasis/Unroll.jl`\n",
      "\u001b[?25l\u001b[2K\u001b[?25h\u001b[32m\u001b[1m Resolving\u001b[22m\u001b[39m package versions...\n"
     ]
    },
    {
     "name": "stderr",
     "output_type": "stream",
     "text": [
      "┌ Info: Assigning UUID bec05c2e-cc06-5df2-90c3-340a513e71ff to Unroll\n",
      "└ @ Pkg.Types C:\\cygwin\\home\\Administrator\\buildbot\\worker\\package_win64\\build\\usr\\share\\julia\\stdlib\\v1.1\\Pkg\\src\\Types.jl:841\n"
     ]
    },
    {
     "name": "stdout",
     "output_type": "stream",
     "text": [
      "\u001b[32m\u001b[1m  Updating\u001b[22m\u001b[39m `C:\\Users\\carsten\\Desktop\\julia-workshop-2019\\Project.toml`\n",
      " \u001b[90m [bec05c2e]\u001b[39m\u001b[92m + Unroll v0.0.0 [`C:\\Users\\carsten\\.julia\\dev\\Unroll`]\u001b[39m\n",
      "\u001b[32m\u001b[1m  Updating\u001b[22m\u001b[39m `C:\\Users\\carsten\\Desktop\\julia-workshop-2019\\Manifest.toml`\n",
      " \u001b[90m [bec05c2e]\u001b[39m\u001b[92m + Unroll v0.0.0 [`C:\\Users\\carsten\\.julia\\dev\\Unroll`]\u001b[39m\n"
     ]
    }
   ],
   "source": [
    "] dev https://github.com/StephenVavasis/Unroll.jl"
   ]
  },
  {
   "cell_type": "code",
   "execution_count": 1,
   "metadata": {},
   "outputs": [],
   "source": [
    "using Revise"
   ]
  },
  {
   "cell_type": "code",
   "execution_count": 2,
   "metadata": {},
   "outputs": [
    {
     "name": "stderr",
     "output_type": "stream",
     "text": [
      "┌ Info: Recompiling stale cache file C:\\Users\\carsten\\.julia\\compiled\\v1.1\\Unroll\\GnJ37.ji for Unroll [bec05c2e-cc06-5df2-90c3-340a513e71ff]\n",
      "└ @ Base loading.jl:1184\n"
     ]
    }
   ],
   "source": [
    "using Unroll, BenchmarkTools"
   ]
  },
  {
   "cell_type": "code",
   "execution_count": 34,
   "metadata": {},
   "outputs": [
    {
     "data": {
      "text/plain": [
       "f (generic function with 1 method)"
      ]
     },
     "execution_count": 34,
     "metadata": {},
     "output_type": "execute_result"
    }
   ],
   "source": [
    "function f()\n",
    "    z = 1.0\n",
    "    for i in 1:10\n",
    "        z += i*rand()\n",
    "    end\n",
    "    z\n",
    "end"
   ]
  },
  {
   "cell_type": "code",
   "execution_count": 35,
   "metadata": {},
   "outputs": [
    {
     "name": "stdout",
     "output_type": "stream",
     "text": [
      "  0.012787 seconds (32.05 k allocations: 1.766 MiB)\n"
     ]
    },
    {
     "data": {
      "text/plain": [
       "30.116107186413537"
      ]
     },
     "execution_count": 35,
     "metadata": {},
     "output_type": "execute_result"
    }
   ],
   "source": [
    "@time f()"
   ]
  },
  {
   "cell_type": "code",
   "execution_count": 36,
   "metadata": {},
   "outputs": [
    {
     "data": {
      "text/plain": [
       "CodeInfo(\n",
       "\u001b[90m1 ─\u001b[39m       z = 1.0\n",
       "\u001b[90m│  \u001b[39m %2  = 1:10\n",
       "\u001b[90m│  \u001b[39m       #temp# = (Base.iterate)(%2)\n",
       "\u001b[90m│  \u001b[39m %4  = #temp# === nothing\n",
       "\u001b[90m│  \u001b[39m %5  = (Base.not_int)(%4)\n",
       "\u001b[90m└──\u001b[39m       goto #4 if not %5\n",
       "\u001b[90m2 ┄\u001b[39m %7  = #temp#\n",
       "\u001b[90m│  \u001b[39m       i = (Core.getfield)(%7, 1)\n",
       "\u001b[90m│  \u001b[39m %9  = (Core.getfield)(%7, 2)\n",
       "\u001b[90m│  \u001b[39m %10 = z\n",
       "\u001b[90m│  \u001b[39m %11 = i\n",
       "\u001b[90m│  \u001b[39m %12 = (Main.rand)()\n",
       "\u001b[90m│  \u001b[39m %13 = %11 * %12\n",
       "\u001b[90m│  \u001b[39m       z = %10 + %13\n",
       "\u001b[90m│  \u001b[39m       #temp# = (Base.iterate)(%2, %9)\n",
       "\u001b[90m│  \u001b[39m %16 = #temp# === nothing\n",
       "\u001b[90m│  \u001b[39m %17 = (Base.not_int)(%16)\n",
       "\u001b[90m└──\u001b[39m       goto #4 if not %17\n",
       "\u001b[90m3 ─\u001b[39m       goto #2\n",
       "\u001b[90m4 ┄\u001b[39m       return z\n",
       ")"
      ]
     },
     "execution_count": 36,
     "metadata": {},
     "output_type": "execute_result"
    }
   ],
   "source": [
    "@code_lowered f()"
   ]
  },
  {
   "cell_type": "code",
   "execution_count": 37,
   "metadata": {},
   "outputs": [
    {
     "name": "stdout",
     "output_type": "stream",
     "text": [
      "  21.642 ns (0 allocations: 0 bytes)\n"
     ]
    },
    {
     "data": {
      "text/plain": [
       "38.09206697201813"
      ]
     },
     "execution_count": 37,
     "metadata": {},
     "output_type": "execute_result"
    }
   ],
   "source": [
    "@btime f()"
   ]
  },
  {
   "cell_type": "code",
   "execution_count": 38,
   "metadata": {},
   "outputs": [
    {
     "data": {
      "text/plain": [
       "g (generic function with 1 method)"
      ]
     },
     "execution_count": 38,
     "metadata": {},
     "output_type": "execute_result"
    }
   ],
   "source": [
    "function g()\n",
    "    z = 1.0\n",
    "    @unroll for i in 1:10\n",
    "        z += i*rand()\n",
    "    end \n",
    "    z\n",
    "end"
   ]
  },
  {
   "cell_type": "code",
   "execution_count": 39,
   "metadata": {},
   "outputs": [
    {
     "name": "stdout",
     "output_type": "stream",
     "text": [
      "  0.029493 seconds (106.86 k allocations: 5.611 MiB)\n"
     ]
    },
    {
     "data": {
      "text/plain": [
       "41.343279050125766"
      ]
     },
     "execution_count": 39,
     "metadata": {},
     "output_type": "execute_result"
    }
   ],
   "source": [
    "@time g()"
   ]
  },
  {
   "cell_type": "code",
   "execution_count": 40,
   "metadata": {},
   "outputs": [
    {
     "name": "stdout",
     "output_type": "stream",
     "text": [
      "  18.218 ns (0 allocations: 0 bytes)\n"
     ]
    }
   ],
   "source": [
    "@btime g();"
   ]
  },
  {
   "cell_type": "code",
   "execution_count": 41,
   "metadata": {},
   "outputs": [
    {
     "data": {
      "text/plain": [
       "CodeInfo(\n",
       "\u001b[90m1 ─\u001b[39m       z = 1.0\n",
       "\u001b[90m│  \u001b[39m %2  = z\n",
       "\u001b[90m│  \u001b[39m %3  = (Main.rand)()\n",
       "\u001b[90m│  \u001b[39m %4  = 1 * %3\n",
       "\u001b[90m│  \u001b[39m       z = %2 + %4\n",
       "\u001b[90m│  \u001b[39m %6  = z\n",
       "\u001b[90m│  \u001b[39m %7  = (Main.rand)()\n",
       "\u001b[90m│  \u001b[39m %8  = 2 * %7\n",
       "\u001b[90m│  \u001b[39m       z = %6 + %8\n",
       "\u001b[90m│  \u001b[39m %10 = z\n",
       "\u001b[90m│  \u001b[39m %11 = (Main.rand)()\n",
       "\u001b[90m│  \u001b[39m %12 = 3 * %11\n",
       "\u001b[90m│  \u001b[39m       z = %10 + %12\n",
       "\u001b[90m│  \u001b[39m %14 = z\n",
       "\u001b[90m│  \u001b[39m %15 = (Main.rand)()\n",
       "\u001b[90m│  \u001b[39m %16 = 4 * %15\n",
       "\u001b[90m│  \u001b[39m       z = %14 + %16\n",
       "\u001b[90m│  \u001b[39m %18 = z\n",
       "\u001b[90m│  \u001b[39m %19 = (Main.rand)()\n",
       "\u001b[90m│  \u001b[39m %20 = 5 * %19\n",
       "\u001b[90m│  \u001b[39m       z = %18 + %20\n",
       "\u001b[90m│  \u001b[39m %22 = z\n",
       "\u001b[90m│  \u001b[39m %23 = (Main.rand)()\n",
       "\u001b[90m│  \u001b[39m %24 = 6 * %23\n",
       "\u001b[90m│  \u001b[39m       z = %22 + %24\n",
       "\u001b[90m│  \u001b[39m %26 = z\n",
       "\u001b[90m│  \u001b[39m %27 = (Main.rand)()\n",
       "\u001b[90m│  \u001b[39m %28 = 7 * %27\n",
       "\u001b[90m│  \u001b[39m       z = %26 + %28\n",
       "\u001b[90m│  \u001b[39m %30 = z\n",
       "\u001b[90m│  \u001b[39m %31 = (Main.rand)()\n",
       "\u001b[90m│  \u001b[39m %32 = 8 * %31\n",
       "\u001b[90m│  \u001b[39m       z = %30 + %32\n",
       "\u001b[90m│  \u001b[39m %34 = z\n",
       "\u001b[90m│  \u001b[39m %35 = (Main.rand)()\n",
       "\u001b[90m│  \u001b[39m %36 = 9 * %35\n",
       "\u001b[90m│  \u001b[39m       z = %34 + %36\n",
       "\u001b[90m│  \u001b[39m %38 = z\n",
       "\u001b[90m│  \u001b[39m %39 = (Main.rand)()\n",
       "\u001b[90m│  \u001b[39m %40 = 10 * %39\n",
       "\u001b[90m│  \u001b[39m       z = %38 + %40\n",
       "\u001b[90m└──\u001b[39m       return z\n",
       ")"
      ]
     },
     "execution_count": 41,
     "metadata": {},
     "output_type": "execute_result"
    }
   ],
   "source": [
    "@code_lowered g()"
   ]
  },
  {
   "cell_type": "code",
   "execution_count": null,
   "metadata": {},
   "outputs": [],
   "source": []
  }
 ],
 "metadata": {
  "@webio": {
   "lastCommId": null,
   "lastKernelId": null
  },
  "kernelspec": {
   "display_name": "Julia 1.1.0",
   "language": "julia",
   "name": "julia-1.1"
  },
  "language_info": {
   "file_extension": ".jl",
   "mimetype": "application/julia",
   "name": "julia",
   "version": "1.1.0"
  }
 },
 "nbformat": 4,
 "nbformat_minor": 2
}
