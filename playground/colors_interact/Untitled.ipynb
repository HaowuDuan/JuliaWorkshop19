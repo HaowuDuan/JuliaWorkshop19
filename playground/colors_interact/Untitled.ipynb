{
 "cells": [
  {
   "cell_type": "code",
   "execution_count": 1,
   "metadata": {},
   "outputs": [],
   "source": [
    "] activate ."
   ]
  },
  {
   "cell_type": "code",
   "execution_count": 4,
   "metadata": {},
   "outputs": [
    {
     "name": "stderr",
     "output_type": "stream",
     "text": [
      "┌ Info: Precompiling Interact [c601a237-2ae4-5e1e-952c-7a85b0c7eef1]\n",
      "└ @ Base loading.jl:1186\n"
     ]
    },
    {
     "data": {
      "text/html": [
       "<script>\n",
       "// Immediately-invoked-function-expression to avoid global variables.\n",
       "(function() {\n",
       "    var warning_div = document.getElementById(\"webio-warning-5083357146052757408\");\n",
       "    var hide = function () {\n",
       "        var script = document.getElementById(\"webio-setup-6324580326411557858\");\n",
       "        var parent = script && script.parentElement;\n",
       "        var grandparent = parent && parent.parentElement;\n",
       "        if (grandparent) {\n",
       "            grandparent.style.display = \"none\";\n",
       "        }\n",
       "        warning_div.style.display = \"none\";\n",
       "    };\n",
       "    if (typeof Jupyter !== \"undefined\") {\n",
       "        console.log(\"WebIO detected Jupyter notebook environment.\");\n",
       "        // Jupyter notebook.\n",
       "        var extensions = (\n",
       "            Jupyter\n",
       "            && Jupyter.notebook.config.data\n",
       "            && Jupyter.notebook.config.data.load_extensions\n",
       "        );\n",
       "        if (extensions && extensions[\"webio/main\"]) {\n",
       "            // Extension already loaded.\n",
       "            console.log(\"Jupyter WebIO nbextension detected; not loading ad-hoc.\");\n",
       "            hide();\n",
       "            return;\n",
       "        }\n",
       "        console.warn(\"Loading WebIO Jupyter extension on an ad-hoc basis. Consider enabling the WebIO nbextension for a stabler experience (this should happen automatically when building WebIO).\");\n",
       "        require([\"/assetserver/43135e9fa34037098916e33dcc11322e0c2df07d-dist/main.js\"], function (webIOModule) {\n",
       "            webIOModule.load_ipython_extension();\n",
       "        });\n",
       "        warning_div.innerHTML = \"<strong>Loading WebIO Jupyter extension on an ad-hoc basis. Consider enabling the WebIO nbextension for a stabler experience (this should happen automatically when building WebIO).</strong>\";\n",
       "    } else if (window.location.pathname.includes(\"/lab\")) {\n",
       "        // Guessing JupyterLa\n",
       "        console.log(\"Jupyter Lab detected; make sure the @webio/jupyter-lab-provider labextension is installed.\");\n",
       "        hide();\n",
       "        return;\n",
       "    }\n",
       "})();\n",
       "\n",
       "</script>\n",
       "<div\n",
       "    id=\"webio-warning-5083357146052757408\"\n",
       "    class=\"output_text output_stderr\"\n",
       "    style=\"padding: 1em; font-weight: bold;\"\n",
       ">\n",
       "    Unable to load WebIO. Please make sure WebIO works for your Jupyter client.\n",
       "    <!-- TODO: link to installation docs. -->\n",
       "</div>\n"
      ],
      "text/plain": [
       "HTML{String}(\"<script>\\n// Immediately-invoked-function-expression to avoid global variables.\\n(function() {\\n    var warning_div = document.getElementById(\\\"webio-warning-5083357146052757408\\\");\\n    var hide = function () {\\n        var script = document.getElementById(\\\"webio-setup-6324580326411557858\\\");\\n        var parent = script && script.parentElement;\\n        var grandparent = parent && parent.parentElement;\\n        if (grandparent) {\\n            grandparent.style.display = \\\"none\\\";\\n        }\\n        warning_div.style.display = \\\"none\\\";\\n    };\\n    if (typeof Jupyter !== \\\"undefined\\\") {\\n        console.log(\\\"WebIO detected Jupyter notebook environment.\\\");\\n        // Jupyter notebook.\\n        var extensions = (\\n            Jupyter\\n            && Jupyter.notebook.config.data\\n            && Jupyter.notebook.config.data.load_extensions\\n        );\\n        if (extensions && extensions[\\\"webio/main\\\"]) {\\n            // Extension already loaded.\\n            console.log(\\\"Jupyter WebIO nbextension detected; not loading ad-hoc.\\\");\\n            hide();\\n            return;\\n        }\\n        console.warn(\\\"Loading WebIO Jupyter extension on an ad-hoc basis. Consider enabling the WebIO nbextension for a stabler experience (this should happen automatically when building WebIO).\\\");\\n        require([\\\"/assetserver/43135e9fa34037098916e33dcc11322e0c2df07d-dist/main.js\\\"], function (webIOModule) {\\n            webIOModule.load_ipython_extension();\\n        });\\n        warning_div.innerHTML = \\\"<strong>Loading WebIO Jupyter extension on an ad-hoc basis. Consider enabling the WebIO nbextension for a stabler experience (this should happen automatically when building WebIO).</strong>\\\";\\n    } else if (window.location.pathname.includes(\\\"/lab\\\")) {\\n        // Guessing JupyterLa\\n        console.log(\\\"Jupyter Lab detected; make sure the @webio/jupyter-lab-provider labextension is installed.\\\");\\n        hide();\\n        return;\\n    }\\n})();\\n\\n</script>\\n<div\\n    id=\\\"webio-warning-5083357146052757408\\\"\\n    class=\\\"output_text output_stderr\\\"\\n    style=\\\"padding: 1em; font-weight: bold;\\\"\\n>\\n    Unable to load WebIO. Please make sure WebIO works for your Jupyter client.\\n    <!-- TODO: link to installation docs. -->\\n</div>\\n\")"
      ]
     },
     "metadata": {},
     "output_type": "display_data"
    }
   ],
   "source": [
    "using Interact"
   ]
  },
  {
   "cell_type": "code",
   "execution_count": 6,
   "metadata": {},
   "outputs": [
    {
     "data": {
      "application/vnd.webio.node+json": {
       "children": [
        {
         "children": [
          {
           "children": [
            {
             "children": [
              {
               "children": [
                {
                 "children": [
                  "n"
                 ],
                 "instanceArgs": {
                  "namespace": "html",
                  "tag": "label"
                 },
                 "nodeType": "DOM",
                 "props": {
                  "className": "interact ",
                  "style": {
                   "padding": "5px 10px 0px 10px"
                  }
                 },
                 "type": "node"
                }
               ],
               "instanceArgs": {
                "namespace": "html",
                "tag": "div"
               },
               "nodeType": "DOM",
               "props": {
                "className": "interact-flex-row-left"
               },
               "type": "node"
              },
              {
               "children": [
                {
                 "children": [],
                 "instanceArgs": {
                  "namespace": "html",
                  "tag": "input"
                 },
                 "nodeType": "DOM",
                 "props": {
                  "attributes": {
                   "data-bind": "numericValue: index, valueUpdate: 'input', event: {change: function (){this.changes(this.changes()+1)}}",
                   "orient": "horizontal",
                   "type": "range"
                  },
                  "className": "slider slider is-fullwidth",
                  "max": 20,
                  "min": 1,
                  "step": 1,
                  "style": {}
                 },
                 "type": "node"
                }
               ],
               "instanceArgs": {
                "namespace": "html",
                "tag": "div"
               },
               "nodeType": "DOM",
               "props": {
                "className": "interact-flex-row-center"
               },
               "type": "node"
              },
              {
               "children": [
                {
                 "children": [],
                 "instanceArgs": {
                  "namespace": "html",
                  "tag": "p"
                 },
                 "nodeType": "DOM",
                 "props": {
                  "attributes": {
                   "data-bind": "text: formatted_val"
                  }
                 },
                 "type": "node"
                }
               ],
               "instanceArgs": {
                "namespace": "html",
                "tag": "div"
               },
               "nodeType": "DOM",
               "props": {
                "className": "interact-flex-row-right"
               },
               "type": "node"
              }
             ],
             "instanceArgs": {
              "namespace": "html",
              "tag": "div"
             },
             "nodeType": "DOM",
             "props": {
              "className": "interact-flex-row interact-widget"
             },
             "type": "node"
            }
           ],
           "instanceArgs": {
            "handlers": {
             "changes": [
              "(function (val){return (val!=this.model[\"changes\"]()) ? (this.valueFromJulia[\"changes\"]=true, this.model[\"changes\"](val)) : undefined})"
             ],
             "index": [
              "(function (val){return (val!=this.model[\"index\"]()) ? (this.valueFromJulia[\"index\"]=true, this.model[\"index\"](val)) : undefined})"
             ]
            },
            "id": "6053480976119276851",
            "imports": {
             "data": [
              {
               "name": "knockout",
               "type": "js",
               "url": "/assetserver/06b5713f7394e9c781d3d3143d6fd532e7f814ce-knockout.js"
              },
              {
               "name": "knockout_punches",
               "type": "js",
               "url": "/assetserver/695de4db56dde9805b672fe778fb2fc752e9b632-knockout_punches.js"
              },
              {
               "name": null,
               "type": "js",
               "url": "/assetserver/cd9cf93729ff320de8d59972e501bc7581ce199e-all.js"
              },
              {
               "name": null,
               "type": "css",
               "url": "/assetserver/2dd5b4483a1ad2cfea2512179b895d21de762858-style.css"
              },
              {
               "name": null,
               "type": "css",
               "url": "/assetserver/4a166f7fd21f97b78604bf0dafec2fdf4c488adb-bulma_confined.min.css"
              }
             ],
             "type": "async_block"
            },
            "mount_callbacks": [
             "function () {\n    var handler = (function (ko, koPunches) {\n    ko.punches.enableAll();\n    ko.bindingHandlers.numericValue = {\n        init: function(element, valueAccessor, allBindings, data, context) {\n            var stringified = ko.observable(ko.unwrap(valueAccessor()));\n            stringified.subscribe(function(value) {\n                var val = parseFloat(value);\n                if (!isNaN(val)) {\n                    valueAccessor()(val);\n                }\n            });\n            valueAccessor().subscribe(function(value) {\n                var str = JSON.stringify(value);\n                if ((str == \"0\") && ([\"-0\", \"-0.\"].indexOf(stringified()) >= 0))\n                     return;\n                 if ([\"null\", \"\"].indexOf(str) >= 0)\n                     return;\n                stringified(str);\n            });\n            ko.applyBindingsToNode(\n                element,\n                {\n                    value: stringified,\n                    valueUpdate: allBindings.get('valueUpdate'),\n                },\n                context,\n            );\n        }\n    };\n    var json_data = {\"formatted_vals\":[\"1\",\"2\",\"3\",\"4\",\"5\",\"6\",\"7\",\"8\",\"9\",\"10\",\"11\",\"12\",\"13\",\"14\",\"15\",\"16\",\"17\",\"18\",\"19\",\"20\"],\"changes\":WebIO.getval({\"name\":\"changes\",\"scope\":\"6053480976119276851\",\"id\":\"ob_10\",\"type\":\"observable\"}),\"index\":WebIO.getval({\"name\":\"index\",\"scope\":\"6053480976119276851\",\"id\":\"ob_09\",\"type\":\"observable\"})};\n    var self = this;\n    function AppViewModel() {\n        for (var key in json_data) {\n            var el = json_data[key];\n            this[key] = Array.isArray(el) ? ko.observableArray(el) : ko.observable(el);\n        }\n        \n        [this[\"formatted_val\"]=ko.computed(    function(){\n        return this.formatted_vals()[parseInt(this.index())-(1)];\n    }\n,this)]\n        [this[\"changes\"].subscribe((function (val){!(this.valueFromJulia[\"changes\"]) ? (WebIO.setval({\"name\":\"changes\",\"scope\":\"6053480976119276851\",\"id\":\"ob_10\",\"type\":\"observable\"},val)) : undefined; return this.valueFromJulia[\"changes\"]=false}),self),this[\"index\"].subscribe((function (val){!(this.valueFromJulia[\"index\"]) ? (WebIO.setval({\"name\":\"index\",\"scope\":\"6053480976119276851\",\"id\":\"ob_09\",\"type\":\"observable\"},val)) : undefined; return this.valueFromJulia[\"index\"]=false}),self)]\n        \n    }\n    self.model = new AppViewModel();\n    self.valueFromJulia = {};\n    for (var key in json_data) {\n        self.valueFromJulia[key] = false;\n    }\n    ko.applyBindings(self.model, self.dom);\n}\n);\n    (WebIO.importBlock({\"data\":[{\"name\":\"knockout\",\"type\":\"js\",\"url\":\"/assetserver/06b5713f7394e9c781d3d3143d6fd532e7f814ce-knockout.js\"},{\"name\":\"knockout_punches\",\"type\":\"js\",\"url\":\"/assetserver/695de4db56dde9805b672fe778fb2fc752e9b632-knockout_punches.js\"}],\"type\":\"async_block\"})).then((imports) => handler.apply(this, imports));\n}\n"
            ],
            "observables": {
             "changes": {
              "id": "ob_10",
              "sync": false,
              "value": 0
             },
             "index": {
              "id": "ob_09",
              "sync": true,
              "value": 10
             }
            },
            "systemjs_options": null
           },
           "nodeType": "Scope",
           "props": {},
           "type": "node"
          }
         ],
         "instanceArgs": {
          "namespace": "html",
          "tag": "div"
         },
         "nodeType": "DOM",
         "props": {
          "className": "field interact-widget"
         },
         "type": "node"
        },
        {
         "children": [
          {
           "children": [],
           "instanceArgs": {
            "id": "ob_16",
            "name": "obs-node"
           },
           "nodeType": "ObservableNode",
           "props": {},
           "type": "node"
          }
         ],
         "instanceArgs": {
          "handlers": {},
          "id": "5639963652644007822",
          "imports": {
           "data": [],
           "type": "async_block"
          },
          "mount_callbacks": [],
          "observables": {
           "obs-node": {
            "id": "ob_16",
            "sync": false,
            "value": {
             "children": [
              {
               "children": [],
               "instanceArgs": {
                "namespace": "html",
                "tag": "div"
               },
               "nodeType": "DOM",
               "props": {
                "setInnerHtml": "<pre>10×10 Array{Int64,2}:\n  1   2   3   4   5   6   7   8   9   10\n  2   4   6   8  10  12  14  16  18   20\n  3   6   9  12  15  18  21  24  27   30\n  4   8  12  16  20  24  28  32  36   40\n  5  10  15  20  25  30  35  40  45   50\n  6  12  18  24  30  36  42  48  54   60\n  7  14  21  28  35  42  49  56  63   70\n  8  16  24  32  40  48  56  64  72   80\n  9  18  27  36  45  54  63  72  81   90\n 10  20  30  40  50  60  70  80  90  100</pre>"
               },
               "type": "node"
              }
             ],
             "instanceArgs": {
              "namespace": "html",
              "tag": "div"
             },
             "nodeType": "DOM",
             "props": {
              "className": "interact-flex-row interact-widget"
             },
             "type": "node"
            }
           }
          },
          "systemjs_options": null
         },
         "nodeType": "Scope",
         "props": {},
         "type": "node"
        }
       ],
       "instanceArgs": {
        "namespace": "html",
        "tag": "div"
       },
       "nodeType": "DOM",
       "props": {},
       "type": "node"
      },
      "text/html": [
       "<div\n",
       "    class=\"webio-mountpoint\"\n",
       "    data-webio-mountpoint=\"277608423098200626\"\n",
       ">\n",
       "    <script>\n",
       "    if (window.require && require.defined && require.defined(\"nbextensions/webio/main\")) {\n",
       "        console.log(\"Jupyter WebIO extension detected, not mounting.\");\n",
       "    } else if (window.WebIO) {\n",
       "        WebIO.mount(\n",
       "            document.querySelector('[data-webio-mountpoint=\"277608423098200626\"]'),\n",
       "            {\"props\":{},\"nodeType\":\"DOM\",\"type\":\"node\",\"instanceArgs\":{\"namespace\":\"html\",\"tag\":\"div\"},\"children\":[{\"props\":{\"className\":\"field interact-widget\"},\"nodeType\":\"DOM\",\"type\":\"node\",\"instanceArgs\":{\"namespace\":\"html\",\"tag\":\"div\"},\"children\":[{\"props\":{},\"nodeType\":\"Scope\",\"type\":\"node\",\"instanceArgs\":{\"imports\":{\"data\":[{\"name\":\"knockout\",\"type\":\"js\",\"url\":\"\\/assetserver\\/06b5713f7394e9c781d3d3143d6fd532e7f814ce-knockout.js\"},{\"name\":\"knockout_punches\",\"type\":\"js\",\"url\":\"\\/assetserver\\/695de4db56dde9805b672fe778fb2fc752e9b632-knockout_punches.js\"},{\"name\":null,\"type\":\"js\",\"url\":\"\\/assetserver\\/cd9cf93729ff320de8d59972e501bc7581ce199e-all.js\"},{\"name\":null,\"type\":\"css\",\"url\":\"\\/assetserver\\/2dd5b4483a1ad2cfea2512179b895d21de762858-style.css\"},{\"name\":null,\"type\":\"css\",\"url\":\"\\/assetserver\\/4a166f7fd21f97b78604bf0dafec2fdf4c488adb-bulma_confined.min.css\"}],\"type\":\"async_block\"},\"id\":\"6053480976119276851\",\"handlers\":{\"changes\":[\"(function (val){return (val!=this.model[\\\"changes\\\"]()) ? (this.valueFromJulia[\\\"changes\\\"]=true, this.model[\\\"changes\\\"](val)) : undefined})\"],\"index\":[\"(function (val){return (val!=this.model[\\\"index\\\"]()) ? (this.valueFromJulia[\\\"index\\\"]=true, this.model[\\\"index\\\"](val)) : undefined})\"]},\"systemjs_options\":null,\"mount_callbacks\":[\"function () {\\n    var handler = (function (ko, koPunches) {\\n    ko.punches.enableAll();\\n    ko.bindingHandlers.numericValue = {\\n        init: function(element, valueAccessor, allBindings, data, context) {\\n            var stringified = ko.observable(ko.unwrap(valueAccessor()));\\n            stringified.subscribe(function(value) {\\n                var val = parseFloat(value);\\n                if (!isNaN(val)) {\\n                    valueAccessor()(val);\\n                }\\n            });\\n            valueAccessor().subscribe(function(value) {\\n                var str = JSON.stringify(value);\\n                if ((str == \\\"0\\\") && ([\\\"-0\\\", \\\"-0.\\\"].indexOf(stringified()) >= 0))\\n                     return;\\n                 if ([\\\"null\\\", \\\"\\\"].indexOf(str) >= 0)\\n                     return;\\n                stringified(str);\\n            });\\n            ko.applyBindingsToNode(\\n                element,\\n                {\\n                    value: stringified,\\n                    valueUpdate: allBindings.get('valueUpdate'),\\n                },\\n                context,\\n            );\\n        }\\n    };\\n    var json_data = {\\\"formatted_vals\\\":[\\\"1\\\",\\\"2\\\",\\\"3\\\",\\\"4\\\",\\\"5\\\",\\\"6\\\",\\\"7\\\",\\\"8\\\",\\\"9\\\",\\\"10\\\",\\\"11\\\",\\\"12\\\",\\\"13\\\",\\\"14\\\",\\\"15\\\",\\\"16\\\",\\\"17\\\",\\\"18\\\",\\\"19\\\",\\\"20\\\"],\\\"changes\\\":WebIO.getval({\\\"name\\\":\\\"changes\\\",\\\"scope\\\":\\\"6053480976119276851\\\",\\\"id\\\":\\\"ob_10\\\",\\\"type\\\":\\\"observable\\\"}),\\\"index\\\":WebIO.getval({\\\"name\\\":\\\"index\\\",\\\"scope\\\":\\\"6053480976119276851\\\",\\\"id\\\":\\\"ob_09\\\",\\\"type\\\":\\\"observable\\\"})};\\n    var self = this;\\n    function AppViewModel() {\\n        for (var key in json_data) {\\n            var el = json_data[key];\\n            this[key] = Array.isArray(el) ? ko.observableArray(el) : ko.observable(el);\\n        }\\n        \\n        [this[\\\"formatted_val\\\"]=ko.computed(    function(){\\n        return this.formatted_vals()[parseInt(this.index())-(1)];\\n    }\\n,this)]\\n        [this[\\\"changes\\\"].subscribe((function (val){!(this.valueFromJulia[\\\"changes\\\"]) ? (WebIO.setval({\\\"name\\\":\\\"changes\\\",\\\"scope\\\":\\\"6053480976119276851\\\",\\\"id\\\":\\\"ob_10\\\",\\\"type\\\":\\\"observable\\\"},val)) : undefined; return this.valueFromJulia[\\\"changes\\\"]=false}),self),this[\\\"index\\\"].subscribe((function (val){!(this.valueFromJulia[\\\"index\\\"]) ? (WebIO.setval({\\\"name\\\":\\\"index\\\",\\\"scope\\\":\\\"6053480976119276851\\\",\\\"id\\\":\\\"ob_09\\\",\\\"type\\\":\\\"observable\\\"},val)) : undefined; return this.valueFromJulia[\\\"index\\\"]=false}),self)]\\n        \\n    }\\n    self.model = new AppViewModel();\\n    self.valueFromJulia = {};\\n    for (var key in json_data) {\\n        self.valueFromJulia[key] = false;\\n    }\\n    ko.applyBindings(self.model, self.dom);\\n}\\n);\\n    (WebIO.importBlock({\\\"data\\\":[{\\\"name\\\":\\\"knockout\\\",\\\"type\\\":\\\"js\\\",\\\"url\\\":\\\"\\/assetserver\\/06b5713f7394e9c781d3d3143d6fd532e7f814ce-knockout.js\\\"},{\\\"name\\\":\\\"knockout_punches\\\",\\\"type\\\":\\\"js\\\",\\\"url\\\":\\\"\\/assetserver\\/695de4db56dde9805b672fe778fb2fc752e9b632-knockout_punches.js\\\"}],\\\"type\\\":\\\"async_block\\\"})).then((imports) => handler.apply(this, imports));\\n}\\n\"],\"observables\":{\"changes\":{\"sync\":false,\"id\":\"ob_10\",\"value\":0},\"index\":{\"sync\":true,\"id\":\"ob_09\",\"value\":10}}},\"children\":[{\"props\":{\"className\":\"interact-flex-row interact-widget\"},\"nodeType\":\"DOM\",\"type\":\"node\",\"instanceArgs\":{\"namespace\":\"html\",\"tag\":\"div\"},\"children\":[{\"props\":{\"className\":\"interact-flex-row-left\"},\"nodeType\":\"DOM\",\"type\":\"node\",\"instanceArgs\":{\"namespace\":\"html\",\"tag\":\"div\"},\"children\":[{\"props\":{\"className\":\"interact \",\"style\":{\"padding\":\"5px 10px 0px 10px\"}},\"nodeType\":\"DOM\",\"type\":\"node\",\"instanceArgs\":{\"namespace\":\"html\",\"tag\":\"label\"},\"children\":[\"n\"]}]},{\"props\":{\"className\":\"interact-flex-row-center\"},\"nodeType\":\"DOM\",\"type\":\"node\",\"instanceArgs\":{\"namespace\":\"html\",\"tag\":\"div\"},\"children\":[{\"props\":{\"max\":20,\"min\":1,\"attributes\":{\"type\":\"range\",\"data-bind\":\"numericValue: index, valueUpdate: 'input', event: {change: function (){this.changes(this.changes()+1)}}\",\"orient\":\"horizontal\"},\"step\":1,\"className\":\"slider slider is-fullwidth\",\"style\":{}},\"nodeType\":\"DOM\",\"type\":\"node\",\"instanceArgs\":{\"namespace\":\"html\",\"tag\":\"input\"},\"children\":[]}]},{\"props\":{\"className\":\"interact-flex-row-right\"},\"nodeType\":\"DOM\",\"type\":\"node\",\"instanceArgs\":{\"namespace\":\"html\",\"tag\":\"div\"},\"children\":[{\"props\":{\"attributes\":{\"data-bind\":\"text: formatted_val\"}},\"nodeType\":\"DOM\",\"type\":\"node\",\"instanceArgs\":{\"namespace\":\"html\",\"tag\":\"p\"},\"children\":[]}]}]}]}]},{\"props\":{},\"nodeType\":\"Scope\",\"type\":\"node\",\"instanceArgs\":{\"imports\":{\"data\":[],\"type\":\"async_block\"},\"id\":\"12659479546700049000\",\"handlers\":{},\"systemjs_options\":null,\"mount_callbacks\":[],\"observables\":{\"obs-node\":{\"sync\":false,\"id\":\"ob_14\",\"value\":{\"props\":{\"className\":\"interact-flex-row interact-widget\"},\"nodeType\":\"DOM\",\"type\":\"node\",\"instanceArgs\":{\"namespace\":\"html\",\"tag\":\"div\"},\"children\":[{\"props\":{\"setInnerHtml\":\"<pre>10×10 Array{Int64,2}:\\n  1   2   3   4   5   6   7   8   9   10\\n  2   4   6   8  10  12  14  16  18   20\\n  3   6   9  12  15  18  21  24  27   30\\n  4   8  12  16  20  24  28  32  36   40\\n  5  10  15  20  25  30  35  40  45   50\\n  6  12  18  24  30  36  42  48  54   60\\n  7  14  21  28  35  42  49  56  63   70\\n  8  16  24  32  40  48  56  64  72   80\\n  9  18  27  36  45  54  63  72  81   90\\n 10  20  30  40  50  60  70  80  90  100<\\/pre>\"},\"nodeType\":\"DOM\",\"type\":\"node\",\"instanceArgs\":{\"namespace\":\"html\",\"tag\":\"div\"},\"children\":[]}]}}}},\"children\":[{\"props\":{},\"nodeType\":\"ObservableNode\",\"type\":\"node\",\"instanceArgs\":{\"id\":\"ob_14\",\"name\":\"obs-node\"},\"children\":[]}]}]},\n",
       "            window,\n",
       "        );\n",
       "    } else {\n",
       "        document\n",
       "            .querySelector('[data-webio-mountpoint=\"277608423098200626\"]')\n",
       "            .innerHTML = '<strong>WebIO not detected.</strong>';\n",
       "    }\n",
       "    </script>\n",
       "</div>\n"
      ],
      "text/plain": [
       "Node{WebIO.DOM}(WebIO.DOM(:html, :div), Any[Node{DOM}(DOM(:html, :div), Any[Scope(Node{DOM}(DOM(:html, :div), Any[Node{DOM}(DOM(:html, :div), Any[Node{DOM}(DOM(:html, :label), Any[\"n\"], Dict{Symbol,Any}(:className=>\"interact \",:style=>Dict{Any,Any}(:padding=>\"5px 10px 0px 10px\")))], Dict{Symbol,Any}(:className=>\"interact-flex-row-left\")), Node{DOM}(DOM(:html, :div), Any[Node{DOM}(DOM(:html, :input), Any[], Dict{Symbol,Any}(:max=>20,:min=>1,:attributes=>Dict{Any,Any}(:type=>\"range\",Symbol(\"data-bind\")=>\"numericValue: index, valueUpdate: 'input', event: {change: function (){this.changes(this.changes()+1)}}\",\"orient\"=>\"horizontal\"),:step=>1,:className=>\"slider slider is-fullwidth\",:style=>Dict{Any,Any}()))], Dict{Symbol,Any}(:className=>\"interact-flex-row-center\")), Node{DOM}(DOM(:html, :div), Any[Node{DOM}(DOM(:html, :p), Any[], Dict{Symbol,Any}(:attributes=>Dict(\"data-bind\"=>\"text: formatted_val\")))], Dict{Symbol,Any}(:className=>\"interact-flex-row-right\"))], Dict{Symbol,Any}(:className=>\"interact-flex-row interact-widget\")), Dict{String,Tuple{Observables.AbstractObservable,Union{Nothing, Bool}}}(\"changes\"=>(Observable{Int64} with 1 listeners. Value:\n",
       "0, nothing),\"index\"=>(Observable{Int64} with 2 listeners. Value:\n",
       "10, nothing)), Set(String[]), nothing, Asset[Asset(\"js\", \"knockout\", \"C:\\\\Users\\\\carsten\\\\.julia\\\\packages\\\\Knockout\\\\1sDlc\\\\src\\\\..\\\\assets\\\\knockout.js\"), Asset(\"js\", \"knockout_punches\", \"C:\\\\Users\\\\carsten\\\\.julia\\\\packages\\\\Knockout\\\\1sDlc\\\\src\\\\..\\\\assets\\\\knockout_punches.js\"), Asset(\"js\", nothing, \"C:\\\\Users\\\\carsten\\\\.julia\\\\packages\\\\InteractBase\\\\l8cEC\\\\src\\\\..\\\\assets\\\\all.js\"), Asset(\"css\", nothing, \"C:\\\\Users\\\\carsten\\\\.julia\\\\packages\\\\InteractBase\\\\l8cEC\\\\src\\\\..\\\\assets\\\\style.css\"), Asset(\"css\", nothing, \"C:\\\\Users\\\\carsten\\\\.julia\\\\packages\\\\Interact\\\\0klKX\\\\src\\\\..\\\\assets\\\\bulma_confined.min.css\")], Dict{Any,Any}(\"changes\"=>Any[JSString(\"(function (val){return (val!=this.model[\\\"changes\\\"]()) ? (this.valueFromJulia[\\\"changes\\\"]=true, this.model[\\\"changes\\\"](val)) : undefined})\")],\"index\"=>Any[JSString(\"(function (val){return (val!=this.model[\\\"index\\\"]()) ? (this.valueFromJulia[\\\"index\\\"]=true, this.model[\\\"index\\\"](val)) : undefined})\")]), ConnectionPool(Channel{Any}(sz_max:9223372036854775807,sz_curr:0), Set(AbstractConnection[]), Channel{AbstractConnection}(sz_max:32,sz_curr:0)), WebIO.JSString[JSString(\"function () {\\n    var handler = (function (ko, koPunches) {\\n    ko.punches.enableAll();\\n    ko.bindingHandlers.numericValue = {\\n        init: function(element, valueAccessor, allBindings, data, context) {\\n            var stringified = ko.observable(ko.unwrap(valueAccessor()));\\n            stringified.subscribe(function(value) {\\n                var val = parseFloat(value);\\n                if (!isNaN(val)) {\\n                    valueAccessor()(val);\\n                }\\n            });\\n            valueAccessor().subscribe(function(value) {\\n                var str = JSON.stringify(value);\\n                if ((str == \\\"0\\\") && ([\\\"-0\\\", \\\"-0.\\\"].indexOf(stringified()) >= 0))\\n                     return;\\n                 if ([\\\"null\\\", \\\"\\\"].indexOf(str) >= 0)\\n                     return;\\n                stringified(str);\\n            });\\n            ko.applyBindingsToNode(\\n                element,\\n                {\\n                    value: stringified,\\n                    valueUpdate: allBindings.get('valueUpdate'),\\n                },\\n                context,\\n            );\\n        }\\n    };\\n    var json_data = {\\\"formatted_vals\\\":[\\\"1\\\",\\\"2\\\",\\\"3\\\",\\\"4\\\",\\\"5\\\",\\\"6\\\",\\\"7\\\",\\\"8\\\",\\\"9\\\",\\\"10\\\",\\\"11\\\",\\\"12\\\",\\\"13\\\",\\\"14\\\",\\\"15\\\",\\\"16\\\",\\\"17\\\",\\\"18\\\",\\\"19\\\",\\\"20\\\"],\\\"changes\\\":WebIO.getval({\\\"name\\\":\\\"changes\\\",\\\"scope\\\":\\\"6053480976119276851\\\",\\\"id\\\":\\\"ob_10\\\",\\\"type\\\":\\\"observable\\\"}),\\\"index\\\":WebIO.getval({\\\"name\\\":\\\"index\\\",\\\"scope\\\":\\\"6053480976119276851\\\",\\\"id\\\":\\\"ob_09\\\",\\\"type\\\":\\\"observable\\\"})};\\n    var self = this;\\n    function AppViewModel() {\\n        for (var key in json_data) {\\n            var el = json_data[key];\\n            this[key] = Array.isArray(el) ? ko.observableArray(el) : ko.observable(el);\\n        }\\n        \\n        [this[\\\"formatted_val\\\"]=ko.computed(    function(){\\n        return this.formatted_vals()[parseInt(this.index())-(1)];\\n    }\\n,this)]\\n        [this[\\\"changes\\\"].subscribe((function (val){!(this.valueFromJulia[\\\"changes\\\"]) ? (WebIO.setval({\\\"name\\\":\\\"changes\\\",\\\"scope\\\":\\\"6053480976119276851\\\",\\\"id\\\":\\\"ob_10\\\",\\\"type\\\":\\\"observable\\\"},val)) : undefined; return this.valueFromJulia[\\\"changes\\\"]=false}),self),this[\\\"index\\\"].subscribe((function (val){!(this.valueFromJulia[\\\"index\\\"]) ? (WebIO.setval({\\\"name\\\":\\\"index\\\",\\\"scope\\\":\\\"6053480976119276851\\\",\\\"id\\\":\\\"ob_09\\\",\\\"type\\\":\\\"observable\\\"},val)) : undefined; return this.valueFromJulia[\\\"index\\\"]=false}),self)]\\n        \\n    }\\n    self.model = new AppViewModel();\\n    self.valueFromJulia = {};\\n    for (var key in json_data) {\\n        self.valueFromJulia[key] = false;\\n    }\\n    ko.applyBindings(self.model, self.dom);\\n}\\n);\\n    (WebIO.importBlock({\\\"data\\\":[{\\\"name\\\":\\\"knockout\\\",\\\"type\\\":\\\"js\\\",\\\"url\\\":\\\"/assetserver/06b5713f7394e9c781d3d3143d6fd532e7f814ce-knockout.js\\\"},{\\\"name\\\":\\\"knockout_punches\\\",\\\"type\\\":\\\"js\\\",\\\"url\\\":\\\"/assetserver/695de4db56dde9805b672fe778fb2fc752e9b632-knockout_punches.js\\\"}],\\\"type\\\":\\\"async_block\\\"})).then((imports) => handler.apply(this, imports));\\n}\\n\")])], Dict{Symbol,Any}(:className=>\"field interact-widget\")), Observable{Any} with 0 listeners. Value:\n",
       "Node{DOM}(DOM(:html, :div), Any[[1 2 … 9 10; 2 4 … 18 20; … ; 9 18 … 81 90; 10 20 … 90 100]], Dict{Symbol,Any}(:className=>\"interact-flex-row interact-widget\"))], Dict{Symbol,Any}())"
      ]
     },
     "execution_count": 6,
     "metadata": {
      "application/vnd.webio.node+json": {
       "kernelId": null
      }
     },
     "output_type": "execute_result"
    }
   ],
   "source": [
    "@manipulate for n in 1:20\n",
    "    [i*j for i in 1:n, j in 1:n]\n",
    "end"
   ]
  },
  {
   "cell_type": "code",
   "execution_count": 25,
   "metadata": {},
   "outputs": [
    {
     "data": {
      "text/plain": [
       "insert_block (generic function with 2 methods)"
      ]
     },
     "execution_count": 25,
     "metadata": {},
     "output_type": "execute_result"
    }
   ],
   "source": [
    "function insert_block(A, i, j, what=7)\n",
    "    B = copy(A)\n",
    "    B[i:i+2, j:j+2] .= what\n",
    "    B\n",
    "end"
   ]
  },
  {
   "cell_type": "code",
   "execution_count": 26,
   "metadata": {},
   "outputs": [
    {
     "data": {
      "text/plain": [
       "9×9 Array{Int64,2}:\n",
       " 0  0  0  0  0  0  0  0  0\n",
       " 0  0  0  0  0  0  0  0  0\n",
       " 0  0  0  0  7  7  7  0  0\n",
       " 0  0  0  0  7  7  7  0  0\n",
       " 0  0  0  0  7  7  7  0  0\n",
       " 0  0  0  0  0  0  0  0  0\n",
       " 0  0  0  0  0  0  0  0  0\n",
       " 0  0  0  0  0  0  0  0  0\n",
       " 0  0  0  0  0  0  0  0  0"
      ]
     },
     "execution_count": 26,
     "metadata": {},
     "output_type": "execute_result"
    }
   ],
   "source": [
    "A = fill(0, 9, 9)\n",
    "insert_block(A, 3, 5)  # this returns the new matrix"
   ]
  },
  {
   "cell_type": "code",
   "execution_count": 27,
   "metadata": {},
   "outputs": [
    {
     "data": {
      "application/vnd.webio.node+json": {
       "children": [
        {
         "children": [
          {
           "children": [
            {
             "children": [
              {
               "children": [
                {
                 "children": [
                  "i"
                 ],
                 "instanceArgs": {
                  "namespace": "html",
                  "tag": "label"
                 },
                 "nodeType": "DOM",
                 "props": {
                  "className": "interact ",
                  "style": {
                   "padding": "5px 10px 0px 10px"
                  }
                 },
                 "type": "node"
                }
               ],
               "instanceArgs": {
                "namespace": "html",
                "tag": "div"
               },
               "nodeType": "DOM",
               "props": {
                "className": "interact-flex-row-left"
               },
               "type": "node"
              },
              {
               "children": [
                {
                 "children": [],
                 "instanceArgs": {
                  "namespace": "html",
                  "tag": "input"
                 },
                 "nodeType": "DOM",
                 "props": {
                  "attributes": {
                   "data-bind": "numericValue: index, valueUpdate: 'input', event: {change: function (){this.changes(this.changes()+1)}}",
                   "orient": "horizontal",
                   "type": "range"
                  },
                  "className": "slider slider is-fullwidth",
                  "max": 8,
                  "min": 1,
                  "step": 1,
                  "style": {}
                 },
                 "type": "node"
                }
               ],
               "instanceArgs": {
                "namespace": "html",
                "tag": "div"
               },
               "nodeType": "DOM",
               "props": {
                "className": "interact-flex-row-center"
               },
               "type": "node"
              },
              {
               "children": [
                {
                 "children": [],
                 "instanceArgs": {
                  "namespace": "html",
                  "tag": "p"
                 },
                 "nodeType": "DOM",
                 "props": {
                  "attributes": {
                   "data-bind": "text: formatted_val"
                  }
                 },
                 "type": "node"
                }
               ],
               "instanceArgs": {
                "namespace": "html",
                "tag": "div"
               },
               "nodeType": "DOM",
               "props": {
                "className": "interact-flex-row-right"
               },
               "type": "node"
              }
             ],
             "instanceArgs": {
              "namespace": "html",
              "tag": "div"
             },
             "nodeType": "DOM",
             "props": {
              "className": "interact-flex-row interact-widget"
             },
             "type": "node"
            }
           ],
           "instanceArgs": {
            "handlers": {
             "changes": [
              "(function (val){return (val!=this.model[\"changes\"]()) ? (this.valueFromJulia[\"changes\"]=true, this.model[\"changes\"](val)) : undefined})"
             ],
             "index": [
              "(function (val){return (val!=this.model[\"index\"]()) ? (this.valueFromJulia[\"index\"]=true, this.model[\"index\"](val)) : undefined})"
             ]
            },
            "id": "18308453156786056462",
            "imports": {
             "data": [
              {
               "name": "knockout",
               "type": "js",
               "url": "/assetserver/06b5713f7394e9c781d3d3143d6fd532e7f814ce-knockout.js"
              },
              {
               "name": "knockout_punches",
               "type": "js",
               "url": "/assetserver/695de4db56dde9805b672fe778fb2fc752e9b632-knockout_punches.js"
              },
              {
               "name": null,
               "type": "js",
               "url": "/assetserver/cd9cf93729ff320de8d59972e501bc7581ce199e-all.js"
              },
              {
               "name": null,
               "type": "css",
               "url": "/assetserver/2dd5b4483a1ad2cfea2512179b895d21de762858-style.css"
              },
              {
               "name": null,
               "type": "css",
               "url": "/assetserver/4a166f7fd21f97b78604bf0dafec2fdf4c488adb-bulma_confined.min.css"
              }
             ],
             "type": "async_block"
            },
            "mount_callbacks": [
             "function () {\n    var handler = (function (ko, koPunches) {\n    ko.punches.enableAll();\n    ko.bindingHandlers.numericValue = {\n        init: function(element, valueAccessor, allBindings, data, context) {\n            var stringified = ko.observable(ko.unwrap(valueAccessor()));\n            stringified.subscribe(function(value) {\n                var val = parseFloat(value);\n                if (!isNaN(val)) {\n                    valueAccessor()(val);\n                }\n            });\n            valueAccessor().subscribe(function(value) {\n                var str = JSON.stringify(value);\n                if ((str == \"0\") && ([\"-0\", \"-0.\"].indexOf(stringified()) >= 0))\n                     return;\n                 if ([\"null\", \"\"].indexOf(str) >= 0)\n                     return;\n                stringified(str);\n            });\n            ko.applyBindingsToNode(\n                element,\n                {\n                    value: stringified,\n                    valueUpdate: allBindings.get('valueUpdate'),\n                },\n                context,\n            );\n        }\n    };\n    var json_data = {\"formatted_vals\":[\"1\",\"2\",\"3\",\"4\",\"5\",\"6\",\"7\",\"8\"],\"changes\":WebIO.getval({\"name\":\"changes\",\"scope\":\"18308453156786056462\",\"id\":\"ob_74\",\"type\":\"observable\"}),\"index\":WebIO.getval({\"name\":\"index\",\"scope\":\"18308453156786056462\",\"id\":\"ob_73\",\"type\":\"observable\"})};\n    var self = this;\n    function AppViewModel() {\n        for (var key in json_data) {\n            var el = json_data[key];\n            this[key] = Array.isArray(el) ? ko.observableArray(el) : ko.observable(el);\n        }\n        \n        [this[\"formatted_val\"]=ko.computed(    function(){\n        return this.formatted_vals()[parseInt(this.index())-(1)];\n    }\n,this)]\n        [this[\"changes\"].subscribe((function (val){!(this.valueFromJulia[\"changes\"]) ? (WebIO.setval({\"name\":\"changes\",\"scope\":\"18308453156786056462\",\"id\":\"ob_74\",\"type\":\"observable\"},val)) : undefined; return this.valueFromJulia[\"changes\"]=false}),self),this[\"index\"].subscribe((function (val){!(this.valueFromJulia[\"index\"]) ? (WebIO.setval({\"name\":\"index\",\"scope\":\"18308453156786056462\",\"id\":\"ob_73\",\"type\":\"observable\"},val)) : undefined; return this.valueFromJulia[\"index\"]=false}),self)]\n        \n    }\n    self.model = new AppViewModel();\n    self.valueFromJulia = {};\n    for (var key in json_data) {\n        self.valueFromJulia[key] = false;\n    }\n    ko.applyBindings(self.model, self.dom);\n}\n);\n    (WebIO.importBlock({\"data\":[{\"name\":\"knockout\",\"type\":\"js\",\"url\":\"/assetserver/06b5713f7394e9c781d3d3143d6fd532e7f814ce-knockout.js\"},{\"name\":\"knockout_punches\",\"type\":\"js\",\"url\":\"/assetserver/695de4db56dde9805b672fe778fb2fc752e9b632-knockout_punches.js\"}],\"type\":\"async_block\"})).then((imports) => handler.apply(this, imports));\n}\n"
            ],
            "observables": {
             "changes": {
              "id": "ob_74",
              "sync": false,
              "value": 0
             },
             "index": {
              "id": "ob_73",
              "sync": true,
              "value": 4
             }
            },
            "systemjs_options": null
           },
           "nodeType": "Scope",
           "props": {},
           "type": "node"
          }
         ],
         "instanceArgs": {
          "namespace": "html",
          "tag": "div"
         },
         "nodeType": "DOM",
         "props": {
          "className": "field interact-widget"
         },
         "type": "node"
        },
        {
         "children": [
          {
           "children": [
            {
             "children": [
              {
               "children": [
                {
                 "children": [
                  "j"
                 ],
                 "instanceArgs": {
                  "namespace": "html",
                  "tag": "label"
                 },
                 "nodeType": "DOM",
                 "props": {
                  "className": "interact ",
                  "style": {
                   "padding": "5px 10px 0px 10px"
                  }
                 },
                 "type": "node"
                }
               ],
               "instanceArgs": {
                "namespace": "html",
                "tag": "div"
               },
               "nodeType": "DOM",
               "props": {
                "className": "interact-flex-row-left"
               },
               "type": "node"
              },
              {
               "children": [
                {
                 "children": [],
                 "instanceArgs": {
                  "namespace": "html",
                  "tag": "input"
                 },
                 "nodeType": "DOM",
                 "props": {
                  "attributes": {
                   "data-bind": "numericValue: index, valueUpdate: 'input', event: {change: function (){this.changes(this.changes()+1)}}",
                   "orient": "horizontal",
                   "type": "range"
                  },
                  "className": "slider slider is-fullwidth",
                  "max": 8,
                  "min": 1,
                  "step": 1,
                  "style": {}
                 },
                 "type": "node"
                }
               ],
               "instanceArgs": {
                "namespace": "html",
                "tag": "div"
               },
               "nodeType": "DOM",
               "props": {
                "className": "interact-flex-row-center"
               },
               "type": "node"
              },
              {
               "children": [
                {
                 "children": [],
                 "instanceArgs": {
                  "namespace": "html",
                  "tag": "p"
                 },
                 "nodeType": "DOM",
                 "props": {
                  "attributes": {
                   "data-bind": "text: formatted_val"
                  }
                 },
                 "type": "node"
                }
               ],
               "instanceArgs": {
                "namespace": "html",
                "tag": "div"
               },
               "nodeType": "DOM",
               "props": {
                "className": "interact-flex-row-right"
               },
               "type": "node"
              }
             ],
             "instanceArgs": {
              "namespace": "html",
              "tag": "div"
             },
             "nodeType": "DOM",
             "props": {
              "className": "interact-flex-row interact-widget"
             },
             "type": "node"
            }
           ],
           "instanceArgs": {
            "handlers": {
             "changes": [
              "(function (val){return (val!=this.model[\"changes\"]()) ? (this.valueFromJulia[\"changes\"]=true, this.model[\"changes\"](val)) : undefined})"
             ],
             "index": [
              "(function (val){return (val!=this.model[\"index\"]()) ? (this.valueFromJulia[\"index\"]=true, this.model[\"index\"](val)) : undefined})"
             ]
            },
            "id": "13879798670853388322",
            "imports": {
             "data": [
              {
               "name": "knockout",
               "type": "js",
               "url": "/assetserver/06b5713f7394e9c781d3d3143d6fd532e7f814ce-knockout.js"
              },
              {
               "name": "knockout_punches",
               "type": "js",
               "url": "/assetserver/695de4db56dde9805b672fe778fb2fc752e9b632-knockout_punches.js"
              },
              {
               "name": null,
               "type": "js",
               "url": "/assetserver/cd9cf93729ff320de8d59972e501bc7581ce199e-all.js"
              },
              {
               "name": null,
               "type": "css",
               "url": "/assetserver/2dd5b4483a1ad2cfea2512179b895d21de762858-style.css"
              },
              {
               "name": null,
               "type": "css",
               "url": "/assetserver/4a166f7fd21f97b78604bf0dafec2fdf4c488adb-bulma_confined.min.css"
              }
             ],
             "type": "async_block"
            },
            "mount_callbacks": [
             "function () {\n    var handler = (function (ko, koPunches) {\n    ko.punches.enableAll();\n    ko.bindingHandlers.numericValue = {\n        init: function(element, valueAccessor, allBindings, data, context) {\n            var stringified = ko.observable(ko.unwrap(valueAccessor()));\n            stringified.subscribe(function(value) {\n                var val = parseFloat(value);\n                if (!isNaN(val)) {\n                    valueAccessor()(val);\n                }\n            });\n            valueAccessor().subscribe(function(value) {\n                var str = JSON.stringify(value);\n                if ((str == \"0\") && ([\"-0\", \"-0.\"].indexOf(stringified()) >= 0))\n                     return;\n                 if ([\"null\", \"\"].indexOf(str) >= 0)\n                     return;\n                stringified(str);\n            });\n            ko.applyBindingsToNode(\n                element,\n                {\n                    value: stringified,\n                    valueUpdate: allBindings.get('valueUpdate'),\n                },\n                context,\n            );\n        }\n    };\n    var json_data = {\"formatted_vals\":[\"1\",\"2\",\"3\",\"4\",\"5\",\"6\",\"7\",\"8\"],\"changes\":WebIO.getval({\"name\":\"changes\",\"scope\":\"13879798670853388322\",\"id\":\"ob_76\",\"type\":\"observable\"}),\"index\":WebIO.getval({\"name\":\"index\",\"scope\":\"13879798670853388322\",\"id\":\"ob_75\",\"type\":\"observable\"})};\n    var self = this;\n    function AppViewModel() {\n        for (var key in json_data) {\n            var el = json_data[key];\n            this[key] = Array.isArray(el) ? ko.observableArray(el) : ko.observable(el);\n        }\n        \n        [this[\"formatted_val\"]=ko.computed(    function(){\n        return this.formatted_vals()[parseInt(this.index())-(1)];\n    }\n,this)]\n        [this[\"changes\"].subscribe((function (val){!(this.valueFromJulia[\"changes\"]) ? (WebIO.setval({\"name\":\"changes\",\"scope\":\"13879798670853388322\",\"id\":\"ob_76\",\"type\":\"observable\"},val)) : undefined; return this.valueFromJulia[\"changes\"]=false}),self),this[\"index\"].subscribe((function (val){!(this.valueFromJulia[\"index\"]) ? (WebIO.setval({\"name\":\"index\",\"scope\":\"13879798670853388322\",\"id\":\"ob_75\",\"type\":\"observable\"},val)) : undefined; return this.valueFromJulia[\"index\"]=false}),self)]\n        \n    }\n    self.model = new AppViewModel();\n    self.valueFromJulia = {};\n    for (var key in json_data) {\n        self.valueFromJulia[key] = false;\n    }\n    ko.applyBindings(self.model, self.dom);\n}\n);\n    (WebIO.importBlock({\"data\":[{\"name\":\"knockout\",\"type\":\"js\",\"url\":\"/assetserver/06b5713f7394e9c781d3d3143d6fd532e7f814ce-knockout.js\"},{\"name\":\"knockout_punches\",\"type\":\"js\",\"url\":\"/assetserver/695de4db56dde9805b672fe778fb2fc752e9b632-knockout_punches.js\"}],\"type\":\"async_block\"})).then((imports) => handler.apply(this, imports));\n}\n"
            ],
            "observables": {
             "changes": {
              "id": "ob_76",
              "sync": false,
              "value": 0
             },
             "index": {
              "id": "ob_75",
              "sync": true,
              "value": 4
             }
            },
            "systemjs_options": null
           },
           "nodeType": "Scope",
           "props": {},
           "type": "node"
          }
         ],
         "instanceArgs": {
          "namespace": "html",
          "tag": "div"
         },
         "nodeType": "DOM",
         "props": {
          "className": "field interact-widget"
         },
         "type": "node"
        },
        {
         "children": [
          {
           "children": [],
           "instanceArgs": {
            "id": "ob_82",
            "name": "obs-node"
           },
           "nodeType": "ObservableNode",
           "props": {},
           "type": "node"
          }
         ],
         "instanceArgs": {
          "handlers": {},
          "id": "15954676711514999293",
          "imports": {
           "data": [],
           "type": "async_block"
          },
          "mount_callbacks": [],
          "observables": {
           "obs-node": {
            "id": "ob_82",
            "sync": false,
            "value": {
             "children": [
              {
               "children": [],
               "instanceArgs": {
                "namespace": "html",
                "tag": "div"
               },
               "nodeType": "DOM",
               "props": {
                "setInnerHtml": "<pre>10×10 Array{Int64,2}:\n 0  0  0  0  0  0  0  0  0  0\n 0  0  0  0  0  0  0  0  0  0\n 0  0  0  0  0  0  0  0  0  0\n 0  0  0  7  7  7  0  0  0  0\n 0  0  0  7  7  7  0  0  0  0\n 0  0  0  7  7  7  0  0  0  0\n 0  0  0  0  0  0  0  0  0  0\n 0  0  0  0  0  0  0  0  0  0\n 0  0  0  0  0  0  0  0  0  0\n 0  0  0  0  0  0  0  0  0  0</pre>"
               },
               "type": "node"
              }
             ],
             "instanceArgs": {
              "namespace": "html",
              "tag": "div"
             },
             "nodeType": "DOM",
             "props": {
              "className": "interact-flex-row interact-widget"
             },
             "type": "node"
            }
           }
          },
          "systemjs_options": null
         },
         "nodeType": "Scope",
         "props": {},
         "type": "node"
        }
       ],
       "instanceArgs": {
        "namespace": "html",
        "tag": "div"
       },
       "nodeType": "DOM",
       "props": {},
       "type": "node"
      },
      "text/html": [
       "<div\n",
       "    class=\"webio-mountpoint\"\n",
       "    data-webio-mountpoint=\"11476176790753046496\"\n",
       ">\n",
       "    <script>\n",
       "    if (window.require && require.defined && require.defined(\"nbextensions/webio/main\")) {\n",
       "        console.log(\"Jupyter WebIO extension detected, not mounting.\");\n",
       "    } else if (window.WebIO) {\n",
       "        WebIO.mount(\n",
       "            document.querySelector('[data-webio-mountpoint=\"11476176790753046496\"]'),\n",
       "            {\"props\":{},\"nodeType\":\"DOM\",\"type\":\"node\",\"instanceArgs\":{\"namespace\":\"html\",\"tag\":\"div\"},\"children\":[{\"props\":{\"className\":\"field interact-widget\"},\"nodeType\":\"DOM\",\"type\":\"node\",\"instanceArgs\":{\"namespace\":\"html\",\"tag\":\"div\"},\"children\":[{\"props\":{},\"nodeType\":\"Scope\",\"type\":\"node\",\"instanceArgs\":{\"imports\":{\"data\":[{\"name\":\"knockout\",\"type\":\"js\",\"url\":\"\\/assetserver\\/06b5713f7394e9c781d3d3143d6fd532e7f814ce-knockout.js\"},{\"name\":\"knockout_punches\",\"type\":\"js\",\"url\":\"\\/assetserver\\/695de4db56dde9805b672fe778fb2fc752e9b632-knockout_punches.js\"},{\"name\":null,\"type\":\"js\",\"url\":\"\\/assetserver\\/cd9cf93729ff320de8d59972e501bc7581ce199e-all.js\"},{\"name\":null,\"type\":\"css\",\"url\":\"\\/assetserver\\/2dd5b4483a1ad2cfea2512179b895d21de762858-style.css\"},{\"name\":null,\"type\":\"css\",\"url\":\"\\/assetserver\\/4a166f7fd21f97b78604bf0dafec2fdf4c488adb-bulma_confined.min.css\"}],\"type\":\"async_block\"},\"id\":\"18308453156786056462\",\"handlers\":{\"changes\":[\"(function (val){return (val!=this.model[\\\"changes\\\"]()) ? (this.valueFromJulia[\\\"changes\\\"]=true, this.model[\\\"changes\\\"](val)) : undefined})\"],\"index\":[\"(function (val){return (val!=this.model[\\\"index\\\"]()) ? (this.valueFromJulia[\\\"index\\\"]=true, this.model[\\\"index\\\"](val)) : undefined})\"]},\"systemjs_options\":null,\"mount_callbacks\":[\"function () {\\n    var handler = (function (ko, koPunches) {\\n    ko.punches.enableAll();\\n    ko.bindingHandlers.numericValue = {\\n        init: function(element, valueAccessor, allBindings, data, context) {\\n            var stringified = ko.observable(ko.unwrap(valueAccessor()));\\n            stringified.subscribe(function(value) {\\n                var val = parseFloat(value);\\n                if (!isNaN(val)) {\\n                    valueAccessor()(val);\\n                }\\n            });\\n            valueAccessor().subscribe(function(value) {\\n                var str = JSON.stringify(value);\\n                if ((str == \\\"0\\\") && ([\\\"-0\\\", \\\"-0.\\\"].indexOf(stringified()) >= 0))\\n                     return;\\n                 if ([\\\"null\\\", \\\"\\\"].indexOf(str) >= 0)\\n                     return;\\n                stringified(str);\\n            });\\n            ko.applyBindingsToNode(\\n                element,\\n                {\\n                    value: stringified,\\n                    valueUpdate: allBindings.get('valueUpdate'),\\n                },\\n                context,\\n            );\\n        }\\n    };\\n    var json_data = {\\\"formatted_vals\\\":[\\\"1\\\",\\\"2\\\",\\\"3\\\",\\\"4\\\",\\\"5\\\",\\\"6\\\",\\\"7\\\",\\\"8\\\"],\\\"changes\\\":WebIO.getval({\\\"name\\\":\\\"changes\\\",\\\"scope\\\":\\\"18308453156786056462\\\",\\\"id\\\":\\\"ob_74\\\",\\\"type\\\":\\\"observable\\\"}),\\\"index\\\":WebIO.getval({\\\"name\\\":\\\"index\\\",\\\"scope\\\":\\\"18308453156786056462\\\",\\\"id\\\":\\\"ob_73\\\",\\\"type\\\":\\\"observable\\\"})};\\n    var self = this;\\n    function AppViewModel() {\\n        for (var key in json_data) {\\n            var el = json_data[key];\\n            this[key] = Array.isArray(el) ? ko.observableArray(el) : ko.observable(el);\\n        }\\n        \\n        [this[\\\"formatted_val\\\"]=ko.computed(    function(){\\n        return this.formatted_vals()[parseInt(this.index())-(1)];\\n    }\\n,this)]\\n        [this[\\\"changes\\\"].subscribe((function (val){!(this.valueFromJulia[\\\"changes\\\"]) ? (WebIO.setval({\\\"name\\\":\\\"changes\\\",\\\"scope\\\":\\\"18308453156786056462\\\",\\\"id\\\":\\\"ob_74\\\",\\\"type\\\":\\\"observable\\\"},val)) : undefined; return this.valueFromJulia[\\\"changes\\\"]=false}),self),this[\\\"index\\\"].subscribe((function (val){!(this.valueFromJulia[\\\"index\\\"]) ? (WebIO.setval({\\\"name\\\":\\\"index\\\",\\\"scope\\\":\\\"18308453156786056462\\\",\\\"id\\\":\\\"ob_73\\\",\\\"type\\\":\\\"observable\\\"},val)) : undefined; return this.valueFromJulia[\\\"index\\\"]=false}),self)]\\n        \\n    }\\n    self.model = new AppViewModel();\\n    self.valueFromJulia = {};\\n    for (var key in json_data) {\\n        self.valueFromJulia[key] = false;\\n    }\\n    ko.applyBindings(self.model, self.dom);\\n}\\n);\\n    (WebIO.importBlock({\\\"data\\\":[{\\\"name\\\":\\\"knockout\\\",\\\"type\\\":\\\"js\\\",\\\"url\\\":\\\"\\/assetserver\\/06b5713f7394e9c781d3d3143d6fd532e7f814ce-knockout.js\\\"},{\\\"name\\\":\\\"knockout_punches\\\",\\\"type\\\":\\\"js\\\",\\\"url\\\":\\\"\\/assetserver\\/695de4db56dde9805b672fe778fb2fc752e9b632-knockout_punches.js\\\"}],\\\"type\\\":\\\"async_block\\\"})).then((imports) => handler.apply(this, imports));\\n}\\n\"],\"observables\":{\"changes\":{\"sync\":false,\"id\":\"ob_74\",\"value\":0},\"index\":{\"sync\":true,\"id\":\"ob_73\",\"value\":4}}},\"children\":[{\"props\":{\"className\":\"interact-flex-row interact-widget\"},\"nodeType\":\"DOM\",\"type\":\"node\",\"instanceArgs\":{\"namespace\":\"html\",\"tag\":\"div\"},\"children\":[{\"props\":{\"className\":\"interact-flex-row-left\"},\"nodeType\":\"DOM\",\"type\":\"node\",\"instanceArgs\":{\"namespace\":\"html\",\"tag\":\"div\"},\"children\":[{\"props\":{\"className\":\"interact \",\"style\":{\"padding\":\"5px 10px 0px 10px\"}},\"nodeType\":\"DOM\",\"type\":\"node\",\"instanceArgs\":{\"namespace\":\"html\",\"tag\":\"label\"},\"children\":[\"i\"]}]},{\"props\":{\"className\":\"interact-flex-row-center\"},\"nodeType\":\"DOM\",\"type\":\"node\",\"instanceArgs\":{\"namespace\":\"html\",\"tag\":\"div\"},\"children\":[{\"props\":{\"max\":8,\"min\":1,\"attributes\":{\"type\":\"range\",\"data-bind\":\"numericValue: index, valueUpdate: 'input', event: {change: function (){this.changes(this.changes()+1)}}\",\"orient\":\"horizontal\"},\"step\":1,\"className\":\"slider slider is-fullwidth\",\"style\":{}},\"nodeType\":\"DOM\",\"type\":\"node\",\"instanceArgs\":{\"namespace\":\"html\",\"tag\":\"input\"},\"children\":[]}]},{\"props\":{\"className\":\"interact-flex-row-right\"},\"nodeType\":\"DOM\",\"type\":\"node\",\"instanceArgs\":{\"namespace\":\"html\",\"tag\":\"div\"},\"children\":[{\"props\":{\"attributes\":{\"data-bind\":\"text: formatted_val\"}},\"nodeType\":\"DOM\",\"type\":\"node\",\"instanceArgs\":{\"namespace\":\"html\",\"tag\":\"p\"},\"children\":[]}]}]}]}]},{\"props\":{\"className\":\"field interact-widget\"},\"nodeType\":\"DOM\",\"type\":\"node\",\"instanceArgs\":{\"namespace\":\"html\",\"tag\":\"div\"},\"children\":[{\"props\":{},\"nodeType\":\"Scope\",\"type\":\"node\",\"instanceArgs\":{\"imports\":{\"data\":[{\"name\":\"knockout\",\"type\":\"js\",\"url\":\"\\/assetserver\\/06b5713f7394e9c781d3d3143d6fd532e7f814ce-knockout.js\"},{\"name\":\"knockout_punches\",\"type\":\"js\",\"url\":\"\\/assetserver\\/695de4db56dde9805b672fe778fb2fc752e9b632-knockout_punches.js\"},{\"name\":null,\"type\":\"js\",\"url\":\"\\/assetserver\\/cd9cf93729ff320de8d59972e501bc7581ce199e-all.js\"},{\"name\":null,\"type\":\"css\",\"url\":\"\\/assetserver\\/2dd5b4483a1ad2cfea2512179b895d21de762858-style.css\"},{\"name\":null,\"type\":\"css\",\"url\":\"\\/assetserver\\/4a166f7fd21f97b78604bf0dafec2fdf4c488adb-bulma_confined.min.css\"}],\"type\":\"async_block\"},\"id\":\"13879798670853388322\",\"handlers\":{\"changes\":[\"(function (val){return (val!=this.model[\\\"changes\\\"]()) ? (this.valueFromJulia[\\\"changes\\\"]=true, this.model[\\\"changes\\\"](val)) : undefined})\"],\"index\":[\"(function (val){return (val!=this.model[\\\"index\\\"]()) ? (this.valueFromJulia[\\\"index\\\"]=true, this.model[\\\"index\\\"](val)) : undefined})\"]},\"systemjs_options\":null,\"mount_callbacks\":[\"function () {\\n    var handler = (function (ko, koPunches) {\\n    ko.punches.enableAll();\\n    ko.bindingHandlers.numericValue = {\\n        init: function(element, valueAccessor, allBindings, data, context) {\\n            var stringified = ko.observable(ko.unwrap(valueAccessor()));\\n            stringified.subscribe(function(value) {\\n                var val = parseFloat(value);\\n                if (!isNaN(val)) {\\n                    valueAccessor()(val);\\n                }\\n            });\\n            valueAccessor().subscribe(function(value) {\\n                var str = JSON.stringify(value);\\n                if ((str == \\\"0\\\") && ([\\\"-0\\\", \\\"-0.\\\"].indexOf(stringified()) >= 0))\\n                     return;\\n                 if ([\\\"null\\\", \\\"\\\"].indexOf(str) >= 0)\\n                     return;\\n                stringified(str);\\n            });\\n            ko.applyBindingsToNode(\\n                element,\\n                {\\n                    value: stringified,\\n                    valueUpdate: allBindings.get('valueUpdate'),\\n                },\\n                context,\\n            );\\n        }\\n    };\\n    var json_data = {\\\"formatted_vals\\\":[\\\"1\\\",\\\"2\\\",\\\"3\\\",\\\"4\\\",\\\"5\\\",\\\"6\\\",\\\"7\\\",\\\"8\\\"],\\\"changes\\\":WebIO.getval({\\\"name\\\":\\\"changes\\\",\\\"scope\\\":\\\"13879798670853388322\\\",\\\"id\\\":\\\"ob_76\\\",\\\"type\\\":\\\"observable\\\"}),\\\"index\\\":WebIO.getval({\\\"name\\\":\\\"index\\\",\\\"scope\\\":\\\"13879798670853388322\\\",\\\"id\\\":\\\"ob_75\\\",\\\"type\\\":\\\"observable\\\"})};\\n    var self = this;\\n    function AppViewModel() {\\n        for (var key in json_data) {\\n            var el = json_data[key];\\n            this[key] = Array.isArray(el) ? ko.observableArray(el) : ko.observable(el);\\n        }\\n        \\n        [this[\\\"formatted_val\\\"]=ko.computed(    function(){\\n        return this.formatted_vals()[parseInt(this.index())-(1)];\\n    }\\n,this)]\\n        [this[\\\"changes\\\"].subscribe((function (val){!(this.valueFromJulia[\\\"changes\\\"]) ? (WebIO.setval({\\\"name\\\":\\\"changes\\\",\\\"scope\\\":\\\"13879798670853388322\\\",\\\"id\\\":\\\"ob_76\\\",\\\"type\\\":\\\"observable\\\"},val)) : undefined; return this.valueFromJulia[\\\"changes\\\"]=false}),self),this[\\\"index\\\"].subscribe((function (val){!(this.valueFromJulia[\\\"index\\\"]) ? (WebIO.setval({\\\"name\\\":\\\"index\\\",\\\"scope\\\":\\\"13879798670853388322\\\",\\\"id\\\":\\\"ob_75\\\",\\\"type\\\":\\\"observable\\\"},val)) : undefined; return this.valueFromJulia[\\\"index\\\"]=false}),self)]\\n        \\n    }\\n    self.model = new AppViewModel();\\n    self.valueFromJulia = {};\\n    for (var key in json_data) {\\n        self.valueFromJulia[key] = false;\\n    }\\n    ko.applyBindings(self.model, self.dom);\\n}\\n);\\n    (WebIO.importBlock({\\\"data\\\":[{\\\"name\\\":\\\"knockout\\\",\\\"type\\\":\\\"js\\\",\\\"url\\\":\\\"\\/assetserver\\/06b5713f7394e9c781d3d3143d6fd532e7f814ce-knockout.js\\\"},{\\\"name\\\":\\\"knockout_punches\\\",\\\"type\\\":\\\"js\\\",\\\"url\\\":\\\"\\/assetserver\\/695de4db56dde9805b672fe778fb2fc752e9b632-knockout_punches.js\\\"}],\\\"type\\\":\\\"async_block\\\"})).then((imports) => handler.apply(this, imports));\\n}\\n\"],\"observables\":{\"changes\":{\"sync\":false,\"id\":\"ob_76\",\"value\":0},\"index\":{\"sync\":true,\"id\":\"ob_75\",\"value\":4}}},\"children\":[{\"props\":{\"className\":\"interact-flex-row interact-widget\"},\"nodeType\":\"DOM\",\"type\":\"node\",\"instanceArgs\":{\"namespace\":\"html\",\"tag\":\"div\"},\"children\":[{\"props\":{\"className\":\"interact-flex-row-left\"},\"nodeType\":\"DOM\",\"type\":\"node\",\"instanceArgs\":{\"namespace\":\"html\",\"tag\":\"div\"},\"children\":[{\"props\":{\"className\":\"interact \",\"style\":{\"padding\":\"5px 10px 0px 10px\"}},\"nodeType\":\"DOM\",\"type\":\"node\",\"instanceArgs\":{\"namespace\":\"html\",\"tag\":\"label\"},\"children\":[\"j\"]}]},{\"props\":{\"className\":\"interact-flex-row-center\"},\"nodeType\":\"DOM\",\"type\":\"node\",\"instanceArgs\":{\"namespace\":\"html\",\"tag\":\"div\"},\"children\":[{\"props\":{\"max\":8,\"min\":1,\"attributes\":{\"type\":\"range\",\"data-bind\":\"numericValue: index, valueUpdate: 'input', event: {change: function (){this.changes(this.changes()+1)}}\",\"orient\":\"horizontal\"},\"step\":1,\"className\":\"slider slider is-fullwidth\",\"style\":{}},\"nodeType\":\"DOM\",\"type\":\"node\",\"instanceArgs\":{\"namespace\":\"html\",\"tag\":\"input\"},\"children\":[]}]},{\"props\":{\"className\":\"interact-flex-row-right\"},\"nodeType\":\"DOM\",\"type\":\"node\",\"instanceArgs\":{\"namespace\":\"html\",\"tag\":\"div\"},\"children\":[{\"props\":{\"attributes\":{\"data-bind\":\"text: formatted_val\"}},\"nodeType\":\"DOM\",\"type\":\"node\",\"instanceArgs\":{\"namespace\":\"html\",\"tag\":\"p\"},\"children\":[]}]}]}]}]},{\"props\":{},\"nodeType\":\"Scope\",\"type\":\"node\",\"instanceArgs\":{\"imports\":{\"data\":[],\"type\":\"async_block\"},\"id\":\"11538261454329974508\",\"handlers\":{},\"systemjs_options\":null,\"mount_callbacks\":[],\"observables\":{\"obs-node\":{\"sync\":false,\"id\":\"ob_80\",\"value\":{\"props\":{\"className\":\"interact-flex-row interact-widget\"},\"nodeType\":\"DOM\",\"type\":\"node\",\"instanceArgs\":{\"namespace\":\"html\",\"tag\":\"div\"},\"children\":[{\"props\":{\"setInnerHtml\":\"<pre>10×10 Array{Int64,2}:\\n 0  0  0  0  0  0  0  0  0  0\\n 0  0  0  0  0  0  0  0  0  0\\n 0  0  0  0  0  0  0  0  0  0\\n 0  0  0  7  7  7  0  0  0  0\\n 0  0  0  7  7  7  0  0  0  0\\n 0  0  0  7  7  7  0  0  0  0\\n 0  0  0  0  0  0  0  0  0  0\\n 0  0  0  0  0  0  0  0  0  0\\n 0  0  0  0  0  0  0  0  0  0\\n 0  0  0  0  0  0  0  0  0  0<\\/pre>\"},\"nodeType\":\"DOM\",\"type\":\"node\",\"instanceArgs\":{\"namespace\":\"html\",\"tag\":\"div\"},\"children\":[]}]}}}},\"children\":[{\"props\":{},\"nodeType\":\"ObservableNode\",\"type\":\"node\",\"instanceArgs\":{\"id\":\"ob_80\",\"name\":\"obs-node\"},\"children\":[]}]}]},\n",
       "            window,\n",
       "        );\n",
       "    } else {\n",
       "        document\n",
       "            .querySelector('[data-webio-mountpoint=\"11476176790753046496\"]')\n",
       "            .innerHTML = '<strong>WebIO not detected.</strong>';\n",
       "    }\n",
       "    </script>\n",
       "</div>\n"
      ],
      "text/plain": [
       "Node{WebIO.DOM}(WebIO.DOM(:html, :div), Any[Node{DOM}(DOM(:html, :div), Any[Scope(Node{DOM}(DOM(:html, :div), Any[Node{DOM}(DOM(:html, :div), Any[Node{DOM}(DOM(:html, :label), Any[\"i\"], Dict{Symbol,Any}(:className=>\"interact \",:style=>Dict{Any,Any}(:padding=>\"5px 10px 0px 10px\")))], Dict{Symbol,Any}(:className=>\"interact-flex-row-left\")), Node{DOM}(DOM(:html, :div), Any[Node{DOM}(DOM(:html, :input), Any[], Dict{Symbol,Any}(:max=>8,:min=>1,:attributes=>Dict{Any,Any}(:type=>\"range\",Symbol(\"data-bind\")=>\"numericValue: index, valueUpdate: 'input', event: {change: function (){this.changes(this.changes()+1)}}\",\"orient\"=>\"horizontal\"),:step=>1,:className=>\"slider slider is-fullwidth\",:style=>Dict{Any,Any}()))], Dict{Symbol,Any}(:className=>\"interact-flex-row-center\")), Node{DOM}(DOM(:html, :div), Any[Node{DOM}(DOM(:html, :p), Any[], Dict{Symbol,Any}(:attributes=>Dict(\"data-bind\"=>\"text: formatted_val\")))], Dict{Symbol,Any}(:className=>\"interact-flex-row-right\"))], Dict{Symbol,Any}(:className=>\"interact-flex-row interact-widget\")), Dict{String,Tuple{Observables.AbstractObservable,Union{Nothing, Bool}}}(\"changes\"=>(Observable{Int64} with 1 listeners. Value:\n",
       "0, nothing),\"index\"=>(Observable{Int64} with 2 listeners. Value:\n",
       "4, nothing)), Set(String[]), nothing, Asset[Asset(\"js\", \"knockout\", \"C:\\\\Users\\\\carsten\\\\.julia\\\\packages\\\\Knockout\\\\1sDlc\\\\src\\\\..\\\\assets\\\\knockout.js\"), Asset(\"js\", \"knockout_punches\", \"C:\\\\Users\\\\carsten\\\\.julia\\\\packages\\\\Knockout\\\\1sDlc\\\\src\\\\..\\\\assets\\\\knockout_punches.js\"), Asset(\"js\", nothing, \"C:\\\\Users\\\\carsten\\\\.julia\\\\packages\\\\InteractBase\\\\l8cEC\\\\src\\\\..\\\\assets\\\\all.js\"), Asset(\"css\", nothing, \"C:\\\\Users\\\\carsten\\\\.julia\\\\packages\\\\InteractBase\\\\l8cEC\\\\src\\\\..\\\\assets\\\\style.css\"), Asset(\"css\", nothing, \"C:\\\\Users\\\\carsten\\\\.julia\\\\packages\\\\Interact\\\\0klKX\\\\src\\\\..\\\\assets\\\\bulma_confined.min.css\")], Dict{Any,Any}(\"changes\"=>Any[JSString(\"(function (val){return (val!=this.model[\\\"changes\\\"]()) ? (this.valueFromJulia[\\\"changes\\\"]=true, this.model[\\\"changes\\\"](val)) : undefined})\")],\"index\"=>Any[JSString(\"(function (val){return (val!=this.model[\\\"index\\\"]()) ? (this.valueFromJulia[\\\"index\\\"]=true, this.model[\\\"index\\\"](val)) : undefined})\")]), ConnectionPool(Channel{Any}(sz_max:9223372036854775807,sz_curr:0), Set(AbstractConnection[]), Channel{AbstractConnection}(sz_max:32,sz_curr:0)), WebIO.JSString[JSString(\"function () {\\n    var handler = (function (ko, koPunches) {\\n    ko.punches.enableAll();\\n    ko.bindingHandlers.numericValue = {\\n        init: function(element, valueAccessor, allBindings, data, context) {\\n            var stringified = ko.observable(ko.unwrap(valueAccessor()));\\n            stringified.subscribe(function(value) {\\n                var val = parseFloat(value);\\n                if (!isNaN(val)) {\\n                    valueAccessor()(val);\\n                }\\n            });\\n            valueAccessor().subscribe(function(value) {\\n                var str = JSON.stringify(value);\\n                if ((str == \\\"0\\\") && ([\\\"-0\\\", \\\"-0.\\\"].indexOf(stringified()) >= 0))\\n                     return;\\n                 if ([\\\"null\\\", \\\"\\\"].indexOf(str) >= 0)\\n                     return;\\n                stringified(str);\\n            });\\n            ko.applyBindingsToNode(\\n                element,\\n                {\\n                    value: stringified,\\n                    valueUpdate: allBindings.get('valueUpdate'),\\n                },\\n                context,\\n            );\\n        }\\n    };\\n    var json_data = {\\\"formatted_vals\\\":[\\\"1\\\",\\\"2\\\",\\\"3\\\",\\\"4\\\",\\\"5\\\",\\\"6\\\",\\\"7\\\",\\\"8\\\"],\\\"changes\\\":WebIO.getval({\\\"name\\\":\\\"changes\\\",\\\"scope\\\":\\\"18308453156786056462\\\",\\\"id\\\":\\\"ob_74\\\",\\\"type\\\":\\\"observable\\\"}),\\\"index\\\":WebIO.getval({\\\"name\\\":\\\"index\\\",\\\"scope\\\":\\\"18308453156786056462\\\",\\\"id\\\":\\\"ob_73\\\",\\\"type\\\":\\\"observable\\\"})};\\n    var self = this;\\n    function AppViewModel() {\\n        for (var key in json_data) {\\n            var el = json_data[key];\\n            this[key] = Array.isArray(el) ? ko.observableArray(el) : ko.observable(el);\\n        }\\n        \\n        [this[\\\"formatted_val\\\"]=ko.computed(    function(){\\n        return this.formatted_vals()[parseInt(this.index())-(1)];\\n    }\\n,this)]\\n        [this[\\\"changes\\\"].subscribe((function (val){!(this.valueFromJulia[\\\"changes\\\"]) ? (WebIO.setval({\\\"name\\\":\\\"changes\\\",\\\"scope\\\":\\\"18308453156786056462\\\",\\\"id\\\":\\\"ob_74\\\",\\\"type\\\":\\\"observable\\\"},val)) : undefined; return this.valueFromJulia[\\\"changes\\\"]=false}),self),this[\\\"index\\\"].subscribe((function (val){!(this.valueFromJulia[\\\"index\\\"]) ? (WebIO.setval({\\\"name\\\":\\\"index\\\",\\\"scope\\\":\\\"18308453156786056462\\\",\\\"id\\\":\\\"ob_73\\\",\\\"type\\\":\\\"observable\\\"},val)) : undefined; return this.valueFromJulia[\\\"index\\\"]=false}),self)]\\n        \\n    }\\n    self.model = new AppViewModel();\\n    self.valueFromJulia = {};\\n    for (var key in json_data) {\\n        self.valueFromJulia[key] = false;\\n    }\\n    ko.applyBindings(self.model, self.dom);\\n}\\n);\\n    (WebIO.importBlock({\\\"data\\\":[{\\\"name\\\":\\\"knockout\\\",\\\"type\\\":\\\"js\\\",\\\"url\\\":\\\"/assetserver/06b5713f7394e9c781d3d3143d6fd532e7f814ce-knockout.js\\\"},{\\\"name\\\":\\\"knockout_punches\\\",\\\"type\\\":\\\"js\\\",\\\"url\\\":\\\"/assetserver/695de4db56dde9805b672fe778fb2fc752e9b632-knockout_punches.js\\\"}],\\\"type\\\":\\\"async_block\\\"})).then((imports) => handler.apply(this, imports));\\n}\\n\")])], Dict{Symbol,Any}(:className=>\"field interact-widget\")), Node{DOM}(DOM(:html, :div), Any[Scope(Node{DOM}(DOM(:html, :div), Any[Node{DOM}(DOM(:html, :div), Any[Node{DOM}(DOM(:html, :label), Any[\"j\"], Dict{Symbol,Any}(:className=>\"interact \",:style=>Dict{Any,Any}(:padding=>\"5px 10px 0px 10px\")))], Dict{Symbol,Any}(:className=>\"interact-flex-row-left\")), Node{DOM}(DOM(:html, :div), Any[Node{DOM}(DOM(:html, :input), Any[], Dict{Symbol,Any}(:max=>8,:min=>1,:attributes=>Dict{Any,Any}(:type=>\"range\",Symbol(\"data-bind\")=>\"numericValue: index, valueUpdate: 'input', event: {change: function (){this.changes(this.changes()+1)}}\",\"orient\"=>\"horizontal\"),:step=>1,:className=>\"slider slider is-fullwidth\",:style=>Dict{Any,Any}()))], Dict{Symbol,Any}(:className=>\"interact-flex-row-center\")), Node{DOM}(DOM(:html, :div), Any[Node{DOM}(DOM(:html, :p), Any[], Dict{Symbol,Any}(:attributes=>Dict(\"data-bind\"=>\"text: formatted_val\")))], Dict{Symbol,Any}(:className=>\"interact-flex-row-right\"))], Dict{Symbol,Any}(:className=>\"interact-flex-row interact-widget\")), Dict{String,Tuple{Observables.AbstractObservable,Union{Nothing, Bool}}}(\"changes\"=>(Observable{Int64} with 1 listeners. Value:\n",
       "0, nothing),\"index\"=>(Observable{Int64} with 2 listeners. Value:\n",
       "4, nothing)), Set(String[]), nothing, Asset[Asset(\"js\", \"knockout\", \"C:\\\\Users\\\\carsten\\\\.julia\\\\packages\\\\Knockout\\\\1sDlc\\\\src\\\\..\\\\assets\\\\knockout.js\"), Asset(\"js\", \"knockout_punches\", \"C:\\\\Users\\\\carsten\\\\.julia\\\\packages\\\\Knockout\\\\1sDlc\\\\src\\\\..\\\\assets\\\\knockout_punches.js\"), Asset(\"js\", nothing, \"C:\\\\Users\\\\carsten\\\\.julia\\\\packages\\\\InteractBase\\\\l8cEC\\\\src\\\\..\\\\assets\\\\all.js\"), Asset(\"css\", nothing, \"C:\\\\Users\\\\carsten\\\\.julia\\\\packages\\\\InteractBase\\\\l8cEC\\\\src\\\\..\\\\assets\\\\style.css\"), Asset(\"css\", nothing, \"C:\\\\Users\\\\carsten\\\\.julia\\\\packages\\\\Interact\\\\0klKX\\\\src\\\\..\\\\assets\\\\bulma_confined.min.css\")], Dict{Any,Any}(\"changes\"=>Any[JSString(\"(function (val){return (val!=this.model[\\\"changes\\\"]()) ? (this.valueFromJulia[\\\"changes\\\"]=true, this.model[\\\"changes\\\"](val)) : undefined})\")],\"index\"=>Any[JSString(\"(function (val){return (val!=this.model[\\\"index\\\"]()) ? (this.valueFromJulia[\\\"index\\\"]=true, this.model[\\\"index\\\"](val)) : undefined})\")]), ConnectionPool(Channel{Any}(sz_max:9223372036854775807,sz_curr:0), Set(AbstractConnection[]), Channel{AbstractConnection}(sz_max:32,sz_curr:0)), WebIO.JSString[JSString(\"function () {\\n    var handler = (function (ko, koPunches) {\\n    ko.punches.enableAll();\\n    ko.bindingHandlers.numericValue = {\\n        init: function(element, valueAccessor, allBindings, data, context) {\\n            var stringified = ko.observable(ko.unwrap(valueAccessor()));\\n            stringified.subscribe(function(value) {\\n                var val = parseFloat(value);\\n                if (!isNaN(val)) {\\n                    valueAccessor()(val);\\n                }\\n            });\\n            valueAccessor().subscribe(function(value) {\\n                var str = JSON.stringify(value);\\n                if ((str == \\\"0\\\") && ([\\\"-0\\\", \\\"-0.\\\"].indexOf(stringified()) >= 0))\\n                     return;\\n                 if ([\\\"null\\\", \\\"\\\"].indexOf(str) >= 0)\\n                     return;\\n                stringified(str);\\n            });\\n            ko.applyBindingsToNode(\\n                element,\\n                {\\n                    value: stringified,\\n                    valueUpdate: allBindings.get('valueUpdate'),\\n                },\\n                context,\\n            );\\n        }\\n    };\\n    var json_data = {\\\"formatted_vals\\\":[\\\"1\\\",\\\"2\\\",\\\"3\\\",\\\"4\\\",\\\"5\\\",\\\"6\\\",\\\"7\\\",\\\"8\\\"],\\\"changes\\\":WebIO.getval({\\\"name\\\":\\\"changes\\\",\\\"scope\\\":\\\"13879798670853388322\\\",\\\"id\\\":\\\"ob_76\\\",\\\"type\\\":\\\"observable\\\"}),\\\"index\\\":WebIO.getval({\\\"name\\\":\\\"index\\\",\\\"scope\\\":\\\"13879798670853388322\\\",\\\"id\\\":\\\"ob_75\\\",\\\"type\\\":\\\"observable\\\"})};\\n    var self = this;\\n    function AppViewModel() {\\n        for (var key in json_data) {\\n            var el = json_data[key];\\n            this[key] = Array.isArray(el) ? ko.observableArray(el) : ko.observable(el);\\n        }\\n        \\n        [this[\\\"formatted_val\\\"]=ko.computed(    function(){\\n        return this.formatted_vals()[parseInt(this.index())-(1)];\\n    }\\n,this)]\\n        [this[\\\"changes\\\"].subscribe((function (val){!(this.valueFromJulia[\\\"changes\\\"]) ? (WebIO.setval({\\\"name\\\":\\\"changes\\\",\\\"scope\\\":\\\"13879798670853388322\\\",\\\"id\\\":\\\"ob_76\\\",\\\"type\\\":\\\"observable\\\"},val)) : undefined; return this.valueFromJulia[\\\"changes\\\"]=false}),self),this[\\\"index\\\"].subscribe((function (val){!(this.valueFromJulia[\\\"index\\\"]) ? (WebIO.setval({\\\"name\\\":\\\"index\\\",\\\"scope\\\":\\\"13879798670853388322\\\",\\\"id\\\":\\\"ob_75\\\",\\\"type\\\":\\\"observable\\\"},val)) : undefined; return this.valueFromJulia[\\\"index\\\"]=false}),self)]\\n        \\n    }\\n    self.model = new AppViewModel();\\n    self.valueFromJulia = {};\\n    for (var key in json_data) {\\n        self.valueFromJulia[key] = false;\\n    }\\n    ko.applyBindings(self.model, self.dom);\\n}\\n);\\n    (WebIO.importBlock({\\\"data\\\":[{\\\"name\\\":\\\"knockout\\\",\\\"type\\\":\\\"js\\\",\\\"url\\\":\\\"/assetserver/06b5713f7394e9c781d3d3143d6fd532e7f814ce-knockout.js\\\"},{\\\"name\\\":\\\"knockout_punches\\\",\\\"type\\\":\\\"js\\\",\\\"url\\\":\\\"/assetserver/695de4db56dde9805b672fe778fb2fc752e9b632-knockout_punches.js\\\"}],\\\"type\\\":\\\"async_block\\\"})).then((imports) => handler.apply(this, imports));\\n}\\n\")])], Dict{Symbol,Any}(:className=>\"field interact-widget\")), Observable{Any} with 0 listeners. Value:\n",
       "Node{DOM}(DOM(:html, :div), Any[[0 0 … 0 0; 0 0 … 0 0; … ; 0 0 … 0 0; 0 0 … 0 0]], Dict{Symbol,Any}(:className=>\"interact-flex-row interact-widget\"))], Dict{Symbol,Any}())"
      ]
     },
     "execution_count": 27,
     "metadata": {
      "application/vnd.webio.node+json": {
       "kernelId": null
      }
     },
     "output_type": "execute_result"
    }
   ],
   "source": [
    "A = fill(0, 10, 10)\n",
    "n = size(A, 1)\n",
    "\n",
    "@manipulate for i in 1:n-2, j in 1:n-2\n",
    "    insert_block(A, i, j)\n",
    "end"
   ]
  },
  {
   "cell_type": "code",
   "execution_count": 28,
   "metadata": {},
   "outputs": [],
   "source": [
    "using Colors"
   ]
  },
  {
   "cell_type": "code",
   "execution_count": 29,
   "metadata": {},
   "outputs": [
    {
     "data": {
      "image/svg+xml": [
       "<?xml version=\"1.0\" encoding=\"UTF-8\"?>\n",
       "<!DOCTYPE svg PUBLIC \"-//W3C//DTD SVG 1.1//EN\"\n",
       " \"http://www.w3.org/Graphics/SVG/1.1/DTD/svg11.dtd\">\n",
       "<svg xmlns=\"http://www.w3.org/2000/svg\" version=\"1.1\"\n",
       "     width=\"180.0mm\" height=\"25.0mm\"\n",
       "     shape-rendering=\"crispEdges\">\n",
       "<rect x=\"0.0mm\" y=\"0.0mm\"\n",
       "      width=\"14.0mm\" height=\"24.0mm\"\n",
       "      fill=\"#000000\" stroke=\"none\" />\n",
       "<rect x=\"15.0mm\" y=\"0.0mm\"\n",
       "      width=\"14.0mm\" height=\"24.0mm\"\n",
       "      fill=\"#FFFF62\" stroke=\"none\" />\n",
       "<rect x=\"30.0mm\" y=\"0.0mm\"\n",
       "      width=\"14.0mm\" height=\"24.0mm\"\n",
       "      fill=\"#FF9FFF\" stroke=\"none\" />\n",
       "<rect x=\"45.0mm\" y=\"0.0mm\"\n",
       "      width=\"14.0mm\" height=\"24.0mm\"\n",
       "      fill=\"#00D6FF\" stroke=\"none\" />\n",
       "<rect x=\"60.0mm\" y=\"0.0mm\"\n",
       "      width=\"14.0mm\" height=\"24.0mm\"\n",
       "      fill=\"#D74400\" stroke=\"none\" />\n",
       "<rect x=\"75.0mm\" y=\"0.0mm\"\n",
       "      width=\"14.0mm\" height=\"24.0mm\"\n",
       "      fill=\"#008029\" stroke=\"none\" />\n",
       "<rect x=\"90.0mm\" y=\"0.0mm\"\n",
       "      width=\"14.0mm\" height=\"24.0mm\"\n",
       "      fill=\"#005FD5\" stroke=\"none\" />\n",
       "<rect x=\"105.0mm\" y=\"0.0mm\"\n",
       "      width=\"14.0mm\" height=\"24.0mm\"\n",
       "      fill=\"#930068\" stroke=\"none\" />\n",
       "<rect x=\"120.0mm\" y=\"0.0mm\"\n",
       "      width=\"14.0mm\" height=\"24.0mm\"\n",
       "      fill=\"#FFCBB5\" stroke=\"none\" />\n",
       "<rect x=\"135.0mm\" y=\"0.0mm\"\n",
       "      width=\"14.0mm\" height=\"24.0mm\"\n",
       "      fill=\"#A78600\" stroke=\"none\" />\n",
       "<rect x=\"150.0mm\" y=\"0.0mm\"\n",
       "      width=\"14.0mm\" height=\"24.0mm\"\n",
       "      fill=\"#00FFC5\" stroke=\"none\" />\n",
       "<rect x=\"165.0mm\" y=\"0.0mm\"\n",
       "      width=\"14.0mm\" height=\"24.0mm\"\n",
       "      fill=\"#007E86\" stroke=\"none\" />\n",
       "</svg>"
      ],
      "text/plain": [
       "12-element Array{RGB{N0f8},1} with eltype RGB{FixedPointNumbers.Normed{UInt8,8}}:\n",
       " RGB{N0f8}(0.0,0.0,0.0)    \n",
       " RGB{N0f8}(1.0,1.0,0.384)  \n",
       " RGB{N0f8}(1.0,0.624,1.0)  \n",
       " RGB{N0f8}(0.0,0.839,1.0)  \n",
       " RGB{N0f8}(0.843,0.267,0.0)\n",
       " RGB{N0f8}(0.0,0.502,0.161)\n",
       " RGB{N0f8}(0.0,0.373,0.835)\n",
       " RGB{N0f8}(0.576,0.0,0.408)\n",
       " RGB{N0f8}(1.0,0.796,0.71) \n",
       " RGB{N0f8}(0.655,0.525,0.0)\n",
       " RGB{N0f8}(0.0,1.0,0.773)  \n",
       " RGB{N0f8}(0.0,0.494,0.525)"
      ]
     },
     "execution_count": 29,
     "metadata": {},
     "output_type": "execute_result"
    }
   ],
   "source": [
    "distinguishable_colors(12)"
   ]
  },
  {
   "cell_type": "code",
   "execution_count": 30,
   "metadata": {},
   "outputs": [
    {
     "data": {
      "application/vnd.webio.node+json": {
       "children": [
        {
         "children": [
          {
           "children": [
            {
             "children": [
              {
               "children": [
                {
                 "children": [
                  "n"
                 ],
                 "instanceArgs": {
                  "namespace": "html",
                  "tag": "label"
                 },
                 "nodeType": "DOM",
                 "props": {
                  "className": "interact ",
                  "style": {
                   "padding": "5px 10px 0px 10px"
                  }
                 },
                 "type": "node"
                }
               ],
               "instanceArgs": {
                "namespace": "html",
                "tag": "div"
               },
               "nodeType": "DOM",
               "props": {
                "className": "interact-flex-row-left"
               },
               "type": "node"
              },
              {
               "children": [
                {
                 "children": [],
                 "instanceArgs": {
                  "namespace": "html",
                  "tag": "input"
                 },
                 "nodeType": "DOM",
                 "props": {
                  "attributes": {
                   "data-bind": "numericValue: index, valueUpdate: 'input', event: {change: function (){this.changes(this.changes()+1)}}",
                   "orient": "horizontal",
                   "type": "range"
                  },
                  "className": "slider slider is-fullwidth",
                  "max": 80,
                  "min": 1,
                  "step": 1,
                  "style": {}
                 },
                 "type": "node"
                }
               ],
               "instanceArgs": {
                "namespace": "html",
                "tag": "div"
               },
               "nodeType": "DOM",
               "props": {
                "className": "interact-flex-row-center"
               },
               "type": "node"
              },
              {
               "children": [
                {
                 "children": [],
                 "instanceArgs": {
                  "namespace": "html",
                  "tag": "p"
                 },
                 "nodeType": "DOM",
                 "props": {
                  "attributes": {
                   "data-bind": "text: formatted_val"
                  }
                 },
                 "type": "node"
                }
               ],
               "instanceArgs": {
                "namespace": "html",
                "tag": "div"
               },
               "nodeType": "DOM",
               "props": {
                "className": "interact-flex-row-right"
               },
               "type": "node"
              }
             ],
             "instanceArgs": {
              "namespace": "html",
              "tag": "div"
             },
             "nodeType": "DOM",
             "props": {
              "className": "interact-flex-row interact-widget"
             },
             "type": "node"
            }
           ],
           "instanceArgs": {
            "handlers": {
             "changes": [
              "(function (val){return (val!=this.model[\"changes\"]()) ? (this.valueFromJulia[\"changes\"]=true, this.model[\"changes\"](val)) : undefined})"
             ],
             "index": [
              "(function (val){return (val!=this.model[\"index\"]()) ? (this.valueFromJulia[\"index\"]=true, this.model[\"index\"](val)) : undefined})"
             ]
            },
            "id": "10059517272451343617",
            "imports": {
             "data": [
              {
               "name": "knockout",
               "type": "js",
               "url": "/assetserver/06b5713f7394e9c781d3d3143d6fd532e7f814ce-knockout.js"
              },
              {
               "name": "knockout_punches",
               "type": "js",
               "url": "/assetserver/695de4db56dde9805b672fe778fb2fc752e9b632-knockout_punches.js"
              },
              {
               "name": null,
               "type": "js",
               "url": "/assetserver/cd9cf93729ff320de8d59972e501bc7581ce199e-all.js"
              },
              {
               "name": null,
               "type": "css",
               "url": "/assetserver/2dd5b4483a1ad2cfea2512179b895d21de762858-style.css"
              },
              {
               "name": null,
               "type": "css",
               "url": "/assetserver/4a166f7fd21f97b78604bf0dafec2fdf4c488adb-bulma_confined.min.css"
              }
             ],
             "type": "async_block"
            },
            "mount_callbacks": [
             "function () {\n    var handler = (function (ko, koPunches) {\n    ko.punches.enableAll();\n    ko.bindingHandlers.numericValue = {\n        init: function(element, valueAccessor, allBindings, data, context) {\n            var stringified = ko.observable(ko.unwrap(valueAccessor()));\n            stringified.subscribe(function(value) {\n                var val = parseFloat(value);\n                if (!isNaN(val)) {\n                    valueAccessor()(val);\n                }\n            });\n            valueAccessor().subscribe(function(value) {\n                var str = JSON.stringify(value);\n                if ((str == \"0\") && ([\"-0\", \"-0.\"].indexOf(stringified()) >= 0))\n                     return;\n                 if ([\"null\", \"\"].indexOf(str) >= 0)\n                     return;\n                stringified(str);\n            });\n            ko.applyBindingsToNode(\n                element,\n                {\n                    value: stringified,\n                    valueUpdate: allBindings.get('valueUpdate'),\n                },\n                context,\n            );\n        }\n    };\n    var json_data = {\"formatted_vals\":[\"1\",\"2\",\"3\",\"4\",\"5\",\"6\",\"7\",\"8\",\"9\",\"10\",\"11\",\"12\",\"13\",\"14\",\"15\",\"16\",\"17\",\"18\",\"19\",\"20\",\"21\",\"22\",\"23\",\"24\",\"25\",\"26\",\"27\",\"28\",\"29\",\"30\",\"31\",\"32\",\"33\",\"34\",\"35\",\"36\",\"37\",\"38\",\"39\",\"40\",\"41\",\"42\",\"43\",\"44\",\"45\",\"46\",\"47\",\"48\",\"49\",\"50\",\"51\",\"52\",\"53\",\"54\",\"55\",\"56\",\"57\",\"58\",\"59\",\"60\",\"61\",\"62\",\"63\",\"64\",\"65\",\"66\",\"67\",\"68\",\"69\",\"70\",\"71\",\"72\",\"73\",\"74\",\"75\",\"76\",\"77\",\"78\",\"79\",\"80\"],\"changes\":WebIO.getval({\"name\":\"changes\",\"scope\":\"10059517272451343617\",\"id\":\"ob_84\",\"type\":\"observable\"}),\"index\":WebIO.getval({\"name\":\"index\",\"scope\":\"10059517272451343617\",\"id\":\"ob_83\",\"type\":\"observable\"})};\n    var self = this;\n    function AppViewModel() {\n        for (var key in json_data) {\n            var el = json_data[key];\n            this[key] = Array.isArray(el) ? ko.observableArray(el) : ko.observable(el);\n        }\n        \n        [this[\"formatted_val\"]=ko.computed(    function(){\n        return this.formatted_vals()[parseInt(this.index())-(1)];\n    }\n,this)]\n        [this[\"changes\"].subscribe((function (val){!(this.valueFromJulia[\"changes\"]) ? (WebIO.setval({\"name\":\"changes\",\"scope\":\"10059517272451343617\",\"id\":\"ob_84\",\"type\":\"observable\"},val)) : undefined; return this.valueFromJulia[\"changes\"]=false}),self),this[\"index\"].subscribe((function (val){!(this.valueFromJulia[\"index\"]) ? (WebIO.setval({\"name\":\"index\",\"scope\":\"10059517272451343617\",\"id\":\"ob_83\",\"type\":\"observable\"},val)) : undefined; return this.valueFromJulia[\"index\"]=false}),self)]\n        \n    }\n    self.model = new AppViewModel();\n    self.valueFromJulia = {};\n    for (var key in json_data) {\n        self.valueFromJulia[key] = false;\n    }\n    ko.applyBindings(self.model, self.dom);\n}\n);\n    (WebIO.importBlock({\"data\":[{\"name\":\"knockout\",\"type\":\"js\",\"url\":\"/assetserver/06b5713f7394e9c781d3d3143d6fd532e7f814ce-knockout.js\"},{\"name\":\"knockout_punches\",\"type\":\"js\",\"url\":\"/assetserver/695de4db56dde9805b672fe778fb2fc752e9b632-knockout_punches.js\"}],\"type\":\"async_block\"})).then((imports) => handler.apply(this, imports));\n}\n"
            ],
            "observables": {
             "changes": {
              "id": "ob_84",
              "sync": false,
              "value": 0
             },
             "index": {
              "id": "ob_83",
              "sync": true,
              "value": 40
             }
            },
            "systemjs_options": null
           },
           "nodeType": "Scope",
           "props": {},
           "type": "node"
          }
         ],
         "instanceArgs": {
          "namespace": "html",
          "tag": "div"
         },
         "nodeType": "DOM",
         "props": {
          "className": "field interact-widget"
         },
         "type": "node"
        },
        {
         "children": [
          {
           "children": [],
           "instanceArgs": {
            "id": "ob_90",
            "name": "obs-node"
           },
           "nodeType": "ObservableNode",
           "props": {},
           "type": "node"
          }
         ],
         "instanceArgs": {
          "handlers": {},
          "id": "10152879838848011367",
          "imports": {
           "data": [],
           "type": "async_block"
          },
          "mount_callbacks": [],
          "observables": {
           "obs-node": {
            "id": "ob_90",
            "sync": false,
            "value": {
             "children": [
              {
               "children": [],
               "instanceArgs": {
                "namespace": "html",
                "tag": "div"
               },
               "nodeType": "DOM",
               "props": {
                "setInnerHtml": "<?xml version=\"1.0\" encoding=\"UTF-8\"?>\n<!DOCTYPE svg PUBLIC \"-//W3C//DTD SVG 1.1//EN\"\n \"http://www.w3.org/Graphics/SVG/1.1/DTD/svg11.dtd\">\n<svg xmlns=\"http://www.w3.org/2000/svg\" version=\"1.1\"\n     width=\"180.0mm\" height=\"25.0mm\"\n     shape-rendering=\"crispEdges\">\n<rect x=\"0.0mm\" y=\"0.0mm\"\n      width=\"3.5mm\" height=\"24.0mm\"\n      fill=\"#000000\" stroke=\"none\" />\n<rect x=\"4.5mm\" y=\"0.0mm\"\n      width=\"3.5mm\" height=\"24.0mm\"\n      fill=\"#FFFF62\" stroke=\"none\" />\n<rect x=\"9.0mm\" y=\"0.0mm\"\n      width=\"3.5mm\" height=\"24.0mm\"\n      fill=\"#FF9FFF\" stroke=\"none\" />\n<rect x=\"13.5mm\" y=\"0.0mm\"\n      width=\"3.5mm\" height=\"24.0mm\"\n      fill=\"#00D6FF\" stroke=\"none\" />\n<rect x=\"18.0mm\" y=\"0.0mm\"\n      width=\"3.5mm\" height=\"24.0mm\"\n      fill=\"#D74400\" stroke=\"none\" />\n<rect x=\"22.5mm\" y=\"0.0mm\"\n      width=\"3.5mm\" height=\"24.0mm\"\n      fill=\"#008029\" stroke=\"none\" />\n<rect x=\"27.0mm\" y=\"0.0mm\"\n      width=\"3.5mm\" height=\"24.0mm\"\n      fill=\"#005FD5\" stroke=\"none\" />\n<rect x=\"31.5mm\" y=\"0.0mm\"\n      width=\"3.5mm\" height=\"24.0mm\"\n      fill=\"#930068\" stroke=\"none\" />\n<rect x=\"36.0mm\" y=\"0.0mm\"\n      width=\"3.5mm\" height=\"24.0mm\"\n      fill=\"#FFCBB5\" stroke=\"none\" />\n<rect x=\"40.5mm\" y=\"0.0mm\"\n      width=\"3.5mm\" height=\"24.0mm\"\n      fill=\"#A78600\" stroke=\"none\" />\n<rect x=\"45.0mm\" y=\"0.0mm\"\n      width=\"3.5mm\" height=\"24.0mm\"\n      fill=\"#00FFC5\" stroke=\"none\" />\n<rect x=\"49.5mm\" y=\"0.0mm\"\n      width=\"3.5mm\" height=\"24.0mm\"\n      fill=\"#007E86\" stroke=\"none\" />\n<rect x=\"54.0mm\" y=\"0.0mm\"\n      width=\"3.5mm\" height=\"24.0mm\"\n      fill=\"#534200\" stroke=\"none\" />\n<rect x=\"58.5mm\" y=\"0.0mm\"\n      width=\"3.5mm\" height=\"24.0mm\"\n      fill=\"#8C8793\" stroke=\"none\" />\n<rect x=\"63.0mm\" y=\"0.0mm\"\n      width=\"3.5mm\" height=\"24.0mm\"\n      fill=\"#680000\" stroke=\"none\" />\n<rect x=\"67.5mm\" y=\"0.0mm\"\n      width=\"3.5mm\" height=\"24.0mm\"\n      fill=\"#00005A\" stroke=\"none\" />\n<rect x=\"72.0mm\" y=\"0.0mm\"\n      width=\"3.5mm\" height=\"24.0mm\"\n      fill=\"#FF2C6F\" stroke=\"none\" />\n<rect x=\"76.5mm\" y=\"0.0mm\"\n      width=\"3.5mm\" height=\"24.0mm\"\n      fill=\"#F7FFF6\" stroke=\"none\" />\n<rect x=\"81.0mm\" y=\"0.0mm\"\n      width=\"3.5mm\" height=\"24.0mm\"\n      fill=\"#003D25\" stroke=\"none\" />\n<rect x=\"85.5mm\" y=\"0.0mm\"\n      width=\"3.5mm\" height=\"24.0mm\"\n      fill=\"#91ABFF\" stroke=\"none\" />\n<rect x=\"90.0mm\" y=\"0.0mm\"\n      width=\"3.5mm\" height=\"24.0mm\"\n      fill=\"#A1B684\" stroke=\"none\" />\n<rect x=\"94.5mm\" y=\"0.0mm\"\n      width=\"3.5mm\" height=\"24.0mm\"\n      fill=\"#605051\" stroke=\"none\" />\n<rect x=\"99.0mm\" y=\"0.0mm\"\n      width=\"3.5mm\" height=\"24.0mm\"\n      fill=\"#C129E2\" stroke=\"none\" />\n<rect x=\"103.5mm\" y=\"0.0mm\"\n      width=\"3.5mm\" height=\"24.0mm\"\n      fill=\"#FF8E1E\" stroke=\"none\" />\n<rect x=\"108.0mm\" y=\"0.0mm\"\n      width=\"3.5mm\" height=\"24.0mm\"\n      fill=\"#003F51\" stroke=\"none\" />\n<rect x=\"112.5mm\" y=\"0.0mm\"\n      width=\"3.5mm\" height=\"24.0mm\"\n      fill=\"#797860\" stroke=\"none\" />\n<rect x=\"117.0mm\" y=\"0.0mm\"\n      width=\"3.5mm\" height=\"24.0mm\"\n      fill=\"#2E001C\" stroke=\"none\" />\n<rect x=\"121.5mm\" y=\"0.0mm\"\n      width=\"3.5mm\" height=\"24.0mm\"\n      fill=\"#01AF99\" stroke=\"none\" />\n<rect x=\"126.0mm\" y=\"0.0mm\"\n      width=\"3.5mm\" height=\"24.0mm\"\n      fill=\"#FFE6FF\" stroke=\"none\" />\n<rect x=\"130.5mm\" y=\"0.0mm\"\n      width=\"3.5mm\" height=\"24.0mm\"\n      fill=\"#77DA00\" stroke=\"none\" />\n<rect x=\"135.0mm\" y=\"0.0mm\"\n      width=\"3.5mm\" height=\"24.0mm\"\n      fill=\"#5B4B83\" stroke=\"none\" />\n<rect x=\"139.5mm\" y=\"0.0mm\"\n      width=\"3.5mm\" height=\"24.0mm\"\n      fill=\"#0094CF\" stroke=\"none\" />\n<rect x=\"144.0mm\" y=\"0.0mm\"\n      width=\"3.5mm\" height=\"24.0mm\"\n      fill=\"#B8739F\" stroke=\"none\" />\n<rect x=\"148.5mm\" y=\"0.0mm\"\n      width=\"3.5mm\" height=\"24.0mm\"\n      fill=\"#FF8269\" stroke=\"none\" />\n<rect x=\"153.0mm\" y=\"0.0mm\"\n      width=\"3.5mm\" height=\"24.0mm\"\n      fill=\"#FFBE05\" stroke=\"none\" />\n<rect x=\"157.5mm\" y=\"0.0mm\"\n      width=\"3.5mm\" height=\"24.0mm\"\n      fill=\"#C20030\" stroke=\"none\" />\n<rect x=\"162.0mm\" y=\"0.0mm\"\n      width=\"3.5mm\" height=\"24.0mm\"\n      fill=\"#A9806C\" stroke=\"none\" />\n<rect x=\"166.5mm\" y=\"0.0mm\"\n      width=\"3.5mm\" height=\"24.0mm\"\n      fill=\"#955600\" stroke=\"none\" />\n<rect x=\"171.0mm\" y=\"0.0mm\"\n      width=\"3.5mm\" height=\"24.0mm\"\n      fill=\"#9FB3B2\" stroke=\"none\" />\n<rect x=\"175.5mm\" y=\"0.0mm\"\n      width=\"3.5mm\" height=\"24.0mm\"\n      fill=\"#789500\" stroke=\"none\" />\n</svg>"
               },
               "type": "node"
              }
             ],
             "instanceArgs": {
              "namespace": "html",
              "tag": "div"
             },
             "nodeType": "DOM",
             "props": {
              "className": "interact-flex-row interact-widget"
             },
             "type": "node"
            }
           }
          },
          "systemjs_options": null
         },
         "nodeType": "Scope",
         "props": {},
         "type": "node"
        }
       ],
       "instanceArgs": {
        "namespace": "html",
        "tag": "div"
       },
       "nodeType": "DOM",
       "props": {},
       "type": "node"
      },
      "text/html": [
       "<div\n",
       "    class=\"webio-mountpoint\"\n",
       "    data-webio-mountpoint=\"8418143020493694419\"\n",
       ">\n",
       "    <script>\n",
       "    if (window.require && require.defined && require.defined(\"nbextensions/webio/main\")) {\n",
       "        console.log(\"Jupyter WebIO extension detected, not mounting.\");\n",
       "    } else if (window.WebIO) {\n",
       "        WebIO.mount(\n",
       "            document.querySelector('[data-webio-mountpoint=\"8418143020493694419\"]'),\n",
       "            {\"props\":{},\"nodeType\":\"DOM\",\"type\":\"node\",\"instanceArgs\":{\"namespace\":\"html\",\"tag\":\"div\"},\"children\":[{\"props\":{\"className\":\"field interact-widget\"},\"nodeType\":\"DOM\",\"type\":\"node\",\"instanceArgs\":{\"namespace\":\"html\",\"tag\":\"div\"},\"children\":[{\"props\":{},\"nodeType\":\"Scope\",\"type\":\"node\",\"instanceArgs\":{\"imports\":{\"data\":[{\"name\":\"knockout\",\"type\":\"js\",\"url\":\"\\/assetserver\\/06b5713f7394e9c781d3d3143d6fd532e7f814ce-knockout.js\"},{\"name\":\"knockout_punches\",\"type\":\"js\",\"url\":\"\\/assetserver\\/695de4db56dde9805b672fe778fb2fc752e9b632-knockout_punches.js\"},{\"name\":null,\"type\":\"js\",\"url\":\"\\/assetserver\\/cd9cf93729ff320de8d59972e501bc7581ce199e-all.js\"},{\"name\":null,\"type\":\"css\",\"url\":\"\\/assetserver\\/2dd5b4483a1ad2cfea2512179b895d21de762858-style.css\"},{\"name\":null,\"type\":\"css\",\"url\":\"\\/assetserver\\/4a166f7fd21f97b78604bf0dafec2fdf4c488adb-bulma_confined.min.css\"}],\"type\":\"async_block\"},\"id\":\"10059517272451343617\",\"handlers\":{\"changes\":[\"(function (val){return (val!=this.model[\\\"changes\\\"]()) ? (this.valueFromJulia[\\\"changes\\\"]=true, this.model[\\\"changes\\\"](val)) : undefined})\"],\"index\":[\"(function (val){return (val!=this.model[\\\"index\\\"]()) ? (this.valueFromJulia[\\\"index\\\"]=true, this.model[\\\"index\\\"](val)) : undefined})\"]},\"systemjs_options\":null,\"mount_callbacks\":[\"function () {\\n    var handler = (function (ko, koPunches) {\\n    ko.punches.enableAll();\\n    ko.bindingHandlers.numericValue = {\\n        init: function(element, valueAccessor, allBindings, data, context) {\\n            var stringified = ko.observable(ko.unwrap(valueAccessor()));\\n            stringified.subscribe(function(value) {\\n                var val = parseFloat(value);\\n                if (!isNaN(val)) {\\n                    valueAccessor()(val);\\n                }\\n            });\\n            valueAccessor().subscribe(function(value) {\\n                var str = JSON.stringify(value);\\n                if ((str == \\\"0\\\") && ([\\\"-0\\\", \\\"-0.\\\"].indexOf(stringified()) >= 0))\\n                     return;\\n                 if ([\\\"null\\\", \\\"\\\"].indexOf(str) >= 0)\\n                     return;\\n                stringified(str);\\n            });\\n            ko.applyBindingsToNode(\\n                element,\\n                {\\n                    value: stringified,\\n                    valueUpdate: allBindings.get('valueUpdate'),\\n                },\\n                context,\\n            );\\n        }\\n    };\\n    var json_data = {\\\"formatted_vals\\\":[\\\"1\\\",\\\"2\\\",\\\"3\\\",\\\"4\\\",\\\"5\\\",\\\"6\\\",\\\"7\\\",\\\"8\\\",\\\"9\\\",\\\"10\\\",\\\"11\\\",\\\"12\\\",\\\"13\\\",\\\"14\\\",\\\"15\\\",\\\"16\\\",\\\"17\\\",\\\"18\\\",\\\"19\\\",\\\"20\\\",\\\"21\\\",\\\"22\\\",\\\"23\\\",\\\"24\\\",\\\"25\\\",\\\"26\\\",\\\"27\\\",\\\"28\\\",\\\"29\\\",\\\"30\\\",\\\"31\\\",\\\"32\\\",\\\"33\\\",\\\"34\\\",\\\"35\\\",\\\"36\\\",\\\"37\\\",\\\"38\\\",\\\"39\\\",\\\"40\\\",\\\"41\\\",\\\"42\\\",\\\"43\\\",\\\"44\\\",\\\"45\\\",\\\"46\\\",\\\"47\\\",\\\"48\\\",\\\"49\\\",\\\"50\\\",\\\"51\\\",\\\"52\\\",\\\"53\\\",\\\"54\\\",\\\"55\\\",\\\"56\\\",\\\"57\\\",\\\"58\\\",\\\"59\\\",\\\"60\\\",\\\"61\\\",\\\"62\\\",\\\"63\\\",\\\"64\\\",\\\"65\\\",\\\"66\\\",\\\"67\\\",\\\"68\\\",\\\"69\\\",\\\"70\\\",\\\"71\\\",\\\"72\\\",\\\"73\\\",\\\"74\\\",\\\"75\\\",\\\"76\\\",\\\"77\\\",\\\"78\\\",\\\"79\\\",\\\"80\\\"],\\\"changes\\\":WebIO.getval({\\\"name\\\":\\\"changes\\\",\\\"scope\\\":\\\"10059517272451343617\\\",\\\"id\\\":\\\"ob_84\\\",\\\"type\\\":\\\"observable\\\"}),\\\"index\\\":WebIO.getval({\\\"name\\\":\\\"index\\\",\\\"scope\\\":\\\"10059517272451343617\\\",\\\"id\\\":\\\"ob_83\\\",\\\"type\\\":\\\"observable\\\"})};\\n    var self = this;\\n    function AppViewModel() {\\n        for (var key in json_data) {\\n            var el = json_data[key];\\n            this[key] = Array.isArray(el) ? ko.observableArray(el) : ko.observable(el);\\n        }\\n        \\n        [this[\\\"formatted_val\\\"]=ko.computed(    function(){\\n        return this.formatted_vals()[parseInt(this.index())-(1)];\\n    }\\n,this)]\\n        [this[\\\"changes\\\"].subscribe((function (val){!(this.valueFromJulia[\\\"changes\\\"]) ? (WebIO.setval({\\\"name\\\":\\\"changes\\\",\\\"scope\\\":\\\"10059517272451343617\\\",\\\"id\\\":\\\"ob_84\\\",\\\"type\\\":\\\"observable\\\"},val)) : undefined; return this.valueFromJulia[\\\"changes\\\"]=false}),self),this[\\\"index\\\"].subscribe((function (val){!(this.valueFromJulia[\\\"index\\\"]) ? (WebIO.setval({\\\"name\\\":\\\"index\\\",\\\"scope\\\":\\\"10059517272451343617\\\",\\\"id\\\":\\\"ob_83\\\",\\\"type\\\":\\\"observable\\\"},val)) : undefined; return this.valueFromJulia[\\\"index\\\"]=false}),self)]\\n        \\n    }\\n    self.model = new AppViewModel();\\n    self.valueFromJulia = {};\\n    for (var key in json_data) {\\n        self.valueFromJulia[key] = false;\\n    }\\n    ko.applyBindings(self.model, self.dom);\\n}\\n);\\n    (WebIO.importBlock({\\\"data\\\":[{\\\"name\\\":\\\"knockout\\\",\\\"type\\\":\\\"js\\\",\\\"url\\\":\\\"\\/assetserver\\/06b5713f7394e9c781d3d3143d6fd532e7f814ce-knockout.js\\\"},{\\\"name\\\":\\\"knockout_punches\\\",\\\"type\\\":\\\"js\\\",\\\"url\\\":\\\"\\/assetserver\\/695de4db56dde9805b672fe778fb2fc752e9b632-knockout_punches.js\\\"}],\\\"type\\\":\\\"async_block\\\"})).then((imports) => handler.apply(this, imports));\\n}\\n\"],\"observables\":{\"changes\":{\"sync\":false,\"id\":\"ob_84\",\"value\":0},\"index\":{\"sync\":true,\"id\":\"ob_83\",\"value\":40}}},\"children\":[{\"props\":{\"className\":\"interact-flex-row interact-widget\"},\"nodeType\":\"DOM\",\"type\":\"node\",\"instanceArgs\":{\"namespace\":\"html\",\"tag\":\"div\"},\"children\":[{\"props\":{\"className\":\"interact-flex-row-left\"},\"nodeType\":\"DOM\",\"type\":\"node\",\"instanceArgs\":{\"namespace\":\"html\",\"tag\":\"div\"},\"children\":[{\"props\":{\"className\":\"interact \",\"style\":{\"padding\":\"5px 10px 0px 10px\"}},\"nodeType\":\"DOM\",\"type\":\"node\",\"instanceArgs\":{\"namespace\":\"html\",\"tag\":\"label\"},\"children\":[\"n\"]}]},{\"props\":{\"className\":\"interact-flex-row-center\"},\"nodeType\":\"DOM\",\"type\":\"node\",\"instanceArgs\":{\"namespace\":\"html\",\"tag\":\"div\"},\"children\":[{\"props\":{\"max\":80,\"min\":1,\"attributes\":{\"type\":\"range\",\"data-bind\":\"numericValue: index, valueUpdate: 'input', event: {change: function (){this.changes(this.changes()+1)}}\",\"orient\":\"horizontal\"},\"step\":1,\"className\":\"slider slider is-fullwidth\",\"style\":{}},\"nodeType\":\"DOM\",\"type\":\"node\",\"instanceArgs\":{\"namespace\":\"html\",\"tag\":\"input\"},\"children\":[]}]},{\"props\":{\"className\":\"interact-flex-row-right\"},\"nodeType\":\"DOM\",\"type\":\"node\",\"instanceArgs\":{\"namespace\":\"html\",\"tag\":\"div\"},\"children\":[{\"props\":{\"attributes\":{\"data-bind\":\"text: formatted_val\"}},\"nodeType\":\"DOM\",\"type\":\"node\",\"instanceArgs\":{\"namespace\":\"html\",\"tag\":\"p\"},\"children\":[]}]}]}]}]},{\"props\":{},\"nodeType\":\"Scope\",\"type\":\"node\",\"instanceArgs\":{\"imports\":{\"data\":[],\"type\":\"async_block\"},\"id\":\"6261602042662708780\",\"handlers\":{},\"systemjs_options\":null,\"mount_callbacks\":[],\"observables\":{\"obs-node\":{\"sync\":false,\"id\":\"ob_88\",\"value\":{\"props\":{\"className\":\"interact-flex-row interact-widget\"},\"nodeType\":\"DOM\",\"type\":\"node\",\"instanceArgs\":{\"namespace\":\"html\",\"tag\":\"div\"},\"children\":[{\"props\":{\"setInnerHtml\":\"<?xml version=\\\"1.0\\\" encoding=\\\"UTF-8\\\"?>\\n<!DOCTYPE svg PUBLIC \\\"-\\/\\/W3C\\/\\/DTD SVG 1.1\\/\\/EN\\\"\\n \\\"http:\\/\\/www.w3.org\\/Graphics\\/SVG\\/1.1\\/DTD\\/svg11.dtd\\\">\\n<svg xmlns=\\\"http:\\/\\/www.w3.org\\/2000\\/svg\\\" version=\\\"1.1\\\"\\n     width=\\\"180.0mm\\\" height=\\\"25.0mm\\\"\\n     shape-rendering=\\\"crispEdges\\\">\\n<rect x=\\\"0.0mm\\\" y=\\\"0.0mm\\\"\\n      width=\\\"3.5mm\\\" height=\\\"24.0mm\\\"\\n      fill=\\\"#000000\\\" stroke=\\\"none\\\" \\/>\\n<rect x=\\\"4.5mm\\\" y=\\\"0.0mm\\\"\\n      width=\\\"3.5mm\\\" height=\\\"24.0mm\\\"\\n      fill=\\\"#FFFF62\\\" stroke=\\\"none\\\" \\/>\\n<rect x=\\\"9.0mm\\\" y=\\\"0.0mm\\\"\\n      width=\\\"3.5mm\\\" height=\\\"24.0mm\\\"\\n      fill=\\\"#FF9FFF\\\" stroke=\\\"none\\\" \\/>\\n<rect x=\\\"13.5mm\\\" y=\\\"0.0mm\\\"\\n      width=\\\"3.5mm\\\" height=\\\"24.0mm\\\"\\n      fill=\\\"#00D6FF\\\" stroke=\\\"none\\\" \\/>\\n<rect x=\\\"18.0mm\\\" y=\\\"0.0mm\\\"\\n      width=\\\"3.5mm\\\" height=\\\"24.0mm\\\"\\n      fill=\\\"#D74400\\\" stroke=\\\"none\\\" \\/>\\n<rect x=\\\"22.5mm\\\" y=\\\"0.0mm\\\"\\n      width=\\\"3.5mm\\\" height=\\\"24.0mm\\\"\\n      fill=\\\"#008029\\\" stroke=\\\"none\\\" \\/>\\n<rect x=\\\"27.0mm\\\" y=\\\"0.0mm\\\"\\n      width=\\\"3.5mm\\\" height=\\\"24.0mm\\\"\\n      fill=\\\"#005FD5\\\" stroke=\\\"none\\\" \\/>\\n<rect x=\\\"31.5mm\\\" y=\\\"0.0mm\\\"\\n      width=\\\"3.5mm\\\" height=\\\"24.0mm\\\"\\n      fill=\\\"#930068\\\" stroke=\\\"none\\\" \\/>\\n<rect x=\\\"36.0mm\\\" y=\\\"0.0mm\\\"\\n      width=\\\"3.5mm\\\" height=\\\"24.0mm\\\"\\n      fill=\\\"#FFCBB5\\\" stroke=\\\"none\\\" \\/>\\n<rect x=\\\"40.5mm\\\" y=\\\"0.0mm\\\"\\n      width=\\\"3.5mm\\\" height=\\\"24.0mm\\\"\\n      fill=\\\"#A78600\\\" stroke=\\\"none\\\" \\/>\\n<rect x=\\\"45.0mm\\\" y=\\\"0.0mm\\\"\\n      width=\\\"3.5mm\\\" height=\\\"24.0mm\\\"\\n      fill=\\\"#00FFC5\\\" stroke=\\\"none\\\" \\/>\\n<rect x=\\\"49.5mm\\\" y=\\\"0.0mm\\\"\\n      width=\\\"3.5mm\\\" height=\\\"24.0mm\\\"\\n      fill=\\\"#007E86\\\" stroke=\\\"none\\\" \\/>\\n<rect x=\\\"54.0mm\\\" y=\\\"0.0mm\\\"\\n      width=\\\"3.5mm\\\" height=\\\"24.0mm\\\"\\n      fill=\\\"#534200\\\" stroke=\\\"none\\\" \\/>\\n<rect x=\\\"58.5mm\\\" y=\\\"0.0mm\\\"\\n      width=\\\"3.5mm\\\" height=\\\"24.0mm\\\"\\n      fill=\\\"#8C8793\\\" stroke=\\\"none\\\" \\/>\\n<rect x=\\\"63.0mm\\\" y=\\\"0.0mm\\\"\\n      width=\\\"3.5mm\\\" height=\\\"24.0mm\\\"\\n      fill=\\\"#680000\\\" stroke=\\\"none\\\" \\/>\\n<rect x=\\\"67.5mm\\\" y=\\\"0.0mm\\\"\\n      width=\\\"3.5mm\\\" height=\\\"24.0mm\\\"\\n      fill=\\\"#00005A\\\" stroke=\\\"none\\\" \\/>\\n<rect x=\\\"72.0mm\\\" y=\\\"0.0mm\\\"\\n      width=\\\"3.5mm\\\" height=\\\"24.0mm\\\"\\n      fill=\\\"#FF2C6F\\\" stroke=\\\"none\\\" \\/>\\n<rect x=\\\"76.5mm\\\" y=\\\"0.0mm\\\"\\n      width=\\\"3.5mm\\\" height=\\\"24.0mm\\\"\\n      fill=\\\"#F7FFF6\\\" stroke=\\\"none\\\" \\/>\\n<rect x=\\\"81.0mm\\\" y=\\\"0.0mm\\\"\\n      width=\\\"3.5mm\\\" height=\\\"24.0mm\\\"\\n      fill=\\\"#003D25\\\" stroke=\\\"none\\\" \\/>\\n<rect x=\\\"85.5mm\\\" y=\\\"0.0mm\\\"\\n      width=\\\"3.5mm\\\" height=\\\"24.0mm\\\"\\n      fill=\\\"#91ABFF\\\" stroke=\\\"none\\\" \\/>\\n<rect x=\\\"90.0mm\\\" y=\\\"0.0mm\\\"\\n      width=\\\"3.5mm\\\" height=\\\"24.0mm\\\"\\n      fill=\\\"#A1B684\\\" stroke=\\\"none\\\" \\/>\\n<rect x=\\\"94.5mm\\\" y=\\\"0.0mm\\\"\\n      width=\\\"3.5mm\\\" height=\\\"24.0mm\\\"\\n      fill=\\\"#605051\\\" stroke=\\\"none\\\" \\/>\\n<rect x=\\\"99.0mm\\\" y=\\\"0.0mm\\\"\\n      width=\\\"3.5mm\\\" height=\\\"24.0mm\\\"\\n      fill=\\\"#C129E2\\\" stroke=\\\"none\\\" \\/>\\n<rect x=\\\"103.5mm\\\" y=\\\"0.0mm\\\"\\n      width=\\\"3.5mm\\\" height=\\\"24.0mm\\\"\\n      fill=\\\"#FF8E1E\\\" stroke=\\\"none\\\" \\/>\\n<rect x=\\\"108.0mm\\\" y=\\\"0.0mm\\\"\\n      width=\\\"3.5mm\\\" height=\\\"24.0mm\\\"\\n      fill=\\\"#003F51\\\" stroke=\\\"none\\\" \\/>\\n<rect x=\\\"112.5mm\\\" y=\\\"0.0mm\\\"\\n      width=\\\"3.5mm\\\" height=\\\"24.0mm\\\"\\n      fill=\\\"#797860\\\" stroke=\\\"none\\\" \\/>\\n<rect x=\\\"117.0mm\\\" y=\\\"0.0mm\\\"\\n      width=\\\"3.5mm\\\" height=\\\"24.0mm\\\"\\n      fill=\\\"#2E001C\\\" stroke=\\\"none\\\" \\/>\\n<rect x=\\\"121.5mm\\\" y=\\\"0.0mm\\\"\\n      width=\\\"3.5mm\\\" height=\\\"24.0mm\\\"\\n      fill=\\\"#01AF99\\\" stroke=\\\"none\\\" \\/>\\n<rect x=\\\"126.0mm\\\" y=\\\"0.0mm\\\"\\n      width=\\\"3.5mm\\\" height=\\\"24.0mm\\\"\\n      fill=\\\"#FFE6FF\\\" stroke=\\\"none\\\" \\/>\\n<rect x=\\\"130.5mm\\\" y=\\\"0.0mm\\\"\\n      width=\\\"3.5mm\\\" height=\\\"24.0mm\\\"\\n      fill=\\\"#77DA00\\\" stroke=\\\"none\\\" \\/>\\n<rect x=\\\"135.0mm\\\" y=\\\"0.0mm\\\"\\n      width=\\\"3.5mm\\\" height=\\\"24.0mm\\\"\\n      fill=\\\"#5B4B83\\\" stroke=\\\"none\\\" \\/>\\n<rect x=\\\"139.5mm\\\" y=\\\"0.0mm\\\"\\n      width=\\\"3.5mm\\\" height=\\\"24.0mm\\\"\\n      fill=\\\"#0094CF\\\" stroke=\\\"none\\\" \\/>\\n<rect x=\\\"144.0mm\\\" y=\\\"0.0mm\\\"\\n      width=\\\"3.5mm\\\" height=\\\"24.0mm\\\"\\n      fill=\\\"#B8739F\\\" stroke=\\\"none\\\" \\/>\\n<rect x=\\\"148.5mm\\\" y=\\\"0.0mm\\\"\\n      width=\\\"3.5mm\\\" height=\\\"24.0mm\\\"\\n      fill=\\\"#FF8269\\\" stroke=\\\"none\\\" \\/>\\n<rect x=\\\"153.0mm\\\" y=\\\"0.0mm\\\"\\n      width=\\\"3.5mm\\\" height=\\\"24.0mm\\\"\\n      fill=\\\"#FFBE05\\\" stroke=\\\"none\\\" \\/>\\n<rect x=\\\"157.5mm\\\" y=\\\"0.0mm\\\"\\n      width=\\\"3.5mm\\\" height=\\\"24.0mm\\\"\\n      fill=\\\"#C20030\\\" stroke=\\\"none\\\" \\/>\\n<rect x=\\\"162.0mm\\\" y=\\\"0.0mm\\\"\\n      width=\\\"3.5mm\\\" height=\\\"24.0mm\\\"\\n      fill=\\\"#A9806C\\\" stroke=\\\"none\\\" \\/>\\n<rect x=\\\"166.5mm\\\" y=\\\"0.0mm\\\"\\n      width=\\\"3.5mm\\\" height=\\\"24.0mm\\\"\\n      fill=\\\"#955600\\\" stroke=\\\"none\\\" \\/>\\n<rect x=\\\"171.0mm\\\" y=\\\"0.0mm\\\"\\n      width=\\\"3.5mm\\\" height=\\\"24.0mm\\\"\\n      fill=\\\"#9FB3B2\\\" stroke=\\\"none\\\" \\/>\\n<rect x=\\\"175.5mm\\\" y=\\\"0.0mm\\\"\\n      width=\\\"3.5mm\\\" height=\\\"24.0mm\\\"\\n      fill=\\\"#789500\\\" stroke=\\\"none\\\" \\/>\\n<\\/svg>\"},\"nodeType\":\"DOM\",\"type\":\"node\",\"instanceArgs\":{\"namespace\":\"html\",\"tag\":\"div\"},\"children\":[]}]}}}},\"children\":[{\"props\":{},\"nodeType\":\"ObservableNode\",\"type\":\"node\",\"instanceArgs\":{\"id\":\"ob_88\",\"name\":\"obs-node\"},\"children\":[]}]}]},\n",
       "            window,\n",
       "        );\n",
       "    } else {\n",
       "        document\n",
       "            .querySelector('[data-webio-mountpoint=\"8418143020493694419\"]')\n",
       "            .innerHTML = '<strong>WebIO not detected.</strong>';\n",
       "    }\n",
       "    </script>\n",
       "</div>\n"
      ],
      "text/plain": [
       "Node{WebIO.DOM}(WebIO.DOM(:html, :div), Any[Node{DOM}(DOM(:html, :div), Any[Scope(Node{DOM}(DOM(:html, :div), Any[Node{DOM}(DOM(:html, :div), Any[Node{DOM}(DOM(:html, :label), Any[\"n\"], Dict{Symbol,Any}(:className=>\"interact \",:style=>Dict{Any,Any}(:padding=>\"5px 10px 0px 10px\")))], Dict{Symbol,Any}(:className=>\"interact-flex-row-left\")), Node{DOM}(DOM(:html, :div), Any[Node{DOM}(DOM(:html, :input), Any[], Dict{Symbol,Any}(:max=>80,:min=>1,:attributes=>Dict{Any,Any}(:type=>\"range\",Symbol(\"data-bind\")=>\"numericValue: index, valueUpdate: 'input', event: {change: function (){this.changes(this.changes()+1)}}\",\"orient\"=>\"horizontal\"),:step=>1,:className=>\"slider slider is-fullwidth\",:style=>Dict{Any,Any}()))], Dict{Symbol,Any}(:className=>\"interact-flex-row-center\")), Node{DOM}(DOM(:html, :div), Any[Node{DOM}(DOM(:html, :p), Any[], Dict{Symbol,Any}(:attributes=>Dict(\"data-bind\"=>\"text: formatted_val\")))], Dict{Symbol,Any}(:className=>\"interact-flex-row-right\"))], Dict{Symbol,Any}(:className=>\"interact-flex-row interact-widget\")), Dict{String,Tuple{Observables.AbstractObservable,Union{Nothing, Bool}}}(\"changes\"=>(Observable{Int64} with 1 listeners. Value:\n",
       "0, nothing),\"index\"=>(Observable{Int64} with 2 listeners. Value:\n",
       "40, nothing)), Set(String[]), nothing, Asset[Asset(\"js\", \"knockout\", \"C:\\\\Users\\\\carsten\\\\.julia\\\\packages\\\\Knockout\\\\1sDlc\\\\src\\\\..\\\\assets\\\\knockout.js\"), Asset(\"js\", \"knockout_punches\", \"C:\\\\Users\\\\carsten\\\\.julia\\\\packages\\\\Knockout\\\\1sDlc\\\\src\\\\..\\\\assets\\\\knockout_punches.js\"), Asset(\"js\", nothing, \"C:\\\\Users\\\\carsten\\\\.julia\\\\packages\\\\InteractBase\\\\l8cEC\\\\src\\\\..\\\\assets\\\\all.js\"), Asset(\"css\", nothing, \"C:\\\\Users\\\\carsten\\\\.julia\\\\packages\\\\InteractBase\\\\l8cEC\\\\src\\\\..\\\\assets\\\\style.css\"), Asset(\"css\", nothing, \"C:\\\\Users\\\\carsten\\\\.julia\\\\packages\\\\Interact\\\\0klKX\\\\src\\\\..\\\\assets\\\\bulma_confined.min.css\")], Dict{Any,Any}(\"changes\"=>Any[JSString(\"(function (val){return (val!=this.model[\\\"changes\\\"]()) ? (this.valueFromJulia[\\\"changes\\\"]=true, this.model[\\\"changes\\\"](val)) : undefined})\")],\"index\"=>Any[JSString(\"(function (val){return (val!=this.model[\\\"index\\\"]()) ? (this.valueFromJulia[\\\"index\\\"]=true, this.model[\\\"index\\\"](val)) : undefined})\")]), ConnectionPool(Channel{Any}(sz_max:9223372036854775807,sz_curr:0), Set(AbstractConnection[]), Channel{AbstractConnection}(sz_max:32,sz_curr:0)), WebIO.JSString[JSString(\"function () {\\n    var handler = (function (ko, koPunches) {\\n    ko.punches.enableAll();\\n    ko.bindingHandlers.numericValue = {\\n        init: function(element, valueAccessor, allBindings, data, context) {\\n            var stringified = ko.observable(ko.unwrap(valueAccessor()));\\n            stringified.subscribe(function(value) {\\n                var val = parseFloat(value);\\n                if (!isNaN(val)) {\\n                    valueAccessor()(val);\\n                }\\n            });\\n            valueAccessor().subscribe(function(value) {\\n                var str = JSON.stringify(value);\\n                if ((str == \\\"0\\\") && ([\\\"-0\\\", \\\"-0.\\\"].indexOf(stringified()) >= 0))\\n                     return;\\n                 if ([\\\"null\\\", \\\"\\\"].indexOf(str) >= 0)\\n                     return;\\n                stringified(str);\\n            });\\n            ko.applyBindingsToNode(\\n                element,\\n                {\\n                    value: stringified,\\n                    valueUpdate: allBindings.get('valueUpdate'),\\n                },\\n                context,\\n            );\\n        }\\n    };\\n    var json_data = {\\\"formatted_vals\\\":[\\\"1\\\",\\\"2\\\",\\\"3\\\",\\\"4\\\",\\\"5\\\",\\\"6\\\",\\\"7\\\",\\\"8\\\",\\\"9\\\",\\\"10\\\",\\\"11\\\",\\\"12\\\",\\\"13\\\",\\\"14\\\",\\\"15\\\",\\\"16\\\",\\\"17\\\",\\\"18\\\",\\\"19\\\",\\\"20\\\",\\\"21\\\",\\\"22\\\",\\\"23\\\",\\\"24\\\",\\\"25\\\",\\\"26\\\",\\\"27\\\",\\\"28\\\",\\\"29\\\",\\\"30\\\",\\\"31\\\",\\\"32\\\",\\\"33\\\",\\\"34\\\",\\\"35\\\",\\\"36\\\",\\\"37\\\",\\\"38\\\",\\\"39\\\",\\\"40\\\",\\\"41\\\",\\\"42\\\",\\\"43\\\",\\\"44\\\",\\\"45\\\",\\\"46\\\",\\\"47\\\",\\\"48\\\",\\\"49\\\",\\\"50\\\",\\\"51\\\",\\\"52\\\",\\\"53\\\",\\\"54\\\",\\\"55\\\",\\\"56\\\",\\\"57\\\",\\\"58\\\",\\\"59\\\",\\\"60\\\",\\\"61\\\",\\\"62\\\",\\\"63\\\",\\\"64\\\",\\\"65\\\",\\\"66\\\",\\\"67\\\",\\\"68\\\",\\\"69\\\",\\\"70\\\",\\\"71\\\",\\\"72\\\",\\\"73\\\",\\\"74\\\",\\\"75\\\",\\\"76\\\",\\\"77\\\",\\\"78\\\",\\\"79\\\",\\\"80\\\"],\\\"changes\\\":WebIO.getval({\\\"name\\\":\\\"changes\\\",\\\"scope\\\":\\\"10059517272451343617\\\",\\\"id\\\":\\\"ob_84\\\",\\\"type\\\":\\\"observable\\\"}),\\\"index\\\":WebIO.getval({\\\"name\\\":\\\"index\\\",\\\"scope\\\":\\\"10059517272451343617\\\",\\\"id\\\":\\\"ob_83\\\",\\\"type\\\":\\\"observable\\\"})};\\n    var self = this;\\n    function AppViewModel() {\\n        for (var key in json_data) {\\n            var el = json_data[key];\\n            this[key] = Array.isArray(el) ? ko.observableArray(el) : ko.observable(el);\\n        }\\n        \\n        [this[\\\"formatted_val\\\"]=ko.computed(    function(){\\n        return this.formatted_vals()[parseInt(this.index())-(1)];\\n    }\\n,this)]\\n        [this[\\\"changes\\\"].subscribe((function (val){!(this.valueFromJulia[\\\"changes\\\"]) ? (WebIO.setval({\\\"name\\\":\\\"changes\\\",\\\"scope\\\":\\\"10059517272451343617\\\",\\\"id\\\":\\\"ob_84\\\",\\\"type\\\":\\\"observable\\\"},val)) : undefined; return this.valueFromJulia[\\\"changes\\\"]=false}),self),this[\\\"index\\\"].subscribe((function (val){!(this.valueFromJulia[\\\"index\\\"]) ? (WebIO.setval({\\\"name\\\":\\\"index\\\",\\\"scope\\\":\\\"10059517272451343617\\\",\\\"id\\\":\\\"ob_83\\\",\\\"type\\\":\\\"observable\\\"},val)) : undefined; return this.valueFromJulia[\\\"index\\\"]=false}),self)]\\n        \\n    }\\n    self.model = new AppViewModel();\\n    self.valueFromJulia = {};\\n    for (var key in json_data) {\\n        self.valueFromJulia[key] = false;\\n    }\\n    ko.applyBindings(self.model, self.dom);\\n}\\n);\\n    (WebIO.importBlock({\\\"data\\\":[{\\\"name\\\":\\\"knockout\\\",\\\"type\\\":\\\"js\\\",\\\"url\\\":\\\"/assetserver/06b5713f7394e9c781d3d3143d6fd532e7f814ce-knockout.js\\\"},{\\\"name\\\":\\\"knockout_punches\\\",\\\"type\\\":\\\"js\\\",\\\"url\\\":\\\"/assetserver/695de4db56dde9805b672fe778fb2fc752e9b632-knockout_punches.js\\\"}],\\\"type\\\":\\\"async_block\\\"})).then((imports) => handler.apply(this, imports));\\n}\\n\")])], Dict{Symbol,Any}(:className=>\"field interact-widget\")), Observable{Any} with 0 listeners. Value:\n",
       "Node{DOM}(DOM(:html, :div), Any[RGB{FixedPointNumbers.Normed{UInt8,8}}[RGB{N0f8}(0.0,0.0,0.0), RGB{N0f8}(1.0,1.0,0.384), RGB{N0f8}(1.0,0.624,1.0), RGB{N0f8}(0.0,0.839,1.0), RGB{N0f8}(0.843,0.267,0.0), RGB{N0f8}(0.0,0.502,0.161), RGB{N0f8}(0.0,0.373,0.835), RGB{N0f8}(0.576,0.0,0.408), RGB{N0f8}(1.0,0.796,0.71), RGB{N0f8}(0.655,0.525,0.0)  …  RGB{N0f8}(0.357,0.294,0.514), RGB{N0f8}(0.0,0.58,0.812), RGB{N0f8}(0.722,0.451,0.624), RGB{N0f8}(1.0,0.51,0.412), RGB{N0f8}(1.0,0.745,0.02), RGB{N0f8}(0.761,0.0,0.188), RGB{N0f8}(0.663,0.502,0.424), RGB{N0f8}(0.584,0.337,0.0), RGB{N0f8}(0.624,0.702,0.698), RGB{N0f8}(0.471,0.584,0.0)]], Dict{Symbol,Any}(:className=>\"interact-flex-row interact-widget\"))], Dict{Symbol,Any}())"
      ]
     },
     "execution_count": 30,
     "metadata": {
      "application/vnd.webio.node+json": {
       "kernelId": null
      }
     },
     "output_type": "execute_result"
    }
   ],
   "source": [
    "@manipulate for n in 1:80\n",
    "    distinguishable_colors(n)\n",
    "end"
   ]
  },
  {
   "cell_type": "code",
   "execution_count": 31,
   "metadata": {},
   "outputs": [
    {
     "data": {
      "image/svg+xml": [
       "<?xml version=\"1.0\" encoding=\"UTF-8\"?>\n",
       "<!DOCTYPE svg PUBLIC \"-//W3C//DTD SVG 1.1//EN\"\n",
       " \"http://www.w3.org/Graphics/SVG/1.1/DTD/svg11.dtd\">\n",
       "<svg xmlns=\"http://www.w3.org/2000/svg\" version=\"1.1\"\n",
       "     width=\"180.0mm\" height=\"24.999999999999996mm\"\n",
       "     shape-rendering=\"crispEdges\">\n",
       "<rect x=\"0.0mm\" y=\"0.0mm\"\n",
       "      width=\"1.8mm\" height=\"23.999999999999996mm\"\n",
       "      fill=\"#000000\" stroke=\"none\" />\n",
       "<rect x=\"1.8mm\" y=\"0.0mm\"\n",
       "      width=\"1.8mm\" height=\"23.999999999999996mm\"\n",
       "      fill=\"#FFFF62\" stroke=\"none\" />\n",
       "<rect x=\"3.6mm\" y=\"0.0mm\"\n",
       "      width=\"1.8mm\" height=\"23.999999999999996mm\"\n",
       "      fill=\"#FF9FFF\" stroke=\"none\" />\n",
       "<rect x=\"5.4mm\" y=\"0.0mm\"\n",
       "      width=\"1.8mm\" height=\"23.999999999999996mm\"\n",
       "      fill=\"#00D6FF\" stroke=\"none\" />\n",
       "<rect x=\"7.2mm\" y=\"0.0mm\"\n",
       "      width=\"1.8mm\" height=\"23.999999999999996mm\"\n",
       "      fill=\"#D74400\" stroke=\"none\" />\n",
       "<rect x=\"9.0mm\" y=\"0.0mm\"\n",
       "      width=\"1.8mm\" height=\"23.999999999999996mm\"\n",
       "      fill=\"#008029\" stroke=\"none\" />\n",
       "<rect x=\"10.8mm\" y=\"0.0mm\"\n",
       "      width=\"1.8mm\" height=\"23.999999999999996mm\"\n",
       "      fill=\"#005FD5\" stroke=\"none\" />\n",
       "<rect x=\"12.6mm\" y=\"0.0mm\"\n",
       "      width=\"1.8mm\" height=\"23.999999999999996mm\"\n",
       "      fill=\"#930068\" stroke=\"none\" />\n",
       "<rect x=\"14.4mm\" y=\"0.0mm\"\n",
       "      width=\"1.8mm\" height=\"23.999999999999996mm\"\n",
       "      fill=\"#FFCBB5\" stroke=\"none\" />\n",
       "<rect x=\"16.2mm\" y=\"0.0mm\"\n",
       "      width=\"1.8mm\" height=\"23.999999999999996mm\"\n",
       "      fill=\"#A78600\" stroke=\"none\" />\n",
       "<rect x=\"18.0mm\" y=\"0.0mm\"\n",
       "      width=\"1.8mm\" height=\"23.999999999999996mm\"\n",
       "      fill=\"#00FFC5\" stroke=\"none\" />\n",
       "<rect x=\"19.8mm\" y=\"0.0mm\"\n",
       "      width=\"1.8mm\" height=\"23.999999999999996mm\"\n",
       "      fill=\"#007E86\" stroke=\"none\" />\n",
       "<rect x=\"21.6mm\" y=\"0.0mm\"\n",
       "      width=\"1.8mm\" height=\"23.999999999999996mm\"\n",
       "      fill=\"#534200\" stroke=\"none\" />\n",
       "<rect x=\"23.400000000000002mm\" y=\"0.0mm\"\n",
       "      width=\"1.8mm\" height=\"23.999999999999996mm\"\n",
       "      fill=\"#8C8793\" stroke=\"none\" />\n",
       "<rect x=\"25.2mm\" y=\"0.0mm\"\n",
       "      width=\"1.8mm\" height=\"23.999999999999996mm\"\n",
       "      fill=\"#680000\" stroke=\"none\" />\n",
       "<rect x=\"27.0mm\" y=\"0.0mm\"\n",
       "      width=\"1.8mm\" height=\"23.999999999999996mm\"\n",
       "      fill=\"#00005A\" stroke=\"none\" />\n",
       "<rect x=\"28.8mm\" y=\"0.0mm\"\n",
       "      width=\"1.8mm\" height=\"23.999999999999996mm\"\n",
       "      fill=\"#FF2C6F\" stroke=\"none\" />\n",
       "<rect x=\"30.6mm\" y=\"0.0mm\"\n",
       "      width=\"1.8mm\" height=\"23.999999999999996mm\"\n",
       "      fill=\"#F7FFF6\" stroke=\"none\" />\n",
       "<rect x=\"32.4mm\" y=\"0.0mm\"\n",
       "      width=\"1.8mm\" height=\"23.999999999999996mm\"\n",
       "      fill=\"#003D25\" stroke=\"none\" />\n",
       "<rect x=\"34.2mm\" y=\"0.0mm\"\n",
       "      width=\"1.8mm\" height=\"23.999999999999996mm\"\n",
       "      fill=\"#91ABFF\" stroke=\"none\" />\n",
       "<rect x=\"36.0mm\" y=\"0.0mm\"\n",
       "      width=\"1.8mm\" height=\"23.999999999999996mm\"\n",
       "      fill=\"#A1B684\" stroke=\"none\" />\n",
       "<rect x=\"37.800000000000004mm\" y=\"0.0mm\"\n",
       "      width=\"1.8mm\" height=\"23.999999999999996mm\"\n",
       "      fill=\"#605051\" stroke=\"none\" />\n",
       "<rect x=\"39.6mm\" y=\"0.0mm\"\n",
       "      width=\"1.8mm\" height=\"23.999999999999996mm\"\n",
       "      fill=\"#C129E2\" stroke=\"none\" />\n",
       "<rect x=\"41.4mm\" y=\"0.0mm\"\n",
       "      width=\"1.8mm\" height=\"23.999999999999996mm\"\n",
       "      fill=\"#FF8E1E\" stroke=\"none\" />\n",
       "<rect x=\"43.2mm\" y=\"0.0mm\"\n",
       "      width=\"1.8mm\" height=\"23.999999999999996mm\"\n",
       "      fill=\"#003F51\" stroke=\"none\" />\n",
       "<rect x=\"45.0mm\" y=\"0.0mm\"\n",
       "      width=\"1.8mm\" height=\"23.999999999999996mm\"\n",
       "      fill=\"#797860\" stroke=\"none\" />\n",
       "<rect x=\"46.800000000000004mm\" y=\"0.0mm\"\n",
       "      width=\"1.8mm\" height=\"23.999999999999996mm\"\n",
       "      fill=\"#2E001C\" stroke=\"none\" />\n",
       "<rect x=\"48.6mm\" y=\"0.0mm\"\n",
       "      width=\"1.8mm\" height=\"23.999999999999996mm\"\n",
       "      fill=\"#01AF99\" stroke=\"none\" />\n",
       "<rect x=\"50.4mm\" y=\"0.0mm\"\n",
       "      width=\"1.8mm\" height=\"23.999999999999996mm\"\n",
       "      fill=\"#FFE6FF\" stroke=\"none\" />\n",
       "<rect x=\"52.2mm\" y=\"0.0mm\"\n",
       "      width=\"1.8mm\" height=\"23.999999999999996mm\"\n",
       "      fill=\"#77DA00\" stroke=\"none\" />\n",
       "<rect x=\"54.0mm\" y=\"0.0mm\"\n",
       "      width=\"1.8mm\" height=\"23.999999999999996mm\"\n",
       "      fill=\"#5B4B83\" stroke=\"none\" />\n",
       "<rect x=\"55.800000000000004mm\" y=\"0.0mm\"\n",
       "      width=\"1.8mm\" height=\"23.999999999999996mm\"\n",
       "      fill=\"#0094CF\" stroke=\"none\" />\n",
       "<rect x=\"57.6mm\" y=\"0.0mm\"\n",
       "      width=\"1.8mm\" height=\"23.999999999999996mm\"\n",
       "      fill=\"#B8739F\" stroke=\"none\" />\n",
       "<rect x=\"59.4mm\" y=\"0.0mm\"\n",
       "      width=\"1.8mm\" height=\"23.999999999999996mm\"\n",
       "      fill=\"#FF8269\" stroke=\"none\" />\n",
       "<rect x=\"61.2mm\" y=\"0.0mm\"\n",
       "      width=\"1.8mm\" height=\"23.999999999999996mm\"\n",
       "      fill=\"#FFBE05\" stroke=\"none\" />\n",
       "<rect x=\"63.0mm\" y=\"0.0mm\"\n",
       "      width=\"1.8mm\" height=\"23.999999999999996mm\"\n",
       "      fill=\"#C20030\" stroke=\"none\" />\n",
       "<rect x=\"64.8mm\" y=\"0.0mm\"\n",
       "      width=\"1.8mm\" height=\"23.999999999999996mm\"\n",
       "      fill=\"#A9806C\" stroke=\"none\" />\n",
       "<rect x=\"66.60000000000001mm\" y=\"0.0mm\"\n",
       "      width=\"1.8mm\" height=\"23.999999999999996mm\"\n",
       "      fill=\"#955600\" stroke=\"none\" />\n",
       "<rect x=\"68.4mm\" y=\"0.0mm\"\n",
       "      width=\"1.8mm\" height=\"23.999999999999996mm\"\n",
       "      fill=\"#9FB3B2\" stroke=\"none\" />\n",
       "<rect x=\"70.2mm\" y=\"0.0mm\"\n",
       "      width=\"1.8mm\" height=\"23.999999999999996mm\"\n",
       "      fill=\"#789500\" stroke=\"none\" />\n",
       "<rect x=\"72.0mm\" y=\"0.0mm\"\n",
       "      width=\"1.8mm\" height=\"23.999999999999996mm\"\n",
       "      fill=\"#FF9BB1\" stroke=\"none\" />\n",
       "<rect x=\"73.8mm\" y=\"0.0mm\"\n",
       "      width=\"1.8mm\" height=\"23.999999999999996mm\"\n",
       "      fill=\"#A8FFFD\" stroke=\"none\" />\n",
       "<rect x=\"75.60000000000001mm\" y=\"0.0mm\"\n",
       "      width=\"1.8mm\" height=\"23.999999999999996mm\"\n",
       "      fill=\"#2023C8\" stroke=\"none\" />\n",
       "<rect x=\"77.4mm\" y=\"0.0mm\"\n",
       "      width=\"1.8mm\" height=\"23.999999999999996mm\"\n",
       "      fill=\"#937BD2\" stroke=\"none\" />\n",
       "<rect x=\"79.2mm\" y=\"0.0mm\"\n",
       "      width=\"1.8mm\" height=\"23.999999999999996mm\"\n",
       "      fill=\"#FFE8B4\" stroke=\"none\" />\n",
       "<rect x=\"81.0mm\" y=\"0.0mm\"\n",
       "      width=\"1.8mm\" height=\"23.999999999999996mm\"\n",
       "      fill=\"#4A5750\" stroke=\"none\" />\n",
       "<rect x=\"82.8mm\" y=\"0.0mm\"\n",
       "      width=\"1.8mm\" height=\"23.999999999999996mm\"\n",
       "      fill=\"#636B05\" stroke=\"none\" />\n",
       "<rect x=\"84.60000000000001mm\" y=\"0.0mm\"\n",
       "      width=\"1.8mm\" height=\"23.999999999999996mm\"\n",
       "      fill=\"#2C1300\" stroke=\"none\" />\n",
       "<rect x=\"86.4mm\" y=\"0.0mm\"\n",
       "      width=\"1.8mm\" height=\"23.999999999999996mm\"\n",
       "      fill=\"#00BC62\" stroke=\"none\" />\n",
       "<rect x=\"88.2mm\" y=\"0.0mm\"\n",
       "      width=\"1.8mm\" height=\"23.999999999999996mm\"\n",
       "      fill=\"#CFE6FF\" stroke=\"none\" />\n",
       "<rect x=\"90.0mm\" y=\"0.0mm\"\n",
       "      width=\"1.8mm\" height=\"23.999999999999996mm\"\n",
       "      fill=\"#915266\" stroke=\"none\" />\n",
       "<rect x=\"91.8mm\" y=\"0.0mm\"\n",
       "      width=\"1.8mm\" height=\"23.999999999999996mm\"\n",
       "      fill=\"#C9F6C9\" stroke=\"none\" />\n",
       "<rect x=\"93.60000000000001mm\" y=\"0.0mm\"\n",
       "      width=\"1.8mm\" height=\"23.999999999999996mm\"\n",
       "      fill=\"#B6A9CF\" stroke=\"none\" />\n",
       "<rect x=\"95.4mm\" y=\"0.0mm\"\n",
       "      width=\"1.8mm\" height=\"23.999999999999996mm\"\n",
       "      fill=\"#2E3248\" stroke=\"none\" />\n",
       "<rect x=\"97.2mm\" y=\"0.0mm\"\n",
       "      width=\"1.8mm\" height=\"23.999999999999996mm\"\n",
       "      fill=\"#BBACA5\" stroke=\"none\" />\n",
       "<rect x=\"99.0mm\" y=\"0.0mm\"\n",
       "      width=\"1.8mm\" height=\"23.999999999999996mm\"\n",
       "      fill=\"#006B50\" stroke=\"none\" />\n",
       "<rect x=\"100.8mm\" y=\"0.0mm\"\n",
       "      width=\"1.8mm\" height=\"23.999999999999996mm\"\n",
       "      fill=\"#383329\" stroke=\"none\" />\n",
       "<rect x=\"102.60000000000001mm\" y=\"0.0mm\"\n",
       "      width=\"1.8mm\" height=\"23.999999999999996mm\"\n",
       "      fill=\"#C5AD6D\" stroke=\"none\" />\n",
       "<rect x=\"104.4mm\" y=\"0.0mm\"\n",
       "      width=\"1.8mm\" height=\"23.999999999999996mm\"\n",
       "      fill=\"#005500\" stroke=\"none\" />\n",
       "<rect x=\"106.2mm\" y=\"0.0mm\"\n",
       "      width=\"1.8mm\" height=\"23.999999999999996mm\"\n",
       "      fill=\"#687A7E\" stroke=\"none\" />\n",
       "<rect x=\"108.0mm\" y=\"0.0mm\"\n",
       "      width=\"1.8mm\" height=\"23.999999999999996mm\"\n",
       "      fill=\"#FF4ED2\" stroke=\"none\" />\n",
       "<rect x=\"109.8mm\" y=\"0.0mm\"\n",
       "      width=\"1.8mm\" height=\"23.999999999999996mm\"\n",
       "      fill=\"#9A2F00\" stroke=\"none\" />\n",
       "<rect x=\"111.60000000000001mm\" y=\"0.0mm\"\n",
       "      width=\"1.8mm\" height=\"23.999999999999996mm\"\n",
       "      fill=\"#501D5B\" stroke=\"none\" />\n",
       "<rect x=\"113.4mm\" y=\"0.0mm\"\n",
       "      width=\"1.8mm\" height=\"23.999999999999996mm\"\n",
       "      fill=\"#0E1A00\" stroke=\"none\" />\n",
       "<rect x=\"115.2mm\" y=\"0.0mm\"\n",
       "      width=\"1.8mm\" height=\"23.999999999999996mm\"\n",
       "      fill=\"#0B001F\" stroke=\"none\" />\n",
       "<rect x=\"117.0mm\" y=\"0.0mm\"\n",
       "      width=\"1.8mm\" height=\"23.999999999999996mm\"\n",
       "      fill=\"#49A9B8\" stroke=\"none\" />\n",
       "<rect x=\"118.8mm\" y=\"0.0mm\"\n",
       "      width=\"1.8mm\" height=\"23.999999999999996mm\"\n",
       "      fill=\"#8200A5\" stroke=\"none\" />\n",
       "<rect x=\"120.60000000000001mm\" y=\"0.0mm\"\n",
       "      width=\"1.8mm\" height=\"23.999999999999996mm\"\n",
       "      fill=\"#609663\" stroke=\"none\" />\n",
       "<rect x=\"122.4mm\" y=\"0.0mm\"\n",
       "      width=\"1.8mm\" height=\"23.999999999999996mm\"\n",
       "      fill=\"#00397F\" stroke=\"none\" />\n",
       "<rect x=\"124.2mm\" y=\"0.0mm\"\n",
       "      width=\"1.8mm\" height=\"23.999999999999996mm\"\n",
       "      fill=\"#8E0037\" stroke=\"none\" />\n",
       "<rect x=\"126.0mm\" y=\"0.0mm\"\n",
       "      width=\"1.8mm\" height=\"23.999999999999996mm\"\n",
       "      fill=\"#643820\" stroke=\"none\" />\n",
       "<rect x=\"127.8mm\" y=\"0.0mm\"\n",
       "      width=\"1.8mm\" height=\"23.999999999999996mm\"\n",
       "      fill=\"#7558FF\" stroke=\"none\" />\n",
       "<rect x=\"129.6mm\" y=\"0.0mm\"\n",
       "      width=\"1.8mm\" height=\"23.999999999999996mm\"\n",
       "      fill=\"#006787\" stroke=\"none\" />\n",
       "<rect x=\"131.4mm\" y=\"0.0mm\"\n",
       "      width=\"1.8mm\" height=\"23.999999999999996mm\"\n",
       "      fill=\"#B75D4E\" stroke=\"none\" />\n",
       "<rect x=\"133.20000000000002mm\" y=\"0.0mm\"\n",
       "      width=\"1.8mm\" height=\"23.999999999999996mm\"\n",
       "      fill=\"#C3C958\" stroke=\"none\" />\n",
       "<rect x=\"135.0mm\" y=\"0.0mm\"\n",
       "      width=\"1.8mm\" height=\"23.999999999999996mm\"\n",
       "      fill=\"#D00068\" stroke=\"none\" />\n",
       "<rect x=\"136.8mm\" y=\"0.0mm\"\n",
       "      width=\"1.8mm\" height=\"23.999999999999996mm\"\n",
       "      fill=\"#51272B\" stroke=\"none\" />\n",
       "<rect x=\"138.6mm\" y=\"0.0mm\"\n",
       "      width=\"1.8mm\" height=\"23.999999999999996mm\"\n",
       "      fill=\"#7B6044\" stroke=\"none\" />\n",
       "<rect x=\"140.4mm\" y=\"0.0mm\"\n",
       "      width=\"1.8mm\" height=\"23.999999999999996mm\"\n",
       "      fill=\"#2E3A00\" stroke=\"none\" />\n",
       "<rect x=\"142.20000000000002mm\" y=\"0.0mm\"\n",
       "      width=\"1.8mm\" height=\"23.999999999999996mm\"\n",
       "      fill=\"#7AFF8B\" stroke=\"none\" />\n",
       "<rect x=\"144.0mm\" y=\"0.0mm\"\n",
       "      width=\"1.8mm\" height=\"23.999999999999996mm\"\n",
       "      fill=\"#4F85F6\" stroke=\"none\" />\n",
       "<rect x=\"145.8mm\" y=\"0.0mm\"\n",
       "      width=\"1.8mm\" height=\"23.999999999999996mm\"\n",
       "      fill=\"#C47800\" stroke=\"none\" />\n",
       "<rect x=\"147.6mm\" y=\"0.0mm\"\n",
       "      width=\"1.8mm\" height=\"23.999999999999996mm\"\n",
       "      fill=\"#B5939C\" stroke=\"none\" />\n",
       "<rect x=\"149.4mm\" y=\"0.0mm\"\n",
       "      width=\"1.8mm\" height=\"23.999999999999996mm\"\n",
       "      fill=\"#60647C\" stroke=\"none\" />\n",
       "<rect x=\"151.20000000000002mm\" y=\"0.0mm\"\n",
       "      width=\"1.8mm\" height=\"23.999999999999996mm\"\n",
       "      fill=\"#20D8D8\" stroke=\"none\" />\n",
       "<rect x=\"153.0mm\" y=\"0.0mm\"\n",
       "      width=\"1.8mm\" height=\"23.999999999999996mm\"\n",
       "      fill=\"#001B2C\" stroke=\"none\" />\n",
       "<rect x=\"154.8mm\" y=\"0.0mm\"\n",
       "      width=\"1.8mm\" height=\"23.999999999999996mm\"\n",
       "      fill=\"#002726\" stroke=\"none\" />\n",
       "<rect x=\"156.6mm\" y=\"0.0mm\"\n",
       "      width=\"1.8mm\" height=\"23.999999999999996mm\"\n",
       "      fill=\"#F8E7E0\" stroke=\"none\" />\n",
       "<rect x=\"158.4mm\" y=\"0.0mm\"\n",
       "      width=\"1.8mm\" height=\"23.999999999999996mm\"\n",
       "      fill=\"#7E6200\" stroke=\"none\" />\n",
       "<rect x=\"160.20000000000002mm\" y=\"0.0mm\"\n",
       "      width=\"1.8mm\" height=\"23.999999999999996mm\"\n",
       "      fill=\"#185D5D\" stroke=\"none\" />\n",
       "<rect x=\"162.0mm\" y=\"0.0mm\"\n",
       "      width=\"1.8mm\" height=\"23.999999999999996mm\"\n",
       "      fill=\"#008B74\" stroke=\"none\" />\n",
       "<rect x=\"163.8mm\" y=\"0.0mm\"\n",
       "      width=\"1.8mm\" height=\"23.999999999999996mm\"\n",
       "      fill=\"#FF3F37\" stroke=\"none\" />\n",
       "<rect x=\"165.6mm\" y=\"0.0mm\"\n",
       "      width=\"1.8mm\" height=\"23.999999999999996mm\"\n",
       "      fill=\"#BC9EFF\" stroke=\"none\" />\n",
       "<rect x=\"167.4mm\" y=\"0.0mm\"\n",
       "      width=\"1.8mm\" height=\"23.999999999999996mm\"\n",
       "      fill=\"#82746D\" stroke=\"none\" />\n",
       "<rect x=\"169.20000000000002mm\" y=\"0.0mm\"\n",
       "      width=\"1.8mm\" height=\"23.999999999999996mm\"\n",
       "      fill=\"#555633\" stroke=\"none\" />\n",
       "<rect x=\"171.0mm\" y=\"0.0mm\"\n",
       "      width=\"1.8mm\" height=\"23.999999999999996mm\"\n",
       "      fill=\"#54BDFF\" stroke=\"none\" />\n",
       "<rect x=\"172.8mm\" y=\"0.0mm\"\n",
       "      width=\"1.8mm\" height=\"23.999999999999996mm\"\n",
       "      fill=\"#CD38A2\" stroke=\"none\" />\n",
       "<rect x=\"174.6mm\" y=\"0.0mm\"\n",
       "      width=\"1.8mm\" height=\"23.999999999999996mm\"\n",
       "      fill=\"#81D3AC\" stroke=\"none\" />\n",
       "<rect x=\"176.4mm\" y=\"0.0mm\"\n",
       "      width=\"1.8mm\" height=\"23.999999999999996mm\"\n",
       "      fill=\"#8A6F80\" stroke=\"none\" />\n",
       "<rect x=\"178.20000000000002mm\" y=\"0.0mm\"\n",
       "      width=\"1.8mm\" height=\"23.999999999999996mm\"\n",
       "      fill=\"#F7B66A\" stroke=\"none\" />\n",
       "</svg>"
      ],
      "text/plain": [
       "100-element Array{RGB{N0f8},1} with eltype RGB{FixedPointNumbers.Normed{UInt8,8}}:\n",
       " RGB{N0f8}(0.0,0.0,0.0)      \n",
       " RGB{N0f8}(1.0,1.0,0.384)    \n",
       " RGB{N0f8}(1.0,0.624,1.0)    \n",
       " RGB{N0f8}(0.0,0.839,1.0)    \n",
       " RGB{N0f8}(0.843,0.267,0.0)  \n",
       " RGB{N0f8}(0.0,0.502,0.161)  \n",
       " RGB{N0f8}(0.0,0.373,0.835)  \n",
       " RGB{N0f8}(0.576,0.0,0.408)  \n",
       " RGB{N0f8}(1.0,0.796,0.71)   \n",
       " RGB{N0f8}(0.655,0.525,0.0)  \n",
       " RGB{N0f8}(0.0,1.0,0.773)    \n",
       " RGB{N0f8}(0.0,0.494,0.525)  \n",
       " RGB{N0f8}(0.325,0.259,0.0)  \n",
       " ⋮                           \n",
       " RGB{N0f8}(0.494,0.384,0.0)  \n",
       " RGB{N0f8}(0.094,0.365,0.365)\n",
       " RGB{N0f8}(0.0,0.545,0.455)  \n",
       " RGB{N0f8}(1.0,0.247,0.216)  \n",
       " RGB{N0f8}(0.737,0.62,1.0)   \n",
       " RGB{N0f8}(0.51,0.455,0.427) \n",
       " RGB{N0f8}(0.333,0.337,0.2)  \n",
       " RGB{N0f8}(0.329,0.741,1.0)  \n",
       " RGB{N0f8}(0.804,0.22,0.635) \n",
       " RGB{N0f8}(0.506,0.827,0.675)\n",
       " RGB{N0f8}(0.541,0.435,0.502)\n",
       " RGB{N0f8}(0.969,0.714,0.416)"
      ]
     },
     "execution_count": 31,
     "metadata": {},
     "output_type": "execute_result"
    }
   ],
   "source": [
    "colors = distinguishable_colors(100)"
   ]
  },
  {
   "cell_type": "code",
   "execution_count": 32,
   "metadata": {},
   "outputs": [
    {
     "data": {
      "application/vnd.webio.node+json": {
       "children": [
        {
         "children": [
          {
           "children": [
            {
             "children": [
              {
               "children": [
                {
                 "children": [
                  "i"
                 ],
                 "instanceArgs": {
                  "namespace": "html",
                  "tag": "label"
                 },
                 "nodeType": "DOM",
                 "props": {
                  "className": "interact ",
                  "style": {
                   "padding": "5px 10px 0px 10px"
                  }
                 },
                 "type": "node"
                }
               ],
               "instanceArgs": {
                "namespace": "html",
                "tag": "div"
               },
               "nodeType": "DOM",
               "props": {
                "className": "interact-flex-row-left"
               },
               "type": "node"
              },
              {
               "children": [
                {
                 "children": [],
                 "instanceArgs": {
                  "namespace": "html",
                  "tag": "input"
                 },
                 "nodeType": "DOM",
                 "props": {
                  "attributes": {
                   "data-bind": "numericValue: index, valueUpdate: 'input', event: {change: function (){this.changes(this.changes()+1)}}",
                   "orient": "horizontal",
                   "type": "range"
                  },
                  "className": "slider slider is-fullwidth",
                  "max": 8,
                  "min": 1,
                  "step": 1,
                  "style": {}
                 },
                 "type": "node"
                }
               ],
               "instanceArgs": {
                "namespace": "html",
                "tag": "div"
               },
               "nodeType": "DOM",
               "props": {
                "className": "interact-flex-row-center"
               },
               "type": "node"
              },
              {
               "children": [
                {
                 "children": [],
                 "instanceArgs": {
                  "namespace": "html",
                  "tag": "p"
                 },
                 "nodeType": "DOM",
                 "props": {
                  "attributes": {
                   "data-bind": "text: formatted_val"
                  }
                 },
                 "type": "node"
                }
               ],
               "instanceArgs": {
                "namespace": "html",
                "tag": "div"
               },
               "nodeType": "DOM",
               "props": {
                "className": "interact-flex-row-right"
               },
               "type": "node"
              }
             ],
             "instanceArgs": {
              "namespace": "html",
              "tag": "div"
             },
             "nodeType": "DOM",
             "props": {
              "className": "interact-flex-row interact-widget"
             },
             "type": "node"
            }
           ],
           "instanceArgs": {
            "handlers": {
             "changes": [
              "(function (val){return (val!=this.model[\"changes\"]()) ? (this.valueFromJulia[\"changes\"]=true, this.model[\"changes\"](val)) : undefined})"
             ],
             "index": [
              "(function (val){return (val!=this.model[\"index\"]()) ? (this.valueFromJulia[\"index\"]=true, this.model[\"index\"](val)) : undefined})"
             ]
            },
            "id": "2037750531861411821",
            "imports": {
             "data": [
              {
               "name": "knockout",
               "type": "js",
               "url": "/assetserver/06b5713f7394e9c781d3d3143d6fd532e7f814ce-knockout.js"
              },
              {
               "name": "knockout_punches",
               "type": "js",
               "url": "/assetserver/695de4db56dde9805b672fe778fb2fc752e9b632-knockout_punches.js"
              },
              {
               "name": null,
               "type": "js",
               "url": "/assetserver/cd9cf93729ff320de8d59972e501bc7581ce199e-all.js"
              },
              {
               "name": null,
               "type": "css",
               "url": "/assetserver/2dd5b4483a1ad2cfea2512179b895d21de762858-style.css"
              },
              {
               "name": null,
               "type": "css",
               "url": "/assetserver/4a166f7fd21f97b78604bf0dafec2fdf4c488adb-bulma_confined.min.css"
              }
             ],
             "type": "async_block"
            },
            "mount_callbacks": [
             "function () {\n    var handler = (function (ko, koPunches) {\n    ko.punches.enableAll();\n    ko.bindingHandlers.numericValue = {\n        init: function(element, valueAccessor, allBindings, data, context) {\n            var stringified = ko.observable(ko.unwrap(valueAccessor()));\n            stringified.subscribe(function(value) {\n                var val = parseFloat(value);\n                if (!isNaN(val)) {\n                    valueAccessor()(val);\n                }\n            });\n            valueAccessor().subscribe(function(value) {\n                var str = JSON.stringify(value);\n                if ((str == \"0\") && ([\"-0\", \"-0.\"].indexOf(stringified()) >= 0))\n                     return;\n                 if ([\"null\", \"\"].indexOf(str) >= 0)\n                     return;\n                stringified(str);\n            });\n            ko.applyBindingsToNode(\n                element,\n                {\n                    value: stringified,\n                    valueUpdate: allBindings.get('valueUpdate'),\n                },\n                context,\n            );\n        }\n    };\n    var json_data = {\"formatted_vals\":[\"1\",\"2\",\"3\",\"4\",\"5\",\"6\",\"7\",\"8\"],\"changes\":WebIO.getval({\"name\":\"changes\",\"scope\":\"2037750531861411821\",\"id\":\"ob_92\",\"type\":\"observable\"}),\"index\":WebIO.getval({\"name\":\"index\",\"scope\":\"2037750531861411821\",\"id\":\"ob_91\",\"type\":\"observable\"})};\n    var self = this;\n    function AppViewModel() {\n        for (var key in json_data) {\n            var el = json_data[key];\n            this[key] = Array.isArray(el) ? ko.observableArray(el) : ko.observable(el);\n        }\n        \n        [this[\"formatted_val\"]=ko.computed(    function(){\n        return this.formatted_vals()[parseInt(this.index())-(1)];\n    }\n,this)]\n        [this[\"changes\"].subscribe((function (val){!(this.valueFromJulia[\"changes\"]) ? (WebIO.setval({\"name\":\"changes\",\"scope\":\"2037750531861411821\",\"id\":\"ob_92\",\"type\":\"observable\"},val)) : undefined; return this.valueFromJulia[\"changes\"]=false}),self),this[\"index\"].subscribe((function (val){!(this.valueFromJulia[\"index\"]) ? (WebIO.setval({\"name\":\"index\",\"scope\":\"2037750531861411821\",\"id\":\"ob_91\",\"type\":\"observable\"},val)) : undefined; return this.valueFromJulia[\"index\"]=false}),self)]\n        \n    }\n    self.model = new AppViewModel();\n    self.valueFromJulia = {};\n    for (var key in json_data) {\n        self.valueFromJulia[key] = false;\n    }\n    ko.applyBindings(self.model, self.dom);\n}\n);\n    (WebIO.importBlock({\"data\":[{\"name\":\"knockout\",\"type\":\"js\",\"url\":\"/assetserver/06b5713f7394e9c781d3d3143d6fd532e7f814ce-knockout.js\"},{\"name\":\"knockout_punches\",\"type\":\"js\",\"url\":\"/assetserver/695de4db56dde9805b672fe778fb2fc752e9b632-knockout_punches.js\"}],\"type\":\"async_block\"})).then((imports) => handler.apply(this, imports));\n}\n"
            ],
            "observables": {
             "changes": {
              "id": "ob_92",
              "sync": false,
              "value": 0
             },
             "index": {
              "id": "ob_91",
              "sync": true,
              "value": 4
             }
            },
            "systemjs_options": null
           },
           "nodeType": "Scope",
           "props": {},
           "type": "node"
          }
         ],
         "instanceArgs": {
          "namespace": "html",
          "tag": "div"
         },
         "nodeType": "DOM",
         "props": {
          "className": "field interact-widget"
         },
         "type": "node"
        },
        {
         "children": [
          {
           "children": [
            {
             "children": [
              {
               "children": [
                {
                 "children": [
                  "j"
                 ],
                 "instanceArgs": {
                  "namespace": "html",
                  "tag": "label"
                 },
                 "nodeType": "DOM",
                 "props": {
                  "className": "interact ",
                  "style": {
                   "padding": "5px 10px 0px 10px"
                  }
                 },
                 "type": "node"
                }
               ],
               "instanceArgs": {
                "namespace": "html",
                "tag": "div"
               },
               "nodeType": "DOM",
               "props": {
                "className": "interact-flex-row-left"
               },
               "type": "node"
              },
              {
               "children": [
                {
                 "children": [],
                 "instanceArgs": {
                  "namespace": "html",
                  "tag": "input"
                 },
                 "nodeType": "DOM",
                 "props": {
                  "attributes": {
                   "data-bind": "numericValue: index, valueUpdate: 'input', event: {change: function (){this.changes(this.changes()+1)}}",
                   "orient": "horizontal",
                   "type": "range"
                  },
                  "className": "slider slider is-fullwidth",
                  "max": 8,
                  "min": 1,
                  "step": 1,
                  "style": {}
                 },
                 "type": "node"
                }
               ],
               "instanceArgs": {
                "namespace": "html",
                "tag": "div"
               },
               "nodeType": "DOM",
               "props": {
                "className": "interact-flex-row-center"
               },
               "type": "node"
              },
              {
               "children": [
                {
                 "children": [],
                 "instanceArgs": {
                  "namespace": "html",
                  "tag": "p"
                 },
                 "nodeType": "DOM",
                 "props": {
                  "attributes": {
                   "data-bind": "text: formatted_val"
                  }
                 },
                 "type": "node"
                }
               ],
               "instanceArgs": {
                "namespace": "html",
                "tag": "div"
               },
               "nodeType": "DOM",
               "props": {
                "className": "interact-flex-row-right"
               },
               "type": "node"
              }
             ],
             "instanceArgs": {
              "namespace": "html",
              "tag": "div"
             },
             "nodeType": "DOM",
             "props": {
              "className": "interact-flex-row interact-widget"
             },
             "type": "node"
            }
           ],
           "instanceArgs": {
            "handlers": {
             "changes": [
              "(function (val){return (val!=this.model[\"changes\"]()) ? (this.valueFromJulia[\"changes\"]=true, this.model[\"changes\"](val)) : undefined})"
             ],
             "index": [
              "(function (val){return (val!=this.model[\"index\"]()) ? (this.valueFromJulia[\"index\"]=true, this.model[\"index\"](val)) : undefined})"
             ]
            },
            "id": "18273148849445575614",
            "imports": {
             "data": [
              {
               "name": "knockout",
               "type": "js",
               "url": "/assetserver/06b5713f7394e9c781d3d3143d6fd532e7f814ce-knockout.js"
              },
              {
               "name": "knockout_punches",
               "type": "js",
               "url": "/assetserver/695de4db56dde9805b672fe778fb2fc752e9b632-knockout_punches.js"
              },
              {
               "name": null,
               "type": "js",
               "url": "/assetserver/cd9cf93729ff320de8d59972e501bc7581ce199e-all.js"
              },
              {
               "name": null,
               "type": "css",
               "url": "/assetserver/2dd5b4483a1ad2cfea2512179b895d21de762858-style.css"
              },
              {
               "name": null,
               "type": "css",
               "url": "/assetserver/4a166f7fd21f97b78604bf0dafec2fdf4c488adb-bulma_confined.min.css"
              }
             ],
             "type": "async_block"
            },
            "mount_callbacks": [
             "function () {\n    var handler = (function (ko, koPunches) {\n    ko.punches.enableAll();\n    ko.bindingHandlers.numericValue = {\n        init: function(element, valueAccessor, allBindings, data, context) {\n            var stringified = ko.observable(ko.unwrap(valueAccessor()));\n            stringified.subscribe(function(value) {\n                var val = parseFloat(value);\n                if (!isNaN(val)) {\n                    valueAccessor()(val);\n                }\n            });\n            valueAccessor().subscribe(function(value) {\n                var str = JSON.stringify(value);\n                if ((str == \"0\") && ([\"-0\", \"-0.\"].indexOf(stringified()) >= 0))\n                     return;\n                 if ([\"null\", \"\"].indexOf(str) >= 0)\n                     return;\n                stringified(str);\n            });\n            ko.applyBindingsToNode(\n                element,\n                {\n                    value: stringified,\n                    valueUpdate: allBindings.get('valueUpdate'),\n                },\n                context,\n            );\n        }\n    };\n    var json_data = {\"formatted_vals\":[\"1\",\"2\",\"3\",\"4\",\"5\",\"6\",\"7\",\"8\"],\"changes\":WebIO.getval({\"name\":\"changes\",\"scope\":\"18273148849445575614\",\"id\":\"ob_94\",\"type\":\"observable\"}),\"index\":WebIO.getval({\"name\":\"index\",\"scope\":\"18273148849445575614\",\"id\":\"ob_93\",\"type\":\"observable\"})};\n    var self = this;\n    function AppViewModel() {\n        for (var key in json_data) {\n            var el = json_data[key];\n            this[key] = Array.isArray(el) ? ko.observableArray(el) : ko.observable(el);\n        }\n        \n        [this[\"formatted_val\"]=ko.computed(    function(){\n        return this.formatted_vals()[parseInt(this.index())-(1)];\n    }\n,this)]\n        [this[\"changes\"].subscribe((function (val){!(this.valueFromJulia[\"changes\"]) ? (WebIO.setval({\"name\":\"changes\",\"scope\":\"18273148849445575614\",\"id\":\"ob_94\",\"type\":\"observable\"},val)) : undefined; return this.valueFromJulia[\"changes\"]=false}),self),this[\"index\"].subscribe((function (val){!(this.valueFromJulia[\"index\"]) ? (WebIO.setval({\"name\":\"index\",\"scope\":\"18273148849445575614\",\"id\":\"ob_93\",\"type\":\"observable\"},val)) : undefined; return this.valueFromJulia[\"index\"]=false}),self)]\n        \n    }\n    self.model = new AppViewModel();\n    self.valueFromJulia = {};\n    for (var key in json_data) {\n        self.valueFromJulia[key] = false;\n    }\n    ko.applyBindings(self.model, self.dom);\n}\n);\n    (WebIO.importBlock({\"data\":[{\"name\":\"knockout\",\"type\":\"js\",\"url\":\"/assetserver/06b5713f7394e9c781d3d3143d6fd532e7f814ce-knockout.js\"},{\"name\":\"knockout_punches\",\"type\":\"js\",\"url\":\"/assetserver/695de4db56dde9805b672fe778fb2fc752e9b632-knockout_punches.js\"}],\"type\":\"async_block\"})).then((imports) => handler.apply(this, imports));\n}\n"
            ],
            "observables": {
             "changes": {
              "id": "ob_94",
              "sync": false,
              "value": 0
             },
             "index": {
              "id": "ob_93",
              "sync": true,
              "value": 4
             }
            },
            "systemjs_options": null
           },
           "nodeType": "Scope",
           "props": {},
           "type": "node"
          }
         ],
         "instanceArgs": {
          "namespace": "html",
          "tag": "div"
         },
         "nodeType": "DOM",
         "props": {
          "className": "field interact-widget"
         },
         "type": "node"
        },
        {
         "children": [
          {
           "children": [],
           "instanceArgs": {
            "id": "ob_100",
            "name": "obs-node"
           },
           "nodeType": "ObservableNode",
           "props": {},
           "type": "node"
          }
         ],
         "instanceArgs": {
          "handlers": {},
          "id": "2583927704481763173",
          "imports": {
           "data": [],
           "type": "async_block"
          },
          "mount_callbacks": [],
          "observables": {
           "obs-node": {
            "id": "ob_100",
            "sync": false,
            "value": {
             "children": [
              {
               "children": [],
               "instanceArgs": {
                "namespace": "html",
                "tag": "div"
               },
               "nodeType": "DOM",
               "props": {
                "setInnerHtml": "<?xml version=\"1.0\" encoding=\"UTF-8\"?>\n<!DOCTYPE svg PUBLIC \"-//W3C//DTD SVG 1.1//EN\"\n \"http://www.w3.org/Graphics/SVG/1.1/DTD/svg11.dtd\">\n<svg xmlns=\"http://www.w3.org/2000/svg\" version=\"1.1\"\n     width=\"150.0mm\" height=\"150.0mm\"\n     shape-rendering=\"crispEdges\">\n<rect x=\"0.0mm\" y=\"0.0mm\"\n      width=\"14.0mm\" height=\"14.0mm\"\n      fill=\"#000000\" stroke=\"none\" />\n<rect x=\"15.0mm\" y=\"0.0mm\"\n      width=\"14.0mm\" height=\"14.0mm\"\n      fill=\"#000000\" stroke=\"none\" />\n<rect x=\"30.0mm\" y=\"0.0mm\"\n      width=\"14.0mm\" height=\"14.0mm\"\n      fill=\"#000000\" stroke=\"none\" />\n<rect x=\"45.0mm\" y=\"0.0mm\"\n      width=\"14.0mm\" height=\"14.0mm\"\n      fill=\"#000000\" stroke=\"none\" />\n<rect x=\"60.0mm\" y=\"0.0mm\"\n      width=\"14.0mm\" height=\"14.0mm\"\n      fill=\"#000000\" stroke=\"none\" />\n<rect x=\"75.0mm\" y=\"0.0mm\"\n      width=\"14.0mm\" height=\"14.0mm\"\n      fill=\"#000000\" stroke=\"none\" />\n<rect x=\"90.0mm\" y=\"0.0mm\"\n      width=\"14.0mm\" height=\"14.0mm\"\n      fill=\"#000000\" stroke=\"none\" />\n<rect x=\"105.0mm\" y=\"0.0mm\"\n      width=\"14.0mm\" height=\"14.0mm\"\n      fill=\"#000000\" stroke=\"none\" />\n<rect x=\"120.0mm\" y=\"0.0mm\"\n      width=\"14.0mm\" height=\"14.0mm\"\n      fill=\"#000000\" stroke=\"none\" />\n<rect x=\"135.0mm\" y=\"0.0mm\"\n      width=\"14.0mm\" height=\"14.0mm\"\n      fill=\"#000000\" stroke=\"none\" />\n<rect x=\"0.0mm\" y=\"15.0mm\"\n      width=\"14.0mm\" height=\"14.0mm\"\n      fill=\"#000000\" stroke=\"none\" />\n<rect x=\"15.0mm\" y=\"15.0mm\"\n      width=\"14.0mm\" height=\"14.0mm\"\n      fill=\"#000000\" stroke=\"none\" />\n<rect x=\"30.0mm\" y=\"15.0mm\"\n      width=\"14.0mm\" height=\"14.0mm\"\n      fill=\"#000000\" stroke=\"none\" />\n<rect x=\"45.0mm\" y=\"15.0mm\"\n      width=\"14.0mm\" height=\"14.0mm\"\n      fill=\"#000000\" stroke=\"none\" />\n<rect x=\"60.0mm\" y=\"15.0mm\"\n      width=\"14.0mm\" height=\"14.0mm\"\n      fill=\"#000000\" stroke=\"none\" />\n<rect x=\"75.0mm\" y=\"15.0mm\"\n      width=\"14.0mm\" height=\"14.0mm\"\n      fill=\"#000000\" stroke=\"none\" />\n<rect x=\"90.0mm\" y=\"15.0mm\"\n      width=\"14.0mm\" height=\"14.0mm\"\n      fill=\"#000000\" stroke=\"none\" />\n<rect x=\"105.0mm\" y=\"15.0mm\"\n      width=\"14.0mm\" height=\"14.0mm\"\n      fill=\"#000000\" stroke=\"none\" />\n<rect x=\"120.0mm\" y=\"15.0mm\"\n      width=\"14.0mm\" height=\"14.0mm\"\n      fill=\"#000000\" stroke=\"none\" />\n<rect x=\"135.0mm\" y=\"15.0mm\"\n      width=\"14.0mm\" height=\"14.0mm\"\n      fill=\"#000000\" stroke=\"none\" />\n<rect x=\"0.0mm\" y=\"30.0mm\"\n      width=\"14.0mm\" height=\"14.0mm\"\n      fill=\"#000000\" stroke=\"none\" />\n<rect x=\"15.0mm\" y=\"30.0mm\"\n      width=\"14.0mm\" height=\"14.0mm\"\n      fill=\"#000000\" stroke=\"none\" />\n<rect x=\"30.0mm\" y=\"30.0mm\"\n      width=\"14.0mm\" height=\"14.0mm\"\n      fill=\"#000000\" stroke=\"none\" />\n<rect x=\"45.0mm\" y=\"30.0mm\"\n      width=\"14.0mm\" height=\"14.0mm\"\n      fill=\"#000000\" stroke=\"none\" />\n<rect x=\"60.0mm\" y=\"30.0mm\"\n      width=\"14.0mm\" height=\"14.0mm\"\n      fill=\"#000000\" stroke=\"none\" />\n<rect x=\"75.0mm\" y=\"30.0mm\"\n      width=\"14.0mm\" height=\"14.0mm\"\n      fill=\"#000000\" stroke=\"none\" />\n<rect x=\"90.0mm\" y=\"30.0mm\"\n      width=\"14.0mm\" height=\"14.0mm\"\n      fill=\"#000000\" stroke=\"none\" />\n<rect x=\"105.0mm\" y=\"30.0mm\"\n      width=\"14.0mm\" height=\"14.0mm\"\n      fill=\"#000000\" stroke=\"none\" />\n<rect x=\"120.0mm\" y=\"30.0mm\"\n      width=\"14.0mm\" height=\"14.0mm\"\n      fill=\"#000000\" stroke=\"none\" />\n<rect x=\"135.0mm\" y=\"30.0mm\"\n      width=\"14.0mm\" height=\"14.0mm\"\n      fill=\"#000000\" stroke=\"none\" />\n<rect x=\"0.0mm\" y=\"45.0mm\"\n      width=\"14.0mm\" height=\"14.0mm\"\n      fill=\"#000000\" stroke=\"none\" />\n<rect x=\"15.0mm\" y=\"45.0mm\"\n      width=\"14.0mm\" height=\"14.0mm\"\n      fill=\"#000000\" stroke=\"none\" />\n<rect x=\"30.0mm\" y=\"45.0mm\"\n      width=\"14.0mm\" height=\"14.0mm\"\n      fill=\"#000000\" stroke=\"none\" />\n<rect x=\"45.0mm\" y=\"45.0mm\"\n      width=\"14.0mm\" height=\"14.0mm\"\n      fill=\"#00D6FF\" stroke=\"none\" />\n<rect x=\"60.0mm\" y=\"45.0mm\"\n      width=\"14.0mm\" height=\"14.0mm\"\n      fill=\"#00D6FF\" stroke=\"none\" />\n<rect x=\"75.0mm\" y=\"45.0mm\"\n      width=\"14.0mm\" height=\"14.0mm\"\n      fill=\"#00D6FF\" stroke=\"none\" />\n<rect x=\"90.0mm\" y=\"45.0mm\"\n      width=\"14.0mm\" height=\"14.0mm\"\n      fill=\"#000000\" stroke=\"none\" />\n<rect x=\"105.0mm\" y=\"45.0mm\"\n      width=\"14.0mm\" height=\"14.0mm\"\n      fill=\"#000000\" stroke=\"none\" />\n<rect x=\"120.0mm\" y=\"45.0mm\"\n      width=\"14.0mm\" height=\"14.0mm\"\n      fill=\"#000000\" stroke=\"none\" />\n<rect x=\"135.0mm\" y=\"45.0mm\"\n      width=\"14.0mm\" height=\"14.0mm\"\n      fill=\"#000000\" stroke=\"none\" />\n<rect x=\"0.0mm\" y=\"60.0mm\"\n      width=\"14.0mm\" height=\"14.0mm\"\n      fill=\"#000000\" stroke=\"none\" />\n<rect x=\"15.0mm\" y=\"60.0mm\"\n      width=\"14.0mm\" height=\"14.0mm\"\n      fill=\"#000000\" stroke=\"none\" />\n<rect x=\"30.0mm\" y=\"60.0mm\"\n      width=\"14.0mm\" height=\"14.0mm\"\n      fill=\"#000000\" stroke=\"none\" />\n<rect x=\"45.0mm\" y=\"60.0mm\"\n      width=\"14.0mm\" height=\"14.0mm\"\n      fill=\"#00D6FF\" stroke=\"none\" />\n<rect x=\"60.0mm\" y=\"60.0mm\"\n      width=\"14.0mm\" height=\"14.0mm\"\n      fill=\"#00D6FF\" stroke=\"none\" />\n<rect x=\"75.0mm\" y=\"60.0mm\"\n      width=\"14.0mm\" height=\"14.0mm\"\n      fill=\"#00D6FF\" stroke=\"none\" />\n<rect x=\"90.0mm\" y=\"60.0mm\"\n      width=\"14.0mm\" height=\"14.0mm\"\n      fill=\"#000000\" stroke=\"none\" />\n<rect x=\"105.0mm\" y=\"60.0mm\"\n      width=\"14.0mm\" height=\"14.0mm\"\n      fill=\"#000000\" stroke=\"none\" />\n<rect x=\"120.0mm\" y=\"60.0mm\"\n      width=\"14.0mm\" height=\"14.0mm\"\n      fill=\"#000000\" stroke=\"none\" />\n<rect x=\"135.0mm\" y=\"60.0mm\"\n      width=\"14.0mm\" height=\"14.0mm\"\n      fill=\"#000000\" stroke=\"none\" />\n<rect x=\"0.0mm\" y=\"75.0mm\"\n      width=\"14.0mm\" height=\"14.0mm\"\n      fill=\"#000000\" stroke=\"none\" />\n<rect x=\"15.0mm\" y=\"75.0mm\"\n      width=\"14.0mm\" height=\"14.0mm\"\n      fill=\"#000000\" stroke=\"none\" />\n<rect x=\"30.0mm\" y=\"75.0mm\"\n      width=\"14.0mm\" height=\"14.0mm\"\n      fill=\"#000000\" stroke=\"none\" />\n<rect x=\"45.0mm\" y=\"75.0mm\"\n      width=\"14.0mm\" height=\"14.0mm\"\n      fill=\"#00D6FF\" stroke=\"none\" />\n<rect x=\"60.0mm\" y=\"75.0mm\"\n      width=\"14.0mm\" height=\"14.0mm\"\n      fill=\"#00D6FF\" stroke=\"none\" />\n<rect x=\"75.0mm\" y=\"75.0mm\"\n      width=\"14.0mm\" height=\"14.0mm\"\n      fill=\"#00D6FF\" stroke=\"none\" />\n<rect x=\"90.0mm\" y=\"75.0mm\"\n      width=\"14.0mm\" height=\"14.0mm\"\n      fill=\"#000000\" stroke=\"none\" />\n<rect x=\"105.0mm\" y=\"75.0mm\"\n      width=\"14.0mm\" height=\"14.0mm\"\n      fill=\"#000000\" stroke=\"none\" />\n<rect x=\"120.0mm\" y=\"75.0mm\"\n      width=\"14.0mm\" height=\"14.0mm\"\n      fill=\"#000000\" stroke=\"none\" />\n<rect x=\"135.0mm\" y=\"75.0mm\"\n      width=\"14.0mm\" height=\"14.0mm\"\n      fill=\"#000000\" stroke=\"none\" />\n<rect x=\"0.0mm\" y=\"90.0mm\"\n      width=\"14.0mm\" height=\"14.0mm\"\n      fill=\"#000000\" stroke=\"none\" />\n<rect x=\"15.0mm\" y=\"90.0mm\"\n      width=\"14.0mm\" height=\"14.0mm\"\n      fill=\"#000000\" stroke=\"none\" />\n<rect x=\"30.0mm\" y=\"90.0mm\"\n      width=\"14.0mm\" height=\"14.0mm\"\n      fill=\"#000000\" stroke=\"none\" />\n<rect x=\"45.0mm\" y=\"90.0mm\"\n      width=\"14.0mm\" height=\"14.0mm\"\n      fill=\"#000000\" stroke=\"none\" />\n<rect x=\"60.0mm\" y=\"90.0mm\"\n      width=\"14.0mm\" height=\"14.0mm\"\n      fill=\"#000000\" stroke=\"none\" />\n<rect x=\"75.0mm\" y=\"90.0mm\"\n      width=\"14.0mm\" height=\"14.0mm\"\n      fill=\"#000000\" stroke=\"none\" />\n<rect x=\"90.0mm\" y=\"90.0mm\"\n      width=\"14.0mm\" height=\"14.0mm\"\n      fill=\"#000000\" stroke=\"none\" />\n<rect x=\"105.0mm\" y=\"90.0mm\"\n      width=\"14.0mm\" height=\"14.0mm\"\n      fill=\"#000000\" stroke=\"none\" />\n<rect x=\"120.0mm\" y=\"90.0mm\"\n      width=\"14.0mm\" height=\"14.0mm\"\n      fill=\"#000000\" stroke=\"none\" />\n<rect x=\"135.0mm\" y=\"90.0mm\"\n      width=\"14.0mm\" height=\"14.0mm\"\n      fill=\"#000000\" stroke=\"none\" />\n<rect x=\"0.0mm\" y=\"105.0mm\"\n      width=\"14.0mm\" height=\"14.0mm\"\n      fill=\"#000000\" stroke=\"none\" />\n<rect x=\"15.0mm\" y=\"105.0mm\"\n      width=\"14.0mm\" height=\"14.0mm\"\n      fill=\"#000000\" stroke=\"none\" />\n<rect x=\"30.0mm\" y=\"105.0mm\"\n      width=\"14.0mm\" height=\"14.0mm\"\n      fill=\"#000000\" stroke=\"none\" />\n<rect x=\"45.0mm\" y=\"105.0mm\"\n      width=\"14.0mm\" height=\"14.0mm\"\n      fill=\"#000000\" stroke=\"none\" />\n<rect x=\"60.0mm\" y=\"105.0mm\"\n      width=\"14.0mm\" height=\"14.0mm\"\n      fill=\"#000000\" stroke=\"none\" />\n<rect x=\"75.0mm\" y=\"105.0mm\"\n      width=\"14.0mm\" height=\"14.0mm\"\n      fill=\"#000000\" stroke=\"none\" />\n<rect x=\"90.0mm\" y=\"105.0mm\"\n      width=\"14.0mm\" height=\"14.0mm\"\n      fill=\"#000000\" stroke=\"none\" />\n<rect x=\"105.0mm\" y=\"105.0mm\"\n      width=\"14.0mm\" height=\"14.0mm\"\n      fill=\"#000000\" stroke=\"none\" />\n<rect x=\"120.0mm\" y=\"105.0mm\"\n      width=\"14.0mm\" height=\"14.0mm\"\n      fill=\"#000000\" stroke=\"none\" />\n<rect x=\"135.0mm\" y=\"105.0mm\"\n      width=\"14.0mm\" height=\"14.0mm\"\n      fill=\"#000000\" stroke=\"none\" />\n<rect x=\"0.0mm\" y=\"120.0mm\"\n      width=\"14.0mm\" height=\"14.0mm\"\n      fill=\"#000000\" stroke=\"none\" />\n<rect x=\"15.0mm\" y=\"120.0mm\"\n      width=\"14.0mm\" height=\"14.0mm\"\n      fill=\"#000000\" stroke=\"none\" />\n<rect x=\"30.0mm\" y=\"120.0mm\"\n      width=\"14.0mm\" height=\"14.0mm\"\n      fill=\"#000000\" stroke=\"none\" />\n<rect x=\"45.0mm\" y=\"120.0mm\"\n      width=\"14.0mm\" height=\"14.0mm\"\n      fill=\"#000000\" stroke=\"none\" />\n<rect x=\"60.0mm\" y=\"120.0mm\"\n      width=\"14.0mm\" height=\"14.0mm\"\n      fill=\"#000000\" stroke=\"none\" />\n<rect x=\"75.0mm\" y=\"120.0mm\"\n      width=\"14.0mm\" height=\"14.0mm\"\n      fill=\"#000000\" stroke=\"none\" />\n<rect x=\"90.0mm\" y=\"120.0mm\"\n      width=\"14.0mm\" height=\"14.0mm\"\n      fill=\"#000000\" stroke=\"none\" />\n<rect x=\"105.0mm\" y=\"120.0mm\"\n      width=\"14.0mm\" height=\"14.0mm\"\n      fill=\"#000000\" stroke=\"none\" />\n<rect x=\"120.0mm\" y=\"120.0mm\"\n      width=\"14.0mm\" height=\"14.0mm\"\n      fill=\"#000000\" stroke=\"none\" />\n<rect x=\"135.0mm\" y=\"120.0mm\"\n      width=\"14.0mm\" height=\"14.0mm\"\n      fill=\"#000000\" stroke=\"none\" />\n<rect x=\"0.0mm\" y=\"135.0mm\"\n      width=\"14.0mm\" height=\"14.0mm\"\n      fill=\"#000000\" stroke=\"none\" />\n<rect x=\"15.0mm\" y=\"135.0mm\"\n      width=\"14.0mm\" height=\"14.0mm\"\n      fill=\"#000000\" stroke=\"none\" />\n<rect x=\"30.0mm\" y=\"135.0mm\"\n      width=\"14.0mm\" height=\"14.0mm\"\n      fill=\"#000000\" stroke=\"none\" />\n<rect x=\"45.0mm\" y=\"135.0mm\"\n      width=\"14.0mm\" height=\"14.0mm\"\n      fill=\"#000000\" stroke=\"none\" />\n<rect x=\"60.0mm\" y=\"135.0mm\"\n      width=\"14.0mm\" height=\"14.0mm\"\n      fill=\"#000000\" stroke=\"none\" />\n<rect x=\"75.0mm\" y=\"135.0mm\"\n      width=\"14.0mm\" height=\"14.0mm\"\n      fill=\"#000000\" stroke=\"none\" />\n<rect x=\"90.0mm\" y=\"135.0mm\"\n      width=\"14.0mm\" height=\"14.0mm\"\n      fill=\"#000000\" stroke=\"none\" />\n<rect x=\"105.0mm\" y=\"135.0mm\"\n      width=\"14.0mm\" height=\"14.0mm\"\n      fill=\"#000000\" stroke=\"none\" />\n<rect x=\"120.0mm\" y=\"135.0mm\"\n      width=\"14.0mm\" height=\"14.0mm\"\n      fill=\"#000000\" stroke=\"none\" />\n<rect x=\"135.0mm\" y=\"135.0mm\"\n      width=\"14.0mm\" height=\"14.0mm\"\n      fill=\"#000000\" stroke=\"none\" />\n</svg>"
               },
               "type": "node"
              }
             ],
             "instanceArgs": {
              "namespace": "html",
              "tag": "div"
             },
             "nodeType": "DOM",
             "props": {
              "className": "interact-flex-row interact-widget"
             },
             "type": "node"
            }
           }
          },
          "systemjs_options": null
         },
         "nodeType": "Scope",
         "props": {},
         "type": "node"
        }
       ],
       "instanceArgs": {
        "namespace": "html",
        "tag": "div"
       },
       "nodeType": "DOM",
       "props": {},
       "type": "node"
      },
      "text/html": [
       "<div\n",
       "    class=\"webio-mountpoint\"\n",
       "    data-webio-mountpoint=\"2895692438022598134\"\n",
       ">\n",
       "    <script>\n",
       "    if (window.require && require.defined && require.defined(\"nbextensions/webio/main\")) {\n",
       "        console.log(\"Jupyter WebIO extension detected, not mounting.\");\n",
       "    } else if (window.WebIO) {\n",
       "        WebIO.mount(\n",
       "            document.querySelector('[data-webio-mountpoint=\"2895692438022598134\"]'),\n",
       "            {\"props\":{},\"nodeType\":\"DOM\",\"type\":\"node\",\"instanceArgs\":{\"namespace\":\"html\",\"tag\":\"div\"},\"children\":[{\"props\":{\"className\":\"field interact-widget\"},\"nodeType\":\"DOM\",\"type\":\"node\",\"instanceArgs\":{\"namespace\":\"html\",\"tag\":\"div\"},\"children\":[{\"props\":{},\"nodeType\":\"Scope\",\"type\":\"node\",\"instanceArgs\":{\"imports\":{\"data\":[{\"name\":\"knockout\",\"type\":\"js\",\"url\":\"\\/assetserver\\/06b5713f7394e9c781d3d3143d6fd532e7f814ce-knockout.js\"},{\"name\":\"knockout_punches\",\"type\":\"js\",\"url\":\"\\/assetserver\\/695de4db56dde9805b672fe778fb2fc752e9b632-knockout_punches.js\"},{\"name\":null,\"type\":\"js\",\"url\":\"\\/assetserver\\/cd9cf93729ff320de8d59972e501bc7581ce199e-all.js\"},{\"name\":null,\"type\":\"css\",\"url\":\"\\/assetserver\\/2dd5b4483a1ad2cfea2512179b895d21de762858-style.css\"},{\"name\":null,\"type\":\"css\",\"url\":\"\\/assetserver\\/4a166f7fd21f97b78604bf0dafec2fdf4c488adb-bulma_confined.min.css\"}],\"type\":\"async_block\"},\"id\":\"2037750531861411821\",\"handlers\":{\"changes\":[\"(function (val){return (val!=this.model[\\\"changes\\\"]()) ? (this.valueFromJulia[\\\"changes\\\"]=true, this.model[\\\"changes\\\"](val)) : undefined})\"],\"index\":[\"(function (val){return (val!=this.model[\\\"index\\\"]()) ? (this.valueFromJulia[\\\"index\\\"]=true, this.model[\\\"index\\\"](val)) : undefined})\"]},\"systemjs_options\":null,\"mount_callbacks\":[\"function () {\\n    var handler = (function (ko, koPunches) {\\n    ko.punches.enableAll();\\n    ko.bindingHandlers.numericValue = {\\n        init: function(element, valueAccessor, allBindings, data, context) {\\n            var stringified = ko.observable(ko.unwrap(valueAccessor()));\\n            stringified.subscribe(function(value) {\\n                var val = parseFloat(value);\\n                if (!isNaN(val)) {\\n                    valueAccessor()(val);\\n                }\\n            });\\n            valueAccessor().subscribe(function(value) {\\n                var str = JSON.stringify(value);\\n                if ((str == \\\"0\\\") && ([\\\"-0\\\", \\\"-0.\\\"].indexOf(stringified()) >= 0))\\n                     return;\\n                 if ([\\\"null\\\", \\\"\\\"].indexOf(str) >= 0)\\n                     return;\\n                stringified(str);\\n            });\\n            ko.applyBindingsToNode(\\n                element,\\n                {\\n                    value: stringified,\\n                    valueUpdate: allBindings.get('valueUpdate'),\\n                },\\n                context,\\n            );\\n        }\\n    };\\n    var json_data = {\\\"formatted_vals\\\":[\\\"1\\\",\\\"2\\\",\\\"3\\\",\\\"4\\\",\\\"5\\\",\\\"6\\\",\\\"7\\\",\\\"8\\\"],\\\"changes\\\":WebIO.getval({\\\"name\\\":\\\"changes\\\",\\\"scope\\\":\\\"2037750531861411821\\\",\\\"id\\\":\\\"ob_92\\\",\\\"type\\\":\\\"observable\\\"}),\\\"index\\\":WebIO.getval({\\\"name\\\":\\\"index\\\",\\\"scope\\\":\\\"2037750531861411821\\\",\\\"id\\\":\\\"ob_91\\\",\\\"type\\\":\\\"observable\\\"})};\\n    var self = this;\\n    function AppViewModel() {\\n        for (var key in json_data) {\\n            var el = json_data[key];\\n            this[key] = Array.isArray(el) ? ko.observableArray(el) : ko.observable(el);\\n        }\\n        \\n        [this[\\\"formatted_val\\\"]=ko.computed(    function(){\\n        return this.formatted_vals()[parseInt(this.index())-(1)];\\n    }\\n,this)]\\n        [this[\\\"changes\\\"].subscribe((function (val){!(this.valueFromJulia[\\\"changes\\\"]) ? (WebIO.setval({\\\"name\\\":\\\"changes\\\",\\\"scope\\\":\\\"2037750531861411821\\\",\\\"id\\\":\\\"ob_92\\\",\\\"type\\\":\\\"observable\\\"},val)) : undefined; return this.valueFromJulia[\\\"changes\\\"]=false}),self),this[\\\"index\\\"].subscribe((function (val){!(this.valueFromJulia[\\\"index\\\"]) ? (WebIO.setval({\\\"name\\\":\\\"index\\\",\\\"scope\\\":\\\"2037750531861411821\\\",\\\"id\\\":\\\"ob_91\\\",\\\"type\\\":\\\"observable\\\"},val)) : undefined; return this.valueFromJulia[\\\"index\\\"]=false}),self)]\\n        \\n    }\\n    self.model = new AppViewModel();\\n    self.valueFromJulia = {};\\n    for (var key in json_data) {\\n        self.valueFromJulia[key] = false;\\n    }\\n    ko.applyBindings(self.model, self.dom);\\n}\\n);\\n    (WebIO.importBlock({\\\"data\\\":[{\\\"name\\\":\\\"knockout\\\",\\\"type\\\":\\\"js\\\",\\\"url\\\":\\\"\\/assetserver\\/06b5713f7394e9c781d3d3143d6fd532e7f814ce-knockout.js\\\"},{\\\"name\\\":\\\"knockout_punches\\\",\\\"type\\\":\\\"js\\\",\\\"url\\\":\\\"\\/assetserver\\/695de4db56dde9805b672fe778fb2fc752e9b632-knockout_punches.js\\\"}],\\\"type\\\":\\\"async_block\\\"})).then((imports) => handler.apply(this, imports));\\n}\\n\"],\"observables\":{\"changes\":{\"sync\":false,\"id\":\"ob_92\",\"value\":0},\"index\":{\"sync\":true,\"id\":\"ob_91\",\"value\":4}}},\"children\":[{\"props\":{\"className\":\"interact-flex-row interact-widget\"},\"nodeType\":\"DOM\",\"type\":\"node\",\"instanceArgs\":{\"namespace\":\"html\",\"tag\":\"div\"},\"children\":[{\"props\":{\"className\":\"interact-flex-row-left\"},\"nodeType\":\"DOM\",\"type\":\"node\",\"instanceArgs\":{\"namespace\":\"html\",\"tag\":\"div\"},\"children\":[{\"props\":{\"className\":\"interact \",\"style\":{\"padding\":\"5px 10px 0px 10px\"}},\"nodeType\":\"DOM\",\"type\":\"node\",\"instanceArgs\":{\"namespace\":\"html\",\"tag\":\"label\"},\"children\":[\"i\"]}]},{\"props\":{\"className\":\"interact-flex-row-center\"},\"nodeType\":\"DOM\",\"type\":\"node\",\"instanceArgs\":{\"namespace\":\"html\",\"tag\":\"div\"},\"children\":[{\"props\":{\"max\":8,\"min\":1,\"attributes\":{\"type\":\"range\",\"data-bind\":\"numericValue: index, valueUpdate: 'input', event: {change: function (){this.changes(this.changes()+1)}}\",\"orient\":\"horizontal\"},\"step\":1,\"className\":\"slider slider is-fullwidth\",\"style\":{}},\"nodeType\":\"DOM\",\"type\":\"node\",\"instanceArgs\":{\"namespace\":\"html\",\"tag\":\"input\"},\"children\":[]}]},{\"props\":{\"className\":\"interact-flex-row-right\"},\"nodeType\":\"DOM\",\"type\":\"node\",\"instanceArgs\":{\"namespace\":\"html\",\"tag\":\"div\"},\"children\":[{\"props\":{\"attributes\":{\"data-bind\":\"text: formatted_val\"}},\"nodeType\":\"DOM\",\"type\":\"node\",\"instanceArgs\":{\"namespace\":\"html\",\"tag\":\"p\"},\"children\":[]}]}]}]}]},{\"props\":{\"className\":\"field interact-widget\"},\"nodeType\":\"DOM\",\"type\":\"node\",\"instanceArgs\":{\"namespace\":\"html\",\"tag\":\"div\"},\"children\":[{\"props\":{},\"nodeType\":\"Scope\",\"type\":\"node\",\"instanceArgs\":{\"imports\":{\"data\":[{\"name\":\"knockout\",\"type\":\"js\",\"url\":\"\\/assetserver\\/06b5713f7394e9c781d3d3143d6fd532e7f814ce-knockout.js\"},{\"name\":\"knockout_punches\",\"type\":\"js\",\"url\":\"\\/assetserver\\/695de4db56dde9805b672fe778fb2fc752e9b632-knockout_punches.js\"},{\"name\":null,\"type\":\"js\",\"url\":\"\\/assetserver\\/cd9cf93729ff320de8d59972e501bc7581ce199e-all.js\"},{\"name\":null,\"type\":\"css\",\"url\":\"\\/assetserver\\/2dd5b4483a1ad2cfea2512179b895d21de762858-style.css\"},{\"name\":null,\"type\":\"css\",\"url\":\"\\/assetserver\\/4a166f7fd21f97b78604bf0dafec2fdf4c488adb-bulma_confined.min.css\"}],\"type\":\"async_block\"},\"id\":\"18273148849445575614\",\"handlers\":{\"changes\":[\"(function (val){return (val!=this.model[\\\"changes\\\"]()) ? (this.valueFromJulia[\\\"changes\\\"]=true, this.model[\\\"changes\\\"](val)) : undefined})\"],\"index\":[\"(function (val){return (val!=this.model[\\\"index\\\"]()) ? (this.valueFromJulia[\\\"index\\\"]=true, this.model[\\\"index\\\"](val)) : undefined})\"]},\"systemjs_options\":null,\"mount_callbacks\":[\"function () {\\n    var handler = (function (ko, koPunches) {\\n    ko.punches.enableAll();\\n    ko.bindingHandlers.numericValue = {\\n        init: function(element, valueAccessor, allBindings, data, context) {\\n            var stringified = ko.observable(ko.unwrap(valueAccessor()));\\n            stringified.subscribe(function(value) {\\n                var val = parseFloat(value);\\n                if (!isNaN(val)) {\\n                    valueAccessor()(val);\\n                }\\n            });\\n            valueAccessor().subscribe(function(value) {\\n                var str = JSON.stringify(value);\\n                if ((str == \\\"0\\\") && ([\\\"-0\\\", \\\"-0.\\\"].indexOf(stringified()) >= 0))\\n                     return;\\n                 if ([\\\"null\\\", \\\"\\\"].indexOf(str) >= 0)\\n                     return;\\n                stringified(str);\\n            });\\n            ko.applyBindingsToNode(\\n                element,\\n                {\\n                    value: stringified,\\n                    valueUpdate: allBindings.get('valueUpdate'),\\n                },\\n                context,\\n            );\\n        }\\n    };\\n    var json_data = {\\\"formatted_vals\\\":[\\\"1\\\",\\\"2\\\",\\\"3\\\",\\\"4\\\",\\\"5\\\",\\\"6\\\",\\\"7\\\",\\\"8\\\"],\\\"changes\\\":WebIO.getval({\\\"name\\\":\\\"changes\\\",\\\"scope\\\":\\\"18273148849445575614\\\",\\\"id\\\":\\\"ob_94\\\",\\\"type\\\":\\\"observable\\\"}),\\\"index\\\":WebIO.getval({\\\"name\\\":\\\"index\\\",\\\"scope\\\":\\\"18273148849445575614\\\",\\\"id\\\":\\\"ob_93\\\",\\\"type\\\":\\\"observable\\\"})};\\n    var self = this;\\n    function AppViewModel() {\\n        for (var key in json_data) {\\n            var el = json_data[key];\\n            this[key] = Array.isArray(el) ? ko.observableArray(el) : ko.observable(el);\\n        }\\n        \\n        [this[\\\"formatted_val\\\"]=ko.computed(    function(){\\n        return this.formatted_vals()[parseInt(this.index())-(1)];\\n    }\\n,this)]\\n        [this[\\\"changes\\\"].subscribe((function (val){!(this.valueFromJulia[\\\"changes\\\"]) ? (WebIO.setval({\\\"name\\\":\\\"changes\\\",\\\"scope\\\":\\\"18273148849445575614\\\",\\\"id\\\":\\\"ob_94\\\",\\\"type\\\":\\\"observable\\\"},val)) : undefined; return this.valueFromJulia[\\\"changes\\\"]=false}),self),this[\\\"index\\\"].subscribe((function (val){!(this.valueFromJulia[\\\"index\\\"]) ? (WebIO.setval({\\\"name\\\":\\\"index\\\",\\\"scope\\\":\\\"18273148849445575614\\\",\\\"id\\\":\\\"ob_93\\\",\\\"type\\\":\\\"observable\\\"},val)) : undefined; return this.valueFromJulia[\\\"index\\\"]=false}),self)]\\n        \\n    }\\n    self.model = new AppViewModel();\\n    self.valueFromJulia = {};\\n    for (var key in json_data) {\\n        self.valueFromJulia[key] = false;\\n    }\\n    ko.applyBindings(self.model, self.dom);\\n}\\n);\\n    (WebIO.importBlock({\\\"data\\\":[{\\\"name\\\":\\\"knockout\\\",\\\"type\\\":\\\"js\\\",\\\"url\\\":\\\"\\/assetserver\\/06b5713f7394e9c781d3d3143d6fd532e7f814ce-knockout.js\\\"},{\\\"name\\\":\\\"knockout_punches\\\",\\\"type\\\":\\\"js\\\",\\\"url\\\":\\\"\\/assetserver\\/695de4db56dde9805b672fe778fb2fc752e9b632-knockout_punches.js\\\"}],\\\"type\\\":\\\"async_block\\\"})).then((imports) => handler.apply(this, imports));\\n}\\n\"],\"observables\":{\"changes\":{\"sync\":false,\"id\":\"ob_94\",\"value\":0},\"index\":{\"sync\":true,\"id\":\"ob_93\",\"value\":4}}},\"children\":[{\"props\":{\"className\":\"interact-flex-row interact-widget\"},\"nodeType\":\"DOM\",\"type\":\"node\",\"instanceArgs\":{\"namespace\":\"html\",\"tag\":\"div\"},\"children\":[{\"props\":{\"className\":\"interact-flex-row-left\"},\"nodeType\":\"DOM\",\"type\":\"node\",\"instanceArgs\":{\"namespace\":\"html\",\"tag\":\"div\"},\"children\":[{\"props\":{\"className\":\"interact \",\"style\":{\"padding\":\"5px 10px 0px 10px\"}},\"nodeType\":\"DOM\",\"type\":\"node\",\"instanceArgs\":{\"namespace\":\"html\",\"tag\":\"label\"},\"children\":[\"j\"]}]},{\"props\":{\"className\":\"interact-flex-row-center\"},\"nodeType\":\"DOM\",\"type\":\"node\",\"instanceArgs\":{\"namespace\":\"html\",\"tag\":\"div\"},\"children\":[{\"props\":{\"max\":8,\"min\":1,\"attributes\":{\"type\":\"range\",\"data-bind\":\"numericValue: index, valueUpdate: 'input', event: {change: function (){this.changes(this.changes()+1)}}\",\"orient\":\"horizontal\"},\"step\":1,\"className\":\"slider slider is-fullwidth\",\"style\":{}},\"nodeType\":\"DOM\",\"type\":\"node\",\"instanceArgs\":{\"namespace\":\"html\",\"tag\":\"input\"},\"children\":[]}]},{\"props\":{\"className\":\"interact-flex-row-right\"},\"nodeType\":\"DOM\",\"type\":\"node\",\"instanceArgs\":{\"namespace\":\"html\",\"tag\":\"div\"},\"children\":[{\"props\":{\"attributes\":{\"data-bind\":\"text: formatted_val\"}},\"nodeType\":\"DOM\",\"type\":\"node\",\"instanceArgs\":{\"namespace\":\"html\",\"tag\":\"p\"},\"children\":[]}]}]}]}]},{\"props\":{},\"nodeType\":\"Scope\",\"type\":\"node\",\"instanceArgs\":{\"imports\":{\"data\":[],\"type\":\"async_block\"},\"id\":\"2184467551456980752\",\"handlers\":{},\"systemjs_options\":null,\"mount_callbacks\":[],\"observables\":{\"obs-node\":{\"sync\":false,\"id\":\"ob_98\",\"value\":{\"props\":{\"className\":\"interact-flex-row interact-widget\"},\"nodeType\":\"DOM\",\"type\":\"node\",\"instanceArgs\":{\"namespace\":\"html\",\"tag\":\"div\"},\"children\":[{\"props\":{\"setInnerHtml\":\"<?xml version=\\\"1.0\\\" encoding=\\\"UTF-8\\\"?>\\n<!DOCTYPE svg PUBLIC \\\"-\\/\\/W3C\\/\\/DTD SVG 1.1\\/\\/EN\\\"\\n \\\"http:\\/\\/www.w3.org\\/Graphics\\/SVG\\/1.1\\/DTD\\/svg11.dtd\\\">\\n<svg xmlns=\\\"http:\\/\\/www.w3.org\\/2000\\/svg\\\" version=\\\"1.1\\\"\\n     width=\\\"150.0mm\\\" height=\\\"150.0mm\\\"\\n     shape-rendering=\\\"crispEdges\\\">\\n<rect x=\\\"0.0mm\\\" y=\\\"0.0mm\\\"\\n      width=\\\"14.0mm\\\" height=\\\"14.0mm\\\"\\n      fill=\\\"#000000\\\" stroke=\\\"none\\\" \\/>\\n<rect x=\\\"15.0mm\\\" y=\\\"0.0mm\\\"\\n      width=\\\"14.0mm\\\" height=\\\"14.0mm\\\"\\n      fill=\\\"#000000\\\" stroke=\\\"none\\\" \\/>\\n<rect x=\\\"30.0mm\\\" y=\\\"0.0mm\\\"\\n      width=\\\"14.0mm\\\" height=\\\"14.0mm\\\"\\n      fill=\\\"#000000\\\" stroke=\\\"none\\\" \\/>\\n<rect x=\\\"45.0mm\\\" y=\\\"0.0mm\\\"\\n      width=\\\"14.0mm\\\" height=\\\"14.0mm\\\"\\n      fill=\\\"#000000\\\" stroke=\\\"none\\\" \\/>\\n<rect x=\\\"60.0mm\\\" y=\\\"0.0mm\\\"\\n      width=\\\"14.0mm\\\" height=\\\"14.0mm\\\"\\n      fill=\\\"#000000\\\" stroke=\\\"none\\\" \\/>\\n<rect x=\\\"75.0mm\\\" y=\\\"0.0mm\\\"\\n      width=\\\"14.0mm\\\" height=\\\"14.0mm\\\"\\n      fill=\\\"#000000\\\" stroke=\\\"none\\\" \\/>\\n<rect x=\\\"90.0mm\\\" y=\\\"0.0mm\\\"\\n      width=\\\"14.0mm\\\" height=\\\"14.0mm\\\"\\n      fill=\\\"#000000\\\" stroke=\\\"none\\\" \\/>\\n<rect x=\\\"105.0mm\\\" y=\\\"0.0mm\\\"\\n      width=\\\"14.0mm\\\" height=\\\"14.0mm\\\"\\n      fill=\\\"#000000\\\" stroke=\\\"none\\\" \\/>\\n<rect x=\\\"120.0mm\\\" y=\\\"0.0mm\\\"\\n      width=\\\"14.0mm\\\" height=\\\"14.0mm\\\"\\n      fill=\\\"#000000\\\" stroke=\\\"none\\\" \\/>\\n<rect x=\\\"135.0mm\\\" y=\\\"0.0mm\\\"\\n      width=\\\"14.0mm\\\" height=\\\"14.0mm\\\"\\n      fill=\\\"#000000\\\" stroke=\\\"none\\\" \\/>\\n<rect x=\\\"0.0mm\\\" y=\\\"15.0mm\\\"\\n      width=\\\"14.0mm\\\" height=\\\"14.0mm\\\"\\n      fill=\\\"#000000\\\" stroke=\\\"none\\\" \\/>\\n<rect x=\\\"15.0mm\\\" y=\\\"15.0mm\\\"\\n      width=\\\"14.0mm\\\" height=\\\"14.0mm\\\"\\n      fill=\\\"#000000\\\" stroke=\\\"none\\\" \\/>\\n<rect x=\\\"30.0mm\\\" y=\\\"15.0mm\\\"\\n      width=\\\"14.0mm\\\" height=\\\"14.0mm\\\"\\n      fill=\\\"#000000\\\" stroke=\\\"none\\\" \\/>\\n<rect x=\\\"45.0mm\\\" y=\\\"15.0mm\\\"\\n      width=\\\"14.0mm\\\" height=\\\"14.0mm\\\"\\n      fill=\\\"#000000\\\" stroke=\\\"none\\\" \\/>\\n<rect x=\\\"60.0mm\\\" y=\\\"15.0mm\\\"\\n      width=\\\"14.0mm\\\" height=\\\"14.0mm\\\"\\n      fill=\\\"#000000\\\" stroke=\\\"none\\\" \\/>\\n<rect x=\\\"75.0mm\\\" y=\\\"15.0mm\\\"\\n      width=\\\"14.0mm\\\" height=\\\"14.0mm\\\"\\n      fill=\\\"#000000\\\" stroke=\\\"none\\\" \\/>\\n<rect x=\\\"90.0mm\\\" y=\\\"15.0mm\\\"\\n      width=\\\"14.0mm\\\" height=\\\"14.0mm\\\"\\n      fill=\\\"#000000\\\" stroke=\\\"none\\\" \\/>\\n<rect x=\\\"105.0mm\\\" y=\\\"15.0mm\\\"\\n      width=\\\"14.0mm\\\" height=\\\"14.0mm\\\"\\n      fill=\\\"#000000\\\" stroke=\\\"none\\\" \\/>\\n<rect x=\\\"120.0mm\\\" y=\\\"15.0mm\\\"\\n      width=\\\"14.0mm\\\" height=\\\"14.0mm\\\"\\n      fill=\\\"#000000\\\" stroke=\\\"none\\\" \\/>\\n<rect x=\\\"135.0mm\\\" y=\\\"15.0mm\\\"\\n      width=\\\"14.0mm\\\" height=\\\"14.0mm\\\"\\n      fill=\\\"#000000\\\" stroke=\\\"none\\\" \\/>\\n<rect x=\\\"0.0mm\\\" y=\\\"30.0mm\\\"\\n      width=\\\"14.0mm\\\" height=\\\"14.0mm\\\"\\n      fill=\\\"#000000\\\" stroke=\\\"none\\\" \\/>\\n<rect x=\\\"15.0mm\\\" y=\\\"30.0mm\\\"\\n      width=\\\"14.0mm\\\" height=\\\"14.0mm\\\"\\n      fill=\\\"#000000\\\" stroke=\\\"none\\\" \\/>\\n<rect x=\\\"30.0mm\\\" y=\\\"30.0mm\\\"\\n      width=\\\"14.0mm\\\" height=\\\"14.0mm\\\"\\n      fill=\\\"#000000\\\" stroke=\\\"none\\\" \\/>\\n<rect x=\\\"45.0mm\\\" y=\\\"30.0mm\\\"\\n      width=\\\"14.0mm\\\" height=\\\"14.0mm\\\"\\n      fill=\\\"#000000\\\" stroke=\\\"none\\\" \\/>\\n<rect x=\\\"60.0mm\\\" y=\\\"30.0mm\\\"\\n      width=\\\"14.0mm\\\" height=\\\"14.0mm\\\"\\n      fill=\\\"#000000\\\" stroke=\\\"none\\\" \\/>\\n<rect x=\\\"75.0mm\\\" y=\\\"30.0mm\\\"\\n      width=\\\"14.0mm\\\" height=\\\"14.0mm\\\"\\n      fill=\\\"#000000\\\" stroke=\\\"none\\\" \\/>\\n<rect x=\\\"90.0mm\\\" y=\\\"30.0mm\\\"\\n      width=\\\"14.0mm\\\" height=\\\"14.0mm\\\"\\n      fill=\\\"#000000\\\" stroke=\\\"none\\\" \\/>\\n<rect x=\\\"105.0mm\\\" y=\\\"30.0mm\\\"\\n      width=\\\"14.0mm\\\" height=\\\"14.0mm\\\"\\n      fill=\\\"#000000\\\" stroke=\\\"none\\\" \\/>\\n<rect x=\\\"120.0mm\\\" y=\\\"30.0mm\\\"\\n      width=\\\"14.0mm\\\" height=\\\"14.0mm\\\"\\n      fill=\\\"#000000\\\" stroke=\\\"none\\\" \\/>\\n<rect x=\\\"135.0mm\\\" y=\\\"30.0mm\\\"\\n      width=\\\"14.0mm\\\" height=\\\"14.0mm\\\"\\n      fill=\\\"#000000\\\" stroke=\\\"none\\\" \\/>\\n<rect x=\\\"0.0mm\\\" y=\\\"45.0mm\\\"\\n      width=\\\"14.0mm\\\" height=\\\"14.0mm\\\"\\n      fill=\\\"#000000\\\" stroke=\\\"none\\\" \\/>\\n<rect x=\\\"15.0mm\\\" y=\\\"45.0mm\\\"\\n      width=\\\"14.0mm\\\" height=\\\"14.0mm\\\"\\n      fill=\\\"#000000\\\" stroke=\\\"none\\\" \\/>\\n<rect x=\\\"30.0mm\\\" y=\\\"45.0mm\\\"\\n      width=\\\"14.0mm\\\" height=\\\"14.0mm\\\"\\n      fill=\\\"#000000\\\" stroke=\\\"none\\\" \\/>\\n<rect x=\\\"45.0mm\\\" y=\\\"45.0mm\\\"\\n      width=\\\"14.0mm\\\" height=\\\"14.0mm\\\"\\n      fill=\\\"#00D6FF\\\" stroke=\\\"none\\\" \\/>\\n<rect x=\\\"60.0mm\\\" y=\\\"45.0mm\\\"\\n      width=\\\"14.0mm\\\" height=\\\"14.0mm\\\"\\n      fill=\\\"#00D6FF\\\" stroke=\\\"none\\\" \\/>\\n<rect x=\\\"75.0mm\\\" y=\\\"45.0mm\\\"\\n      width=\\\"14.0mm\\\" height=\\\"14.0mm\\\"\\n      fill=\\\"#00D6FF\\\" stroke=\\\"none\\\" \\/>\\n<rect x=\\\"90.0mm\\\" y=\\\"45.0mm\\\"\\n      width=\\\"14.0mm\\\" height=\\\"14.0mm\\\"\\n      fill=\\\"#000000\\\" stroke=\\\"none\\\" \\/>\\n<rect x=\\\"105.0mm\\\" y=\\\"45.0mm\\\"\\n      width=\\\"14.0mm\\\" height=\\\"14.0mm\\\"\\n      fill=\\\"#000000\\\" stroke=\\\"none\\\" \\/>\\n<rect x=\\\"120.0mm\\\" y=\\\"45.0mm\\\"\\n      width=\\\"14.0mm\\\" height=\\\"14.0mm\\\"\\n      fill=\\\"#000000\\\" stroke=\\\"none\\\" \\/>\\n<rect x=\\\"135.0mm\\\" y=\\\"45.0mm\\\"\\n      width=\\\"14.0mm\\\" height=\\\"14.0mm\\\"\\n      fill=\\\"#000000\\\" stroke=\\\"none\\\" \\/>\\n<rect x=\\\"0.0mm\\\" y=\\\"60.0mm\\\"\\n      width=\\\"14.0mm\\\" height=\\\"14.0mm\\\"\\n      fill=\\\"#000000\\\" stroke=\\\"none\\\" \\/>\\n<rect x=\\\"15.0mm\\\" y=\\\"60.0mm\\\"\\n      width=\\\"14.0mm\\\" height=\\\"14.0mm\\\"\\n      fill=\\\"#000000\\\" stroke=\\\"none\\\" \\/>\\n<rect x=\\\"30.0mm\\\" y=\\\"60.0mm\\\"\\n      width=\\\"14.0mm\\\" height=\\\"14.0mm\\\"\\n      fill=\\\"#000000\\\" stroke=\\\"none\\\" \\/>\\n<rect x=\\\"45.0mm\\\" y=\\\"60.0mm\\\"\\n      width=\\\"14.0mm\\\" height=\\\"14.0mm\\\"\\n      fill=\\\"#00D6FF\\\" stroke=\\\"none\\\" \\/>\\n<rect x=\\\"60.0mm\\\" y=\\\"60.0mm\\\"\\n      width=\\\"14.0mm\\\" height=\\\"14.0mm\\\"\\n      fill=\\\"#00D6FF\\\" stroke=\\\"none\\\" \\/>\\n<rect x=\\\"75.0mm\\\" y=\\\"60.0mm\\\"\\n      width=\\\"14.0mm\\\" height=\\\"14.0mm\\\"\\n      fill=\\\"#00D6FF\\\" stroke=\\\"none\\\" \\/>\\n<rect x=\\\"90.0mm\\\" y=\\\"60.0mm\\\"\\n      width=\\\"14.0mm\\\" height=\\\"14.0mm\\\"\\n      fill=\\\"#000000\\\" stroke=\\\"none\\\" \\/>\\n<rect x=\\\"105.0mm\\\" y=\\\"60.0mm\\\"\\n      width=\\\"14.0mm\\\" height=\\\"14.0mm\\\"\\n      fill=\\\"#000000\\\" stroke=\\\"none\\\" \\/>\\n<rect x=\\\"120.0mm\\\" y=\\\"60.0mm\\\"\\n      width=\\\"14.0mm\\\" height=\\\"14.0mm\\\"\\n      fill=\\\"#000000\\\" stroke=\\\"none\\\" \\/>\\n<rect x=\\\"135.0mm\\\" y=\\\"60.0mm\\\"\\n      width=\\\"14.0mm\\\" height=\\\"14.0mm\\\"\\n      fill=\\\"#000000\\\" stroke=\\\"none\\\" \\/>\\n<rect x=\\\"0.0mm\\\" y=\\\"75.0mm\\\"\\n      width=\\\"14.0mm\\\" height=\\\"14.0mm\\\"\\n      fill=\\\"#000000\\\" stroke=\\\"none\\\" \\/>\\n<rect x=\\\"15.0mm\\\" y=\\\"75.0mm\\\"\\n      width=\\\"14.0mm\\\" height=\\\"14.0mm\\\"\\n      fill=\\\"#000000\\\" stroke=\\\"none\\\" \\/>\\n<rect x=\\\"30.0mm\\\" y=\\\"75.0mm\\\"\\n      width=\\\"14.0mm\\\" height=\\\"14.0mm\\\"\\n      fill=\\\"#000000\\\" stroke=\\\"none\\\" \\/>\\n<rect x=\\\"45.0mm\\\" y=\\\"75.0mm\\\"\\n      width=\\\"14.0mm\\\" height=\\\"14.0mm\\\"\\n      fill=\\\"#00D6FF\\\" stroke=\\\"none\\\" \\/>\\n<rect x=\\\"60.0mm\\\" y=\\\"75.0mm\\\"\\n      width=\\\"14.0mm\\\" height=\\\"14.0mm\\\"\\n      fill=\\\"#00D6FF\\\" stroke=\\\"none\\\" \\/>\\n<rect x=\\\"75.0mm\\\" y=\\\"75.0mm\\\"\\n      width=\\\"14.0mm\\\" height=\\\"14.0mm\\\"\\n      fill=\\\"#00D6FF\\\" stroke=\\\"none\\\" \\/>\\n<rect x=\\\"90.0mm\\\" y=\\\"75.0mm\\\"\\n      width=\\\"14.0mm\\\" height=\\\"14.0mm\\\"\\n      fill=\\\"#000000\\\" stroke=\\\"none\\\" \\/>\\n<rect x=\\\"105.0mm\\\" y=\\\"75.0mm\\\"\\n      width=\\\"14.0mm\\\" height=\\\"14.0mm\\\"\\n      fill=\\\"#000000\\\" stroke=\\\"none\\\" \\/>\\n<rect x=\\\"120.0mm\\\" y=\\\"75.0mm\\\"\\n      width=\\\"14.0mm\\\" height=\\\"14.0mm\\\"\\n      fill=\\\"#000000\\\" stroke=\\\"none\\\" \\/>\\n<rect x=\\\"135.0mm\\\" y=\\\"75.0mm\\\"\\n      width=\\\"14.0mm\\\" height=\\\"14.0mm\\\"\\n      fill=\\\"#000000\\\" stroke=\\\"none\\\" \\/>\\n<rect x=\\\"0.0mm\\\" y=\\\"90.0mm\\\"\\n      width=\\\"14.0mm\\\" height=\\\"14.0mm\\\"\\n      fill=\\\"#000000\\\" stroke=\\\"none\\\" \\/>\\n<rect x=\\\"15.0mm\\\" y=\\\"90.0mm\\\"\\n      width=\\\"14.0mm\\\" height=\\\"14.0mm\\\"\\n      fill=\\\"#000000\\\" stroke=\\\"none\\\" \\/>\\n<rect x=\\\"30.0mm\\\" y=\\\"90.0mm\\\"\\n      width=\\\"14.0mm\\\" height=\\\"14.0mm\\\"\\n      fill=\\\"#000000\\\" stroke=\\\"none\\\" \\/>\\n<rect x=\\\"45.0mm\\\" y=\\\"90.0mm\\\"\\n      width=\\\"14.0mm\\\" height=\\\"14.0mm\\\"\\n      fill=\\\"#000000\\\" stroke=\\\"none\\\" \\/>\\n<rect x=\\\"60.0mm\\\" y=\\\"90.0mm\\\"\\n      width=\\\"14.0mm\\\" height=\\\"14.0mm\\\"\\n      fill=\\\"#000000\\\" stroke=\\\"none\\\" \\/>\\n<rect x=\\\"75.0mm\\\" y=\\\"90.0mm\\\"\\n      width=\\\"14.0mm\\\" height=\\\"14.0mm\\\"\\n      fill=\\\"#000000\\\" stroke=\\\"none\\\" \\/>\\n<rect x=\\\"90.0mm\\\" y=\\\"90.0mm\\\"\\n      width=\\\"14.0mm\\\" height=\\\"14.0mm\\\"\\n      fill=\\\"#000000\\\" stroke=\\\"none\\\" \\/>\\n<rect x=\\\"105.0mm\\\" y=\\\"90.0mm\\\"\\n      width=\\\"14.0mm\\\" height=\\\"14.0mm\\\"\\n      fill=\\\"#000000\\\" stroke=\\\"none\\\" \\/>\\n<rect x=\\\"120.0mm\\\" y=\\\"90.0mm\\\"\\n      width=\\\"14.0mm\\\" height=\\\"14.0mm\\\"\\n      fill=\\\"#000000\\\" stroke=\\\"none\\\" \\/>\\n<rect x=\\\"135.0mm\\\" y=\\\"90.0mm\\\"\\n      width=\\\"14.0mm\\\" height=\\\"14.0mm\\\"\\n      fill=\\\"#000000\\\" stroke=\\\"none\\\" \\/>\\n<rect x=\\\"0.0mm\\\" y=\\\"105.0mm\\\"\\n      width=\\\"14.0mm\\\" height=\\\"14.0mm\\\"\\n      fill=\\\"#000000\\\" stroke=\\\"none\\\" \\/>\\n<rect x=\\\"15.0mm\\\" y=\\\"105.0mm\\\"\\n      width=\\\"14.0mm\\\" height=\\\"14.0mm\\\"\\n      fill=\\\"#000000\\\" stroke=\\\"none\\\" \\/>\\n<rect x=\\\"30.0mm\\\" y=\\\"105.0mm\\\"\\n      width=\\\"14.0mm\\\" height=\\\"14.0mm\\\"\\n      fill=\\\"#000000\\\" stroke=\\\"none\\\" \\/>\\n<rect x=\\\"45.0mm\\\" y=\\\"105.0mm\\\"\\n      width=\\\"14.0mm\\\" height=\\\"14.0mm\\\"\\n      fill=\\\"#000000\\\" stroke=\\\"none\\\" \\/>\\n<rect x=\\\"60.0mm\\\" y=\\\"105.0mm\\\"\\n      width=\\\"14.0mm\\\" height=\\\"14.0mm\\\"\\n      fill=\\\"#000000\\\" stroke=\\\"none\\\" \\/>\\n<rect x=\\\"75.0mm\\\" y=\\\"105.0mm\\\"\\n      width=\\\"14.0mm\\\" height=\\\"14.0mm\\\"\\n      fill=\\\"#000000\\\" stroke=\\\"none\\\" \\/>\\n<rect x=\\\"90.0mm\\\" y=\\\"105.0mm\\\"\\n      width=\\\"14.0mm\\\" height=\\\"14.0mm\\\"\\n      fill=\\\"#000000\\\" stroke=\\\"none\\\" \\/>\\n<rect x=\\\"105.0mm\\\" y=\\\"105.0mm\\\"\\n      width=\\\"14.0mm\\\" height=\\\"14.0mm\\\"\\n      fill=\\\"#000000\\\" stroke=\\\"none\\\" \\/>\\n<rect x=\\\"120.0mm\\\" y=\\\"105.0mm\\\"\\n      width=\\\"14.0mm\\\" height=\\\"14.0mm\\\"\\n      fill=\\\"#000000\\\" stroke=\\\"none\\\" \\/>\\n<rect x=\\\"135.0mm\\\" y=\\\"105.0mm\\\"\\n      width=\\\"14.0mm\\\" height=\\\"14.0mm\\\"\\n      fill=\\\"#000000\\\" stroke=\\\"none\\\" \\/>\\n<rect x=\\\"0.0mm\\\" y=\\\"120.0mm\\\"\\n      width=\\\"14.0mm\\\" height=\\\"14.0mm\\\"\\n      fill=\\\"#000000\\\" stroke=\\\"none\\\" \\/>\\n<rect x=\\\"15.0mm\\\" y=\\\"120.0mm\\\"\\n      width=\\\"14.0mm\\\" height=\\\"14.0mm\\\"\\n      fill=\\\"#000000\\\" stroke=\\\"none\\\" \\/>\\n<rect x=\\\"30.0mm\\\" y=\\\"120.0mm\\\"\\n      width=\\\"14.0mm\\\" height=\\\"14.0mm\\\"\\n      fill=\\\"#000000\\\" stroke=\\\"none\\\" \\/>\\n<rect x=\\\"45.0mm\\\" y=\\\"120.0mm\\\"\\n      width=\\\"14.0mm\\\" height=\\\"14.0mm\\\"\\n      fill=\\\"#000000\\\" stroke=\\\"none\\\" \\/>\\n<rect x=\\\"60.0mm\\\" y=\\\"120.0mm\\\"\\n      width=\\\"14.0mm\\\" height=\\\"14.0mm\\\"\\n      fill=\\\"#000000\\\" stroke=\\\"none\\\" \\/>\\n<rect x=\\\"75.0mm\\\" y=\\\"120.0mm\\\"\\n      width=\\\"14.0mm\\\" height=\\\"14.0mm\\\"\\n      fill=\\\"#000000\\\" stroke=\\\"none\\\" \\/>\\n<rect x=\\\"90.0mm\\\" y=\\\"120.0mm\\\"\\n      width=\\\"14.0mm\\\" height=\\\"14.0mm\\\"\\n      fill=\\\"#000000\\\" stroke=\\\"none\\\" \\/>\\n<rect x=\\\"105.0mm\\\" y=\\\"120.0mm\\\"\\n      width=\\\"14.0mm\\\" height=\\\"14.0mm\\\"\\n      fill=\\\"#000000\\\" stroke=\\\"none\\\" \\/>\\n<rect x=\\\"120.0mm\\\" y=\\\"120.0mm\\\"\\n      width=\\\"14.0mm\\\" height=\\\"14.0mm\\\"\\n      fill=\\\"#000000\\\" stroke=\\\"none\\\" \\/>\\n<rect x=\\\"135.0mm\\\" y=\\\"120.0mm\\\"\\n      width=\\\"14.0mm\\\" height=\\\"14.0mm\\\"\\n      fill=\\\"#000000\\\" stroke=\\\"none\\\" \\/>\\n<rect x=\\\"0.0mm\\\" y=\\\"135.0mm\\\"\\n      width=\\\"14.0mm\\\" height=\\\"14.0mm\\\"\\n      fill=\\\"#000000\\\" stroke=\\\"none\\\" \\/>\\n<rect x=\\\"15.0mm\\\" y=\\\"135.0mm\\\"\\n      width=\\\"14.0mm\\\" height=\\\"14.0mm\\\"\\n      fill=\\\"#000000\\\" stroke=\\\"none\\\" \\/>\\n<rect x=\\\"30.0mm\\\" y=\\\"135.0mm\\\"\\n      width=\\\"14.0mm\\\" height=\\\"14.0mm\\\"\\n      fill=\\\"#000000\\\" stroke=\\\"none\\\" \\/>\\n<rect x=\\\"45.0mm\\\" y=\\\"135.0mm\\\"\\n      width=\\\"14.0mm\\\" height=\\\"14.0mm\\\"\\n      fill=\\\"#000000\\\" stroke=\\\"none\\\" \\/>\\n<rect x=\\\"60.0mm\\\" y=\\\"135.0mm\\\"\\n      width=\\\"14.0mm\\\" height=\\\"14.0mm\\\"\\n      fill=\\\"#000000\\\" stroke=\\\"none\\\" \\/>\\n<rect x=\\\"75.0mm\\\" y=\\\"135.0mm\\\"\\n      width=\\\"14.0mm\\\" height=\\\"14.0mm\\\"\\n      fill=\\\"#000000\\\" stroke=\\\"none\\\" \\/>\\n<rect x=\\\"90.0mm\\\" y=\\\"135.0mm\\\"\\n      width=\\\"14.0mm\\\" height=\\\"14.0mm\\\"\\n      fill=\\\"#000000\\\" stroke=\\\"none\\\" \\/>\\n<rect x=\\\"105.0mm\\\" y=\\\"135.0mm\\\"\\n      width=\\\"14.0mm\\\" height=\\\"14.0mm\\\"\\n      fill=\\\"#000000\\\" stroke=\\\"none\\\" \\/>\\n<rect x=\\\"120.0mm\\\" y=\\\"135.0mm\\\"\\n      width=\\\"14.0mm\\\" height=\\\"14.0mm\\\"\\n      fill=\\\"#000000\\\" stroke=\\\"none\\\" \\/>\\n<rect x=\\\"135.0mm\\\" y=\\\"135.0mm\\\"\\n      width=\\\"14.0mm\\\" height=\\\"14.0mm\\\"\\n      fill=\\\"#000000\\\" stroke=\\\"none\\\" \\/>\\n<\\/svg>\"},\"nodeType\":\"DOM\",\"type\":\"node\",\"instanceArgs\":{\"namespace\":\"html\",\"tag\":\"div\"},\"children\":[]}]}}}},\"children\":[{\"props\":{},\"nodeType\":\"ObservableNode\",\"type\":\"node\",\"instanceArgs\":{\"id\":\"ob_98\",\"name\":\"obs-node\"},\"children\":[]}]}]},\n",
       "            window,\n",
       "        );\n",
       "    } else {\n",
       "        document\n",
       "            .querySelector('[data-webio-mountpoint=\"2895692438022598134\"]')\n",
       "            .innerHTML = '<strong>WebIO not detected.</strong>';\n",
       "    }\n",
       "    </script>\n",
       "</div>\n"
      ],
      "text/plain": [
       "Node{WebIO.DOM}(WebIO.DOM(:html, :div), Any[Node{DOM}(DOM(:html, :div), Any[Scope(Node{DOM}(DOM(:html, :div), Any[Node{DOM}(DOM(:html, :div), Any[Node{DOM}(DOM(:html, :label), Any[\"i\"], Dict{Symbol,Any}(:className=>\"interact \",:style=>Dict{Any,Any}(:padding=>\"5px 10px 0px 10px\")))], Dict{Symbol,Any}(:className=>\"interact-flex-row-left\")), Node{DOM}(DOM(:html, :div), Any[Node{DOM}(DOM(:html, :input), Any[], Dict{Symbol,Any}(:max=>8,:min=>1,:attributes=>Dict{Any,Any}(:type=>\"range\",Symbol(\"data-bind\")=>\"numericValue: index, valueUpdate: 'input', event: {change: function (){this.changes(this.changes()+1)}}\",\"orient\"=>\"horizontal\"),:step=>1,:className=>\"slider slider is-fullwidth\",:style=>Dict{Any,Any}()))], Dict{Symbol,Any}(:className=>\"interact-flex-row-center\")), Node{DOM}(DOM(:html, :div), Any[Node{DOM}(DOM(:html, :p), Any[], Dict{Symbol,Any}(:attributes=>Dict(\"data-bind\"=>\"text: formatted_val\")))], Dict{Symbol,Any}(:className=>\"interact-flex-row-right\"))], Dict{Symbol,Any}(:className=>\"interact-flex-row interact-widget\")), Dict{String,Tuple{Observables.AbstractObservable,Union{Nothing, Bool}}}(\"changes\"=>(Observable{Int64} with 1 listeners. Value:\n",
       "0, nothing),\"index\"=>(Observable{Int64} with 2 listeners. Value:\n",
       "4, nothing)), Set(String[]), nothing, Asset[Asset(\"js\", \"knockout\", \"C:\\\\Users\\\\carsten\\\\.julia\\\\packages\\\\Knockout\\\\1sDlc\\\\src\\\\..\\\\assets\\\\knockout.js\"), Asset(\"js\", \"knockout_punches\", \"C:\\\\Users\\\\carsten\\\\.julia\\\\packages\\\\Knockout\\\\1sDlc\\\\src\\\\..\\\\assets\\\\knockout_punches.js\"), Asset(\"js\", nothing, \"C:\\\\Users\\\\carsten\\\\.julia\\\\packages\\\\InteractBase\\\\l8cEC\\\\src\\\\..\\\\assets\\\\all.js\"), Asset(\"css\", nothing, \"C:\\\\Users\\\\carsten\\\\.julia\\\\packages\\\\InteractBase\\\\l8cEC\\\\src\\\\..\\\\assets\\\\style.css\"), Asset(\"css\", nothing, \"C:\\\\Users\\\\carsten\\\\.julia\\\\packages\\\\Interact\\\\0klKX\\\\src\\\\..\\\\assets\\\\bulma_confined.min.css\")], Dict{Any,Any}(\"changes\"=>Any[JSString(\"(function (val){return (val!=this.model[\\\"changes\\\"]()) ? (this.valueFromJulia[\\\"changes\\\"]=true, this.model[\\\"changes\\\"](val)) : undefined})\")],\"index\"=>Any[JSString(\"(function (val){return (val!=this.model[\\\"index\\\"]()) ? (this.valueFromJulia[\\\"index\\\"]=true, this.model[\\\"index\\\"](val)) : undefined})\")]), ConnectionPool(Channel{Any}(sz_max:9223372036854775807,sz_curr:0), Set(AbstractConnection[]), Channel{AbstractConnection}(sz_max:32,sz_curr:0)), WebIO.JSString[JSString(\"function () {\\n    var handler = (function (ko, koPunches) {\\n    ko.punches.enableAll();\\n    ko.bindingHandlers.numericValue = {\\n        init: function(element, valueAccessor, allBindings, data, context) {\\n            var stringified = ko.observable(ko.unwrap(valueAccessor()));\\n            stringified.subscribe(function(value) {\\n                var val = parseFloat(value);\\n                if (!isNaN(val)) {\\n                    valueAccessor()(val);\\n                }\\n            });\\n            valueAccessor().subscribe(function(value) {\\n                var str = JSON.stringify(value);\\n                if ((str == \\\"0\\\") && ([\\\"-0\\\", \\\"-0.\\\"].indexOf(stringified()) >= 0))\\n                     return;\\n                 if ([\\\"null\\\", \\\"\\\"].indexOf(str) >= 0)\\n                     return;\\n                stringified(str);\\n            });\\n            ko.applyBindingsToNode(\\n                element,\\n                {\\n                    value: stringified,\\n                    valueUpdate: allBindings.get('valueUpdate'),\\n                },\\n                context,\\n            );\\n        }\\n    };\\n    var json_data = {\\\"formatted_vals\\\":[\\\"1\\\",\\\"2\\\",\\\"3\\\",\\\"4\\\",\\\"5\\\",\\\"6\\\",\\\"7\\\",\\\"8\\\"],\\\"changes\\\":WebIO.getval({\\\"name\\\":\\\"changes\\\",\\\"scope\\\":\\\"2037750531861411821\\\",\\\"id\\\":\\\"ob_92\\\",\\\"type\\\":\\\"observable\\\"}),\\\"index\\\":WebIO.getval({\\\"name\\\":\\\"index\\\",\\\"scope\\\":\\\"2037750531861411821\\\",\\\"id\\\":\\\"ob_91\\\",\\\"type\\\":\\\"observable\\\"})};\\n    var self = this;\\n    function AppViewModel() {\\n        for (var key in json_data) {\\n            var el = json_data[key];\\n            this[key] = Array.isArray(el) ? ko.observableArray(el) : ko.observable(el);\\n        }\\n        \\n        [this[\\\"formatted_val\\\"]=ko.computed(    function(){\\n        return this.formatted_vals()[parseInt(this.index())-(1)];\\n    }\\n,this)]\\n        [this[\\\"changes\\\"].subscribe((function (val){!(this.valueFromJulia[\\\"changes\\\"]) ? (WebIO.setval({\\\"name\\\":\\\"changes\\\",\\\"scope\\\":\\\"2037750531861411821\\\",\\\"id\\\":\\\"ob_92\\\",\\\"type\\\":\\\"observable\\\"},val)) : undefined; return this.valueFromJulia[\\\"changes\\\"]=false}),self),this[\\\"index\\\"].subscribe((function (val){!(this.valueFromJulia[\\\"index\\\"]) ? (WebIO.setval({\\\"name\\\":\\\"index\\\",\\\"scope\\\":\\\"2037750531861411821\\\",\\\"id\\\":\\\"ob_91\\\",\\\"type\\\":\\\"observable\\\"},val)) : undefined; return this.valueFromJulia[\\\"index\\\"]=false}),self)]\\n        \\n    }\\n    self.model = new AppViewModel();\\n    self.valueFromJulia = {};\\n    for (var key in json_data) {\\n        self.valueFromJulia[key] = false;\\n    }\\n    ko.applyBindings(self.model, self.dom);\\n}\\n);\\n    (WebIO.importBlock({\\\"data\\\":[{\\\"name\\\":\\\"knockout\\\",\\\"type\\\":\\\"js\\\",\\\"url\\\":\\\"/assetserver/06b5713f7394e9c781d3d3143d6fd532e7f814ce-knockout.js\\\"},{\\\"name\\\":\\\"knockout_punches\\\",\\\"type\\\":\\\"js\\\",\\\"url\\\":\\\"/assetserver/695de4db56dde9805b672fe778fb2fc752e9b632-knockout_punches.js\\\"}],\\\"type\\\":\\\"async_block\\\"})).then((imports) => handler.apply(this, imports));\\n}\\n\")])], Dict{Symbol,Any}(:className=>\"field interact-widget\")), Node{DOM}(DOM(:html, :div), Any[Scope(Node{DOM}(DOM(:html, :div), Any[Node{DOM}(DOM(:html, :div), Any[Node{DOM}(DOM(:html, :label), Any[\"j\"], Dict{Symbol,Any}(:className=>\"interact \",:style=>Dict{Any,Any}(:padding=>\"5px 10px 0px 10px\")))], Dict{Symbol,Any}(:className=>\"interact-flex-row-left\")), Node{DOM}(DOM(:html, :div), Any[Node{DOM}(DOM(:html, :input), Any[], Dict{Symbol,Any}(:max=>8,:min=>1,:attributes=>Dict{Any,Any}(:type=>\"range\",Symbol(\"data-bind\")=>\"numericValue: index, valueUpdate: 'input', event: {change: function (){this.changes(this.changes()+1)}}\",\"orient\"=>\"horizontal\"),:step=>1,:className=>\"slider slider is-fullwidth\",:style=>Dict{Any,Any}()))], Dict{Symbol,Any}(:className=>\"interact-flex-row-center\")), Node{DOM}(DOM(:html, :div), Any[Node{DOM}(DOM(:html, :p), Any[], Dict{Symbol,Any}(:attributes=>Dict(\"data-bind\"=>\"text: formatted_val\")))], Dict{Symbol,Any}(:className=>\"interact-flex-row-right\"))], Dict{Symbol,Any}(:className=>\"interact-flex-row interact-widget\")), Dict{String,Tuple{Observables.AbstractObservable,Union{Nothing, Bool}}}(\"changes\"=>(Observable{Int64} with 1 listeners. Value:\n",
       "0, nothing),\"index\"=>(Observable{Int64} with 2 listeners. Value:\n",
       "4, nothing)), Set(String[]), nothing, Asset[Asset(\"js\", \"knockout\", \"C:\\\\Users\\\\carsten\\\\.julia\\\\packages\\\\Knockout\\\\1sDlc\\\\src\\\\..\\\\assets\\\\knockout.js\"), Asset(\"js\", \"knockout_punches\", \"C:\\\\Users\\\\carsten\\\\.julia\\\\packages\\\\Knockout\\\\1sDlc\\\\src\\\\..\\\\assets\\\\knockout_punches.js\"), Asset(\"js\", nothing, \"C:\\\\Users\\\\carsten\\\\.julia\\\\packages\\\\InteractBase\\\\l8cEC\\\\src\\\\..\\\\assets\\\\all.js\"), Asset(\"css\", nothing, \"C:\\\\Users\\\\carsten\\\\.julia\\\\packages\\\\InteractBase\\\\l8cEC\\\\src\\\\..\\\\assets\\\\style.css\"), Asset(\"css\", nothing, \"C:\\\\Users\\\\carsten\\\\.julia\\\\packages\\\\Interact\\\\0klKX\\\\src\\\\..\\\\assets\\\\bulma_confined.min.css\")], Dict{Any,Any}(\"changes\"=>Any[JSString(\"(function (val){return (val!=this.model[\\\"changes\\\"]()) ? (this.valueFromJulia[\\\"changes\\\"]=true, this.model[\\\"changes\\\"](val)) : undefined})\")],\"index\"=>Any[JSString(\"(function (val){return (val!=this.model[\\\"index\\\"]()) ? (this.valueFromJulia[\\\"index\\\"]=true, this.model[\\\"index\\\"](val)) : undefined})\")]), ConnectionPool(Channel{Any}(sz_max:9223372036854775807,sz_curr:0), Set(AbstractConnection[]), Channel{AbstractConnection}(sz_max:32,sz_curr:0)), WebIO.JSString[JSString(\"function () {\\n    var handler = (function (ko, koPunches) {\\n    ko.punches.enableAll();\\n    ko.bindingHandlers.numericValue = {\\n        init: function(element, valueAccessor, allBindings, data, context) {\\n            var stringified = ko.observable(ko.unwrap(valueAccessor()));\\n            stringified.subscribe(function(value) {\\n                var val = parseFloat(value);\\n                if (!isNaN(val)) {\\n                    valueAccessor()(val);\\n                }\\n            });\\n            valueAccessor().subscribe(function(value) {\\n                var str = JSON.stringify(value);\\n                if ((str == \\\"0\\\") && ([\\\"-0\\\", \\\"-0.\\\"].indexOf(stringified()) >= 0))\\n                     return;\\n                 if ([\\\"null\\\", \\\"\\\"].indexOf(str) >= 0)\\n                     return;\\n                stringified(str);\\n            });\\n            ko.applyBindingsToNode(\\n                element,\\n                {\\n                    value: stringified,\\n                    valueUpdate: allBindings.get('valueUpdate'),\\n                },\\n                context,\\n            );\\n        }\\n    };\\n    var json_data = {\\\"formatted_vals\\\":[\\\"1\\\",\\\"2\\\",\\\"3\\\",\\\"4\\\",\\\"5\\\",\\\"6\\\",\\\"7\\\",\\\"8\\\"],\\\"changes\\\":WebIO.getval({\\\"name\\\":\\\"changes\\\",\\\"scope\\\":\\\"18273148849445575614\\\",\\\"id\\\":\\\"ob_94\\\",\\\"type\\\":\\\"observable\\\"}),\\\"index\\\":WebIO.getval({\\\"name\\\":\\\"index\\\",\\\"scope\\\":\\\"18273148849445575614\\\",\\\"id\\\":\\\"ob_93\\\",\\\"type\\\":\\\"observable\\\"})};\\n    var self = this;\\n    function AppViewModel() {\\n        for (var key in json_data) {\\n            var el = json_data[key];\\n            this[key] = Array.isArray(el) ? ko.observableArray(el) : ko.observable(el);\\n        }\\n        \\n        [this[\\\"formatted_val\\\"]=ko.computed(    function(){\\n        return this.formatted_vals()[parseInt(this.index())-(1)];\\n    }\\n,this)]\\n        [this[\\\"changes\\\"].subscribe((function (val){!(this.valueFromJulia[\\\"changes\\\"]) ? (WebIO.setval({\\\"name\\\":\\\"changes\\\",\\\"scope\\\":\\\"18273148849445575614\\\",\\\"id\\\":\\\"ob_94\\\",\\\"type\\\":\\\"observable\\\"},val)) : undefined; return this.valueFromJulia[\\\"changes\\\"]=false}),self),this[\\\"index\\\"].subscribe((function (val){!(this.valueFromJulia[\\\"index\\\"]) ? (WebIO.setval({\\\"name\\\":\\\"index\\\",\\\"scope\\\":\\\"18273148849445575614\\\",\\\"id\\\":\\\"ob_93\\\",\\\"type\\\":\\\"observable\\\"},val)) : undefined; return this.valueFromJulia[\\\"index\\\"]=false}),self)]\\n        \\n    }\\n    self.model = new AppViewModel();\\n    self.valueFromJulia = {};\\n    for (var key in json_data) {\\n        self.valueFromJulia[key] = false;\\n    }\\n    ko.applyBindings(self.model, self.dom);\\n}\\n);\\n    (WebIO.importBlock({\\\"data\\\":[{\\\"name\\\":\\\"knockout\\\",\\\"type\\\":\\\"js\\\",\\\"url\\\":\\\"/assetserver/06b5713f7394e9c781d3d3143d6fd532e7f814ce-knockout.js\\\"},{\\\"name\\\":\\\"knockout_punches\\\",\\\"type\\\":\\\"js\\\",\\\"url\\\":\\\"/assetserver/695de4db56dde9805b672fe778fb2fc752e9b632-knockout_punches.js\\\"}],\\\"type\\\":\\\"async_block\\\"})).then((imports) => handler.apply(this, imports));\\n}\\n\")])], Dict{Symbol,Any}(:className=>\"field interact-widget\")), Observable{Any} with 0 listeners. Value:\n",
       "Node{DOM}(DOM(:html, :div), Any[RGB{FixedPointNumbers.Normed{UInt8,8}}[RGB{N0f8}(0.0,0.0,0.0) RGB{N0f8}(0.0,0.0,0.0) … RGB{N0f8}(0.0,0.0,0.0) RGB{N0f8}(0.0,0.0,0.0); RGB{N0f8}(0.0,0.0,0.0) RGB{N0f8}(0.0,0.0,0.0) … RGB{N0f8}(0.0,0.0,0.0) RGB{N0f8}(0.0,0.0,0.0); … ; RGB{N0f8}(0.0,0.0,0.0) RGB{N0f8}(0.0,0.0,0.0) … RGB{N0f8}(0.0,0.0,0.0) RGB{N0f8}(0.0,0.0,0.0); RGB{N0f8}(0.0,0.0,0.0) RGB{N0f8}(0.0,0.0,0.0) … RGB{N0f8}(0.0,0.0,0.0) RGB{N0f8}(0.0,0.0,0.0)]], Dict{Symbol,Any}(:className=>\"interact-flex-row interact-widget\"))], Dict{Symbol,Any}())"
      ]
     },
     "execution_count": 32,
     "metadata": {
      "application/vnd.webio.node+json": {
       "kernelId": null
      }
     },
     "output_type": "execute_result"
    }
   ],
   "source": [
    "A = fill(colors[1], 10, 10)\n",
    "n = size(A, 1)\n",
    "\n",
    "@manipulate for i in 1:n-2, j in 1:n-2\n",
    "    insert_block(A, i, j, colors[4])\n",
    "end"
   ]
  },
  {
   "cell_type": "code",
   "execution_count": null,
   "metadata": {},
   "outputs": [],
   "source": []
  }
 ],
 "metadata": {
  "@webio": {
   "lastCommId": null,
   "lastKernelId": null
  },
  "kernelspec": {
   "display_name": "Julia 1.1.0",
   "language": "julia",
   "name": "julia-1.1"
  },
  "language_info": {
   "file_extension": ".jl",
   "mimetype": "application/julia",
   "name": "julia",
   "version": "1.1.0"
  }
 },
 "nbformat": 4,
 "nbformat_minor": 2
}
