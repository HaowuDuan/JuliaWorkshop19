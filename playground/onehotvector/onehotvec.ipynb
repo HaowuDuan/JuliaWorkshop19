{
 "cells": [
  {
   "cell_type": "code",
   "execution_count": 1,
   "metadata": {},
   "outputs": [],
   "source": [
    "] activate ."
   ]
  },
  {
   "cell_type": "code",
   "execution_count": 2,
   "metadata": {},
   "outputs": [],
   "source": [
    "using BenchmarkTools, StaticArrays, LinearAlgebra"
   ]
  },
  {
   "cell_type": "markdown",
   "metadata": {},
   "source": [
    "Generic code"
   ]
  },
  {
   "cell_type": "code",
   "execution_count": 3,
   "metadata": {},
   "outputs": [
    {
     "data": {
      "text/plain": [
       "innersum (generic function with 1 method)"
      ]
     },
     "execution_count": 3,
     "metadata": {},
     "output_type": "execute_result"
    }
   ],
   "source": [
    "inner(v, A, w) = dot(v, A*w)\n",
    "\n",
    "function innersum(A, vs)\n",
    "    t = zero(eltype(A)) # generic!\n",
    "    for v in vs\n",
    "        t += inner(v, A, v)\n",
    "    end\n",
    "    return t\n",
    "end"
   ]
  },
  {
   "cell_type": "code",
   "execution_count": 4,
   "metadata": {},
   "outputs": [
    {
     "data": {
      "text/plain": [
       "14.684932824817619"
      ]
     },
     "execution_count": 4,
     "metadata": {},
     "output_type": "execute_result"
    }
   ],
   "source": [
    "A = rand(3,3)\n",
    "vs = [rand(3) for _ = 1:10]\n",
    "\n",
    "innersum(A, vs)"
   ]
  },
  {
   "cell_type": "markdown",
   "metadata": {},
   "source": [
    "Some other type"
   ]
  },
  {
   "cell_type": "code",
   "execution_count": 5,
   "metadata": {},
   "outputs": [
    {
     "data": {
      "text/plain": [
       "16.11338843933083"
      ]
     },
     "execution_count": 5,
     "metadata": {},
     "output_type": "execute_result"
    }
   ],
   "source": [
    "using StaticArrays\n",
    "\n",
    "A = @SMatrix rand(3,3)\n",
    "\n",
    "vs = [@SVector rand(3) for _ in 1:10]\n",
    "\n",
    "innersum(A, vs)"
   ]
  },
  {
   "cell_type": "markdown",
   "metadata": {},
   "source": [
    "Own type"
   ]
  },
  {
   "cell_type": "code",
   "execution_count": 6,
   "metadata": {},
   "outputs": [],
   "source": [
    "# One-hot vector\n",
    "# v = (0, ..., 0, 1, 0, .., 0)\n",
    "\n",
    "struct OneHotVector <: AbstractVector{Bool}\n",
    "    len::Int\n",
    "    ind::Int\n",
    "end"
   ]
  },
  {
   "cell_type": "code",
   "execution_count": 7,
   "metadata": {},
   "outputs": [
    {
     "ename": "MethodError",
     "evalue": "MethodError: no method matching size(::OneHotVector)\nClosest candidates are:\n  size(::AbstractArray{T,N}, !Matched::Any) where {T, N} at abstractarray.jl:38\n  size(!Matched::BitArray{1}) at bitarray.jl:77\n  size(!Matched::BitArray{1}, !Matched::Any) at bitarray.jl:81\n  ...",
     "output_type": "error",
     "traceback": [
      "MethodError: no method matching size(::OneHotVector)\nClosest candidates are:\n  size(::AbstractArray{T,N}, !Matched::Any) where {T, N} at abstractarray.jl:38\n  size(!Matched::BitArray{1}) at bitarray.jl:77\n  size(!Matched::BitArray{1}, !Matched::Any) at bitarray.jl:81\n  ...",
      "",
      "Stacktrace:",
      " [1] axes at .\\abstractarray.jl:75 [inlined]",
      " [2] summary(::IOContext{Base.GenericIOBuffer{Array{UInt8,1}}}, ::OneHotVector) at .\\show.jl:1837",
      " [3] show(::IOContext{Base.GenericIOBuffer{Array{UInt8,1}}}, ::MIME{Symbol(\"text/plain\")}, ::OneHotVector) at .\\arrayshow.jl:316",
      " [4] limitstringmime(::MIME{Symbol(\"text/plain\")}, ::OneHotVector) at C:\\Users\\carsten\\.julia\\packages\\IJulia\\gI2uA\\src\\inline.jl:37",
      " [5] display_mimestring(::MIME{Symbol(\"text/plain\")}, ::OneHotVector) at C:\\Users\\carsten\\.julia\\packages\\IJulia\\gI2uA\\src\\display.jl:67",
      " [6] display_dict(::OneHotVector) at C:\\Users\\carsten\\.julia\\packages\\IJulia\\gI2uA\\src\\display.jl:96",
      " [7] #invokelatest#1 at .\\essentials.jl:742 [inlined]",
      " [8] invokelatest at .\\essentials.jl:741 [inlined]",
      " [9] execute_request(::ZMQ.Socket, ::IJulia.Msg) at C:\\Users\\carsten\\.julia\\packages\\IJulia\\gI2uA\\src\\execute_request.jl:112",
      " [10] #invokelatest#1 at .\\essentials.jl:742 [inlined]",
      " [11] invokelatest at .\\essentials.jl:741 [inlined]",
      " [12] eventloop(::ZMQ.Socket) at C:\\Users\\carsten\\.julia\\packages\\IJulia\\gI2uA\\src\\eventloop.jl:8",
      " [13] (::getfield(IJulia, Symbol(\"##15#18\")))() at .\\task.jl:259"
     ]
    }
   ],
   "source": [
    "v = OneHotVector(5,2)"
   ]
  },
  {
   "cell_type": "markdown",
   "metadata": {},
   "source": [
    "What functions do we need to implement for our type to actually be a vector?\n",
    "\n",
    "https://docs.julialang.org/en/latest/manual/interfaces/#man-interface-array-1"
   ]
  },
  {
   "cell_type": "code",
   "execution_count": 9,
   "metadata": {},
   "outputs": [],
   "source": [
    "Base.size(v::OneHotVector) = (v.len,)\n",
    "\n",
    "Base.getindex(v::OneHotVector, i::Integer) = i == v.ind"
   ]
  },
  {
   "cell_type": "code",
   "execution_count": 10,
   "metadata": {},
   "outputs": [
    {
     "data": {
      "text/plain": [
       "5-element OneHotVector:\n",
       " false\n",
       "  true\n",
       " false\n",
       " false\n",
       " false"
      ]
     },
     "execution_count": 10,
     "metadata": {},
     "output_type": "execute_result"
    }
   ],
   "source": [
    "v = OneHotVector(5,2)"
   ]
  },
  {
   "cell_type": "code",
   "execution_count": 11,
   "metadata": {},
   "outputs": [
    {
     "data": {
      "text/plain": [
       "1.0"
      ]
     },
     "execution_count": 11,
     "metadata": {},
     "output_type": "execute_result"
    }
   ],
   "source": [
    "norm(v)"
   ]
  },
  {
   "cell_type": "code",
   "execution_count": 12,
   "metadata": {},
   "outputs": [
    {
     "name": "stdout",
     "output_type": "stream",
     "text": [
      "OneHotVector\n",
      "  len: Int64 5\n",
      "  ind: Int64 2\n"
     ]
    }
   ],
   "source": [
    "dump(v)"
   ]
  },
  {
   "cell_type": "code",
   "execution_count": 13,
   "metadata": {},
   "outputs": [
    {
     "data": {
      "text/plain": [
       "10-element Array{OneHotVector,1}:\n",
       " [false, false, true]\n",
       " [false, false, true]\n",
       " [false, false, true]\n",
       " [false, true, false]\n",
       " [true, false, false]\n",
       " [false, false, true]\n",
       " [true, false, false]\n",
       " [true, false, false]\n",
       " [false, true, false]\n",
       " [false, false, true]"
      ]
     },
     "execution_count": 13,
     "metadata": {},
     "output_type": "execute_result"
    }
   ],
   "source": [
    "vs = [OneHotVector(3, rand(1:3)) for _ in 1:10]"
   ]
  },
  {
   "cell_type": "code",
   "execution_count": 14,
   "metadata": {},
   "outputs": [
    {
     "data": {
      "text/plain": [
       "6.2632725803179286"
      ]
     },
     "execution_count": 14,
     "metadata": {},
     "output_type": "execute_result"
    }
   ],
   "source": [
    "innersum(A, vs) # just works!"
   ]
  },
  {
   "cell_type": "markdown",
   "metadata": {},
   "source": [
    "# Efficieny"
   ]
  },
  {
   "cell_type": "code",
   "execution_count": 15,
   "metadata": {},
   "outputs": [],
   "source": [
    "A = rand(1000,1000);\n",
    "v = OneHotVector(1000,2);"
   ]
  },
  {
   "cell_type": "code",
   "execution_count": 16,
   "metadata": {},
   "outputs": [
    {
     "data": {
      "text/html": [
       "*<i>{T, S}</i>(A::<b>AbstractArray{T,2}</b>, x::<b>AbstractArray{S,1}</b>) in LinearAlgebra at <a href=\"file://C:/cygwin/home/Administrator/buildbot/worker/package_win64/build/usr/share/julia/stdlib/v1.1/LinearAlgebra/src/matmul.jl\" target=\"_blank\">C:\\cygwin\\home\\Administrator\\buildbot\\worker\\package_win64\\build\\usr\\share\\julia\\stdlib\\v1.1\\LinearAlgebra\\src\\matmul.jl:49</a>"
      ],
      "text/plain": [
       "*(A::AbstractArray{T,2}, x::AbstractArray{S,1}) where {T, S} in LinearAlgebra at C:\\cygwin\\home\\Administrator\\buildbot\\worker\\package_win64\\build\\usr\\share\\julia\\stdlib\\v1.1\\LinearAlgebra\\src\\matmul.jl:49"
      ]
     },
     "execution_count": 16,
     "metadata": {},
     "output_type": "execute_result"
    }
   ],
   "source": [
    "@which A*v"
   ]
  },
  {
   "cell_type": "code",
   "execution_count": 18,
   "metadata": {},
   "outputs": [
    {
     "name": "stdout",
     "output_type": "stream",
     "text": [
      "  283.800 μs (1 allocation: 7.94 KiB)\n"
     ]
    }
   ],
   "source": [
    "@btime $A*$v;"
   ]
  },
  {
   "cell_type": "code",
   "execution_count": 19,
   "metadata": {},
   "outputs": [
    {
     "data": {
      "text/plain": [
       "* (generic function with 370 methods)"
      ]
     },
     "execution_count": 19,
     "metadata": {},
     "output_type": "execute_result"
    }
   ],
   "source": [
    "import Base: *\n",
    "*(A::AbstractMatrix, v::OneHotVector) where T = A[:, v.ind]"
   ]
  },
  {
   "cell_type": "code",
   "execution_count": 20,
   "metadata": {},
   "outputs": [
    {
     "data": {
      "text/html": [
       "*<i>{T}</i>(A::<b>AbstractArray{T,2} where T</b>, v::<b>OneHotVector</b>) in Main at In[19]:2"
      ],
      "text/plain": [
       "*(A::AbstractArray{T,2} where T, v::OneHotVector) where T in Main at In[19]:2"
      ]
     },
     "execution_count": 20,
     "metadata": {},
     "output_type": "execute_result"
    }
   ],
   "source": [
    "@which A*v"
   ]
  },
  {
   "cell_type": "code",
   "execution_count": 21,
   "metadata": {},
   "outputs": [
    {
     "name": "stdout",
     "output_type": "stream",
     "text": [
      "  544.845 ns (2 allocations: 7.97 KiB)\n"
     ]
    }
   ],
   "source": [
    "@btime $A * $v;"
   ]
  }
 ],
 "metadata": {
  "@webio": {
   "lastCommId": null,
   "lastKernelId": null
  },
  "kernelspec": {
   "display_name": "Julia 1.1.0",
   "language": "julia",
   "name": "julia-1.1"
  },
  "language_info": {
   "file_extension": ".jl",
   "mimetype": "application/julia",
   "name": "julia",
   "version": "1.1.0"
  }
 },
 "nbformat": 4,
 "nbformat_minor": 2
}
