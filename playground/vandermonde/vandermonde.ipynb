{
 "cells": [
  {
   "cell_type": "code",
   "execution_count": 1,
   "metadata": {},
   "outputs": [],
   "source": [
    "] activate ."
   ]
  },
  {
   "cell_type": "markdown",
   "metadata": {},
   "source": [
    "[Vandermonde matrix:](https://en.wikipedia.org/wiki/Vandermonde_matrix)\n",
    "\\begin{align}V=\\begin{bmatrix}1&\\alpha _{1}&\\alpha _{1}^{2}&\\dots &\\alpha _{1}^{n-1}\\\\1&\\alpha _{2}&\\alpha _{2}^{2}&\\dots &\\alpha _{2}^{n-1}\\\\1&\\alpha _{3}&\\alpha _{3}^{2}&\\dots &\\alpha _{3}^{n-1}\\\\\\vdots &\\vdots &\\vdots &\\ddots &\\vdots \\\\1&\\alpha _{m}&\\alpha _{m}^{2}&\\dots &\\alpha _{m}^{n-1}\\end{bmatrix}\\end{align}"
   ]
  },
  {
   "cell_type": "code",
   "execution_count": 2,
   "metadata": {},
   "outputs": [],
   "source": [
    "using PyCall"
   ]
  },
  {
   "cell_type": "code",
   "execution_count": 3,
   "metadata": {},
   "outputs": [
    {
     "data": {
      "text/plain": [
       "PyObject <module 'numpy' from 'C:\\\\Users\\\\carsten\\\\Anaconda3\\\\lib\\\\site-packages\\\\numpy\\\\__init__.py'>"
      ]
     },
     "execution_count": 3,
     "metadata": {},
     "output_type": "execute_result"
    }
   ],
   "source": [
    "np = pyimport(\"numpy\")"
   ]
  },
  {
   "cell_type": "code",
   "execution_count": 4,
   "metadata": {},
   "outputs": [
    {
     "data": {
      "text/plain": [
       "5×5 Array{Int32,2}:\n",
       " 1  1   1    1    1\n",
       " 1  2   4    8   16\n",
       " 1  3   9   27   81\n",
       " 1  4  16   64  256\n",
       " 1  5  25  125  625"
      ]
     },
     "execution_count": 4,
     "metadata": {},
     "output_type": "execute_result"
    }
   ],
   "source": [
    "np.vander(1:5, increasing=true)"
   ]
  },
  {
   "cell_type": "markdown",
   "metadata": {},
   "source": [
    "The source code for this function is [here](https://github.com/numpy/numpy/blob/v1.16.1/numpy/lib/twodim_base.py#L475-L563). It calls `np.multiply.accumulate` which is implemented in C [here](https://github.com/numpy/numpy/blob/deea4983aedfa96905bbaee64e3d1de84144303f/numpy/core/src/umath/ufunc_object.c#L3678). However, this code doesn't actually perform the computation, it basically only checks types and stuff. The actual kernel that gets called is [here](https://github.com/numpy/numpy/blob/deea4983aedfa96905bbaee64e3d1de84144303f/numpy/core/src/umath/loops.c.src#L1742). This isn't even C code but a template for C code which is used to generate type specific kernels.\n",
    "\n",
    "Overall, this setup only supports a limited set of types, like `Float64`, `Float32`, and so forth."
   ]
  },
  {
   "cell_type": "markdown",
   "metadata": {},
   "source": [
    "Here is a simple Julia implementation (taken from [Steve's Julia intro](https://web.mit.edu/18.06/www/Fall17/1806/julia/Julia-intro.pdf))"
   ]
  },
  {
   "cell_type": "code",
   "execution_count": 5,
   "metadata": {},
   "outputs": [
    {
     "data": {
      "text/plain": [
       "vander (generic function with 2 methods)"
      ]
     },
     "execution_count": 5,
     "metadata": {},
     "output_type": "execute_result"
    }
   ],
   "source": [
    "function vander(x::AbstractVector{T},  n=length(x)) where T\n",
    "    m = length(x)\n",
    "    V = Matrix{T}(undef, m, n)\n",
    "    for j = 1:m\n",
    "        V[j,1] = one(x[j])\n",
    "    end\n",
    "    for i= 2:n\n",
    "        for j = 1:m\n",
    "            V[j,i] = x[j] * V[j,i-1]\n",
    "            end\n",
    "        end\n",
    "    return V\n",
    "end"
   ]
  },
  {
   "cell_type": "code",
   "execution_count": 6,
   "metadata": {},
   "outputs": [
    {
     "data": {
      "text/plain": [
       "5×5 Array{Int64,2}:\n",
       " 1  1   1    1    1\n",
       " 1  2   4    8   16\n",
       " 1  3   9   27   81\n",
       " 1  4  16   64  256\n",
       " 1  5  25  125  625"
      ]
     },
     "execution_count": 6,
     "metadata": {},
     "output_type": "execute_result"
    }
   ],
   "source": [
    "vander(1:5)"
   ]
  },
  {
   "cell_type": "markdown",
   "metadata": {},
   "source": [
    "# A quick benchmark"
   ]
  },
  {
   "cell_type": "code",
   "execution_count": 7,
   "metadata": {},
   "outputs": [],
   "source": [
    "using BenchmarkTools, Plots"
   ]
  },
  {
   "cell_type": "code",
   "execution_count": 25,
   "metadata": {},
   "outputs": [],
   "source": [
    "ns = exp10.(range(1, 4, length=30));"
   ]
  },
  {
   "cell_type": "code",
   "execution_count": 26,
   "metadata": {},
   "outputs": [],
   "source": [
    "tnp = Float64[]\n",
    "tjl = Float64[]\n",
    "for n in ns\n",
    "    x = 1:n |> collect\n",
    "    push!(tnp, @belapsed np.vander($x) samples=3 evals=1)\n",
    "    push!(tjl, @belapsed vander($x) samples=3 evals=1)\n",
    "end    "
   ]
  },
  {
   "cell_type": "code",
   "execution_count": 43,
   "metadata": {},
   "outputs": [
    {
     "data": {
      "image/svg+xml": [
       "<?xml version=\"1.0\" encoding=\"utf-8\"?>\n",
       "<svg xmlns=\"http://www.w3.org/2000/svg\" xmlns:xlink=\"http://www.w3.org/1999/xlink\" width=\"600\" height=\"400\" viewBox=\"0 0 2400 1600\">\n",
       "<defs>\n",
       "  <clipPath id=\"clip5900\">\n",
       "    <rect x=\"0\" y=\"0\" width=\"2400\" height=\"1600\"/>\n",
       "  </clipPath>\n",
       "</defs>\n",
       "<polygon clip-path=\"url(#clip5900)\" points=\"\n",
       "0,1600 2400,1600 2400,0 0,0 \n",
       "  \" fill=\"#ffffff\" fill-rule=\"evenodd\" fill-opacity=\"1\"/>\n",
       "<defs>\n",
       "  <clipPath id=\"clip5901\">\n",
       "    <rect x=\"480\" y=\"0\" width=\"1681\" height=\"1600\"/>\n",
       "  </clipPath>\n",
       "</defs>\n",
       "<polygon clip-path=\"url(#clip5900)\" points=\"\n",
       "229.135,1425.62 2352.76,1425.62 2352.76,47.2441 229.135,47.2441 \n",
       "  \" fill=\"#ffffff\" fill-rule=\"evenodd\" fill-opacity=\"1\"/>\n",
       "<defs>\n",
       "  <clipPath id=\"clip5902\">\n",
       "    <rect x=\"229\" y=\"47\" width=\"2125\" height=\"1379\"/>\n",
       "  </clipPath>\n",
       "</defs>\n",
       "<polyline clip-path=\"url(#clip5902)\" style=\"stroke:#000000; stroke-width:2; stroke-opacity:0.1; fill:none\" points=\"\n",
       "  289.238,1425.62 289.238,47.2441 \n",
       "  \"/>\n",
       "<polyline clip-path=\"url(#clip5902)\" style=\"stroke:#000000; stroke-width:2; stroke-opacity:0.1; fill:none\" points=\"\n",
       "  957.043,1425.62 957.043,47.2441 \n",
       "  \"/>\n",
       "<polyline clip-path=\"url(#clip5902)\" style=\"stroke:#000000; stroke-width:2; stroke-opacity:0.1; fill:none\" points=\"\n",
       "  1624.85,1425.62 1624.85,47.2441 \n",
       "  \"/>\n",
       "<polyline clip-path=\"url(#clip5902)\" style=\"stroke:#000000; stroke-width:2; stroke-opacity:0.1; fill:none\" points=\"\n",
       "  2292.65,1425.62 2292.65,47.2441 \n",
       "  \"/>\n",
       "<polyline clip-path=\"url(#clip5902)\" style=\"stroke:#000000; stroke-width:2; stroke-opacity:0.1; fill:none\" points=\"\n",
       "  229.135,1422.77 2352.76,1422.77 \n",
       "  \"/>\n",
       "<polyline clip-path=\"url(#clip5902)\" style=\"stroke:#000000; stroke-width:2; stroke-opacity:0.1; fill:none\" points=\"\n",
       "  229.135,1209.77 2352.76,1209.77 \n",
       "  \"/>\n",
       "<polyline clip-path=\"url(#clip5902)\" style=\"stroke:#000000; stroke-width:2; stroke-opacity:0.1; fill:none\" points=\"\n",
       "  229.135,996.771 2352.76,996.771 \n",
       "  \"/>\n",
       "<polyline clip-path=\"url(#clip5902)\" style=\"stroke:#000000; stroke-width:2; stroke-opacity:0.1; fill:none\" points=\"\n",
       "  229.135,783.772 2352.76,783.772 \n",
       "  \"/>\n",
       "<polyline clip-path=\"url(#clip5902)\" style=\"stroke:#000000; stroke-width:2; stroke-opacity:0.1; fill:none\" points=\"\n",
       "  229.135,570.774 2352.76,570.774 \n",
       "  \"/>\n",
       "<polyline clip-path=\"url(#clip5902)\" style=\"stroke:#000000; stroke-width:2; stroke-opacity:0.1; fill:none\" points=\"\n",
       "  229.135,357.775 2352.76,357.775 \n",
       "  \"/>\n",
       "<polyline clip-path=\"url(#clip5902)\" style=\"stroke:#000000; stroke-width:2; stroke-opacity:0.1; fill:none\" points=\"\n",
       "  229.135,144.776 2352.76,144.776 \n",
       "  \"/>\n",
       "<polyline clip-path=\"url(#clip5900)\" style=\"stroke:#000000; stroke-width:4; stroke-opacity:1; fill:none\" points=\"\n",
       "  229.135,1425.62 2352.76,1425.62 \n",
       "  \"/>\n",
       "<polyline clip-path=\"url(#clip5900)\" style=\"stroke:#000000; stroke-width:4; stroke-opacity:1; fill:none\" points=\"\n",
       "  229.135,1425.62 229.135,47.2441 \n",
       "  \"/>\n",
       "<polyline clip-path=\"url(#clip5900)\" style=\"stroke:#000000; stroke-width:4; stroke-opacity:1; fill:none\" points=\"\n",
       "  289.238,1425.62 289.238,1404.94 \n",
       "  \"/>\n",
       "<polyline clip-path=\"url(#clip5900)\" style=\"stroke:#000000; stroke-width:4; stroke-opacity:1; fill:none\" points=\"\n",
       "  957.043,1425.62 957.043,1404.94 \n",
       "  \"/>\n",
       "<polyline clip-path=\"url(#clip5900)\" style=\"stroke:#000000; stroke-width:4; stroke-opacity:1; fill:none\" points=\"\n",
       "  1624.85,1425.62 1624.85,1404.94 \n",
       "  \"/>\n",
       "<polyline clip-path=\"url(#clip5900)\" style=\"stroke:#000000; stroke-width:4; stroke-opacity:1; fill:none\" points=\"\n",
       "  2292.65,1425.62 2292.65,1404.94 \n",
       "  \"/>\n",
       "<polyline clip-path=\"url(#clip5900)\" style=\"stroke:#000000; stroke-width:4; stroke-opacity:1; fill:none\" points=\"\n",
       "  229.135,1422.77 260.99,1422.77 \n",
       "  \"/>\n",
       "<polyline clip-path=\"url(#clip5900)\" style=\"stroke:#000000; stroke-width:4; stroke-opacity:1; fill:none\" points=\"\n",
       "  229.135,1209.77 260.99,1209.77 \n",
       "  \"/>\n",
       "<polyline clip-path=\"url(#clip5900)\" style=\"stroke:#000000; stroke-width:4; stroke-opacity:1; fill:none\" points=\"\n",
       "  229.135,996.771 260.99,996.771 \n",
       "  \"/>\n",
       "<polyline clip-path=\"url(#clip5900)\" style=\"stroke:#000000; stroke-width:4; stroke-opacity:1; fill:none\" points=\"\n",
       "  229.135,783.772 260.99,783.772 \n",
       "  \"/>\n",
       "<polyline clip-path=\"url(#clip5900)\" style=\"stroke:#000000; stroke-width:4; stroke-opacity:1; fill:none\" points=\"\n",
       "  229.135,570.774 260.99,570.774 \n",
       "  \"/>\n",
       "<polyline clip-path=\"url(#clip5900)\" style=\"stroke:#000000; stroke-width:4; stroke-opacity:1; fill:none\" points=\"\n",
       "  229.135,357.775 260.99,357.775 \n",
       "  \"/>\n",
       "<polyline clip-path=\"url(#clip5900)\" style=\"stroke:#000000; stroke-width:4; stroke-opacity:1; fill:none\" points=\"\n",
       "  229.135,144.776 260.99,144.776 \n",
       "  \"/>\n",
       "<g clip-path=\"url(#clip5900)\">\n",
       "<text style=\"fill:#000000; fill-opacity:1; font-family:Arial,Helvetica Neue,Helvetica,sans-serif; font-size:48px; text-anchor:start;\" transform=\"rotate(0, 246.167, 1500.63)\" x=\"246.167\" y=\"1500.63\">10</text>\n",
       "</g>\n",
       "<g clip-path=\"url(#clip5900)\">\n",
       "<text style=\"fill:#000000; fill-opacity:1; font-family:Arial,Helvetica Neue,Helvetica,sans-serif; font-size:38px; text-anchor:start;\" transform=\"rotate(0, 299.692, 1473.22)\" x=\"299.692\" y=\"1473.22\">1 </text>\n",
       "</g>\n",
       "<g clip-path=\"url(#clip5900)\">\n",
       "<text style=\"fill:#000000; fill-opacity:1; font-family:Arial,Helvetica Neue,Helvetica,sans-serif; font-size:48px; text-anchor:start;\" transform=\"rotate(0, 913.972, 1500.63)\" x=\"913.972\" y=\"1500.63\">10</text>\n",
       "</g>\n",
       "<g clip-path=\"url(#clip5900)\">\n",
       "<text style=\"fill:#000000; fill-opacity:1; font-family:Arial,Helvetica Neue,Helvetica,sans-serif; font-size:38px; text-anchor:start;\" transform=\"rotate(0, 967.497, 1473.22)\" x=\"967.497\" y=\"1473.22\">2 </text>\n",
       "</g>\n",
       "<g clip-path=\"url(#clip5900)\">\n",
       "<text style=\"fill:#000000; fill-opacity:1; font-family:Arial,Helvetica Neue,Helvetica,sans-serif; font-size:48px; text-anchor:start;\" transform=\"rotate(0, 1581.78, 1500.63)\" x=\"1581.78\" y=\"1500.63\">10</text>\n",
       "</g>\n",
       "<g clip-path=\"url(#clip5900)\">\n",
       "<text style=\"fill:#000000; fill-opacity:1; font-family:Arial,Helvetica Neue,Helvetica,sans-serif; font-size:38px; text-anchor:start;\" transform=\"rotate(0, 1635.3, 1473.22)\" x=\"1635.3\" y=\"1473.22\">3 </text>\n",
       "</g>\n",
       "<g clip-path=\"url(#clip5900)\">\n",
       "<text style=\"fill:#000000; fill-opacity:1; font-family:Arial,Helvetica Neue,Helvetica,sans-serif; font-size:48px; text-anchor:start;\" transform=\"rotate(0, 2249.58, 1500.63)\" x=\"2249.58\" y=\"1500.63\">10</text>\n",
       "</g>\n",
       "<g clip-path=\"url(#clip5900)\">\n",
       "<text style=\"fill:#000000; fill-opacity:1; font-family:Arial,Helvetica Neue,Helvetica,sans-serif; font-size:38px; text-anchor:start;\" transform=\"rotate(0, 2303.11, 1473.22)\" x=\"2303.11\" y=\"1473.22\">4 </text>\n",
       "</g>\n",
       "<g clip-path=\"url(#clip5900)\">\n",
       "<text style=\"fill:#000000; fill-opacity:1; font-family:Arial,Helvetica Neue,Helvetica,sans-serif; font-size:48px; text-anchor:end;\" transform=\"rotate(0, 205.135, 1440.27)\" x=\"205.135\" y=\"1440.27\">0</text>\n",
       "</g>\n",
       "<g clip-path=\"url(#clip5900)\">\n",
       "<text style=\"fill:#000000; fill-opacity:1; font-family:Arial,Helvetica Neue,Helvetica,sans-serif; font-size:48px; text-anchor:end;\" transform=\"rotate(0, 205.135, 1227.27)\" x=\"205.135\" y=\"1227.27\">20</text>\n",
       "</g>\n",
       "<g clip-path=\"url(#clip5900)\">\n",
       "<text style=\"fill:#000000; fill-opacity:1; font-family:Arial,Helvetica Neue,Helvetica,sans-serif; font-size:48px; text-anchor:end;\" transform=\"rotate(0, 205.135, 1014.27)\" x=\"205.135\" y=\"1014.27\">40</text>\n",
       "</g>\n",
       "<g clip-path=\"url(#clip5900)\">\n",
       "<text style=\"fill:#000000; fill-opacity:1; font-family:Arial,Helvetica Neue,Helvetica,sans-serif; font-size:48px; text-anchor:end;\" transform=\"rotate(0, 205.135, 801.272)\" x=\"205.135\" y=\"801.272\">60</text>\n",
       "</g>\n",
       "<g clip-path=\"url(#clip5900)\">\n",
       "<text style=\"fill:#000000; fill-opacity:1; font-family:Arial,Helvetica Neue,Helvetica,sans-serif; font-size:48px; text-anchor:end;\" transform=\"rotate(0, 205.135, 588.274)\" x=\"205.135\" y=\"588.274\">80</text>\n",
       "</g>\n",
       "<g clip-path=\"url(#clip5900)\">\n",
       "<text style=\"fill:#000000; fill-opacity:1; font-family:Arial,Helvetica Neue,Helvetica,sans-serif; font-size:48px; text-anchor:end;\" transform=\"rotate(0, 205.135, 375.275)\" x=\"205.135\" y=\"375.275\">100</text>\n",
       "</g>\n",
       "<g clip-path=\"url(#clip5900)\">\n",
       "<text style=\"fill:#000000; fill-opacity:1; font-family:Arial,Helvetica Neue,Helvetica,sans-serif; font-size:48px; text-anchor:end;\" transform=\"rotate(0, 205.135, 162.276)\" x=\"205.135\" y=\"162.276\">120</text>\n",
       "</g>\n",
       "<g clip-path=\"url(#clip5900)\">\n",
       "<text style=\"fill:#000000; fill-opacity:1; font-family:Arial,Helvetica Neue,Helvetica,sans-serif; font-size:66px; text-anchor:middle;\" transform=\"rotate(0, 1290.95, 1559.48)\" x=\"1290.95\" y=\"1559.48\">matrix size</text>\n",
       "</g>\n",
       "<g clip-path=\"url(#clip5900)\">\n",
       "<text style=\"fill:#000000; fill-opacity:1; font-family:Arial,Helvetica Neue,Helvetica,sans-serif; font-size:66px; text-anchor:middle;\" transform=\"rotate(-90, 89.2861, 736.431)\" x=\"89.2861\" y=\"736.431\">NumPy time / Julia time</text>\n",
       "</g>\n",
       "<polyline clip-path=\"url(#clip5902)\" style=\"stroke:#009af9; stroke-width:4; stroke-opacity:1; fill:none\" points=\"\n",
       "  289.238,86.2547 358.321,1155.55 427.404,860.452 496.488,896.357 565.571,1156.77 634.654,1168.81 703.738,1294.21 772.821,1183.81 841.904,1313.11 910.987,1323.45 \n",
       "  980.071,1347.9 1049.15,1353.62 1118.24,1367.32 1187.32,1368.54 1256.4,1358.81 1325.49,1370.5 1394.57,1385.42 1463.65,1382.48 1532.74,1380.91 1601.82,1376.43 \n",
       "  1670.9,1384.18 1739.99,1375.29 1809.07,1368.27 1878.15,1386.61 1947.24,1384.47 2016.32,1378.53 2085.4,1372.07 2154.49,1373.76 2223.57,1369.63 2292.65,1363.99 \n",
       "  \n",
       "  \"/>\n",
       "<circle clip-path=\"url(#clip5902)\" style=\"fill:#000000; stroke:none; fill-opacity:1\" cx=\"289.238\" cy=\"86.2547\" r=\"18\"/>\n",
       "<circle clip-path=\"url(#clip5902)\" style=\"fill:#009af9; stroke:none; fill-opacity:1\" cx=\"289.238\" cy=\"86.2547\" r=\"14\"/>\n",
       "<circle clip-path=\"url(#clip5902)\" style=\"fill:#000000; stroke:none; fill-opacity:1\" cx=\"358.321\" cy=\"1155.55\" r=\"18\"/>\n",
       "<circle clip-path=\"url(#clip5902)\" style=\"fill:#009af9; stroke:none; fill-opacity:1\" cx=\"358.321\" cy=\"1155.55\" r=\"14\"/>\n",
       "<circle clip-path=\"url(#clip5902)\" style=\"fill:#000000; stroke:none; fill-opacity:1\" cx=\"427.404\" cy=\"860.452\" r=\"18\"/>\n",
       "<circle clip-path=\"url(#clip5902)\" style=\"fill:#009af9; stroke:none; fill-opacity:1\" cx=\"427.404\" cy=\"860.452\" r=\"14\"/>\n",
       "<circle clip-path=\"url(#clip5902)\" style=\"fill:#000000; stroke:none; fill-opacity:1\" cx=\"496.488\" cy=\"896.357\" r=\"18\"/>\n",
       "<circle clip-path=\"url(#clip5902)\" style=\"fill:#009af9; stroke:none; fill-opacity:1\" cx=\"496.488\" cy=\"896.357\" r=\"14\"/>\n",
       "<circle clip-path=\"url(#clip5902)\" style=\"fill:#000000; stroke:none; fill-opacity:1\" cx=\"565.571\" cy=\"1156.77\" r=\"18\"/>\n",
       "<circle clip-path=\"url(#clip5902)\" style=\"fill:#009af9; stroke:none; fill-opacity:1\" cx=\"565.571\" cy=\"1156.77\" r=\"14\"/>\n",
       "<circle clip-path=\"url(#clip5902)\" style=\"fill:#000000; stroke:none; fill-opacity:1\" cx=\"634.654\" cy=\"1168.81\" r=\"18\"/>\n",
       "<circle clip-path=\"url(#clip5902)\" style=\"fill:#009af9; stroke:none; fill-opacity:1\" cx=\"634.654\" cy=\"1168.81\" r=\"14\"/>\n",
       "<circle clip-path=\"url(#clip5902)\" style=\"fill:#000000; stroke:none; fill-opacity:1\" cx=\"703.738\" cy=\"1294.21\" r=\"18\"/>\n",
       "<circle clip-path=\"url(#clip5902)\" style=\"fill:#009af9; stroke:none; fill-opacity:1\" cx=\"703.738\" cy=\"1294.21\" r=\"14\"/>\n",
       "<circle clip-path=\"url(#clip5902)\" style=\"fill:#000000; stroke:none; fill-opacity:1\" cx=\"772.821\" cy=\"1183.81\" r=\"18\"/>\n",
       "<circle clip-path=\"url(#clip5902)\" style=\"fill:#009af9; stroke:none; fill-opacity:1\" cx=\"772.821\" cy=\"1183.81\" r=\"14\"/>\n",
       "<circle clip-path=\"url(#clip5902)\" style=\"fill:#000000; stroke:none; fill-opacity:1\" cx=\"841.904\" cy=\"1313.11\" r=\"18\"/>\n",
       "<circle clip-path=\"url(#clip5902)\" style=\"fill:#009af9; stroke:none; fill-opacity:1\" cx=\"841.904\" cy=\"1313.11\" r=\"14\"/>\n",
       "<circle clip-path=\"url(#clip5902)\" style=\"fill:#000000; stroke:none; fill-opacity:1\" cx=\"910.987\" cy=\"1323.45\" r=\"18\"/>\n",
       "<circle clip-path=\"url(#clip5902)\" style=\"fill:#009af9; stroke:none; fill-opacity:1\" cx=\"910.987\" cy=\"1323.45\" r=\"14\"/>\n",
       "<circle clip-path=\"url(#clip5902)\" style=\"fill:#000000; stroke:none; fill-opacity:1\" cx=\"980.071\" cy=\"1347.9\" r=\"18\"/>\n",
       "<circle clip-path=\"url(#clip5902)\" style=\"fill:#009af9; stroke:none; fill-opacity:1\" cx=\"980.071\" cy=\"1347.9\" r=\"14\"/>\n",
       "<circle clip-path=\"url(#clip5902)\" style=\"fill:#000000; stroke:none; fill-opacity:1\" cx=\"1049.15\" cy=\"1353.62\" r=\"18\"/>\n",
       "<circle clip-path=\"url(#clip5902)\" style=\"fill:#009af9; stroke:none; fill-opacity:1\" cx=\"1049.15\" cy=\"1353.62\" r=\"14\"/>\n",
       "<circle clip-path=\"url(#clip5902)\" style=\"fill:#000000; stroke:none; fill-opacity:1\" cx=\"1118.24\" cy=\"1367.32\" r=\"18\"/>\n",
       "<circle clip-path=\"url(#clip5902)\" style=\"fill:#009af9; stroke:none; fill-opacity:1\" cx=\"1118.24\" cy=\"1367.32\" r=\"14\"/>\n",
       "<circle clip-path=\"url(#clip5902)\" style=\"fill:#000000; stroke:none; fill-opacity:1\" cx=\"1187.32\" cy=\"1368.54\" r=\"18\"/>\n",
       "<circle clip-path=\"url(#clip5902)\" style=\"fill:#009af9; stroke:none; fill-opacity:1\" cx=\"1187.32\" cy=\"1368.54\" r=\"14\"/>\n",
       "<circle clip-path=\"url(#clip5902)\" style=\"fill:#000000; stroke:none; fill-opacity:1\" cx=\"1256.4\" cy=\"1358.81\" r=\"18\"/>\n",
       "<circle clip-path=\"url(#clip5902)\" style=\"fill:#009af9; stroke:none; fill-opacity:1\" cx=\"1256.4\" cy=\"1358.81\" r=\"14\"/>\n",
       "<circle clip-path=\"url(#clip5902)\" style=\"fill:#000000; stroke:none; fill-opacity:1\" cx=\"1325.49\" cy=\"1370.5\" r=\"18\"/>\n",
       "<circle clip-path=\"url(#clip5902)\" style=\"fill:#009af9; stroke:none; fill-opacity:1\" cx=\"1325.49\" cy=\"1370.5\" r=\"14\"/>\n",
       "<circle clip-path=\"url(#clip5902)\" style=\"fill:#000000; stroke:none; fill-opacity:1\" cx=\"1394.57\" cy=\"1385.42\" r=\"18\"/>\n",
       "<circle clip-path=\"url(#clip5902)\" style=\"fill:#009af9; stroke:none; fill-opacity:1\" cx=\"1394.57\" cy=\"1385.42\" r=\"14\"/>\n",
       "<circle clip-path=\"url(#clip5902)\" style=\"fill:#000000; stroke:none; fill-opacity:1\" cx=\"1463.65\" cy=\"1382.48\" r=\"18\"/>\n",
       "<circle clip-path=\"url(#clip5902)\" style=\"fill:#009af9; stroke:none; fill-opacity:1\" cx=\"1463.65\" cy=\"1382.48\" r=\"14\"/>\n",
       "<circle clip-path=\"url(#clip5902)\" style=\"fill:#000000; stroke:none; fill-opacity:1\" cx=\"1532.74\" cy=\"1380.91\" r=\"18\"/>\n",
       "<circle clip-path=\"url(#clip5902)\" style=\"fill:#009af9; stroke:none; fill-opacity:1\" cx=\"1532.74\" cy=\"1380.91\" r=\"14\"/>\n",
       "<circle clip-path=\"url(#clip5902)\" style=\"fill:#000000; stroke:none; fill-opacity:1\" cx=\"1601.82\" cy=\"1376.43\" r=\"18\"/>\n",
       "<circle clip-path=\"url(#clip5902)\" style=\"fill:#009af9; stroke:none; fill-opacity:1\" cx=\"1601.82\" cy=\"1376.43\" r=\"14\"/>\n",
       "<circle clip-path=\"url(#clip5902)\" style=\"fill:#000000; stroke:none; fill-opacity:1\" cx=\"1670.9\" cy=\"1384.18\" r=\"18\"/>\n",
       "<circle clip-path=\"url(#clip5902)\" style=\"fill:#009af9; stroke:none; fill-opacity:1\" cx=\"1670.9\" cy=\"1384.18\" r=\"14\"/>\n",
       "<circle clip-path=\"url(#clip5902)\" style=\"fill:#000000; stroke:none; fill-opacity:1\" cx=\"1739.99\" cy=\"1375.29\" r=\"18\"/>\n",
       "<circle clip-path=\"url(#clip5902)\" style=\"fill:#009af9; stroke:none; fill-opacity:1\" cx=\"1739.99\" cy=\"1375.29\" r=\"14\"/>\n",
       "<circle clip-path=\"url(#clip5902)\" style=\"fill:#000000; stroke:none; fill-opacity:1\" cx=\"1809.07\" cy=\"1368.27\" r=\"18\"/>\n",
       "<circle clip-path=\"url(#clip5902)\" style=\"fill:#009af9; stroke:none; fill-opacity:1\" cx=\"1809.07\" cy=\"1368.27\" r=\"14\"/>\n",
       "<circle clip-path=\"url(#clip5902)\" style=\"fill:#000000; stroke:none; fill-opacity:1\" cx=\"1878.15\" cy=\"1386.61\" r=\"18\"/>\n",
       "<circle clip-path=\"url(#clip5902)\" style=\"fill:#009af9; stroke:none; fill-opacity:1\" cx=\"1878.15\" cy=\"1386.61\" r=\"14\"/>\n",
       "<circle clip-path=\"url(#clip5902)\" style=\"fill:#000000; stroke:none; fill-opacity:1\" cx=\"1947.24\" cy=\"1384.47\" r=\"18\"/>\n",
       "<circle clip-path=\"url(#clip5902)\" style=\"fill:#009af9; stroke:none; fill-opacity:1\" cx=\"1947.24\" cy=\"1384.47\" r=\"14\"/>\n",
       "<circle clip-path=\"url(#clip5902)\" style=\"fill:#000000; stroke:none; fill-opacity:1\" cx=\"2016.32\" cy=\"1378.53\" r=\"18\"/>\n",
       "<circle clip-path=\"url(#clip5902)\" style=\"fill:#009af9; stroke:none; fill-opacity:1\" cx=\"2016.32\" cy=\"1378.53\" r=\"14\"/>\n",
       "<circle clip-path=\"url(#clip5902)\" style=\"fill:#000000; stroke:none; fill-opacity:1\" cx=\"2085.4\" cy=\"1372.07\" r=\"18\"/>\n",
       "<circle clip-path=\"url(#clip5902)\" style=\"fill:#009af9; stroke:none; fill-opacity:1\" cx=\"2085.4\" cy=\"1372.07\" r=\"14\"/>\n",
       "<circle clip-path=\"url(#clip5902)\" style=\"fill:#000000; stroke:none; fill-opacity:1\" cx=\"2154.49\" cy=\"1373.76\" r=\"18\"/>\n",
       "<circle clip-path=\"url(#clip5902)\" style=\"fill:#009af9; stroke:none; fill-opacity:1\" cx=\"2154.49\" cy=\"1373.76\" r=\"14\"/>\n",
       "<circle clip-path=\"url(#clip5902)\" style=\"fill:#000000; stroke:none; fill-opacity:1\" cx=\"2223.57\" cy=\"1369.63\" r=\"18\"/>\n",
       "<circle clip-path=\"url(#clip5902)\" style=\"fill:#009af9; stroke:none; fill-opacity:1\" cx=\"2223.57\" cy=\"1369.63\" r=\"14\"/>\n",
       "<circle clip-path=\"url(#clip5902)\" style=\"fill:#000000; stroke:none; fill-opacity:1\" cx=\"2292.65\" cy=\"1363.99\" r=\"18\"/>\n",
       "<circle clip-path=\"url(#clip5902)\" style=\"fill:#009af9; stroke:none; fill-opacity:1\" cx=\"2292.65\" cy=\"1363.99\" r=\"14\"/>\n",
       "</svg>\n"
      ]
     },
     "execution_count": 43,
     "metadata": {},
     "output_type": "execute_result"
    }
   ],
   "source": [
    "plot(ns, tnp./tjl, m=:circle, xscale=:log10, xlab=\"matrix size\", ylab=\"NumPy time / Julia time\", legend=:false)"
   ]
  },
  {
   "cell_type": "code",
   "execution_count": 44,
   "metadata": {},
   "outputs": [],
   "source": [
    "savefig(\"vandermonde.pdf\")"
   ]
  },
  {
   "cell_type": "markdown",
   "metadata": {},
   "source": [
    "Note that the clean and concise Julia implementation is beating the numpy implementation for small and is on-par for large matrix sizes!\n",
    "\n",
    "At the same time, the Julia code is generic and works for arbitrary types!"
   ]
  },
  {
   "cell_type": "code",
   "execution_count": 52,
   "metadata": {},
   "outputs": [
    {
     "data": {
      "text/plain": [
       "4×4 Array{Int32,2}:\n",
       " 1   4    16     64\n",
       " 1   8    64    512\n",
       " 1  16   256   4096\n",
       " 1  32  1024  32768"
      ]
     },
     "execution_count": 52,
     "metadata": {},
     "output_type": "execute_result"
    }
   ],
   "source": [
    "vander(Int32[4, 8, 16, 32])"
   ]
  },
  {
   "cell_type": "code",
   "execution_count": 47,
   "metadata": {},
   "outputs": [
    {
     "data": {
      "text/plain": [
       "4×4 Array{String,2}:\n",
       " \"\"  \"this\"  \"thisthis\"  \"thisthisthis\"\n",
       " \"\"  \"is\"    \"isis\"      \"isisis\"      \n",
       " \"\"  \"a\"     \"aa\"        \"aaa\"         \n",
       " \"\"  \"test\"  \"testtest\"  \"testtesttest\""
      ]
     },
     "execution_count": 47,
     "metadata": {},
     "output_type": "execute_result"
    }
   ],
   "source": [
    "vander([\"this\", \"is\", \"a\", \"test\"])"
   ]
  },
  {
   "cell_type": "code",
   "execution_count": 48,
   "metadata": {},
   "outputs": [
    {
     "data": {
      "text/plain": [
       "4×4 Array{Bool,2}:\n",
       " true   true   true   true\n",
       " true  false  false  false\n",
       " true  false  false  false\n",
       " true   true   true   true"
      ]
     },
     "execution_count": 48,
     "metadata": {},
     "output_type": "execute_result"
    }
   ],
   "source": [
    "vander([true, false, false, true])"
   ]
  }
 ],
 "metadata": {
  "kernelspec": {
   "display_name": "Julia 1.1.0",
   "language": "julia",
   "name": "julia-1.1"
  },
  "language_info": {
   "file_extension": ".jl",
   "mimetype": "application/julia",
   "name": "julia",
   "version": "1.1.0"
  }
 },
 "nbformat": 4,
 "nbformat_minor": 2
}
