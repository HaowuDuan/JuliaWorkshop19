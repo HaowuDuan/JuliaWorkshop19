{
 "cells": [
  {
   "cell_type": "markdown",
   "metadata": {},
   "source": [
    "# Parallel computing with Julia"
   ]
  },
  {
   "cell_type": "markdown",
   "metadata": {},
   "source": [
    "Julia documentation link: [Parallel computing](https://docs.julialang.org/en/v1/manual/parallel-computing/index.html)\n",
    "\n",
    "There are many types of parallelism, some of which are\n",
    "\n",
    "* **Instruction level parallelism**\n",
    "* **Multi-threading** (process shared memory)\n",
    "* **Tasks aka Coroutines** aka Green threads (more like cooperative multitasking, process shared memory)\n",
    "* **Multi-Core processing** (maybe system shared memory)\n",
    "* **Distributed processing** (same as above but involving multiple machines)\n",
    "\n",
    "Julia provides (more or less) native support for all of these forms of parallel processing (same order as above)\n",
    "\n",
    "* `@simd` and [SIMD.jl](https://github.com/eschnett/SIMD.jl)\n",
    "* `Base.Threads.@threads` (experimental since 2015 but seems to be fine)\n",
    "* `@async`, `@sync`, `Channel`\n",
    "* `@spawnat`, `@fetch`, `RemoteChannel`, `SharedArray`, etc.\n",
    "* `@spawnat`, `@fetch`, `RemoteChannel`, `DArray`, `MPI.jl` etc.\n",
    "\n",
    "With scientific computing in mind, we will mainly focus on how to distribute a process through multiple cores or machines (our thp cluster for example), that is **Multi-Core processing** and **Distributed processing**. But before we can do so, we have to learn how to control Julia's control flow through tasks."
   ]
  },
  {
   "cell_type": "markdown",
   "metadata": {},
   "source": [
    "# Tasks (Control flow)"
   ]
  },
  {
   "cell_type": "markdown",
   "metadata": {},
   "source": [
    "Tasks are a control flow feature that allows computations to be suspended and resumed in a flexible manner. This feature is sometimes called by other names, such as coroutines, green or lightweight threads and cooperative multitasking.\n",
    "\n",
    "To me, the name **cooperative multitasking** is the most descriptive. Tasks are managed/scheduled by Julia and can sometimes be run in a quasi-parallel fashion. It's no real parallel processing though. Only one task is being executed at a time.\n",
    "\n",
    "An important use case is **asynchronous I/O**, which is typically slow. Examples are\n",
    " * **multiple user input** (Why not already process some of the input?)\n",
    " * **data dumping to disk** (Maybe it's possible to continue a calculation?)\n",
    " * **receiving calculations from worker processes** (We'll need that below!)\n",
    " \n",
    "By default, Julia will wait for every command to finish and run everything sequentially.\n",
    "\n",
    "How do we execute commands asynchronously?"
   ]
  },
  {
   "cell_type": "markdown",
   "metadata": {},
   "source": [
    "## `@async` and `@sync`"
   ]
  },
  {
   "cell_type": "markdown",
   "metadata": {},
   "source": [
    "(Based on [this](https://stackoverflow.com/questions/37287020/how-and-when-to-use-async-and-sync-in-julia/37287021#37287021) stackoverflow answer.)"
   ]
  },
  {
   "cell_type": "code",
   "execution_count": 2,
   "metadata": {},
   "outputs": [
    {
     "data": {
      "text/markdown": [
       "```\n",
       "@async\n",
       "```\n",
       "\n",
       "Wrap an expression in a [`Task`](@ref) and add it to the local machine's scheduler queue.\n"
      ],
      "text/plain": [
       "\u001b[36m  @async\u001b[39m\n",
       "\n",
       "  Wrap an expression in a \u001b[36mTask\u001b[39m and add it to the local machine's scheduler\n",
       "  queue."
      ]
     },
     "execution_count": 2,
     "metadata": {},
     "output_type": "execute_result"
    }
   ],
   "source": [
    "?@async"
   ]
  },
  {
   "cell_type": "markdown",
   "metadata": {},
   "source": [
    "What this means is that for whatever falls within its scope, Julia will start this task running but then proceed to whatever comes next in the script without waiting for the task to complete. Thus, for instance, without the macro you will get:"
   ]
  },
  {
   "cell_type": "code",
   "execution_count": 5,
   "metadata": {},
   "outputs": [
    {
     "name": "stdout",
     "output_type": "stream",
     "text": [
      "  2.001173 seconds (50 allocations: 1.359 KiB)\n"
     ]
    }
   ],
   "source": [
    "@time sleep(2);"
   ]
  },
  {
   "cell_type": "markdown",
   "metadata": {},
   "source": [
    "But with the macro, you get:"
   ]
  },
  {
   "cell_type": "code",
   "execution_count": 10,
   "metadata": {},
   "outputs": [
    {
     "name": "stdout",
     "output_type": "stream",
     "text": [
      "  0.000046 seconds (22 allocations: 2.078 KiB)\n"
     ]
    },
    {
     "data": {
      "text/plain": [
       "Task (runnable) @0x000000000efda290"
      ]
     },
     "execution_count": 10,
     "metadata": {},
     "output_type": "execute_result"
    }
   ],
   "source": [
    "@time @async sleep(2)"
   ]
  },
  {
   "cell_type": "markdown",
   "metadata": {},
   "source": [
    "Julia allows the script to proceed (and the `@time` macro to fully execute) without waiting for the task (in this case, sleeping for two seconds) to complete."
   ]
  },
  {
   "cell_type": "markdown",
   "metadata": {},
   "source": [
    "The `@sync` macro, by contrast, will \"Wait until all dynamically-enclosed uses of `@async` [...] are complete.\" (see `?@sync`). \n",
    "\n",
    "Thus, we see:"
   ]
  },
  {
   "cell_type": "code",
   "execution_count": 11,
   "metadata": {},
   "outputs": [
    {
     "name": "stdout",
     "output_type": "stream",
     "text": [
      "  2.005162 seconds (1.93 k allocations: 95.940 KiB)\n"
     ]
    },
    {
     "data": {
      "text/plain": [
       "Task (done) @0x000000000df50b90"
      ]
     },
     "execution_count": 11,
     "metadata": {},
     "output_type": "execute_result"
    }
   ],
   "source": [
    "@time @sync @async sleep(2)"
   ]
  },
  {
   "cell_type": "markdown",
   "metadata": {},
   "source": [
    "In this simple example then, there is no point to including a single instance of `@async` and `@sync` together. But, where `@sync` can be useful is where you have `@async` applied to multiple operations that you wish to allow to all start at once without waiting for each to complete."
   ]
  },
  {
   "cell_type": "code",
   "execution_count": 17,
   "metadata": {},
   "outputs": [
    {
     "name": "stdout",
     "output_type": "stream",
     "text": [
      "  2.006509 seconds (4.46 k allocations: 216.182 KiB)\n"
     ]
    },
    {
     "data": {
      "text/plain": [
       "Task (done) @0x000000000df53990"
      ]
     },
     "execution_count": 17,
     "metadata": {},
     "output_type": "execute_result"
    }
   ],
   "source": [
    "@time @sync begin\n",
    "    @async sleep(2.0)\n",
    "    @async sleep(2.0)\n",
    "end"
   ]
  },
  {
   "cell_type": "code",
   "execution_count": 82,
   "metadata": {},
   "outputs": [
    {
     "name": "stdout",
     "output_type": "stream",
     "text": [
      "Hello class!\n",
      "Today is reverse day!\n"
     ]
    }
   ],
   "source": [
    "@sync begin\n",
    "    @async (sleep(2); println(\"Today is reverse day!\"))\n",
    "    @async (sleep(1); println(\" class!\"))\n",
    "    @async print(\"Hello\")\n",
    "end;"
   ]
  },
  {
   "cell_type": "markdown",
   "metadata": {},
   "source": [
    "# Distributed processing: Multi-core"
   ]
  },
  {
   "cell_type": "markdown",
   "metadata": {},
   "source": [
    "Distributed processing in Julia uses individual processes that communicated with each other. These processes can live on different cores and/or different hosts. Data movement and communication is explicit.\n",
    "\n",
    "Let's focus on the *multi-core* case (your laptop/desktop) and save the cluster fun for later."
   ]
  },
  {
   "cell_type": "markdown",
   "metadata": {},
   "source": [
    "## Master-worker model\n",
    "\n",
    "Julia uses a *master-worker* paradigm for its native distributed parallelism. One master process coordinates all the worker processes, which perform the actual computations.\n",
    "\n",
    "By default julia starts with one process on one core. If this single process is all we have, than it is both the master and the worker.\n",
    "\n",
    "We can change the number of processes by starting Julia with the command line option `-p X`, where the number `X` indicates how many **worker processes** we would like to have. Thus,\n",
    "\n",
    "```\n",
    "julia -p 4\n",
    "```\n",
    "\n",
    "will start Julia with 5 processes, 1 master and 4 workers.\n",
    "\n",
    "Alternatively, we can start julia as usual (simply `julia`) and add worker processes afterwards. This is what we will do in jupyter notebooks because changing the Julia kernels startup options isn't easily possible."
   ]
  },
  {
   "cell_type": "code",
   "execution_count": 18,
   "metadata": {},
   "outputs": [],
   "source": [
    "using Distributed # Loading all tools that we need for distributed computing"
   ]
  },
  {
   "cell_type": "code",
   "execution_count": 19,
   "metadata": {},
   "outputs": [
    {
     "data": {
      "text/plain": [
       "1"
      ]
     },
     "execution_count": 19,
     "metadata": {},
     "output_type": "execute_result"
    }
   ],
   "source": [
    "nprocs()"
   ]
  },
  {
   "cell_type": "code",
   "execution_count": 26,
   "metadata": {},
   "outputs": [
    {
     "data": {
      "text/plain": [
       "1"
      ]
     },
     "execution_count": 26,
     "metadata": {},
     "output_type": "execute_result"
    }
   ],
   "source": [
    "nworkers() # the master is considered a worker as long as there are no real workers"
   ]
  },
  {
   "cell_type": "code",
   "execution_count": 21,
   "metadata": {},
   "outputs": [
    {
     "data": {
      "text/plain": [
       "4-element Array{Int64,1}:\n",
       " 2\n",
       " 3\n",
       " 4\n",
       " 5"
      ]
     },
     "execution_count": 21,
     "metadata": {},
     "output_type": "execute_result"
    }
   ],
   "source": [
    "addprocs(4) # I have 4 cores, so let's add 4 worker processes."
   ]
  },
  {
   "cell_type": "markdown",
   "metadata": {},
   "source": [
    "Every process has a Julia internal `pid`. The master is always 1. You can get the workers pids from `workers()`."
   ]
  },
  {
   "cell_type": "code",
   "execution_count": 22,
   "metadata": {},
   "outputs": [
    {
     "data": {
      "text/plain": [
       "4-element Array{Int64,1}:\n",
       " 2\n",
       " 3\n",
       " 4\n",
       " 5"
      ]
     },
     "execution_count": 22,
     "metadata": {},
     "output_type": "execute_result"
    }
   ],
   "source": [
    "workers()"
   ]
  },
  {
   "cell_type": "markdown",
   "metadata": {},
   "source": [
    "Note that the 4 worker's pids aren't necessarily 2, 3, 4 and 5. Let's remove the processes and add them once more."
   ]
  },
  {
   "cell_type": "code",
   "execution_count": 23,
   "metadata": {},
   "outputs": [
    {
     "data": {
      "text/plain": [
       "Task (done) @0x000000000ef2d9f0"
      ]
     },
     "execution_count": 23,
     "metadata": {},
     "output_type": "execute_result"
    }
   ],
   "source": [
    "rmprocs(workers()) # rmprocs(array of pids of worker processes to remove)"
   ]
  },
  {
   "cell_type": "code",
   "execution_count": 28,
   "metadata": {},
   "outputs": [
    {
     "data": {
      "text/plain": [
       "1"
      ]
     },
     "execution_count": 28,
     "metadata": {},
     "output_type": "execute_result"
    }
   ],
   "source": [
    "nworkers() # only the master is left"
   ]
  },
  {
   "cell_type": "code",
   "execution_count": 29,
   "metadata": {},
   "outputs": [
    {
     "data": {
      "text/plain": [
       "4-element Array{Int64,1}:\n",
       " 6\n",
       " 7\n",
       " 8\n",
       " 9"
      ]
     },
     "execution_count": 29,
     "metadata": {},
     "output_type": "execute_result"
    }
   ],
   "source": [
    "addprocs(4)"
   ]
  },
  {
   "cell_type": "code",
   "execution_count": 119,
   "metadata": {},
   "outputs": [
    {
     "data": {
      "text/plain": [
       "4-element Array{Int64,1}:\n",
       " 6\n",
       " 7\n",
       " 8\n",
       " 9"
      ]
     },
     "execution_count": 119,
     "metadata": {},
     "output_type": "execute_result"
    }
   ],
   "source": [
    "workers()"
   ]
  },
  {
   "cell_type": "markdown",
   "metadata": {},
   "source": [
    "## One master to rule them all - `@spawn`, `@spawnat`, `@fetch`, `@fetchfrom`, `@everywhere`..."
   ]
  },
  {
   "cell_type": "markdown",
   "metadata": {},
   "source": [
    "(There are functions, like [`remotecall`](https://docs.julialang.org/en/stable/stdlib/Distributed/#Distributed.remotecall-Tuple{Any,Integer,Vararg{Any,N}%20where%20N}) and others, underlying the following macros but we'll focus on the more high-level macro usage.)\n",
    "\n",
    "To execute commands and start computations on workers we can use the following macros\n",
    "\n",
    "* `@spawn`: run a command or a code block on any worker and return a `Future` to it's result. It is basically `@async` for remote processes.\n",
    "* `@spawnat`: same as `@spawn` but specify, `pid` as first argument, on which worker to execute the command/code block\n",
    "\n",
    "You can look at the [documentation](https://docs.julialang.org/en/stable/manual/parallel-computing/#Multi-Core-or-Distributed-Processing-1) and their help `?@macro` for more details."
   ]
  },
  {
   "cell_type": "markdown",
   "metadata": {},
   "source": [
    "**Example:** Let's say we would like to generate a random matrix on one of the workers."
   ]
  },
  {
   "cell_type": "code",
   "execution_count": 33,
   "metadata": {},
   "outputs": [
    {
     "data": {
      "text/plain": [
       "Future(7, 1, 11, nothing)"
      ]
     },
     "execution_count": 33,
     "metadata": {},
     "output_type": "execute_result"
    }
   ],
   "source": [
    "@spawn rand(2,2) # basically @async for remote process"
   ]
  },
  {
   "cell_type": "code",
   "execution_count": 40,
   "metadata": {},
   "outputs": [
    {
     "data": {
      "text/plain": [
       "Future(6, 1, 18, nothing)"
      ]
     },
     "execution_count": 40,
     "metadata": {},
     "output_type": "execute_result"
    }
   ],
   "source": [
    "result = @spawn rand(2,2)"
   ]
  },
  {
   "cell_type": "code",
   "execution_count": 42,
   "metadata": {},
   "outputs": [
    {
     "data": {
      "text/plain": [
       "2×2 Array{Float64,2}:\n",
       " 0.870969  0.158943\n",
       " 0.245301  0.392364"
      ]
     },
     "execution_count": 42,
     "metadata": {},
     "output_type": "execute_result"
    }
   ],
   "source": [
    "fetch(result) # blocks similar to @sync"
   ]
  },
  {
   "cell_type": "markdown",
   "metadata": {},
   "source": [
    "Because spawning at fetching is so common, there is `@fetch` which combines both"
   ]
  },
  {
   "cell_type": "code",
   "execution_count": 49,
   "metadata": {},
   "outputs": [
    {
     "data": {
      "text/plain": [
       "2×2 Array{Float64,2}:\n",
       " 0.895232  0.51967 \n",
       " 0.681459  0.678942"
      ]
     },
     "execution_count": 49,
     "metadata": {},
     "output_type": "execute_result"
    }
   ],
   "source": [
    "@fetch rand(2,2)"
   ]
  },
  {
   "cell_type": "markdown",
   "metadata": {},
   "source": [
    "Which worker did the work?"
   ]
  },
  {
   "cell_type": "code",
   "execution_count": 53,
   "metadata": {},
   "outputs": [
    {
     "name": "stdout",
     "output_type": "stream",
     "text": [
      "      From worker 9:\t9\n"
     ]
    },
    {
     "data": {
      "text/plain": [
       "2×2 Array{Float64,2}:\n",
       " 0.4675    0.230163 \n",
       " 0.692955  0.0518964"
      ]
     },
     "execution_count": 53,
     "metadata": {},
     "output_type": "execute_result"
    }
   ],
   "source": [
    "@fetch begin println(myid()); rand(2,2) end"
   ]
  },
  {
   "cell_type": "markdown",
   "metadata": {},
   "source": [
    "Using `@spawnat` and `@fetchfrom` we can delegate the work to a specific worker."
   ]
  },
  {
   "cell_type": "code",
   "execution_count": 57,
   "metadata": {},
   "outputs": [
    {
     "name": "stdout",
     "output_type": "stream",
     "text": [
      "      From worker 7:\t7"
     ]
    },
    {
     "data": {
      "text/plain": [
       "2×2 Array{Float64,2}:\n",
       " 0.130036  0.28039 \n",
       " 0.269775  0.690673"
      ]
     },
     "execution_count": 57,
     "metadata": {},
     "output_type": "execute_result"
    },
    {
     "name": "stdout",
     "output_type": "stream",
     "text": [
      "\n"
     ]
    }
   ],
   "source": [
    "@fetchfrom 7 begin println(myid()); rand(2,2) end"
   ]
  },
  {
   "cell_type": "markdown",
   "metadata": {},
   "source": [
    "We can use `@sync` as a blocker to wait for all workers to complete their tasks."
   ]
  },
  {
   "cell_type": "code",
   "execution_count": 7,
   "metadata": {},
   "outputs": [
    {
     "name": "stdout",
     "output_type": "stream",
     "text": [
      "      From worker 4:\tHello\n",
      "      From worker 3:\t class!\n",
      "      From worker 2:\tToday is reverse day!\n",
      "Done!\n"
     ]
    }
   ],
   "source": [
    "@sync begin\n",
    "    pids = workers()\n",
    "    @spawnat pids[1] (sleep(2); println(\"Today is reverse day!\"))\n",
    "    @spawnat pids[2] (sleep(1); println(\" class!\"))\n",
    "    @spawnat pids[3] println(\"Hello\")\n",
    "end;\n",
    "println(\"Done!\")"
   ]
  },
  {
   "cell_type": "markdown",
   "metadata": {},
   "source": [
    "Ok, now that we understood all that, let's delegate a complicated calculation"
   ]
  },
  {
   "cell_type": "code",
   "execution_count": null,
   "metadata": {
    "scrolled": true
   },
   "outputs": [],
   "source": [
    "using Random\n",
    "\n",
    "function complicated_calculation()\n",
    "    sleep(1)\n",
    "    randexp(5) # lives in Random\n",
    "end\n",
    "\n",
    "@fetch complicated_calculation()"
   ]
  },
  {
   "cell_type": "markdown",
   "metadata": {},
   "source": [
    "**Every worker process is basically a separate julia instance.** We only defined `complicated_calculation()` on the master process. The method doesn't exist on the workers yet.\n",
    "\n",
    "The macro `@everywhere` is useful to load packages and define methods on all processes."
   ]
  },
  {
   "cell_type": "code",
   "execution_count": 67,
   "metadata": {},
   "outputs": [
    {
     "data": {
      "text/plain": [
       "5-element Array{Float64,1}:\n",
       " 0.11749444873005509\n",
       " 0.06741375406819157\n",
       " 0.6655676962992829 \n",
       " 0.06850781436234352\n",
       " 1.8734791096049561 "
      ]
     },
     "execution_count": 67,
     "metadata": {},
     "output_type": "execute_result"
    }
   ],
   "source": [
    "@everywhere using Random\n",
    "\n",
    "@everywhere function complicated_calculation()\n",
    "    sleep(1)\n",
    "    randexp(5) # lives in Random\n",
    "end\n",
    "\n",
    "@fetch complicated_calculation()"
   ]
  },
  {
   "cell_type": "markdown",
   "metadata": {},
   "source": [
    "## Data movement"
   ]
  },
  {
   "cell_type": "markdown",
   "metadata": {},
   "source": [
    "What is the difference between"
   ]
  },
  {
   "cell_type": "code",
   "execution_count": 85,
   "metadata": {},
   "outputs": [
    {
     "data": {
      "text/plain": [
       "method1 (generic function with 1 method)"
      ]
     },
     "execution_count": 85,
     "metadata": {},
     "output_type": "execute_result"
    }
   ],
   "source": [
    "function method1()\n",
    "    A = rand(1000,1000)\n",
    "    B = @fetch A^2\n",
    "end"
   ]
  },
  {
   "cell_type": "markdown",
   "metadata": {},
   "source": [
    "and"
   ]
  },
  {
   "cell_type": "code",
   "execution_count": 86,
   "metadata": {},
   "outputs": [
    {
     "data": {
      "text/plain": [
       "method2 (generic function with 1 method)"
      ]
     },
     "execution_count": 86,
     "metadata": {},
     "output_type": "execute_result"
    }
   ],
   "source": [
    "function method2()\n",
    "    B = @fetch rand(1000,1000)^2\n",
    "end"
   ]
  },
  {
   "cell_type": "markdown",
   "metadata": {},
   "source": [
    "?"
   ]
  },
  {
   "cell_type": "markdown",
   "metadata": {},
   "source": [
    "Let's benchmark it"
   ]
  },
  {
   "cell_type": "code",
   "execution_count": 87,
   "metadata": {},
   "outputs": [
    {
     "name": "stdout",
     "output_type": "stream",
     "text": [
      "  72.073 ms (128 allocations: 15.26 MiB)\n",
      "  55.759 ms (116 allocations: 7.63 MiB)\n"
     ]
    }
   ],
   "source": [
    "@btime method1();\n",
    "@btime method2();"
   ]
  },
  {
   "cell_type": "markdown",
   "metadata": {},
   "source": [
    "Method 1 is ~30% slower, because `A` is created on the master process, transferred to a worker, squared by the worker, and finally transferred back to the master.\n",
    "\n",
    "Method 2 creates and squares the random matrix right on the work process and only submits the result to the master."
   ]
  },
  {
   "cell_type": "markdown",
   "metadata": {},
   "source": [
    "**Data movement is crucial!**"
   ]
  },
  {
   "cell_type": "markdown",
   "metadata": {},
   "source": [
    "In this toy example, the two methods are easy to distinguish and choose from. However, in a real program designing data movement might require more thought and likely some measurement. For example, if the first process needs matrix A then the first method might be better. Or, if computing A is expensive and only the current process has it, then moving it to another process might be unavoidable."
   ]
  },
  {
   "cell_type": "markdown",
   "metadata": {},
   "source": [
    "## Data movement: avoid globals (again)"
   ]
  },
  {
   "cell_type": "code",
   "execution_count": 113,
   "metadata": {},
   "outputs": [
    {
     "data": {
      "text/plain": [
       "4"
      ]
     },
     "execution_count": 113,
     "metadata": {},
     "output_type": "execute_result"
    }
   ],
   "source": [
    "myglobal = 4"
   ]
  },
  {
   "cell_type": "code",
   "execution_count": 114,
   "metadata": {},
   "outputs": [
    {
     "name": "stdout",
     "output_type": "stream",
     "text": [
      "myglobal exists.\n",
      "      From worker 6:\tmyglobal exists.\n",
      "      From worker 7:\tDoesn't exist.\n",
      "      From worker 8:\tDoesn't exist.\n",
      "      From worker 9:\tDoesn't exist.\n"
     ]
    }
   ],
   "source": [
    "@everywhere isdefined(Main, :myglobal) ? println(\"myglobal exists.\") : println(\"Doesn't exist.\")"
   ]
  },
  {
   "cell_type": "code",
   "execution_count": 115,
   "metadata": {},
   "outputs": [
    {
     "data": {
      "text/plain": [
       "6"
      ]
     },
     "execution_count": 115,
     "metadata": {},
     "output_type": "execute_result"
    }
   ],
   "source": [
    "@fetchfrom 6 myglobal+2"
   ]
  },
  {
   "cell_type": "code",
   "execution_count": 116,
   "metadata": {},
   "outputs": [
    {
     "name": "stdout",
     "output_type": "stream",
     "text": [
      "myglobal exists.\n",
      "      From worker 6:\tmyglobal exists.\n",
      "      From worker 9:\tDoesn't exist.\n",
      "      From worker 7:\tDoesn't exist.\n",
      "      From worker 8:\tDoesn't exist.\n"
     ]
    }
   ],
   "source": [
    "@everywhere isdefined(Main, :myglobal) ? println(\"myglobal exists.\") : println(\"Doesn't exist.\")"
   ]
  },
  {
   "cell_type": "markdown",
   "metadata": {},
   "source": [
    "Globals get copied to workers and continue to exist as globals even after the call. This could lead to memory accumulation if many globals are used (just as it would in a single Julia session). Avoid them!"
   ]
  },
  {
   "cell_type": "markdown",
   "metadata": {},
   "source": [
    "## Explicit data movement: `Channel` and `RemoteChannel`"
   ]
  },
  {
   "cell_type": "markdown",
   "metadata": {},
   "source": [
    "Channels in Julia are a way to exchange data. They implement `put!`, `take!`, `fetch`, `isready` and `wait` methods."
   ]
  },
  {
   "cell_type": "code",
   "execution_count": 376,
   "metadata": {
    "scrolled": true
   },
   "outputs": [],
   "source": [
    "# ?Channel"
   ]
  },
  {
   "cell_type": "code",
   "execution_count": 375,
   "metadata": {},
   "outputs": [
    {
     "data": {
      "text/plain": [
       "Channel{Int64}(sz_max:5,sz_curr:0)"
      ]
     },
     "execution_count": 375,
     "metadata": {},
     "output_type": "execute_result"
    }
   ],
   "source": [
    "ch = Channel{Int}(5) # a channel that can hold up to 5 integers"
   ]
  },
  {
   "cell_type": "code",
   "execution_count": 379,
   "metadata": {},
   "outputs": [
    {
     "data": {
      "text/plain": [
       "false"
      ]
     },
     "execution_count": 379,
     "metadata": {},
     "output_type": "execute_result"
    }
   ],
   "source": [
    "isready(ch) # is there something in the channel?"
   ]
  },
  {
   "cell_type": "code",
   "execution_count": 380,
   "metadata": {},
   "outputs": [
    {
     "data": {
      "text/plain": [
       "3"
      ]
     },
     "execution_count": 380,
     "metadata": {},
     "output_type": "execute_result"
    }
   ],
   "source": [
    "put!(ch, 3)"
   ]
  },
  {
   "cell_type": "code",
   "execution_count": 381,
   "metadata": {},
   "outputs": [
    {
     "data": {
      "text/plain": [
       "true"
      ]
     },
     "execution_count": 381,
     "metadata": {},
     "output_type": "execute_result"
    }
   ],
   "source": [
    "isready(ch)"
   ]
  },
  {
   "cell_type": "code",
   "execution_count": 382,
   "metadata": {},
   "outputs": [
    {
     "data": {
      "text/plain": [
       "3"
      ]
     },
     "execution_count": 382,
     "metadata": {},
     "output_type": "execute_result"
    }
   ],
   "source": [
    "take!(ch)"
   ]
  },
  {
   "cell_type": "code",
   "execution_count": 383,
   "metadata": {},
   "outputs": [
    {
     "data": {
      "text/plain": [
       "false"
      ]
     },
     "execution_count": 383,
     "metadata": {},
     "output_type": "execute_result"
    }
   ],
   "source": [
    "isready(ch)"
   ]
  },
  {
   "cell_type": "code",
   "execution_count": 386,
   "metadata": {},
   "outputs": [
    {
     "data": {
      "text/plain": [
       "4"
      ]
     },
     "execution_count": 386,
     "metadata": {},
     "output_type": "execute_result"
    }
   ],
   "source": [
    "put!(ch, 4)"
   ]
  },
  {
   "cell_type": "code",
   "execution_count": 390,
   "metadata": {},
   "outputs": [
    {
     "data": {
      "text/plain": [
       "4"
      ]
     },
     "execution_count": 390,
     "metadata": {},
     "output_type": "execute_result"
    }
   ],
   "source": [
    "fetch(ch) # basically take without a bang"
   ]
  },
  {
   "cell_type": "code",
   "execution_count": 394,
   "metadata": {},
   "outputs": [
    {
     "data": {
      "text/plain": [
       "4"
      ]
     },
     "execution_count": 394,
     "metadata": {},
     "output_type": "execute_result"
    }
   ],
   "source": [
    "take!(ch)"
   ]
  },
  {
   "cell_type": "markdown",
   "metadata": {},
   "source": [
    "Be careful, `take!` and `put!` are blocking if the channel is empty or full!"
   ]
  },
  {
   "cell_type": "code",
   "execution_count": 396,
   "metadata": {},
   "outputs": [
    {
     "data": {
      "text/plain": [
       "false"
      ]
     },
     "execution_count": 396,
     "metadata": {},
     "output_type": "execute_result"
    }
   ],
   "source": [
    "isready(ch)"
   ]
  },
  {
   "cell_type": "code",
   "execution_count": 397,
   "metadata": {},
   "outputs": [],
   "source": [
    "# take!(ch) if we would execute this, the current Julia process would hang."
   ]
  },
  {
   "cell_type": "markdown",
   "metadata": {},
   "source": [
    "## Channels for inter-process data movement: `RemoteChannel`"
   ]
  },
  {
   "cell_type": "markdown",
   "metadata": {},
   "source": [
    "* A `Channel` is local to a process. Worker 2 cannot directly refer to a `Channel` on worker 3 and vice-versa.\n",
    "\n",
    "\n",
    "* A `RemoteChannel`, however, can put and take values across workers. A `RemoteChannel` can be thought of as a handle to a `Channel`.\n",
    "\n",
    "\n",
    "* Any process with a reference to a `RemoteChannel` can put and take items from the channel. Data is automatically sent to (or retrieved from) the process a `RemoteChannel` is associated with.\n",
    "\n",
    "\n",
    "* The process id, pid, associated with a `RemoteChannel` identifies the process where the backing store, i.e., the backing Channel exists."
   ]
  },
  {
   "cell_type": "code",
   "execution_count": 406,
   "metadata": {},
   "outputs": [
    {
     "data": {
      "text/plain": [
       "1"
      ]
     },
     "execution_count": 406,
     "metadata": {},
     "output_type": "execute_result"
    }
   ],
   "source": [
    "nworkers()"
   ]
  },
  {
   "cell_type": "code",
   "execution_count": 407,
   "metadata": {},
   "outputs": [
    {
     "data": {
      "text/plain": [
       "4-element Array{Int64,1}:\n",
       " 131\n",
       " 132\n",
       " 133\n",
       " 134"
      ]
     },
     "execution_count": 407,
     "metadata": {},
     "output_type": "execute_result"
    }
   ],
   "source": [
    "addprocs(4)"
   ]
  },
  {
   "cell_type": "code",
   "execution_count": 410,
   "metadata": {},
   "outputs": [
    {
     "name": "stdout",
     "output_type": "stream",
     "text": [
      "search: \u001b[0m\u001b[1mR\u001b[22m\u001b[0m\u001b[1me\u001b[22m\u001b[0m\u001b[1mm\u001b[22m\u001b[0m\u001b[1mo\u001b[22m\u001b[0m\u001b[1mt\u001b[22m\u001b[0m\u001b[1me\u001b[22m\u001b[0m\u001b[1mC\u001b[22m\u001b[0m\u001b[1mh\u001b[22m\u001b[0m\u001b[1ma\u001b[22m\u001b[0m\u001b[1mn\u001b[22m\u001b[0m\u001b[1mn\u001b[22m\u001b[0m\u001b[1me\u001b[22m\u001b[0m\u001b[1ml\u001b[22m\n",
      "\n"
     ]
    },
    {
     "data": {
      "text/markdown": [
       "```\n",
       "RemoteChannel(pid::Integer=myid())\n",
       "```\n",
       "\n",
       "Make a reference to a `Channel{Any}(1)` on process `pid`. The default `pid` is the current process.\n",
       "\n",
       "```\n",
       "RemoteChannel(f::Function, pid::Integer=myid())\n",
       "```\n",
       "\n",
       "Create references to remote channels of a specific size and type. `f` is a function that when executed on `pid` must return an implementation of an `AbstractChannel`.\n",
       "\n",
       "For example, `RemoteChannel(()->Channel{Int}(10), pid)`, will return a reference to a channel of type `Int` and size 10 on `pid`.\n",
       "\n",
       "The default `pid` is the current process.\n"
      ],
      "text/plain": [
       "\u001b[36m  RemoteChannel(pid::Integer=myid())\u001b[39m\n",
       "\n",
       "  Make a reference to a \u001b[36mChannel{Any}(1)\u001b[39m on process \u001b[36mpid\u001b[39m. The default \u001b[36mpid\u001b[39m is the\n",
       "  current process.\n",
       "\n",
       "\u001b[36m  RemoteChannel(f::Function, pid::Integer=myid())\u001b[39m\n",
       "\n",
       "  Create references to remote channels of a specific size and type. \u001b[36mf\u001b[39m is a\n",
       "  function that when executed on \u001b[36mpid\u001b[39m must return an implementation of an\n",
       "  \u001b[36mAbstractChannel\u001b[39m.\n",
       "\n",
       "  For example, \u001b[36mRemoteChannel(()->Channel{Int}(10), pid)\u001b[39m, will return a\n",
       "  reference to a channel of type \u001b[36mInt\u001b[39m and size 10 on \u001b[36mpid\u001b[39m.\n",
       "\n",
       "  The default \u001b[36mpid\u001b[39m is the current process."
      ]
     },
     "execution_count": 410,
     "metadata": {},
     "output_type": "execute_result"
    }
   ],
   "source": [
    "?RemoteChannel"
   ]
  },
  {
   "cell_type": "code",
   "execution_count": 5,
   "metadata": {},
   "outputs": [
    {
     "data": {
      "text/plain": [
       "RemoteChannel{Channel{Int64}}(3, 1, 6)"
      ]
     },
     "execution_count": 5,
     "metadata": {},
     "output_type": "execute_result"
    }
   ],
   "source": [
    "# creates a channel on the second worker process\n",
    "# create a RemoteChannel handle to the channel on the master process\n",
    "const mychannel = RemoteChannel(()->Channel{Int}(10), workers()[2])"
   ]
  },
  {
   "cell_type": "code",
   "execution_count": 6,
   "metadata": {},
   "outputs": [
    {
     "name": "stdout",
     "output_type": "stream",
     "text": [
      "mychannel = RemoteChannel{Channel{Int64}}(3, 1, 6)\n",
      "      From worker 3:\tDoesn't exist.\n",
      "      From worker 2:\tDoesn't exist.\n",
      "      From worker 4:\tDoesn't exist.\n",
      "      From worker 5:\tDoesn't exist.\n"
     ]
    }
   ],
   "source": [
    "@everywhere try @show mychannel catch err println(\"Doesn't exist.\") end"
   ]
  },
  {
   "cell_type": "code",
   "execution_count": 7,
   "metadata": {},
   "outputs": [],
   "source": [
    "# One could create a global constant mychannel everywhere\n",
    "@everywhere const mychannel = $mychannel"
   ]
  },
  {
   "cell_type": "code",
   "execution_count": 8,
   "metadata": {},
   "outputs": [
    {
     "name": "stdout",
     "output_type": "stream",
     "text": [
      "mychannel = RemoteChannel{Channel{Int64}}(3, 1, 6)\n",
      "      From worker 4:\tmychannel = RemoteChannel{Channel{Int64}}(3, 1, 6)\n",
      "      From worker 3:\tmychannel = RemoteChannel{Channel{Int64}}(3, 1, 6)\n",
      "      From worker 2:\tmychannel = RemoteChannel{Channel{Int64}}(3, 1, 6)\n",
      "      From worker 5:\tmychannel = RemoteChannel{Channel{Int64}}(3, 1, 6)\n"
     ]
    }
   ],
   "source": [
    "@everywhere try @show mychannel catch err println(\"Doesn't exist.\") end"
   ]
  },
  {
   "cell_type": "markdown",
   "metadata": {},
   "source": [
    "However, as we said many times before, one should generally try to avoid globals in performance critical computations."
   ]
  },
  {
   "cell_type": "code",
   "execution_count": 9,
   "metadata": {},
   "outputs": [
    {
     "data": {
      "text/plain": [
       "RemoteChannel{Channel{Int64}}(1, 1, 32)"
      ]
     },
     "execution_count": 9,
     "metadata": {},
     "output_type": "execute_result"
    }
   ],
   "source": [
    "function do_something()\n",
    "    rc = RemoteChannel(()->Channel{Int}(10))\n",
    "    @sync for p in workers()\n",
    "        @spawnat p put!(rc, myid())\n",
    "    end\n",
    "    rc\n",
    "end\n",
    "\n",
    "r = do_something()"
   ]
  },
  {
   "cell_type": "code",
   "execution_count": 10,
   "metadata": {},
   "outputs": [
    {
     "data": {
      "text/plain": [
       "true"
      ]
     },
     "execution_count": 10,
     "metadata": {},
     "output_type": "execute_result"
    }
   ],
   "source": [
    "isready(r)"
   ]
  },
  {
   "cell_type": "code",
   "execution_count": 11,
   "metadata": {},
   "outputs": [
    {
     "name": "stdout",
     "output_type": "stream",
     "text": [
      "take!(r) = 3\n",
      "take!(r) = 5\n",
      "take!(r) = 2\n",
      "take!(r) = 4\n"
     ]
    }
   ],
   "source": [
    "while isready(r)\n",
    "    @show take!(r)\n",
    "end"
   ]
  },
  {
   "cell_type": "markdown",
   "metadata": {},
   "source": [
    "## Explicit data movement: ParallelDataTransfer.jl"
   ]
  },
  {
   "cell_type": "markdown",
   "metadata": {},
   "source": [
    "https://github.com/ChrisRackauckas/ParallelDataTransfer.jl/"
   ]
  },
  {
   "cell_type": "markdown",
   "metadata": {},
   "source": [
    "# Helpers for common scenarios - `@distributed` and `pmap`"
   ]
  },
  {
   "cell_type": "markdown",
   "metadata": {},
   "source": [
    "So far we have seen the build block of commands for distributed computing in Julia. Having scientific computing in mind, one might not always want to think about how to distribute the work and explicitly spawn tasks.\n",
    "\n",
    "Also, fortunately, many useful parallel computations do not require (much) data movement. A common example is a direct Monte Carlo simulation, where multiple processes can handle independent simulation trials simultaneously. (We'll get to that later!)\n",
    "\n",
    "Julia provides convenience macros to\n",
    " * Parallelize loops (`@distributed`)\n",
    " * Apply a function to all elements in some collection (`pmap`)\n",
    " \n",
    "Let's explore these!"
   ]
  },
  {
   "cell_type": "markdown",
   "metadata": {},
   "source": [
    "## Distributed loops (`@distributed`)"
   ]
  },
  {
   "cell_type": "code",
   "execution_count": 103,
   "metadata": {},
   "outputs": [
    {
     "data": {
      "text/plain": [
       "4"
      ]
     },
     "execution_count": 103,
     "metadata": {},
     "output_type": "execute_result"
    }
   ],
   "source": [
    "using Distributed, BenchmarkTools; rmprocs(workers()); addprocs(4); nworkers()"
   ]
  },
  {
   "cell_type": "code",
   "execution_count": 20,
   "metadata": {},
   "outputs": [
    {
     "name": "stdout",
     "output_type": "stream",
     "text": [
      "  292.159 ms (0 allocations: 0 bytes)\n"
     ]
    }
   ],
   "source": [
    "# serial version - count heads in a series of coin tosses\n",
    "function add_serial(n)\n",
    "    c = 0\n",
    "    for i = 1:n\n",
    "        c += rand(Bool)\n",
    "    end\n",
    "    c\n",
    "end\n",
    "\n",
    "@btime add_serial(200_000_000);"
   ]
  },
  {
   "cell_type": "markdown",
   "metadata": {},
   "source": [
    "This is trivially parallelizable since the loop iterations are independent of each other. Many iterations can run independently over several processes, and then their results are combined, i.e. summed up. The combination process is typically called a *reduction*.\n",
    "\n",
    "To distribute the for loop over worker processes Julia provides the `@distributed` macro:"
   ]
  },
  {
   "cell_type": "code",
   "execution_count": 16,
   "metadata": {},
   "outputs": [
    {
     "data": {
      "text/markdown": [
       "```\n",
       "@distributed\n",
       "```\n",
       "\n",
       "A distributed memory, parallel for loop of the form :\n",
       "\n",
       "```\n",
       "@distributed [reducer] for var = range\n",
       "    body\n",
       "end\n",
       "```\n",
       "\n",
       "The specified range is partitioned and locally executed across all workers. In case an optional reducer function is specified, `@distributed` performs local reductions on each worker with a final reduction on the calling process.\n",
       "\n",
       "Note that without a reducer function, `@distributed` executes asynchronously, i.e. it spawns independent tasks on all available workers and returns immediately without waiting for completion. To wait for completion, prefix the call with [`@sync`](@ref), like :\n",
       "\n",
       "```\n",
       "@sync @distributed for var = range\n",
       "    body\n",
       "end\n",
       "```\n"
      ],
      "text/plain": [
       "\u001b[36m  @distributed\u001b[39m\n",
       "\n",
       "  A distributed memory, parallel for loop of the form :\n",
       "\n",
       "\u001b[36m  @distributed [reducer] for var = range\u001b[39m\n",
       "\u001b[36m      body\u001b[39m\n",
       "\u001b[36m  end\u001b[39m\n",
       "\n",
       "  The specified range is partitioned and locally executed across all workers.\n",
       "  In case an optional reducer function is specified, \u001b[36m@distributed\u001b[39m performs\n",
       "  local reductions on each worker with a final reduction on the calling\n",
       "  process.\n",
       "\n",
       "  Note that without a reducer function, \u001b[36m@distributed\u001b[39m executes asynchronously,\n",
       "  i.e. it spawns independent tasks on all available workers and returns\n",
       "  immediately without waiting for completion. To wait for completion, prefix\n",
       "  the call with \u001b[36m@sync\u001b[39m, like :\n",
       "\n",
       "\u001b[36m  @sync @distributed for var = range\u001b[39m\n",
       "\u001b[36m      body\u001b[39m\n",
       "\u001b[36m  end\u001b[39m"
      ]
     },
     "execution_count": 16,
     "metadata": {},
     "output_type": "execute_result"
    }
   ],
   "source": [
    "?@distributed"
   ]
  },
  {
   "cell_type": "code",
   "execution_count": 21,
   "metadata": {},
   "outputs": [
    {
     "name": "stdout",
     "output_type": "stream",
     "text": [
      "  72.518 ms (408 allocations: 37.83 KiB)\n"
     ]
    }
   ],
   "source": [
    "# distributed version\n",
    "function add_distributed(n)\n",
    "    c = @distributed (+) for i in 1:n\n",
    "        Int(rand(Bool))\n",
    "    end\n",
    "    c\n",
    "end\n",
    "\n",
    "@btime add_distributed(200_000_000);"
   ]
  },
  {
   "cell_type": "markdown",
   "metadata": {},
   "source": [
    "The distributed (parallel) version is ~ 4 times as fast!"
   ]
  },
  {
   "cell_type": "markdown",
   "metadata": {},
   "source": [
    "Let's see who is doing the work"
   ]
  },
  {
   "cell_type": "code",
   "execution_count": 24,
   "metadata": {},
   "outputs": [
    {
     "name": "stdout",
     "output_type": "stream",
     "text": [
      "      From worker 5:\t1\n",
      "      From worker 5:\t0\n",
      "      From worker 2:\t1\n",
      "      From worker 2:\t0\n",
      "      From worker 4:\t0\n",
      "      From worker 4:\t0\n",
      "      From worker 3:\t0\n",
      "      From worker 3:\t1\n"
     ]
    }
   ],
   "source": [
    "# verbose distributed version\n",
    "function add_distributed(n)\n",
    "    c = @distributed (+) for i in 1:n\n",
    "        x = Int(rand(Bool))\n",
    "        println(x);\n",
    "        x\n",
    "    end\n",
    "    c\n",
    "end\n",
    "\n",
    "add_distributed(8);"
   ]
  },
  {
   "cell_type": "markdown",
   "metadata": {},
   "source": [
    "The work is evenly distributed between the workers. However, by using `@distributed` we let Julia decide how to split up the work and can't control it ourselves."
   ]
  },
  {
   "cell_type": "markdown",
   "metadata": {},
   "source": [
    "A common mistake when using `@distributed` is the following:"
   ]
  },
  {
   "cell_type": "code",
   "execution_count": 40,
   "metadata": {},
   "outputs": [],
   "source": [
    "function f(n)\n",
    "    a = 0\n",
    "    @distributed (+) for i in 1:n\n",
    "        a += 1\n",
    "    end\n",
    "    a\n",
    "end\n",
    "\n",
    "a = f(10);"
   ]
  },
  {
   "cell_type": "markdown",
   "metadata": {},
   "source": [
    "What do you expect the value of `a` to be?"
   ]
  },
  {
   "cell_type": "code",
   "execution_count": 41,
   "metadata": {},
   "outputs": [
    {
     "data": {
      "text/plain": [
       "0"
      ]
     },
     "execution_count": 41,
     "metadata": {},
     "output_type": "execute_result"
    }
   ],
   "source": [
    "a"
   ]
  },
  {
   "cell_type": "markdown",
   "metadata": {},
   "source": [
    "We can (sort of) see what's happening by making everything global"
   ]
  },
  {
   "cell_type": "code",
   "execution_count": 53,
   "metadata": {},
   "outputs": [
    {
     "name": "stdout",
     "output_type": "stream",
     "text": [
      "      From worker 4:\t1\n",
      "      From worker 3:\t1\n",
      "      From worker 3:\t1\n",
      "      From worker 3:\t1\n",
      "      From worker 2:\t1\n",
      "      From worker 2:\t1\n",
      "      From worker 2:\t1\n",
      "      From worker 5:\t1\n",
      "      From worker 5:\t1\n",
      "      From worker 4:\t1\n"
     ]
    }
   ],
   "source": [
    "a = 0\n",
    "@distributed (+) for i in 1:10\n",
    "    println(\"1\")\n",
    "    global a += 1\n",
    "end;"
   ]
  },
  {
   "cell_type": "code",
   "execution_count": 57,
   "metadata": {},
   "outputs": [
    {
     "name": "stdout",
     "output_type": "stream",
     "text": [
      "a = 0\n",
      "      From worker 3:\ta = 3\n",
      "      From worker 5:\ta = 2\n",
      "      From worker 4:\ta = 2\n",
      "      From worker 2:\ta = 3\n"
     ]
    }
   ],
   "source": [
    "@everywhere @show a"
   ]
  },
  {
   "cell_type": "markdown",
   "metadata": {},
   "source": [
    "Issue: the variable `a` gets copied to the worker processes since it is referenced in the distributed loop. Every worker will then increment its copy of `a`. Finally we do not save the result of the distributed sum but just return `a` living on the master process which hasn't been altered at all.\n",
    "\n",
    "Corrected version:"
   ]
  },
  {
   "cell_type": "code",
   "execution_count": 44,
   "metadata": {},
   "outputs": [
    {
     "data": {
      "text/plain": [
       "10"
      ]
     },
     "execution_count": 44,
     "metadata": {},
     "output_type": "execute_result"
    }
   ],
   "source": [
    "function f2(n)\n",
    "    a = @distributed (+) for i in 1:n\n",
    "        1\n",
    "    end\n",
    "    a\n",
    "end\n",
    "\n",
    "a = f2(10)"
   ]
  },
  {
   "cell_type": "markdown",
   "metadata": {},
   "source": [
    "### Distributed loop, but no reduction"
   ]
  },
  {
   "cell_type": "markdown",
   "metadata": {},
   "source": [
    "The following example might not be doing what you'd expect it to. **Why?**"
   ]
  },
  {
   "cell_type": "code",
   "execution_count": 12,
   "metadata": {},
   "outputs": [
    {
     "data": {
      "text/plain": [
       "Task (runnable) @0x000000000f0448b0"
      ]
     },
     "execution_count": 12,
     "metadata": {},
     "output_type": "execute_result"
    }
   ],
   "source": [
    "a = zeros(10)\n",
    "@distributed for i = 1:10\n",
    "    a[i] = i\n",
    "end"
   ]
  },
  {
   "cell_type": "code",
   "execution_count": 47,
   "metadata": {},
   "outputs": [
    {
     "name": "stdout",
     "output_type": "stream",
     "text": [
      "a = [0.0, 0.0, 0.0, 0.0, 0.0, 0.0, 0.0, 0.0, 0.0, 0.0]\n",
      "      From worker 20:\ta = [0.0, 0.0, 0.0, 0.0, 0.0, 0.0, 7.0, 8.0, 0.0, 0.0]\n",
      "      From worker 19:\ta = [0.0, 0.0, 0.0, 4.0, 5.0, 6.0, 0.0, 0.0, 0.0, 0.0]\n",
      "      From worker 21:\ta = [0.0, 0.0, 0.0, 0.0, 0.0, 0.0, 0.0, 0.0, 9.0, 10.0]\n",
      "      From worker 18:\ta = [1.0, 2.0, 3.0, 0.0, 0.0, 0.0, 0.0, 0.0, 0.0, 0.0]\n"
     ]
    }
   ],
   "source": [
    "@everywhere @show a"
   ]
  },
  {
   "cell_type": "markdown",
   "metadata": {},
   "source": [
    "Note that `@distributed` without a reduction function returns a `Task`. It is basically a distributed version of `@spawn` for all the iterations."
   ]
  },
  {
   "cell_type": "markdown",
   "metadata": {},
   "source": [
    "## Shared arrays (`SharedArray`)"
   ]
  },
  {
   "cell_type": "markdown",
   "metadata": {},
   "source": [
    "To actually make all processes operate on the same array, one can use a `SharedArray`.\n",
    "\n",
    "Note that `SharedArray`s can only be used if the **processes live on the same host** since they use **system shared memory** to map the same array across many processes.\n",
    "\n",
    "The constructor of a SharedArray is\n",
    "\n",
    "```julia\n",
    "SharedArray{T,N}(dims::NTuple; init=false, pids=Int[])\n",
    "```\n",
    "\n",
    "which creates an `N`-dimensional shared array of a (bits) type `T` and size `dims` across the processes specified by `pids`.\n",
    "\n",
    "(If an `init` function, of signature `initfn(S::SharedArray)`, is specified, it is called on all the participating workers. You can specify that each worker runs the init function on a distinct portion of the array, thereby parallelizing initialization.)"
   ]
  },
  {
   "cell_type": "code",
   "execution_count": 2,
   "metadata": {},
   "outputs": [],
   "source": [
    "@everywhere using SharedArrays # has to be loaded everywhere"
   ]
  },
  {
   "cell_type": "code",
   "execution_count": 53,
   "metadata": {},
   "outputs": [
    {
     "data": {
      "text/plain": [
       "2×3 Array{Float64,2}:\n",
       " 0.686084   0.83382   0.121731\n",
       " 0.0830551  0.317622  0.595447"
      ]
     },
     "execution_count": 53,
     "metadata": {},
     "output_type": "execute_result"
    }
   ],
   "source": [
    "A = rand(2,3)"
   ]
  },
  {
   "cell_type": "code",
   "execution_count": 54,
   "metadata": {},
   "outputs": [
    {
     "data": {
      "text/plain": [
       "2×3 SharedArray{Float64,2}:\n",
       " 0.686084   0.83382   0.121731\n",
       " 0.0830551  0.317622  0.595447"
      ]
     },
     "execution_count": 54,
     "metadata": {},
     "output_type": "execute_result"
    }
   ],
   "source": [
    "S = SharedArray(A)"
   ]
  },
  {
   "cell_type": "code",
   "execution_count": 7,
   "metadata": {},
   "outputs": [
    {
     "data": {
      "text/plain": [
       "3×4 SharedArray{Float64,2}:\n",
       " 1.0  4.0  7.0  10.0\n",
       " 2.0  5.0  8.0  11.0\n",
       " 3.0  6.0  9.0  12.0"
      ]
     },
     "execution_count": 7,
     "metadata": {},
     "output_type": "execute_result"
    }
   ],
   "source": [
    "function myfill()\n",
    "    S = SharedArray{Float64,2}(3,4)\n",
    "    @distributed for i = 1:length(S)\n",
    "        S[i] = i\n",
    "    end;\n",
    "    S\n",
    "end\n",
    "\n",
    "S = myfill()"
   ]
  },
  {
   "cell_type": "markdown",
   "metadata": {},
   "source": [
    "Ok, now that we know how to create and fill our `SharedArray` we can create a parallel fill function:"
   ]
  },
  {
   "cell_type": "code",
   "execution_count": 27,
   "metadata": {},
   "outputs": [
    {
     "data": {
      "text/plain": [
       "3×3 SharedArray{Float64,2}:\n",
       " 1.0  4.0  7.0\n",
       " 2.0  5.0  8.0\n",
       " 3.0  6.0  9.0"
      ]
     },
     "execution_count": 27,
     "metadata": {},
     "output_type": "execute_result"
    }
   ],
   "source": [
    "function fill_shared_problematic(N)\n",
    "    S = SharedMatrix{Float64}(N,N)\n",
    "    @distributed for i in 1:length(S)\n",
    "        S[i] = i\n",
    "    end\n",
    "    S\n",
    "end\n",
    "\n",
    "fill_shared_problematic(3)"
   ]
  },
  {
   "cell_type": "markdown",
   "metadata": {},
   "source": [
    "*Why is the method in its current form problematic? Try to find out yourself by going to larger `N` and, for example, inspecting the minimum of the returned `SharedArray`!*"
   ]
  },
  {
   "cell_type": "markdown",
   "metadata": {},
   "source": [
    "Going to larger matrix sizes...."
   ]
  },
  {
   "cell_type": "code",
   "execution_count": 73,
   "metadata": {},
   "outputs": [
    {
     "data": {
      "text/plain": [
       "0"
      ]
     },
     "execution_count": 73,
     "metadata": {},
     "output_type": "execute_result"
    }
   ],
   "source": [
    "function fill_shared_problematic(N)\n",
    "    S = SharedMatrix{Int64}(N,N)\n",
    "    @distributed for i in 1:length(S)\n",
    "        S[i] = i\n",
    "    end\n",
    "    S\n",
    "end\n",
    "\n",
    "S = fill_shared_problematic(100)\n",
    "minimum(S)"
   ]
  },
  {
   "cell_type": "markdown",
   "metadata": {},
   "source": [
    "Note how sometimes the array isn't completely filled but still contains zeros. This is because it isn't filled **yet**!\n",
    "\n",
    "Check again!"
   ]
  },
  {
   "cell_type": "code",
   "execution_count": 75,
   "metadata": {},
   "outputs": [
    {
     "data": {
      "text/plain": [
       "1"
      ]
     },
     "execution_count": 75,
     "metadata": {},
     "output_type": "execute_result"
    }
   ],
   "source": [
    "minimum(S)"
   ]
  },
  {
   "cell_type": "markdown",
   "metadata": {},
   "source": [
    "We can use `@sync` to synchronize our distributed for loop."
   ]
  },
  {
   "cell_type": "code",
   "execution_count": 78,
   "metadata": {},
   "outputs": [
    {
     "data": {
      "text/plain": [
       "1"
      ]
     },
     "execution_count": 78,
     "metadata": {},
     "output_type": "execute_result"
    }
   ],
   "source": [
    "function fill_shared_problematic(N)\n",
    "    S = SharedMatrix{Int64}(N,N)\n",
    "    @sync @distributed for i in 1:length(S) # added @sync here\n",
    "        S[i] = i\n",
    "    end\n",
    "    S\n",
    "end\n",
    "\n",
    "S = fill_shared_problematic(100)\n",
    "minimum(S)"
   ]
  },
  {
   "cell_type": "markdown",
   "metadata": {},
   "source": [
    "Ok, let's **benchmark** this for a larger matrix size"
   ]
  },
  {
   "cell_type": "code",
   "execution_count": 81,
   "metadata": {},
   "outputs": [
    {
     "name": "stdout",
     "output_type": "stream",
     "text": [
      "  0.387565 seconds (12.74 k allocations: 763.594 MiB, 32.43% gc time)\n"
     ]
    }
   ],
   "source": [
    "# regular array\n",
    "function fill_regular(N)\n",
    "    A = Matrix{Int64}(undef,N,N)\n",
    "    for i in 1:length(A)\n",
    "        A[i] = i\n",
    "    end\n",
    "    A\n",
    "end\n",
    "\n",
    "@time fill_regular(10000);"
   ]
  },
  {
   "cell_type": "code",
   "execution_count": 82,
   "metadata": {},
   "outputs": [
    {
     "name": "stdout",
     "output_type": "stream",
     "text": [
      "  0.164206 seconds (204.49 k allocations: 10.047 MiB)\n"
     ]
    }
   ],
   "source": [
    "# shared array\n",
    "function fill_shared(N)\n",
    "    S = SharedMatrix{Int64}(N,N)\n",
    "    @sync @distributed for i in 1:length(S)\n",
    "        S[i] = i\n",
    "    end\n",
    "    S\n",
    "end\n",
    "\n",
    "@time fill_shared(10000);"
   ]
  },
  {
   "cell_type": "markdown",
   "metadata": {},
   "source": [
    "This is of course just filling an array.\n",
    "\n",
    "If there were actual calculations it might actually be beneficial to distribute the work across workers."
   ]
  },
  {
   "cell_type": "markdown",
   "metadata": {},
   "source": [
    "## Parallel map: `pmap`"
   ]
  },
  {
   "cell_type": "markdown",
   "metadata": {},
   "source": [
    "In some cases no reduction operator is needed, and we merely wish to apply a function to all integers in some range (or, more generally, to all elements in some collection). This is another useful operation called parallel map, implemented in Julia as the `pmap` function."
   ]
  },
  {
   "cell_type": "markdown",
   "metadata": {},
   "source": [
    "For example, we could compute the singular values of several large random matrices in parallel as follows:"
   ]
  },
  {
   "cell_type": "code",
   "execution_count": 9,
   "metadata": {},
   "outputs": [
    {
     "data": {
      "text/plain": [
       "10-element Array{Array{Float64,1},1}:\n",
       " [499.847, 18.2187, 18.0436, 17.938, 17.9065, 17.7915, 17.7057, 17.6904, 17.6468, 17.575  …  0.133359, 0.125056, 0.108297, 0.0870214, 0.0781393, 0.0615988, 0.0549039, 0.0216334, 0.0165323, 0.000694651] \n",
       " [500.502, 18.2068, 17.9437, 17.8321, 17.7877, 17.7054, 17.6529, 17.6319, 17.551, 17.5337  …  0.13807, 0.12228, 0.111597, 0.0933167, 0.0682357, 0.0543439, 0.0356474, 0.0220994, 0.0130792, 0.00315393]   \n",
       " [500.205, 18.1287, 18.0766, 18.0108, 17.9129, 17.8022, 17.7407, 17.6255, 17.5867, 17.5285  …  0.1197, 0.104309, 0.0914697, 0.0850572, 0.0808385, 0.0680347, 0.0342726, 0.0309392, 0.0154911, 0.00398373] \n",
       " [500.136, 18.1494, 18.0249, 17.9678, 17.9219, 17.8818, 17.8046, 17.767, 17.6672, 17.5583  …  0.120724, 0.104595, 0.0950146, 0.077238, 0.0617488, 0.0540756, 0.0457184, 0.0287512, 0.0251629, 0.00291836] \n",
       " [500.321, 18.1943, 18.017, 17.9761, 17.8797, 17.8287, 17.7642, 17.6644, 17.5708, 17.5475  …  0.121536, 0.117276, 0.102544, 0.0907997, 0.0751653, 0.0621517, 0.0386195, 0.0251551, 0.0219082, 0.00872439] \n",
       " [500.305, 18.158, 18.041, 17.9603, 17.8597, 17.8258, 17.717, 17.6139, 17.5867, 17.5588  …  0.14405, 0.129812, 0.0964442, 0.081971, 0.0704755, 0.0664778, 0.0455193, 0.0434803, 0.0229135, 0.00325801]    \n",
       " [500.238, 18.2868, 18.2272, 18.0267, 18.0061, 17.9392, 17.7952, 17.7447, 17.7073, 17.6792  …  0.125668, 0.121642, 0.0996693, 0.0903008, 0.0757293, 0.068083, 0.0617386, 0.0359601, 0.0271366, 0.00868089]\n",
       " [500.188, 18.2209, 18.1388, 17.8906, 17.8728, 17.7807, 17.7206, 17.6045, 17.5393, 17.5333  …  0.123164, 0.112741, 0.0936107, 0.0819733, 0.07522, 0.0735855, 0.0464639, 0.041958, 0.0266567, 0.00501599]  \n",
       " [499.875, 18.2499, 18.1268, 18.0389, 17.9612, 17.8743, 17.7774, 17.6912, 17.5984, 17.5487  …  0.140815, 0.138609, 0.114595, 0.0903184, 0.0622064, 0.0514336, 0.0266667, 0.016746, 0.0132425, 0.00415228] \n",
       " [499.846, 18.1404, 18.0478, 17.9292, 17.8347, 17.8013, 17.7043, 17.6222, 17.5811, 17.5452  …  0.146605, 0.124654, 0.107408, 0.100059, 0.0823169, 0.0757017, 0.0592642, 0.0438456, 0.00837226, 0.00441961]"
      ]
     },
     "execution_count": 9,
     "metadata": {},
     "output_type": "execute_result"
    }
   ],
   "source": [
    "@everywhere using LinearAlgebra\n",
    "\n",
    "M = Matrix{Float64}[rand(1000,1000) for i = 1:10];\n",
    "\n",
    "pmap(svdvals, M)"
   ]
  },
  {
   "cell_type": "code",
   "execution_count": 110,
   "metadata": {},
   "outputs": [
    {
     "name": "stdout",
     "output_type": "stream",
     "text": [
      "      From worker 12:\t12\n",
      "      From worker 11:\t11\n",
      "      From worker 13:\t13\n",
      "      From worker 10:\t10\n",
      "      From worker 12:\t12\n",
      "      From worker 10:\t10\n",
      "      From worker 11:\t11\n",
      "      From worker 13:\t13\n",
      "      From worker 12:\t12\n",
      "      From worker 11:\t11\n"
     ]
    }
   ],
   "source": [
    "# Visualize that really all of the workers participated\n",
    "pmap(m->begin println(myid()); svdvals(m) end, M);"
   ]
  },
  {
   "cell_type": "code",
   "execution_count": 111,
   "metadata": {},
   "outputs": [
    {
     "name": "stdout",
     "output_type": "stream",
     "text": [
      "  3.054113 seconds (105 allocations: 82.099 MiB, 2.80% gc time)\n",
      "  2.904053 seconds (107 allocations: 82.099 MiB, 0.29% gc time)\n",
      "  2.221958 seconds (943 allocations: 158.047 KiB)\n"
     ]
    }
   ],
   "source": [
    "function svds_loop(M)\n",
    "    svds = Vector{Vector{Float64}}(undef, 10)\n",
    "    for (i, m) in enumerate(M)\n",
    "        svds[i] = svdvals(m)\n",
    "    end\n",
    "    svds\n",
    "end\n",
    "\n",
    "@time svds_serial(M);\n",
    "@time svdvals.(M);\n",
    "@time pmap(svdvals, M);"
   ]
  },
  {
   "cell_type": "markdown",
   "metadata": {},
   "source": [
    "Julia's pmap is designed for the case where each function call does a large amount of work.\n",
    "\n",
    "In contrast, `@distributed` for can handle situations where each iteration is tiny, perhaps merely summing two numbers."
   ]
  },
  {
   "cell_type": "markdown",
   "metadata": {},
   "source": [
    "# Distributed computing: THP cluster"
   ]
  },
  {
   "cell_type": "markdown",
   "metadata": {},
   "source": [
    "So far we have worked on multiple cores on a single machine, your laptop for example.\n",
    "\n",
    "Processes can live on other machines as well! This allows for computation to scale across clusters.\n",
    "\n",
    "In principle, the plan of action is the same as in the multi-core case. However, we have to take into account the different memory situation. In particular, we won't be able to use `SharedArray`s (as they assumed system shared memory)."
   ]
  },
  {
   "cell_type": "code",
   "execution_count": 130,
   "metadata": {},
   "outputs": [
    {
     "data": {
      "text/plain": [
       "Task (done) @0x00000000109cb0f0"
      ]
     },
     "execution_count": 130,
     "metadata": {},
     "output_type": "execute_result"
    }
   ],
   "source": [
    "rmprocs(workers()) # fresh start"
   ]
  },
  {
   "cell_type": "markdown",
   "metadata": {},
   "source": [
    "## Creating workers on the cluster"
   ]
  },
  {
   "cell_type": "markdown",
   "metadata": {},
   "source": [
    "Adding processes on different machines is not much harder than adding them on your local machine. In the following we will take the last example, calculating singular values of a bunch of matrices, and distribute it over multiple computers in our thp network.\n",
    "\n",
    "In Julia, starting worker processes is handled by [ClusterManagers](https://docs.julialang.org/en/stable/manual/parallel-computing/#ClusterManagers-1).\n",
    "\n",
    "* The default one is `LocalManager`. It is automatically used when running `addprocs(i::Integer)` and we have implicitly used it already!\n",
    "* The one we are going to use for the THP cluster is `SSHManager`. It is automatically used when running `addprocs(hostnames::Array)`.\n",
    "\n",
    "Other cluster managers for SLURM, PBS, and others are provided in [ClusterManagers.jl](https://github.com/JuliaParallel/ClusterManagers.jl)."
   ]
  },
  {
   "cell_type": "markdown",
   "metadata": {},
   "source": [
    "In principle, starting processes on other computers can be done by `addprocs([\"l92\", \"l93\"])`. The only requirement is a **passwordless ssh access** to all specified hosts."
   ]
  },
  {
   "cell_type": "markdown",
   "metadata": {},
   "source": [
    "*Demonstrate in terminal from thp node*\n",
    "\n",
    "```julia\n",
    "using Distributed\n",
    "\n",
    "addprocs([\"l92\", \"l93\"])\n",
    "\n",
    "@everywhere println(gethostname())\n",
    "```"
   ]
  },
  {
   "cell_type": "markdown",
   "metadata": {},
   "source": [
    "One can also start multiple processes on different machines:\n",
    "```julia\n",
    "addprocs([(\"l92\", 2), (\"l93\", 3)]) # starts 2 workers on l92 and 3 workers on l93\n",
    "\n",
    "# Use :auto to start as many processes as CPUs are available\n",
    "```"
   ]
  },
  {
   "cell_type": "markdown",
   "metadata": {},
   "source": [
    "By default, `addprocs` expects the julia executable in the same folder as on the master computer. It will also try to `cd` to the same folder.\n",
    "\n",
    "In my case this would be"
   ]
  },
  {
   "cell_type": "code",
   "execution_count": 139,
   "metadata": {},
   "outputs": [
    {
     "name": "stdout",
     "output_type": "stream",
     "text": [
      "pwd() = \"C:\\\\Users\\\\carsten\\\\Desktop\\\\sciebo\\\\teaching\\\\julia-for-physicists\"\n",
      "Sys.BINDIR = \"C:\\\\Users\\\\carsten\\\\AppData\\\\Local\\\\Julia-1.0.0\\\\bin\"\n"
     ]
    }
   ],
   "source": [
    "@show pwd();\n",
    "@show Sys.BINDIR;"
   ]
  },
  {
   "cell_type": "markdown",
   "metadata": {},
   "source": [
    "Both folders don't exist in my thp account, so I'll have to tell Julia to use different paths.\n",
    "\n",
    "Also, as per thp cluster guidelines one **(!) must (!) run computations on other thp computer with `nice -19` priority setting**!"
   ]
  },
  {
   "cell_type": "markdown",
   "metadata": {},
   "source": [
    "### Creating `nice -19` workers and specifying directories "
   ]
  },
  {
   "cell_type": "markdown",
   "metadata": {},
   "source": [
    "As you can see from `?addprocs`, `addprocs` takes a bunch of keyword arguments, two of which are of particular importance.\n",
    "\n",
    "* `dir`: working directory of the worker process\n",
    "* `exename`: path to julia executable (potentially augmented with pre-commands)"
   ]
  },
  {
   "cell_type": "code",
   "execution_count": 47,
   "metadata": {},
   "outputs": [
    {
     "data": {
      "text/plain": [
       "4-element Array{Int64,1}:\n",
       " 67\n",
       " 68\n",
       " 69\n",
       " 70"
      ]
     },
     "execution_count": 47,
     "metadata": {},
     "output_type": "execute_result"
    }
   ],
   "source": [
    "addprocs([(\"l92\", :auto)], exename=`nice -19 /home/bauer/bin/julia-1.0.0/bin/julia`, dir=\"/home/bauer\")"
   ]
  },
  {
   "cell_type": "code",
   "execution_count": 48,
   "metadata": {},
   "outputs": [
    {
     "name": "stdout",
     "output_type": "stream",
     "text": [
      "l91\n",
      "      From worker 67:\tl92.thp.Uni-Koeln.DE\n",
      "      From worker 70:\tl92.thp.Uni-Koeln.DE\n",
      "      From worker 69:\tl92.thp.Uni-Koeln.DE\n",
      "      From worker 68:\tl92.thp.Uni-Koeln.DE\n"
     ]
    }
   ],
   "source": [
    "@everywhere println(gethostname())"
   ]
  },
  {
   "cell_type": "code",
   "execution_count": 356,
   "metadata": {},
   "outputs": [
    {
     "data": {
      "text/plain": [
       "Task (done) @0x000000000f28c5d0"
      ]
     },
     "execution_count": 356,
     "metadata": {},
     "output_type": "execute_result"
    }
   ],
   "source": [
    "rmprocs(workers())"
   ]
  },
  {
   "cell_type": "markdown",
   "metadata": {},
   "source": [
    "Ok, let's get some resources :)"
   ]
  },
  {
   "cell_type": "code",
   "execution_count": 355,
   "metadata": {},
   "outputs": [
    {
     "data": {
      "text/plain": [
       "3-element Array{Tuple{String,Symbol},1}:\n",
       " (\"l92\", :auto)\n",
       " (\"l93\", :auto)\n",
       " (\"l95\", :auto)"
      ]
     },
     "execution_count": 355,
     "metadata": {},
     "output_type": "execute_result"
    }
   ],
   "source": [
    "machines = [\"l92\", \"l93\", \"l95\"];\n",
    "\n",
    "procs_per_machine = :auto; # :auto for n = # cpus\n",
    "\n",
    "jobs = [(m,procs_per_machine) for m in machines]"
   ]
  },
  {
   "cell_type": "code",
   "execution_count": 110,
   "metadata": {},
   "outputs": [
    {
     "data": {
      "text/plain": [
       "12-element Array{Int64,1}:\n",
       "  99\n",
       " 100\n",
       " 101\n",
       " 102\n",
       " 103\n",
       " 104\n",
       " 105\n",
       " 106\n",
       " 107\n",
       " 108\n",
       " 109\n",
       " 110"
      ]
     },
     "execution_count": 110,
     "metadata": {},
     "output_type": "execute_result"
    }
   ],
   "source": [
    "addprocs(jobs; exename=`nice -19 /home/bauer/bin/julia-1.0.0/bin/julia`, dir=\"/home/bauer\")"
   ]
  },
  {
   "cell_type": "code",
   "execution_count": 58,
   "metadata": {},
   "outputs": [
    {
     "name": "stdout",
     "output_type": "stream",
     "text": [
      "l91\n",
      "      From worker 83:\tl92.thp.Uni-Koeln.DE\n",
      "      From worker 84:\tl95.thp.Uni-Koeln.DE\n",
      "      From worker 90:\tl92.thp.Uni-Koeln.DE\n",
      "      From worker 89:\tl92.thp.Uni-Koeln.DE\n",
      "      From worker 91:\tl92.thp.Uni-Koeln.DE\n",
      "      From worker 85:\tl93.thp.Uni-Koeln.DE\n",
      "      From worker 94:\tl95.thp.Uni-Koeln.DE\n",
      "      From worker 92:\tl95.thp.Uni-Koeln.DE\n",
      "      From worker 93:\tl95.thp.Uni-Koeln.DE\n",
      "      From worker 87:\tl93.thp.Uni-Koeln.DE\n",
      "      From worker 86:\tl93.thp.Uni-Koeln.DE\n",
      "      From worker 88:\tl93.thp.Uni-Koeln.DE\n"
     ]
    }
   ],
   "source": [
    "@everywhere println(gethostname())"
   ]
  },
  {
   "cell_type": "code",
   "execution_count": 37,
   "metadata": {},
   "outputs": [
    {
     "name": "stdout",
     "output_type": "stream",
     "text": [
      " 11.932196 seconds (1.22 k allocations: 488.922 KiB)\n"
     ]
    }
   ],
   "source": [
    "@everywhere using LinearAlgebra\n",
    "\n",
    "@time pmap(svdvals, M);"
   ]
  },
  {
   "cell_type": "markdown",
   "metadata": {},
   "source": [
    "This is, of course, much slower than on a single machine because of expensive data movement.\n",
    "\n",
    "*Use distributed arrays!*"
   ]
  },
  {
   "cell_type": "markdown",
   "metadata": {},
   "source": [
    "But let's go back to using our local machine only."
   ]
  },
  {
   "cell_type": "markdown",
   "metadata": {},
   "source": [
    "## Distributed arrays (`DArray`)"
   ]
  },
  {
   "cell_type": "markdown",
   "metadata": {},
   "source": [
    "Github: https://github.com/JuliaParallel/DistributedArrays.jl\n",
    "\n",
    "In a `DArray`, each process has local access to just a chunk of the data, and no two processes share the same chunk. Processes can be on different hosts.\n",
    "\n",
    "Distributed arrays are for example useful if\n",
    "\n",
    "* Expensive calculations should be performed in parallel on parts of the array on different hosts.\n",
    "* The data doesn't fit into the local machines memory (Loading big files in parallel)."
   ]
  },
  {
   "cell_type": "code",
   "execution_count": 111,
   "metadata": {},
   "outputs": [],
   "source": [
    "@everywhere using DistributedArrays, LinearAlgebra"
   ]
  },
  {
   "cell_type": "code",
   "execution_count": 112,
   "metadata": {},
   "outputs": [
    {
     "data": {
      "text/plain": [
       "12"
      ]
     },
     "execution_count": 112,
     "metadata": {},
     "output_type": "execute_result"
    }
   ],
   "source": [
    "nworkers()"
   ]
  },
  {
   "cell_type": "code",
   "execution_count": 113,
   "metadata": {},
   "outputs": [
    {
     "data": {
      "text/plain": [
       "10-element DArray{Array{Float64,2},1,Array{Array{Float64,2},1}}:\n",
       " [0.654804 0.427214 … 0.210974 0.81138; 0.980471 0.780448 … 0.193795 0.807734; … ; 0.129793 0.972593 … 0.0102418 0.0167808; 0.38784 0.0414453 … 0.364133 0.0902918]   \n",
       " [0.803965 0.463256 … 0.00209172 0.477335; 0.424215 0.175961 … 0.946064 0.826409; … ; 0.315962 0.00550821 … 0.0424928 0.807221; 0.562094 0.198099 … 0.335189 0.193243]\n",
       " [0.637804 0.575656 … 0.937492 0.167778; 0.545113 0.302896 … 0.968292 0.278127; … ; 0.828656 0.88628 … 0.446945 0.989451; 0.958473 0.943914 … 0.386003 0.0431498]     \n",
       " [0.581137 0.412084 … 0.737386 0.203188; 0.216486 0.633548 … 0.615498 0.0703934; … ; 0.821081 0.472846 … 0.721957 0.605373; 0.321218 0.369599 … 0.876574 0.127289]    \n",
       " [0.119343 0.415214 … 0.590712 0.634449; 0.834562 0.643564 … 0.144449 0.295535; … ; 0.488709 0.994924 … 0.762758 0.552931; 0.960707 0.0977618 … 0.398554 0.80212]     \n",
       " [0.59317 0.574452 … 0.893613 0.95359; 0.299677 0.660888 … 0.310505 0.525642; … ; 0.290564 0.0410238 … 0.32193 0.530886; 0.897254 0.824901 … 0.614654 0.469802]       \n",
       " [0.968701 0.576038 … 0.341822 0.301798; 0.0649257 0.535998 … 0.169527 0.73978; … ; 0.223273 0.425356 … 0.672439 0.962274; 0.854092 0.0127202 … 0.0609207 0.0915984]  \n",
       " [0.279128 0.922269 … 0.150039 0.945936; 0.212557 0.233853 … 0.645743 0.878176; … ; 0.114859 0.213264 … 0.606829 0.262102; 0.597363 0.680628 … 0.402748 0.536318]     \n",
       " [0.183957 0.739774 … 0.360149 0.353599; 0.594873 0.788611 … 0.169912 0.499381; … ; 0.411664 0.99662 … 0.819771 0.713638; 0.107159 0.75321 … 0.828411 0.0979091]      \n",
       " [0.24099 0.9736 … 0.845968 0.400483; 0.101423 0.716061 … 0.764459 0.00557274; … ; 0.0581795 0.90034 … 0.429757 0.306463; 0.17739 0.459205 … 0.100343 0.548697]       "
      ]
     },
     "execution_count": 113,
     "metadata": {},
     "output_type": "execute_result"
    }
   ],
   "source": [
    "D = distribute(M)"
   ]
  },
  {
   "cell_type": "markdown",
   "metadata": {},
   "source": [
    "Which workers hold parts of D?"
   ]
  },
  {
   "cell_type": "code",
   "execution_count": 114,
   "metadata": {},
   "outputs": [
    {
     "data": {
      "text/plain": [
       "10-element Array{Int64,1}:\n",
       "  99\n",
       " 100\n",
       " 101\n",
       " 102\n",
       " 103\n",
       " 104\n",
       " 105\n",
       " 106\n",
       " 107\n",
       " 108"
      ]
     },
     "execution_count": 114,
     "metadata": {},
     "output_type": "execute_result"
    }
   ],
   "source": [
    "procs(D)"
   ]
  },
  {
   "cell_type": "markdown",
   "metadata": {},
   "source": [
    "Which parts do they hold?"
   ]
  },
  {
   "cell_type": "code",
   "execution_count": 115,
   "metadata": {},
   "outputs": [
    {
     "data": {
      "text/plain": [
       "0-element Array{Array{Float64,2},1}"
      ]
     },
     "execution_count": 115,
     "metadata": {},
     "output_type": "execute_result"
    }
   ],
   "source": [
    "localpart(D) # the master doesn't hold anything"
   ]
  },
  {
   "cell_type": "code",
   "execution_count": 116,
   "metadata": {},
   "outputs": [
    {
     "data": {
      "text/plain": [
       "1-element Array{Array{Float64,2},1}:\n",
       " [0.654804 0.427214 … 0.210974 0.81138; 0.980471 0.780448 … 0.193795 0.807734; … ; 0.129793 0.972593 … 0.0102418 0.0167808; 0.38784 0.0414453 … 0.364133 0.0902918]"
      ]
     },
     "metadata": {},
     "output_type": "display_data"
    },
    {
     "data": {
      "text/plain": [
       "(1:1,)"
      ]
     },
     "metadata": {},
     "output_type": "display_data"
    },
    {
     "data": {
      "text/plain": [
       "1-element Array{Array{Float64,2},1}:\n",
       " [0.803965 0.463256 … 0.00209172 0.477335; 0.424215 0.175961 … 0.946064 0.826409; … ; 0.315962 0.00550821 … 0.0424928 0.807221; 0.562094 0.198099 … 0.335189 0.193243]"
      ]
     },
     "metadata": {},
     "output_type": "display_data"
    },
    {
     "data": {
      "text/plain": [
       "(2:2,)"
      ]
     },
     "metadata": {},
     "output_type": "display_data"
    },
    {
     "data": {
      "text/plain": [
       "1-element Array{Array{Float64,2},1}:\n",
       " [0.637804 0.575656 … 0.937492 0.167778; 0.545113 0.302896 … 0.968292 0.278127; … ; 0.828656 0.88628 … 0.446945 0.989451; 0.958473 0.943914 … 0.386003 0.0431498]"
      ]
     },
     "metadata": {},
     "output_type": "display_data"
    },
    {
     "data": {
      "text/plain": [
       "(3:3,)"
      ]
     },
     "metadata": {},
     "output_type": "display_data"
    },
    {
     "data": {
      "text/plain": [
       "1-element Array{Array{Float64,2},1}:\n",
       " [0.581137 0.412084 … 0.737386 0.203188; 0.216486 0.633548 … 0.615498 0.0703934; … ; 0.821081 0.472846 … 0.721957 0.605373; 0.321218 0.369599 … 0.876574 0.127289]"
      ]
     },
     "metadata": {},
     "output_type": "display_data"
    },
    {
     "data": {
      "text/plain": [
       "(4:4,)"
      ]
     },
     "metadata": {},
     "output_type": "display_data"
    },
    {
     "data": {
      "text/plain": [
       "1-element Array{Array{Float64,2},1}:\n",
       " [0.119343 0.415214 … 0.590712 0.634449; 0.834562 0.643564 … 0.144449 0.295535; … ; 0.488709 0.994924 … 0.762758 0.552931; 0.960707 0.0977618 … 0.398554 0.80212]"
      ]
     },
     "metadata": {},
     "output_type": "display_data"
    },
    {
     "data": {
      "text/plain": [
       "(5:5,)"
      ]
     },
     "metadata": {},
     "output_type": "display_data"
    },
    {
     "data": {
      "text/plain": [
       "1-element Array{Array{Float64,2},1}:\n",
       " [0.59317 0.574452 … 0.893613 0.95359; 0.299677 0.660888 … 0.310505 0.525642; … ; 0.290564 0.0410238 … 0.32193 0.530886; 0.897254 0.824901 … 0.614654 0.469802]"
      ]
     },
     "metadata": {},
     "output_type": "display_data"
    },
    {
     "data": {
      "text/plain": [
       "(6:6,)"
      ]
     },
     "metadata": {},
     "output_type": "display_data"
    },
    {
     "data": {
      "text/plain": [
       "1-element Array{Array{Float64,2},1}:\n",
       " [0.968701 0.576038 … 0.341822 0.301798; 0.0649257 0.535998 … 0.169527 0.73978; … ; 0.223273 0.425356 … 0.672439 0.962274; 0.854092 0.0127202 … 0.0609207 0.0915984]"
      ]
     },
     "metadata": {},
     "output_type": "display_data"
    },
    {
     "data": {
      "text/plain": [
       "(7:7,)"
      ]
     },
     "metadata": {},
     "output_type": "display_data"
    },
    {
     "data": {
      "text/plain": [
       "1-element Array{Array{Float64,2},1}:\n",
       " [0.279128 0.922269 … 0.150039 0.945936; 0.212557 0.233853 … 0.645743 0.878176; … ; 0.114859 0.213264 … 0.606829 0.262102; 0.597363 0.680628 … 0.402748 0.536318]"
      ]
     },
     "metadata": {},
     "output_type": "display_data"
    },
    {
     "data": {
      "text/plain": [
       "(8:8,)"
      ]
     },
     "metadata": {},
     "output_type": "display_data"
    },
    {
     "data": {
      "text/plain": [
       "1-element Array{Array{Float64,2},1}:\n",
       " [0.183957 0.739774 … 0.360149 0.353599; 0.594873 0.788611 … 0.169912 0.499381; … ; 0.411664 0.99662 … 0.819771 0.713638; 0.107159 0.75321 … 0.828411 0.0979091]"
      ]
     },
     "metadata": {},
     "output_type": "display_data"
    },
    {
     "data": {
      "text/plain": [
       "(9:9,)"
      ]
     },
     "metadata": {},
     "output_type": "display_data"
    },
    {
     "data": {
      "text/plain": [
       "1-element Array{Array{Float64,2},1}:\n",
       " [0.24099 0.9736 … 0.845968 0.400483; 0.101423 0.716061 … 0.764459 0.00557274; … ; 0.0581795 0.90034 … 0.429757 0.306463; 0.17739 0.459205 … 0.100343 0.548697]"
      ]
     },
     "metadata": {},
     "output_type": "display_data"
    },
    {
     "data": {
      "text/plain": [
       "(10:10,)"
      ]
     },
     "metadata": {},
     "output_type": "display_data"
    },
    {
     "data": {
      "text/plain": [
       "0-element Array{Array{Float64,2},1}"
      ]
     },
     "metadata": {},
     "output_type": "display_data"
    },
    {
     "data": {
      "text/plain": [
       "(1:0,)"
      ]
     },
     "metadata": {},
     "output_type": "display_data"
    },
    {
     "data": {
      "text/plain": [
       "0-element Array{Array{Float64,2},1}"
      ]
     },
     "metadata": {},
     "output_type": "display_data"
    },
    {
     "data": {
      "text/plain": [
       "(1:0,)"
      ]
     },
     "metadata": {},
     "output_type": "display_data"
    }
   ],
   "source": [
    "# Which parts do they hold?\n",
    "for p in workers()\n",
    "    display(@fetchfrom p localpart(D))\n",
    "    display(@fetchfrom p DistributedArrays.localindices(D)) # DistributedArrays. necessary because of SharedArrays above\n",
    "end"
   ]
  },
  {
   "cell_type": "code",
   "execution_count": 117,
   "metadata": {},
   "outputs": [
    {
     "name": "stdout",
     "output_type": "stream",
     "text": [
      "  2.724502 seconds (106 allocations: 82.099 MiB, 0.32% gc time)\n"
     ]
    }
   ],
   "source": [
    "@time Msquared = map(svdvals, M);"
   ]
  },
  {
   "cell_type": "code",
   "execution_count": 120,
   "metadata": {},
   "outputs": [
    {
     "name": "stdout",
     "output_type": "stream",
     "text": [
      "  1.119496 seconds (1.62 k allocations: 145.172 KiB)\n"
     ]
    }
   ],
   "source": [
    "@time Dsquared = map(svdvals, D);"
   ]
  },
  {
   "cell_type": "markdown",
   "metadata": {},
   "source": [
    "But remember, for small operations the data movement can (and will) exceed the benefit of parallelizing the computation!"
   ]
  },
  {
   "cell_type": "code",
   "execution_count": 126,
   "metadata": {},
   "outputs": [
    {
     "name": "stdout",
     "output_type": "stream",
     "text": [
      "  3.753 ms (2 allocations: 176 bytes)\n",
      "  2.690 ms (1445 allocations: 125.56 KiB)\n"
     ]
    }
   ],
   "source": [
    "@btime map(sum, M);\n",
    "@btime map(sum, D);"
   ]
  },
  {
   "cell_type": "markdown",
   "metadata": {},
   "source": [
    "Other nice demonstration of distributed arrays: [Parallel loading and processing of large files](https://www.youtube.com/watch?v=euZkvgx0fG8&t=3925s)"
   ]
  },
  {
   "cell_type": "code",
   "execution_count": 128,
   "metadata": {},
   "outputs": [
    {
     "data": {
      "text/plain": [
       "Task (done) @0x00000000101a5150"
      ]
     },
     "execution_count": 128,
     "metadata": {},
     "output_type": "execute_result"
    }
   ],
   "source": [
    "# Stop worker processes!\n",
    "rmprocs(workers())"
   ]
  },
  {
   "cell_type": "markdown",
   "metadata": {},
   "source": [
    "# Workshop exercise - Monte Carlo calculation of π"
   ]
  },
  {
   "cell_type": "markdown",
   "metadata": {},
   "source": [
    "Calculate the value of $\\pi$ through parallel direct Monte Carlo.\n",
    "\n",
    "A unit circle is inscribed inside a unit square with side length 2 (from -1 to 1). The area of the circle is $\\pi$, the area of the square is 4, and the ratio is $\\pi/4$. This means that, if you throw $N$ darts randomly at the square, approximately $M=N\\pi/4$ of those darts will land inside the unit circle.\n",
    "\n",
    "Throw darts randomly at a unit square and count how many of them ($M$) landed inside of a unit circle. Approximate $\\pi \\approx 4M/N$. Visualization:"
   ]
  },
  {
   "cell_type": "code",
   "execution_count": 205,
   "metadata": {},
   "outputs": [
    {
     "data": {
      "image/png": "[encoded data removed]",
      "text/plain": [
       "Figure(PyObject <Figure size 640x480 with 1 Axes>)"
      ]
     },
     "metadata": {},
     "output_type": "display_data"
    }
   ],
   "source": [
    "using PyPlot, Distributions\n",
    "\n",
    "# plot circle\n",
    "phis = range(0, stop=2*pi, step=0.01)\n",
    "plot(cos.(phis), sin.(phis))\n",
    "\n",
    "# plot darts\n",
    "N = 400\n",
    "d = Uniform(-1, 1)\n",
    "scatter(rand(d, N), rand(d, N), marker=\".\", color=\"r\")\n",
    "\n",
    "# cosmetics\n",
    "ax = gca()\n",
    "ax[:set_aspect](\"equal\")\n",
    "xlim([-1, 1])\n",
    "ylim([-1, 1])\n",
    "xticks([-1, 0, 1])\n",
    "yticks([-1, 0, 1])\n",
    "nothing"
   ]
  },
  {
   "cell_type": "markdown",
   "metadata": {},
   "source": [
    "Exercise tasks:\n",
    "\n",
    "1. Write a function `compute_pi(N::Int)` which computes $\\pi$ by throwing $N$ darts as described above.\n",
    "\n",
    "\n",
    "2. Based on 1), write a function `compute_pi_parallel(N::Int, nworkers::Int)` which does the same but divides the work among `ncores` processes.\n",
    "\n",
    "\n",
    "3. Benchmark and compare the methods from 1) and 2).\n",
    "\n",
    "\n",
    "4. Write a function `compute_pi_multiple(Ns::Vector{Int})` which computes $\\pi$ for all given $N$ values. The function should be serial and based on 1).\n",
    "\n",
    "\n",
    "5. Write a function `compute_pi_multiple_parallel(Ns::Vector{Int})` which does the same but in parallel. The function should also be based on 1).\n",
    "\n",
    "\n",
    "6. Benchmark and compare the methods from 4) and 5).\n",
    "\n",
    "\n",
    "7. Calculate $\\pi$ estimates for `Ns = ceil.(Int, exp10.(range(1, stop=8, length=50)))`. Plot $\\pi$ vs $N$ on a semi-log plot.\n",
    "\n",
    "\n",
    "8. Bonus: Write a function `compute_pi_multiple_double_parallel(Ns::Vector{Int})` which computes $\\pi$ for all given $N$ values. The calculation should be as parallel as possible. Multiple different values of $N$ should be calculated at the same time and every one of those calculations should be parallel as well.\n",
    "\n",
    "A reasonable value could be `N = 10_000_000`."
   ]
  },
  {
   "cell_type": "code",
   "execution_count": 368,
   "metadata": {},
   "outputs": [
    {
     "name": "stdout",
     "output_type": "stream",
     "text": [
      "  546.380 ms (10000000 allocations: 915.53 MiB)\n"
     ]
    },
    {
     "data": {
      "text/plain": [
       "3.1417112"
      ]
     },
     "execution_count": 368,
     "metadata": {},
     "output_type": "execute_result"
    }
   ],
   "source": [
    "# 1) + 3)\n",
    "function compute_pi(N::Int)\n",
    "    M = 0 # number of darts that landed in the circle\n",
    "    for i = 1:N\n",
    "        if norm(rand(2)) < 1.0\n",
    "            M += 1\n",
    "        end\n",
    "    end\n",
    "\n",
    "    return 4*M / N  \n",
    "end\n",
    "\n",
    "@btime compute_pi(10_000_000) # 55 s for 1 billion"
   ]
  },
  {
   "cell_type": "code",
   "execution_count": 369,
   "metadata": {},
   "outputs": [
    {
     "name": "stdout",
     "output_type": "stream",
     "text": [
      "  135.187 ms (419 allocations: 38.14 KiB)\n"
     ]
    },
    {
     "data": {
      "text/plain": [
       "3.1419736"
      ]
     },
     "execution_count": 369,
     "metadata": {},
     "output_type": "execute_result"
    }
   ],
   "source": [
    "# 2) + 3)\n",
    "nworkers() == 1 ? addprocs(4) : nothing; # check if we have workers, if not add 4 of them\n",
    "\n",
    "@everywhere using LinearAlgebra\n",
    "\n",
    "@everywhere function compute_pi(N::Int)\n",
    "    M = 0 # number of darts that landed in the circle\n",
    "    for i = 1:N\n",
    "        if norm(rand(2)) < 1.0\n",
    "            M += 1\n",
    "        end\n",
    "    end\n",
    "\n",
    "    return 4*M / N  \n",
    "end\n",
    "\n",
    "function compute_pi_parallel(N::Int, nworkers::Int)\n",
    "    # distribute the dart throwing across ncores\n",
    "    sum_of_pis = @distributed (+) for i=1:nworkers\n",
    "        compute_pi(ceil(Int, N / nworkers))\n",
    "    end\n",
    "\n",
    "    return sum_of_pis / nworkers  # average value\n",
    "end\n",
    "\n",
    "@btime compute_pi_parallel(10_000_000, nworkers()) # 13 s for 1 billion"
   ]
  },
  {
   "cell_type": "code",
   "execution_count": 370,
   "metadata": {},
   "outputs": [
    {
     "name": "stdout",
     "output_type": "stream",
     "text": [
      "  621.215 ms (11000001 allocations: 1007.08 MiB)\n"
     ]
    },
    {
     "data": {
      "text/plain": [
       "2-element Array{Float64,1}:\n",
       " 3.143816\n",
       " 3.14097 "
      ]
     },
     "execution_count": 370,
     "metadata": {},
     "output_type": "execute_result"
    }
   ],
   "source": [
    "# 4) + 6)\n",
    "function compute_pi_multiple(Ns::Vector{Int})\n",
    "    pis = zeros(length(Ns))\n",
    "\n",
    "    for i = 1:length(Ns)\n",
    "        pis[i] = compute_pi(Ns[i])\n",
    "    end\n",
    "\n",
    "    return pis\n",
    "end\n",
    "\n",
    "some_Ns = [1_000_000, 10_000_000]\n",
    "\n",
    "@btime compute_pi_multiple(some_Ns)"
   ]
  },
  {
   "cell_type": "code",
   "execution_count": 371,
   "metadata": {},
   "outputs": [
    {
     "name": "stdout",
     "output_type": "stream",
     "text": [
      "  513.333 ms (213 allocations: 35.03 KiB)\n"
     ]
    },
    {
     "data": {
      "text/plain": [
       "2-element Array{Float64,1}:\n",
       " 3.140584\n",
       " 3.142516"
      ]
     },
     "execution_count": 371,
     "metadata": {},
     "output_type": "execute_result"
    }
   ],
   "source": [
    "# 5) + 6)\n",
    "nworkers() == 1 ? addprocs(4) : nothing;\n",
    "\n",
    "@everywhere using LinearAlgebra\n",
    "\n",
    "@everywhere function compute_pi(N::Int)\n",
    "    M = 0 # number of darts that landed in the circle\n",
    "    for i = 1:N\n",
    "        if norm(rand(2)) < 1.0\n",
    "            M += 1\n",
    "        end\n",
    "    end\n",
    "\n",
    "    return 4*M / N  \n",
    "end\n",
    "\n",
    "function compute_pi_multiple_parallel(Ns::Vector{Int})\n",
    "    pmap(compute_pi, Ns)\n",
    "end\n",
    "\n",
    "some_Ns = [1_000_000, 10_000_000]\n",
    "\n",
    "@btime compute_pi_multiple_parallel($some_Ns)"
   ]
  },
  {
   "cell_type": "code",
   "execution_count": 367,
   "metadata": {},
   "outputs": [
    {
     "data": {
      "image/png": "[encoded data removed]",
      "text/plain": [
       "Figure(PyObject <Figure size 640x480 with 1 Axes>)"
      ]
     },
     "metadata": {},
     "output_type": "display_data"
    },
    {
     "name": "stdout",
     "output_type": "stream",
     "text": [
      "  7.855249 seconds (63.95 k allocations: 3.108 MiB)\n"
     ]
    },
    {
     "data": {
      "text/plain": [
       "PyObject Text(0.5,24,'number of dart throws N')"
      ]
     },
     "execution_count": 367,
     "metadata": {},
     "output_type": "execute_result"
    }
   ],
   "source": [
    "# 7)\n",
    "Ns = ceil.(Int, exp10.(range(1, stop=8, length=50)))\n",
    "@time pis = compute_pi_multiple_parallel(Ns)\n",
    "\n",
    "# 4 local processes: ~ 7.8 seconds\n",
    "# 12 processes @ thp cluster: ~ 4.5 seconds\n",
    "\n",
    "semilogx(Ns, pis, \"ko-\", lw=1, label=\"MC\")\n",
    "axhline(y=pi, label=\"π\")\n",
    "legend()\n",
    "ylabel(\"π estimate\")\n",
    "xlabel(\"number of dart throws N\")"
   ]
  },
  {
   "cell_type": "markdown",
   "metadata": {},
   "source": [
    "# If time permits...."
   ]
  },
  {
   "cell_type": "markdown",
   "metadata": {},
   "source": [
    "# SIMD instructions"
   ]
  },
  {
   "cell_type": "markdown",
   "metadata": {},
   "source": [
    "SIMD stands for \"Single Instruction Multiple Data\" and falls into the category of instruction level parallelism (vector instructions).\n",
    "\n",
    "Example based on discussion [here](https://discourse.julialang.org/t/does-julia-use-simd-instructions-for-broadcast-operations/2492/3)."
   ]
  },
  {
   "cell_type": "code",
   "execution_count": 390,
   "metadata": {
    "scrolled": true
   },
   "outputs": [
    {
     "name": "stdout",
     "output_type": "stream",
     "text": [
      "\n",
      "; Function square!\n",
      "; Location: In[390]:2\n",
      "; Function Attrs: uwtable\n",
      "define nonnull %jl_value_t addrspace(10)* @\"japi1_square!_37588\"(%jl_value_t addrspace(10)*, %jl_value_t addrspace(10)**, i32) #0 {\n",
      "top:\n",
      "  %gcframe = alloca %jl_value_t addrspace(10)*, i32 3\n",
      "  %3 = bitcast %jl_value_t addrspace(10)** %gcframe to i8*\n",
      "  call void @llvm.memset.p0i8.i32(i8* %3, i8 0, i32 24, i32 0, i1 false)\n",
      "  %4 = alloca %jl_value_t addrspace(10)**, align 8\n",
      "  store volatile %jl_value_t addrspace(10)** %1, %jl_value_t addrspace(10)*** %4, align 8\n",
      "  %5 = call %jl_value_t*** inttoptr (i64 1801310064 to %jl_value_t*** ()*)() #5\n",
      "  %6 = getelementptr %jl_value_t addrspace(10)*, %jl_value_t addrspace(10)** %gcframe, i32 0\n",
      "  %7 = bitcast %jl_value_t addrspace(10)** %6 to i64*\n",
      "  store i64 2, i64* %7\n",
      "  %8 = getelementptr %jl_value_t**, %jl_value_t*** %5, i32 0\n",
      "  %9 = getelementptr %jl_value_t addrspace(10)*, %jl_value_t addrspace(10)** %gcframe, i32 1\n",
      "  %10 = bitcast %jl_value_t addrspace(10)** %9 to %jl_value_t***\n",
      "  %11 = load %jl_value_t**, %jl_value_t*** %8\n",
      "  store %jl_value_t** %11, %jl_value_t*** %10\n",
      "  %12 = bitcast %jl_value_t*** %8 to %jl_value_t addrspace(10)***\n",
      "  store %jl_value_t addrspace(10)** %gcframe, %jl_value_t addrspace(10)*** %12\n",
      "  %13 = load %jl_value_t addrspace(10)*, %jl_value_t addrspace(10)** %1, align 8\n",
      "  %14 = getelementptr inbounds %jl_value_t addrspace(10)*, %jl_value_t addrspace(10)** %1, i64 1\n",
      "  %15 = load %jl_value_t addrspace(10)*, %jl_value_t addrspace(10)** %14, align 8\n",
      "; Function size; {\n",
      "; Location: array.jl:155\n",
      "  %16 = addrspacecast %jl_value_t addrspace(10)* %13 to %jl_value_t addrspace(11)*\n",
      "  %17 = bitcast %jl_value_t addrspace(11)* %16 to %jl_value_t addrspace(10)* addrspace(11)*\n",
      "  %18 = getelementptr inbounds %jl_value_t addrspace(10)*, %jl_value_t addrspace(10)* addrspace(11)* %17, i64 3\n",
      "  %19 = bitcast %jl_value_t addrspace(10)* addrspace(11)* %18 to i64 addrspace(11)*\n",
      "  %20 = load i64, i64 addrspace(11)* %19, align 8\n",
      "  %21 = addrspacecast %jl_value_t addrspace(10)* %15 to %jl_value_t addrspace(11)*\n",
      "  %22 = bitcast %jl_value_t addrspace(11)* %21 to %jl_value_t addrspace(10)* addrspace(11)*\n",
      "  %23 = getelementptr inbounds %jl_value_t addrspace(10)*, %jl_value_t addrspace(10)* addrspace(11)* %22, i64 3\n",
      "  %24 = bitcast %jl_value_t addrspace(10)* addrspace(11)* %23 to i64 addrspace(11)*\n",
      "  %25 = load i64, i64 addrspace(11)* %24, align 8\n",
      ";}\n",
      "; Function ==; {\n",
      "; Location: tuple.jl:280\n",
      "; Function _eq; {\n",
      "; Location: tuple.jl:284\n",
      "; Function ==; {\n",
      "; Location: promotion.jl:425\n",
      "  %26 = icmp eq i64 %20, %25\n",
      ";}}}\n",
      "  br i1 %26, label %L11, label %L42\n",
      "\n",
      "L11:                                              ; preds = %top\n",
      "; Location: In[390]:3\n",
      "; Function eachindex; {\n",
      "; Location: abstractarray.jl:165\n",
      "; Function axes1; {\n",
      "; Location: abstractarray.jl:93\n",
      "; Function axes; {\n",
      "; Location: abstractarray.jl:75\n",
      "; Function map; {\n",
      "; Location: tuple.jl:162\n",
      "; Function Type; {\n",
      "; Location: range.jl:298\n",
      "; Function Type; {\n",
      "; Location: range.jl:289\n",
      "; Function max; {\n",
      "; Location: promotion.jl:436\n",
      "  %27 = icmp sgt i64 %20, 0\n",
      ";}}}}}}}\n",
      "  br i1 %27, label %L19.L24_crit_edge, label %L41\n",
      "\n",
      "L19.L24_crit_edge:                                ; preds = %L11\n",
      "  %28 = bitcast %jl_value_t addrspace(11)* %21 to i64 addrspace(13)* addrspace(11)*\n",
      "  %29 = load i64 addrspace(13)*, i64 addrspace(13)* addrspace(11)* %28, align 8\n",
      "  %30 = bitcast %jl_value_t addrspace(11)* %16 to i64 addrspace(13)* addrspace(11)*\n",
      "  %31 = load i64 addrspace(13)*, i64 addrspace(13)* addrspace(11)* %30, align 8\n",
      "  %min.iters.check = icmp ult i64 %20, 16\n",
      "  br i1 %min.iters.check, label %scalar.ph, label %vector.memcheck\n",
      "\n",
      "vector.memcheck:                                  ; preds = %L19.L24_crit_edge\n",
      "  %scevgep = getelementptr i64, i64 addrspace(13)* %31, i64 %20\n",
      "  %scevgep12 = getelementptr i64, i64 addrspace(13)* %29, i64 %20\n",
      "  %bound0 = icmp ult i64 addrspace(13)* %31, %scevgep12\n",
      "  %bound1 = icmp ult i64 addrspace(13)* %29, %scevgep\n",
      "  %memcheck.conflict = and i1 %bound0, %bound1\n",
      "  br i1 %memcheck.conflict, label %scalar.ph, label %vector.ph\n",
      "\n",
      "vector.ph:                                        ; preds = %vector.memcheck\n",
      "  %n.vec = and i64 %20, -16\n",
      "  %ind.end = or i64 %n.vec, 1\n",
      "  br label %vector.body\n",
      "\n",
      "vector.body:                                      ; preds = %vector.body, %vector.ph\n",
      "  %index = phi i64 [ 0, %vector.ph ], [ %index.next, %vector.body ]\n",
      "  %offset.idx = or i64 %index, 1\n",
      "; Location: In[390]:4\n",
      "; Function getindex; {\n",
      "; Location: array.jl:731\n",
      "  %32 = add nsw i64 %offset.idx, -1\n",
      "  %33 = getelementptr inbounds i64, i64 addrspace(13)* %29, i64 %32\n",
      "  %34 = bitcast i64 addrspace(13)* %33 to <4 x i64> addrspace(13)*\n",
      "  %wide.load = load <4 x i64>, <4 x i64> addrspace(13)* %34, align 8\n",
      "  %35 = getelementptr i64, i64 addrspace(13)* %33, i64 4\n",
      "  %36 = bitcast i64 addrspace(13)* %35 to <4 x i64> addrspace(13)*\n",
      "  %wide.load17 = load <4 x i64>, <4 x i64> addrspace(13)* %36, align 8\n",
      "  %37 = getelementptr i64, i64 addrspace(13)* %33, i64 8\n",
      "  %38 = bitcast i64 addrspace(13)* %37 to <4 x i64> addrspace(13)*\n",
      "  %wide.load18 = load <4 x i64>, <4 x i64> addrspace(13)* %38, align 8\n",
      "  %39 = getelementptr i64, i64 addrspace(13)* %33, i64 12\n",
      "  %40 = bitcast i64 addrspace(13)* %39 to <4 x i64> addrspace(13)*\n",
      "  %wide.load19 = load <4 x i64>, <4 x i64> addrspace(13)* %40, align 8\n",
      ";}\n",
      "; Function *; {\n",
      "; Location: int.jl:54\n",
      "  %41 = mul <4 x i64> %wide.load, %wide.load\n",
      "  %42 = mul <4 x i64> %wide.load17, %wide.load17\n",
      "  %43 = mul <4 x i64> %wide.load18, %wide.load18\n",
      "  %44 = mul <4 x i64> %wide.load19, %wide.load19\n",
      ";}\n",
      "; Function setindex!; {\n",
      "; Location: array.jl:769\n",
      "  %45 = getelementptr inbounds i64, i64 addrspace(13)* %31, i64 %32\n",
      "  %46 = bitcast i64 addrspace(13)* %45 to <4 x i64> addrspace(13)*\n",
      "  store <4 x i64> %41, <4 x i64> addrspace(13)* %46, align 8\n",
      "  %47 = getelementptr i64, i64 addrspace(13)* %45, i64 4\n",
      "  %48 = bitcast i64 addrspace(13)* %47 to <4 x i64> addrspace(13)*\n",
      "  store <4 x i64> %42, <4 x i64> addrspace(13)* %48, align 8\n",
      "  %49 = getelementptr i64, i64 addrspace(13)* %45, i64 8\n",
      "  %50 = bitcast i64 addrspace(13)* %49 to <4 x i64> addrspace(13)*\n",
      "  store <4 x i64> %43, <4 x i64> addrspace(13)* %50, align 8\n",
      "  %51 = getelementptr i64, i64 addrspace(13)* %45, i64 12\n",
      "  %52 = bitcast i64 addrspace(13)* %51 to <4 x i64> addrspace(13)*\n",
      "  store <4 x i64> %44, <4 x i64> addrspace(13)* %52, align 8\n",
      "  %index.next = add i64 %index, 16\n",
      "  %53 = icmp eq i64 %index.next, %n.vec\n",
      "  br i1 %53, label %middle.block, label %vector.body\n",
      "\n",
      "middle.block:                                     ; preds = %vector.body\n",
      "  %cmp.n = icmp eq i64 %20, %n.vec\n",
      ";}\n",
      "; Location: In[390]:3\n",
      "  br i1 %cmp.n, label %L41, label %scalar.ph\n",
      "\n",
      "scalar.ph:                                        ; preds = %middle.block, %vector.memcheck, %L19.L24_crit_edge\n",
      "  %bc.resume.val = phi i64 [ %ind.end, %middle.block ], [ 1, %L19.L24_crit_edge ], [ 1, %vector.memcheck ]\n",
      "  br label %L24\n",
      "\n",
      "L24:                                              ; preds = %L24, %scalar.ph\n",
      "  %value_phi4 = phi i64 [ %bc.resume.val, %scalar.ph ], [ %60, %L24 ]\n",
      "; Location: In[390]:4\n",
      "; Function getindex; {\n",
      "; Location: array.jl:731\n",
      "  %54 = add nsw i64 %value_phi4, -1\n",
      "  %55 = getelementptr inbounds i64, i64 addrspace(13)* %29, i64 %54\n",
      "  %56 = load i64, i64 addrspace(13)* %55, align 8\n",
      ";}\n",
      "; Function *; {\n",
      "; Location: int.jl:54\n",
      "  %57 = mul i64 %56, %56\n",
      ";}\n",
      "; Function setindex!; {\n",
      "; Location: array.jl:769\n",
      "  %58 = getelementptr inbounds i64, i64 addrspace(13)* %31, i64 %54\n",
      "  store i64 %57, i64 addrspace(13)* %58, align 8\n",
      ";}\n",
      "; Function iterate; {\n",
      "; Location: range.jl:575\n",
      "; Function ==; {\n",
      "; Location: promotion.jl:425\n",
      "  %59 = icmp eq i64 %value_phi4, %20\n",
      ";}\n",
      "; Location: range.jl:576\n",
      "; Function +; {\n",
      "; Location: int.jl:53\n",
      "  %60 = add nuw i64 %value_phi4, 1\n",
      ";}}\n",
      "  br i1 %59, label %L41, label %L24\n",
      "\n",
      "L41:                                              ; preds = %L24, %middle.block, %L11\n",
      "  %61 = getelementptr %jl_value_t addrspace(10)*, %jl_value_t addrspace(10)** %gcframe, i32 1\n",
      "  %62 = load %jl_value_t addrspace(10)*, %jl_value_t addrspace(10)** %61\n",
      "  %63 = getelementptr %jl_value_t**, %jl_value_t*** %5, i32 0\n",
      "  %64 = bitcast %jl_value_t*** %63 to %jl_value_t addrspace(10)**\n",
      "  store %jl_value_t addrspace(10)* %62, %jl_value_t addrspace(10)** %64\n",
      "  ret %jl_value_t addrspace(10)* addrspacecast (%jl_value_t* inttoptr (i64 291438600 to %jl_value_t*) to %jl_value_t addrspace(10)*)\n",
      "\n",
      "L42:                                              ; preds = %top\n",
      "; Location: In[390]:2\n",
      "; Function Type; {\n",
      "; Location: boot.jl:292\n",
      "  %65 = bitcast %jl_value_t*** %5 to i8*\n",
      "  %66 = call noalias nonnull %jl_value_t addrspace(10)* @jl_gc_pool_alloc(i8* %65, i32 1488, i32 16) #1\n",
      "  %67 = bitcast %jl_value_t addrspace(10)* %66 to %jl_value_t addrspace(10)* addrspace(10)*\n",
      "  %68 = getelementptr %jl_value_t addrspace(10)*, %jl_value_t addrspace(10)* addrspace(10)* %67, i64 -1\n",
      "  store %jl_value_t addrspace(10)* addrspacecast (%jl_value_t* inttoptr (i64 81657056 to %jl_value_t*) to %jl_value_t addrspace(10)*), %jl_value_t addrspace(10)* addrspace(10)* %68\n",
      "  %69 = bitcast %jl_value_t addrspace(10)* %66 to %jl_value_t addrspace(10)* addrspace(10)*\n",
      "  store %jl_value_t addrspace(10)* addrspacecast (%jl_value_t* inttoptr (i64 236035728 to %jl_value_t*) to %jl_value_t addrspace(10)*), %jl_value_t addrspace(10)* addrspace(10)* %69, align 8\n",
      ";}\n",
      "  %70 = addrspacecast %jl_value_t addrspace(10)* %66 to %jl_value_t addrspace(12)*\n",
      "  %71 = getelementptr %jl_value_t addrspace(10)*, %jl_value_t addrspace(10)** %gcframe, i32 2\n",
      "  store %jl_value_t addrspace(10)* %66, %jl_value_t addrspace(10)** %71\n",
      "  call void @jl_throw(%jl_value_t addrspace(12)* %70)\n",
      "  unreachable\n",
      "}\n"
     ]
    }
   ],
   "source": [
    "function square!(c::Array, x::Array)\n",
    "   @assert size(c) == size(x)\n",
    "   @simd for i in eachindex(x) # tells the compiler that the iterations are independent (not necessary here)\n",
    "       @inbounds c[i] = x[i] * x[i]\n",
    "   end\n",
    "end\n",
    "\n",
    "X = rand(Int, 1000);\n",
    "Y = rand(Int, 1000);\n",
    "\n",
    "@code_llvm square!(X, Y)"
   ]
  },
  {
   "cell_type": "markdown",
   "metadata": {},
   "source": [
    "(Un)fortunately, Julia 0.7/1.0 is too clever and uses SIMD instructions automatically. This is what you would have gotten on Julia 0.6.4 without `@simd` if you didn't compile from source (binaries from the website):\n",
    "```\n",
    "; Function Attrs: uwtable\n",
    "define void @\"julia_square!_63091\"(i8** dereferenceable(40), i8** dereferenceable(40)) #0 !dbg !5 {\n",
    "top:\n",
    "  %2 = alloca [1 x i64], align 8\n",
    "  %3 = alloca [1 x i64], align 8\n",
    "  %4 = call i8**** @jl_get_ptls_states() #6\n",
    "  %5 = alloca [9 x i8**], align 8\n",
    "  %.sub = getelementptr inbounds [9 x i8**], [9 x i8**]* %5, i64 0, i64 0\n",
    "  %6 = getelementptr [9 x i8**], [9 x i8**]* %5, i64 0, i64 3\n",
    "  %7 = getelementptr [9 x i8**], [9 x i8**]* %5, i64 0, i64 2\n",
    "  %8 = bitcast i8*** %6 to i8*\n",
    "  call void @llvm.memset.p0i8.i32(i8* %8, i8 0, i32 48, i32 8, i1 false)\n",
    "  %9 = bitcast [9 x i8**]* %5 to i64*\n",
    "  store i64 14, i64* %9, align 8\n",
    "  %10 = getelementptr [9 x i8**], [9 x i8**]* %5, i64 0, i64 1\n",
    "  %11 = bitcast i8**** %4 to i64*\n",
    "  %12 = load i64, i64* %11, align 8\n",
    "  %13 = bitcast i8*** %10 to i64*\n",
    "  store i64 %12, i64* %13, align 8\n",
    "  store i8*** %.sub, i8**** %4, align 8\n",
    "  store i8** null, i8*** %7, align 8\n",
    "  %14 = getelementptr i8*, i8** %0, i64 3\n",
    "  %15 = bitcast i8** %14 to i64*\n",
    "  %16 = load i64, i64* %15, align 8\n",
    "  %17 = getelementptr inbounds [1 x i64], [1 x i64]* %3, i64 0, i64 0\n",
    "  store i64 %16, i64* %17, align 8\n",
    "  %18 = getelementptr i8*, i8** %1, i64 3\n",
    "  %19 = bitcast i8** %18 to i64*\n",
    "  %20 = load i64, i64* %19, align 8\n",
    "  %21 = getelementptr inbounds [1 x i64], [1 x i64]* %2, i64 0, i64 0\n",
    "  store i64 %20, i64* %21, align 8\n",
    "  %22 = call i8 @\"jlsys_==_40845\"([1 x i64]* nocapture nonnull readonly %3, [1 x i64]* nocapture nonnull readonly %2)\n",
    "  %23 = and i8 %22, 1\n",
    "  %24 = icmp eq i8 %23, 0\n",
    "  br i1 %24, label %L3, label %L5\n",
    "\n",
    "L3:                                               ; preds = %top\n",
    "  %25 = getelementptr [9 x i8**], [9 x i8**]* %5, i64 0, i64 7\n",
    "  %26 = getelementptr [9 x i8**], [9 x i8**]* %5, i64 0, i64 5\n",
    "  %27 = getelementptr [9 x i8**], [9 x i8**]* %5, i64 0, i64 4\n",
    "  %28 = getelementptr [9 x i8**], [9 x i8**]* %5, i64 0, i64 8\n",
    "  %29 = getelementptr [9 x i8**], [9 x i8**]* %5, i64 0, i64 6\n",
    "  %30 = load i64, i64* inttoptr (i64 166019912 to i64*), align 8\n",
    "  %31 = bitcast i8*** %6 to i64*\n",
    "  store i64 %30, i64* %31, align 8\n",
    "  store i8** inttoptr (i64 180565928 to i8**), i8*** %27, align 8\n",
    "  %32 = call i8** @jl_f_getfield(i8** null, i8*** %6, i32 2)\n",
    "  store i8** %32, i8*** %25, align 8\n",
    "  store i8** inttoptr (i64 180570712 to i8**), i8*** %28, align 8\n",
    "  %33 = call i8** @jl_f_getfield(i8** null, i8*** %25, i32 2)\n",
    "  store i8** %33, i8*** %26, align 8\n",
    "  store i8** inttoptr (i64 180203664 to i8**), i8*** %29, align 8\n",
    "  %34 = call i8** @jl_apply_generic(i8*** %26, i32 2)\n",
    "  store i8** %34, i8*** %7, align 8\n",
    "  call void @jl_throw(i8** %34)\n",
    "  unreachable\n",
    "\n",
    "L5:                                               ; preds = %top\n",
    "  %35 = load i64, i64* %19, align 8\n",
    "  %36 = icmp slt i64 %35, 0\n",
    "  %37 = select i1 %36, i64 0, i64 %35\n",
    "  %38 = icmp slt i64 %37, 1\n",
    "  br i1 %38, label %L66, label %if4.lr.ph.us11\n",
    "\n",
    "if4.lr.ph.us11:                                   ; preds = %L5\n",
    "  %39 = bitcast i8** %1 to i64**\n",
    "  %40 = load i64*, i64** %39, align 8\n",
    "  %41 = bitcast i8** %0 to i64**\n",
    "  %42 = load i64*, i64** %41, align 8\n",
    "  br label %if4.us12\n",
    "\n",
    "if4.us12:                                         ; preds = %if4.us12, %if4.lr.ph.us11\n",
    "  %\"i#664.06.us13\" = phi i64 [ 0, %if4.lr.ph.us11 ], [ %47, %if4.us12 ]\n",
    "  %43 = getelementptr i64, i64* %40, i64 %\"i#664.06.us13\"\n",
    "  %44 = load i64, i64* %43, align 8\n",
    "  %45 = mul i64 %44, %44\n",
    "  %46 = getelementptr i64, i64* %42, i64 %\"i#664.06.us13\"\n",
    "  store i64 %45, i64* %46, align 8\n",
    "  %47 = add nuw nsw i64 %\"i#664.06.us13\", 1\n",
    "  %48 = icmp slt i64 %47, %37\n",
    "  br i1 %48, label %if4.us12, label %L66.loopexit\n",
    "\n",
    "L66.loopexit:                                     ; preds = %if4.us12\n",
    "  br label %L66\n",
    "\n",
    "L66:                                              ; preds = %L66.loopexit, %L5\n",
    "  %49 = load i64, i64* %13, align 8\n",
    "  store i64 %49, i64* %11, align 8\n",
    "  ret void\n",
    "}\n",
    "```"
   ]
  },
  {
   "cell_type": "markdown",
   "metadata": {},
   "source": [
    "**\"Benchmark\"**"
   ]
  },
  {
   "cell_type": "markdown",
   "metadata": {},
   "source": [
    "**Julia 0.6.4 binaries (no SIMD)**\n",
    "\n",
    "```\n",
    "@btime square!($X,$Y);\n",
    "  408.869 ns (0 allocations: 0 bytes)\n",
    "```\n",
    "\n",
    "**Julia 0.6.4 binaries (SIMD)**\n",
    "\n",
    "```\n",
    "@btime square!($X,$Y);\n",
    "  333.155 ns (0 allocations: 0 bytes)\n",
    "```"
   ]
  },
  {
   "cell_type": "markdown",
   "metadata": {},
   "source": [
    "On Julia 0.6, SIMD instructions lead to ~20-25% faster code in this case."
   ]
  },
  {
   "cell_type": "markdown",
   "metadata": {},
   "source": [
    "**Julia 1.0.0 binaries (SIMD):**"
   ]
  },
  {
   "cell_type": "code",
   "execution_count": 398,
   "metadata": {},
   "outputs": [
    {
     "name": "stdout",
     "output_type": "stream",
     "text": [
      "  197.025 ns (0 allocations: 0 bytes)\n"
     ]
    }
   ],
   "source": [
    "@btime square!($X,$Y);"
   ]
  },
  {
   "cell_type": "markdown",
   "metadata": {},
   "source": [
    "Note that due to other optimizations switching to Julia 1.0 leads to an additional ~ 60% speedup in this case."
   ]
  },
  {
   "cell_type": "markdown",
   "metadata": {},
   "source": [
    "## SIMD: Float vs Int"
   ]
  },
  {
   "cell_type": "code",
   "execution_count": 490,
   "metadata": {},
   "outputs": [
    {
     "data": {
      "text/plain": [
       "mysum (generic function with 1 method)"
      ]
     },
     "execution_count": 490,
     "metadata": {},
     "output_type": "execute_result"
    }
   ],
   "source": [
    "function mysum(X)\n",
    "    acc = zero(eltype(X))\n",
    "    for i in 1:length(X)\n",
    "        @inbounds acc += X[i]\n",
    "    end\n",
    "    return acc\n",
    "end"
   ]
  },
  {
   "cell_type": "markdown",
   "metadata": {},
   "source": [
    "Think about if each loop iteration is independent.\n",
    "\n",
    "Integer addition is **associative** and the order of operations has no impact. Floating-point addition is **non-associative** and the order of operations is important.\n",
    "\n",
    "By using `@simd`, we are asserting several properties of the loop:\n",
    "\n",
    "* It is safe to execute iterations in arbitrary or overlapping order, with special consideration for reduction variables.\n",
    "* Floating-point operations on reduction variables can be reordered, possibly causing different results than without `@simd`."
   ]
  },
  {
   "cell_type": "code",
   "execution_count": 489,
   "metadata": {
    "scrolled": false
   },
   "outputs": [
    {
     "data": {
      "text/plain": [
       "mysum_simd (generic function with 1 method)"
      ]
     },
     "execution_count": 489,
     "metadata": {},
     "output_type": "execute_result"
    }
   ],
   "source": [
    "function mysum_simd(X)\n",
    "    acc = zero(eltype(X))\n",
    "    @simd for i in 1:length(X)\n",
    "        @inbounds acc += X[i]\n",
    "    end\n",
    "    return acc\n",
    "end"
   ]
  },
  {
   "cell_type": "code",
   "execution_count": 471,
   "metadata": {},
   "outputs": [
    {
     "name": "stdout",
     "output_type": "stream",
     "text": [
      "  40.746 ns (0 allocations: 0 bytes)\n",
      "  37.014 ns (0 allocations: 0 bytes)\n"
     ]
    }
   ],
   "source": [
    "X = rand(Int64, 1000)\n",
    "@btime mysum($X);\n",
    "@btime mysum_simd($X);"
   ]
  },
  {
   "cell_type": "code",
   "execution_count": 469,
   "metadata": {},
   "outputs": [
    {
     "name": "stdout",
     "output_type": "stream",
     "text": [
      "  966.125 ns (0 allocations: 0 bytes)\n",
      "  67.309 ns (0 allocations: 0 bytes)\n"
     ]
    }
   ],
   "source": [
    "X = rand(Float64, 1000)\n",
    "@btime mysum($X);\n",
    "@btime mysum_simd($X);"
   ]
  },
  {
   "cell_type": "code",
   "execution_count": 551,
   "metadata": {},
   "outputs": [],
   "source": [
    "X = rand(Float64, 1000)\n",
    "s = mysum(X);\n",
    "s_simd = mysum_simd(X);"
   ]
  },
  {
   "cell_type": "code",
   "execution_count": 552,
   "metadata": {},
   "outputs": [
    {
     "data": {
      "text/plain": [
       "false"
      ]
     },
     "execution_count": 552,
     "metadata": {},
     "output_type": "execute_result"
    }
   ],
   "source": [
    "s == s_simd # will sometimes be false!!!"
   ]
  },
  {
   "cell_type": "code",
   "execution_count": 553,
   "metadata": {},
   "outputs": [
    {
     "data": {
      "text/plain": [
       "1.7053025658242404e-13"
      ]
     },
     "execution_count": 553,
     "metadata": {},
     "output_type": "execute_result"
    }
   ],
   "source": [
    "abs(s-s_simd)"
   ]
  },
  {
   "cell_type": "markdown",
   "metadata": {},
   "source": [
    "# Multi-threading"
   ]
  },
  {
   "cell_type": "markdown",
   "metadata": {},
   "source": [
    "On Linux/MacOS:\n",
    "\n",
    "```bash\n",
    "export JULIA_NUM_THREADS=4\n",
    "```\n",
    "\n",
    "On Windows:\n",
    "\n",
    "```bash\n",
    "set JULIA_NUM_THREADS=4\n",
    "```\n",
    "\n",
    "Afterwards start julia."
   ]
  },
  {
   "cell_type": "markdown",
   "metadata": {},
   "source": [
    "*Switching to REPL to demonstrate this...*"
   ]
  },
  {
   "cell_type": "markdown",
   "metadata": {},
   "source": [
    "```julia\n",
    "using Base.Threads\n",
    "\n",
    "# How many threads are we running on?\n",
    "nthreads()\n",
    "\n",
    "# How many processes are we running?\n",
    "using Distributed; nprocs()\n",
    "\n",
    "# Fill an array in parallel\n",
    "a = zeros(nthreads()*10)\n",
    "@threads for i in 1:length(a)\n",
    "    a[i] = threadid()\n",
    "end\n",
    "```\n",
    "\n",
    "Note that we do not need to use a `SharedArray` or similar here since threads are process shared memory. Although convenient in this example, this fact can potentially lead to *thread safety* and *race condition* issues where different threads access the same piece of memory. Writing fast thread safe code isn't trivial!\n",
    "\n",
    "See for example the sections [Atomic Operations](https://docs.julialang.org/en/stable/manual/parallel-computing/#Atomic-Operations-1) and [Side effects and mutable function arguments](https://docs.julialang.org/en/stable/manual/parallel-computing/#Side-effects-and-mutable-function-arguments-1) of the Julia documentation."
   ]
  },
  {
   "cell_type": "markdown",
   "metadata": {},
   "source": [
    "# MPI.jl"
   ]
  },
  {
   "cell_type": "markdown",
   "metadata": {},
   "source": [
    "Simple wrapper to the Message Passing Interface (MPI).\n",
    "\n",
    "Github: https://github.com/JuliaParallel/MPI.jl\n",
    "\n",
    "Example usage:\n",
    "\n",
    "```julia\n",
    "import MPI\n",
    "\n",
    "MPI.Init()\n",
    "\n",
    "comm = MPI.COMM_WORLD\n",
    "MPI.Barrier(comm)\n",
    "\n",
    "root = 0\n",
    "r = MPI.Comm_rank(comm)\n",
    "\n",
    "sr = MPI.Reduce(r, MPI.SUM, root, comm)\n",
    "\n",
    "if(MPI.Comm_rank(comm) == root)\n",
    "   @printf(\"sum of ranks: %s\\n\", sr)\n",
    "end\n",
    "\n",
    "MPI.Finalize()\n",
    "```\n",
    "\n",
    "Run as\n",
    "```\n",
    "mpirun -np 4 ./julia example.jl\n",
    "```"
   ]
  },
  {
   "cell_type": "code",
   "execution_count": null,
   "metadata": {},
   "outputs": [],
   "source": []
  }
 ],
 "metadata": {
  "kernelspec": {
   "display_name": "Julia 1.1.0",
   "language": "julia",
   "name": "julia-1.1"
  },
  "language_info": {
   "file_extension": ".jl",
   "mimetype": "application/julia",
   "name": "julia",
   "version": "1.1.0"
  }
 },
 "nbformat": 4,
 "nbformat_minor": 2
}
